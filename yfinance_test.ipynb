{
 "cells": [
  {
   "cell_type": "code",
   "execution_count": 5,
   "metadata": {
    "collapsed": true
   },
   "outputs": [],
   "source": [
    "'''\n",
    "\tyfinance 사용시 가상환경에서 인스톨\n",
    "\thttps://github.com/ranaroussi/yfinance 참고\n",
    "\n",
    "\tpip install yfinance\n",
    "'''\n",
    "import yfinance as yf"
   ]
  },
  {
   "cell_type": "code",
   "execution_count": 18,
   "outputs": [
    {
     "name": "stdout",
     "output_type": "stream",
     "text": [
      "[*********************100%***********************]  1 of 1 completed\n"
     ]
    },
    {
     "data": {
      "text/plain": "               Open     High      Low    Close     Adj Close     Volume\nDate                                                                   \n2000-10-26   2930.0   3030.0   2740.0   2890.0   2171.953613  133290000\n2000-10-27   2890.0   2890.0   2890.0   2890.0   2171.953613          0\n2000-10-30   2800.0   2880.0   2720.0   2750.0   2066.737549   36830000\n2000-10-31   2750.0   2850.0   2630.0   2850.0   2141.893066   63190000\n2000-11-01   3000.0   3270.0   2960.0   3260.0   2450.024414   94165000\n...             ...      ...      ...      ...           ...        ...\n2022-10-28  58900.0  59200.0  57200.0  57300.0  57300.000000   20924937\n2022-10-31  58100.0  59900.0  58000.0  59400.0  59400.000000   18999514\n2022-11-01  59900.0  60300.0  59500.0  60000.0  60000.000000   17201647\n2022-11-02  59700.0  60000.0  59300.0  59600.0  59600.000000   13202919\n2022-11-03  58600.0  59800.0  58100.0  59200.0  59200.000000   17339759\n\n[5520 rows x 6 columns]",
      "text/html": "<div>\n<style scoped>\n    .dataframe tbody tr th:only-of-type {\n        vertical-align: middle;\n    }\n\n    .dataframe tbody tr th {\n        vertical-align: top;\n    }\n\n    .dataframe thead th {\n        text-align: right;\n    }\n</style>\n<table border=\"1\" class=\"dataframe\">\n  <thead>\n    <tr style=\"text-align: right;\">\n      <th></th>\n      <th>Open</th>\n      <th>High</th>\n      <th>Low</th>\n      <th>Close</th>\n      <th>Adj Close</th>\n      <th>Volume</th>\n    </tr>\n    <tr>\n      <th>Date</th>\n      <th></th>\n      <th></th>\n      <th></th>\n      <th></th>\n      <th></th>\n      <th></th>\n    </tr>\n  </thead>\n  <tbody>\n    <tr>\n      <th>2000-10-26</th>\n      <td>2930.0</td>\n      <td>3030.0</td>\n      <td>2740.0</td>\n      <td>2890.0</td>\n      <td>2171.953613</td>\n      <td>133290000</td>\n    </tr>\n    <tr>\n      <th>2000-10-27</th>\n      <td>2890.0</td>\n      <td>2890.0</td>\n      <td>2890.0</td>\n      <td>2890.0</td>\n      <td>2171.953613</td>\n      <td>0</td>\n    </tr>\n    <tr>\n      <th>2000-10-30</th>\n      <td>2800.0</td>\n      <td>2880.0</td>\n      <td>2720.0</td>\n      <td>2750.0</td>\n      <td>2066.737549</td>\n      <td>36830000</td>\n    </tr>\n    <tr>\n      <th>2000-10-31</th>\n      <td>2750.0</td>\n      <td>2850.0</td>\n      <td>2630.0</td>\n      <td>2850.0</td>\n      <td>2141.893066</td>\n      <td>63190000</td>\n    </tr>\n    <tr>\n      <th>2000-11-01</th>\n      <td>3000.0</td>\n      <td>3270.0</td>\n      <td>2960.0</td>\n      <td>3260.0</td>\n      <td>2450.024414</td>\n      <td>94165000</td>\n    </tr>\n    <tr>\n      <th>...</th>\n      <td>...</td>\n      <td>...</td>\n      <td>...</td>\n      <td>...</td>\n      <td>...</td>\n      <td>...</td>\n    </tr>\n    <tr>\n      <th>2022-10-28</th>\n      <td>58900.0</td>\n      <td>59200.0</td>\n      <td>57200.0</td>\n      <td>57300.0</td>\n      <td>57300.000000</td>\n      <td>20924937</td>\n    </tr>\n    <tr>\n      <th>2022-10-31</th>\n      <td>58100.0</td>\n      <td>59900.0</td>\n      <td>58000.0</td>\n      <td>59400.0</td>\n      <td>59400.000000</td>\n      <td>18999514</td>\n    </tr>\n    <tr>\n      <th>2022-11-01</th>\n      <td>59900.0</td>\n      <td>60300.0</td>\n      <td>59500.0</td>\n      <td>60000.0</td>\n      <td>60000.000000</td>\n      <td>17201647</td>\n    </tr>\n    <tr>\n      <th>2022-11-02</th>\n      <td>59700.0</td>\n      <td>60000.0</td>\n      <td>59300.0</td>\n      <td>59600.0</td>\n      <td>59600.000000</td>\n      <td>13202919</td>\n    </tr>\n    <tr>\n      <th>2022-11-03</th>\n      <td>58600.0</td>\n      <td>59800.0</td>\n      <td>58100.0</td>\n      <td>59200.0</td>\n      <td>59200.000000</td>\n      <td>17339759</td>\n    </tr>\n  </tbody>\n</table>\n<p>5520 rows × 6 columns</p>\n</div>"
     },
     "execution_count": 18,
     "metadata": {},
     "output_type": "execute_result"
    }
   ],
   "source": [
    "# 삼성전자 주식 정보\n",
    "# 과거 데이터 1분 단위는 1주일치까만 지져와짐\n",
    "# 일별은 무제한으로 가겨와짐\n",
    "yf.download('005930.KS', start='2000-10-26')  # 일봉 예시"
   ],
   "metadata": {
    "collapsed": false
   }
  },
  {
   "cell_type": "code",
   "execution_count": 17,
   "outputs": [
    {
     "name": "stdout",
     "output_type": "stream",
     "text": [
      "[*********************100%***********************]  1 of 1 completed\n"
     ]
    },
    {
     "data": {
      "text/plain": "                        Open     High      Low    Close  Adj Close  Volume\nDatetime                                                                  \n2022-11-01 09:00:00  59900.0  60000.0  59800.0  59900.0    59900.0       0\n2022-11-01 09:01:00  59900.0  60000.0  59700.0  59700.0    59700.0  346807\n2022-11-01 09:02:00  59700.0  59800.0  59600.0  59700.0    59700.0  144264\n2022-11-01 09:03:00  59700.0  59700.0  59600.0  59600.0    59600.0   75893\n2022-11-01 09:04:00  59600.0  59800.0  59600.0  59700.0    59700.0  119364\n...                      ...      ...      ...      ...        ...     ...\n2022-11-03 14:56:00  59700.0  59700.0  59600.0  59700.0    59700.0    9714\n2022-11-03 14:57:00  59700.0  59700.0  59500.0  59500.0    59500.0   86828\n2022-11-03 14:58:00  59600.0  59600.0  59500.0  59600.0    59600.0   11637\n2022-11-03 14:59:00  59600.0  59600.0  59500.0  59600.0    59600.0    8559\n2022-11-03 15:00:00  59200.0  59200.0  59200.0  59200.0    59200.0       0\n\n[1081 rows x 6 columns]",
      "text/html": "<div>\n<style scoped>\n    .dataframe tbody tr th:only-of-type {\n        vertical-align: middle;\n    }\n\n    .dataframe tbody tr th {\n        vertical-align: top;\n    }\n\n    .dataframe thead th {\n        text-align: right;\n    }\n</style>\n<table border=\"1\" class=\"dataframe\">\n  <thead>\n    <tr style=\"text-align: right;\">\n      <th></th>\n      <th>Open</th>\n      <th>High</th>\n      <th>Low</th>\n      <th>Close</th>\n      <th>Adj Close</th>\n      <th>Volume</th>\n    </tr>\n    <tr>\n      <th>Datetime</th>\n      <th></th>\n      <th></th>\n      <th></th>\n      <th></th>\n      <th></th>\n      <th></th>\n    </tr>\n  </thead>\n  <tbody>\n    <tr>\n      <th>2022-11-01 09:00:00</th>\n      <td>59900.0</td>\n      <td>60000.0</td>\n      <td>59800.0</td>\n      <td>59900.0</td>\n      <td>59900.0</td>\n      <td>0</td>\n    </tr>\n    <tr>\n      <th>2022-11-01 09:01:00</th>\n      <td>59900.0</td>\n      <td>60000.0</td>\n      <td>59700.0</td>\n      <td>59700.0</td>\n      <td>59700.0</td>\n      <td>346807</td>\n    </tr>\n    <tr>\n      <th>2022-11-01 09:02:00</th>\n      <td>59700.0</td>\n      <td>59800.0</td>\n      <td>59600.0</td>\n      <td>59700.0</td>\n      <td>59700.0</td>\n      <td>144264</td>\n    </tr>\n    <tr>\n      <th>2022-11-01 09:03:00</th>\n      <td>59700.0</td>\n      <td>59700.0</td>\n      <td>59600.0</td>\n      <td>59600.0</td>\n      <td>59600.0</td>\n      <td>75893</td>\n    </tr>\n    <tr>\n      <th>2022-11-01 09:04:00</th>\n      <td>59600.0</td>\n      <td>59800.0</td>\n      <td>59600.0</td>\n      <td>59700.0</td>\n      <td>59700.0</td>\n      <td>119364</td>\n    </tr>\n    <tr>\n      <th>...</th>\n      <td>...</td>\n      <td>...</td>\n      <td>...</td>\n      <td>...</td>\n      <td>...</td>\n      <td>...</td>\n    </tr>\n    <tr>\n      <th>2022-11-03 14:56:00</th>\n      <td>59700.0</td>\n      <td>59700.0</td>\n      <td>59600.0</td>\n      <td>59700.0</td>\n      <td>59700.0</td>\n      <td>9714</td>\n    </tr>\n    <tr>\n      <th>2022-11-03 14:57:00</th>\n      <td>59700.0</td>\n      <td>59700.0</td>\n      <td>59500.0</td>\n      <td>59500.0</td>\n      <td>59500.0</td>\n      <td>86828</td>\n    </tr>\n    <tr>\n      <th>2022-11-03 14:58:00</th>\n      <td>59600.0</td>\n      <td>59600.0</td>\n      <td>59500.0</td>\n      <td>59600.0</td>\n      <td>59600.0</td>\n      <td>11637</td>\n    </tr>\n    <tr>\n      <th>2022-11-03 14:59:00</th>\n      <td>59600.0</td>\n      <td>59600.0</td>\n      <td>59500.0</td>\n      <td>59600.0</td>\n      <td>59600.0</td>\n      <td>8559</td>\n    </tr>\n    <tr>\n      <th>2022-11-03 15:00:00</th>\n      <td>59200.0</td>\n      <td>59200.0</td>\n      <td>59200.0</td>\n      <td>59200.0</td>\n      <td>59200.0</td>\n      <td>0</td>\n    </tr>\n  </tbody>\n</table>\n<p>1081 rows × 6 columns</p>\n</div>"
     },
     "execution_count": 17,
     "metadata": {},
     "output_type": "execute_result"
    }
   ],
   "source": [
    "yf.download('005930.KS', start='2022-11-01', interval='1m')  # 분봉 예시"
   ],
   "metadata": {
    "collapsed": false
   }
  },
  {
   "cell_type": "code",
   "execution_count": null,
   "outputs": [],
   "source": [],
   "metadata": {
    "collapsed": false
   }
  }
 ],
 "metadata": {
  "kernelspec": {
   "display_name": "Python 3",
   "language": "python",
   "name": "python3"
  },
  "language_info": {
   "codemirror_mode": {
    "name": "ipython",
    "version": 2
   },
   "file_extension": ".py",
   "mimetype": "text/x-python",
   "name": "python",
   "nbconvert_exporter": "python",
   "pygments_lexer": "ipython2",
   "version": "2.7.6"
  }
 },
 "nbformat": 4,
 "nbformat_minor": 0
}
