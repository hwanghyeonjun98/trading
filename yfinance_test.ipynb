{
 "cells": [
  {
   "cell_type": "code",
   "execution_count": 7,
   "metadata": {
    "collapsed": true
   },
   "outputs": [],
   "source": [
    "'''\n",
    "\tyfinance 사용시 가상환경에서 인스톨\n",
    "\thttps://github.com/ranaroussi/yfinance 참고\n",
    "\n",
    "\tpip install yfinance\n",
    "'''\n",
    "import yfinance as yf\n",
    "import numpy as np\n",
    "import pandas as pd\n",
    "import re"
   ]
  },
  {
   "cell_type": "code",
   "execution_count": 18,
   "outputs": [
    {
     "name": "stdout",
     "output_type": "stream",
     "text": [
      "[*********************100%***********************]  1 of 1 completed\n"
     ]
    },
    {
     "data": {
      "text/plain": "               Open     High      Low    Close     Adj Close     Volume\nDate                                                                   \n2000-10-26   2930.0   3030.0   2740.0   2890.0   2171.953613  133290000\n2000-10-27   2890.0   2890.0   2890.0   2890.0   2171.953613          0\n2000-10-30   2800.0   2880.0   2720.0   2750.0   2066.737549   36830000\n2000-10-31   2750.0   2850.0   2630.0   2850.0   2141.893066   63190000\n2000-11-01   3000.0   3270.0   2960.0   3260.0   2450.024414   94165000\n...             ...      ...      ...      ...           ...        ...\n2022-10-28  58900.0  59200.0  57200.0  57300.0  57300.000000   20924937\n2022-10-31  58100.0  59900.0  58000.0  59400.0  59400.000000   18999514\n2022-11-01  59900.0  60300.0  59500.0  60000.0  60000.000000   17201647\n2022-11-02  59700.0  60000.0  59300.0  59600.0  59600.000000   13202919\n2022-11-03  58600.0  59800.0  58100.0  59200.0  59200.000000   17339759\n\n[5520 rows x 6 columns]",
      "text/html": "<div>\n<style scoped>\n    .dataframe tbody tr th:only-of-type {\n        vertical-align: middle;\n    }\n\n    .dataframe tbody tr th {\n        vertical-align: top;\n    }\n\n    .dataframe thead th {\n        text-align: right;\n    }\n</style>\n<table border=\"1\" class=\"dataframe\">\n  <thead>\n    <tr style=\"text-align: right;\">\n      <th></th>\n      <th>Open</th>\n      <th>High</th>\n      <th>Low</th>\n      <th>Close</th>\n      <th>Adj Close</th>\n      <th>Volume</th>\n    </tr>\n    <tr>\n      <th>Date</th>\n      <th></th>\n      <th></th>\n      <th></th>\n      <th></th>\n      <th></th>\n      <th></th>\n    </tr>\n  </thead>\n  <tbody>\n    <tr>\n      <th>2000-10-26</th>\n      <td>2930.0</td>\n      <td>3030.0</td>\n      <td>2740.0</td>\n      <td>2890.0</td>\n      <td>2171.953613</td>\n      <td>133290000</td>\n    </tr>\n    <tr>\n      <th>2000-10-27</th>\n      <td>2890.0</td>\n      <td>2890.0</td>\n      <td>2890.0</td>\n      <td>2890.0</td>\n      <td>2171.953613</td>\n      <td>0</td>\n    </tr>\n    <tr>\n      <th>2000-10-30</th>\n      <td>2800.0</td>\n      <td>2880.0</td>\n      <td>2720.0</td>\n      <td>2750.0</td>\n      <td>2066.737549</td>\n      <td>36830000</td>\n    </tr>\n    <tr>\n      <th>2000-10-31</th>\n      <td>2750.0</td>\n      <td>2850.0</td>\n      <td>2630.0</td>\n      <td>2850.0</td>\n      <td>2141.893066</td>\n      <td>63190000</td>\n    </tr>\n    <tr>\n      <th>2000-11-01</th>\n      <td>3000.0</td>\n      <td>3270.0</td>\n      <td>2960.0</td>\n      <td>3260.0</td>\n      <td>2450.024414</td>\n      <td>94165000</td>\n    </tr>\n    <tr>\n      <th>...</th>\n      <td>...</td>\n      <td>...</td>\n      <td>...</td>\n      <td>...</td>\n      <td>...</td>\n      <td>...</td>\n    </tr>\n    <tr>\n      <th>2022-10-28</th>\n      <td>58900.0</td>\n      <td>59200.0</td>\n      <td>57200.0</td>\n      <td>57300.0</td>\n      <td>57300.000000</td>\n      <td>20924937</td>\n    </tr>\n    <tr>\n      <th>2022-10-31</th>\n      <td>58100.0</td>\n      <td>59900.0</td>\n      <td>58000.0</td>\n      <td>59400.0</td>\n      <td>59400.000000</td>\n      <td>18999514</td>\n    </tr>\n    <tr>\n      <th>2022-11-01</th>\n      <td>59900.0</td>\n      <td>60300.0</td>\n      <td>59500.0</td>\n      <td>60000.0</td>\n      <td>60000.000000</td>\n      <td>17201647</td>\n    </tr>\n    <tr>\n      <th>2022-11-02</th>\n      <td>59700.0</td>\n      <td>60000.0</td>\n      <td>59300.0</td>\n      <td>59600.0</td>\n      <td>59600.000000</td>\n      <td>13202919</td>\n    </tr>\n    <tr>\n      <th>2022-11-03</th>\n      <td>58600.0</td>\n      <td>59800.0</td>\n      <td>58100.0</td>\n      <td>59200.0</td>\n      <td>59200.000000</td>\n      <td>17339759</td>\n    </tr>\n  </tbody>\n</table>\n<p>5520 rows × 6 columns</p>\n</div>"
     },
     "execution_count": 18,
     "metadata": {},
     "output_type": "execute_result"
    }
   ],
   "source": [
    "# 삼성전자 주식 정보\n",
    "# 과거 데이터 1분 단위는 1주일치까만 지져와짐\n",
    "# 일별은 무제한으로 가겨와짐\n",
    "yf.download('005930.KS', start='2000-10-26')  # 일봉 예시"
   ],
   "metadata": {
    "collapsed": false
   }
  },
  {
   "cell_type": "code",
   "execution_count": 30,
   "outputs": [
    {
     "name": "stdout",
     "output_type": "stream",
     "text": [
      "[*********************100%***********************]  1 of 1 completed\n"
     ]
    },
    {
     "data": {
      "text/plain": "                             Open          High           Low         Close  \\\nDatetime                                                                      \n2022-11-01 09:30:00  32862.789062  32956.121094  32862.789062  32942.730469   \n2022-11-01 09:31:00  32941.761719  32961.660156  32927.660156  32944.488281   \n2022-11-01 09:32:00  32943.851562  32960.109375  32923.378906  32948.671875   \n2022-11-01 09:33:00  32944.800781  32973.871094  32944.800781  32946.910156   \n2022-11-01 09:34:00  32944.699219  32975.480469  32934.550781  32965.570312   \n...                           ...           ...           ...           ...   \n2022-11-03 15:56:00  31998.599609  31998.599609  31992.039062  31992.220703   \n2022-11-03 15:57:00  31993.439453  31995.519531  31986.949219  31989.980469   \n2022-11-03 15:58:00  31989.039062  31996.390625  31982.119141  31994.529297   \n2022-11-03 15:59:00  31995.070312  32021.689453  31993.650391  32001.480469   \n2022-11-03 16:00:00  32001.250000  32001.250000  32001.250000  32001.250000   \n\n                        Adj Close   Volume  \nDatetime                                    \n2022-11-01 09:30:00  32942.730469        0  \n2022-11-01 09:31:00  32944.488281  1874165  \n2022-11-01 09:32:00  32948.671875  1276121  \n2022-11-01 09:33:00  32946.910156  1297623  \n2022-11-01 09:34:00  32965.570312  1237157  \n...                           ...      ...  \n2022-11-03 15:56:00  31992.220703  3347537  \n2022-11-03 15:57:00  31989.980469  2941995  \n2022-11-03 15:58:00  31994.529297  3528171  \n2022-11-03 15:59:00  32001.480469  7890411  \n2022-11-03 16:00:00  32001.250000        0  \n\n[1163 rows x 6 columns]",
      "text/html": "<div>\n<style scoped>\n    .dataframe tbody tr th:only-of-type {\n        vertical-align: middle;\n    }\n\n    .dataframe tbody tr th {\n        vertical-align: top;\n    }\n\n    .dataframe thead th {\n        text-align: right;\n    }\n</style>\n<table border=\"1\" class=\"dataframe\">\n  <thead>\n    <tr style=\"text-align: right;\">\n      <th></th>\n      <th>Open</th>\n      <th>High</th>\n      <th>Low</th>\n      <th>Close</th>\n      <th>Adj Close</th>\n      <th>Volume</th>\n    </tr>\n    <tr>\n      <th>Datetime</th>\n      <th></th>\n      <th></th>\n      <th></th>\n      <th></th>\n      <th></th>\n      <th></th>\n    </tr>\n  </thead>\n  <tbody>\n    <tr>\n      <th>2022-11-01 09:30:00</th>\n      <td>32862.789062</td>\n      <td>32956.121094</td>\n      <td>32862.789062</td>\n      <td>32942.730469</td>\n      <td>32942.730469</td>\n      <td>0</td>\n    </tr>\n    <tr>\n      <th>2022-11-01 09:31:00</th>\n      <td>32941.761719</td>\n      <td>32961.660156</td>\n      <td>32927.660156</td>\n      <td>32944.488281</td>\n      <td>32944.488281</td>\n      <td>1874165</td>\n    </tr>\n    <tr>\n      <th>2022-11-01 09:32:00</th>\n      <td>32943.851562</td>\n      <td>32960.109375</td>\n      <td>32923.378906</td>\n      <td>32948.671875</td>\n      <td>32948.671875</td>\n      <td>1276121</td>\n    </tr>\n    <tr>\n      <th>2022-11-01 09:33:00</th>\n      <td>32944.800781</td>\n      <td>32973.871094</td>\n      <td>32944.800781</td>\n      <td>32946.910156</td>\n      <td>32946.910156</td>\n      <td>1297623</td>\n    </tr>\n    <tr>\n      <th>2022-11-01 09:34:00</th>\n      <td>32944.699219</td>\n      <td>32975.480469</td>\n      <td>32934.550781</td>\n      <td>32965.570312</td>\n      <td>32965.570312</td>\n      <td>1237157</td>\n    </tr>\n    <tr>\n      <th>...</th>\n      <td>...</td>\n      <td>...</td>\n      <td>...</td>\n      <td>...</td>\n      <td>...</td>\n      <td>...</td>\n    </tr>\n    <tr>\n      <th>2022-11-03 15:56:00</th>\n      <td>31998.599609</td>\n      <td>31998.599609</td>\n      <td>31992.039062</td>\n      <td>31992.220703</td>\n      <td>31992.220703</td>\n      <td>3347537</td>\n    </tr>\n    <tr>\n      <th>2022-11-03 15:57:00</th>\n      <td>31993.439453</td>\n      <td>31995.519531</td>\n      <td>31986.949219</td>\n      <td>31989.980469</td>\n      <td>31989.980469</td>\n      <td>2941995</td>\n    </tr>\n    <tr>\n      <th>2022-11-03 15:58:00</th>\n      <td>31989.039062</td>\n      <td>31996.390625</td>\n      <td>31982.119141</td>\n      <td>31994.529297</td>\n      <td>31994.529297</td>\n      <td>3528171</td>\n    </tr>\n    <tr>\n      <th>2022-11-03 15:59:00</th>\n      <td>31995.070312</td>\n      <td>32021.689453</td>\n      <td>31993.650391</td>\n      <td>32001.480469</td>\n      <td>32001.480469</td>\n      <td>7890411</td>\n    </tr>\n    <tr>\n      <th>2022-11-03 16:00:00</th>\n      <td>32001.250000</td>\n      <td>32001.250000</td>\n      <td>32001.250000</td>\n      <td>32001.250000</td>\n      <td>32001.250000</td>\n      <td>0</td>\n    </tr>\n  </tbody>\n</table>\n<p>1163 rows × 6 columns</p>\n</div>"
     },
     "execution_count": 30,
     "metadata": {},
     "output_type": "execute_result"
    }
   ],
   "source": [
    "yf.download('^DJI', start='2022-11-01', interval='1m')  # 분봉 예시"
   ],
   "metadata": {
    "collapsed": false
   }
  },
  {
   "cell_type": "code",
   "execution_count": 33,
   "outputs": [
    {
     "name": "stdout",
     "output_type": "stream",
     "text": [
      "[*********************100%***********************]  1 of 1 completed\n"
     ]
    },
    {
     "data": {
      "text/plain": "                    Open          High           Low         Close  \\\nDate                                                                 \n2020-01-02   9039.459961   9093.429688   9010.889648   9092.190430   \n2020-01-03   8976.429688   9065.759766   8976.429688   9020.769531   \n2020-01-06   8943.500000   9072.410156   8943.500000   9071.469727   \n2020-01-07   9076.639648   9091.929688   9042.549805   9068.580078   \n2020-01-08   9068.030273   9168.889648   9059.379883   9129.240234   \n...                  ...           ...           ...           ...   \n2022-10-28  10766.200195  11117.040039  10766.200195  11102.450195   \n2022-10-31  11028.429688  11047.940430  10914.009766  10988.150391   \n2022-11-01  11154.740234  11156.349609  10881.190430  10890.849609   \n2022-11-02  10885.009766  10993.240234  10522.900391  10524.799805   \n2022-11-03  10399.450195  10486.009766  10319.540039  10342.940430   \n\n               Adj Close      Volume  \nDate                                  \n2020-01-02   9092.190430  2848370000  \n2020-01-03   9020.769531  2567400000  \n2020-01-06   9071.469727  2788120000  \n2020-01-07   9068.580078  2352850000  \n2020-01-08   9129.240234  2464090000  \n...                  ...         ...  \n2022-10-28  11102.450195  4731940000  \n2022-10-31  10988.150391  4753740000  \n2022-11-01  10890.849609  4677520000  \n2022-11-02  10524.799805  5436420000  \n2022-11-03  10342.940430  5102190000  \n\n[717 rows x 6 columns]",
      "text/html": "<div>\n<style scoped>\n    .dataframe tbody tr th:only-of-type {\n        vertical-align: middle;\n    }\n\n    .dataframe tbody tr th {\n        vertical-align: top;\n    }\n\n    .dataframe thead th {\n        text-align: right;\n    }\n</style>\n<table border=\"1\" class=\"dataframe\">\n  <thead>\n    <tr style=\"text-align: right;\">\n      <th></th>\n      <th>Open</th>\n      <th>High</th>\n      <th>Low</th>\n      <th>Close</th>\n      <th>Adj Close</th>\n      <th>Volume</th>\n    </tr>\n    <tr>\n      <th>Date</th>\n      <th></th>\n      <th></th>\n      <th></th>\n      <th></th>\n      <th></th>\n      <th></th>\n    </tr>\n  </thead>\n  <tbody>\n    <tr>\n      <th>2020-01-02</th>\n      <td>9039.459961</td>\n      <td>9093.429688</td>\n      <td>9010.889648</td>\n      <td>9092.190430</td>\n      <td>9092.190430</td>\n      <td>2848370000</td>\n    </tr>\n    <tr>\n      <th>2020-01-03</th>\n      <td>8976.429688</td>\n      <td>9065.759766</td>\n      <td>8976.429688</td>\n      <td>9020.769531</td>\n      <td>9020.769531</td>\n      <td>2567400000</td>\n    </tr>\n    <tr>\n      <th>2020-01-06</th>\n      <td>8943.500000</td>\n      <td>9072.410156</td>\n      <td>8943.500000</td>\n      <td>9071.469727</td>\n      <td>9071.469727</td>\n      <td>2788120000</td>\n    </tr>\n    <tr>\n      <th>2020-01-07</th>\n      <td>9076.639648</td>\n      <td>9091.929688</td>\n      <td>9042.549805</td>\n      <td>9068.580078</td>\n      <td>9068.580078</td>\n      <td>2352850000</td>\n    </tr>\n    <tr>\n      <th>2020-01-08</th>\n      <td>9068.030273</td>\n      <td>9168.889648</td>\n      <td>9059.379883</td>\n      <td>9129.240234</td>\n      <td>9129.240234</td>\n      <td>2464090000</td>\n    </tr>\n    <tr>\n      <th>...</th>\n      <td>...</td>\n      <td>...</td>\n      <td>...</td>\n      <td>...</td>\n      <td>...</td>\n      <td>...</td>\n    </tr>\n    <tr>\n      <th>2022-10-28</th>\n      <td>10766.200195</td>\n      <td>11117.040039</td>\n      <td>10766.200195</td>\n      <td>11102.450195</td>\n      <td>11102.450195</td>\n      <td>4731940000</td>\n    </tr>\n    <tr>\n      <th>2022-10-31</th>\n      <td>11028.429688</td>\n      <td>11047.940430</td>\n      <td>10914.009766</td>\n      <td>10988.150391</td>\n      <td>10988.150391</td>\n      <td>4753740000</td>\n    </tr>\n    <tr>\n      <th>2022-11-01</th>\n      <td>11154.740234</td>\n      <td>11156.349609</td>\n      <td>10881.190430</td>\n      <td>10890.849609</td>\n      <td>10890.849609</td>\n      <td>4677520000</td>\n    </tr>\n    <tr>\n      <th>2022-11-02</th>\n      <td>10885.009766</td>\n      <td>10993.240234</td>\n      <td>10522.900391</td>\n      <td>10524.799805</td>\n      <td>10524.799805</td>\n      <td>5436420000</td>\n    </tr>\n    <tr>\n      <th>2022-11-03</th>\n      <td>10399.450195</td>\n      <td>10486.009766</td>\n      <td>10319.540039</td>\n      <td>10342.940430</td>\n      <td>10342.940430</td>\n      <td>5102190000</td>\n    </tr>\n  </tbody>\n</table>\n<p>717 rows × 6 columns</p>\n</div>"
     },
     "execution_count": 33,
     "metadata": {},
     "output_type": "execute_result"
    }
   ],
   "source": [
    "yf.download('^IXIC', start='2020-01-01')"
   ],
   "metadata": {
    "collapsed": false
   }
  },
  {
   "cell_type": "code",
   "execution_count": 52,
   "outputs": [],
   "source": [
    "def csv_save(stocks, start_date):\n",
    "\tfor stock in stocks:\n",
    "\t\tname = stock\n",
    "\t\tdf = yf.download(stock, start=start_date)\n",
    "\n",
    "\t\treg = '=[A-Za-z]+'\n",
    "\t\tstock_name = re.sub(reg, '', name)\n",
    "\t\tdf.to_csv('./data/' + stock_name + '.csv', index=True)\n",
    "\t\tprint('저장됨')\n",
    "\t\tprint('=' * 100)"
   ],
   "metadata": {
    "collapsed": false
   }
  },
  {
   "cell_type": "code",
   "execution_count": 29,
   "outputs": [
    {
     "name": "stdout",
     "output_type": "stream",
     "text": [
      "[*********************100%***********************]  1 of 1 completed\n",
      "저장됨\n",
      "[*********************100%***********************]  1 of 1 completed\n",
      "저장됨\n",
      "[*********************100%***********************]  1 of 1 completed\n",
      "저장됨\n"
     ]
    }
   ],
   "source": [
    "stocks = ['JPYKRW=X', 'USDKRW=X', 'CNYKRW=X']\n",
    "csv_save(stocks, '2020-01-01')"
   ],
   "metadata": {
    "collapsed": false
   }
  },
  {
   "cell_type": "code",
   "execution_count": 37,
   "outputs": [
    {
     "name": "stdout",
     "output_type": "stream",
     "text": [
      "[*********************100%***********************]  1 of 1 completed\n",
      "저장됨\n",
      "[*********************100%***********************]  1 of 1 completed\n",
      "저장됨\n",
      "[*********************100%***********************]  1 of 1 completed\n",
      "저장됨\n",
      "[*********************100%***********************]  1 of 1 completed\n",
      "저장됨\n",
      "[*********************100%***********************]  1 of 1 completed\n",
      "저장됨\n"
     ]
    }
   ],
   "source": [
    "stocks = ['GOLD', 'WTI', 'SI=F', 'NGZ22.NYM', 'HG=F']\n",
    "csv_save(stocks, '2020-01-01')"
   ],
   "metadata": {
    "collapsed": false
   }
  },
  {
   "cell_type": "code",
   "execution_count": 39,
   "outputs": [
    {
     "name": "stdout",
     "output_type": "stream",
     "text": [
      "[*********************100%***********************]  1 of 1 completed\n",
      "저장됨\n",
      "[*********************100%***********************]  1 of 1 completed\n",
      "저장됨\n",
      "[*********************100%***********************]  1 of 1 completed\n",
      "저장됨\n"
     ]
    }
   ],
   "source": [
    "stocks = ['KRWJPY=X', 'KRWUSD=X', 'KRWCNY=X']\n",
    "csv_save(stocks, '2020-01-01')"
   ],
   "metadata": {
    "collapsed": false
   }
  },
  {
   "cell_type": "code",
   "execution_count": 49,
   "outputs": [
    {
     "name": "stdout",
     "output_type": "stream",
     "text": [
      "저장됨 KRWJPY\n",
      "저장됨 KRWUSD\n",
      "저장됨 KRWCNY\n"
     ]
    }
   ],
   "source": [
    "for stock in stocks:\n",
    "\tname = stock\n",
    "\treg = '=[A-Za-z]+'\n",
    "\tstock_name = re.sub(reg, '', name)\n",
    "\tprint('저장됨', stock_name)"
   ],
   "metadata": {
    "collapsed": false
   }
  },
  {
   "cell_type": "code",
   "execution_count": 58,
   "outputs": [
    {
     "name": "stdout",
     "output_type": "stream",
     "text": [
      "[*********************100%***********************]  1 of 1 completed\n",
      "저장됨\n",
      "====================================================================================================\n",
      "[*********************100%***********************]  1 of 1 completed\n",
      "저장됨\n",
      "====================================================================================================\n",
      "[*********************100%***********************]  1 of 1 completed\n",
      "저장됨\n",
      "====================================================================================================\n",
      "[*********************100%***********************]  1 of 1 completed\n",
      "저장됨\n",
      "====================================================================================================\n",
      "[*********************100%***********************]  1 of 1 completed\n",
      "저장됨\n",
      "====================================================================================================\n",
      "[*********************100%***********************]  1 of 1 completed\n",
      "저장됨\n",
      "====================================================================================================\n",
      "[*********************100%***********************]  1 of 1 completed\n",
      "저장됨\n",
      "====================================================================================================\n",
      "[*********************100%***********************]  1 of 1 completed\n",
      "저장됨\n",
      "====================================================================================================\n",
      "[*********************100%***********************]  1 of 1 completed\n",
      "저장됨\n",
      "====================================================================================================\n",
      "[*********************100%***********************]  1 of 1 completed\n",
      "저장됨\n",
      "====================================================================================================\n",
      "[*********************100%***********************]  1 of 1 completed\n",
      "저장됨\n",
      "====================================================================================================\n",
      "[*********************100%***********************]  1 of 1 completed\n",
      "저장됨\n",
      "====================================================================================================\n",
      "[*********************100%***********************]  1 of 1 completed\n",
      "저장됨\n",
      "====================================================================================================\n"
     ]
    }
   ],
   "source": [
    "stocks = ['EURKRW=X', 'HKDKRW=X', 'GBPKRW=X', 'CHFKRW=X', 'CADKRW=X', 'AUDKRW=X',\n",
    "          'NZDKRW=X', 'SEKKRW=X',\n",
    "          'AEDKRW=X', 'THBKRW=X', 'SGDKRW=X', 'IDRKRW=X', 'ZWZ23.CBT']\n",
    "csv_save(stocks, '2020-01-01')"
   ],
   "metadata": {
    "collapsed": false
   }
  },
  {
   "cell_type": "code",
   "execution_count": 8,
   "outputs": [],
   "source": [
    "import urllib.request\n",
    "\n",
    "import numpy as np\n",
    "import pandas as pd\n",
    "\n",
    "from bs4 import BeautifulSoup\n",
    "from urllib.request import urlopen"
   ],
   "metadata": {
    "collapsed": false
   }
  },
  {
   "cell_type": "code",
   "execution_count": 9,
   "outputs": [],
   "source": [
    "rate_url = 'https://www.kita.net/cmmrcInfo/ehgtGnrlzInfo/rltmEhgt.do'\n",
    "\n",
    "#  403 해결\n",
    "from urllib.error import URLError, HTTPError\n",
    "import urllib.request\n",
    "\n",
    "try:\n",
    "\theaders = {'User-Agent': 'Chrome/107.0.5304.87'}\n",
    "\t# headers = {'User-Agent' : 'python'}\n",
    "\treq = urllib.request.Request(rate_url, headers=headers)\n",
    "\thtml = urlopen(req)\n",
    "except HTTPError as e:\n",
    "\terr = e.read()\n",
    "\tcode = e.getcode()\n",
    "\tprint(err, code)"
   ],
   "metadata": {
    "collapsed": false
   }
  },
  {
   "cell_type": "code",
   "execution_count": 10,
   "outputs": [],
   "source": [
    "soup = BeautifulSoup(html, 'html.parser')"
   ],
   "metadata": {
    "collapsed": false
   }
  },
  {
   "cell_type": "code",
   "execution_count": 13,
   "outputs": [
    {
     "name": "stdout",
     "output_type": "stream",
     "text": [
      "['USD', 'JPY', 'EUR', 'CNY', 'HKD', 'GBP', 'CHF', 'CAD', 'AUD', 'NZD', 'SEK', 'DKK', 'NOK', 'SAR', 'KWD', 'BHD', 'AED', 'THB', 'SGD', 'IDR', 'INR', 'MYR', 'PKR', 'BDT', 'PHP', 'EGP', 'MXN', 'BND']\n"
     ]
    }
   ],
   "source": [
    "link = soup.select('div.tableSt.st4.alc th a')\n",
    "rates = []\n",
    "for text in link:\n",
    "\trate = text.get_text()\n",
    "\trate_ = rate.split(' ')[0]\n",
    "\n",
    "\trates.append(rate_)\n",
    "print(rates)"
   ],
   "metadata": {
    "collapsed": false
   }
  },
  {
   "cell_type": "code",
   "execution_count": 131,
   "outputs": [],
   "source": [
    "# 환율 가져올 시작 낧짜 지정\n",
    "start_data = '2020-01-01'"
   ],
   "metadata": {
    "collapsed": false
   }
  },
  {
   "cell_type": "code",
   "execution_count": 136,
   "outputs": [
    {
     "name": "stdout",
     "output_type": "stream",
     "text": [
      "USDKRW=X\n",
      "[*********************100%***********************]  1 of 1 completed\n",
      "저장됨\n",
      "====================================================================================================\n",
      "JPYKRW=X\n",
      "[*********************100%***********************]  1 of 1 completed\n",
      "저장됨\n",
      "====================================================================================================\n",
      "EURKRW=X\n",
      "[*********************100%***********************]  1 of 1 completed\n",
      "저장됨\n",
      "====================================================================================================\n",
      "CNYKRW=X\n",
      "[*********************100%***********************]  1 of 1 completed\n",
      "저장됨\n",
      "====================================================================================================\n",
      "HKDKRW=X\n",
      "[*********************100%***********************]  1 of 1 completed\n",
      "저장됨\n",
      "====================================================================================================\n",
      "GBPKRW=X\n",
      "[*********************100%***********************]  1 of 1 completed\n",
      "저장됨\n",
      "====================================================================================================\n",
      "CHFKRW=X\n",
      "[*********************100%***********************]  1 of 1 completed\n",
      "저장됨\n",
      "====================================================================================================\n",
      "CADKRW=X\n",
      "[*********************100%***********************]  1 of 1 completed\n",
      "저장됨\n",
      "====================================================================================================\n",
      "AUDKRW=X\n",
      "[*********************100%***********************]  1 of 1 completed\n",
      "저장됨\n",
      "====================================================================================================\n",
      "NZDKRW=X\n",
      "[*********************100%***********************]  1 of 1 completed\n",
      "저장됨\n",
      "====================================================================================================\n",
      "SEKKRW=X\n",
      "[*********************100%***********************]  1 of 1 completed\n",
      "저장됨\n",
      "====================================================================================================\n",
      "DKKKRW=X\n",
      "[*********************100%***********************]  1 of 1 completed"
     ]
    },
    {
     "name": "stderr",
     "output_type": "stream",
     "text": [
      "Exception in thread Thread-172:\n",
      "Traceback (most recent call last):\n",
      "  File \"/Users/hwanghyeonjun/miniforge3/envs/ml-dev/lib/python3.9/threading.py\", line 980, in _bootstrap_inner\n",
      "    self.run()\n",
      "  File \"/Users/hwanghyeonjun/miniforge3/envs/ml-dev/lib/python3.9/threading.py\", line 917, in run\n",
      "    self._target(*self._args, **self._kwargs)\n",
      "  File \"/Users/hwanghyeonjun/miniforge3/envs/ml-dev/lib/python3.9/site-packages/multitasking/__init__.py\", line 104, in _run_via_pool\n",
      "    return callee(*args, **kwargs)\n",
      "  File \"/Users/hwanghyeonjun/miniforge3/envs/ml-dev/lib/python3.9/site-packages/yfinance/multi.py\", line 199, in _download_one_threaded\n",
      "    data = _download_one(ticker, start, end, auto_adjust, back_adjust,\n",
      "  File \"/Users/hwanghyeonjun/miniforge3/envs/ml-dev/lib/python3.9/site-packages/yfinance/multi.py\", line 213, in _download_one\n",
      "    return Ticker(ticker).history(period=period, interval=interval,\n",
      "  File \"/Users/hwanghyeonjun/miniforge3/envs/ml-dev/lib/python3.9/site-packages/yfinance/base.py\", line 175, in history\n",
      "    start = utils._parse_user_dt(start, tz)\n",
      "  File \"/Users/hwanghyeonjun/miniforge3/envs/ml-dev/lib/python3.9/site-packages/yfinance/utils.py\", line 157, in _parse_user_dt\n",
      "    dt = _tz.timezone(exchange_tz).localize(dt)\n",
      "  File \"/Users/hwanghyeonjun/miniforge3/envs/ml-dev/lib/python3.9/site-packages/pytz/__init__.py\", line 170, in timezone\n",
      "    if zone.upper() == 'UTC':\n",
      "AttributeError: 'float' object has no attribute 'upper'\n"
     ]
    },
    {
     "name": "stdout",
     "output_type": "stream",
     "text": [
      "\n",
      "저장됨\n",
      "====================================================================================================\n",
      "NOKKRW=X\n"
     ]
    },
    {
     "ename": "KeyboardInterrupt",
     "evalue": "",
     "output_type": "error",
     "traceback": [
      "\u001B[0;31m---------------------------------------------------------------------------\u001B[0m",
      "\u001B[0;31mKeyboardInterrupt\u001B[0m                         Traceback (most recent call last)",
      "Cell \u001B[0;32mIn [136], line 6\u001B[0m\n\u001B[1;32m      4\u001B[0m contact_name \u001B[38;5;241m=\u001B[39m name \u001B[38;5;241m+\u001B[39m \u001B[38;5;124m'\u001B[39m\u001B[38;5;124mKRW=X\u001B[39m\u001B[38;5;124m'\u001B[39m\n\u001B[1;32m      5\u001B[0m \u001B[38;5;28mprint\u001B[39m(contact_name)\n\u001B[0;32m----> 6\u001B[0m df \u001B[38;5;241m=\u001B[39m \u001B[43myf\u001B[49m\u001B[38;5;241;43m.\u001B[39;49m\u001B[43mdownload\u001B[49m\u001B[43m(\u001B[49m\u001B[43mcontact_name\u001B[49m\u001B[43m,\u001B[49m\u001B[43m \u001B[49m\u001B[43mstart\u001B[49m\u001B[38;5;241;43m=\u001B[39;49m\u001B[43mstart_data\u001B[49m\u001B[43m)\u001B[49m\n\u001B[1;32m      7\u001B[0m reg \u001B[38;5;241m=\u001B[39m \u001B[38;5;124m'\u001B[39m\u001B[38;5;124m=[A-Za-z]+\u001B[39m\u001B[38;5;124m'\u001B[39m\n\u001B[1;32m      8\u001B[0m contact_name \u001B[38;5;241m=\u001B[39m re\u001B[38;5;241m.\u001B[39msub(reg, \u001B[38;5;124m'\u001B[39m\u001B[38;5;124m'\u001B[39m, name)\n",
      "File \u001B[0;32m~/miniforge3/envs/ml-dev/lib/python3.9/site-packages/yfinance/multi.py:118\u001B[0m, in \u001B[0;36mdownload\u001B[0;34m(tickers, start, end, actions, threads, ignore_tz, group_by, auto_adjust, back_adjust, keepna, progress, period, show_errors, interval, prepost, proxy, rounding, timeout, **kwargs)\u001B[0m\n\u001B[1;32m    111\u001B[0m         _download_one_threaded(ticker, period\u001B[38;5;241m=\u001B[39mperiod, interval\u001B[38;5;241m=\u001B[39minterval,\n\u001B[1;32m    112\u001B[0m                                start\u001B[38;5;241m=\u001B[39mstart, end\u001B[38;5;241m=\u001B[39mend, prepost\u001B[38;5;241m=\u001B[39mprepost,\n\u001B[1;32m    113\u001B[0m                                actions\u001B[38;5;241m=\u001B[39mactions, auto_adjust\u001B[38;5;241m=\u001B[39mauto_adjust,\n\u001B[1;32m    114\u001B[0m                                back_adjust\u001B[38;5;241m=\u001B[39mback_adjust, keepna\u001B[38;5;241m=\u001B[39mkeepna,\n\u001B[1;32m    115\u001B[0m                                progress\u001B[38;5;241m=\u001B[39m(progress \u001B[38;5;129;01mand\u001B[39;00m i \u001B[38;5;241m>\u001B[39m \u001B[38;5;241m0\u001B[39m), proxy\u001B[38;5;241m=\u001B[39mproxy,\n\u001B[1;32m    116\u001B[0m                                rounding\u001B[38;5;241m=\u001B[39mrounding, timeout\u001B[38;5;241m=\u001B[39mtimeout)\n\u001B[1;32m    117\u001B[0m     \u001B[38;5;28;01mwhile\u001B[39;00m \u001B[38;5;28mlen\u001B[39m(shared\u001B[38;5;241m.\u001B[39m_DFS) \u001B[38;5;241m<\u001B[39m \u001B[38;5;28mlen\u001B[39m(tickers):\n\u001B[0;32m--> 118\u001B[0m         \u001B[43m_time\u001B[49m\u001B[38;5;241;43m.\u001B[39;49m\u001B[43msleep\u001B[49m\u001B[43m(\u001B[49m\u001B[38;5;241;43m0.01\u001B[39;49m\u001B[43m)\u001B[49m\n\u001B[1;32m    120\u001B[0m \u001B[38;5;66;03m# download synchronously\u001B[39;00m\n\u001B[1;32m    121\u001B[0m \u001B[38;5;28;01melse\u001B[39;00m:\n\u001B[1;32m    122\u001B[0m     \u001B[38;5;28;01mfor\u001B[39;00m i, ticker \u001B[38;5;129;01min\u001B[39;00m \u001B[38;5;28menumerate\u001B[39m(tickers):\n",
      "\u001B[0;31mKeyboardInterrupt\u001B[0m: "
     ]
    }
   ],
   "source": [
    "for rate in rates:\n",
    "\ttry:\n",
    "\t\tname = rate\n",
    "\t\tcontact_name = name + 'KRW=X'\n",
    "\t\tprint(contact_name)\n",
    "\t\tdf = yf.download(contact_name, start=start_data)\n",
    "\t\treg = '=[A-Za-z]+'\n",
    "\t\tcontact_name = re.sub(reg, '', name)\n",
    "\t\tdf.to_csv('./data/' + contact_name + '.csv', index=True)\n",
    "\t\tprint('저장됨')\n",
    "\t\tprint('=' * 100)\n",
    "\n",
    "\texcept:\n",
    "\t  print('')\n",
    "\t\tpass\n"
   ],
   "metadata": {
    "collapsed": false
   }
  },
  {
   "cell_type": "code",
   "execution_count": 4,
   "outputs": [
    {
     "ename": "TabError",
     "evalue": "inconsistent use of tabs and spaces in indentation (2690060762.py, line 4)",
     "output_type": "error",
     "traceback": [
      "\u001B[0;36m  Cell \u001B[0;32mIn [4], line 4\u001B[0;36m\u001B[0m\n\u001B[0;31m    names.append(rate)\u001B[0m\n\u001B[0m    ^\u001B[0m\n\u001B[0;31mTabError\u001B[0m\u001B[0;31m:\u001B[0m inconsistent use of tabs and spaces in indentation\n"
     ]
    }
   ],
   "source": [
    "for rate in rates:\n",
    "\ttry:\n",
    "\t    names = []\n",
    "\t\tnames.append(rate)"
   ],
   "metadata": {
    "collapsed": false
   }
  },
  {
   "cell_type": "code",
   "execution_count": 5,
   "outputs": [
    {
     "ename": "NameError",
     "evalue": "name 'names' is not defined",
     "output_type": "error",
     "traceback": [
      "\u001B[0;31m---------------------------------------------------------------------------\u001B[0m",
      "\u001B[0;31mNameError\u001B[0m                                 Traceback (most recent call last)",
      "Cell \u001B[0;32mIn [5], line 1\u001B[0m\n\u001B[0;32m----> 1\u001B[0m \u001B[43mnames\u001B[49m\n",
      "\u001B[0;31mNameError\u001B[0m: name 'names' is not defined"
     ]
    }
   ],
   "source": [
    "names"
   ],
   "metadata": {
    "collapsed": false
   }
  },
  {
   "cell_type": "code",
   "execution_count": null,
   "outputs": [],
   "source": [],
   "metadata": {
    "collapsed": false
   }
  }
 ],
 "metadata": {
  "kernelspec": {
   "display_name": "Python 3",
   "language": "python",
   "name": "python3"
  },
  "language_info": {
   "codemirror_mode": {
    "name": "ipython",
    "version": 2
   },
   "file_extension": ".py",
   "mimetype": "text/x-python",
   "name": "python",
   "nbconvert_exporter": "python",
   "pygments_lexer": "ipython2",
   "version": "2.7.6"
  }
 },
 "nbformat": 4,
 "nbformat_minor": 0
}
