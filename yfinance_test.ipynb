{
 "cells": [
  {
   "cell_type": "code",
   "execution_count": 5,
   "metadata": {
    "collapsed": true
   },
   "outputs": [],
   "source": [
    "'''\n",
    "\tyfinance 사용시 가상환경에서 인스톨\n",
    "\thttps://github.com/ranaroussi/yfinance 참고\n",
    "\n",
    "\tpip install yfinance\n",
    "'''\n",
    "import yfinance as yf"
   ]
  },
  {
   "cell_type": "code",
   "execution_count": 33,
   "outputs": [
    {
     "name": "stdout",
     "output_type": "stream",
     "text": [
      "[*********************100%***********************]  1 of 1 completed\n"
     ]
    },
    {
     "data": {
      "text/plain": "               Open     High      Low    Close     Adj Close     Volume\nDate                                                                   \n2000-10-26   2930.0   3030.0   2740.0   2890.0   2171.953613  133290000\n2000-10-27   2890.0   2890.0   2890.0   2890.0   2171.953613          0\n2000-10-30   2800.0   2880.0   2720.0   2750.0   2066.738037   36830000\n2000-10-31   2750.0   2850.0   2630.0   2850.0   2141.891846   63190000\n2000-11-01   3000.0   3270.0   2960.0   3260.0   2450.023682   94165000\n...             ...      ...      ...      ...           ...        ...\n2022-10-27  59700.0  60100.0  58900.0  59500.0  59500.000000   21756712\n2022-10-28  58900.0  59200.0  57200.0  57300.0  57300.000000   20924937\n2022-10-31  58100.0  59900.0  58000.0  59400.0  59400.000000   18999514\n2022-11-01  59900.0  60300.0  59500.0  60000.0  60000.000000   17201647\n2022-11-02  59700.0  60000.0  59300.0  59600.0  59600.000000   13103543\n\n[5519 rows x 6 columns]",
      "text/html": "<div>\n<style scoped>\n    .dataframe tbody tr th:only-of-type {\n        vertical-align: middle;\n    }\n\n    .dataframe tbody tr th {\n        vertical-align: top;\n    }\n\n    .dataframe thead th {\n        text-align: right;\n    }\n</style>\n<table border=\"1\" class=\"dataframe\">\n  <thead>\n    <tr style=\"text-align: right;\">\n      <th></th>\n      <th>Open</th>\n      <th>High</th>\n      <th>Low</th>\n      <th>Close</th>\n      <th>Adj Close</th>\n      <th>Volume</th>\n    </tr>\n    <tr>\n      <th>Date</th>\n      <th></th>\n      <th></th>\n      <th></th>\n      <th></th>\n      <th></th>\n      <th></th>\n    </tr>\n  </thead>\n  <tbody>\n    <tr>\n      <th>2000-10-26</th>\n      <td>2930.0</td>\n      <td>3030.0</td>\n      <td>2740.0</td>\n      <td>2890.0</td>\n      <td>2171.953613</td>\n      <td>133290000</td>\n    </tr>\n    <tr>\n      <th>2000-10-27</th>\n      <td>2890.0</td>\n      <td>2890.0</td>\n      <td>2890.0</td>\n      <td>2890.0</td>\n      <td>2171.953613</td>\n      <td>0</td>\n    </tr>\n    <tr>\n      <th>2000-10-30</th>\n      <td>2800.0</td>\n      <td>2880.0</td>\n      <td>2720.0</td>\n      <td>2750.0</td>\n      <td>2066.738037</td>\n      <td>36830000</td>\n    </tr>\n    <tr>\n      <th>2000-10-31</th>\n      <td>2750.0</td>\n      <td>2850.0</td>\n      <td>2630.0</td>\n      <td>2850.0</td>\n      <td>2141.891846</td>\n      <td>63190000</td>\n    </tr>\n    <tr>\n      <th>2000-11-01</th>\n      <td>3000.0</td>\n      <td>3270.0</td>\n      <td>2960.0</td>\n      <td>3260.0</td>\n      <td>2450.023682</td>\n      <td>94165000</td>\n    </tr>\n    <tr>\n      <th>...</th>\n      <td>...</td>\n      <td>...</td>\n      <td>...</td>\n      <td>...</td>\n      <td>...</td>\n      <td>...</td>\n    </tr>\n    <tr>\n      <th>2022-10-27</th>\n      <td>59700.0</td>\n      <td>60100.0</td>\n      <td>58900.0</td>\n      <td>59500.0</td>\n      <td>59500.000000</td>\n      <td>21756712</td>\n    </tr>\n    <tr>\n      <th>2022-10-28</th>\n      <td>58900.0</td>\n      <td>59200.0</td>\n      <td>57200.0</td>\n      <td>57300.0</td>\n      <td>57300.000000</td>\n      <td>20924937</td>\n    </tr>\n    <tr>\n      <th>2022-10-31</th>\n      <td>58100.0</td>\n      <td>59900.0</td>\n      <td>58000.0</td>\n      <td>59400.0</td>\n      <td>59400.000000</td>\n      <td>18999514</td>\n    </tr>\n    <tr>\n      <th>2022-11-01</th>\n      <td>59900.0</td>\n      <td>60300.0</td>\n      <td>59500.0</td>\n      <td>60000.0</td>\n      <td>60000.000000</td>\n      <td>17201647</td>\n    </tr>\n    <tr>\n      <th>2022-11-02</th>\n      <td>59700.0</td>\n      <td>60000.0</td>\n      <td>59300.0</td>\n      <td>59600.0</td>\n      <td>59600.000000</td>\n      <td>13103543</td>\n    </tr>\n  </tbody>\n</table>\n<p>5519 rows × 6 columns</p>\n</div>"
     },
     "execution_count": 33,
     "metadata": {},
     "output_type": "execute_result"
    }
   ],
   "source": [
    "# 삼성전자 주식 정보\n",
    "# 과거 데이터 1분 단위는 1주일치까만 지져와짐\n",
    "# 일별은 무제한으로 가겨와짐\n",
    "yf.download('005930.KS',start = '2000-10-26')"
   ],
   "metadata": {
    "collapsed": false
   }
  },
  {
   "cell_type": "code",
   "execution_count": null,
   "outputs": [],
   "source": [],
   "metadata": {
    "collapsed": false
   }
  }
 ],
 "metadata": {
  "kernelspec": {
   "display_name": "Python 3",
   "language": "python",
   "name": "python3"
  },
  "language_info": {
   "codemirror_mode": {
    "name": "ipython",
    "version": 2
   },
   "file_extension": ".py",
   "mimetype": "text/x-python",
   "name": "python",
   "nbconvert_exporter": "python",
   "pygments_lexer": "ipython2",
   "version": "2.7.6"
  }
 },
 "nbformat": 4,
 "nbformat_minor": 0
}
