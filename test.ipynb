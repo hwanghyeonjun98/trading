{
 "cells": [
  {
   "cell_type": "code",
   "execution_count": 1,
   "metadata": {},
   "outputs": [
    {
     "name": "stdout",
     "output_type": "stream",
     "text": [
      "실시간 트레이딩 기준 날짜 : 20221220\n",
      "크롤링 실행 중\n",
      "크롤링 실행\n",
      "dddddddddddd\n",
      "True\n"
     ]
    }
   ],
   "source": [
    "from final_target import get_target_list_db, get_target\n",
    "from final_predict import stock_predict\n",
    "from final_model import LstmNetwork\n",
    "\n",
    "from keras.models import load_model\n",
    "import tensorflow as tf\n",
    "import os\n",
    "\n",
    "# tf gpu 메모리 관련 코드 \n",
    "gpus = tf.config.list_physical_devices(device_type = 'GPU')\n",
    "tf.config.experimental.set_memory_growth(gpus[0], True)\n",
    "os.environ[\"CUDA_VISIBLE_DEVICES\"] = \"0\"\n",
    "\n",
    "kospi_list, kosdaq_list = get_target_list_db()\n",
    "investing_df = get_target(path=r'C:\\big15\\project-dev\\trading\\download\\target')\n",
    "\n",
    "\n",
    "\n",
    "\n",
    "# 소형주 6개월 학습\n",
    "ls_small_six_month = LstmNetwork('소형주', kosdaq_list, '6개월', 140, 0.03)\n"
   ]
  },
  {
   "cell_type": "code",
   "execution_count": 2,
   "metadata": {},
   "outputs": [],
   "source": [
    "model_small_six_month = ls_small_six_month.model_\n",
    "col_list_small_six_month = ls_small_six_month.col_list\n",
    "\n",
    "# stock_predict(kosdaq_list, investing_df, col_list_small_six_month, model_small_six_month)"
   ]
  },
  {
   "cell_type": "code",
   "execution_count": 3,
   "metadata": {},
   "outputs": [],
   "source": [
    "from final_dbconnect import DBConnection_trading, DBConnection_predict\n",
    "\n",
    "from sklearn.preprocessing import MaxAbsScaler\n",
    "from pandas.tseries.offsets import BDay\n",
    "from datetime import date, datetime\n",
    "\n",
    "import pandas as pd\n",
    "import time\n"
   ]
  },
  {
   "cell_type": "code",
   "execution_count": 4,
   "metadata": {},
   "outputs": [],
   "source": [
    "today = str(date.today()).replace('-','')\n",
    "yesterday=str(date.today() - BDay(1)).replace('-','').split(' ')[0]\n",
    "\n",
    "def get_pymysql_traidng_table_check(table_schema, code, conn):\n",
    "    # 현재 DB 내 존재하는 테이블 존재 여부 확인\n",
    "    sql = f\"SELECT 1 FROM Information_schema.tables  WHERE table_schema = '{table_schema}' AND table_name = '{code}_{today}'\"\n",
    "\n",
    "    cur = conn.cursor()\n",
    "    count = cur.execute(sql)\n",
    "\n",
    "    return count\n",
    "\n",
    "def get_pymysql_day_stock(conn, code, yesterday, investing_df):\n",
    "\n",
    "    code = code[-6:]\n",
    "    sql = f\"SELECT 전일대비, 상장주식수, 시가총액, 외국인현보유수량, 외국인현보유비율, 기관순매수량, 기관누적순매수량, 년, 월, 일 FROM stock_info.`{code}` WHERE 날짜={yesterday} ORDER BY 시간 DESC LIMIT 1\"\n",
    "    \n",
    "    result = conn.execute(sql)\n",
    "\n",
    "    target_df = pd.DataFrame(result.fetchall())\n",
    "    # target_df.set_index('날짜', inplace=True)\n",
    "    # target_df.rename(index={int(yesterday):today}, inplace=True)\n",
    "    target_df = pd.concat([target_df, investing_df], axis=1)\n",
    "\n",
    "    return target_df"
   ]
  },
  {
   "cell_type": "code",
   "execution_count": 5,
   "metadata": {},
   "outputs": [],
   "source": [
    "def predict_stock(pred_df, col_list):\n",
    "    min_abs_scaler = MaxAbsScaler()\n",
    "    c_list = list(col_list.index)\n",
    "    each_target_df = table_df[c_list]\n",
    "    X_pred_sc = min_abs_scaler.fit_transform(each_target_df)\n",
    "    X_pred = X_pred_sc.reshape(X_pred_sc.shape[0], model.input.shape[1], 1)\n",
    "\n",
    "    predict = model.predict(X_pred)\n",
    "    \n",
    "    return predict"
   ]
  },
  {
   "cell_type": "code",
   "execution_count": null,
   "metadata": {},
   "outputs": [],
   "source": [
    "stock_list = kosdaq_list\n",
    "col_list = col_list_small_six_month\n",
    "model = model_small_six_month\n",
    "pred_df = pd.DataFrame()\n",
    "time_cnt = 0\n",
    "\n",
    "while True:\n",
    "        now = datetime.now()\n",
    "        t = time.time()\n",
    "        if (now.minute == 30) & (now.hour == 15):\n",
    "            break\n",
    "        elif (now.hour < 9) | (now.hour > 16):\n",
    "            time_cnt += 1\n",
    "            if time_cnt == 10:\n",
    "                print('박대기중~~~~~~~')\n",
    "                time_cnt = 0\n",
    "            time.sleep(1)\n",
    "        else:\n",
    "                   \n",
    "            for code in stock_list:\n",
    "               \n",
    "                cnt = 0\n",
    "                count = 0\n",
    "                while True:\n",
    "                    cnt += 1\n",
    "                    if cnt == 10:\n",
    "                        print('진행중~~~~~~~')\n",
    "                        cnt = 0\n",
    "                    count = get_pymysql_traidng_table_check('trading_data',code, DBConnection_trading().get_pymysql_connection())\n",
    "                    if count == 1:\n",
    "                        break\n",
    "                    time.sleep(1)\n",
    "                # 전날 일봉 데이터와 investing data\n",
    "                \n",
    "                day_stock_investing_df = get_pymysql_day_stock(DBConnection_trading().get_sqlalchemy_connect_ip(), code, yesterday, investing_df)\n",
    "                \n",
    "                # day_stock_investing_df.reset_index(drop=True, inplace=True)\n",
    "                try:\n",
    "                    sql = f\"SELECT 시간, 시가, 고가, 저가, 종가, 거래량, 거래대금, 누적체결매도수량, 누적체결매수수량, 년, 월, 일 FROM trading_data.{code}_{today} ORDER BY 시간 DESC LIMIT 1\"\n",
    "                    table_data = DBConnection_trading().get_sqlalchemy_connect_ip().execute(sql) \n",
    "                    table_df = pd.DataFrame(table_data.fetchall())  # DB내 테이블을 DF로 변환\n",
    "                \n",
    "                    table_df = pd.concat([table_df, day_stock_investing_df], axis=1 )\n",
    "                    \n",
    "                    predict_ = predict_stock(table_df, col_list)\n",
    "                    \n",
    "                    predict_df = pd.DataFrame(predict_)\n",
    "                    predict_df['비교'] = (predict_df[0] - predict_df[1])\n",
    "                    predict_df['id'] = t\n",
    "                    pred_df.append(predict_df)\n",
    "                    \n",
    "                    pred_cnt =  get_pymysql_traidng_table_check('predict_data',code, DBConnection_trading().get_pymysql_connection())\n",
    "                    time.sleep(0.2)\n",
    "                    if pred_cnt == 0:\n",
    "                        predict_df.to_sql(name='{0}_{1}'.format(code, yesterday), con=DBConnection_predict().get_sqlalchemy_connect_ip(), if_exists='replace', index=False)\n",
    "                    else:\n",
    "                        predict_df.to_sql(name='{0}_{1}'.format(code, yesterday), con=DBConnection_predict().get_sqlalchemy_connect_ip(), if_exists='append', index=False)\n",
    "                except:\n",
    "                        print('SQL 에러 발생')"
   ]
  },
  {
   "cell_type": "code",
   "execution_count": null,
   "metadata": {},
   "outputs": [],
   "source": [
    "stock_list = ['207760','065950','366030','073570','066410','005860','013720','023440','226330','028300612500']\n"
   ]
  },
  {
   "cell_type": "code",
   "execution_count": null,
   "metadata": {},
   "outputs": [],
   "source": [
    "col_list_small_six_month = ls_small_six_month.col_list"
   ]
  },
  {
   "cell_type": "code",
   "execution_count": null,
   "metadata": {},
   "outputs": [
    {
     "name": "stdout",
     "output_type": "stream",
     "text": [
      "시간                     -0.200079\n",
      "누적체결매수수량                0.081746\n",
      "전일대비                    0.032197\n",
      "기관순매수량                 -0.059900\n",
      "기관누적순매수량               -0.056364\n",
      "JPYKRW내역_거래량            0.070113\n",
      "SETIndex내역_변동          -0.040960\n",
      "SPBMVIPC내역_거래량          0.042222\n",
      "VN30내역_거래량              0.044981\n",
      "WTI유선물내역_거래량           -0.060008\n",
      "WTI유선물내역_변동            -0.043279\n",
      "구리선물내역_거래량              0.037497\n",
      "구리선물내역_변동              -0.058747\n",
      "금선물내역_거래량               0.090632\n",
      "나스닥종합지수내역_거래량           0.044260\n",
      "다우존스내역_거래량              0.046007\n",
      "대만가권내역_거래량              0.068177\n",
      "독일1년채권수익율내역_변동         -0.034842\n",
      "독일9개월채권수익율내역_고가         0.031123\n",
      "미국소맥선물내역_변동            -0.052664\n",
      "벨기에BEL내역_거래량            0.072650\n",
      "브라질보베스파내역_거래량           0.036642\n",
      "브라질보베스파내역_변동           -0.059360\n",
      "사우디아라비아Tadawul내역_거래량    0.059909\n",
      "사우디아라비아Tadawul내역_변동     0.052540\n",
      "스웨덴OMXS내역_거래량           0.039097\n",
      "스위스6개월채권수익율내역_변동       -0.083119\n",
      "스위스SMI내역_거래량            0.050211\n",
      "영국FTSE내역_거래량            0.057320\n",
      "이탈리아FTSEMIB내역_거래량       0.033271\n",
      "일본1개월채권수익율내역_종가        -0.040819\n",
      "일본1개월채권수익율내역_오픈        -0.082054\n",
      "일본1개월채권수익율내역_고가        -0.099431\n",
      "일본1개월채권수익율내역_저가        -0.030174\n",
      "일본9개월채권수익율내역_오픈         0.083122\n",
      "일본9개월채권수익율내역_고가         0.103407\n",
      "일본9개월채권수익율내역_저가        -0.054845\n",
      "일본9개월채권수익율내역_변동         0.067465\n",
      "캐나다SPTSX내역_거래량          0.084766\n",
      "코스피50내역_거래량             0.055561\n",
      "터키BIST내역_거래량           -0.037287\n",
      "터키BIST내역_변동            -0.048733\n",
      "프랑스9개월채권수익율내역_변동       -0.039565\n",
      "한국1년채권수익율내역_변동          0.048876\n",
      "항셍내역_거래량                0.063573\n",
      "호주SPASX내역_거래량           0.063833\n",
      "시가                     -0.014583\n",
      "고가                     -0.014174\n",
      "저가                     -0.014912\n",
      "종가                     -0.014480\n",
      "Name: pct_label, dtype: float64\n"
     ]
    }
   ],
   "source": [
    "print(col_list_small_six_month)"
   ]
  },
  {
   "cell_type": "code",
   "execution_count": null,
   "metadata": {},
   "outputs": [
    {
     "ename": "NameError",
     "evalue": "name 'col_list' is not defined",
     "output_type": "error",
     "traceback": [
      "\u001b[1;31m---------------------------------------------------------------------------\u001b[0m",
      "\u001b[1;31mNameError\u001b[0m                                 Traceback (most recent call last)",
      "\u001b[1;32m~\\AppData\\Local\\Temp\\ipykernel_6364\\1612369233.py\u001b[0m in \u001b[0;36m<module>\u001b[1;34m\u001b[0m\n\u001b[1;32m----> 1\u001b[1;33m \u001b[0mcol_list\u001b[0m\u001b[1;33m\u001b[0m\u001b[1;33m\u001b[0m\u001b[0m\n\u001b[0m",
      "\u001b[1;31mNameError\u001b[0m: name 'col_list' is not defined"
     ]
    }
   ],
   "source": [
    "col_list"
   ]
  },
  {
   "cell_type": "code",
   "execution_count": 1,
   "metadata": {},
   "outputs": [
    {
     "name": "stdout",
     "output_type": "stream",
     "text": [
      "실시간 트레이딩 기준 날짜 : 20221221\n",
      "크롤링 실행 중\n",
      "크롤링 실행\n"
     ]
    }
   ],
   "source": [
    "from final_target import get_target_list_db, get_target\n",
    "from final_predict import stock_predict\n",
    "from final_model import LstmNetwork\n",
    "\n",
    "from keras.models import load_model\n",
    "import tensorflow as tf\n",
    "import os\n",
    "\n",
    "# tf gpu 메모리 관련 코드 \n",
    "gpus = tf.config.list_physical_devices(device_type = 'GPU')\n",
    "tf.config.experimental.set_memory_growth(gpus[0], True)\n",
    "os.environ[\"CUDA_VISIBLE_DEVICES\"] = \"0\"\n",
    "\n",
    "kospi_list, kosdaq_list = get_target_list_db()\n",
    "investing_df = get_target(path=r'C:\\big15\\project-dev\\trading\\download\\target')\n",
    "\n",
    "# # 대형주 1년 학습\n",
    "# ls_big_year = LstmNetwork('대형주', kospi_list, '1년', 280, 0.02)\n",
    "# col_list_big_year = ls_big_year.complete_corr\n",
    "# modelpath_big_year = ls_big_year.LstmModel()\n",
    "# model_big_year = load_model(modelpath_big_year)\n",
    "\n",
    "# # 대형주 1년 트레이딩\n",
    "# stock_predict(kospi_list, investing_df, col_list_big_year, model_big_year)\n",
    "\n",
    "\n",
    "\n",
    "# # 대형주 6개월 학습\n",
    "# ls_big_six_month = LstmNetwork('대형주', kospi_list, '6개월', 140, 0.04 )\n",
    "# col_list_big_six_month = ls_big_six_month.complete_corr\n",
    "# modelpath_big_six_month = ls_big_six_month.LstmModel()\n",
    "# model_big_six_month = load_model(modelpath_big_six_month)\n",
    "\n",
    "# # 대형주 6개월 트레이딩\n",
    "# stock_predict(kospi_list, investing_df, col_list_big_six_month, model_big_six_month)\n",
    "\n",
    "\n",
    "\n",
    "# # 소형주 1년 학습\n",
    "# ls_small_year = LstmNetwork('소형주', kosdaq_list, '1년', 280, 0.03)\n",
    "# col_list_small_year = ls_small_year.complete_corr\n",
    "# modelpath_small_year = ls_small_year.LstmModel()\n",
    "# model_small_year = load_model(modelpath_small_year)\n",
    "\n",
    "# # 소형주 1년 트레이딩\n",
    "# stock_predict(kosdaq_list, investing_df, col_list_small_year, model_small_year)\n",
    "\n",
    "\n",
    "\n",
    "# # 소형주 6개월 학습\n",
    "# ls_small_six_month = LstmNetwork('소형주', kosdaq_list, '6개월', 140, 0.03)\n",
    "# col_list_small_six_month = ls_small_six_month.col_list\n",
    "# model_small_six_month = ls_small_six_month.model_weight\n",
    "\n",
    "# # with open( './pickle/pickle_corr_complete/소형주_20221216_6개월_10개_0.03.pkl', 'rb') as p:\n",
    "# #     col_list_small_six_month = pickle.load(p)\n",
    "# # modelpath_small_six_month = './model/소형주_20221216_6개월_lstm_30ep_64bs_5pa_0.03newcor.hdf5'\n",
    "# # model_small_six_month = load_model(modelpath_small_six_month)\n",
    "\n",
    "# # 소형주 6개월 트레이딩\n",
    "# stock_predict(kosdaq_list, investing_df, col_list_small_six_month, model_small_six_month)"
   ]
  },
  {
   "cell_type": "code",
   "execution_count": 2,
   "metadata": {},
   "outputs": [
    {
     "data": {
      "text/html": [
       "<div>\n",
       "<style scoped>\n",
       "    .dataframe tbody tr th:only-of-type {\n",
       "        vertical-align: middle;\n",
       "    }\n",
       "\n",
       "    .dataframe tbody tr th {\n",
       "        vertical-align: top;\n",
       "    }\n",
       "\n",
       "    .dataframe thead th {\n",
       "        text-align: right;\n",
       "    }\n",
       "</style>\n",
       "<table border=\"1\" class=\"dataframe\">\n",
       "  <thead>\n",
       "    <tr style=\"text-align: right;\">\n",
       "      <th></th>\n",
       "      <th>AEDKRW내역_종가</th>\n",
       "      <th>AEDKRW내역_오픈</th>\n",
       "      <th>AEDKRW내역_고가</th>\n",
       "      <th>AEDKRW내역_저가</th>\n",
       "      <th>AEDKRW내역_거래량</th>\n",
       "      <th>AEDKRW내역_변동</th>\n",
       "      <th>ATX내역_종가</th>\n",
       "      <th>ATX내역_오픈</th>\n",
       "      <th>ATX내역_고가</th>\n",
       "      <th>ATX내역_저가</th>\n",
       "      <th>...</th>\n",
       "      <th>헝가리BUX내역_고가</th>\n",
       "      <th>헝가리BUX내역_저가</th>\n",
       "      <th>헝가리BUX내역_거래량</th>\n",
       "      <th>헝가리BUX내역_변동</th>\n",
       "      <th>호주SPASX내역_종가</th>\n",
       "      <th>호주SPASX내역_오픈</th>\n",
       "      <th>호주SPASX내역_고가</th>\n",
       "      <th>호주SPASX내역_저가</th>\n",
       "      <th>호주SPASX내역_거래량</th>\n",
       "      <th>호주SPASX내역_변동</th>\n",
       "    </tr>\n",
       "  </thead>\n",
       "  <tbody>\n",
       "    <tr>\n",
       "      <th>0</th>\n",
       "      <td>351.36</td>\n",
       "      <td>354.41</td>\n",
       "      <td>355.3</td>\n",
       "      <td>350.04</td>\n",
       "      <td>0.0</td>\n",
       "      <td>-0.82</td>\n",
       "      <td>3066.84</td>\n",
       "      <td>3059.12</td>\n",
       "      <td>3099.53</td>\n",
       "      <td>3057.85</td>\n",
       "      <td>...</td>\n",
       "      <td>45494.53</td>\n",
       "      <td>44800.37</td>\n",
       "      <td>0.0</td>\n",
       "      <td>0.45</td>\n",
       "      <td>7024.3</td>\n",
       "      <td>7133.9</td>\n",
       "      <td>7133.9</td>\n",
       "      <td>7019.5</td>\n",
       "      <td>678280000</td>\n",
       "      <td>-1.54</td>\n",
       "    </tr>\n",
       "  </tbody>\n",
       "</table>\n",
       "<p>1 rows × 1266 columns</p>\n",
       "</div>"
      ],
      "text/plain": [
       "   AEDKRW내역_종가  AEDKRW내역_오픈  AEDKRW내역_고가  AEDKRW내역_저가  AEDKRW내역_거래량  \\\n",
       "0       351.36       354.41        355.3       350.04           0.0   \n",
       "\n",
       "   AEDKRW내역_변동  ATX내역_종가  ATX내역_오픈  ATX내역_고가  ATX내역_저가  ...  헝가리BUX내역_고가  \\\n",
       "0        -0.82   3066.84   3059.12   3099.53   3057.85  ...     45494.53   \n",
       "\n",
       "   헝가리BUX내역_저가  헝가리BUX내역_거래량  헝가리BUX내역_변동  호주SPASX내역_종가  호주SPASX내역_오픈  \\\n",
       "0     44800.37           0.0         0.45        7024.3        7133.9   \n",
       "\n",
       "   호주SPASX내역_고가  호주SPASX내역_저가  호주SPASX내역_거래량  호주SPASX내역_변동  \n",
       "0        7133.9        7019.5      678280000         -1.54  \n",
       "\n",
       "[1 rows x 1266 columns]"
      ]
     },
     "execution_count": 2,
     "metadata": {},
     "output_type": "execute_result"
    }
   ],
   "source": [
    "investing_df"
   ]
  },
  {
   "cell_type": "code",
   "execution_count": 2,
   "metadata": {},
   "outputs": [],
   "source": [
    "import pandas as pd"
   ]
  },
  {
   "cell_type": "code",
   "execution_count": 3,
   "metadata": {},
   "outputs": [],
   "source": [
    "investing_df = pd.read_csv('./download/investing_df/investing_20221221.csv', encoding='utf-8-sig', index_col=0)"
   ]
  },
  {
   "cell_type": "code",
   "execution_count": 4,
   "metadata": {},
   "outputs": [
    {
     "data": {
      "text/html": [
       "<div>\n",
       "<style scoped>\n",
       "    .dataframe tbody tr th:only-of-type {\n",
       "        vertical-align: middle;\n",
       "    }\n",
       "\n",
       "    .dataframe tbody tr th {\n",
       "        vertical-align: top;\n",
       "    }\n",
       "\n",
       "    .dataframe thead th {\n",
       "        text-align: right;\n",
       "    }\n",
       "</style>\n",
       "<table border=\"1\" class=\"dataframe\">\n",
       "  <thead>\n",
       "    <tr style=\"text-align: right;\">\n",
       "      <th></th>\n",
       "      <th>AEDKRW내역_종가</th>\n",
       "      <th>AEDKRW내역_오픈</th>\n",
       "      <th>AEDKRW내역_고가</th>\n",
       "      <th>AEDKRW내역_저가</th>\n",
       "      <th>AEDKRW내역_거래량</th>\n",
       "      <th>AEDKRW내역_변동</th>\n",
       "      <th>ATX내역_종가</th>\n",
       "      <th>ATX내역_오픈</th>\n",
       "      <th>ATX내역_고가</th>\n",
       "      <th>ATX내역_저가</th>\n",
       "      <th>...</th>\n",
       "      <th>헝가리BUX내역_고가</th>\n",
       "      <th>헝가리BUX내역_저가</th>\n",
       "      <th>헝가리BUX내역_거래량</th>\n",
       "      <th>헝가리BUX내역_변동</th>\n",
       "      <th>호주SPASX내역_종가</th>\n",
       "      <th>호주SPASX내역_오픈</th>\n",
       "      <th>호주SPASX내역_고가</th>\n",
       "      <th>호주SPASX내역_저가</th>\n",
       "      <th>호주SPASX내역_거래량</th>\n",
       "      <th>호주SPASX내역_변동</th>\n",
       "    </tr>\n",
       "  </thead>\n",
       "  <tbody>\n",
       "    <tr>\n",
       "      <th>0</th>\n",
       "      <td>351.36</td>\n",
       "      <td>354.41</td>\n",
       "      <td>355.3</td>\n",
       "      <td>350.04</td>\n",
       "      <td>0.0</td>\n",
       "      <td>-0.82</td>\n",
       "      <td>3066.84</td>\n",
       "      <td>3059.12</td>\n",
       "      <td>3099.53</td>\n",
       "      <td>3057.85</td>\n",
       "      <td>...</td>\n",
       "      <td>45494.53</td>\n",
       "      <td>44800.37</td>\n",
       "      <td>0.0</td>\n",
       "      <td>0.45</td>\n",
       "      <td>7024.3</td>\n",
       "      <td>7133.9</td>\n",
       "      <td>7133.9</td>\n",
       "      <td>7019.5</td>\n",
       "      <td>678280000</td>\n",
       "      <td>-1.54</td>\n",
       "    </tr>\n",
       "  </tbody>\n",
       "</table>\n",
       "<p>1 rows × 1266 columns</p>\n",
       "</div>"
      ],
      "text/plain": [
       "   AEDKRW내역_종가  AEDKRW내역_오픈  AEDKRW내역_고가  AEDKRW내역_저가  AEDKRW내역_거래량  \\\n",
       "0       351.36       354.41        355.3       350.04           0.0   \n",
       "\n",
       "   AEDKRW내역_변동  ATX내역_종가  ATX내역_오픈  ATX내역_고가  ATX내역_저가  ...  헝가리BUX내역_고가  \\\n",
       "0        -0.82   3066.84   3059.12   3099.53   3057.85  ...     45494.53   \n",
       "\n",
       "   헝가리BUX내역_저가  헝가리BUX내역_거래량  헝가리BUX내역_변동  호주SPASX내역_종가  호주SPASX내역_오픈  \\\n",
       "0     44800.37           0.0         0.45        7024.3        7133.9   \n",
       "\n",
       "   호주SPASX내역_고가  호주SPASX내역_저가  호주SPASX내역_거래량  호주SPASX내역_변동  \n",
       "0        7133.9        7019.5      678280000         -1.54  \n",
       "\n",
       "[1 rows x 1266 columns]"
      ]
     },
     "execution_count": 4,
     "metadata": {},
     "output_type": "execute_result"
    }
   ],
   "source": [
    "investing_df"
   ]
  },
  {
   "cell_type": "code",
   "execution_count": 1,
   "metadata": {},
   "outputs": [
    {
     "name": "stdout",
     "output_type": "stream",
     "text": [
      "실시간 트레이딩 기준 날짜 : 20221221\n",
      "False\n"
     ]
    },
    {
     "name": "stderr",
     "output_type": "stream",
     "text": [
      "100%|██████████| 10/10 [00:43<00:00,  4.39s/it]\n"
     ]
    },
    {
     "name": "stdout",
     "output_type": "stream",
     "text": [
      "학습 모델 저장 완료\n"
     ]
    },
    {
     "name": "stderr",
     "output_type": "stream",
     "text": [
      "1287it [00:13, 96.50it/s]\n",
      "100%|██████████| 984/984 [00:00<00:00, 246827.05it/s]\n",
      "100%|██████████| 6/6 [00:00<?, ?it/s]\n"
     ]
    },
    {
     "name": "stdout",
     "output_type": "stream",
     "text": [
      "Model: \"model\"\n",
      "_________________________________________________________________\n",
      "Layer (type)                 Output Shape              Param #   \n",
      "=================================================================\n",
      "input_1 (InputLayer)         [(None, 19, 1)]           0         \n",
      "_________________________________________________________________\n",
      "lstm (LSTM)                  (None, 19, 16)            1152      \n",
      "_________________________________________________________________\n",
      "batch_normalization (BatchNo (None, 19, 16)            64        \n",
      "_________________________________________________________________\n",
      "activation (Activation)      (None, 19, 16)            304       \n",
      "_________________________________________________________________\n",
      "lstm_1 (LSTM)                (None, 16)                2112      \n",
      "_________________________________________________________________\n",
      "batch_normalization_1 (Batch (None, 16)                64        \n",
      "_________________________________________________________________\n",
      "activation_1 (Activation)    (None, 16)                16        \n",
      "_________________________________________________________________\n",
      "dense (Dense)                (None, 2)                 34        \n",
      "_________________________________________________________________\n",
      "batch_normalization_2 (Batch (None, 2)                 8         \n",
      "_________________________________________________________________\n",
      "activation_2 (Activation)    (None, 2)                 0         \n",
      "=================================================================\n",
      "Total params: 3,754\n",
      "Trainable params: 3,686\n",
      "Non-trainable params: 68\n",
      "_________________________________________________________________\n",
      "Epoch 1/30\n",
      "5622/5622 [==============================] - 111s 15ms/step - loss: 0.6569 - accuracy: 0.6137 - val_loss: 0.6931 - val_accuracy: 0.5739\n",
      "Epoch 2/30\n",
      "5622/5622 [==============================] - 85s 15ms/step - loss: 0.6457 - accuracy: 0.6289 - val_loss: 0.6965 - val_accuracy: 0.5756\n",
      "Epoch 3/30\n",
      "4693/5622 [========================>.....] - ETA: 12s - loss: 0.6430 - accuracy: 0.6323"
     ]
    },
    {
     "ename": "KeyboardInterrupt",
     "evalue": "",
     "output_type": "error",
     "traceback": [
      "\u001b[1;31m---------------------------------------------------------------------------\u001b[0m",
      "\u001b[1;31mKeyboardInterrupt\u001b[0m                         Traceback (most recent call last)",
      "\u001b[1;32md:\\systrader-dev\\trading\\test.ipynb 셀 16\u001b[0m in \u001b[0;36m<cell line: 47>\u001b[1;34m()\u001b[0m\n\u001b[0;32m     <a href='vscode-notebook-cell:/d%3A/systrader-dev/trading/test.ipynb#X21sZmlsZQ%3D%3D?line=29'>30</a>\u001b[0m \u001b[39m# # C:\\big15\\project-dev\\trading\\download\\target\u001b[39;00m\n\u001b[0;32m     <a href='vscode-notebook-cell:/d%3A/systrader-dev/trading/test.ipynb#X21sZmlsZQ%3D%3D?line=30'>31</a>\u001b[0m \u001b[39m# # D:\\systrader-dev\\trading\\download\\target\u001b[39;00m\n\u001b[0;32m     <a href='vscode-notebook-cell:/d%3A/systrader-dev/trading/test.ipynb#X21sZmlsZQ%3D%3D?line=31'>32</a>\u001b[0m \n\u001b[1;32m   (...)\u001b[0m\n\u001b[0;32m     <a href='vscode-notebook-cell:/d%3A/systrader-dev/trading/test.ipynb#X21sZmlsZQ%3D%3D?line=43'>44</a>\u001b[0m \n\u001b[0;32m     <a href='vscode-notebook-cell:/d%3A/systrader-dev/trading/test.ipynb#X21sZmlsZQ%3D%3D?line=44'>45</a>\u001b[0m \u001b[39m# # 대형주 6개월 학습\u001b[39;00m\n\u001b[0;32m     <a href='vscode-notebook-cell:/d%3A/systrader-dev/trading/test.ipynb#X21sZmlsZQ%3D%3D?line=45'>46</a>\u001b[0m account_name\u001b[39m=\u001b[39m \u001b[39m'\u001b[39m\u001b[39m03big15\u001b[39m\u001b[39m'\u001b[39m\n\u001b[1;32m---> <a href='vscode-notebook-cell:/d%3A/systrader-dev/trading/test.ipynb#X21sZmlsZQ%3D%3D?line=46'>47</a>\u001b[0m ls_big_six_month \u001b[39m=\u001b[39m LstmNetwork(\u001b[39m'\u001b[39;49m\u001b[39m대형주\u001b[39;49m\u001b[39m'\u001b[39;49m, kospi_list, \u001b[39m'\u001b[39;49m\u001b[39m6개월\u001b[39;49m\u001b[39m'\u001b[39;49m, \u001b[39m140\u001b[39;49m, \u001b[39m0.04\u001b[39;49m )\n\u001b[0;32m     <a href='vscode-notebook-cell:/d%3A/systrader-dev/trading/test.ipynb#X21sZmlsZQ%3D%3D?line=48'>49</a>\u001b[0m \u001b[39m# with open(f'./pickle/pickle_corr_complete/대형주_20221221_6개월_10개_0.04.pkl', 'rb') as f:\u001b[39;00m\n\u001b[0;32m     <a href='vscode-notebook-cell:/d%3A/systrader-dev/trading/test.ipynb#X21sZmlsZQ%3D%3D?line=49'>50</a>\u001b[0m \u001b[39m#     col_list_big_six_month = pickle.load(f) # 상관 계수에 따른 컬럼 리스트\u001b[39;00m\n\u001b[0;32m     <a href='vscode-notebook-cell:/d%3A/systrader-dev/trading/test.ipynb#X21sZmlsZQ%3D%3D?line=50'>51</a>\u001b[0m \u001b[39m# model_big_six_month = load_model(f\"./model/weight/대형주_20221221_6개월_lstm_30ep_64bs_5pa_0.04newcor.hdf5\")\u001b[39;00m\n\u001b[0;32m     <a href='vscode-notebook-cell:/d%3A/systrader-dev/trading/test.ipynb#X21sZmlsZQ%3D%3D?line=51'>52</a>\u001b[0m col_list_big_six_month \u001b[39m=\u001b[39m ls_big_six_month\u001b[39m.\u001b[39mcol_list\n",
      "File \u001b[1;32md:\\systrader-dev\\trading\\final_model.py:232\u001b[0m, in \u001b[0;36mLstmNetwork.__init__\u001b[1;34m(self, *args, **kwargs)\u001b[0m\n\u001b[0;32m    230\u001b[0m \u001b[39mprint\u001b[39m(check)\n\u001b[0;32m    231\u001b[0m \u001b[39mif\u001b[39;00m check \u001b[39m==\u001b[39m \u001b[39mFalse\u001b[39;00m:\n\u001b[1;32m--> 232\u001b[0m     \u001b[39mself\u001b[39;49m\u001b[39m.\u001b[39;49mlstm_model()\n\u001b[0;32m    233\u001b[0m \u001b[39melse\u001b[39;00m:\n\u001b[0;32m    234\u001b[0m     \u001b[39mwith\u001b[39;00m \u001b[39mopen\u001b[39m(\u001b[39mf\u001b[39m\u001b[39m'\u001b[39m\u001b[39m./pickle/pickle_corr_complete//\u001b[39m\u001b[39m{\u001b[39;00m\u001b[39mself\u001b[39m\u001b[39m.\u001b[39mstock_type\u001b[39m}\u001b[39;00m\u001b[39m_\u001b[39m\u001b[39m{\u001b[39;00m\u001b[39mself\u001b[39m\u001b[39m.\u001b[39mtoday\u001b[39m}\u001b[39;00m\u001b[39m_\u001b[39m\u001b[39m{\u001b[39;00m\u001b[39mself\u001b[39m\u001b[39m.\u001b[39mperiod\u001b[39m}\u001b[39;00m\u001b[39m_10개_\u001b[39m\u001b[39m{\u001b[39;00m\u001b[39mself\u001b[39m\u001b[39m.\u001b[39mcorr\u001b[39m}\u001b[39;00m\u001b[39m.pkl\u001b[39m\u001b[39m'\u001b[39m, \u001b[39m'\u001b[39m\u001b[39mrb\u001b[39m\u001b[39m'\u001b[39m) \u001b[39mas\u001b[39;00m f:\n",
      "File \u001b[1;32md:\\systrader-dev\\trading\\final_model.py:297\u001b[0m, in \u001b[0;36mLstmNetwork.lstm_model\u001b[1;34m(self)\u001b[0m\n\u001b[0;32m    294\u001b[0m model\u001b[39m.\u001b[39msummary()\n\u001b[0;32m    295\u001b[0m model\u001b[39m.\u001b[39mcompile(loss\u001b[39m=\u001b[39m\u001b[39m'\u001b[39m\u001b[39mcategorical_crossentropy\u001b[39m\u001b[39m'\u001b[39m, optimizer\u001b[39m=\u001b[39moptimizers\u001b[39m.\u001b[39mAdam(learning_rate\u001b[39m=\u001b[39m\u001b[39mself\u001b[39m\u001b[39m.\u001b[39mlearning_rate, decay\u001b[39m=\u001b[39m\u001b[39mself\u001b[39m\u001b[39m.\u001b[39mdecay), metrics\u001b[39m=\u001b[39m[\u001b[39m'\u001b[39m\u001b[39maccuracy\u001b[39m\u001b[39m'\u001b[39m])\n\u001b[1;32m--> 297\u001b[0m history\u001b[39m=\u001b[39mmodel\u001b[39m.\u001b[39;49mfit(X_train, y_train, epochs\u001b[39m=\u001b[39;49m\u001b[39mself\u001b[39;49m\u001b[39m.\u001b[39;49mepochs, batch_size\u001b[39m=\u001b[39;49m\u001b[39mself\u001b[39;49m\u001b[39m.\u001b[39;49mbatch_size,verbose\u001b[39m=\u001b[39;49m\u001b[39m1\u001b[39;49m, validation_data\u001b[39m=\u001b[39;49m(X_test, y_test), callbacks\u001b[39m=\u001b[39;49m[early_stopping_callback, checkpointer])\n\u001b[0;32m    299\u001b[0m \u001b[39mwith\u001b[39;00m \u001b[39mopen\u001b[39m(\u001b[39mf\u001b[39m\u001b[39m'\u001b[39m\u001b[39m./model/history/\u001b[39m\u001b[39m{\u001b[39;00m\u001b[39mself\u001b[39m\u001b[39m.\u001b[39mstock_type\u001b[39m}\u001b[39;00m\u001b[39m_\u001b[39m\u001b[39m{\u001b[39;00m\u001b[39mself\u001b[39m\u001b[39m.\u001b[39mtoday\u001b[39m}\u001b[39;00m\u001b[39m_\u001b[39m\u001b[39m{\u001b[39;00m\u001b[39mself\u001b[39m\u001b[39m.\u001b[39mperiod\u001b[39m}\u001b[39;00m\u001b[39m_lstm_\u001b[39m\u001b[39m{\u001b[39;00m\u001b[39mself\u001b[39m\u001b[39m.\u001b[39mepochs\u001b[39m}\u001b[39;00m\u001b[39mep_\u001b[39m\u001b[39m{\u001b[39;00m\u001b[39mself\u001b[39m\u001b[39m.\u001b[39mbatch_size\u001b[39m}\u001b[39;00m\u001b[39mbs_\u001b[39m\u001b[39m{\u001b[39;00m\u001b[39mself\u001b[39m\u001b[39m.\u001b[39mpatience\u001b[39m}\u001b[39;00m\u001b[39mpa_\u001b[39m\u001b[39m{\u001b[39;00m\u001b[39mself\u001b[39m\u001b[39m.\u001b[39mcorr\u001b[39m}\u001b[39;00m\u001b[39mnewcor.json\u001b[39m\u001b[39m'\u001b[39m, \u001b[39m'\u001b[39m\u001b[39mwb\u001b[39m\u001b[39m'\u001b[39m) \u001b[39mas\u001b[39;00m f:\n\u001b[0;32m    300\u001b[0m     pickle\u001b[39m.\u001b[39mdump(history\u001b[39m.\u001b[39mhistory, f)\n",
      "File \u001b[1;32mc:\\Users\\TJ\\anaconda3\\envs\\tf2\\lib\\site-packages\\keras\\engine\\training.py:1189\u001b[0m, in \u001b[0;36mModel.fit\u001b[1;34m(self, x, y, batch_size, epochs, verbose, callbacks, validation_split, validation_data, shuffle, class_weight, sample_weight, initial_epoch, steps_per_epoch, validation_steps, validation_batch_size, validation_freq, max_queue_size, workers, use_multiprocessing)\u001b[0m\n\u001b[0;32m   1187\u001b[0m logs \u001b[39m=\u001b[39m tmp_logs  \u001b[39m# No error, now safe to assign to logs.\u001b[39;00m\n\u001b[0;32m   1188\u001b[0m end_step \u001b[39m=\u001b[39m step \u001b[39m+\u001b[39m data_handler\u001b[39m.\u001b[39mstep_increment\n\u001b[1;32m-> 1189\u001b[0m callbacks\u001b[39m.\u001b[39;49mon_train_batch_end(end_step, logs)\n\u001b[0;32m   1190\u001b[0m \u001b[39mif\u001b[39;00m \u001b[39mself\u001b[39m\u001b[39m.\u001b[39mstop_training:\n\u001b[0;32m   1191\u001b[0m   \u001b[39mbreak\u001b[39;00m\n",
      "File \u001b[1;32mc:\\Users\\TJ\\anaconda3\\envs\\tf2\\lib\\site-packages\\keras\\callbacks.py:435\u001b[0m, in \u001b[0;36mCallbackList.on_train_batch_end\u001b[1;34m(self, batch, logs)\u001b[0m\n\u001b[0;32m    428\u001b[0m \u001b[39m\"\"\"Calls the `on_train_batch_end` methods of its callbacks.\u001b[39;00m\n\u001b[0;32m    429\u001b[0m \n\u001b[0;32m    430\u001b[0m \u001b[39mArgs:\u001b[39;00m\n\u001b[0;32m    431\u001b[0m \u001b[39m    batch: Integer, index of batch within the current epoch.\u001b[39;00m\n\u001b[0;32m    432\u001b[0m \u001b[39m    logs: Dict. Aggregated metric results up until this batch.\u001b[39;00m\n\u001b[0;32m    433\u001b[0m \u001b[39m\"\"\"\u001b[39;00m\n\u001b[0;32m    434\u001b[0m \u001b[39mif\u001b[39;00m \u001b[39mself\u001b[39m\u001b[39m.\u001b[39m_should_call_train_batch_hooks:\n\u001b[1;32m--> 435\u001b[0m   \u001b[39mself\u001b[39;49m\u001b[39m.\u001b[39;49m_call_batch_hook(ModeKeys\u001b[39m.\u001b[39;49mTRAIN, \u001b[39m'\u001b[39;49m\u001b[39mend\u001b[39;49m\u001b[39m'\u001b[39;49m, batch, logs\u001b[39m=\u001b[39;49mlogs)\n",
      "File \u001b[1;32mc:\\Users\\TJ\\anaconda3\\envs\\tf2\\lib\\site-packages\\keras\\callbacks.py:295\u001b[0m, in \u001b[0;36mCallbackList._call_batch_hook\u001b[1;34m(self, mode, hook, batch, logs)\u001b[0m\n\u001b[0;32m    293\u001b[0m   \u001b[39mself\u001b[39m\u001b[39m.\u001b[39m_call_batch_begin_hook(mode, batch, logs)\n\u001b[0;32m    294\u001b[0m \u001b[39melif\u001b[39;00m hook \u001b[39m==\u001b[39m \u001b[39m'\u001b[39m\u001b[39mend\u001b[39m\u001b[39m'\u001b[39m:\n\u001b[1;32m--> 295\u001b[0m   \u001b[39mself\u001b[39;49m\u001b[39m.\u001b[39;49m_call_batch_end_hook(mode, batch, logs)\n\u001b[0;32m    296\u001b[0m \u001b[39melse\u001b[39;00m:\n\u001b[0;32m    297\u001b[0m   \u001b[39mraise\u001b[39;00m \u001b[39mValueError\u001b[39;00m(\u001b[39m'\u001b[39m\u001b[39mUnrecognized hook: \u001b[39m\u001b[39m{}\u001b[39;00m\u001b[39m'\u001b[39m\u001b[39m.\u001b[39mformat(hook))\n",
      "File \u001b[1;32mc:\\Users\\TJ\\anaconda3\\envs\\tf2\\lib\\site-packages\\keras\\callbacks.py:315\u001b[0m, in \u001b[0;36mCallbackList._call_batch_end_hook\u001b[1;34m(self, mode, batch, logs)\u001b[0m\n\u001b[0;32m    312\u001b[0m   batch_time \u001b[39m=\u001b[39m time\u001b[39m.\u001b[39mtime() \u001b[39m-\u001b[39m \u001b[39mself\u001b[39m\u001b[39m.\u001b[39m_batch_start_time\n\u001b[0;32m    313\u001b[0m   \u001b[39mself\u001b[39m\u001b[39m.\u001b[39m_batch_times\u001b[39m.\u001b[39mappend(batch_time)\n\u001b[1;32m--> 315\u001b[0m \u001b[39mself\u001b[39;49m\u001b[39m.\u001b[39;49m_call_batch_hook_helper(hook_name, batch, logs)\n\u001b[0;32m    317\u001b[0m \u001b[39mif\u001b[39;00m \u001b[39mlen\u001b[39m(\u001b[39mself\u001b[39m\u001b[39m.\u001b[39m_batch_times) \u001b[39m>\u001b[39m\u001b[39m=\u001b[39m \u001b[39mself\u001b[39m\u001b[39m.\u001b[39m_num_batches_for_timing_check:\n\u001b[0;32m    318\u001b[0m   end_hook_name \u001b[39m=\u001b[39m hook_name\n",
      "File \u001b[1;32mc:\\Users\\TJ\\anaconda3\\envs\\tf2\\lib\\site-packages\\keras\\callbacks.py:353\u001b[0m, in \u001b[0;36mCallbackList._call_batch_hook_helper\u001b[1;34m(self, hook_name, batch, logs)\u001b[0m\n\u001b[0;32m    351\u001b[0m \u001b[39mfor\u001b[39;00m callback \u001b[39min\u001b[39;00m \u001b[39mself\u001b[39m\u001b[39m.\u001b[39mcallbacks:\n\u001b[0;32m    352\u001b[0m   hook \u001b[39m=\u001b[39m \u001b[39mgetattr\u001b[39m(callback, hook_name)\n\u001b[1;32m--> 353\u001b[0m   hook(batch, logs)\n\u001b[0;32m    355\u001b[0m \u001b[39mif\u001b[39;00m \u001b[39mself\u001b[39m\u001b[39m.\u001b[39m_check_timing:\n\u001b[0;32m    356\u001b[0m   \u001b[39mif\u001b[39;00m hook_name \u001b[39mnot\u001b[39;00m \u001b[39min\u001b[39;00m \u001b[39mself\u001b[39m\u001b[39m.\u001b[39m_hook_times:\n",
      "File \u001b[1;32mc:\\Users\\TJ\\anaconda3\\envs\\tf2\\lib\\site-packages\\keras\\callbacks.py:1028\u001b[0m, in \u001b[0;36mProgbarLogger.on_train_batch_end\u001b[1;34m(self, batch, logs)\u001b[0m\n\u001b[0;32m   1027\u001b[0m \u001b[39mdef\u001b[39;00m \u001b[39mon_train_batch_end\u001b[39m(\u001b[39mself\u001b[39m, batch, logs\u001b[39m=\u001b[39m\u001b[39mNone\u001b[39;00m):\n\u001b[1;32m-> 1028\u001b[0m   \u001b[39mself\u001b[39;49m\u001b[39m.\u001b[39;49m_batch_update_progbar(batch, logs)\n",
      "File \u001b[1;32mc:\\Users\\TJ\\anaconda3\\envs\\tf2\\lib\\site-packages\\keras\\callbacks.py:1100\u001b[0m, in \u001b[0;36mProgbarLogger._batch_update_progbar\u001b[1;34m(self, batch, logs)\u001b[0m\n\u001b[0;32m   1096\u001b[0m   \u001b[39mself\u001b[39m\u001b[39m.\u001b[39mseen \u001b[39m+\u001b[39m\u001b[39m=\u001b[39m add_seen\n\u001b[0;32m   1098\u001b[0m \u001b[39mif\u001b[39;00m \u001b[39mself\u001b[39m\u001b[39m.\u001b[39mverbose \u001b[39m==\u001b[39m \u001b[39m1\u001b[39m:\n\u001b[0;32m   1099\u001b[0m   \u001b[39m# Only block async when verbose = 1.\u001b[39;00m\n\u001b[1;32m-> 1100\u001b[0m   logs \u001b[39m=\u001b[39m tf_utils\u001b[39m.\u001b[39;49msync_to_numpy_or_python_type(logs)\n\u001b[0;32m   1101\u001b[0m   \u001b[39mself\u001b[39m\u001b[39m.\u001b[39mprogbar\u001b[39m.\u001b[39mupdate(\u001b[39mself\u001b[39m\u001b[39m.\u001b[39mseen, \u001b[39mlist\u001b[39m(logs\u001b[39m.\u001b[39mitems()), finalize\u001b[39m=\u001b[39m\u001b[39mFalse\u001b[39;00m)\n",
      "File \u001b[1;32mc:\\Users\\TJ\\anaconda3\\envs\\tf2\\lib\\site-packages\\keras\\utils\\tf_utils.py:516\u001b[0m, in \u001b[0;36msync_to_numpy_or_python_type\u001b[1;34m(tensors)\u001b[0m\n\u001b[0;32m    513\u001b[0m     \u001b[39mreturn\u001b[39;00m x\u001b[39m.\u001b[39mitem() \u001b[39mif\u001b[39;00m np\u001b[39m.\u001b[39mndim(x) \u001b[39m==\u001b[39m \u001b[39m0\u001b[39m \u001b[39melse\u001b[39;00m x\n\u001b[0;32m    514\u001b[0m   \u001b[39mreturn\u001b[39;00m t  \u001b[39m# Don't turn ragged or sparse tensors to NumPy.\u001b[39;00m\n\u001b[1;32m--> 516\u001b[0m \u001b[39mreturn\u001b[39;00m tf\u001b[39m.\u001b[39;49mnest\u001b[39m.\u001b[39;49mmap_structure(_to_single_numpy_or_python_type, tensors)\n",
      "File \u001b[1;32mc:\\Users\\TJ\\anaconda3\\envs\\tf2\\lib\\site-packages\\tensorflow\\python\\util\\nest.py:869\u001b[0m, in \u001b[0;36mmap_structure\u001b[1;34m(func, *structure, **kwargs)\u001b[0m\n\u001b[0;32m    865\u001b[0m flat_structure \u001b[39m=\u001b[39m (flatten(s, expand_composites) \u001b[39mfor\u001b[39;00m s \u001b[39min\u001b[39;00m structure)\n\u001b[0;32m    866\u001b[0m entries \u001b[39m=\u001b[39m \u001b[39mzip\u001b[39m(\u001b[39m*\u001b[39mflat_structure)\n\u001b[0;32m    868\u001b[0m \u001b[39mreturn\u001b[39;00m pack_sequence_as(\n\u001b[1;32m--> 869\u001b[0m     structure[\u001b[39m0\u001b[39m], [func(\u001b[39m*\u001b[39mx) \u001b[39mfor\u001b[39;00m x \u001b[39min\u001b[39;00m entries],\n\u001b[0;32m    870\u001b[0m     expand_composites\u001b[39m=\u001b[39mexpand_composites)\n",
      "File \u001b[1;32mc:\\Users\\TJ\\anaconda3\\envs\\tf2\\lib\\site-packages\\tensorflow\\python\\util\\nest.py:869\u001b[0m, in \u001b[0;36m<listcomp>\u001b[1;34m(.0)\u001b[0m\n\u001b[0;32m    865\u001b[0m flat_structure \u001b[39m=\u001b[39m (flatten(s, expand_composites) \u001b[39mfor\u001b[39;00m s \u001b[39min\u001b[39;00m structure)\n\u001b[0;32m    866\u001b[0m entries \u001b[39m=\u001b[39m \u001b[39mzip\u001b[39m(\u001b[39m*\u001b[39mflat_structure)\n\u001b[0;32m    868\u001b[0m \u001b[39mreturn\u001b[39;00m pack_sequence_as(\n\u001b[1;32m--> 869\u001b[0m     structure[\u001b[39m0\u001b[39m], [func(\u001b[39m*\u001b[39;49mx) \u001b[39mfor\u001b[39;00m x \u001b[39min\u001b[39;00m entries],\n\u001b[0;32m    870\u001b[0m     expand_composites\u001b[39m=\u001b[39mexpand_composites)\n",
      "File \u001b[1;32mc:\\Users\\TJ\\anaconda3\\envs\\tf2\\lib\\site-packages\\keras\\utils\\tf_utils.py:512\u001b[0m, in \u001b[0;36msync_to_numpy_or_python_type.<locals>._to_single_numpy_or_python_type\u001b[1;34m(t)\u001b[0m\n\u001b[0;32m    510\u001b[0m \u001b[39mdef\u001b[39;00m \u001b[39m_to_single_numpy_or_python_type\u001b[39m(t):\n\u001b[0;32m    511\u001b[0m   \u001b[39mif\u001b[39;00m \u001b[39misinstance\u001b[39m(t, tf\u001b[39m.\u001b[39mTensor):\n\u001b[1;32m--> 512\u001b[0m     x \u001b[39m=\u001b[39m t\u001b[39m.\u001b[39;49mnumpy()\n\u001b[0;32m    513\u001b[0m     \u001b[39mreturn\u001b[39;00m x\u001b[39m.\u001b[39mitem() \u001b[39mif\u001b[39;00m np\u001b[39m.\u001b[39mndim(x) \u001b[39m==\u001b[39m \u001b[39m0\u001b[39m \u001b[39melse\u001b[39;00m x\n\u001b[0;32m    514\u001b[0m   \u001b[39mreturn\u001b[39;00m t\n",
      "File \u001b[1;32mc:\\Users\\TJ\\anaconda3\\envs\\tf2\\lib\\site-packages\\tensorflow\\python\\framework\\ops.py:1094\u001b[0m, in \u001b[0;36m_EagerTensorBase.numpy\u001b[1;34m(self)\u001b[0m\n\u001b[0;32m   1071\u001b[0m \u001b[39m\"\"\"Copy of the contents of this Tensor into a NumPy array or scalar.\u001b[39;00m\n\u001b[0;32m   1072\u001b[0m \n\u001b[0;32m   1073\u001b[0m \u001b[39mUnlike NumPy arrays, Tensors are immutable, so this method has to copy\u001b[39;00m\n\u001b[1;32m   (...)\u001b[0m\n\u001b[0;32m   1091\u001b[0m \u001b[39m    NumPy dtype.\u001b[39;00m\n\u001b[0;32m   1092\u001b[0m \u001b[39m\"\"\"\u001b[39;00m\n\u001b[0;32m   1093\u001b[0m \u001b[39m# TODO(slebedev): Consider avoiding a copy for non-CPU or remote tensors.\u001b[39;00m\n\u001b[1;32m-> 1094\u001b[0m maybe_arr \u001b[39m=\u001b[39m \u001b[39mself\u001b[39;49m\u001b[39m.\u001b[39;49m_numpy()  \u001b[39m# pylint: disable=protected-access\u001b[39;00m\n\u001b[0;32m   1095\u001b[0m \u001b[39mreturn\u001b[39;00m maybe_arr\u001b[39m.\u001b[39mcopy() \u001b[39mif\u001b[39;00m \u001b[39misinstance\u001b[39m(maybe_arr, np\u001b[39m.\u001b[39mndarray) \u001b[39melse\u001b[39;00m maybe_arr\n",
      "File \u001b[1;32mc:\\Users\\TJ\\anaconda3\\envs\\tf2\\lib\\site-packages\\tensorflow\\python\\framework\\ops.py:1060\u001b[0m, in \u001b[0;36m_EagerTensorBase._numpy\u001b[1;34m(self)\u001b[0m\n\u001b[0;32m   1058\u001b[0m \u001b[39mdef\u001b[39;00m \u001b[39m_numpy\u001b[39m(\u001b[39mself\u001b[39m):\n\u001b[0;32m   1059\u001b[0m   \u001b[39mtry\u001b[39;00m:\n\u001b[1;32m-> 1060\u001b[0m     \u001b[39mreturn\u001b[39;00m \u001b[39mself\u001b[39;49m\u001b[39m.\u001b[39;49m_numpy_internal()\n\u001b[0;32m   1061\u001b[0m   \u001b[39mexcept\u001b[39;00m core\u001b[39m.\u001b[39m_NotOkStatusException \u001b[39mas\u001b[39;00m e:  \u001b[39m# pylint: disable=protected-access\u001b[39;00m\n\u001b[0;32m   1062\u001b[0m     six\u001b[39m.\u001b[39mraise_from(core\u001b[39m.\u001b[39m_status_to_exception(e\u001b[39m.\u001b[39mcode, e\u001b[39m.\u001b[39mmessage), \u001b[39mNone\u001b[39;00m)\n",
      "\u001b[1;31mKeyboardInterrupt\u001b[0m: "
     ]
    }
   ],
   "source": [
    "from final_target import get_target_list_db_rt, get_target\n",
    "from final_predict import stock_predict\n",
    "from final_model import LstmNetwork\n",
    "import pickle\n",
    "import tensorflow as tf\n",
    "import os\n",
    "import pandas as pd\n",
    "from pandas.tseries.offsets import BDay\n",
    "from datetime import date\n",
    "import pandas as pd\n",
    "from final_target import get_target_list_db_rt\n",
    "# from final_realtime import realtime_trading, ds_account_db_update\n",
    "from final_dbconnect import DBConnection_trading\n",
    "from keras.models import load_model\n",
    "\n",
    "# account_name, _ = ds_account_db_update(DBConnection_trading().get_sqlalchemy_connect_ip())\n",
    "yesterday=str(date.today() - BDay(1)).replace('-','').split(' ')[0]\n",
    "\n",
    "\n",
    "# tf gpu 메모리 관련 코드 \n",
    "gpus = tf.config.list_physical_devices(device_type = 'GPU')\n",
    "tf.config.experimental.set_memory_growth(gpus[0], True)\n",
    "os.environ[\"CUDA_VISIBLE_DEVICES\"] = \"0\"\n",
    "\n",
    "\n",
    "kospi_list, kosdaq_list = get_target_list_db_rt()\n",
    "# investing_df = get_target(path=r'D:\\systrader-dev\\trading\\download\\target') # 각자 컴퓨터의 맞게 변경\n",
    "investing_df = pd.read_csv(f'./download/investing_df/investing_{yesterday}.csv', encoding='utf-8-sig', index_col=0)\n",
    "\n",
    "# # C:\\big15\\project-dev\\trading\\download\\target\n",
    "# # D:\\systrader-dev\\trading\\download\\target\n",
    "\n",
    "\n",
    "# # 대형주 1년 학습\n",
    "# account_name= '04BIG15'\n",
    "# ls_big_year = LstmNetwork('대형주', kospi_list, '1년', 280, 0.02)\n",
    "# col_list_big_year = ls_big_year.col_list\n",
    "# model_big_year = ls_big_year.model_weight\n",
    "\n",
    "# # 대형주 1년 트레이딩\n",
    "# stock_predict(kospi_list, investing_df, col_list_big_year, model_big_year, account_name)\n",
    "\n",
    "\n",
    "\n",
    "# # 대형주 6개월 학습\n",
    "account_name= '03big15'\n",
    "ls_big_six_month = LstmNetwork('대형주', kospi_list, '6개월', 140, 0.04 )\n",
    "\n",
    "# with open(f'./pickle/pickle_corr_complete/대형주_20221221_6개월_10개_0.04.pkl', 'rb') as f:\n",
    "#     col_list_big_six_month = pickle.load(f) # 상관 계수에 따른 컬럼 리스트\n",
    "# model_big_six_month = load_model(f\"./model/weight/대형주_20221221_6개월_lstm_30ep_64bs_5pa_0.04newcor.hdf5\")\n",
    "col_list_big_six_month = ls_big_six_month.col_list\n",
    "model_big_six_month = ls_big_six_month.model_weight\n",
    "\n",
    "# with open('./pickle/')\n",
    "\n",
    "# 대형주 6개월 트레이딩\n"
   ]
  },
  {
   "cell_type": "code",
   "execution_count": 2,
   "metadata": {},
   "outputs": [
    {
     "name": "stdout",
     "output_type": "stream",
     "text": [
      "SQL 에러 발생\n"
     ]
    },
    {
     "name": "stderr",
     "output_type": "stream",
     "text": [
      "c:\\Users\\TJ\\anaconda3\\envs\\tf2\\lib\\site-packages\\sklearn\\base.py:493: FutureWarning: The feature names should match those that were passed during fit. Starting version 1.2, an error will be raised.\n",
      "Feature names must be in the same order as they were in fit.\n",
      "\n",
      "  warnings.warn(message, FutureWarning)\n"
     ]
    },
    {
     "ename": "ValueError",
     "evalue": "X has 49 features, but MaxAbsScaler is expecting 28 features as input.",
     "output_type": "error",
     "traceback": [
      "\u001b[1;31m---------------------------------------------------------------------------\u001b[0m",
      "\u001b[1;31mValueError\u001b[0m                                Traceback (most recent call last)",
      "\u001b[1;32md:\\systrader-dev\\trading\\test.ipynb 셀 17\u001b[0m in \u001b[0;36m<cell line: 1>\u001b[1;34m()\u001b[0m\n\u001b[1;32m----> <a href='vscode-notebook-cell:/d%3A/systrader-dev/trading/test.ipynb#X23sZmlsZQ%3D%3D?line=0'>1</a>\u001b[0m stock_predict(kospi_list, investing_df, col_list_big_six_month, model_big_six_month, account_name)\n",
      "File \u001b[1;32md:\\systrader-dev\\trading\\final_predict.py:93\u001b[0m, in \u001b[0;36mstock_predict\u001b[1;34m(stock_list, investing_df, col_list, model, account_name)\u001b[0m\n\u001b[0;32m     90\u001b[0m \u001b[39m# min_abs_scaler = MaxAbsScaler()\u001b[39;00m\n\u001b[0;32m     91\u001b[0m min_abs_scaler \u001b[39m=\u001b[39m load(\u001b[39mopen\u001b[39m(\u001b[39mf\u001b[39m\u001b[39m'\u001b[39m\u001b[39m./download/scaler/\u001b[39m\u001b[39m{\u001b[39;00myesterday\u001b[39m}\u001b[39;00m\u001b[39m_scaler\u001b[39m\u001b[39m'\u001b[39m, \u001b[39m'\u001b[39m\u001b[39mrb\u001b[39m\u001b[39m'\u001b[39m))\n\u001b[1;32m---> 93\u001b[0m X_pred_sc \u001b[39m=\u001b[39m min_abs_scaler\u001b[39m.\u001b[39;49mtransform(each_target_df)\n\u001b[0;32m     94\u001b[0m X_pred \u001b[39m=\u001b[39m X_pred_sc\u001b[39m.\u001b[39mreshape(X_pred_sc\u001b[39m.\u001b[39mshape[\u001b[39m0\u001b[39m], model\u001b[39m.\u001b[39minput\u001b[39m.\u001b[39mshape[\u001b[39m1\u001b[39m], \u001b[39m1\u001b[39m)\n\u001b[0;32m     96\u001b[0m predict \u001b[39m=\u001b[39m model\u001b[39m.\u001b[39mpredict(X_pred)\n",
      "File \u001b[1;32mc:\\Users\\TJ\\anaconda3\\envs\\tf2\\lib\\site-packages\\sklearn\\preprocessing\\_data.py:1212\u001b[0m, in \u001b[0;36mMaxAbsScaler.transform\u001b[1;34m(self, X)\u001b[0m\n\u001b[0;32m   1199\u001b[0m \u001b[39m\"\"\"Scale the data.\u001b[39;00m\n\u001b[0;32m   1200\u001b[0m \n\u001b[0;32m   1201\u001b[0m \u001b[39mParameters\u001b[39;00m\n\u001b[1;32m   (...)\u001b[0m\n\u001b[0;32m   1209\u001b[0m \u001b[39m    Transformed array.\u001b[39;00m\n\u001b[0;32m   1210\u001b[0m \u001b[39m\"\"\"\u001b[39;00m\n\u001b[0;32m   1211\u001b[0m check_is_fitted(\u001b[39mself\u001b[39m)\n\u001b[1;32m-> 1212\u001b[0m X \u001b[39m=\u001b[39m \u001b[39mself\u001b[39;49m\u001b[39m.\u001b[39;49m_validate_data(\n\u001b[0;32m   1213\u001b[0m     X,\n\u001b[0;32m   1214\u001b[0m     accept_sparse\u001b[39m=\u001b[39;49m(\u001b[39m\"\u001b[39;49m\u001b[39mcsr\u001b[39;49m\u001b[39m\"\u001b[39;49m, \u001b[39m\"\u001b[39;49m\u001b[39mcsc\u001b[39;49m\u001b[39m\"\u001b[39;49m),\n\u001b[0;32m   1215\u001b[0m     copy\u001b[39m=\u001b[39;49m\u001b[39mself\u001b[39;49m\u001b[39m.\u001b[39;49mcopy,\n\u001b[0;32m   1216\u001b[0m     reset\u001b[39m=\u001b[39;49m\u001b[39mFalse\u001b[39;49;00m,\n\u001b[0;32m   1217\u001b[0m     dtype\u001b[39m=\u001b[39;49mFLOAT_DTYPES,\n\u001b[0;32m   1218\u001b[0m     force_all_finite\u001b[39m=\u001b[39;49m\u001b[39m\"\u001b[39;49m\u001b[39mallow-nan\u001b[39;49m\u001b[39m\"\u001b[39;49m,\n\u001b[0;32m   1219\u001b[0m )\n\u001b[0;32m   1221\u001b[0m \u001b[39mif\u001b[39;00m sparse\u001b[39m.\u001b[39missparse(X):\n\u001b[0;32m   1222\u001b[0m     inplace_column_scale(X, \u001b[39m1.0\u001b[39m \u001b[39m/\u001b[39m \u001b[39mself\u001b[39m\u001b[39m.\u001b[39mscale_)\n",
      "File \u001b[1;32mc:\\Users\\TJ\\anaconda3\\envs\\tf2\\lib\\site-packages\\sklearn\\base.py:600\u001b[0m, in \u001b[0;36mBaseEstimator._validate_data\u001b[1;34m(self, X, y, reset, validate_separately, **check_params)\u001b[0m\n\u001b[0;32m    597\u001b[0m     out \u001b[39m=\u001b[39m X, y\n\u001b[0;32m    599\u001b[0m \u001b[39mif\u001b[39;00m \u001b[39mnot\u001b[39;00m no_val_X \u001b[39mand\u001b[39;00m check_params\u001b[39m.\u001b[39mget(\u001b[39m\"\u001b[39m\u001b[39mensure_2d\u001b[39m\u001b[39m\"\u001b[39m, \u001b[39mTrue\u001b[39;00m):\n\u001b[1;32m--> 600\u001b[0m     \u001b[39mself\u001b[39;49m\u001b[39m.\u001b[39;49m_check_n_features(X, reset\u001b[39m=\u001b[39;49mreset)\n\u001b[0;32m    602\u001b[0m \u001b[39mreturn\u001b[39;00m out\n",
      "File \u001b[1;32mc:\\Users\\TJ\\anaconda3\\envs\\tf2\\lib\\site-packages\\sklearn\\base.py:400\u001b[0m, in \u001b[0;36mBaseEstimator._check_n_features\u001b[1;34m(self, X, reset)\u001b[0m\n\u001b[0;32m    397\u001b[0m     \u001b[39mreturn\u001b[39;00m\n\u001b[0;32m    399\u001b[0m \u001b[39mif\u001b[39;00m n_features \u001b[39m!=\u001b[39m \u001b[39mself\u001b[39m\u001b[39m.\u001b[39mn_features_in_:\n\u001b[1;32m--> 400\u001b[0m     \u001b[39mraise\u001b[39;00m \u001b[39mValueError\u001b[39;00m(\n\u001b[0;32m    401\u001b[0m         \u001b[39mf\u001b[39m\u001b[39m\"\u001b[39m\u001b[39mX has \u001b[39m\u001b[39m{\u001b[39;00mn_features\u001b[39m}\u001b[39;00m\u001b[39m features, but \u001b[39m\u001b[39m{\u001b[39;00m\u001b[39mself\u001b[39m\u001b[39m.\u001b[39m\u001b[39m__class__\u001b[39m\u001b[39m.\u001b[39m\u001b[39m__name__\u001b[39m\u001b[39m}\u001b[39;00m\u001b[39m \u001b[39m\u001b[39m\"\u001b[39m\n\u001b[0;32m    402\u001b[0m         \u001b[39mf\u001b[39m\u001b[39m\"\u001b[39m\u001b[39mis expecting \u001b[39m\u001b[39m{\u001b[39;00m\u001b[39mself\u001b[39m\u001b[39m.\u001b[39mn_features_in_\u001b[39m}\u001b[39;00m\u001b[39m features as input.\u001b[39m\u001b[39m\"\u001b[39m\n\u001b[0;32m    403\u001b[0m     )\n",
      "\u001b[1;31mValueError\u001b[0m: X has 49 features, but MaxAbsScaler is expecting 28 features as input."
     ]
    }
   ],
   "source": [
    "stock_predict(kospi_list, investing_df, col_list_big_six_month, model_big_six_month, account_name)\n"
   ]
  },
  {
   "cell_type": "code",
   "execution_count": 15,
   "metadata": {},
   "outputs": [],
   "source": [
    "def update(df, conn):\n",
    "    args = df.values.tolist()\n",
    "\n",
    "    sql_update = f'INSERT INTO 01big15_account_status VALUES (%s,%s,%s,%s,%s,%s,%s)'\n",
    "\n",
    "    cursor =  conn.cursor()\n",
    "\n",
    "    cursor.executemany(sql_update, args)\n",
    "    conn.commit()\n"
   ]
  },
  {
   "cell_type": "code",
   "execution_count": 1,
   "metadata": {},
   "outputs": [],
   "source": [
    "import pandas as pd\n",
    "from final_dbconnect import DBConnection_trading, DBConnection_present\n",
    "\n"
   ]
  },
  {
   "cell_type": "code",
   "execution_count": 2,
   "metadata": {},
   "outputs": [],
   "source": [
    "status_data = {'종목코드': ['dsfdsfsdfsdfsd']\n",
    "                   , '종목명' : ['name_list']\n",
    "                   , '보유수량' : ['amount_list']\n",
    "                   , '평단가' : ['buyPrice_list']\n",
    "                   , '평가금액' : ['evalValue_list']\n",
    "                   , '수익율' : ['evalPerc_list']\n",
    "                   , '장부금액' : ['current_value']\n",
    "                   }\n",
    "status_df = pd.DataFrame(status_data)\n",
    "\n",
    "status_db_df = status_df.copy()\n",
    "status_db_df.rename(columns={'종목코드': 'code', '종목명' : 'name', '보유수량' : 'amount', '평단가' : 'buyprice'\n",
    "                            , '평가금액' : 'evalValue' , '수익율' : 'ratio', '장부금액' : 'currentValue'}, inplace=True)"
   ]
  },
  {
   "cell_type": "code",
   "execution_count": 16,
   "metadata": {},
   "outputs": [],
   "source": [
    "update(status_db_df, DBConnection_present().get_pymysql_connection())"
   ]
  },
  {
   "cell_type": "code",
   "execution_count": 5,
   "metadata": {},
   "outputs": [
    {
     "data": {
      "text/plain": [
       "[['dsfdsfsdfsdfsd',\n",
       "  'name_list',\n",
       "  'amount_list',\n",
       "  'buyPrice_list',\n",
       "  'evalValue_list',\n",
       "  'evalPerc_list',\n",
       "  'current_value']]"
      ]
     },
     "execution_count": 5,
     "metadata": {},
     "output_type": "execute_result"
    }
   ],
   "source": [
    "args = status_db_df.values.tolist()\n",
    "\n",
    "args"
   ]
  },
  {
   "cell_type": "code",
   "execution_count": 11,
   "metadata": {},
   "outputs": [],
   "source": [
    "\n",
    "sql_update = 'INSERT INTO web_data.01big15_account_status VALUES (%s,%s,%s,%s,%s,%s,%s)'\n"
   ]
  },
  {
   "cell_type": "code",
   "execution_count": 14,
   "metadata": {},
   "outputs": [
    {
     "name": "stdout",
     "output_type": "stream",
     "text": [
      "1\n"
     ]
    }
   ],
   "source": [
    "\n",
    "conn = DBConnection_present().get_pymysql_connection()\n",
    "cursor =  conn.cursor()\n",
    "\n",
    "print(cursor.executemany(sql_update, args))\n",
    "conn.commit()\n"
   ]
  },
  {
   "cell_type": "code",
   "execution_count": 15,
   "metadata": {},
   "outputs": [],
   "source": [
    "from final_dbconnect import DBConnection_present\n",
    "from datetime import datetime\n",
    "\n",
    "def trading_history(conn, account_name, code, num, amount):\n",
    "    now = datetime.now()\n",
    "    time_ = str(now.year) + '-' +  str(now.month) + '-' + str(now.day) + ' ' + str(now.hour) + ':' + str(now.minute)\n",
    "    print(time_)\n",
    "\n",
    "    account_name = account_name.lower()\n",
    "    args = [(str(account_name), str(code), str(num), str(amount), str(time_))]  # 계좌이름, 종목코드, 매수, 매도\n",
    "\n",
    "    try: \n",
    "        sql_create = f'create table web_data.{account_name}_history(account_name varchar(20), stock_code varchar(20), buy_num varchar(20), sell_num varchar(20), his_time varchar(50))'\n",
    "        cur = conn.cursor()\n",
    "        cur.execute(sql_create)\n",
    "        conn.commit()\n",
    "        \n",
    "    except:\n",
    "        print('에러')\n",
    "\n",
    "    sql_update = f\"INSERT INTO web_data.{account_name}_history VALUES (%s,%s,%s,%s,%s)\"\n",
    "    print(sql_update)\n",
    "    cursor = conn.cursor()\n",
    "    cursor.executemany(sql_update, args)\n",
    "\n",
    "    conn.commit()\n",
    "    conn.close()\n"
   ]
  },
  {
   "cell_type": "code",
   "execution_count": 16,
   "metadata": {},
   "outputs": [
    {
     "name": "stdout",
     "output_type": "stream",
     "text": [
      "2022-12-26 11:15\n",
      "에러\n",
      "INSERT INTO web_data.big15_history_history VALUES (%s,%s,%s,%s,%s)\n"
     ]
    }
   ],
   "source": [
    "trading_history(DBConnection_present().get_pymysql_connection(), 'big15_history', 'aaaaa', 12, 13)"
   ]
  },
  {
   "cell_type": "code",
   "execution_count": null,
   "metadata": {},
   "outputs": [],
   "source": []
  },
  {
   "cell_type": "code",
   "execution_count": null,
   "metadata": {},
   "outputs": [],
   "source": []
  }
 ],
 "metadata": {
  "kernelspec": {
   "display_name": "Python 3.9.12 ('py39_32')",
   "language": "python",
   "name": "python3"
  },
  "language_info": {
   "codemirror_mode": {
    "name": "ipython",
    "version": 3
   },
   "file_extension": ".py",
   "mimetype": "text/x-python",
   "name": "python",
   "nbconvert_exporter": "python",
   "pygments_lexer": "ipython3",
   "version": "3.9.12"
  },
  "orig_nbformat": 4,
  "vscode": {
   "interpreter": {
    "hash": "0aeadc0d232df64e33396a2bf9704c269d7932697e0c3764963f02ff8b192ed5"
   }
  }
 },
 "nbformat": 4,
 "nbformat_minor": 2
}
