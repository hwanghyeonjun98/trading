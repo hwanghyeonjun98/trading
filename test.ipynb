{
 "cells": [
  {
   "cell_type": "code",
   "execution_count": null,
   "metadata": {},
   "outputs": [
    {
     "ename": "",
     "evalue": "",
     "output_type": "error",
     "traceback": [
      "\u001b[1;31m'Python 3.8.15 ('tf2')'(으)로 셀을 실행하려면 ipykernel 패키지가 필요합니다.\n",
      "\u001b[1;31m다음 명령어를 실행하여 Python 환경에 'ipykernel'을(를) 설치합니다. \n",
      "\u001b[1;31m 명령: 'conda install -n tf2 ipykernel --update-deps --force-reinstall'"
     ]
    }
   ],
   "source": [
    "from final_model import *\n",
    "from final_target import *\n",
    "from final_predict import *\n",
    "import tensorflow as tf\n",
    "from keras.models import load_model\n",
    "\n",
    "# tf gpu 메모리 관련 코드 \n",
    "gpus = tf.config.list_physical_devices(device_type = 'GPU')\n",
    "tf.config.experimental.set_memory_growth(gpus[0], True)\n",
    "os.environ[\"CUDA_VISIBLE_DEVICES\"] = \"0\"\n",
    "\n",
    "kospi_list, kosdaq_list, investing_df = get_target(path=r'D:\\trading\\download\\target')\n",
    "\n",
    "# # 대형주 1년 학습\n",
    "# ls_big_year = LstmNetwork('대형주', kospi_list, '1년', 280, 0.02)\n",
    "# col_list_big_year = ls_big_year.complete_corr\n",
    "# modelpath_big_year = ls_big_year.LstmModel()\n",
    "# model_big_year = load_model(modelpath_big_year)\n",
    "\n",
    "# # 대형주 1년 트레이딩\n",
    "# stock_predict(kospi_list, investing_df,col_list_big_year,model_big_year)\n",
    "\n",
    "\n",
    "\n",
    "# # 대형주 6개월 학습\n",
    "# ls_big_six_month = LstmNetwork('대형주', kospi_list, '6개월', 140, 0.04 )\n",
    "# col_list_big_six_month = ls_big_six_month.complete_corr\n",
    "# modelpath_big_six_month = ls_big_six_month.LstmModel()\n",
    "# model_big_six_month = load_model(modelpath_big_six_month)\n",
    "\n",
    "# # 대형주 6개월 트레이딩\n",
    "# stock_predict(kospi_list, investing_df,col_list_big_six_month,model_big_six_month)\n",
    "\n",
    "\n",
    "\n",
    "# 소형주 1년 학습\n",
    "ls_small_year = LstmNetwork('소형주', kosdaq_list, '1년', 280, 0.03)\n",
    "col_list_small_year = ls_small_year.complete_corr\n",
    "modelpath_small_year = ls_small_year.LstmModel()\n",
    "model_small_year = load_model(modelpath_small_year)\n",
    "\n",
    "# 소형주 1년 트레이딩\n",
    "stock_predict(kosdaq_list, investing_df,col_list_small_year,model_small_year)\n",
    "\n",
    "\n",
    "\n",
    "# # 소형주 6개월 학습\n",
    "# ls_small_six_month = LstmNetwork('소형주', kosdaq_list, '6개월', 140, 0.03)\n",
    "# col_list_small_six_month = ls_small_six_month.complete_corr\n",
    "# modelpath_small_six_month = ls_small_six_month.LstmModel()\n",
    "# model_small_six_month = load_model(modelpath_small_six_month)\n",
    "\n",
    "# # 소형주 6개월 트레이딩\n",
    "# stock_predict(kosdaq_list, investing_df,col_list_small_six_month,model_small_six_month)\n",
    "\n",
    "\n",
    "\n",
    "\n",
    "\n",
    "\n",
    "# if __name__ == \"__main__\":\n",
    "#     traiding_start()"
   ]
  },
  {
   "cell_type": "code",
   "execution_count": null,
   "metadata": {},
   "outputs": [],
   "source": []
  }
 ],
 "metadata": {
  "kernelspec": {
   "display_name": "Python 3.8.15 ('tf2')",
   "language": "python",
   "name": "python3"
  },
  "language_info": {
   "codemirror_mode": {
    "name": "ipython",
    "version": 3
   },
   "file_extension": ".py",
   "mimetype": "text/x-python",
   "name": "python",
   "nbconvert_exporter": "python",
   "pygments_lexer": "ipython3",
   "version": "3.8.15"
  },
  "orig_nbformat": 4,
  "vscode": {
   "interpreter": {
    "hash": "645ecf39b749c568d5d4006fbeacede757e77bc36f68b1a673586522d8c82137"
   }
  }
 },
 "nbformat": 4,
 "nbformat_minor": 2
}
