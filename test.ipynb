{
 "cells": [
  {
   "cell_type": "code",
   "execution_count": 6,
   "metadata": {},
   "outputs": [
    {
     "name": "stdout",
     "output_type": "stream",
     "text": [
      "크롤링 실행 중\n",
      "크롤링 실행\n"
     ]
    },
    {
     "ename": "IndexError",
     "evalue": "list index out of range",
     "output_type": "error",
     "traceback": [
      "\u001b[1;31m---------------------------------------------------------------------------\u001b[0m",
      "\u001b[1;31mIndexError\u001b[0m                                Traceback (most recent call last)",
      "Cell \u001b[1;32mIn[6], line 11\u001b[0m\n\u001b[0;32m      8\u001b[0m tf\u001b[39m.\u001b[39mconfig\u001b[39m.\u001b[39mexperimental\u001b[39m.\u001b[39mset_memory_growth(gpus[\u001b[39m0\u001b[39m], \u001b[39mTrue\u001b[39;00m)\n\u001b[0;32m      9\u001b[0m os\u001b[39m.\u001b[39menviron[\u001b[39m\"\u001b[39m\u001b[39mCUDA_VISIBLE_DEVICES\u001b[39m\u001b[39m\"\u001b[39m] \u001b[39m=\u001b[39m \u001b[39m\"\u001b[39m\u001b[39m0\u001b[39m\u001b[39m\"\u001b[39m\n\u001b[1;32m---> 11\u001b[0m kospi_list, kosdaq_list, investing_df \u001b[39m=\u001b[39m get_target(path\u001b[39m=\u001b[39;49m\u001b[39mr\u001b[39;49m\u001b[39m'\u001b[39;49m\u001b[39mD:\u001b[39;49m\u001b[39m\\\u001b[39;49m\u001b[39msystrader-dev\u001b[39;49m\u001b[39m\\\u001b[39;49m\u001b[39mtrading\u001b[39;49m\u001b[39m\\\u001b[39;49m\u001b[39mdownload\u001b[39;49m\u001b[39m\\\u001b[39;49m\u001b[39mtarget\u001b[39;49m\u001b[39m'\u001b[39;49m)\n\u001b[0;32m     13\u001b[0m \u001b[39m# # 대형주 1년 학습\u001b[39;00m\n\u001b[0;32m     14\u001b[0m \u001b[39m# ls_big_year = LstmNetwork('대형주', kospi_list, '1년', 280, 0.02)\u001b[39;00m\n\u001b[0;32m     15\u001b[0m \u001b[39m# col_list_big_year = ls_big_year.complete_corr\u001b[39;00m\n\u001b[1;32m   (...)\u001b[0m\n\u001b[0;32m     34\u001b[0m \n\u001b[0;32m     35\u001b[0m \u001b[39m# 소형주 1년 학습\u001b[39;00m\n\u001b[0;32m     36\u001b[0m ls_small_year \u001b[39m=\u001b[39m LstmNetwork(\u001b[39m'\u001b[39m\u001b[39m소형주\u001b[39m\u001b[39m'\u001b[39m, kosdaq_list, \u001b[39m'\u001b[39m\u001b[39m1년\u001b[39m\u001b[39m'\u001b[39m, \u001b[39m280\u001b[39m, \u001b[39m0.03\u001b[39m)\n",
      "File \u001b[1;32md:\\trading\\final_target.py:110\u001b[0m, in \u001b[0;36mget_target\u001b[1;34m(path)\u001b[0m\n\u001b[0;32m    108\u001b[0m \u001b[39mdef\u001b[39;00m \u001b[39mget_target\u001b[39m(path):\n\u001b[0;32m    109\u001b[0m     \u001b[39m# 대상 종목 설정\u001b[39;00m\n\u001b[1;32m--> 110\u001b[0m     get_krx_target(path\u001b[39m=\u001b[39;49mpath)\n\u001b[0;32m    111\u001b[0m     kospi_list, kosdaq_list \u001b[39m=\u001b[39m get_target_stock_list()\n\u001b[0;32m    113\u001b[0m     \u001b[39m# Investing Data 생성\u001b[39;00m\n",
      "File \u001b[1;32md:\\trading\\final_target.py:86\u001b[0m, in \u001b[0;36mget_krx_target\u001b[1;34m(path)\u001b[0m\n\u001b[0;32m     83\u001b[0m target_path \u001b[39m=\u001b[39m \u001b[39m\"\u001b[39m\u001b[39m./download/target/data*.csv\u001b[39m\u001b[39m\"\u001b[39m\n\u001b[0;32m     84\u001b[0m new_csv_list \u001b[39m=\u001b[39m glob\u001b[39m.\u001b[39mglob(target_path)\n\u001b[1;32m---> 86\u001b[0m shutil\u001b[39m.\u001b[39mmove(new_csv_list[\u001b[39m0\u001b[39;49m], \u001b[39mf\u001b[39m\u001b[39m'\u001b[39m\u001b[39m./download/target/target_\u001b[39m\u001b[39m{\u001b[39;00mtoday\u001b[39m}\u001b[39;00m\u001b[39m.csv\u001b[39m\u001b[39m'\u001b[39m)\n",
      "\u001b[1;31mIndexError\u001b[0m: list index out of range"
     ]
    }
   ],
   "source": [
    "from final_model import *\n",
    "from final_target import *\n",
    "from final_predict import *\n",
    "import tensorflow as tf\n",
    "\n",
    "# tf gpu 메모리 관련 코드 \n",
    "gpus = tf.config.list_physical_devices(device_type = 'GPU')\n",
    "tf.config.experimental.set_memory_growth(gpus[0], True)\n",
    "os.environ[\"CUDA_VISIBLE_DEVICES\"] = \"0\"\n",
    "\n",
    "kospi_list, kosdaq_list, investing_df = get_target(path=r'D:\\trading\\download\\target')\n",
    "\n",
    "# # 대형주 1년 학습\n",
    "# ls_big_year = LstmNetwork('대형주', kospi_list, '1년', 280, 0.02)\n",
    "# col_list_big_year = ls_big_year.complete_corr\n",
    "# modelpath_big_year = ls_big_year\n",
    "# model_big_year = load_model(modelpath_big_year)\n",
    "\n",
    "# # 대형주 1년 트레이딩\n",
    "# stock_predict(kospi_list, investing_df,col_list_big_year,model_big_year)\n",
    "\n",
    "\n",
    "\n",
    "# # 대형주 6개월 학습\n",
    "# ls_big_six_month = LstmNetwork('대형주', kospi_list, '6개월', 140, 0.04 )\n",
    "# col_list_big_six_month = ls_big_six_month.complete_corr\n",
    "# modelpath_big_six_month = ls_big_six_month\n",
    "# model_big_six_month = load_model(modelpath_big_six_month)\n",
    "\n",
    "# # 대형주 6개월 트레이딩\n",
    "# stock_predict(kospi_list, investing_df,col_list_big_six_month,model_big_six_month)\n",
    "\n",
    "\n",
    "\n",
    "# 소형주 1년 학습\n",
    "ls_small_year = LstmNetwork('소형주', kosdaq_list, '1년', 280, 0.03)\n",
    "col_list_small_year = ls_small_year.complete_corr\n",
    "modelpath_small_year = ls_small_year\n",
    "model_small_year = load_model(modelpath_small_year)\n",
    "\n",
    "# 소형주 1년 트레이딩\n",
    "stock_predict(kosdaq_list, investing_df,col_list_small_year,model_small_year)\n",
    "\n",
    "\n",
    "\n",
    "# # 소형주 6개월 학습\n",
    "# ls_small_six_month = LstmNetwork('소형주', kosdaq_list, '6개월', 140, 0.03)\n",
    "# col_list_small_six_month = ls_small_six_month.complete_corr\n",
    "# modelpath_small_six_month = ls_small_six_month\n",
    "# model_small_six_month = load_model(modelpath_small_six_month)\n",
    "\n",
    "# # 소형주 6개월 트레이딩\n",
    "# stock_predict(kosdaq_list, investing_df,col_list_small_six_month,model_small_six_month)\n",
    "\n",
    "\n",
    "\n",
    "\n",
    "\n",
    "\n",
    "# if __name__ == \"__main__\":\n",
    "#     traiding_start()"
   ]
  },
  {
   "cell_type": "code",
   "execution_count": null,
   "metadata": {},
   "outputs": [],
   "source": []
  }
 ],
 "metadata": {
  "kernelspec": {
   "display_name": "Python 3.8.13 ('tf2')",
   "language": "python",
   "name": "python3"
  },
  "language_info": {
   "codemirror_mode": {
    "name": "ipython",
    "version": 3
   },
   "file_extension": ".py",
   "mimetype": "text/x-python",
   "name": "python",
   "nbconvert_exporter": "python",
   "pygments_lexer": "ipython3",
   "version": "3.8.13"
  },
  "orig_nbformat": 4,
  "vscode": {
   "interpreter": {
    "hash": "645ecf39b749c568d5d4006fbeacede757e77bc36f68b1a673586522d8c82137"
   }
  }
 },
 "nbformat": 4,
 "nbformat_minor": 2
}
