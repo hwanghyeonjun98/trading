{
 "cells": [
  {
   "cell_type": "code",
   "execution_count": 1,
   "metadata": {},
   "outputs": [
    {
     "name": "stdout",
     "output_type": "stream",
     "text": [
      "실시간 트레이딩 기준 날짜 : 20221215\n",
      "KRX target 파일이 존재\n",
      "         날짜  AEDKRW내역_종가  AEDKRW내역_오픈  AEDKRW내역_고가  AEDKRW내역_저가  AEDKRW내역_거래량  \\\n",
      "0  20221214       352.71       351.03       354.12       351.03           0.0   \n",
      "\n",
      "   AEDKRW내역_변동        날짜  ATX내역_종가  ATX내역_오픈  ...  헝가리BUX내역_저가  헝가리BUX내역_거래량  \\\n",
      "0         0.51  20221213   3148.83   3135.51  ...      43781.7           0.0   \n",
      "\n",
      "   헝가리BUX내역_변동        날짜 호주SPASX내역_종가  호주SPASX내역_오픈  호주SPASX내역_고가  \\\n",
      "0        -0.52  20221214       7247.1        7206.7        7253.5   \n",
      "\n",
      "   호주SPASX내역_저가  호주SPASX내역_거래량  호주SPASX내역_변동  \n",
      "0        7205.8      566180000          0.61  \n",
      "\n",
      "[1 rows x 1477 columns]\n",
      "1/1 [==============================] - 2s 2s/step\n"
     ]
    },
    {
     "name": "stderr",
     "output_type": "stream",
     "text": [
      "c:\\big15\\project-dev\\trading\\final_predict.py:81: FutureWarning: The frame.append method is deprecated and will be removed from pandas in a future version. Use pandas.concat instead.\n",
      "  pred_df.append(predict_df)\n"
     ]
    },
    {
     "name": "stdout",
     "output_type": "stream",
     "text": [
      "진행중~~~~~~~\n"
     ]
    },
    {
     "ename": "KeyboardInterrupt",
     "evalue": "",
     "output_type": "error",
     "traceback": [
      "\u001b[1;31m---------------------------------------------------------------------------\u001b[0m",
      "\u001b[1;31mKeyboardInterrupt\u001b[0m                         Traceback (most recent call last)",
      "\u001b[1;32m~\\AppData\\Local\\Temp\\ipykernel_17016\\4046688155.py\u001b[0m in \u001b[0;36m<module>\u001b[1;34m\u001b[0m\n\u001b[0;32m     34\u001b[0m \u001b[0mmodel_big_six_month\u001b[0m \u001b[1;33m=\u001b[0m \u001b[0mload_model\u001b[0m\u001b[1;33m(\u001b[0m\u001b[0mmodelpath_big_six_month\u001b[0m\u001b[1;33m)\u001b[0m\u001b[1;33m\u001b[0m\u001b[1;33m\u001b[0m\u001b[0m\n\u001b[0;32m     35\u001b[0m \u001b[1;31m# 대형주 6개월 트레이딩\u001b[0m\u001b[1;33m\u001b[0m\u001b[1;33m\u001b[0m\u001b[1;33m\u001b[0m\u001b[0m\n\u001b[1;32m---> 36\u001b[1;33m \u001b[0mstock_predict\u001b[0m\u001b[1;33m(\u001b[0m\u001b[0mkospi_list\u001b[0m\u001b[1;33m,\u001b[0m \u001b[0minvesting_df\u001b[0m\u001b[1;33m,\u001b[0m \u001b[0mcol_list_big_six_month\u001b[0m\u001b[1;33m,\u001b[0m  \u001b[0mmodel_big_six_month\u001b[0m\u001b[1;33m)\u001b[0m\u001b[1;33m\u001b[0m\u001b[1;33m\u001b[0m\u001b[0m\n\u001b[0m\u001b[0;32m     37\u001b[0m \u001b[1;33m\u001b[0m\u001b[0m\n\u001b[0;32m     38\u001b[0m \u001b[1;33m\u001b[0m\u001b[0m\n",
      "\u001b[1;32mc:\\big15\\project-dev\\trading\\final_predict.py\u001b[0m in \u001b[0;36mstock_predict\u001b[1;34m(stock_list, investing_df, col_list, model)\u001b[0m\n\u001b[0;32m     55\u001b[0m                 \u001b[1;32mif\u001b[0m \u001b[0mcount\u001b[0m \u001b[1;33m==\u001b[0m \u001b[1;36m1\u001b[0m\u001b[1;33m:\u001b[0m\u001b[1;33m\u001b[0m\u001b[1;33m\u001b[0m\u001b[0m\n\u001b[0;32m     56\u001b[0m                     \u001b[1;32mbreak\u001b[0m\u001b[1;33m\u001b[0m\u001b[1;33m\u001b[0m\u001b[0m\n\u001b[1;32m---> 57\u001b[1;33m                 \u001b[0mtime\u001b[0m\u001b[1;33m.\u001b[0m\u001b[0msleep\u001b[0m\u001b[1;33m(\u001b[0m\u001b[1;36m1\u001b[0m\u001b[1;33m)\u001b[0m\u001b[1;33m\u001b[0m\u001b[1;33m\u001b[0m\u001b[0m\n\u001b[0m\u001b[0;32m     58\u001b[0m             \u001b[1;31m# 전날 일봉 데이터와 investing data\u001b[0m\u001b[1;33m\u001b[0m\u001b[1;33m\u001b[0m\u001b[1;33m\u001b[0m\u001b[0m\n\u001b[0;32m     59\u001b[0m \u001b[1;33m\u001b[0m\u001b[0m\n",
      "\u001b[1;31mKeyboardInterrupt\u001b[0m: "
     ]
    }
   ],
   "source": [
    "from final_model import *\n",
    "from final_target import *\n",
    "from final_predict import *\n",
    "import tensorflow as tf\n",
    "from keras.models import load_model\n",
    "\n",
    "# tf gpu 메모리 관련 코드 \n",
    "gpus = tf.config.list_physical_devices(device_type = 'GPU')\n",
    "tf.config.experimental.set_memory_growth(gpus[0], True)\n",
    "os.environ[\"CUDA_VISIBLE_DEVICES\"] = \"0\"\n",
    "\n",
    "kospi_list, kosdaq_list, investing_df = get_target(path=r'D:\\trading\\download\\target')\n",
    "\n",
    "# # 대형주 1년 학습\n",
    "# ls_big_year = LstmNetwork('대형주', kospi_list, '1년', 280, 0.02)\n",
    "# col_list_big_year = ls_big_year.complete_corr\n",
    "# modelpath_big_year = ls_big_year.LstmModel()\n",
    "# model_big_year = load_model(modelpath_big_year)\n",
    "\n",
    "# # 대형주 1년 트레이딩\n",
    "# stock_predict(kospi_list, investing_df, col_list_big_year,model_big_year)\n",
    "\n",
    "\n",
    "\n",
    "# # 대형주 6개월 학습\n",
    "# ls_big_six_month = LstmNetwork('대형주', kospi_list, '6개월', 140, 0.04 )\n",
    "# col_list_big_six_month = ls_big_six_month.complete_corr\n",
    "# modelpath_big_six_month = ls_big_six_month.LstmModel()\n",
    "# model_big_six_month = load_model(modelpath_big_six_month)\n",
    "\n",
    "with open( './pickle/pickle_corr_complete/대형주_20221215_6개월_10개_0.04.pkl', 'rb') as p:\n",
    "    col_list_big_six_month = pickle.load(p)\n",
    "modelpath_big_six_month = './model/대형주_20221215_6개월_lstm_30ep_64bs_5pa_0.04newcor.hdf5'\n",
    "model_big_six_month = load_model(modelpath_big_six_month)\n",
    "# 대형주 6개월 트레이딩\n",
    "stock_predict(kospi_list, investing_df, col_list_big_six_month,  model_big_six_month)\n",
    "\n",
    "\n",
    "\n",
    "# # 소형주 1년 학습\n",
    "# ls_small_year = LstmNetwork('소형주', kosdaq_list, '1년', 280, 0.03)\n",
    "# col_list_small_year = ls_small_year.complete_corr\n",
    "# modelpath_small_year = ls_small_year.LstmModel()\n",
    "# model_small_year = load_model(modelpath_small_year)\n",
    "\n",
    "# # 소형주 1년 트레이딩\n",
    "# stock_predict(kosdaq_list, investing_df, col_list_small_year, model_small_year)\n",
    "\n",
    "\n",
    "\n",
    "# # 소형주 6개월 학습\n",
    "# ls_small_six_month = LstmNetwork('소형주', kosdaq_list, '6개월', 140, 0.03)\n",
    "# col_list_small_six_month = ls_small_six_month.complete_corr\n",
    "# modelpath_small_six_month = ls_small_six_month.LstmModel()\n",
    "# model_small_six_month = load_model(modelpath_small_six_month)\n",
    "\n",
    "# # 소형주 6개월 트레이딩\n",
    "# stock_predict(kosdaq_list, investing_df, col_list_small_six_month,model_small_six_month)\n",
    "\n",
    "\n",
    "\n",
    "\n",
    "\n",
    "\n",
    "# if __name__ == \"__main__\":\n",
    "#     traiding_start()"
   ]
  },
  {
   "cell_type": "code",
   "execution_count": 6,
   "metadata": {},
   "outputs": [],
   "source": [
    "from final_dbconnect import *\n",
    "sql = f\"SELECT 1 FROM Information_schema.tables  WHERE table_schema = 'trading_data' AND table_name = '249420_20221215'\"\n",
    "\n",
    "cur = DBConnection_trading().get_pymysql_connection().cursor()\n",
    "count = cur.execute(sql)"
   ]
  },
  {
   "cell_type": "code",
   "execution_count": null,
   "metadata": {},
   "outputs": [],
   "source": []
  }
 ],
 "metadata": {
  "kernelspec": {
   "display_name": "Python 3.8.15 ('tf2')",
   "language": "python",
   "name": "python3"
  },
  "language_info": {
   "codemirror_mode": {
    "name": "ipython",
    "version": 3
   },
   "file_extension": ".py",
   "mimetype": "text/x-python",
   "name": "python",
   "nbconvert_exporter": "python",
   "pygments_lexer": "ipython3",
   "version": "3.8.15"
  },
  "orig_nbformat": 4,
  "vscode": {
   "interpreter": {
    "hash": "645ecf39b749c568d5d4006fbeacede757e77bc36f68b1a673586522d8c82137"
   }
  }
 },
 "nbformat": 4,
 "nbformat_minor": 2
}
