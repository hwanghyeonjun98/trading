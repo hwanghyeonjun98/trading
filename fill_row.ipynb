{
 "cells": [
  {
   "cell_type": "code",
   "execution_count": 52,
   "metadata": {},
   "outputs": [],
   "source": [
    "import pandas as pd\n",
    "import numpy as np\n",
    "import os\n",
    "from tqdm import tqdm\n",
    "import time"
   ]
  },
  {
   "cell_type": "code",
   "execution_count": 47,
   "metadata": {},
   "outputs": [],
   "source": [
    "def update_fillrow():\n",
    "\n",
    "    template = pd.read_csv('../data/update/20221116/분봉/005930_삼성전자.csv', encoding='utf-8 sig')\n",
    "    template = template.set_index(['Unnamed: 0', '시간'])\n",
    "    template = template.notnull().replace(True, np.NaN)\n",
    "    template.to_csv('../data/fillrow_template.csv', encoding='utf-8 sig')\n",
    "\n",
    "    for file in tqdm(os.listdir('../data/update/20221116/분봉/')):\n",
    "        stock_info = pd.read_csv('../data/update/20221116/분봉/{0}'.format(file), encoding='utf-8 sig')\n",
    "        stock_info = stock_info.set_index(['Unnamed: 0', '시간'])\n",
    "\n",
    "        stock_info = pd.merge(template, stock_info, how='left', left_index=True, right_index=True)\n",
    "\n",
    "        stock_info = stock_info.drop(columns=stock_info.columns[0:23], axis=1)\n",
    "\n",
    "        columns_temp = stock_info.columns\n",
    "\n",
    "        bin_columns = []\n",
    "        for column in columns_temp:\n",
    "            bin_columns.append(column.split('_')[0])\n",
    "\n",
    "        stock_info.columns = bin_columns\n",
    "\n",
    "        stock_info = stock_info.reset_index()\n",
    "        stock_info = stock_info.rename(columns={'Unnamed: 0' : '날짜'})\n",
    "\n",
    "        stock_info[['거래량','거래대금']] = stock_info[['거래량','거래대금']].fillna(0)\n",
    "        stock_info = stock_info.bfill()\n",
    "\n",
    "        stock_info.to_csv('../data/update/20221116/fillrow/{0}'.format(file), encoding='utf-8 sig')"
   ]
  },
  {
   "cell_type": "code",
   "execution_count": 46,
   "metadata": {},
   "outputs": [],
   "source": [
    "update_fillrow()"
   ]
  },
  {
   "cell_type": "code",
   "execution_count": 54,
   "metadata": {},
   "outputs": [
    {
     "name": "stderr",
     "output_type": "stream",
     "text": [
      " 41%|████      | 986/2422 [55:13<1:13:56,  3.09s/it]"
     ]
    }
   ],
   "source": [
    "def file_open(file_open):\n",
    "    file_ = os.listdir(f'{file_open}')\n",
    "    file_.sort()\n",
    "    \n",
    "    return file_\n",
    "\n",
    "dir_min_update_open = '../data/update/20221116/fillrow/'   # 분봉 업데이트 저장\n",
    "dir_day_update_open = '../data/update/20221116/일봉/'   # 일봉 업데이트 저장\n",
    "file_min_update = file_open(dir_min_update_open)    # 분봉 업데이트 리스트\n",
    "dir_concat_save      = '../data/update/20221116/concat/'     # 분봉 일봉 합친 것 저장\n",
    "\n",
    "for min_df in tqdm(file_min_update):\n",
    "        stock_min_df = pd.read_csv(f'{dir_min_update_open}{min_df}', index_col='날짜')\n",
    "        stock_day_df = pd.read_csv(f'{dir_day_update_open}day_{min_df}')\n",
    "        stock_day_df = stock_day_df.rename(columns={'Unnamed: 0' : '날짜'})\n",
    "        \n",
    "        input_list = ['Unnamed: 0', '전일대비','상장주식수','시가총액','외국인주문한도수량'\n",
    "                    ,'외국인주문가능수량','외국인현보유수량','외국인현보유비율'\n",
    "                    ,'수정주가일자','수정주가비율','기관순매수량','기관누적순매수량'\n",
    "                    ,'등락주선','등락비율','예탁금','주식회전율','거래성립률']                                  \n",
    "        list_ = ['시간','시가','고가','저가','종가','거래량','거래대금','누적체결매도수량'\n",
    "                 ,'등락주선','등락비율','예탁금','주식회전율','거래성립률']\n",
    "            \n",
    "        stock_min_df = stock_min_df.drop(input_list, axis=1)\n",
    "        stock_day_df = stock_day_df.drop(list_, axis=1)\n",
    "\n",
    "        concat_df = pd.merge(stock_min_df, stock_day_df, on='날짜')\n",
    "        \n",
    "        concat_df.to_csv(f'{dir_concat_save}concat_{min_df}', encoding='utf-8 sig', index=False)\n",
    "\n"
   ]
  },
  {
   "cell_type": "code",
   "execution_count": 49,
   "metadata": {},
   "outputs": [],
   "source": [
    "stock_min_df = pd.read_csv('../data/update/20221116/fillrow/441270_파인엠텍.csv', index_col='날짜')\n",
    "stock_day_df = pd.read_csv('../data/update/20221116/일봉/day_441270_파인엠텍.csv')\n",
    "\n",
    "stock_day_df = stock_day_df.rename(columns={'Unnamed: 0' : '날짜'})\n",
    "\n",
    "input_list = ['Unnamed: 0', '전일대비','상장주식수','시가총액','외국인주문한도수량'\n",
    "            ,'외국인주문가능수량','외국인현보유수량','외국인현보유비율'\n",
    "            ,'수정주가일자','수정주가비율','기관순매수량','기관누적순매수량'\n",
    "            ,'등락주선','등락비율','예탁금','주식회전율','거래성립률']                                  \n",
    "list_ = ['시간','시가','고가','저가','종가','거래량','거래대금','누적체결매도수량'\n",
    "            ,'등락주선','등락비율','예탁금','주식회전율','거래성립률']\n",
    "    \n",
    "stock_min_df = stock_min_df.drop(input_list, axis=1)\n",
    "stock_day_df = stock_day_df.drop(list_, axis=1)\n",
    "\n",
    "concat_df = pd.merge(stock_min_df, stock_day_df, on='날짜')\n",
    "\n",
    "concat_df.to_csv('../data/update/20221116/test.csv', encoding='utf-8 sig', index=False)"
   ]
  }
 ],
 "metadata": {
  "kernelspec": {
   "display_name": "Python 3.8.13 ('tf2')",
   "language": "python",
   "name": "python3"
  },
  "language_info": {
   "codemirror_mode": {
    "name": "ipython",
    "version": 3
   },
   "file_extension": ".py",
   "mimetype": "text/x-python",
   "name": "python",
   "nbconvert_exporter": "python",
   "pygments_lexer": "ipython3",
   "version": "3.8.13"
  },
  "orig_nbformat": 4,
  "vscode": {
   "interpreter": {
    "hash": "05247f0879db25b58c9f4dbf50b6eaf626832b6fbf3893d9d370e5540f006961"
   }
  }
 },
 "nbformat": 4,
 "nbformat_minor": 2
}
