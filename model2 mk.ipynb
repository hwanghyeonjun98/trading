{
 "cells": [
  {
   "cell_type": "code",
   "execution_count": 1,
   "metadata": {},
   "outputs": [],
   "source": [
    "import os\n",
    "import pickle\n",
    "import numpy as np\n",
    "import pandas as pd\n",
    "import seaborn as sns\n",
    "import tensorflow as tf\n",
    "import matplotlib.pyplot as plt\n",
    "\n",
    "from tqdm import tqdm\n",
    "from keras.models import load_model\n",
    "from sklearn.metrics import accuracy_score\n",
    "from sklearn.preprocessing import OneHotEncoder\n",
    "from sklearn.model_selection import train_test_split\n",
    "from sklearn.preprocessing import MinMaxScaler, MaxAbsScaler\n",
    "\n",
    "from tensorflow.keras import optimizers\n",
    "from tensorflow.keras.models import Model\n",
    "from tensorflow.keras.optimizers import Adam\n",
    "from tensorflow.keras.layers import Dense, LSTM\n",
    "from tensorflow.keras.activations import softmax, sigmoid\n",
    "from tensorflow.keras.callbacks import EarlyStopping, ModelCheckpoint\n",
    "from tensorflow.keras.layers import Dropout, PReLU, LeakyReLU, Input, BatchNormalization, Activation\n"
   ]
  },
  {
   "cell_type": "code",
   "execution_count": 2,
   "metadata": {},
   "outputs": [],
   "source": [
    "# tf gpu 메모리 관련 코드 \n",
    "gpus = tf.config.list_physical_devices(device_type = 'GPU')\n",
    "tf.config.experimental.set_memory_growth(gpus[0], True)"
   ]
  },
  {
   "cell_type": "code",
   "execution_count": 3,
   "metadata": {},
   "outputs": [],
   "source": [
    "# 출력 전부 보이기\n",
    "# np.set_printoptions(threshold=sys.maxsize)\n",
    "# gpu 설치 확인\n",
    "# from tensorflow.python.client import device_lib\n",
    "# device_lib.list_local_devices()\n",
    "# gpu : 0, cpu : -1 \n",
    "os.environ[\"CUDA_VISIBLE_DEVICES\"] = \"0\""
   ]
  },
  {
   "cell_type": "code",
   "execution_count": 4,
   "metadata": {},
   "outputs": [
    {
     "data": {
      "text/plain": [
       "52"
      ]
     },
     "execution_count": 4,
     "metadata": {},
     "output_type": "execute_result"
    }
   ],
   "source": [
    "with open('../data/pickle_complete/소형주_20221206_1년_10개.pkl', 'rb') as f:\n",
    "    stock_df = pickle.load(f) # 10개 대형주 df\n",
    "with open('./pickle/pickle_corr/소형주_20221206_1년_10개_04.pkl', 'rb') as f:\n",
    "    col_list = pickle.load(f) # 상관 계수에 따른 컬럼 리스트\n",
    "len(col_list)"
   ]
  },
  {
   "cell_type": "code",
   "execution_count": null,
   "metadata": {},
   "outputs": [],
   "source": [
    "# col_list['날짜']\n",
    "# col_list= col_list.drop('날짜')    # col_list 내에 날짜 컬럼이 있을 시만 제거"
   ]
  },
  {
   "cell_type": "code",
   "execution_count": 6,
   "metadata": {},
   "outputs": [
    {
     "data": {
      "text/plain": [
       "1    541028\n",
       "0    414301\n",
       "Name: pct_label, dtype: int64"
      ]
     },
     "execution_count": 6,
     "metadata": {},
     "output_type": "execute_result"
    }
   ],
   "source": [
    "# 0.5까지 0, 0.6이상 부터 1 로 labeling\n",
    "stock_df['pct_label'] = np.where(stock_df['pct_label'].values > 0.5 , 1, 0)\n",
    "stock_df['pct_label'].value_counts()"
   ]
  },
  {
   "cell_type": "code",
   "execution_count": 7,
   "metadata": {},
   "outputs": [
    {
     "name": "stdout",
     "output_type": "stream",
     "text": [
      "[0, 0, 0, 0, 0, 0, 0, 0, 0, 0, 0, 0, 0, 0, 0, 0, 0, 0, 0, 0, 0, 0, 0, 0, 0, 0, 0, 0, 0, 0, 0, 0, 0, 0, 0, 0, 0, 0, 0, 0, 0, 0, 0, 0, 0, 0, 0, 0, 0, 0, 0, 0]\n"
     ]
    }
   ],
   "source": [
    "# label 원 핫 인코딩\n",
    "ohe = OneHotEncoder(sparse=False)\n",
    "y_stock_df = ohe.fit_transform(stock_df[['pct_label']])\n",
    "\n",
    "# value 컬럼 설정\n",
    "col_list = list(col_list.index) # col_list의 인덱스를 리스트로 생성\n",
    "X_stock_df = stock_df.drop(['pct_label'],axis=1)\n",
    "X_stock_df = X_stock_df.set_index(['날짜'])\n",
    "X_stock_df = X_stock_df[col_list] # col_list에 있는 컬럼들만 사용\n",
    "\n",
    "# values에 nan값이 있나 확인\n",
    "print(list(X_stock_df.isnull().sum())) "
   ]
  },
  {
   "cell_type": "code",
   "execution_count": 8,
   "metadata": {},
   "outputs": [
    {
     "name": "stdout",
     "output_type": "stream",
     "text": [
      "훈련 데이터의 크기 : (668730, 52, 1) (668730, 2)\n",
      "테스트 데이터의 크기 : (286599, 52, 1) (286599, 2)\n"
     ]
    }
   ],
   "source": [
    "# min_abs_scaler = MinMaxScaler()\n",
    "min_abs_scaler = MaxAbsScaler()\n",
    "X_stock_sc = min_abs_scaler.fit_transform(X_stock_df)\n",
    "\n",
    "X_train, X_test, y_train, y_test = train_test_split(X_stock_sc, y_stock_df\n",
    "                                                    , test_size=0.3, shuffle=True\n",
    "                                                    , random_state=42, stratify=y_stock_df)\n",
    "\n",
    "X_train = X_train.reshape(X_train.shape[0], X_stock_df.shape[1], 1)\n",
    "X_test = X_test.reshape(X_test.shape[0], X_stock_df.shape[1], 1)\n",
    "print('훈련 데이터의 크기 :', X_train.shape, y_train.shape)\n",
    "print('테스트 데이터의 크기 :', X_test.shape, y_test.shape)"
   ]
  },
  {
   "cell_type": "code",
   "execution_count": 9,
   "metadata": {},
   "outputs": [],
   "source": [
    "# from tensorflow import keras\n",
    "# # 전이 학습할 모델 불러오기\n",
    "# modelpath=\"./model/lstm_30_64_5_0.001_0.07_대형주_범위(0,1)_6개월.hdf5\"\n",
    "# transfer_model = keras.models.load_model(modelpath)\n",
    "# transfer_model.trainable = False\n",
    "\n",
    "# transfer_model.summary"
   ]
  },
  {
   "cell_type": "code",
   "execution_count": 10,
   "metadata": {},
   "outputs": [
    {
     "name": "stdout",
     "output_type": "stream",
     "text": [
      "Model: \"model_1\"\n",
      "_________________________________________________________________\n",
      " Layer (type)                Output Shape              Param #   \n",
      "=================================================================\n",
      " input_2 (InputLayer)        [(None, 52, 1)]           0         \n",
      "                                                                 \n",
      " lstm_2 (LSTM)               (None, 52, 16)            1152      \n",
      "                                                                 \n",
      " batch_normalization_3 (Batc  (None, 52, 16)           64        \n",
      " hNormalization)                                                 \n",
      "                                                                 \n",
      " activation_3 (Activation)   (None, 52, 16)            832       \n",
      "                                                                 \n",
      " lstm_3 (LSTM)               (None, 16)                2112      \n",
      "                                                                 \n",
      " batch_normalization_4 (Batc  (None, 16)               64        \n",
      " hNormalization)                                                 \n",
      "                                                                 \n",
      " activation_4 (Activation)   (None, 16)                16        \n",
      "                                                                 \n",
      " dense_1 (Dense)             (None, 2)                 34        \n",
      "                                                                 \n",
      " batch_normalization_5 (Batc  (None, 2)                8         \n",
      " hNormalization)                                                 \n",
      "                                                                 \n",
      " activation_5 (Activation)   (None, 2)                 0         \n",
      "                                                                 \n",
      "=================================================================\n",
      "Total params: 4,282\n",
      "Trainable params: 4,214\n",
      "Non-trainable params: 68\n",
      "_________________________________________________________________\n",
      "Epoch 1/30\n",
      "10449/10449 [==============================] - 146s 14ms/step - loss: 0.6794 - accuracy: 0.5734 - val_loss: 0.6904 - val_accuracy: 0.5663\n",
      "Epoch 2/30\n",
      "10449/10449 [==============================] - 132s 13ms/step - loss: 0.6515 - accuracy: 0.6221 - val_loss: 0.7089 - val_accuracy: 0.5697\n",
      "Epoch 3/30\n",
      "10449/10449 [==============================] - 144s 14ms/step - loss: 0.6470 - accuracy: 0.6258 - val_loss: 0.6793 - val_accuracy: 0.5824\n",
      "Epoch 4/30\n",
      "10449/10449 [==============================] - 146s 14ms/step - loss: 0.6445 - accuracy: 0.6278 - val_loss: 0.6597 - val_accuracy: 0.6092\n",
      "Epoch 5/30\n",
      "10449/10449 [==============================] - 139s 13ms/step - loss: 0.6423 - accuracy: 0.6310 - val_loss: 0.6876 - val_accuracy: 0.5914\n",
      "Epoch 6/30\n",
      "10449/10449 [==============================] - 139s 13ms/step - loss: 0.6406 - accuracy: 0.6326 - val_loss: 0.6703 - val_accuracy: 0.5924\n",
      "Epoch 7/30\n",
      "10449/10449 [==============================] - 139s 13ms/step - loss: 0.6393 - accuracy: 0.6347 - val_loss: 0.6911 - val_accuracy: 0.5909\n",
      "Epoch 8/30\n",
      "10449/10449 [==============================] - 139s 13ms/step - loss: 0.6385 - accuracy: 0.6352 - val_loss: 0.6864 - val_accuracy: 0.5873\n",
      "Epoch 9/30\n",
      "10449/10449 [==============================] - 140s 13ms/step - loss: 0.6377 - accuracy: 0.6360 - val_loss: 0.6758 - val_accuracy: 0.5951\n",
      "Epoch 10/30\n",
      "10449/10449 [==============================] - 141s 13ms/step - loss: 0.6370 - accuracy: 0.6369 - val_loss: 0.6646 - val_accuracy: 0.6140\n",
      "Epoch 11/30\n",
      "10449/10449 [==============================] - 144s 14ms/step - loss: 0.6361 - accuracy: 0.6379 - val_loss: 0.6540 - val_accuracy: 0.6221\n",
      "Epoch 12/30\n",
      "10449/10449 [==============================] - 146s 14ms/step - loss: 0.6348 - accuracy: 0.6395 - val_loss: 0.7786 - val_accuracy: 0.5666\n",
      "Epoch 13/30\n",
      "10449/10449 [==============================] - 148s 14ms/step - loss: 0.6344 - accuracy: 0.6400 - val_loss: 0.6631 - val_accuracy: 0.6151\n",
      "Epoch 14/30\n",
      "10449/10449 [==============================] - 171s 16ms/step - loss: 0.6334 - accuracy: 0.6416 - val_loss: 0.6771 - val_accuracy: 0.6059\n",
      "Epoch 15/30\n",
      "10449/10449 [==============================] - 153s 15ms/step - loss: 0.6328 - accuracy: 0.6427 - val_loss: 0.6505 - val_accuracy: 0.6290\n",
      "Epoch 16/30\n",
      "10449/10449 [==============================] - 160s 15ms/step - loss: 0.6321 - accuracy: 0.6428 - val_loss: 0.6590 - val_accuracy: 0.6245\n",
      "Epoch 17/30\n",
      "10449/10449 [==============================] - 165s 16ms/step - loss: 0.6320 - accuracy: 0.6433 - val_loss: 0.6616 - val_accuracy: 0.6135\n",
      "Epoch 18/30\n",
      "10449/10449 [==============================] - 151s 14ms/step - loss: 0.6313 - accuracy: 0.6437 - val_loss: 0.6863 - val_accuracy: 0.5881\n",
      "Epoch 19/30\n",
      "10449/10449 [==============================] - 150s 14ms/step - loss: 0.6306 - accuracy: 0.6442 - val_loss: 0.6641 - val_accuracy: 0.6186\n",
      "Epoch 20/30\n",
      "10449/10449 [==============================] - 144s 14ms/step - loss: 0.6301 - accuracy: 0.6449 - val_loss: 0.6603 - val_accuracy: 0.6280\n",
      "Epoch 21/30\n",
      "10449/10449 [==============================] - 140s 13ms/step - loss: 0.6298 - accuracy: 0.6456 - val_loss: 0.6762 - val_accuracy: 0.6062\n",
      "Epoch 22/30\n",
      "10449/10449 [==============================] - 153s 15ms/step - loss: 0.6296 - accuracy: 0.6462 - val_loss: 0.6589 - val_accuracy: 0.6301\n",
      "Epoch 23/30\n",
      "10449/10449 [==============================] - 157s 15ms/step - loss: 0.6283 - accuracy: 0.6468 - val_loss: 0.6476 - val_accuracy: 0.6349\n",
      "Epoch 24/30\n",
      "10449/10449 [==============================] - 162s 16ms/step - loss: 0.6282 - accuracy: 0.6471 - val_loss: 0.6552 - val_accuracy: 0.6270\n",
      "Epoch 25/30\n",
      "10449/10449 [==============================] - 156s 15ms/step - loss: 0.6275 - accuracy: 0.6485 - val_loss: 0.6494 - val_accuracy: 0.6399\n",
      "Epoch 26/30\n",
      "10449/10449 [==============================] - 156s 15ms/step - loss: 0.6272 - accuracy: 0.6488 - val_loss: 0.6727 - val_accuracy: 0.6118\n",
      "Epoch 27/30\n",
      "10449/10449 [==============================] - 155s 15ms/step - loss: 0.6266 - accuracy: 0.6487 - val_loss: 0.6814 - val_accuracy: 0.6088\n",
      "Epoch 28/30\n",
      "10449/10449 [==============================] - 168s 16ms/step - loss: 0.6265 - accuracy: 0.6489 - val_loss: 0.6739 - val_accuracy: 0.6087\n",
      "Epoch 29/30\n",
      "10449/10449 [==============================] - 164s 16ms/step - loss: 0.6263 - accuracy: 0.6496 - val_loss: 0.6845 - val_accuracy: 0.6166\n",
      "Epoch 30/30\n",
      "10449/10449 [==============================] - 147s 14ms/step - loss: 0.6262 - accuracy: 0.6499 - val_loss: 0.6790 - val_accuracy: 0.6219\n"
     ]
    }
   ],
   "source": [
    "# 모델 설정\n",
    "inputs = Input(shape=(X_stock_df.shape[1],1))\n",
    "lstm_out = LSTM(16, dropout=0.2,return_sequences=True)(inputs)\n",
    "lstm_out = BatchNormalization()(lstm_out)\n",
    "lstm_out = Activation('PReLU')(lstm_out)\n",
    "lstm_out = LSTM(16, dropout=0.2)(lstm_out)\n",
    "lstm_out = BatchNormalization()(lstm_out)\n",
    "lstm_out = Activation('PReLU')(lstm_out)\n",
    "lstm_out = Dense(2)(lstm_out)\n",
    "lstm_out = BatchNormalization()(lstm_out)\n",
    "lstm_out = Activation('softmax')(lstm_out) \n",
    "\n",
    "# stop지점 설정\n",
    "early_stopping_callback = EarlyStopping(monitor='val_loss', patience=10)\n",
    "\n",
    "# 모델 이름 설정\n",
    "modelpath=\"./model/소형주_20221206_1년_lstm_30ep_64bs_10pa_04cor.hdf5\"\n",
    "# 최적화 모델을 업데이트하고 저장합니다.\n",
    "checkpointer = ModelCheckpoint(filepath=modelpath, monitor='val_loss', verbose=0, save_best_only=True)\n",
    "\n",
    "model = Model(inputs=inputs, outputs=lstm_out)\n",
    "model.summary()\n",
    "model.compile(loss='categorical_crossentropy', optimizer=optimizers.Adam(learning_rate=0.001, decay=1e-7), metrics=['accuracy'])\n",
    "\n",
    "history=model.fit(X_train, y_train, epochs=30, batch_size=64,verbose=1, validation_data=(X_test, y_test), callbacks=[early_stopping_callback, checkpointer])"
   ]
  },
  {
   "cell_type": "code",
   "execution_count": null,
   "metadata": {},
   "outputs": [],
   "source": [
    "modelpath=\"./model/소형주_20221206_1년_lstm_30ep_64bs_10pa_04cor.hdf5\"\n",
    "model_pred = load_model(modelpath)\n",
    "print(\"\\n Test Accuracy: %.4f\" % (model_pred.evaluate(X_test, y_test)[1]))\n",
    "\n"
   ]
  },
  {
   "cell_type": "code",
   "execution_count": null,
   "metadata": {},
   "outputs": [
    {
     "data": {
      "image/png": "[encoded data removed]",
      "text/plain": [
       "<Figure size 600x600 with 2 Axes>"
      ]
     },
     "metadata": {},
     "output_type": "display_data"
    }
   ],
   "source": [
    "# #Plotting\n",
    "acc = history.history['accuracy']\n",
    "val_acc = history.history['val_accuracy']\n",
    "\n",
    "loss = history.history['loss']\n",
    "val_loss = history.history['val_loss']\n",
    "\n",
    "plt.figure(figsize=(6, 6))\n",
    "plt.subplot(2, 1, 1)\n",
    "plt.plot(acc, label='Training Accuracy')\n",
    "plt.plot(val_acc, label='Validation Accuracy')\n",
    "plt.legend(loc='lower right')\n",
    "plt.ylabel('Accuracy')\n",
    "plt.ylim([0,2])\n",
    "plt.title('Training and Validation Accuracy')\n",
    "\n",
    "plt.subplot(2, 1, 2)\n",
    "plt.plot(loss, label='Training Loss')\n",
    "plt.plot(val_loss, label='Validation Loss')\n",
    "plt.legend(loc='upper right')\n",
    "plt.ylabel('Cross Entropy')\n",
    "plt.ylim([0,1.0])\n",
    "plt.title('Training and Validation Loss')\n",
    "plt.xlabel('epoch')\n",
    "plt.show()"
   ]
  },
  {
   "cell_type": "code",
   "execution_count": null,
   "metadata": {},
   "outputs": [],
   "source": []
  }
 ],
 "metadata": {
  "colab": {
   "collapsed_sections": [],
   "name": "ch12-colab.ipynb",
   "provenance": [
    {
     "file_id": "https://github.com/taehojo/deeplearning/blob/master/colab/ch12-colab.ipynb",
     "timestamp": 1642728385932
    }
   ]
  },
  "kernelspec": {
   "display_name": "Python 3.8.15 ('tfgpu')",
   "language": "python",
   "name": "python3"
  },
  "language_info": {
   "codemirror_mode": {
    "name": "ipython",
    "version": 3
   },
   "file_extension": ".py",
   "mimetype": "text/x-python",
   "name": "python",
   "nbconvert_exporter": "python",
   "pygments_lexer": "ipython3",
   "version": "3.8.15"
  },
  "vscode": {
   "interpreter": {
    "hash": "5c0d917b331d00af62a730bf0430d82d3e7e85b82585d8406073ee97cc7ea825"
   }
  }
 },
 "nbformat": 4,
 "nbformat_minor": 1
}
