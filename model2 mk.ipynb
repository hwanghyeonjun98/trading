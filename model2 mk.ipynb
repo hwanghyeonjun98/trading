{
 "cells": [
  {
   "cell_type": "code",
   "execution_count": 34,
   "metadata": {},
   "outputs": [],
   "source": [
    "import os\n",
    "import pickle\n",
    "import numpy as np\n",
    "import pandas as pd\n",
    "import seaborn as sns\n",
    "import tensorflow as tf\n",
    "import matplotlib.pyplot as plt\n",
    "\n",
    "from sklearn.metrics import accuracy_score\n",
    "from sklearn.preprocessing import MinMaxScaler, MaxAbsScaler\n",
    "from sklearn.preprocessing import OneHotEncoder\n",
    "from sklearn.model_selection import train_test_split\n",
    "\n",
    "from tensorflow.keras import optimizers\n",
    "from tensorflow.keras.layers import Dense, LSTM\n",
    "from tensorflow.keras.utils import to_categorical\n",
    "from tensorflow.keras.optimizers import Adam, Nadam\n",
    "from tensorflow.keras.models import Sequential,Model\n",
    "from tensorflow.keras.activations import relu, tanh, softmax, sigmoid\n",
    "from tensorflow.keras.callbacks import EarlyStopping, ModelCheckpoint\n",
    "from tensorflow.keras.layers import Dropout, PReLU, LeakyReLU, Input, BatchNormalization, Activation, Flatten\n"
   ]
  },
  {
   "cell_type": "code",
   "execution_count": null,
   "metadata": {},
   "outputs": [],
   "source": [
    "# np.set_printoptions(threshold=sys.maxsize)"
   ]
  },
  {
   "cell_type": "code",
   "execution_count": 35,
   "metadata": {},
   "outputs": [],
   "source": [
    "# from tensorflow.python.client import device_lib\n",
    "# device_lib.list_local_devices()\n",
    "os.environ[\"CUDA_VISIBLE_DEVICES\"] = \"0\""
   ]
  },
  {
   "cell_type": "code",
   "execution_count": 36,
   "metadata": {},
   "outputs": [],
   "source": [
    "with open('../colume_pickle/test_complete_df_6개월_choice_10개_대형주.pkl', 'rb') as f:\n",
    "    stock_df = pickle.load(f)\n",
    "with open('../colume_pickle/6개월_choice_10개_cor_0.075_lstm_대형주.pkl', 'rb') as f:\n",
    "    col_list = pickle.load(f)"
   ]
  },
  {
   "cell_type": "code",
   "execution_count": 37,
   "metadata": {},
   "outputs": [
    {
     "data": {
      "text/plain": [
       "0.0     103626\n",
       "0.2      52866\n",
       "0.3      39303\n",
       "0.1      38075\n",
       "0.5      35965\n",
       "         ...  \n",
       "20.1         1\n",
       "19.5         1\n",
       "20.8         1\n",
       "15.9         1\n",
       "21.9         1\n",
       "Name: pct_label, Length: 191, dtype: int64"
      ]
     },
     "execution_count": 37,
     "metadata": {},
     "output_type": "execute_result"
    }
   ],
   "source": [
    "stock_df['pct_label'].value_counts()"
   ]
  },
  {
   "cell_type": "code",
   "execution_count": 38,
   "metadata": {},
   "outputs": [],
   "source": [
    "# col_list = col_list.drop('날짜')"
   ]
  },
  {
   "cell_type": "code",
   "execution_count": 39,
   "metadata": {},
   "outputs": [
    {
     "data": {
      "text/plain": [
       "시간                         -0.306454\n",
       "시가                         -0.067072\n",
       "고가                         -0.066999\n",
       "저가                         -0.067114\n",
       "종가                         -0.067027\n",
       "누적체결매수수량                   -0.105825\n",
       "누적체결매도수량                   -0.109951\n",
       "전일대비                        0.221439\n",
       "상장주식수                      -0.120217\n",
       "시가총액                       -0.142092\n",
       "외국인현보유비율                   -0.096250\n",
       "기관누적순매수량                    0.110315\n",
       "AUDKRW내역_거래량                0.076446\n",
       "CADKRW내역_거래량                0.075311\n",
       "CBOEVolatilityIndex내역_종가    0.078165\n",
       "CBOEVolatilityIndex내역_저가    0.078928\n",
       "DowJonesShanghai내역_변동       0.075500\n",
       "FTSEChinaA50내역_변동           0.081399\n",
       "INRKRW내역_변동                -0.079489\n",
       "NZDKRW내역_종가                -0.086069\n",
       "NZDKRW내역_고가                -0.076379\n",
       "NZDKRW내역_저가                -0.079247\n",
       "PSI내역_거래량                   0.088421\n",
       "SETIndex내역_변동               0.083096\n",
       "SP500내역_종가                 -0.076211\n",
       "닛케이내역_오픈                   -0.084876\n",
       "닛케이내역_고가                   -0.078780\n",
       "닛케이내역_저가                   -0.076941\n",
       "다우존스내역_종가                  -0.078645\n",
       "러셀2000지수내역_종가              -0.077263\n",
       "러셀2000지수내역_오픈              -0.076899\n",
       "러셀2000지수내역_고가              -0.075363\n",
       "코스닥내역_변동                    0.109053\n",
       "코스피50내역_거래량                 0.092373\n",
       "코스피50내역_변동                  0.101550\n",
       "코스피지수내역_변동                  0.100598\n",
       "헝가리BUX내역_오픈                -0.080854\n",
       "Name: pct_label, dtype: float64"
      ]
     },
     "execution_count": 39,
     "metadata": {},
     "output_type": "execute_result"
    }
   ],
   "source": [
    "col_list"
   ]
  },
  {
   "cell_type": "code",
   "execution_count": 40,
   "metadata": {},
   "outputs": [
    {
     "data": {
      "text/plain": [
       "2"
      ]
     },
     "execution_count": 40,
     "metadata": {},
     "output_type": "execute_result"
    }
   ],
   "source": [
    "cate = pd.DataFrame({'pct_label' : [0,1]})\n",
    "\n",
    "ohe = OneHotEncoder(sparse=False)\n",
    "ohe_test = ohe.fit_transform(cate[['pct_label']])\n",
    "# ohe.categories_\n",
    "len(ohe_test[0])\n",
    "# pd.DataFrame(ohe_test, columns=['pct_label_' + str(col) for col in ohe.categories_[0]])"
   ]
  },
  {
   "cell_type": "code",
   "execution_count": 41,
   "metadata": {},
   "outputs": [
    {
     "data": {
      "text/plain": [
       "0        1.0\n",
       "1        1.0\n",
       "2        1.0\n",
       "3        1.0\n",
       "4        1.0\n",
       "        ... \n",
       "52573    0.0\n",
       "52574    0.0\n",
       "52575    0.0\n",
       "52576    0.0\n",
       "52577    0.0\n",
       "Name: pct_label, Length: 525780, dtype: float64"
      ]
     },
     "execution_count": 41,
     "metadata": {},
     "output_type": "execute_result"
    }
   ],
   "source": [
    "stock_df['pct_label'] = stock_df['pct_label'].apply(np.floor)\n",
    "stock_df['pct_label']"
   ]
  },
  {
   "cell_type": "code",
   "execution_count": 42,
   "metadata": {},
   "outputs": [],
   "source": [
    "stock_df[stock_df['pct_label'] > 0] = 1"
   ]
  },
  {
   "cell_type": "code",
   "execution_count": 43,
   "metadata": {},
   "outputs": [],
   "source": [
    "y_stock_df = stock_df['pct_label']"
   ]
  },
  {
   "cell_type": "code",
   "execution_count": 44,
   "metadata": {},
   "outputs": [
    {
     "data": {
      "text/plain": [
       "(525780,)"
      ]
     },
     "execution_count": 44,
     "metadata": {},
     "output_type": "execute_result"
    }
   ],
   "source": [
    "y_stock_df.shape"
   ]
  },
  {
   "cell_type": "code",
   "execution_count": 45,
   "metadata": {},
   "outputs": [
    {
     "data": {
      "text/plain": [
       "(525780, 2)"
      ]
     },
     "execution_count": 45,
     "metadata": {},
     "output_type": "execute_result"
    }
   ],
   "source": [
    "y_stock_df = ohe.transform(stock_df[['pct_label']])\n",
    "y_stock_df.shape"
   ]
  },
  {
   "cell_type": "code",
   "execution_count": 46,
   "metadata": {},
   "outputs": [
    {
     "data": {
      "text/html": [
       "<div>\n",
       "<style scoped>\n",
       "    .dataframe tbody tr th:only-of-type {\n",
       "        vertical-align: middle;\n",
       "    }\n",
       "\n",
       "    .dataframe tbody tr th {\n",
       "        vertical-align: top;\n",
       "    }\n",
       "\n",
       "    .dataframe thead th {\n",
       "        text-align: right;\n",
       "    }\n",
       "</style>\n",
       "<table border=\"1\" class=\"dataframe\">\n",
       "  <thead>\n",
       "    <tr style=\"text-align: right;\">\n",
       "      <th></th>\n",
       "      <th>날짜</th>\n",
       "      <th>시간</th>\n",
       "      <th>시가</th>\n",
       "      <th>고가</th>\n",
       "      <th>저가</th>\n",
       "      <th>종가</th>\n",
       "      <th>거래량</th>\n",
       "      <th>거래대금</th>\n",
       "      <th>누적체결매수수량</th>\n",
       "      <th>누적체결매도수량</th>\n",
       "      <th>...</th>\n",
       "      <th>헝가리BUX내역_고가</th>\n",
       "      <th>헝가리BUX내역_저가</th>\n",
       "      <th>헝가리BUX내역_거래량</th>\n",
       "      <th>헝가리BUX내역_변동</th>\n",
       "      <th>호주SPASX내역_종가</th>\n",
       "      <th>호주SPASX내역_오픈</th>\n",
       "      <th>호주SPASX내역_고가</th>\n",
       "      <th>호주SPASX내역_저가</th>\n",
       "      <th>호주SPASX내역_거래량</th>\n",
       "      <th>호주SPASX내역_변동</th>\n",
       "    </tr>\n",
       "  </thead>\n",
       "  <tbody>\n",
       "    <tr>\n",
       "      <th>0</th>\n",
       "      <td>1</td>\n",
       "      <td>1</td>\n",
       "      <td>1.0</td>\n",
       "      <td>1.0</td>\n",
       "      <td>1.0</td>\n",
       "      <td>1.0</td>\n",
       "      <td>1.0</td>\n",
       "      <td>1.000000e+00</td>\n",
       "      <td>1.0</td>\n",
       "      <td>1.0</td>\n",
       "      <td>...</td>\n",
       "      <td>1.00</td>\n",
       "      <td>1.00</td>\n",
       "      <td>1</td>\n",
       "      <td>1.00</td>\n",
       "      <td>1.0</td>\n",
       "      <td>1.0</td>\n",
       "      <td>1.0</td>\n",
       "      <td>1.0</td>\n",
       "      <td>1.0</td>\n",
       "      <td>1.00</td>\n",
       "    </tr>\n",
       "    <tr>\n",
       "      <th>1</th>\n",
       "      <td>1</td>\n",
       "      <td>1</td>\n",
       "      <td>1.0</td>\n",
       "      <td>1.0</td>\n",
       "      <td>1.0</td>\n",
       "      <td>1.0</td>\n",
       "      <td>1.0</td>\n",
       "      <td>1.000000e+00</td>\n",
       "      <td>1.0</td>\n",
       "      <td>1.0</td>\n",
       "      <td>...</td>\n",
       "      <td>1.00</td>\n",
       "      <td>1.00</td>\n",
       "      <td>1</td>\n",
       "      <td>1.00</td>\n",
       "      <td>1.0</td>\n",
       "      <td>1.0</td>\n",
       "      <td>1.0</td>\n",
       "      <td>1.0</td>\n",
       "      <td>1.0</td>\n",
       "      <td>1.00</td>\n",
       "    </tr>\n",
       "    <tr>\n",
       "      <th>2</th>\n",
       "      <td>1</td>\n",
       "      <td>1</td>\n",
       "      <td>1.0</td>\n",
       "      <td>1.0</td>\n",
       "      <td>1.0</td>\n",
       "      <td>1.0</td>\n",
       "      <td>1.0</td>\n",
       "      <td>1.000000e+00</td>\n",
       "      <td>1.0</td>\n",
       "      <td>1.0</td>\n",
       "      <td>...</td>\n",
       "      <td>1.00</td>\n",
       "      <td>1.00</td>\n",
       "      <td>1</td>\n",
       "      <td>1.00</td>\n",
       "      <td>1.0</td>\n",
       "      <td>1.0</td>\n",
       "      <td>1.0</td>\n",
       "      <td>1.0</td>\n",
       "      <td>1.0</td>\n",
       "      <td>1.00</td>\n",
       "    </tr>\n",
       "    <tr>\n",
       "      <th>3</th>\n",
       "      <td>1</td>\n",
       "      <td>1</td>\n",
       "      <td>1.0</td>\n",
       "      <td>1.0</td>\n",
       "      <td>1.0</td>\n",
       "      <td>1.0</td>\n",
       "      <td>1.0</td>\n",
       "      <td>1.000000e+00</td>\n",
       "      <td>1.0</td>\n",
       "      <td>1.0</td>\n",
       "      <td>...</td>\n",
       "      <td>1.00</td>\n",
       "      <td>1.00</td>\n",
       "      <td>1</td>\n",
       "      <td>1.00</td>\n",
       "      <td>1.0</td>\n",
       "      <td>1.0</td>\n",
       "      <td>1.0</td>\n",
       "      <td>1.0</td>\n",
       "      <td>1.0</td>\n",
       "      <td>1.00</td>\n",
       "    </tr>\n",
       "    <tr>\n",
       "      <th>4</th>\n",
       "      <td>1</td>\n",
       "      <td>1</td>\n",
       "      <td>1.0</td>\n",
       "      <td>1.0</td>\n",
       "      <td>1.0</td>\n",
       "      <td>1.0</td>\n",
       "      <td>1.0</td>\n",
       "      <td>1.000000e+00</td>\n",
       "      <td>1.0</td>\n",
       "      <td>1.0</td>\n",
       "      <td>...</td>\n",
       "      <td>1.00</td>\n",
       "      <td>1.00</td>\n",
       "      <td>1</td>\n",
       "      <td>1.00</td>\n",
       "      <td>1.0</td>\n",
       "      <td>1.0</td>\n",
       "      <td>1.0</td>\n",
       "      <td>1.0</td>\n",
       "      <td>1.0</td>\n",
       "      <td>1.00</td>\n",
       "    </tr>\n",
       "    <tr>\n",
       "      <th>...</th>\n",
       "      <td>...</td>\n",
       "      <td>...</td>\n",
       "      <td>...</td>\n",
       "      <td>...</td>\n",
       "      <td>...</td>\n",
       "      <td>...</td>\n",
       "      <td>...</td>\n",
       "      <td>...</td>\n",
       "      <td>...</td>\n",
       "      <td>...</td>\n",
       "      <td>...</td>\n",
       "      <td>...</td>\n",
       "      <td>...</td>\n",
       "      <td>...</td>\n",
       "      <td>...</td>\n",
       "      <td>...</td>\n",
       "      <td>...</td>\n",
       "      <td>...</td>\n",
       "      <td>...</td>\n",
       "      <td>...</td>\n",
       "      <td>...</td>\n",
       "    </tr>\n",
       "    <tr>\n",
       "      <th>52573</th>\n",
       "      <td>20221121</td>\n",
       "      <td>1517</td>\n",
       "      <td>35400.0</td>\n",
       "      <td>35450.0</td>\n",
       "      <td>35400.0</td>\n",
       "      <td>35450.0</td>\n",
       "      <td>2496.0</td>\n",
       "      <td>8.836100e+07</td>\n",
       "      <td>190577.0</td>\n",
       "      <td>253355.0</td>\n",
       "      <td>...</td>\n",
       "      <td>44778.83</td>\n",
       "      <td>44034.23</td>\n",
       "      <td>0</td>\n",
       "      <td>0.22</td>\n",
       "      <td>7139.3</td>\n",
       "      <td>7151.8</td>\n",
       "      <td>7174.4</td>\n",
       "      <td>7131.7</td>\n",
       "      <td>598630000.0</td>\n",
       "      <td>-0.17</td>\n",
       "    </tr>\n",
       "    <tr>\n",
       "      <th>52574</th>\n",
       "      <td>20221121</td>\n",
       "      <td>1518</td>\n",
       "      <td>35450.0</td>\n",
       "      <td>35450.0</td>\n",
       "      <td>35400.0</td>\n",
       "      <td>35450.0</td>\n",
       "      <td>1130.0</td>\n",
       "      <td>4.003700e+07</td>\n",
       "      <td>191269.0</td>\n",
       "      <td>253793.0</td>\n",
       "      <td>...</td>\n",
       "      <td>44778.83</td>\n",
       "      <td>44034.23</td>\n",
       "      <td>0</td>\n",
       "      <td>0.22</td>\n",
       "      <td>7139.3</td>\n",
       "      <td>7151.8</td>\n",
       "      <td>7174.4</td>\n",
       "      <td>7131.7</td>\n",
       "      <td>598630000.0</td>\n",
       "      <td>-0.17</td>\n",
       "    </tr>\n",
       "    <tr>\n",
       "      <th>52575</th>\n",
       "      <td>20221121</td>\n",
       "      <td>1519</td>\n",
       "      <td>35400.0</td>\n",
       "      <td>35450.0</td>\n",
       "      <td>35400.0</td>\n",
       "      <td>35450.0</td>\n",
       "      <td>2607.0</td>\n",
       "      <td>9.236600e+07</td>\n",
       "      <td>192828.0</td>\n",
       "      <td>254841.0</td>\n",
       "      <td>...</td>\n",
       "      <td>44778.83</td>\n",
       "      <td>44034.23</td>\n",
       "      <td>0</td>\n",
       "      <td>0.22</td>\n",
       "      <td>7139.3</td>\n",
       "      <td>7151.8</td>\n",
       "      <td>7174.4</td>\n",
       "      <td>7131.7</td>\n",
       "      <td>598630000.0</td>\n",
       "      <td>-0.17</td>\n",
       "    </tr>\n",
       "    <tr>\n",
       "      <th>52576</th>\n",
       "      <td>20221121</td>\n",
       "      <td>1520</td>\n",
       "      <td>35400.0</td>\n",
       "      <td>35450.0</td>\n",
       "      <td>35400.0</td>\n",
       "      <td>35450.0</td>\n",
       "      <td>2194.0</td>\n",
       "      <td>7.774400e+07</td>\n",
       "      <td>194375.0</td>\n",
       "      <td>255488.0</td>\n",
       "      <td>...</td>\n",
       "      <td>44778.83</td>\n",
       "      <td>44034.23</td>\n",
       "      <td>0</td>\n",
       "      <td>0.22</td>\n",
       "      <td>7139.3</td>\n",
       "      <td>7151.8</td>\n",
       "      <td>7174.4</td>\n",
       "      <td>7131.7</td>\n",
       "      <td>598630000.0</td>\n",
       "      <td>-0.17</td>\n",
       "    </tr>\n",
       "    <tr>\n",
       "      <th>52577</th>\n",
       "      <td>20221121</td>\n",
       "      <td>1530</td>\n",
       "      <td>35400.0</td>\n",
       "      <td>35400.0</td>\n",
       "      <td>35400.0</td>\n",
       "      <td>35400.0</td>\n",
       "      <td>29309.0</td>\n",
       "      <td>1.037539e+09</td>\n",
       "      <td>223684.0</td>\n",
       "      <td>255488.0</td>\n",
       "      <td>...</td>\n",
       "      <td>44778.83</td>\n",
       "      <td>44034.23</td>\n",
       "      <td>0</td>\n",
       "      <td>0.22</td>\n",
       "      <td>7139.3</td>\n",
       "      <td>7151.8</td>\n",
       "      <td>7174.4</td>\n",
       "      <td>7131.7</td>\n",
       "      <td>598630000.0</td>\n",
       "      <td>-0.17</td>\n",
       "    </tr>\n",
       "  </tbody>\n",
       "</table>\n",
       "<p>525780 rows × 1291 columns</p>\n",
       "</div>"
      ],
      "text/plain": [
       "             날짜    시간       시가       고가       저가       종가      거래량  \\\n",
       "0             1     1      1.0      1.0      1.0      1.0      1.0   \n",
       "1             1     1      1.0      1.0      1.0      1.0      1.0   \n",
       "2             1     1      1.0      1.0      1.0      1.0      1.0   \n",
       "3             1     1      1.0      1.0      1.0      1.0      1.0   \n",
       "4             1     1      1.0      1.0      1.0      1.0      1.0   \n",
       "...         ...   ...      ...      ...      ...      ...      ...   \n",
       "52573  20221121  1517  35400.0  35450.0  35400.0  35450.0   2496.0   \n",
       "52574  20221121  1518  35450.0  35450.0  35400.0  35450.0   1130.0   \n",
       "52575  20221121  1519  35400.0  35450.0  35400.0  35450.0   2607.0   \n",
       "52576  20221121  1520  35400.0  35450.0  35400.0  35450.0   2194.0   \n",
       "52577  20221121  1530  35400.0  35400.0  35400.0  35400.0  29309.0   \n",
       "\n",
       "               거래대금  누적체결매수수량  누적체결매도수량  ...  헝가리BUX내역_고가  헝가리BUX내역_저가  \\\n",
       "0      1.000000e+00       1.0       1.0  ...         1.00         1.00   \n",
       "1      1.000000e+00       1.0       1.0  ...         1.00         1.00   \n",
       "2      1.000000e+00       1.0       1.0  ...         1.00         1.00   \n",
       "3      1.000000e+00       1.0       1.0  ...         1.00         1.00   \n",
       "4      1.000000e+00       1.0       1.0  ...         1.00         1.00   \n",
       "...             ...       ...       ...  ...          ...          ...   \n",
       "52573  8.836100e+07  190577.0  253355.0  ...     44778.83     44034.23   \n",
       "52574  4.003700e+07  191269.0  253793.0  ...     44778.83     44034.23   \n",
       "52575  9.236600e+07  192828.0  254841.0  ...     44778.83     44034.23   \n",
       "52576  7.774400e+07  194375.0  255488.0  ...     44778.83     44034.23   \n",
       "52577  1.037539e+09  223684.0  255488.0  ...     44778.83     44034.23   \n",
       "\n",
       "       헝가리BUX내역_거래량  헝가리BUX내역_변동  호주SPASX내역_종가  호주SPASX내역_오픈  호주SPASX내역_고가  \\\n",
       "0                 1         1.00           1.0           1.0           1.0   \n",
       "1                 1         1.00           1.0           1.0           1.0   \n",
       "2                 1         1.00           1.0           1.0           1.0   \n",
       "3                 1         1.00           1.0           1.0           1.0   \n",
       "4                 1         1.00           1.0           1.0           1.0   \n",
       "...             ...          ...           ...           ...           ...   \n",
       "52573             0         0.22        7139.3        7151.8        7174.4   \n",
       "52574             0         0.22        7139.3        7151.8        7174.4   \n",
       "52575             0         0.22        7139.3        7151.8        7174.4   \n",
       "52576             0         0.22        7139.3        7151.8        7174.4   \n",
       "52577             0         0.22        7139.3        7151.8        7174.4   \n",
       "\n",
       "       호주SPASX내역_저가  호주SPASX내역_거래량  호주SPASX내역_변동  \n",
       "0               1.0            1.0          1.00  \n",
       "1               1.0            1.0          1.00  \n",
       "2               1.0            1.0          1.00  \n",
       "3               1.0            1.0          1.00  \n",
       "4               1.0            1.0          1.00  \n",
       "...             ...            ...           ...  \n",
       "52573        7131.7    598630000.0         -0.17  \n",
       "52574        7131.7    598630000.0         -0.17  \n",
       "52575        7131.7    598630000.0         -0.17  \n",
       "52576        7131.7    598630000.0         -0.17  \n",
       "52577        7131.7    598630000.0         -0.17  \n",
       "\n",
       "[525780 rows x 1291 columns]"
      ]
     },
     "execution_count": 46,
     "metadata": {},
     "output_type": "execute_result"
    }
   ],
   "source": [
    "stock_df"
   ]
  },
  {
   "cell_type": "code",
   "execution_count": 47,
   "metadata": {},
   "outputs": [
    {
     "data": {
      "text/html": [
       "<div>\n",
       "<style scoped>\n",
       "    .dataframe tbody tr th:only-of-type {\n",
       "        vertical-align: middle;\n",
       "    }\n",
       "\n",
       "    .dataframe tbody tr th {\n",
       "        vertical-align: top;\n",
       "    }\n",
       "\n",
       "    .dataframe thead th {\n",
       "        text-align: right;\n",
       "    }\n",
       "</style>\n",
       "<table border=\"1\" class=\"dataframe\">\n",
       "  <thead>\n",
       "    <tr style=\"text-align: right;\">\n",
       "      <th></th>\n",
       "      <th>시간</th>\n",
       "      <th>시가</th>\n",
       "      <th>고가</th>\n",
       "      <th>저가</th>\n",
       "      <th>종가</th>\n",
       "      <th>누적체결매수수량</th>\n",
       "      <th>누적체결매도수량</th>\n",
       "      <th>전일대비</th>\n",
       "      <th>상장주식수</th>\n",
       "      <th>시가총액</th>\n",
       "      <th>...</th>\n",
       "      <th>닛케이내역_저가</th>\n",
       "      <th>다우존스내역_종가</th>\n",
       "      <th>러셀2000지수내역_종가</th>\n",
       "      <th>러셀2000지수내역_오픈</th>\n",
       "      <th>러셀2000지수내역_고가</th>\n",
       "      <th>코스닥내역_변동</th>\n",
       "      <th>코스피50내역_거래량</th>\n",
       "      <th>코스피50내역_변동</th>\n",
       "      <th>코스피지수내역_변동</th>\n",
       "      <th>헝가리BUX내역_오픈</th>\n",
       "    </tr>\n",
       "    <tr>\n",
       "      <th>날짜</th>\n",
       "      <th></th>\n",
       "      <th></th>\n",
       "      <th></th>\n",
       "      <th></th>\n",
       "      <th></th>\n",
       "      <th></th>\n",
       "      <th></th>\n",
       "      <th></th>\n",
       "      <th></th>\n",
       "      <th></th>\n",
       "      <th></th>\n",
       "      <th></th>\n",
       "      <th></th>\n",
       "      <th></th>\n",
       "      <th></th>\n",
       "      <th></th>\n",
       "      <th></th>\n",
       "      <th></th>\n",
       "      <th></th>\n",
       "      <th></th>\n",
       "      <th></th>\n",
       "    </tr>\n",
       "  </thead>\n",
       "  <tbody>\n",
       "    <tr>\n",
       "      <th>1</th>\n",
       "      <td>1</td>\n",
       "      <td>1.0</td>\n",
       "      <td>1.0</td>\n",
       "      <td>1.0</td>\n",
       "      <td>1.0</td>\n",
       "      <td>1.0</td>\n",
       "      <td>1.0</td>\n",
       "      <td>1</td>\n",
       "      <td>1</td>\n",
       "      <td>1</td>\n",
       "      <td>...</td>\n",
       "      <td>1.0</td>\n",
       "      <td>1.00</td>\n",
       "      <td>1.00</td>\n",
       "      <td>1.00</td>\n",
       "      <td>1.00</td>\n",
       "      <td>1.00</td>\n",
       "      <td>1.0</td>\n",
       "      <td>1.00</td>\n",
       "      <td>1.00</td>\n",
       "      <td>1.00</td>\n",
       "    </tr>\n",
       "    <tr>\n",
       "      <th>1</th>\n",
       "      <td>1</td>\n",
       "      <td>1.0</td>\n",
       "      <td>1.0</td>\n",
       "      <td>1.0</td>\n",
       "      <td>1.0</td>\n",
       "      <td>1.0</td>\n",
       "      <td>1.0</td>\n",
       "      <td>1</td>\n",
       "      <td>1</td>\n",
       "      <td>1</td>\n",
       "      <td>...</td>\n",
       "      <td>1.0</td>\n",
       "      <td>1.00</td>\n",
       "      <td>1.00</td>\n",
       "      <td>1.00</td>\n",
       "      <td>1.00</td>\n",
       "      <td>1.00</td>\n",
       "      <td>1.0</td>\n",
       "      <td>1.00</td>\n",
       "      <td>1.00</td>\n",
       "      <td>1.00</td>\n",
       "    </tr>\n",
       "    <tr>\n",
       "      <th>1</th>\n",
       "      <td>1</td>\n",
       "      <td>1.0</td>\n",
       "      <td>1.0</td>\n",
       "      <td>1.0</td>\n",
       "      <td>1.0</td>\n",
       "      <td>1.0</td>\n",
       "      <td>1.0</td>\n",
       "      <td>1</td>\n",
       "      <td>1</td>\n",
       "      <td>1</td>\n",
       "      <td>...</td>\n",
       "      <td>1.0</td>\n",
       "      <td>1.00</td>\n",
       "      <td>1.00</td>\n",
       "      <td>1.00</td>\n",
       "      <td>1.00</td>\n",
       "      <td>1.00</td>\n",
       "      <td>1.0</td>\n",
       "      <td>1.00</td>\n",
       "      <td>1.00</td>\n",
       "      <td>1.00</td>\n",
       "    </tr>\n",
       "    <tr>\n",
       "      <th>1</th>\n",
       "      <td>1</td>\n",
       "      <td>1.0</td>\n",
       "      <td>1.0</td>\n",
       "      <td>1.0</td>\n",
       "      <td>1.0</td>\n",
       "      <td>1.0</td>\n",
       "      <td>1.0</td>\n",
       "      <td>1</td>\n",
       "      <td>1</td>\n",
       "      <td>1</td>\n",
       "      <td>...</td>\n",
       "      <td>1.0</td>\n",
       "      <td>1.00</td>\n",
       "      <td>1.00</td>\n",
       "      <td>1.00</td>\n",
       "      <td>1.00</td>\n",
       "      <td>1.00</td>\n",
       "      <td>1.0</td>\n",
       "      <td>1.00</td>\n",
       "      <td>1.00</td>\n",
       "      <td>1.00</td>\n",
       "    </tr>\n",
       "    <tr>\n",
       "      <th>1</th>\n",
       "      <td>1</td>\n",
       "      <td>1.0</td>\n",
       "      <td>1.0</td>\n",
       "      <td>1.0</td>\n",
       "      <td>1.0</td>\n",
       "      <td>1.0</td>\n",
       "      <td>1.0</td>\n",
       "      <td>1</td>\n",
       "      <td>1</td>\n",
       "      <td>1</td>\n",
       "      <td>...</td>\n",
       "      <td>1.0</td>\n",
       "      <td>1.00</td>\n",
       "      <td>1.00</td>\n",
       "      <td>1.00</td>\n",
       "      <td>1.00</td>\n",
       "      <td>1.00</td>\n",
       "      <td>1.0</td>\n",
       "      <td>1.00</td>\n",
       "      <td>1.00</td>\n",
       "      <td>1.00</td>\n",
       "    </tr>\n",
       "    <tr>\n",
       "      <th>...</th>\n",
       "      <td>...</td>\n",
       "      <td>...</td>\n",
       "      <td>...</td>\n",
       "      <td>...</td>\n",
       "      <td>...</td>\n",
       "      <td>...</td>\n",
       "      <td>...</td>\n",
       "      <td>...</td>\n",
       "      <td>...</td>\n",
       "      <td>...</td>\n",
       "      <td>...</td>\n",
       "      <td>...</td>\n",
       "      <td>...</td>\n",
       "      <td>...</td>\n",
       "      <td>...</td>\n",
       "      <td>...</td>\n",
       "      <td>...</td>\n",
       "      <td>...</td>\n",
       "      <td>...</td>\n",
       "      <td>...</td>\n",
       "      <td>...</td>\n",
       "    </tr>\n",
       "    <tr>\n",
       "      <th>20221121</th>\n",
       "      <td>1517</td>\n",
       "      <td>35400.0</td>\n",
       "      <td>35450.0</td>\n",
       "      <td>35400.0</td>\n",
       "      <td>35450.0</td>\n",
       "      <td>190577.0</td>\n",
       "      <td>253355.0</td>\n",
       "      <td>-800</td>\n",
       "      <td>106903000</td>\n",
       "      <td>3784366000000</td>\n",
       "      <td>...</td>\n",
       "      <td>27846.3</td>\n",
       "      <td>33700.87</td>\n",
       "      <td>1836.51</td>\n",
       "      <td>1842.96</td>\n",
       "      <td>1842.96</td>\n",
       "      <td>-1.82</td>\n",
       "      <td>37070000.0</td>\n",
       "      <td>-0.79</td>\n",
       "      <td>-1.02</td>\n",
       "      <td>44496.51</td>\n",
       "    </tr>\n",
       "    <tr>\n",
       "      <th>20221121</th>\n",
       "      <td>1518</td>\n",
       "      <td>35450.0</td>\n",
       "      <td>35450.0</td>\n",
       "      <td>35400.0</td>\n",
       "      <td>35450.0</td>\n",
       "      <td>191269.0</td>\n",
       "      <td>253793.0</td>\n",
       "      <td>-800</td>\n",
       "      <td>106903000</td>\n",
       "      <td>3784366000000</td>\n",
       "      <td>...</td>\n",
       "      <td>27846.3</td>\n",
       "      <td>33700.87</td>\n",
       "      <td>1836.51</td>\n",
       "      <td>1842.96</td>\n",
       "      <td>1842.96</td>\n",
       "      <td>-1.82</td>\n",
       "      <td>37070000.0</td>\n",
       "      <td>-0.79</td>\n",
       "      <td>-1.02</td>\n",
       "      <td>44496.51</td>\n",
       "    </tr>\n",
       "    <tr>\n",
       "      <th>20221121</th>\n",
       "      <td>1519</td>\n",
       "      <td>35400.0</td>\n",
       "      <td>35450.0</td>\n",
       "      <td>35400.0</td>\n",
       "      <td>35450.0</td>\n",
       "      <td>192828.0</td>\n",
       "      <td>254841.0</td>\n",
       "      <td>-800</td>\n",
       "      <td>106903000</td>\n",
       "      <td>3784366000000</td>\n",
       "      <td>...</td>\n",
       "      <td>27846.3</td>\n",
       "      <td>33700.87</td>\n",
       "      <td>1836.51</td>\n",
       "      <td>1842.96</td>\n",
       "      <td>1842.96</td>\n",
       "      <td>-1.82</td>\n",
       "      <td>37070000.0</td>\n",
       "      <td>-0.79</td>\n",
       "      <td>-1.02</td>\n",
       "      <td>44496.51</td>\n",
       "    </tr>\n",
       "    <tr>\n",
       "      <th>20221121</th>\n",
       "      <td>1520</td>\n",
       "      <td>35400.0</td>\n",
       "      <td>35450.0</td>\n",
       "      <td>35400.0</td>\n",
       "      <td>35450.0</td>\n",
       "      <td>194375.0</td>\n",
       "      <td>255488.0</td>\n",
       "      <td>-800</td>\n",
       "      <td>106903000</td>\n",
       "      <td>3784366000000</td>\n",
       "      <td>...</td>\n",
       "      <td>27846.3</td>\n",
       "      <td>33700.87</td>\n",
       "      <td>1836.51</td>\n",
       "      <td>1842.96</td>\n",
       "      <td>1842.96</td>\n",
       "      <td>-1.82</td>\n",
       "      <td>37070000.0</td>\n",
       "      <td>-0.79</td>\n",
       "      <td>-1.02</td>\n",
       "      <td>44496.51</td>\n",
       "    </tr>\n",
       "    <tr>\n",
       "      <th>20221121</th>\n",
       "      <td>1530</td>\n",
       "      <td>35400.0</td>\n",
       "      <td>35400.0</td>\n",
       "      <td>35400.0</td>\n",
       "      <td>35400.0</td>\n",
       "      <td>223684.0</td>\n",
       "      <td>255488.0</td>\n",
       "      <td>-800</td>\n",
       "      <td>106903000</td>\n",
       "      <td>3784366000000</td>\n",
       "      <td>...</td>\n",
       "      <td>27846.3</td>\n",
       "      <td>33700.87</td>\n",
       "      <td>1836.51</td>\n",
       "      <td>1842.96</td>\n",
       "      <td>1842.96</td>\n",
       "      <td>-1.82</td>\n",
       "      <td>37070000.0</td>\n",
       "      <td>-0.79</td>\n",
       "      <td>-1.02</td>\n",
       "      <td>44496.51</td>\n",
       "    </tr>\n",
       "  </tbody>\n",
       "</table>\n",
       "<p>525780 rows × 37 columns</p>\n",
       "</div>"
      ],
      "text/plain": [
       "            시간       시가       고가       저가       종가  누적체결매수수량  누적체결매도수량  전일대비  \\\n",
       "날짜                                                                             \n",
       "1            1      1.0      1.0      1.0      1.0       1.0       1.0     1   \n",
       "1            1      1.0      1.0      1.0      1.0       1.0       1.0     1   \n",
       "1            1      1.0      1.0      1.0      1.0       1.0       1.0     1   \n",
       "1            1      1.0      1.0      1.0      1.0       1.0       1.0     1   \n",
       "1            1      1.0      1.0      1.0      1.0       1.0       1.0     1   \n",
       "...        ...      ...      ...      ...      ...       ...       ...   ...   \n",
       "20221121  1517  35400.0  35450.0  35400.0  35450.0  190577.0  253355.0  -800   \n",
       "20221121  1518  35450.0  35450.0  35400.0  35450.0  191269.0  253793.0  -800   \n",
       "20221121  1519  35400.0  35450.0  35400.0  35450.0  192828.0  254841.0  -800   \n",
       "20221121  1520  35400.0  35450.0  35400.0  35450.0  194375.0  255488.0  -800   \n",
       "20221121  1530  35400.0  35400.0  35400.0  35400.0  223684.0  255488.0  -800   \n",
       "\n",
       "              상장주식수           시가총액  ...  닛케이내역_저가  다우존스내역_종가  러셀2000지수내역_종가  \\\n",
       "날짜                                  ...                                       \n",
       "1                 1              1  ...       1.0       1.00           1.00   \n",
       "1                 1              1  ...       1.0       1.00           1.00   \n",
       "1                 1              1  ...       1.0       1.00           1.00   \n",
       "1                 1              1  ...       1.0       1.00           1.00   \n",
       "1                 1              1  ...       1.0       1.00           1.00   \n",
       "...             ...            ...  ...       ...        ...            ...   \n",
       "20221121  106903000  3784366000000  ...   27846.3   33700.87        1836.51   \n",
       "20221121  106903000  3784366000000  ...   27846.3   33700.87        1836.51   \n",
       "20221121  106903000  3784366000000  ...   27846.3   33700.87        1836.51   \n",
       "20221121  106903000  3784366000000  ...   27846.3   33700.87        1836.51   \n",
       "20221121  106903000  3784366000000  ...   27846.3   33700.87        1836.51   \n",
       "\n",
       "          러셀2000지수내역_오픈  러셀2000지수내역_고가  코스닥내역_변동  코스피50내역_거래량  코스피50내역_변동  \\\n",
       "날짜                                                                          \n",
       "1                  1.00           1.00      1.00          1.0        1.00   \n",
       "1                  1.00           1.00      1.00          1.0        1.00   \n",
       "1                  1.00           1.00      1.00          1.0        1.00   \n",
       "1                  1.00           1.00      1.00          1.0        1.00   \n",
       "1                  1.00           1.00      1.00          1.0        1.00   \n",
       "...                 ...            ...       ...          ...         ...   \n",
       "20221121        1842.96        1842.96     -1.82   37070000.0       -0.79   \n",
       "20221121        1842.96        1842.96     -1.82   37070000.0       -0.79   \n",
       "20221121        1842.96        1842.96     -1.82   37070000.0       -0.79   \n",
       "20221121        1842.96        1842.96     -1.82   37070000.0       -0.79   \n",
       "20221121        1842.96        1842.96     -1.82   37070000.0       -0.79   \n",
       "\n",
       "          코스피지수내역_변동  헝가리BUX내역_오픈  \n",
       "날짜                                 \n",
       "1               1.00         1.00  \n",
       "1               1.00         1.00  \n",
       "1               1.00         1.00  \n",
       "1               1.00         1.00  \n",
       "1               1.00         1.00  \n",
       "...              ...          ...  \n",
       "20221121       -1.02     44496.51  \n",
       "20221121       -1.02     44496.51  \n",
       "20221121       -1.02     44496.51  \n",
       "20221121       -1.02     44496.51  \n",
       "20221121       -1.02     44496.51  \n",
       "\n",
       "[525780 rows x 37 columns]"
      ]
     },
     "execution_count": 47,
     "metadata": {},
     "output_type": "execute_result"
    }
   ],
   "source": [
    "col_list = list(col_list.index)\n",
    "X_stock_df = stock_df.drop(['pct_label'],axis=1)\n",
    "X_stock_df = X_stock_df.set_index(['날짜'])\n",
    "X_stock_df = X_stock_df[col_list]\n",
    "\n",
    "X_stock_df"
   ]
  },
  {
   "cell_type": "code",
   "execution_count": 48,
   "metadata": {},
   "outputs": [
    {
     "name": "stdout",
     "output_type": "stream",
     "text": [
      "<class 'pandas.core.frame.DataFrame'>\n",
      "Int64Index: 525780 entries, 1 to 20221121\n",
      "Data columns (total 37 columns):\n",
      " #   Column                    Non-Null Count   Dtype  \n",
      "---  ------                    --------------   -----  \n",
      " 0   시간                        525780 non-null  int64  \n",
      " 1   시가                        525780 non-null  float64\n",
      " 2   고가                        525780 non-null  float64\n",
      " 3   저가                        525780 non-null  float64\n",
      " 4   종가                        525780 non-null  float64\n",
      " 5   누적체결매수수량                  525780 non-null  float64\n",
      " 6   누적체결매도수량                  525780 non-null  float64\n",
      " 7   전일대비                      525780 non-null  int64  \n",
      " 8   상장주식수                     525780 non-null  int64  \n",
      " 9   시가총액                      525780 non-null  int64  \n",
      " 10  외국인현보유비율                  525780 non-null  float64\n",
      " 11  기관누적순매수량                  525780 non-null  int64  \n",
      " 12  AUDKRW내역_거래량              525780 non-null  int64  \n",
      " 13  CADKRW내역_거래량              525780 non-null  int64  \n",
      " 14  CBOEVolatilityIndex내역_종가  525780 non-null  float64\n",
      " 15  CBOEVolatilityIndex내역_저가  525780 non-null  float64\n",
      " 16  DowJonesShanghai내역_변동     525780 non-null  float64\n",
      " 17  FTSEChinaA50내역_변동         525780 non-null  float64\n",
      " 18  INRKRW내역_변동               525780 non-null  float64\n",
      " 19  NZDKRW내역_종가               525780 non-null  float64\n",
      " 20  NZDKRW내역_고가               525780 non-null  float64\n",
      " 21  NZDKRW내역_저가               525780 non-null  float64\n",
      " 22  PSI내역_거래량                 525780 non-null  int64  \n",
      " 23  SETIndex내역_변동             525780 non-null  float64\n",
      " 24  SP500내역_종가                525780 non-null  float64\n",
      " 25  닛케이내역_오픈                  525780 non-null  float64\n",
      " 26  닛케이내역_고가                  525780 non-null  float64\n",
      " 27  닛케이내역_저가                  525780 non-null  float64\n",
      " 28  다우존스내역_종가                 525780 non-null  float64\n",
      " 29  러셀2000지수내역_종가             525780 non-null  float64\n",
      " 30  러셀2000지수내역_오픈             525780 non-null  float64\n",
      " 31  러셀2000지수내역_고가             525780 non-null  float64\n",
      " 32  코스닥내역_변동                  525780 non-null  float64\n",
      " 33  코스피50내역_거래량               525780 non-null  float64\n",
      " 34  코스피50내역_변동                525780 non-null  float64\n",
      " 35  코스피지수내역_변동                525780 non-null  float64\n",
      " 36  헝가리BUX내역_오픈               525780 non-null  float64\n",
      "dtypes: float64(29), int64(8)\n",
      "memory usage: 152.4 MB\n"
     ]
    }
   ],
   "source": [
    "X_stock_df.info()"
   ]
  },
  {
   "cell_type": "code",
   "execution_count": 49,
   "metadata": {},
   "outputs": [
    {
     "data": {
      "text/plain": [
       "[0,\n",
       " 0,\n",
       " 0,\n",
       " 0,\n",
       " 0,\n",
       " 0,\n",
       " 0,\n",
       " 0,\n",
       " 0,\n",
       " 0,\n",
       " 0,\n",
       " 0,\n",
       " 0,\n",
       " 0,\n",
       " 0,\n",
       " 0,\n",
       " 0,\n",
       " 0,\n",
       " 0,\n",
       " 0,\n",
       " 0,\n",
       " 0,\n",
       " 0,\n",
       " 0,\n",
       " 0,\n",
       " 0,\n",
       " 0,\n",
       " 0,\n",
       " 0,\n",
       " 0,\n",
       " 0,\n",
       " 0,\n",
       " 0,\n",
       " 0,\n",
       " 0,\n",
       " 0,\n",
       " 0]"
      ]
     },
     "execution_count": 49,
     "metadata": {},
     "output_type": "execute_result"
    }
   ],
   "source": [
    "# X_stock_df.drop('터키5년채권수익율내역_종가')\n",
    "list(X_stock_df.isnull().sum())"
   ]
  },
  {
   "cell_type": "code",
   "execution_count": 50,
   "metadata": {},
   "outputs": [
    {
     "data": {
      "text/plain": [
       "37"
      ]
     },
     "execution_count": 50,
     "metadata": {},
     "output_type": "execute_result"
    }
   ],
   "source": [
    "X_stock_df.shape[1]"
   ]
  },
  {
   "cell_type": "code",
   "execution_count": 51,
   "metadata": {},
   "outputs": [],
   "source": [
    "min_max_scaler = MaxAbsScaler()\n",
    "X_stock_sc = min_max_scaler.fit_transform(X_stock_df)"
   ]
  },
  {
   "cell_type": "code",
   "execution_count": 52,
   "metadata": {},
   "outputs": [],
   "source": [
    "X_train, X_test, y_train, y_test = train_test_split(X_stock_sc, y_stock_df, test_size=0.3, random_state=42,stratify=y_stock_df)"
   ]
  },
  {
   "cell_type": "code",
   "execution_count": 53,
   "metadata": {},
   "outputs": [
    {
     "name": "stdout",
     "output_type": "stream",
     "text": [
      "훈련 데이터의 크기 : (368046, 37, 1) (368046, 2)\n",
      "테스트 데이터의 크기 : (157734, 37, 1) (157734, 2)\n"
     ]
    }
   ],
   "source": [
    "X_train = X_train.reshape(X_train.shape[0], X_stock_df.shape[1], 1)\n",
    "X_test = X_test.reshape(X_test.shape[0], X_stock_df.shape[1], 1)\n",
    "print('훈련 데이터의 크기 :', X_train.shape, y_train.shape)\n",
    "print('테스트 데이터의 크기 :', X_test.shape, y_test.shape)"
   ]
  },
  {
   "cell_type": "code",
   "execution_count": 59,
   "metadata": {},
   "outputs": [
    {
     "name": "stdout",
     "output_type": "stream",
     "text": [
      "Model: \"model_3\"\n",
      "_________________________________________________________________\n",
      " Layer (type)                Output Shape              Param #   \n",
      "=================================================================\n",
      " input_4 (InputLayer)        [(None, 37, 1)]           0         \n",
      "                                                                 \n",
      " lstm_6 (LSTM)               (None, 37, 16)            1152      \n",
      "                                                                 \n",
      " batch_normalization_9 (Batc  (None, 37, 16)           64        \n",
      " hNormalization)                                                 \n",
      "                                                                 \n",
      " activation_9 (Activation)   (None, 37, 16)            592       \n",
      "                                                                 \n",
      " lstm_7 (LSTM)               (None, 16)                2112      \n",
      "                                                                 \n",
      " batch_normalization_10 (Bat  (None, 16)               64        \n",
      " chNormalization)                                                \n",
      "                                                                 \n",
      " activation_10 (Activation)  (None, 16)                16        \n",
      "                                                                 \n",
      " dense_3 (Dense)             (None, 2)                 34        \n",
      "                                                                 \n",
      " batch_normalization_11 (Bat  (None, 2)                8         \n",
      " chNormalization)                                                \n",
      "                                                                 \n",
      " activation_11 (Activation)  (None, 2)                 0         \n",
      "                                                                 \n",
      "=================================================================\n",
      "Total params: 4,042\n",
      "Trainable params: 3,974\n",
      "Non-trainable params: 68\n",
      "_________________________________________________________________\n",
      "Epoch 1/30\n",
      "2876/2876 [==============================] - 40s 13ms/step - loss: 0.5193 - accuracy: 0.7399 - val_loss: 0.3639 - val_accuracy: 0.8946\n",
      "Epoch 2/30\n",
      "2876/2876 [==============================] - 34s 12ms/step - loss: 0.4781 - accuracy: 0.7687 - val_loss: 0.3378 - val_accuracy: 0.9200\n",
      "Epoch 3/30\n",
      "2876/2876 [==============================] - 34s 12ms/step - loss: 0.4421 - accuracy: 0.7948 - val_loss: 0.3176 - val_accuracy: 0.9367\n",
      "Epoch 4/30\n",
      "2876/2876 [==============================] - 35s 12ms/step - loss: 0.4111 - accuracy: 0.8187 - val_loss: 0.3039 - val_accuracy: 0.9462\n",
      "Epoch 5/30\n",
      "2876/2876 [==============================] - 34s 12ms/step - loss: 0.3835 - accuracy: 0.8430 - val_loss: 0.2913 - val_accuracy: 0.9534\n",
      "Epoch 6/30\n",
      "2876/2876 [==============================] - 33s 12ms/step - loss: 0.3605 - accuracy: 0.8642 - val_loss: 0.2805 - val_accuracy: 0.9820\n",
      "Epoch 7/30\n",
      "2876/2876 [==============================] - 40s 14ms/step - loss: 0.3406 - accuracy: 0.8847 - val_loss: 0.2723 - val_accuracy: 0.9956\n",
      "Epoch 8/30\n",
      "2876/2876 [==============================] - 35s 12ms/step - loss: 0.3237 - accuracy: 0.9033 - val_loss: 0.2623 - val_accuracy: 0.9956\n",
      "Epoch 9/30\n",
      "2876/2876 [==============================] - 34s 12ms/step - loss: 0.3102 - accuracy: 0.9195 - val_loss: 0.2584 - val_accuracy: 0.9956\n",
      "Epoch 10/30\n",
      "2876/2876 [==============================] - 33s 11ms/step - loss: 0.2989 - accuracy: 0.9337 - val_loss: 0.2549 - val_accuracy: 1.0000\n",
      "Epoch 11/30\n",
      "2876/2876 [==============================] - 35s 12ms/step - loss: 0.2895 - accuracy: 0.9448 - val_loss: 0.2511 - val_accuracy: 1.0000\n",
      "Epoch 12/30\n",
      "2876/2876 [==============================] - 33s 12ms/step - loss: 0.2813 - accuracy: 0.9547 - val_loss: 0.2496 - val_accuracy: 1.0000\n",
      "Epoch 13/30\n",
      "2876/2876 [==============================] - 32s 11ms/step - loss: 0.2745 - accuracy: 0.9627 - val_loss: 0.2490 - val_accuracy: 1.0000\n",
      "Epoch 14/30\n",
      "2876/2876 [==============================] - 33s 11ms/step - loss: 0.2691 - accuracy: 0.9688 - val_loss: 0.2443 - val_accuracy: 1.0000\n",
      "Epoch 15/30\n",
      "2876/2876 [==============================] - 32s 11ms/step - loss: 0.2640 - accuracy: 0.9739 - val_loss: 0.2424 - val_accuracy: 1.0000\n",
      "Epoch 16/30\n",
      "2876/2876 [==============================] - 32s 11ms/step - loss: 0.2599 - accuracy: 0.9780 - val_loss: 0.2399 - val_accuracy: 1.0000\n",
      "Epoch 17/30\n",
      "2876/2876 [==============================] - 32s 11ms/step - loss: 0.2562 - accuracy: 0.9815 - val_loss: 0.2421 - val_accuracy: 1.0000\n",
      "Epoch 18/30\n",
      "2876/2876 [==============================] - 32s 11ms/step - loss: 0.2529 - accuracy: 0.9844 - val_loss: 0.2405 - val_accuracy: 1.0000\n",
      "Epoch 19/30\n",
      "2876/2876 [==============================] - 32s 11ms/step - loss: 0.2501 - accuracy: 0.9865 - val_loss: 0.2393 - val_accuracy: 1.0000\n",
      "Epoch 20/30\n",
      "2876/2876 [==============================] - 32s 11ms/step - loss: 0.2475 - accuracy: 0.9884 - val_loss: 0.2358 - val_accuracy: 1.0000\n",
      "Epoch 21/30\n",
      "2876/2876 [==============================] - 33s 11ms/step - loss: 0.2453 - accuracy: 0.9900 - val_loss: 0.2353 - val_accuracy: 1.0000\n",
      "Epoch 22/30\n",
      "2876/2876 [==============================] - 35s 12ms/step - loss: 0.2431 - accuracy: 0.9913 - val_loss: 0.2362 - val_accuracy: 1.0000\n",
      "Epoch 23/30\n",
      "2876/2876 [==============================] - 34s 12ms/step - loss: 0.2412 - accuracy: 0.9925 - val_loss: 0.2325 - val_accuracy: 1.0000\n",
      "Epoch 24/30\n",
      "2876/2876 [==============================] - 34s 12ms/step - loss: 0.2393 - accuracy: 0.9937 - val_loss: 0.2339 - val_accuracy: 1.0000\n",
      "Epoch 25/30\n",
      "2876/2876 [==============================] - 36s 12ms/step - loss: 0.2376 - accuracy: 0.9945 - val_loss: 0.2319 - val_accuracy: 1.0000\n",
      "Epoch 26/30\n",
      "2876/2876 [==============================] - 35s 12ms/step - loss: 0.2362 - accuracy: 0.9951 - val_loss: 0.2315 - val_accuracy: 1.0000\n",
      "Epoch 27/30\n",
      "2876/2876 [==============================] - 33s 12ms/step - loss: 0.2347 - accuracy: 0.9956 - val_loss: 0.2314 - val_accuracy: 1.0000\n",
      "Epoch 28/30\n",
      "2876/2876 [==============================] - 32s 11ms/step - loss: 0.2333 - accuracy: 0.9963 - val_loss: 0.2326 - val_accuracy: 1.0000\n",
      "Epoch 29/30\n",
      "2876/2876 [==============================] - 35s 12ms/step - loss: 0.2321 - accuracy: 0.9966 - val_loss: 0.2295 - val_accuracy: 1.0000\n",
      "Epoch 30/30\n",
      "2876/2876 [==============================] - 34s 12ms/step - loss: 0.2309 - accuracy: 0.9971 - val_loss: 0.2289 - val_accuracy: 1.0000\n"
     ]
    }
   ],
   "source": [
    "inputs = Input(shape=(X_stock_df.shape[1], 1))\n",
    "lstm_out = LSTM(16, dropout=0.2,return_sequences=True, kernel_initializer='random_normal')(inputs)\n",
    "# return_sequences=True,\n",
    "lstm_out = BatchNormalization()(lstm_out)\n",
    "lstm_out = Activation('PReLU')(lstm_out)\n",
    "lstm_out = LSTM(16, dropout=0.2, kernel_initializer='random_normal')(lstm_out)\n",
    "lstm_out = BatchNormalization()(lstm_out)\n",
    "lstm_out = Activation('PReLU')(lstm_out)\n",
    "lstm_out = Dense(2)(lstm_out)\n",
    "lstm_out = BatchNormalization()(lstm_out)\n",
    "lstm_out = Activation('softmax')(lstm_out) \n",
    "\n",
    "\n",
    "\n",
    "early_stopping_callback = EarlyStopping(monitor='val_loss', patience=10)\n",
    "# 모델의 이름을 정합니다.\n",
    "#                   모델명_ep_bs_pa_lr_cor\n",
    "modelpath=\"./model/lstm_100_128_10_0.0000001_0.075_대형주_범위(0,1).hdf5\"\n",
    "\n",
    "# 최적화 모델을 업데이트하고 저장합니다.\n",
    "checkpointer = ModelCheckpoint(filepath=modelpath, monitor='val_loss', verbose=0, save_best_only=True)\n",
    "\n",
    "model = Model(inputs=inputs, outputs=lstm_out)\n",
    "model.summary()\n",
    "model.compile(loss='categorical_crossentropy', optimizer=optimizers.Adam(learning_rate=0.0000001, decay=1e-7), metrics=['accuracy'])\n",
    "\n",
    "history=model.fit(X_train, y_train, epochs=30, batch_size=128,verbose=1, validation_data=(X_test, y_test), callbacks=[early_stopping_callback, checkpointer])\n"
   ]
  },
  {
   "cell_type": "code",
   "execution_count": 58,
   "metadata": {},
   "outputs": [
    {
     "data": {
      "image/png": "[encoded data removed]",
      "text/plain": [
       "<Figure size 800x800 with 2 Axes>"
      ]
     },
     "metadata": {},
     "output_type": "display_data"
    }
   ],
   "source": [
    "#Plotting\n",
    "acc = history.history['accuracy']\n",
    "val_acc = history.history['val_accuracy']\n",
    "\n",
    "loss = history.history['loss']\n",
    "val_loss = history.history['val_loss']\n",
    "\n",
    "plt.figure(figsize=(8, 8))\n",
    "plt.subplot(2, 1, 1)\n",
    "plt.plot(acc, label='Training Accuracy')\n",
    "plt.plot(val_acc, label='Validation Accuracy')\n",
    "plt.legend(loc='lower right')\n",
    "plt.ylabel('Accuracy')\n",
    "plt.ylim([0,2])\n",
    "plt.title('Training and Validation Accuracy')\n",
    "\n",
    "plt.subplot(2, 1, 2)\n",
    "plt.plot(loss, label='Training Loss')\n",
    "plt.plot(val_loss, label='Validation Loss')\n",
    "plt.legend(loc='upper right')\n",
    "plt.ylabel('Cross Entropy')\n",
    "plt.ylim([0,1.0])\n",
    "plt.title('Training and Validation Loss')\n",
    "plt.xlabel('epoch')\n",
    "plt.show()"
   ]
  },
  {
   "cell_type": "code",
   "execution_count": 79,
   "metadata": {},
   "outputs": [
    {
     "name": "stdout",
     "output_type": "stream",
     "text": [
      "4930/4930 [==============================] - 25s 5ms/step - loss: 0.2288 - accuracy: 1.0000\n",
      "\n",
      " Test Accuracy: 1.0000\n"
     ]
    }
   ],
   "source": [
    "print(\"\\n Test Accuracy: %.4f\" % (model.evaluate(X_test, y_test)[1]))"
   ]
  },
  {
   "cell_type": "code",
   "execution_count": 63,
   "metadata": {},
   "outputs": [],
   "source": [
    "from keras.models import load_model\n",
    "model_pred = load_model(modelpath)"
   ]
  },
  {
   "cell_type": "code",
   "execution_count": 64,
   "metadata": {},
   "outputs": [],
   "source": [
    "with open('../colume_pickle/test_complete_df_6개월_choice_10개_대형주_update.pkl', 'rb') as f:\n",
    "    pred_df = pickle.load(f)"
   ]
  },
  {
   "cell_type": "code",
   "execution_count": 65,
   "metadata": {},
   "outputs": [],
   "source": [
    "pred_df['pct_label'] = pred_df['pct_label'].apply(np.floor)"
   ]
  },
  {
   "cell_type": "code",
   "execution_count": 66,
   "metadata": {},
   "outputs": [],
   "source": [
    "pred_df[pred_df['pct_label'] > 0] = 1"
   ]
  },
  {
   "cell_type": "code",
   "execution_count": 67,
   "metadata": {},
   "outputs": [
    {
     "data": {
      "text/plain": [
       "(19050, 2)"
      ]
     },
     "execution_count": 67,
     "metadata": {},
     "output_type": "execute_result"
    }
   ],
   "source": [
    "y_pred_df = ohe.transform(pred_df[['pct_label']])\n",
    "y_pred_df.shape"
   ]
  },
  {
   "cell_type": "code",
   "execution_count": 68,
   "metadata": {},
   "outputs": [],
   "source": [
    "# col_list = list(col_list.index)\n",
    "X_pred_df = pred_df.drop(['pct_label'],axis=1)\n",
    "X_pred_df = X_pred_df.set_index(['날짜'])\n",
    "X_pred_df = X_pred_df[col_list]\n"
   ]
  },
  {
   "cell_type": "code",
   "execution_count": 69,
   "metadata": {},
   "outputs": [
    {
     "data": {
      "text/plain": [
       "(19050, 37, 1)"
      ]
     },
     "execution_count": 69,
     "metadata": {},
     "output_type": "execute_result"
    }
   ],
   "source": [
    "def predict_stock(code, col_list):\n",
    "    with open(f.'../colume_pickle/test_complete_df_6개월_choice_10개_대형주_update_{code}.pkl', 'rb') as f:\n",
    "        pred_df = pickle.load(f)\n",
    "    \n",
    "    X_pred_df = pred_df.drop(['pct_label'],axis=1)\n",
    "    X_pred_df = X_pred_df.set_index(['날짜'])\n",
    "    X_pred_df = X_pred_df[col_list]\n",
    "    \n",
    "    X_pred_sc = min_max_scaler.fit_transform(X_pred_df)\n",
    "    X_pred = X_pred_sc.reshape(X_pred_sc.shape[0], 37, 1)\n",
    "\n",
    "    predict = model.predict(X_pred)\n",
    "    \n",
    "    return predict"
   ]
  },
  {
   "cell_type": "code",
   "execution_count": 70,
   "metadata": {},
   "outputs": [
    {
     "name": "stdout",
     "output_type": "stream",
     "text": [
      "596/596 [==============================] - 3s 5ms/step\n"
     ]
    }
   ],
   "source": [
    "predict = model.predict(X_pred)"
   ]
  },
  {
   "cell_type": "code",
   "execution_count": null,
   "metadata": {},
   "outputs": [],
   "source": [
    "# predict.value[0] < predict.value[1]    매수\n",
    "# predict.value[0] > predict.value[1]    매도"
   ]
  },
  {
   "cell_type": "code",
   "execution_count": null,
   "metadata": {},
   "outputs": [],
   "source": [
    "# sell 코드    buy 코드"
   ]
  },
  {
   "cell_type": "code",
   "execution_count": null,
   "metadata": {},
   "outputs": [],
   "source": [
    "잔고 = 10000000\n",
    "stock_list = []\n",
    "for code in stock_list:\n",
    "\n",
    "    predict = predict_stock(code, col_list)\n",
    "    for x in len(predict):\n",
    "        code의 맞는 데이터 프레임 = c\n",
    "        종가 = c.loc[x,'종가'].value\n",
    "        고가 = c.loc[x,'고가'].value\n",
    "   \n",
    "        종목당 매수금액 = 1000000\n",
    "        num =0\n",
    "        # num = 매수금액 / 종가\n",
    "        if predict[x][0] < predict[x][1] and 현재 종가 <  현재 고가 and 종목당 매수금액 > 종가*buy_num:\n",
    "            종목당 매수금액 = 종목당매수금액 - (종가*buy_num) # 매수\n",
    "            num += buy_num\n",
    "        elif predict[x][0] > predict.value[x][1] : \n",
    "            종목당 매수금액 = 종목당 매수금액 + (고가 * sell_num)\n",
    "            num -= sell_num\n",
    "        # else:\n",
    "        #     hold\n",
    "\n",
    "    잔고 = 잔고 + (종목당 매수금액 - 1000000)\n",
    "#  잔고가 얼마냐? + 수익  - 손실"
   ]
  },
  {
   "cell_type": "code",
   "execution_count": 78,
   "metadata": {},
   "outputs": [
    {
     "data": {
      "text/plain": [
       "19050"
      ]
     },
     "execution_count": 78,
     "metadata": {},
     "output_type": "execute_result"
    }
   ],
   "source": [
    "len(predict)#[0.6887641 , 0.31123596]"
   ]
  },
  {
   "cell_type": "code",
   "execution_count": null,
   "metadata": {},
   "outputs": [],
   "source": [
    "pred = tf.argmax(predict,1).numpy()\n",
    "test = tf.argmax(y_pred_df,1).numpy()"
   ]
  },
  {
   "cell_type": "code",
   "execution_count": null,
   "metadata": {},
   "outputs": [
    {
     "data": {
      "text/plain": [
       "(array([0, 1], dtype=int64), array([16518,  2532], dtype=int64))"
      ]
     },
     "execution_count": 319,
     "metadata": {},
     "output_type": "execute_result"
    }
   ],
   "source": [
    "np.unique(pred,return_counts=True)"
   ]
  },
  {
   "cell_type": "code",
   "execution_count": null,
   "metadata": {},
   "outputs": [
    {
     "data": {
      "text/plain": [
       "(array([0, 1], dtype=int64), array([16518,  2532], dtype=int64))"
      ]
     },
     "execution_count": 320,
     "metadata": {},
     "output_type": "execute_result"
    }
   ],
   "source": [
    "np.unique(test,return_counts=True)"
   ]
  },
  {
   "cell_type": "code",
   "execution_count": null,
   "metadata": {},
   "outputs": [
    {
     "name": "stdout",
     "output_type": "stream",
     "text": [
      "accuracy_score :  1.0\n"
     ]
    }
   ],
   "source": [
    "acc = accuracy_score(test, pred)\n",
    "print('accuracy_score : ',acc)"
   ]
  },
  {
   "cell_type": "code",
   "execution_count": null,
   "metadata": {},
   "outputs": [
    {
     "data": {
      "image/png": "[encoded data removed]",
      "text/plain": [
       "<Figure size 640x480 with 1 Axes>"
      ]
     },
     "metadata": {},
     "output_type": "display_data"
    }
   ],
   "source": [
    "\n",
    "plt.plot(test, label='Training Loss')\n",
    "plt.plot(pred, label='Validation Loss')\n",
    "plt.legend(loc='upper right')\n",
    "plt.ylabel('Cross Entropy')\n",
    "plt.ylim([0,2.0])\n",
    "plt.title('Training and Validation Loss')\n",
    "plt.xlabel('epoch')\n",
    "plt.show()"
   ]
  },
  {
   "cell_type": "code",
   "execution_count": null,
   "metadata": {},
   "outputs": [],
   "source": []
  }
 ],
 "metadata": {
  "colab": {
   "collapsed_sections": [],
   "name": "ch12-colab.ipynb",
   "provenance": [
    {
     "file_id": "https://github.com/taehojo/deeplearning/blob/master/colab/ch12-colab.ipynb",
     "timestamp": 1642728385932
    }
   ]
  },
  "kernelspec": {
   "display_name": "Python 3.8.15 ('tfgpu')",
   "language": "python",
   "name": "python3"
  },
  "language_info": {
   "codemirror_mode": {
    "name": "ipython",
    "version": 3
   },
   "file_extension": ".py",
   "mimetype": "text/x-python",
   "name": "python",
   "nbconvert_exporter": "python",
   "pygments_lexer": "ipython3",
   "version": "3.8.15"
  },
  "vscode": {
   "interpreter": {
    "hash": "5c0d917b331d00af62a730bf0430d82d3e7e85b82585d8406073ee97cc7ea825"
   }
  }
 },
 "nbformat": 4,
 "nbformat_minor": 1
}
