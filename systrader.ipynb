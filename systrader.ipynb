{
 "cells": [
  {
   "cell_type": "code",
   "execution_count": 75,
   "metadata": {},
   "outputs": [],
   "source": [
    "import win32com.client\n",
    "import pandas as pd\n",
    "from datetime import datetime\n",
    "from datetime import timedelta\n",
    "instCpCybos = win32com.client.Dispatch('CpUtil.CpCybos')\n",
    "instCpStockCode = win32com.client.Dispatch('CpUtil.CpStockCode')\n",
    "instCpCodeMgr = win32com.client.Dispatch('CpUtil.CpCodeMgr')\n",
    "instStockChart = win32com.client.Dispatch('CpSysDib.StockChart')\n"
   ]
  },
  {
   "cell_type": "code",
   "execution_count": 76,
   "metadata": {},
   "outputs": [
    {
     "name": "stdout",
     "output_type": "stream",
     "text": [
      "정상적으로 연결\n"
     ]
    }
   ],
   "source": [
    "# 크레온 API 연결 확인\n",
    "# <리턴값 종류 확인 필요>\n",
    "def check_connection():\n",
    "    if instCpCybos.IsConnect == 1:\n",
    "        print('정상적으로 연결')\n",
    "    else:\n",
    "        print('연결 실패')\n",
    "        \n",
    "check_connection()"
   ]
  },
  {
   "cell_type": "code",
   "execution_count": 77,
   "metadata": {},
   "outputs": [
    {
     "data": {
      "text/plain": [
       "['A005930', '삼성전자']"
      ]
     },
     "execution_count": 77,
     "metadata": {},
     "output_type": "execute_result"
    }
   ],
   "source": [
    "# 종목 이름으로 찾기\n",
    "def search_by_name(stock_name):\n",
    "    count = instCpStockCode.GetCount()\n",
    "    for i in range(count):\n",
    "        if instCpStockCode.GetData(1,i) == stock_name:\n",
    "            # GetData(x,y)\n",
    "            # x : 0 => 종목 코드\n",
    "            # x : 1 => 종목명\n",
    "            # x : 2 => ISIN 코드(ISIN : 국제 증권 식별 번호)\n",
    "            return [instCpStockCode.GetData(0,i), instCpStockCode.GetData(1,i)]\n",
    "\n",
    "search_by_name('삼성전자')"
   ]
  },
  {
   "cell_type": "code",
   "execution_count": 78,
   "metadata": {},
   "outputs": [
    {
     "data": {
      "text/plain": [
       "['A005930', '삼성전자']"
      ]
     },
     "execution_count": 78,
     "metadata": {},
     "output_type": "execute_result"
    }
   ],
   "source": [
    "# 특정 코드의 종목 찾기\n",
    "def search_by_code(stock_code):\n",
    "    count = instCpStockCode.GetCount()\n",
    "    for i in range(count):\n",
    "        if instCpStockCode.GetData(0,i) == stock_code:\n",
    "            # GetData(x,y)\n",
    "            # x : 0 => 종목 코드\n",
    "            # x : 1 => 종목명\n",
    "            # x : 2 => ISIN 코드(ISIN : 국제 증권 식별 번호)\n",
    "            return [instCpStockCode.GetData(0,i), instCpStockCode.GetData(1,i)]\n",
    "\n",
    "search_by_code('A005930')"
   ]
  },
  {
   "cell_type": "code",
   "execution_count": 79,
   "metadata": {},
   "outputs": [],
   "source": [
    "# 종목명 전체 리스트 가져오기\n",
    "# <선물이랑 ETF 쪽은 구분 필요>\n",
    "def get_stock_list():\n",
    "    count = instCpStockCode.GetCount()\n",
    "    stock_list = []\n",
    "    \n",
    "    for i in range(count):\n",
    "        stock_list.append(instCpStockCode.GetData(1,i))\n",
    "    \n",
    "    return stock_list\n",
    "\n",
    "# get_stock_list()"
   ]
  },
  {
   "cell_type": "code",
   "execution_count": 80,
   "metadata": {},
   "outputs": [],
   "source": [
    "# print(instCpCodeMgr.GetStockListByMarket(1))"
   ]
  },
  {
   "cell_type": "code",
   "execution_count": 81,
   "metadata": {},
   "outputs": [],
   "source": [
    "# 전체 종목 가져오기\n",
    "codelist = instCpCodeMgr.GetStockListByMarket(1)\n",
    "kospi = {}\n",
    "for code in codelist:\n",
    "    name = instCpCodeMgr.CodeToName(code)\n",
    "    kospi[code] = name\n",
    "    \n",
    "# kospi"
   ]
  },
  {
   "cell_type": "code",
   "execution_count": 82,
   "metadata": {},
   "outputs": [],
   "source": [
    "# \n",
    "for i, code in enumerate(codelist):\n",
    "    secondCode = instCpCodeMgr.GetStockSectionKind(code)\n",
    "    name = instCpCodeMgr.CodeToName(code)\n",
    "    # print(i, code, secondCode, name)"
   ]
  },
  {
   "cell_type": "code",
   "execution_count": 83,
   "metadata": {},
   "outputs": [],
   "source": [
    "# \n",
    "code_list = []\n",
    "for i, code in enumerate(codelist):\n",
    "    secondCode = instCpCodeMgr.GetStockSectionKind(code)\n",
    "    name = instCpCodeMgr.CodeToName(code)\n",
    "    code_list.append(code)\n",
    "# print(code_list)\n"
   ]
  },
  {
   "cell_type": "code",
   "execution_count": 84,
   "metadata": {},
   "outputs": [],
   "source": [
    "import time\n",
    "# 특정 범위 일자 종목 데이터 가져오기\n",
    "def get_stock_info(stock_code, start_day, end_day, type):\n",
    "    \n",
    "    instStockChart.SetInputValue(0, stock_code) # 종목명\n",
    "    instStockChart.SetInputValue(1, ord('1')) # 1 : 기간으로 요청, 2: 개수로 요청\n",
    "    instStockChart.SetInputValue(3, start_day) # 요청 시작일\n",
    "    instStockChart.SetInputValue(2, end_day) # 요청 종료일\n",
    "    # instStockChart.SetInputValue(4, request_num) # 요청 개수\n",
    "    '''\n",
    "    # 요청할 데이터 종류(리스트 형태로 요청 가능)\n",
    "    0 : 날짜, 1 : 시간 - hhmm, 2 : 시가, 3 : 고가, 4 : 저가, 5 : 종가\n",
    "    6 : 전일대비, 8 : 거래량, 9 : 거래대금, 13 : 시가총액\n",
    "    '''\n",
    "    instStockChart.SetInputValue(5, [0, 1, 2, 3, 4, 5, 6, 8, 9, 10, 12, 13, 14, 15, 16, 17,18, 19,20,21,22,23,24,25,26])\n",
    "    instStockChart.SetInputValue(6, ord(type)) # 'D' : 일봉, 'm' : 분봉\n",
    "    instStockChart.SetInputValue(9, ord('1'))\n",
    "\n",
    "    instStockChart.BlockRequest() # 위 정보로 요청\n",
    "\n",
    "    numrow, numcolumn = instStockChart.GetHeaderValue(3), instStockChart.GetHeaderValue(2)\n",
    "\n",
    "    index = []\n",
    "    for i in range(numrow):\n",
    "        index_ = str(instStockChart.GetDataValue(0,i))\n",
    "        index.append(index_)\n",
    "\n",
    "    stock_info = pd.DataFrame(columns=numcolumn[1:], index=index)\n",
    "\n",
    "    for num in range(numrow):\n",
    "        for col in range(len(numcolumn)):\n",
    "            # 1,2,3,4,5,6,7,8,9, 10\n",
    "            stock_info.iloc[num, col-1] = str(instStockChart.GetDataValue(col,num))\n",
    "    \n",
    "    return stock_info\n",
    "\n",
    "donghwa = get_stock_info('A005930', '20221029', '20221031', 'm')"
   ]
  },
  {
   "cell_type": "code",
   "execution_count": 85,
   "metadata": {},
   "outputs": [],
   "source": [
    "import time\n",
    "# 전체 일자 분봉 종목 데이터 가져오기\n",
    "def get_stock_info_auto(stock_code, end_day, type):\n",
    "    \n",
    "    day_format = '%Y%m%d'\n",
    "    minus_day = timedelta(days=5)\n",
    "    \n",
    "    transfer_end_day = datetime.strptime(end_day, day_format) # end_day 변환\n",
    "    pre_day = datetime.strftime(transfer_end_day - minus_day, day_format) # pre_day 계산\n",
    "    \n",
    "    stock_df = get_stock_info(stock_code, pre_day, end_day, type) # 첫번째 DF 생성\n",
    "\n",
    "    for day in range(150): # range 범위 수정하지 말 것\n",
    "        time.sleep(0.3)\n",
    "        dayily_df = pd.DataFrame()\n",
    "        transfer_pre_day = datetime.strptime(pre_day, day_format)\n",
    "        next_pre_day = datetime.strftime(transfer_pre_day - minus_day, day_format)\n",
    "\n",
    "        info_second = get_stock_info(stock_code, next_pre_day, pre_day, type)\n",
    "        \n",
    "        pre_day = next_pre_day\n",
    "        \n",
    "        stock_df = pd.concat([stock_df, info_second], axis=0)\n",
    "    \n",
    "    stock_name = search_by_code(stock_code)\n",
    "    print(stock_name, '남은 요청 횟수 :{0}'.format(instCpCybos.GetLimitRemainCount(0)))\n",
    "    stock_df.to_csv('../data/{0}_{1}.csv'.format(stock_name[0][1:],stock_name[1]), encoding='utf-8-sig')\n",
    "\n",
    "    return stock_df\n",
    "\n",
    "# samsung = get_stock_info_auto('A005930', '20221101', 'm')\n",
    "# samsung"
   ]
  },
  {
   "cell_type": "code",
   "execution_count": 86,
   "metadata": {},
   "outputs": [
    {
     "name": "stdout",
     "output_type": "stream",
     "text": [
      "['A000020', '동화약품'] 남은 요청 횟수 :20\n",
      "['A000040', 'KR모터스'] 남은 요청 횟수 :20\n",
      "['A000050', '경방'] 남은 요청 횟수 :20\n",
      "['A000060', '메리츠화재'] 남은 요청 횟수 :20\n",
      "['A000070', '삼양홀딩스'] 남은 요청 횟수 :20\n",
      "['A000075', '삼양홀딩스우'] 남은 요청 횟수 :20\n",
      "['A000080', '하이트진로'] 남은 요청 횟수 :20\n",
      "['A000087', '하이트진로2우B'] 남은 요청 횟수 :20\n",
      "['A000100', '유한양행'] 남은 요청 횟수 :20\n",
      "['A000105', '유한양행우'] 남은 요청 횟수 :20\n",
      "['A000120', 'CJ대한통운'] 남은 요청 횟수 :20\n",
      "['A000140', '하이트진로홀딩스'] 남은 요청 횟수 :20\n",
      "['A000145', '하이트진로홀딩스우'] 남은 요청 횟수 :20\n",
      "['A000150', '두산'] 남은 요청 횟수 :20\n",
      "['A000155', '두산우'] 남은 요청 횟수 :20\n",
      "['A000157', '두산2우B'] 남은 요청 횟수 :20\n",
      "['A000180', '성창기업지주'] 남은 요청 횟수 :20\n",
      "['A000210', 'DL'] 남은 요청 횟수 :20\n",
      "['A000215', 'DL우'] 남은 요청 횟수 :20\n",
      "['A000220', '유유제약'] 남은 요청 횟수 :20\n",
      "['A000225', '유유제약1우'] 남은 요청 횟수 :20\n",
      "['A000227', '유유제약2우B'] 남은 요청 횟수 :20\n",
      "['A000230', '일동홀딩스'] 남은 요청 횟수 :20\n",
      "['A000240', '한국앤컴퍼니'] 남은 요청 횟수 :20\n",
      "['A000270', '기아'] 남은 요청 횟수 :20\n",
      "['A000300', '대유플러스'] 남은 요청 횟수 :20\n",
      "['A000320', '노루홀딩스'] 남은 요청 횟수 :20\n",
      "['A000325', '노루홀딩스우'] 남은 요청 횟수 :20\n",
      "['A000370', '한화손해보험'] 남은 요청 횟수 :20\n",
      "['A000390', '삼화페인트'] 남은 요청 횟수 :20\n",
      "['A000400', '롯데손해보험'] 남은 요청 횟수 :20\n",
      "['A000430', '대원강업'] 남은 요청 횟수 :20\n",
      "['A000480', '조선내화'] 남은 요청 횟수 :20\n",
      "['A000490', '대동'] 남은 요청 횟수 :20\n",
      "['A000500', '가온전선'] 남은 요청 횟수 :20\n",
      "['A000520', '삼일제약'] 남은 요청 횟수 :20\n",
      "['A000540', '흥국화재'] 남은 요청 횟수 :20\n",
      "['A000545', '흥국화재우'] 남은 요청 횟수 :20\n",
      "['A000547', '흥국화재2우B'] 남은 요청 횟수 :20\n",
      "['A000590', 'CS홀딩스'] 남은 요청 횟수 :20\n",
      "['A000640', '동아쏘시오홀딩스'] 남은 요청 횟수 :20\n",
      "['A000650', '천일고속'] 남은 요청 횟수 :20\n",
      "['A000660', 'SK하이닉스'] 남은 요청 횟수 :20\n",
      "['A000670', '영풍'] 남은 요청 횟수 :20\n",
      "['A000680', 'LS네트웍스'] 남은 요청 횟수 :20\n",
      "['A000700', '유수홀딩스'] 남은 요청 횟수 :20\n",
      "['A000720', '현대건설'] 남은 요청 횟수 :20\n",
      "['A000725', '현대건설우'] 남은 요청 횟수 :20\n",
      "['A000760', '이화산업'] 남은 요청 횟수 :20\n",
      "['A000810', '삼성화재'] 남은 요청 횟수 :20\n",
      "['A000815', '삼성화재우'] 남은 요청 횟수 :20\n",
      "['A000850', '화천기공'] 남은 요청 횟수 :20\n",
      "['A000860', '강남제비스코'] 남은 요청 횟수 :20\n",
      "['A000880', '한화'] 남은 요청 횟수 :20\n",
      "['A000885', '한화우'] 남은 요청 횟수 :20\n",
      "['A00088K', '한화3우B'] 남은 요청 횟수 :20\n",
      "['A000890', '보해양조'] 남은 요청 횟수 :20\n",
      "['A000910', '유니온'] 남은 요청 횟수 :20\n",
      "['A000950', '전방'] 남은 요청 횟수 :20\n",
      "['A000970', '한국주철관'] 남은 요청 횟수 :20\n",
      "['A000990', 'DB하이텍'] 남은 요청 횟수 :20\n"
     ]
    },
    {
     "ename": "KeyboardInterrupt",
     "evalue": "",
     "output_type": "error",
     "traceback": [
      "\u001b[1;31m---------------------------------------------------------------------------\u001b[0m",
      "\u001b[1;31mKeyboardInterrupt\u001b[0m                         Traceback (most recent call last)",
      "\u001b[1;32md:\\systrader-dev\\trading\\systrader.ipynb 셀 12\u001b[0m in \u001b[0;36m<cell line: 2>\u001b[1;34m()\u001b[0m\n\u001b[0;32m      <a href='vscode-notebook-cell:/d%3A/systrader-dev/trading/systrader.ipynb#X25sZmlsZQ%3D%3D?line=0'>1</a>\u001b[0m \u001b[39mimport\u001b[39;00m \u001b[39mtime\u001b[39;00m\n\u001b[0;32m      <a href='vscode-notebook-cell:/d%3A/systrader-dev/trading/systrader.ipynb#X25sZmlsZQ%3D%3D?line=1'>2</a>\u001b[0m \u001b[39mfor\u001b[39;00m code \u001b[39min\u001b[39;00m code_list:\n\u001b[1;32m----> <a href='vscode-notebook-cell:/d%3A/systrader-dev/trading/systrader.ipynb#X25sZmlsZQ%3D%3D?line=2'>3</a>\u001b[0m     get_stock_info_auto(code, \u001b[39m'\u001b[39;49m\u001b[39m20221101\u001b[39;49m\u001b[39m'\u001b[39;49m, \u001b[39m'\u001b[39;49m\u001b[39mm\u001b[39;49m\u001b[39m'\u001b[39;49m)\n",
      "\u001b[1;32md:\\systrader-dev\\trading\\systrader.ipynb 셀 12\u001b[0m in \u001b[0;36mget_stock_info_auto\u001b[1;34m(stock_code, end_day, type)\u001b[0m\n\u001b[0;32m     <a href='vscode-notebook-cell:/d%3A/systrader-dev/trading/systrader.ipynb#X25sZmlsZQ%3D%3D?line=15'>16</a>\u001b[0m transfer_pre_day \u001b[39m=\u001b[39m datetime\u001b[39m.\u001b[39mstrptime(pre_day, day_format)\n\u001b[0;32m     <a href='vscode-notebook-cell:/d%3A/systrader-dev/trading/systrader.ipynb#X25sZmlsZQ%3D%3D?line=16'>17</a>\u001b[0m next_pre_day \u001b[39m=\u001b[39m datetime\u001b[39m.\u001b[39mstrftime(transfer_pre_day \u001b[39m-\u001b[39m minus_day, day_format)\n\u001b[1;32m---> <a href='vscode-notebook-cell:/d%3A/systrader-dev/trading/systrader.ipynb#X25sZmlsZQ%3D%3D?line=18'>19</a>\u001b[0m info_second \u001b[39m=\u001b[39m get_stock_info(stock_code, next_pre_day, pre_day, \u001b[39mtype\u001b[39;49m)\n\u001b[0;32m     <a href='vscode-notebook-cell:/d%3A/systrader-dev/trading/systrader.ipynb#X25sZmlsZQ%3D%3D?line=20'>21</a>\u001b[0m pre_day \u001b[39m=\u001b[39m next_pre_day\n\u001b[0;32m     <a href='vscode-notebook-cell:/d%3A/systrader-dev/trading/systrader.ipynb#X25sZmlsZQ%3D%3D?line=22'>23</a>\u001b[0m stock_df \u001b[39m=\u001b[39m pd\u001b[39m.\u001b[39mconcat([stock_df, info_second], axis\u001b[39m=\u001b[39m\u001b[39m0\u001b[39m)\n",
      "\u001b[1;32md:\\systrader-dev\\trading\\systrader.ipynb 셀 12\u001b[0m in \u001b[0;36mget_stock_info\u001b[1;34m(stock_code, start_day, end_day, type)\u001b[0m\n\u001b[0;32m     <a href='vscode-notebook-cell:/d%3A/systrader-dev/trading/systrader.ipynb#X25sZmlsZQ%3D%3D?line=15'>16</a>\u001b[0m instStockChart\u001b[39m.\u001b[39mSetInputValue(\u001b[39m6\u001b[39m, \u001b[39mord\u001b[39m(\u001b[39mtype\u001b[39m)) \u001b[39m# 'D' : 일봉, 'm' : 분봉\u001b[39;00m\n\u001b[0;32m     <a href='vscode-notebook-cell:/d%3A/systrader-dev/trading/systrader.ipynb#X25sZmlsZQ%3D%3D?line=16'>17</a>\u001b[0m instStockChart\u001b[39m.\u001b[39mSetInputValue(\u001b[39m9\u001b[39m, \u001b[39mord\u001b[39m(\u001b[39m'\u001b[39m\u001b[39m1\u001b[39m\u001b[39m'\u001b[39m))\n\u001b[1;32m---> <a href='vscode-notebook-cell:/d%3A/systrader-dev/trading/systrader.ipynb#X25sZmlsZQ%3D%3D?line=18'>19</a>\u001b[0m instStockChart\u001b[39m.\u001b[39;49mBlockRequest() \u001b[39m# 위 정보로 요청\u001b[39;00m\n\u001b[0;32m     <a href='vscode-notebook-cell:/d%3A/systrader-dev/trading/systrader.ipynb#X25sZmlsZQ%3D%3D?line=20'>21</a>\u001b[0m numrow, numcolumn \u001b[39m=\u001b[39m instStockChart\u001b[39m.\u001b[39mGetHeaderValue(\u001b[39m3\u001b[39m), instStockChart\u001b[39m.\u001b[39mGetHeaderValue(\u001b[39m2\u001b[39m)\n\u001b[0;32m     <a href='vscode-notebook-cell:/d%3A/systrader-dev/trading/systrader.ipynb#X25sZmlsZQ%3D%3D?line=22'>23</a>\u001b[0m index \u001b[39m=\u001b[39m []\n",
      "File \u001b[1;32m<COMObject CpSysDib.StockChart>:2\u001b[0m, in \u001b[0;36mBlockRequest\u001b[1;34m(self)\u001b[0m\n",
      "\u001b[1;31mKeyboardInterrupt\u001b[0m: "
     ]
    }
   ],
   "source": [
    "import time\n",
    "for code in code_list[60:]:\n",
    "    get_stock_info_auto(code, '20221101', 'm')\n"
   ]
  },
  {
   "cell_type": "code",
   "execution_count": null,
   "metadata": {},
   "outputs": [
    {
     "data": {
      "text/plain": [
       "20"
      ]
     },
     "execution_count": 50,
     "metadata": {},
     "output_type": "execute_result"
    }
   ],
   "source": [
    "instCpCybos.GetLimitRemainCount(0)"
   ]
  }
 ],
 "metadata": {
  "kernelspec": {
   "display_name": "Python 3.9.12 ('systrader')",
   "language": "python",
   "name": "python3"
  },
  "language_info": {
   "codemirror_mode": {
    "name": "ipython",
    "version": 3
   },
   "file_extension": ".py",
   "mimetype": "text/x-python",
   "name": "python",
   "nbconvert_exporter": "python",
   "pygments_lexer": "ipython3",
   "version": "3.9.12"
  },
  "orig_nbformat": 4,
  "vscode": {
   "interpreter": {
    "hash": "e11d12c0f1feb3ab46ed1b7515475ef38b63d7fcd14b3992af1279eb11e2839f"
   }
  }
 },
 "nbformat": 4,
 "nbformat_minor": 2
}
