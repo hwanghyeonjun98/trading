{
 "cells": [
  {
   "cell_type": "code",
   "execution_count": 5,
   "metadata": {},
   "outputs": [],
   "source": [
    "from sqlalchemy import create_engine\n",
    "from datetime import timedelta, date\n",
    "from datetime import datetime\n",
    "import tensorflow as tf\n",
    "from tqdm import tqdm\n",
    "import pandas as pd\n",
    "import numpy as np\n",
    "import pymysql\n",
    "import pickle\n",
    "import csv\n",
    "import os\n",
    "import time"
   ]
  },
  {
   "cell_type": "code",
   "execution_count": 2,
   "metadata": {},
   "outputs": [],
   "source": [
    "# tf gpu 메모리 관련 코드 \n",
    "gpus = tf.config.list_physical_devices(device_type = 'GPU')\n",
    "tf.config.experimental.set_memory_growth(gpus[0], True)"
   ]
  },
  {
   "cell_type": "code",
   "execution_count": 6,
   "metadata": {},
   "outputs": [],
   "source": [
    "today = str(date.today() - timedelta(days=1)).replace('-','')\n",
    "yesterday = str(date.today() - timedelta(days=2)).replace('-','')\n",
    "# mysql connect하기 위한 아이디 비밀번호 포트 데이터베이스 등록 및 conn 리턴\n",
    "def sqlalchemy_connect_ip(ip_address, db_name):\n",
    "    engine = create_engine(\"mysql+pymysql://admin:\"\n",
    "                +\"big15\" # user password\n",
    "                +\"@{0}:3306/{1}?charset=utf8\".format(ip_address, db_name)\n",
    "                , encoding='utf8')\n",
    "    \n",
    "    return engine.connect()\n",
    "\n",
    "# mysql connect하기 위한 아이디 비밀번호 포트 데이터베이스 등록 및 conn 리턴\n",
    "def get_pymysql_connection(ip_address, db_name):\n",
    "\n",
    "    conn = pymysql.connect(host=ip_address, user='admin', password='big15'\n",
    "                        , db=db_name, charset='utf8')\n",
    "\n",
    "    return conn\n",
    "\n",
    "#DB 내 존재하는 테이블(종목) 리스트 추출\n",
    "def get_pymysql_stock_list(conn, db_name):\n",
    "\n",
    "    # 원하는 폴더의 테이블(종목) 추출\n",
    "    sql = \"SELECT TABLE_NAME FROM INFORMATION_SCHEMA.TABLES WHERE TABLE_SCHEMA = '{0}'\".format(db_name)\n",
    "\n",
    "    with conn:\n",
    "        with conn.cursor() as cur:\n",
    "            cur.execute(sql)\n",
    "            result = [item[0] for item in cur.fetchall()]\n",
    "            cur.close()\n",
    "\n",
    "            return result\n",
    "        \n",
    "        \n",
    "def get_sqlalchemy_investing_data(conn, investing_data_list):\n",
    "\n",
    "    investing_df = pd.DataFrame()\n",
    "\n",
    "    # 현재 DB 내 존재하는 테이블(종목) 추출\n",
    "    for table in investing_data_list:\n",
    "        conn = sqlalchemy_connect_ip('192.168.50.123', 'investing_data')\n",
    "        sql = \"SELECT * FROM investing_data.`{0}` ORDER BY 날짜 DESC LIMIT 1 \".format(table)\n",
    "\n",
    "        result = conn.execute(sql)\n",
    "\n",
    "        temp_df = pd.DataFrame(result.fetchall())\n",
    "        investing_df = pd.concat([investing_df, temp_df], axis=1)\n",
    "    \n",
    "    investing_df['날짜'] = today\n",
    "    return investing_df              \n",
    "\n",
    "\n",
    "# stock df와 investing df를 병합\n",
    "def get_sqlalchemy_stock_investing_merge_df_update(conn, stock_table_list, investing_df):\n",
    "    \n",
    "    complete_df = pd.DataFrame()\n",
    "    investing_df['날짜'] = investing_df['날짜'].astype(str).astype(int) # 날짜 타입 int로 통일\n",
    "    sql = \"SELECT 전일대비, 상장주식수, 시가총액, 외국인현보유수량, 외국인현보유비율,\\\n",
    "        기관순매수량, 기관누적순매수량, 년, 월, 일 FROM stock_info.`{0}` WHERE 날짜={1} ORDER BY 시간 DESC LIMIT 1\".format(code, yesterday)\n",
    "\n",
    "    day_data = conn.execute(sql)\n",
    "    day_stock_df = pd.DataFrame(day_data.fetchall())\n",
    "\n",
    "    sql = \"SELECT * FROM stock_info.`{0}` where  날짜 = {1}\".format(code, today)\n",
    "    table_data = conn.execute(sql)\n",
    "    stock_df = pd.DataFrame(table_data.fetchall()) # DB내 테이블을 DF로 변환\n",
    "    \n",
    "    stock_df['날짜'] = stock_df['날짜'].astype(str).astype(int) # 날짜 타입 int로 통일\n",
    "    day_col_list = ['전일대비','상장주식수','시가총액','외국인주문한도수량'\n",
    "                ,'외국인주문가능수량','외국인현보유수량','외국인현보유비율'\n",
    "                ,'수정주가일자','수정주가비율','기관순매수량','기관누적순매수량', '년', '월', '일'] \n",
    "    stock_df.drop(day_col_list,axis=1, inplace=True)\n",
    "    \n",
    "    stock_df = pd.concat([stock_df, day_stock_df], axis=1)\n",
    "    \n",
    "    complete_df = pd.concat([stock_df, investing_df],axis=1) # stock df 와 investing df 를 날짜 기준으로 merge\n",
    "    complete_df = complete_df.fillna(method='ffill')\n",
    "    conn.close()\n",
    "    return complete_df     \n"
   ]
  },
  {
   "cell_type": "code",
   "execution_count": 7,
   "metadata": {},
   "outputs": [],
   "source": [
    "pymysql_conn = get_pymysql_connection('192.168.50.123', 'investing_data')\n",
    "sqlalchemy_conn = sqlalchemy_connect_ip('192.168.50.123', 'investing_data')\n",
    "investing_data_list = get_pymysql_stock_list(pymysql_conn, 'investing_data')\n",
    "investing_df = get_sqlalchemy_investing_data(sqlalchemy_conn, investing_data_list)"
   ]
  },
  {
   "cell_type": "code",
   "execution_count": 1,
   "metadata": {},
   "outputs": [],
   "source": [
    "stock_table_list_small = ['016790','095500','205470','278650','151860','053690','117580','063080','027710','011700'] # 소형주\n",
    "stock_table_list_big = ['005930','373220','207940','000660','051910','247540','091990','066970','293490','028300'] # 대형주"
   ]
  },
  {
   "cell_type": "code",
   "execution_count": null,
   "metadata": {},
   "outputs": [],
   "source": [
    "# 소형주 종목 별로 데이터 프레임 각각 생성\n",
    "for code in stock_table_list_small:\n",
    "    pymysql_conn = get_pymysql_connection('192.168.50.123', 'investing_data')\n",
    "    sqlalchemy_conn = sqlalchemy_connect_ip('192.168.50.123', 'investing_data')\n",
    "    complete_df = get_sqlalchemy_stock_investing_merge_df_update(sqlalchemy_conn, code, investing_df)\n",
    "    complete_df.to_pickle(f'../pickle/pickle_df/update/소형주_{today}_10개_update_{code}.pkl')\n",
    "\n",
    "# 대형주 종목 별로 데이터 프레임 각각 생성\n",
    "for code in stock_table_list_big:\n",
    "    pymysql_conn = get_pymysql_connection('192.168.50.123', 'investing_data')\n",
    "    sqlalchemy_conn = sqlalchemy_connect_ip('192.168.50.123', 'investing_data')\n",
    "    complete_df = get_sqlalchemy_stock_investing_merge_df_update(sqlalchemy_conn, code, investing_df)\n",
    "    complete_df.to_pickle(f'../pickle/pickle_df/update/대형주_{today}_10개_update_{code}.pkl')"
   ]
  },
  {
   "cell_type": "code",
   "execution_count": 8,
   "metadata": {},
   "outputs": [],
   "source": [
    "# 소형주 update 하나로\n",
    "today = str(date.today() - timedelta(days=1)).replace('-','')\n",
    "update_df = pd.DataFrame()\n",
    "for code in stock_table_list_small:\n",
    "    with open(f'../pickle/pickle_df/update/소형주_{today}_10개_update_{code}.pkl', 'rb') as f:\n",
    "        stock_df = pickle.load(f)\n",
    "    update_df = pd.concat([update_df, stock_df], axis=0)\n",
    "    \n",
    "update_df.to_pickle(f'../pickle/pickle_df/update/소형주_{today}_10개_update.pkl')"
   ]
  },
  {
   "cell_type": "code",
   "execution_count": 11,
   "metadata": {},
   "outputs": [],
   "source": [
    "# 대형주 update 하나로\n",
    "update_df = pd.DataFrame()\n",
    "for code in stock_table_list_big:\n",
    "    with open(f'../pickle/pickle_df/update/대형주_{today}_10개_update_{code}.pkl', 'rb') as f:\n",
    "        stock_df = pickle.load(f)\n",
    "    update_df = pd.concat([update_df, stock_df], axis=0)\n",
    "    \n",
    "update_df.to_pickle(f'../pickle/pickle_df/update/대형주_{today}_10개_update.pkl')"
   ]
  },
  {
   "cell_type": "code",
   "execution_count": null,
   "metadata": {},
   "outputs": [],
   "source": []
  }
 ],
 "metadata": {
  "kernelspec": {
   "display_name": "Python 3.8.15 ('tfgpu')",
   "language": "python",
   "name": "python3"
  },
  "language_info": {
   "codemirror_mode": {
    "name": "ipython",
    "version": 3
   },
   "file_extension": ".py",
   "mimetype": "text/x-python",
   "name": "python",
   "nbconvert_exporter": "python",
   "pygments_lexer": "ipython3",
   "version": "3.8.15"
  },
  "orig_nbformat": 4,
  "vscode": {
   "interpreter": {
    "hash": "5c0d917b331d00af62a730bf0430d82d3e7e85b82585d8406073ee97cc7ea825"
   }
  }
 },
 "nbformat": 4,
 "nbformat_minor": 2
}
