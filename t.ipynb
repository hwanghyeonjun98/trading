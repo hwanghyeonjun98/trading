{
 "cells": [
  {
   "cell_type": "code",
   "execution_count": 44,
   "metadata": {},
   "outputs": [],
   "source": [
    "from pickle import load\n",
    "from final_dbconnect import DBConnection_trading\n",
    "import pandas as pd\n",
    "from final_target import get_target_list_db, get_target\n",
    "import pickle"
   ]
  },
  {
   "cell_type": "code",
   "execution_count": 45,
   "metadata": {},
   "outputs": [
    {
     "name": "stdout",
     "output_type": "stream",
     "text": [
      "크롤링 실행 중\n",
      "크롤링 실행\n"
     ]
    }
   ],
   "source": [
    "investing_df = get_target(path=r'C:\\big15\\project-dev\\trading\\download\\target')"
   ]
  },
  {
   "cell_type": "code",
   "execution_count": 46,
   "metadata": {},
   "outputs": [],
   "source": [
    "sql = f\"SELECT * FROM trading_data.005860_20221220 ORDER BY 시간 DESC LIMIT 1\"\n",
    "table_data = DBConnection_trading().get_sqlalchemy_connect_ip().execute(sql) \n",
    "table_df = pd.DataFrame(table_data.fetchall())"
   ]
  },
  {
   "cell_type": "code",
   "execution_count": 47,
   "metadata": {},
   "outputs": [],
   "source": [
    "table_df = pd.concat([table_df, investing_df], axis=1 )\n",
    "table_df = table_df.apply(pd.to_numeric)"
   ]
  },
  {
   "cell_type": "code",
   "execution_count": 51,
   "metadata": {},
   "outputs": [
    {
     "data": {
      "text/html": [
       "<div>\n",
       "<style scoped>\n",
       "    .dataframe tbody tr th:only-of-type {\n",
       "        vertical-align: middle;\n",
       "    }\n",
       "\n",
       "    .dataframe tbody tr th {\n",
       "        vertical-align: top;\n",
       "    }\n",
       "\n",
       "    .dataframe thead th {\n",
       "        text-align: right;\n",
       "    }\n",
       "</style>\n",
       "<table border=\"1\" class=\"dataframe\">\n",
       "  <thead>\n",
       "    <tr style=\"text-align: right;\">\n",
       "      <th></th>\n",
       "      <th>날짜</th>\n",
       "      <th>시간</th>\n",
       "      <th>시가</th>\n",
       "      <th>고가</th>\n",
       "      <th>저가</th>\n",
       "      <th>종가</th>\n",
       "      <th>거래량</th>\n",
       "      <th>거래대금</th>\n",
       "      <th>누적체결매도수량</th>\n",
       "      <th>누적체결매수수량</th>\n",
       "      <th>...</th>\n",
       "      <th>헝가리BUX내역_고가</th>\n",
       "      <th>헝가리BUX내역_저가</th>\n",
       "      <th>헝가리BUX내역_거래량</th>\n",
       "      <th>헝가리BUX내역_변동</th>\n",
       "      <th>호주SPASX내역_종가</th>\n",
       "      <th>호주SPASX내역_오픈</th>\n",
       "      <th>호주SPASX내역_고가</th>\n",
       "      <th>호주SPASX내역_저가</th>\n",
       "      <th>호주SPASX내역_거래량</th>\n",
       "      <th>호주SPASX내역_변동</th>\n",
       "    </tr>\n",
       "  </thead>\n",
       "  <tbody>\n",
       "    <tr>\n",
       "      <th>0</th>\n",
       "      <td>20221220</td>\n",
       "      <td>1520</td>\n",
       "      <td>5050</td>\n",
       "      <td>5060</td>\n",
       "      <td>5040</td>\n",
       "      <td>5050</td>\n",
       "      <td>23540</td>\n",
       "      <td>118897000</td>\n",
       "      <td>2995741</td>\n",
       "      <td>2564646</td>\n",
       "      <td>...</td>\n",
       "      <td>45107.7</td>\n",
       "      <td>44100.39</td>\n",
       "      <td>0.0</td>\n",
       "      <td>0.58</td>\n",
       "      <td>7133.9</td>\n",
       "      <td>7148.7</td>\n",
       "      <td>7152.7</td>\n",
       "      <td>7123.1</td>\n",
       "      <td>488830000</td>\n",
       "      <td>-0.21</td>\n",
       "    </tr>\n",
       "  </tbody>\n",
       "</table>\n",
       "<p>1 rows × 1279 columns</p>\n",
       "</div>"
      ],
      "text/plain": [
       "         날짜    시간    시가    고가    저가    종가    거래량       거래대금  누적체결매도수량  \\\n",
       "0  20221220  1520  5050  5060  5040  5050  23540  118897000   2995741   \n",
       "\n",
       "   누적체결매수수량  ...  헝가리BUX내역_고가  헝가리BUX내역_저가  헝가리BUX내역_거래량  헝가리BUX내역_변동  \\\n",
       "0   2564646  ...      45107.7     44100.39           0.0         0.58   \n",
       "\n",
       "   호주SPASX내역_종가  호주SPASX내역_오픈  호주SPASX내역_고가  호주SPASX내역_저가  호주SPASX내역_거래량  \\\n",
       "0        7133.9        7148.7        7152.7        7123.1      488830000   \n",
       "\n",
       "   호주SPASX내역_변동  \n",
       "0         -0.21  \n",
       "\n",
       "[1 rows x 1279 columns]"
      ]
     },
     "execution_count": 51,
     "metadata": {},
     "output_type": "execute_result"
    }
   ],
   "source": [
    "table_df"
   ]
  },
  {
   "cell_type": "code",
   "execution_count": 52,
   "metadata": {},
   "outputs": [],
   "source": [
    "sql = f\"SELECT 전일대비, 상장주식수, 시가총액, 외국인현보유수량, 외국인현보유비율, 기관순매수량, 기관누적순매수량, 년, 월, 일 FROM stock_info.`005860` WHERE 날짜=20221216 ORDER BY 시간 DESC LIMIT 1\"\n",
    "    \n",
    "result = DBConnection_trading().get_sqlalchemy_connect_ip().execute(sql)\n",
    "\n",
    "target_df = pd.DataFrame(result.fetchall())\n",
    "# target_df.set_index('날짜', inplace=True)\n",
    "# target_df.rename(index={int(yesterday):today}, inplace=True)\n",
    "# target_df = pd.concat([target_df, investing_df], axis=1)"
   ]
  },
  {
   "cell_type": "code",
   "execution_count": 53,
   "metadata": {},
   "outputs": [],
   "source": [
    "with open(f'./pickle/pickle_corr_complete/소형주_20221219_6개월_10개_0.03.pkl', 'rb') as f:\n",
    "            col_list = pickle.load(f)"
   ]
  },
  {
   "cell_type": "code",
   "execution_count": null,
   "metadata": {},
   "outputs": [],
   "source": []
  },
  {
   "cell_type": "code",
   "execution_count": 54,
   "metadata": {},
   "outputs": [],
   "source": [
    "each_target_df = pd.concat([table_df, target_df], axis=1 )"
   ]
  },
  {
   "cell_type": "code",
   "execution_count": 55,
   "metadata": {},
   "outputs": [],
   "source": [
    "c_list = list(col_list.index)\n",
    "each_target_df = each_target_df[c_list]"
   ]
  },
  {
   "cell_type": "code",
   "execution_count": 56,
   "metadata": {},
   "outputs": [
    {
     "data": {
      "text/html": [
       "<div>\n",
       "<style scoped>\n",
       "    .dataframe tbody tr th:only-of-type {\n",
       "        vertical-align: middle;\n",
       "    }\n",
       "\n",
       "    .dataframe tbody tr th {\n",
       "        vertical-align: top;\n",
       "    }\n",
       "\n",
       "    .dataframe thead th {\n",
       "        text-align: right;\n",
       "    }\n",
       "</style>\n",
       "<table border=\"1\" class=\"dataframe\">\n",
       "  <thead>\n",
       "    <tr style=\"text-align: right;\">\n",
       "      <th></th>\n",
       "      <th>시간</th>\n",
       "      <th>누적체결매수수량</th>\n",
       "      <th>누적체결매도수량</th>\n",
       "      <th>상장주식수</th>\n",
       "      <th>기관누적순매수량</th>\n",
       "      <th>CBOEVolatilityIndex내역_변동</th>\n",
       "      <th>CHFKRW내역_변동</th>\n",
       "      <th>EURKRW내역_거래량</th>\n",
       "      <th>JPYKRW내역_거래량</th>\n",
       "      <th>JPYKRW내역_변동</th>\n",
       "      <th>...</th>\n",
       "      <th>코스피50내역_거래량</th>\n",
       "      <th>코스피지수내역_거래량</th>\n",
       "      <th>터키2년채권수익율내역_변동</th>\n",
       "      <th>터키BIST내역_변동</th>\n",
       "      <th>항셍내역_거래량</th>\n",
       "      <th>호주SPASX내역_거래량</th>\n",
       "      <th>시가</th>\n",
       "      <th>고가</th>\n",
       "      <th>저가</th>\n",
       "      <th>종가</th>\n",
       "    </tr>\n",
       "  </thead>\n",
       "  <tbody>\n",
       "    <tr>\n",
       "      <th>0</th>\n",
       "      <td>1520</td>\n",
       "      <td>2564646</td>\n",
       "      <td>2995741</td>\n",
       "      <td>39403000</td>\n",
       "      <td>-4399</td>\n",
       "      <td>0.22</td>\n",
       "      <td>-0.16</td>\n",
       "      <td>53830</td>\n",
       "      <td>124000</td>\n",
       "      <td>-0.29</td>\n",
       "      <td>...</td>\n",
       "      <td>32540</td>\n",
       "      <td>312330</td>\n",
       "      <td>1.57</td>\n",
       "      <td>2.65</td>\n",
       "      <td>0.0</td>\n",
       "      <td>488830000</td>\n",
       "      <td>5050</td>\n",
       "      <td>5060</td>\n",
       "      <td>5040</td>\n",
       "      <td>5050</td>\n",
       "    </tr>\n",
       "  </tbody>\n",
       "</table>\n",
       "<p>1 rows × 56 columns</p>\n",
       "</div>"
      ],
      "text/plain": [
       "     시간  누적체결매수수량  누적체결매도수량     상장주식수  기관누적순매수량  CBOEVolatilityIndex내역_변동  \\\n",
       "0  1520   2564646   2995741  39403000     -4399                      0.22   \n",
       "\n",
       "   CHFKRW내역_변동  EURKRW내역_거래량  JPYKRW내역_거래량  JPYKRW내역_변동  ...  코스피50내역_거래량  \\\n",
       "0        -0.16         53830        124000        -0.29  ...        32540   \n",
       "\n",
       "   코스피지수내역_거래량  터키2년채권수익율내역_변동  터키BIST내역_변동  항셍내역_거래량  호주SPASX내역_거래량    시가  \\\n",
       "0       312330            1.57         2.65       0.0      488830000  5050   \n",
       "\n",
       "     고가    저가    종가  \n",
       "0  5060  5040  5050  \n",
       "\n",
       "[1 rows x 56 columns]"
      ]
     },
     "execution_count": 56,
     "metadata": {},
     "output_type": "execute_result"
    }
   ],
   "source": [
    "each_target_df"
   ]
  },
  {
   "cell_type": "code",
   "execution_count": 57,
   "metadata": {},
   "outputs": [],
   "source": [
    "min_abs_scaler = load(open('./download/scaler/20221219_scaler', 'rb'))\n",
    "X_pred_sc = min_abs_scaler.transform(each_target_df)"
   ]
  },
  {
   "cell_type": "code",
   "execution_count": 58,
   "metadata": {},
   "outputs": [
    {
     "data": {
      "text/plain": [
       "array([[ 9.32515337e-01,  1.03481936e-01,  1.02832907e-01,\n",
       "         2.95569791e-01, -7.81319658e-04,  9.73882249e-03,\n",
       "        -4.34782609e-02,  3.27811948e-01,  5.18568083e-01,\n",
       "        -1.28318584e-01,  0.00000000e+00, -2.18421053e-01,\n",
       "         4.42477876e-02, -3.30827068e-01, -3.92156863e-02,\n",
       "         1.92691030e-01,  1.22676580e-01,  5.45299696e-01,\n",
       "         0.00000000e+00,  1.03343465e-01,  2.48565832e-01,\n",
       "         0.00000000e+00,  1.00000000e+00, -8.60881543e-03,\n",
       "         3.04073654e-01,  0.00000000e+00,  5.08628520e-02,\n",
       "         0.00000000e+00, -2.53731343e-01,  7.21593761e-02,\n",
       "         0.00000000e+00,  0.00000000e+00,  0.00000000e+00,\n",
       "         3.22898258e-01, -8.35497835e-01, -1.02116402e+00,\n",
       "        -7.58241758e-01, -4.54545455e-01, -5.17587940e-01,\n",
       "        -4.91803279e-01, -4.71074380e-01, -1.94092827e-01,\n",
       "         0.00000000e+00,  9.67937084e-03,  8.73505015e-01,\n",
       "         5.66373134e-04,  2.73928782e-04,  2.81378378e-04,\n",
       "         1.17867868e-01,  4.35139573e-01,  0.00000000e+00,\n",
       "         2.64232432e-01,  1.85661765e-01,  1.85009141e-01,\n",
       "         1.86666667e-01,  1.84981685e-01]])"
      ]
     },
     "execution_count": 58,
     "metadata": {},
     "output_type": "execute_result"
    }
   ],
   "source": [
    "X_pred_sc"
   ]
  },
  {
   "cell_type": "code",
   "execution_count": null,
   "metadata": {},
   "outputs": [],
   "source": []
  }
 ],
 "metadata": {
  "kernelspec": {
   "display_name": "Python 3.8.15 ('tfgpu')",
   "language": "python",
   "name": "python3"
  },
  "language_info": {
   "codemirror_mode": {
    "name": "ipython",
    "version": 3
   },
   "file_extension": ".py",
   "mimetype": "text/x-python",
   "name": "python",
   "nbconvert_exporter": "python",
   "pygments_lexer": "ipython3",
   "version": "3.8.15"
  },
  "orig_nbformat": 4,
  "vscode": {
   "interpreter": {
    "hash": "5c0d917b331d00af62a730bf0430d82d3e7e85b82585d8406073ee97cc7ea825"
   }
  }
 },
 "nbformat": 4,
 "nbformat_minor": 2
}
