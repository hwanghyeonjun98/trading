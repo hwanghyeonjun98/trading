{
 "cells": [
  {
   "cell_type": "code",
   "execution_count": 26,
   "metadata": {},
   "outputs": [],
   "source": [
    "from module.setting import instCpStockCode, instCpCodeMgr, instStockChart, instCpCybos\n",
    "from module import connection, get, save, search, update\n",
    "import pandas as pd\n",
    "import os\n",
    "import time\n",
    "from module.setting import instCpCybos\n",
    "from module.get import get_stock_info\n",
    "from module.search import search_by_code\n",
    "from module.update import update_stock_list\n",
    "from random import *\n",
    "from tqdm import tqdm\n",
    "from datetime import datetime\n",
    "from datetime import timedelta\n",
    "import pandas as pd\n",
    "import os\n",
    "import time"
   ]
  },
  {
   "cell_type": "code",
   "execution_count": 34,
   "metadata": {},
   "outputs": [],
   "source": [
    "def stock_info_auto(stock_code, end_day, type):\n",
    "    \n",
    "    day_format = '%Y%m%d'\n",
    "    minus_day = timedelta(days=1)\n",
    "    \n",
    "    stock_df = get_stock_info(stock_code, end_day, end_day, type) # 첫번째 DF 생성 => pre_day '20221028' end_day '20221103'\n",
    "    \n",
    "    stock_name = search_by_code(stock_code)\n",
    "\n",
    "    for day in range(6): # range 범위 수정하지 말 것\n",
    "        transfer_pre_day = datetime.strptime(end_day, day_format) # '20221028' '20221023'\n",
    "        pre_day = datetime.strftime(transfer_pre_day - minus_day, day_format) # '20221023' '20221018'\n",
    "\n",
    "        info_second = get_stock_info(stock_code, pre_day, pre_day, type) # '20221023' '20221027'\n",
    "\n",
    "        time.sleep(uniform(0.3,0.5))\n",
    "        end_day = pre_day\n",
    "        print(pre_day)\n",
    "\n",
    "        stock_df = pd.concat([stock_df, info_second], axis=0)\n",
    "        info_second = pd.DataFrame()\n",
    "        print(stock_df.shape)\n",
    "        print(stock_name, 'Count : {0}, 남은 요청 횟수 :{1}'.format(day, instCpCybos.GetLimitRemainCount(1)))\n",
    "        \n",
    "        if  instCpCybos.GetLimitRemainCount(1) < 5:\n",
    "            time.sleep(10)\n",
    "    \n",
    "    # stock_df.to_csv(r'\\\\DESKTOP-H2H6JNB\\data\\data\\{0}_{1}.csv'.format(stock_name[0][1:],stock_name[1]), encoding='utf-8-sig')\n",
    "\n",
    "    return stock_df"
   ]
  },
  {
   "cell_type": "code",
   "execution_count": 35,
   "metadata": {},
   "outputs": [
    {
     "name": "stdout",
     "output_type": "stream",
     "text": [
      "20221127\n",
      "(381, 25)\n",
      "['A066970', '엘앤에프'] Count : 0, 남은 요청 횟수 :58\n",
      "20221126\n",
      "(381, 25)\n",
      "['A066970', '엘앤에프'] Count : 1, 남은 요청 횟수 :57\n",
      "20221125\n",
      "(762, 25)\n",
      "['A066970', '엘앤에프'] Count : 2, 남은 요청 횟수 :56\n",
      "20221124\n",
      "(1143, 25)\n",
      "['A066970', '엘앤에프'] Count : 3, 남은 요청 횟수 :55\n",
      "20221123\n",
      "(1524, 25)\n",
      "['A066970', '엘앤에프'] Count : 4, 남은 요청 횟수 :54\n",
      "20221122\n",
      "(1905, 25)\n",
      "['A066970', '엘앤에프'] Count : 5, 남은 요청 횟수 :53\n"
     ]
    }
   ],
   "source": [
    "stock_info = stock_info_auto('A066970', '20221128', 'm')"
   ]
  },
  {
   "cell_type": "code",
   "execution_count": 37,
   "metadata": {},
   "outputs": [],
   "source": [
    "stock_info.to_csv('./test_A066970.csv', encoding='utf-8-sig')"
   ]
  },
  {
   "cell_type": "code",
   "execution_count": 44,
   "metadata": {},
   "outputs": [],
   "source": [
    "def day_stock_info_auto(stock_code, end_day, type):\n",
    "    \n",
    "    day_format = '%Y%m%d'\n",
    "    minus_day = timedelta(days=5) # 5일치\n",
    "    \n",
    "    stock_df = pd.DataFrame()\n",
    "    \n",
    "    stock_name = search_by_code(stock_code)\n",
    "\n",
    "    for day in range(2): # range 범위 수정하지 말 것\n",
    "        transfer_pre_day = datetime.strptime(end_day, day_format) # '20221028' '20221023'\n",
    "        pre_day = datetime.strftime(transfer_pre_day - minus_day, day_format) # '20221023' '20221018'\n",
    "\n",
    "        info_second = get_stock_info(stock_code, pre_day, end_day, type) # '20221023' '20221027'\n",
    "\n",
    "        time.sleep(0.15)\n",
    "        end_day = pre_day\n",
    "        print(pre_day)\n",
    "\n",
    "        stock_df = pd.concat([stock_df, info_second], axis=0)\n",
    "        info_second = pd.DataFrame()\n",
    "        print(stock_df.shape)\n",
    "        print(stock_name, 'Count : {0}, 남은 요청 횟수 :{1}'.format(day, instCpCybos.GetLimitRemainCount(1)))\n",
    "        \n",
    "        if  instCpCybos.GetLimitRemainCount(1) < 5:\n",
    "            time.sleep(10)\n",
    "    \n",
    "    # stock_df.to_csv(r'\\\\DESKTOP-H2H6JNB\\data\\day_data\\day_{0}_{1}.csv'.format(stock_name[0][1:],stock_name[1]), encoding='utf-8-sig')\n",
    "\n",
    "    return stock_df"
   ]
  },
  {
   "cell_type": "code",
   "execution_count": 47,
   "metadata": {},
   "outputs": [
    {
     "name": "stdout",
     "output_type": "stream",
     "text": [
      "20221127\n",
      "(1, 25)\n",
      "['A066970', '엘앤에프'] Count : 0, 남은 요청 횟수 :58\n",
      "20221126\n",
      "(1, 25)\n",
      "['A066970', '엘앤에프'] Count : 1, 남은 요청 횟수 :57\n",
      "20221125\n",
      "(2, 25)\n",
      "['A066970', '엘앤에프'] Count : 2, 남은 요청 횟수 :56\n",
      "20221124\n",
      "(3, 25)\n",
      "['A066970', '엘앤에프'] Count : 3, 남은 요청 횟수 :55\n",
      "20221123\n",
      "(4, 25)\n",
      "['A066970', '엘앤에프'] Count : 4, 남은 요청 횟수 :54\n",
      "20221122\n",
      "(5, 25)\n",
      "['A066970', '엘앤에프'] Count : 5, 남은 요청 횟수 :53\n"
     ]
    }
   ],
   "source": [
    "day_stock_info = stock_info_auto('A066970', '20221128', 'D')"
   ]
  },
  {
   "cell_type": "code",
   "execution_count": 49,
   "metadata": {},
   "outputs": [],
   "source": [
    "day_stock_info.to_csv('./test_day_A066970.csv', encoding='utf-8-sig')"
   ]
  },
  {
   "cell_type": "code",
   "execution_count": 50,
   "metadata": {},
   "outputs": [],
   "source": [
    "def concat(): \n",
    "    \n",
    "    stock_min_df = pd.read_csv('./test_A066970.csv', index_col='Unnamed: 0')\n",
    "    stock_day_df = pd.read_csv('./test_day_A066970.csv', index_col='Unnamed: 0')\n",
    "    \n",
    "\n",
    "    for v in stock_min_df.index:\n",
    "        input_list = ['전일대비','상장주식수','시가총액','외국인주문한도수량'\n",
    "                ,'외국인주문가능수량','외국인현보유수량','외국인현보유비율'\n",
    "                ,'수정주가일자','수정주가비율','기관순매수량','기관누적순매수량']\n",
    "        \n",
    "        stock_min_df.loc[v, input_list] = stock_day_df.loc[v, input_list].values\n",
    "        stock_min_df.to_csv('./test_concat_day_A066970.csv', encoding='utf-8-sig') "
   ]
  },
  {
   "cell_type": "code",
   "execution_count": 51,
   "metadata": {},
   "outputs": [],
   "source": [
    "concat()"
   ]
  },
  {
   "cell_type": "code",
   "execution_count": 58,
   "metadata": {},
   "outputs": [],
   "source": [
    "def label():\n",
    "\n",
    "    stock_info = pd.read_csv('./test_concat_day_A066970.csv', index_col=0)\n",
    "    \n",
    "    # 데이터 프레임에서 날짜 인덱스 추출\n",
    "    date = stock_info.index.unique()\n",
    "\n",
    "    # label 컬럼 추가 후 0으로 초기화\n",
    "    stock_info['label'] = 0\n",
    "\n",
    "    # 업데이트에 사용할 데이터 프레임 생성\n",
    "    update_stock_info = pd.DataFrame()\n",
    "\n",
    "    # labeling\n",
    "    for day in date:\n",
    "\n",
    "        # 특정일의 Data 추출\n",
    "        select_day = stock_info.loc[day].copy()\n",
    "        select_day['label'] = 0\n",
    "        \n",
    "        # 특정일의 Row 만큼 반복\n",
    "        for row in range(len(select_day)):\n",
    "            \n",
    "            # 특정일의 현재 row 이후 최대 고가를 추출\n",
    "            next_price = select_day[-row-1::-1]['고가'].max()\n",
    "\n",
    "            # 추출한 최대 고가를 label 컬럼에 대입\n",
    "            select_day.iloc[-row-1,-1] = next_price\n",
    "            next_price = 0\n",
    "        \n",
    "        # 특정일 label이 추가된 DF를 업데이트할 DF에 concat\n",
    "        update_stock_info = pd.concat([update_stock_info, select_day])\n",
    "\n",
    "    trans = update_stock_info.loc[:,['고가','label']]\n",
    "    trans = trans.rename(columns={'label':'pct_label'}).T\n",
    "\n",
    "    get_trans = trans.pct_change().T.iloc[:,-1]\n",
    "    \n",
    "    update_stock_info = pd.concat([update_stock_info, get_trans], axis=1)\n",
    "    update_stock_info = update_stock_info.drop(['label'], axis=1)\n",
    "\n",
    "    update_stock_info['pct_label'] = update_stock_info['pct_label'].mul(100)\n",
    "    update_stock_info['pct_label'] = update_stock_info['pct_label'].round(1)\n",
    "\n",
    "    update_stock_info.drop(columns=['등락주선','등락비율','예탁금','주식회전율','거래성립률'],axis=1, inplace=True)\n",
    "\n",
    "    update_stock_info.to_csv('./test_complete_A066970.csv', encoding='utf-8-sig')"
   ]
  },
  {
   "cell_type": "code",
   "execution_count": 59,
   "metadata": {},
   "outputs": [],
   "source": [
    "label()"
   ]
  },
  {
   "cell_type": "code",
   "execution_count": null,
   "metadata": {},
   "outputs": [],
   "source": []
  }
 ],
 "metadata": {
  "kernelspec": {
   "display_name": "Python 3.9.12 ('trad')",
   "language": "python",
   "name": "python3"
  },
  "language_info": {
   "codemirror_mode": {
    "name": "ipython",
    "version": 3
   },
   "file_extension": ".py",
   "mimetype": "text/x-python",
   "name": "python",
   "nbconvert_exporter": "python",
   "pygments_lexer": "ipython3",
   "version": "3.9.12"
  },
  "orig_nbformat": 4,
  "vscode": {
   "interpreter": {
    "hash": "ee9c3f03c795cddb262dced4229b25c8c3335906ae285f3e73ca160c989dfedb"
   }
  }
 },
 "nbformat": 4,
 "nbformat_minor": 2
}
