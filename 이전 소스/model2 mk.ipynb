{
 "cells": [
  {
   "cell_type": "code",
   "execution_count": 64,
   "metadata": {},
   "outputs": [],
   "source": [
    "import os\n",
    "import pickle\n",
    "import numpy as np\n",
    "import pandas as pd\n",
    "import seaborn as sns\n",
    "import tensorflow as tf\n",
    "import matplotlib.pyplot as plt\n",
    "\n",
    "from tqdm import tqdm\n",
    "from keras.models import load_model\n",
    "from sklearn.metrics import accuracy_score\n",
    "from sklearn.preprocessing import OneHotEncoder\n",
    "from sklearn.model_selection import train_test_split\n",
    "from sklearn.preprocessing import MinMaxScaler, MaxAbsScaler\n",
    "\n",
    "from tensorflow.keras import optimizers\n",
    "from tensorflow.keras.models import Model\n",
    "from tensorflow.keras.optimizers import Adam\n",
    "from tensorflow.keras.layers import Dense, LSTM\n",
    "from tensorflow.keras.activations import softmax, sigmoid\n",
    "from tensorflow.keras.callbacks import EarlyStopping, ModelCheckpoint\n",
    "from tensorflow.keras.layers import Dropout, PReLU, LeakyReLU, Input, BatchNormalization, Activation\n"
   ]
  },
  {
   "cell_type": "code",
   "execution_count": 65,
   "metadata": {},
   "outputs": [],
   "source": [
    "# tf gpu 메모리 관련 코드 \n",
    "gpus = tf.config.list_physical_devices(device_type = 'GPU')\n",
    "tf.config.experimental.set_memory_growth(gpus[0], True)"
   ]
  },
  {
   "cell_type": "code",
   "execution_count": 66,
   "metadata": {},
   "outputs": [],
   "source": [
    "# 출력 전부 보이기\n",
    "# np.set_printoptions(threshold=sys.maxsize)\n",
    "# gpu 설치 확인\n",
    "# from tensorflow.python.client import device_lib\n",
    "# device_lib.list_local_devices()\n",
    "# gpu : 0, cpu : -1 \n",
    "os.environ[\"CUDA_VISIBLE_DEVICES\"] = \"0\""
   ]
  },
  {
   "cell_type": "code",
   "execution_count": 67,
   "metadata": {},
   "outputs": [
    {
     "data": {
      "text/plain": [
       "94"
      ]
     },
     "execution_count": 67,
     "metadata": {},
     "output_type": "execute_result"
    }
   ],
   "source": [
    "with open('../data/pickle_complete/소형주_20221206_6개월_10개.pkl', 'rb') as f:\n",
    "    stock_df = pickle.load(f) # 10개 대형주 df\n",
    "with open('./pickle/pickle_corr_complete/소형주_20221206_6개월_10개_03.pkl', 'rb') as f:\n",
    "    col_list = pickle.load(f) # 상관 계수에 따른 컬럼 리스트\n",
    "len(col_list)"
   ]
  },
  {
   "cell_type": "code",
   "execution_count": 68,
   "metadata": {},
   "outputs": [],
   "source": [
    "# col_list['날짜']\n",
    "# col_list= col_list.drop('날짜')    # col_list 내에 날짜 컬럼이 있을 시만 제거"
   ]
  },
  {
   "cell_type": "code",
   "execution_count": 69,
   "metadata": {},
   "outputs": [
    {
     "data": {
      "text/plain": [
       "1    262338\n",
       "0    224961\n",
       "Name: pct_label, dtype: int64"
      ]
     },
     "execution_count": 69,
     "metadata": {},
     "output_type": "execute_result"
    }
   ],
   "source": [
    "# 0.5까지 0, 0.6이상 부터 1 로 labeling\n",
    "stock_df['pct_label'] = np.where(stock_df['pct_label'].values > 0.5 , 1, 0)\n",
    "stock_df['pct_label'].value_counts()"
   ]
  },
  {
   "cell_type": "code",
   "execution_count": 70,
   "metadata": {},
   "outputs": [
    {
     "name": "stdout",
     "output_type": "stream",
     "text": [
      "[0, 0, 0, 0, 0, 0, 0, 0, 0, 0, 0, 0, 0, 0, 0, 0, 0, 0, 0, 0, 0, 0, 0, 0, 0, 0, 0, 0, 0, 0, 0, 0, 0, 0, 0, 0, 0, 0, 0, 0, 0, 0, 0, 0, 0, 0, 0, 0, 0, 0, 0, 0, 0, 0, 0, 0, 0, 0, 0, 0, 0, 0, 0, 0, 0, 0, 0, 0, 0, 0, 0, 0, 0, 0, 0, 0, 0, 0, 0, 0, 0, 0, 0, 0, 0, 0, 0, 0, 0, 0, 0, 0, 0, 0]\n"
     ]
    }
   ],
   "source": [
    "# label 원 핫 인코딩\n",
    "ohe = OneHotEncoder(sparse=False)\n",
    "y_stock_df = ohe.fit_transform(stock_df[['pct_label']])\n",
    "\n",
    "# value 컬럼 설정\n",
    "col_list = list(col_list.index) # col_list의 인덱스를 리스트로 생성\n",
    "X_stock_df = stock_df.drop(['pct_label'],axis=1)\n",
    "X_stock_df = X_stock_df.set_index(['날짜'])\n",
    "X_stock_df = X_stock_df[col_list] # col_list에 있는 컬럼들만 사용\n",
    "\n",
    "# values에 nan값이 있나 확인\n",
    "print(list(X_stock_df.isnull().sum())) "
   ]
  },
  {
   "cell_type": "code",
   "execution_count": 71,
   "metadata": {},
   "outputs": [
    {
     "name": "stdout",
     "output_type": "stream",
     "text": [
      "훈련 데이터의 크기 : (341109, 94, 1) (341109, 2)\n",
      "테스트 데이터의 크기 : (146190, 94, 1) (146190, 2)\n"
     ]
    }
   ],
   "source": [
    "# min_abs_scaler = MinMaxScaler()\n",
    "min_abs_scaler = MaxAbsScaler()\n",
    "X_stock_sc = min_abs_scaler.fit_transform(X_stock_df)\n",
    "\n",
    "X_train, X_test, y_train, y_test = train_test_split(X_stock_sc, y_stock_df\n",
    "                                                    , test_size=0.3, shuffle=True\n",
    "                                                    , random_state=42, stratify=y_stock_df)\n",
    "\n",
    "X_train = X_train.reshape(X_train.shape[0], X_stock_df.shape[1], 1)\n",
    "X_test = X_test.reshape(X_test.shape[0], X_stock_df.shape[1], 1)\n",
    "print('훈련 데이터의 크기 :', X_train.shape, y_train.shape)\n",
    "print('테스트 데이터의 크기 :', X_test.shape, y_test.shape)"
   ]
  },
  {
   "cell_type": "code",
   "execution_count": 72,
   "metadata": {},
   "outputs": [],
   "source": [
    "# from tensorflow import keras\n",
    "# # 전이 학습할 모델 불러오기\n",
    "# modelpath=\"./model/lstm_30_64_5_0.001_0.07_대형주_범위(0,1)_6개월.hdf5\"\n",
    "# transfer_model = keras.models.load_model(modelpath)\n",
    "# transfer_model.trainable = False\n",
    "\n",
    "# transfer_model.summary"
   ]
  },
  {
   "cell_type": "code",
   "execution_count": 73,
   "metadata": {},
   "outputs": [
    {
     "name": "stdout",
     "output_type": "stream",
     "text": [
      "Model: \"model_5\"\n",
      "_________________________________________________________________\n",
      " Layer (type)                Output Shape              Param #   \n",
      "=================================================================\n",
      " input_6 (InputLayer)        [(None, 94, 1)]           0         \n",
      "                                                                 \n",
      " lstm_10 (LSTM)              (None, 94, 16)            1152      \n",
      "                                                                 \n",
      " batch_normalization_15 (Bat  (None, 94, 16)           64        \n",
      " chNormalization)                                                \n",
      "                                                                 \n",
      " activation_15 (Activation)  (None, 94, 16)            1504      \n",
      "                                                                 \n",
      " lstm_11 (LSTM)              (None, 16)                2112      \n",
      "                                                                 \n",
      " batch_normalization_16 (Bat  (None, 16)               64        \n",
      " chNormalization)                                                \n",
      "                                                                 \n",
      " activation_16 (Activation)  (None, 16)                16        \n",
      "                                                                 \n",
      " dense_5 (Dense)             (None, 2)                 34        \n",
      "                                                                 \n",
      " batch_normalization_17 (Bat  (None, 2)                8         \n",
      " chNormalization)                                                \n",
      "                                                                 \n",
      " activation_17 (Activation)  (None, 2)                 0         \n",
      "                                                                 \n",
      "=================================================================\n",
      "Total params: 4,954\n",
      "Trainable params: 4,886\n",
      "Non-trainable params: 68\n",
      "_________________________________________________________________\n",
      "Epoch 1/30\n",
      "5330/5330 [==============================] - 113s 17ms/step - loss: 0.6881 - accuracy: 0.5481 - val_loss: 0.7368 - val_accuracy: 0.5384\n",
      "Epoch 2/30\n",
      "5330/5330 [==============================] - 85s 16ms/step - loss: 0.6827 - accuracy: 0.5601 - val_loss: 0.8119 - val_accuracy: 0.5384\n",
      "Epoch 3/30\n",
      "5330/5330 [==============================] - 86s 16ms/step - loss: 0.6728 - accuracy: 0.5800 - val_loss: 1.0584 - val_accuracy: 0.5384\n",
      "Epoch 4/30\n",
      "5330/5330 [==============================] - 83s 16ms/step - loss: 0.6512 - accuracy: 0.6177 - val_loss: 0.8268 - val_accuracy: 0.5417\n",
      "Epoch 5/30\n",
      "5330/5330 [==============================] - 83s 16ms/step - loss: 0.6456 - accuracy: 0.6231 - val_loss: 0.9357 - val_accuracy: 0.5384\n",
      "Epoch 6/30\n",
      "5330/5330 [==============================] - 83s 16ms/step - loss: 0.6436 - accuracy: 0.6251 - val_loss: 1.0066 - val_accuracy: 0.5384\n"
     ]
    }
   ],
   "source": [
    "# 모델 설정\n",
    "inputs = Input(shape=(X_stock_df.shape[1],1))\n",
    "lstm_out = LSTM(16, dropout=0.2,return_sequences=True)(inputs)\n",
    "lstm_out = BatchNormalization()(lstm_out)\n",
    "lstm_out = Activation('PReLU')(lstm_out)\n",
    "lstm_out = LSTM(16, dropout=0.2)(lstm_out)\n",
    "lstm_out = BatchNormalization()(lstm_out)\n",
    "lstm_out = Activation('PReLU')(lstm_out)\n",
    "lstm_out = Dense(2)(lstm_out)\n",
    "lstm_out = BatchNormalization()(lstm_out)\n",
    "lstm_out = Activation('softmax')(lstm_out) \n",
    "\n",
    "# stop지점 설정\n",
    "early_stopping_callback = EarlyStopping(monitor='val_loss', patience=30)\n",
    "\n",
    "# 모델 이름 설정\n",
    "modelpath=\"./model/소형주_20221206_6개월_lstm_500ep_64bs_30pa_03newcor.hdf5\"\n",
    "# 최적화 모델을 업데이트하고 저장합니다.\n",
    "checkpointer = ModelCheckpoint(filepath=modelpath, monitor='val_loss', verbose=0, save_best_only=True)\n",
    "\n",
    "model = Model(inputs=inputs, outputs=lstm_out)\n",
    "model.summary()\n",
    "model.compile(loss='categorical_crossentropy', optimizer=optimizers.Adam(learning_rate=0.001, decay=1e-7), metrics=['accuracy'])\n",
    "\n",
    "history=model.fit(X_train, y_train, epochs=500, batch_size=64,verbose=1, validation_data=(X_test, y_test), callbacks=[early_stopping_callback, checkpointer])"
   ]
  },
  {
   "cell_type": "code",
   "execution_count": 74,
   "metadata": {},
   "outputs": [
    {
     "name": "stdout",
     "output_type": "stream",
     "text": [
      "4569/4569 [==============================] - 30s 6ms/step - loss: 0.7368 - accuracy: 0.5384\n",
      "\n",
      " Test Accuracy: 0.5384\n"
     ]
    }
   ],
   "source": [
    "modelpath=\"./model/소형주_20221206_6개월_lstm_500ep_64bs_30pa_03newcor.hdf5\"\n",
    "model_pred = load_model(modelpath)\n",
    "print(\"\\n Test Accuracy: %.4f\" % (model_pred.evaluate(X_test, y_test)[1]))\n",
    "\n"
   ]
  },
  {
   "cell_type": "code",
   "execution_count": 75,
   "metadata": {},
   "outputs": [
    {
     "data": {
      "image/png": "[encoded data removed]",
      "text/plain": [
       "<Figure size 600x600 with 2 Axes>"
      ]
     },
     "metadata": {},
     "output_type": "display_data"
    }
   ],
   "source": [
    "# #Plotting\n",
    "acc = history.history['accuracy']\n",
    "val_acc = history.history['val_accuracy']\n",
    "\n",
    "loss = history.history['loss']\n",
    "val_loss = history.history['val_loss']\n",
    "\n",
    "plt.figure(figsize=(6, 6))\n",
    "plt.subplot(2, 1, 1)\n",
    "plt.plot(acc, label='Training Accuracy')\n",
    "plt.plot(val_acc, label='Validation Accuracy')\n",
    "plt.legend(loc='lower right')\n",
    "plt.ylabel('Accuracy')\n",
    "plt.ylim([0,1.0])\n",
    "plt.title('Training and Validation Accuracy')\n",
    "\n",
    "plt.subplot(2, 1, 2)\n",
    "plt.plot(loss, label='Training Loss')\n",
    "plt.plot(val_loss, label='Validation Loss')\n",
    "plt.legend(loc='upper right')\n",
    "plt.ylabel('Cross Entropy')\n",
    "plt.ylim([0.2,1.2])\n",
    "plt.title('Training and Validation Loss')\n",
    "plt.xlabel('epoch')\n",
    "plt.show()"
   ]
  },
  {
   "cell_type": "code",
   "execution_count": 76,
   "metadata": {},
   "outputs": [],
   "source": [
    "with open('./소형주_20221206_6개월_lstm_500ep_64bs_30pa_03newcor', 'wb') as file_pi:\n",
    "        pickle.dump(history.history, file_pi)\n",
    "# history = pickle.load(open('./소형주_20221206_6개월_lstm_500ep_64bs_30pa_03newcor', \"rb\"))"
   ]
  },
  {
   "cell_type": "code",
   "execution_count": null,
   "metadata": {},
   "outputs": [],
   "source": []
  }
 ],
 "metadata": {
  "colab": {
   "collapsed_sections": [],
   "name": "ch12-colab.ipynb",
   "provenance": [
    {
     "file_id": "https://github.com/taehojo/deeplearning/blob/master/colab/ch12-colab.ipynb",
     "timestamp": 1642728385932
    }
   ]
  },
  "kernelspec": {
   "display_name": "Python 3.8.13 ('tf2')",
   "language": "python",
   "name": "python3"
  },
  "language_info": {
   "codemirror_mode": {
    "name": "ipython",
    "version": 3
   },
   "file_extension": ".py",
   "mimetype": "text/x-python",
   "name": "python",
   "nbconvert_exporter": "python",
   "pygments_lexer": "ipython3",
   "version": "3.8.13"
  },
  "vscode": {
   "interpreter": {
    "hash": "05247f0879db25b58c9f4dbf50b6eaf626832b6fbf3893d9d370e5540f006961"
   }
  }
 },
 "nbformat": 4,
 "nbformat_minor": 1
}
