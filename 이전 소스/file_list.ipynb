{
 "cells": [
  {
   "cell_type": "code",
   "execution_count": 1,
   "metadata": {},
   "outputs": [],
   "source": [
    "# 파일 리스트 검색\n",
    "import os"
   ]
  },
  {
   "cell_type": "code",
   "execution_count": 30,
   "metadata": {},
   "outputs": [
    {
     "name": "stdout",
     "output_type": "stream",
     "text": [
      "['000020', '000040', '000050', '000060', '000070', '000075', '000080', '000087', '000100', '000105', '000120', '000140', '000145', '000150', '000155', '000157', '000180', '000210', '000215', '000220', '000225', '000227', '000230', '000240', '000270', '000300', '000320', '000325', '000370', '000390', '000400', '000430', '000480', '000490', '000500', '000520', '000540', '000545', '000547', '000590', '000640', '000650', '000660', '000670', '000680', '000700', '000720', '000725', '000760', '000810', '000815', '000850', '000860', '000880', '000885', '00088K', '000890', '000910', '000950', '000970', '000990', '000995', '001020', '001040', '001045', '00104K', '001060', '001065', '001067', '001070', '001080', '001120', '001130', '001140', '001200', '001210', '001230', '001250', '001260']\n"
     ]
    }
   ],
   "source": [
    "path = './data/'\n",
    "file_list = os.listdir(path)\n",
    "csv_list = [file for file in file_list if file.endswith('.csv')]\n",
    "\n",
    "current_stock_list = []\n",
    "\n",
    "for file_name in csv_list:\n",
    "    current_stock_list.append(file_name.split('_')[0])\n",
    "    \n",
    "print(current_stock_list)\n",
    "    \n"
   ]
  },
  {
   "cell_type": "code",
   "execution_count": 32,
   "metadata": {},
   "outputs": [
    {
     "name": "stdout",
     "output_type": "stream",
     "text": [
      "['000020', '000040', '000050', '000060', '000070', '000075', '000080', '000087', '000100', '000105', '000120', '000140', '000145', '000150', '000155', '000157', '000180', '000210', '000215', '000220', '000225', '000227', '000230', '000240', '000270', '000300', '000320', '000325', '000370', '000390', '000400', '000430', '000480', '000490', '000500', '000520', '000540', '000545', '000547', '000590', '000640', '000650', '000660', '000670', '000680', '000700', '000720', '000725', '000760', '000810']\n"
     ]
    }
   ],
   "source": [
    "pre_stock_list = current_stock_list[:50]\n",
    "\n",
    "code_list = []\n",
    "for code in pre_stock_list:\n",
    "    code = code.split('_')[0]\n",
    "    code_list.append(code)\n",
    "\n",
    "print(code_list)"
   ]
  },
  {
   "cell_type": "code",
   "execution_count": 33,
   "metadata": {},
   "outputs": [
    {
     "name": "stdout",
     "output_type": "stream",
     "text": [
      "['000815', '000850', '000860', '000880', '000885', '00088K', '000890', '000910', '000950', '000970', '000990', '000995', '001020', '001040', '001045', '00104K', '001060', '001065', '001067', '001070', '001080', '001120', '001130', '001140', '001200', '001210', '001230', '001250', '001260']\n"
     ]
    }
   ],
   "source": [
    "s = set(pre_stock_list)\n",
    "empty_stock_list = [x for x in current_stock_list if x not in s] #순서 보존됨\n",
    "print(empty_stock_list)"
   ]
  },
  {
   "cell_type": "code",
   "execution_count": null,
   "metadata": {},
   "outputs": [],
   "source": []
  }
 ],
 "metadata": {
  "kernelspec": {
   "display_name": "Python 3.9.13 ('base')",
   "language": "python",
   "name": "python3"
  },
  "language_info": {
   "codemirror_mode": {
    "name": "ipython",
    "version": 3
   },
   "file_extension": ".py",
   "mimetype": "text/x-python",
   "name": "python",
   "nbconvert_exporter": "python",
   "pygments_lexer": "ipython3",
   "version": "3.9.13"
  },
  "orig_nbformat": 4,
  "vscode": {
   "interpreter": {
    "hash": "d66cacf706517507cdd0b4e234574712ba1b713b08143b1cf3924a4cf14baeb3"
   }
  }
 },
 "nbformat": 4,
 "nbformat_minor": 2
}
