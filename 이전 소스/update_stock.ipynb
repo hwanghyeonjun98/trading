{
 "cells": [
  {
   "cell_type": "code",
   "execution_count": 1,
   "metadata": {},
   "outputs": [],
   "source": [
    "from module import connection, get, save, search, update\n",
    "# from module.dir_kyw import file_min, file_day\n",
    "import pandas as pd\n",
    "import os\n",
    "from tqdm import tqdm"
   ]
  },
  {
   "cell_type": "code",
   "execution_count": null,
   "metadata": {},
   "outputs": [],
   "source": [
    "def file_open(file_open):\n",
    "    file_ = os.listdir(f'{file_open}')\n",
    "    file_.sort()\n",
    "    \n",
    "    return file_\n",
    "\n",
    "dir_day_open = '../data/day_보통주/'          # 일봉 데이터 불러오기\n",
    "\n",
    "file_day = file_open(dir_day_open)           # 일봉 데이터 리스트\n",
    "\n",
    "for file in tqdm(file_day[::-1]):\n",
    "    update.update_day_stock_info(file)\n",
    "\n",
    "# for file in tqdm(file_min):\n",
    "    # update.update_stock_info(file)"
   ]
  },
  {
   "cell_type": "code",
   "execution_count": 2,
   "metadata": {},
   "outputs": [
    {
     "data": {
      "text/html": [
       "<div>\n",
       "<style scoped>\n",
       "    .dataframe tbody tr th:only-of-type {\n",
       "        vertical-align: middle;\n",
       "    }\n",
       "\n",
       "    .dataframe tbody tr th {\n",
       "        vertical-align: top;\n",
       "    }\n",
       "\n",
       "    .dataframe thead th {\n",
       "        text-align: right;\n",
       "    }\n",
       "</style>\n",
       "<table border=\"1\" class=\"dataframe\">\n",
       "  <thead>\n",
       "    <tr style=\"text-align: right;\">\n",
       "      <th></th>\n",
       "      <th>시간</th>\n",
       "      <th>시가</th>\n",
       "      <th>고가</th>\n",
       "      <th>저가</th>\n",
       "      <th>종가</th>\n",
       "      <th>전일대비</th>\n",
       "      <th>거래량</th>\n",
       "      <th>거래대금</th>\n",
       "      <th>누적체결매도수량</th>\n",
       "      <th>상장주식수</th>\n",
       "      <th>...</th>\n",
       "      <th>외국인현보유비율</th>\n",
       "      <th>수정주가일자</th>\n",
       "      <th>수정주가비율</th>\n",
       "      <th>기관순매수량</th>\n",
       "      <th>기관누적순매수량</th>\n",
       "      <th>등락주선</th>\n",
       "      <th>등락비율</th>\n",
       "      <th>예탁금</th>\n",
       "      <th>주식회전율</th>\n",
       "      <th>거래성립률</th>\n",
       "    </tr>\n",
       "  </thead>\n",
       "  <tbody>\n",
       "  </tbody>\n",
       "</table>\n",
       "<p>0 rows × 24 columns</p>\n",
       "</div>"
      ],
      "text/plain": [
       "Empty DataFrame\n",
       "Columns: [시간, 시가, 고가, 저가, 종가, 전일대비, 거래량, 거래대금, 누적체결매도수량, 상장주식수, 시가총액, 외국인주문한도수량, 외국인주문가능수량, 외국인현보유수량, 외국인현보유비율, 수정주가일자, 수정주가비율, 기관순매수량, 기관누적순매수량, 등락주선, 등락비율, 예탁금, 주식회전율, 거래성립률]\n",
       "Index: []\n",
       "\n",
       "[0 rows x 24 columns]"
      ]
     },
     "execution_count": 2,
     "metadata": {},
     "output_type": "execute_result"
    }
   ],
   "source": [
    "update.update_stock_info('021820_세원정공.csv')"
   ]
  },
  {
   "cell_type": "code",
   "execution_count": 12,
   "metadata": {},
   "outputs": [
    {
     "data": {
      "text/plain": [
       "0"
      ]
     },
     "execution_count": 12,
     "metadata": {},
     "output_type": "execute_result"
    }
   ],
   "source": [
    "test = pd.read_csv('../data/data_보통주/021820_세원정공.csv', encoding='utf-8 sig')\n",
    "len(test.index)"
   ]
  },
  {
   "cell_type": "code",
   "execution_count": 5,
   "metadata": {},
   "outputs": [
    {
     "name": "stderr",
     "output_type": "stream",
     "text": [
      "100%|██████████| 2423/2423 [00:55<00:00, 44.01it/s]\n"
     ]
    }
   ],
   "source": [
    "# 특정 일자 row 지우기\n",
    "\n",
    "for file in tqdm(os.listdir('../data/update/20221116/일봉/')):\n",
    "        stock_info = pd.read_csv('../data/update/20221116/일봉/{0}'.format(file), encoding='utf-8 sig', index_col='Unnamed: 0')\n",
    "\n",
    "        if len(stock_info.index) != 0:\n",
    "            if stock_info.index[0] == 20221117:\n",
    "                stock_info = stock_info.drop([20221117], axis=0)\n",
    "                stock_info.to_csv('../data/update/20221116/일봉/{0}'.format(file), encoding='utf-8 sig')\n"
   ]
  },
  {
   "cell_type": "code",
   "execution_count": 13,
   "metadata": {},
   "outputs": [],
   "source": [
    "stock_info = pd.read_csv('../data/update/20221116/분봉/005930_삼성전자.csv', encoding='utf-8 sig', index_col='Unnamed: 0')\n",
    "stock_info = stock_info.drop([20221117], axis=0)"
   ]
  },
  {
   "cell_type": "code",
   "execution_count": 18,
   "metadata": {},
   "outputs": [
    {
     "name": "stdout",
     "output_type": "stream",
     "text": [
      "true\n"
     ]
    }
   ],
   "source": [
    "if stock_info.index[0] == 20221116:\n",
    "    print('true')"
   ]
  }
 ],
 "metadata": {
  "kernelspec": {
   "display_name": "Python 3.9.12 ('base')",
   "language": "python",
   "name": "python3"
  },
  "language_info": {
   "codemirror_mode": {
    "name": "ipython",
    "version": 3
   },
   "file_extension": ".py",
   "mimetype": "text/x-python",
   "name": "python",
   "nbconvert_exporter": "python",
   "pygments_lexer": "ipython3",
   "version": "3.9.12"
  },
  "orig_nbformat": 4,
  "vscode": {
   "interpreter": {
    "hash": "e11d12c0f1feb3ab46ed1b7515475ef38b63d7fcd14b3992af1279eb11e2839f"
   }
  }
 },
 "nbformat": 4,
 "nbformat_minor": 2
}
