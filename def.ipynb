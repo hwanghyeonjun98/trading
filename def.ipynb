{
 "cells": [
  {
   "cell_type": "code",
   "execution_count": 50,
   "metadata": {},
   "outputs": [],
   "source": [
    "from module import connection\n",
    "from module import get\n",
    "from module import update\n",
    "from module import search\n",
    "from module import save\n",
    "from module.search import search_by_code\n",
    "import pandas as pd\n",
    "from tqdm import tqdm\n",
    "import os"
   ]
  },
  {
   "cell_type": "code",
   "execution_count": 51,
   "metadata": {},
   "outputs": [],
   "source": [
    "def file_open_min(file_open_min):\n",
    "    file_min = os.listdir(f'{file_open_min}')\n",
    "    file_min.sort()\n",
    "    \n",
    "    return file_min"
   ]
  },
  {
   "cell_type": "code",
   "execution_count": 52,
   "metadata": {},
   "outputs": [],
   "source": [
    "def file_open_day(file_open_day):\n",
    "    file_day = os.listdir(f'{file_open_day}')\n",
    "    file_day.sort()\n",
    "    \n",
    "    return file_day"
   ]
  },
  {
   "cell_type": "code",
   "execution_count": 53,
   "metadata": {},
   "outputs": [],
   "source": [
    "def file_open_con(file_open_con):\n",
    "    file_list = os.listdir(f'{file_open_con}')\n",
    "    file_list.sort()\n",
    "    \n",
    "    return file_list"
   ]
  },
  {
   "cell_type": "code",
   "execution_count": 54,
   "metadata": {},
   "outputs": [],
   "source": [
    "def save_min_day_concat_param(file_min, file_day, file_open_min, file_open_day, con_save_dir):\n",
    "    for min_df, day_df in zip(file_min, file_day):\n",
    "        stock_min_df = pd.read_csv(f'{file_open_min}{min_df}', index_col='Unnamed: 0')\n",
    "        stock_day_df = pd.read_csv(f'{file_open_day}{day_df}', index_col='Unnamed: 0')\n",
    "        \n",
    "        concat_list = []\n",
    "        concat_list.append('A' + min_df.split('_')[-2])\n",
    "        \n",
    "        for v in tqdm(stock_min_df.index):\n",
    "            input_list = ['전일대비','상장주식수','시가총액','외국인주문한도수량'\n",
    "                    ,'외국인주문가능수량','외국인현보유수량','외국인현보유비율'\n",
    "                    ,'수정주가일자','수정주가비율','기관순매수량','기관누적순매수량']\n",
    "            \n",
    "            stock_min_df.loc[v, input_list] = stock_day_df.loc[v, input_list].values\n",
    "        for code in concat_list:        \n",
    "            stock_min_df.to_csv('{0}concat_{1}_{2}.csv'.format(\n",
    "                            con_save_dir, search_by_code(code)[0][1:],search_by_code(code)[1]\n",
    "                            ), encoding='utf-8-sig')"
   ]
  },
  {
   "cell_type": "code",
   "execution_count": 55,
   "metadata": {},
   "outputs": [],
   "source": [
    "file_open_min = '../data/'\n",
    "file_open_day = '../data_day/'\n",
    "file_open_con = '../data_concat/'\n",
    "con_save_dir = '../data_concat/'\n",
    "label_save_dir = '../data_label/'"
   ]
  },
  {
   "cell_type": "code",
   "execution_count": 56,
   "metadata": {},
   "outputs": [
    {
     "name": "stderr",
     "output_type": "stream",
     "text": [
      "100%|██████████| 117626/117626 [02:48<00:00, 697.43it/s]\n"
     ]
    }
   ],
   "source": [
    "file_min = file_open_min(file_open_min)\n",
    "file_day = file_open_day(file_open_day)\n",
    "file_list = file_open_concat(file_open_con)"
   ]
  },
  {
   "cell_type": "code",
   "execution_count": null,
   "metadata": {},
   "outputs": [],
   "source": [
    "concat(file_min, file_day, file_open_min, file_open_day, save_dir)"
   ]
  },
  {
   "cell_type": "code",
   "execution_count": null,
   "metadata": {},
   "outputs": [],
   "source": [
    "def save_label_stock_info_param(file_list, file_open_con, labei_save_dir):\n",
    "    \n",
    "    for file_name in tqdm(files_list):\n",
    "\n",
    "        stock_info = pd.read_csv(f'{file_open_con}{file_name}', index_col=0)\n",
    "        \n",
    "        concat_list =  []\n",
    "        concat_list.append('A' + file_name.split('_')[-2])\n",
    "\n",
    "        # 데이터 프레임에서 날짜 인덱스 추출\n",
    "        date = stock_info.index.unique()\n",
    "\n",
    "        # label 컬럼 추가 후 0으로 초기화\n",
    "        stock_info['label'] = 0\n",
    "\n",
    "        # 업데이트에 사용할 데이터 프레임 생성\n",
    "        update_stock_info = pd.DataFrame()\n",
    "\n",
    "        # labeling\n",
    "        for day in date:\n",
    "\n",
    "            # 특정일의 Data 추출\n",
    "            select_day = stock_info.loc[day].copy()\n",
    "            select_day['label'] = 0\n",
    "            \n",
    "            # 특정일의 Row 만큼 반복\n",
    "            for row in range(len(select_day)):\n",
    "                \n",
    "                # 특정일의 현재 row 이후 최대 고가를 추출\n",
    "                next_price = select_day[-row-1::-1]['고가'].max()\n",
    "\n",
    "                # 추출한 최대 고가를 label 컬럼에 대입\n",
    "                select_day.iloc[-row-1,-1] = next_price\n",
    "                next_price = 0\n",
    "            \n",
    "            # 특정일 label이 추가된 DF를 업데이트할 DF에 concat\n",
    "            update_stock_info = pd.concat([update_stock_info, select_day])\n",
    "        \n",
    "        # 업데이트된 DF 저장\n",
    "        for code in concat_list:\n",
    "            update_stock_info.to_csv('{0}label_{1}_{2}.csv'.format(\n",
    "                labei_save_dir, search_by_code(code)[0][1:],search_by_code(code)[1]\n",
    "                ), encoding='utf-8-sig')"
   ]
  },
  {
   "cell_type": "code",
   "execution_count": 2,
   "metadata": {},
   "outputs": [
    {
     "ename": "ImportError",
     "evalue": "cannot import name 'file_open' from partially initialized module 'module.def_mg' (most likely due to a circular import) (c:\\big15\\project-dev\\trading\\module\\def_mg.py)",
     "output_type": "error",
     "traceback": [
      "\u001b[1;31m---------------------------------------------------------------------------\u001b[0m",
      "\u001b[1;31mImportError\u001b[0m                               Traceback (most recent call last)",
      "\u001b[1;32mc:\\big15\\project-dev\\trading\\def.ipynb 셀 10\u001b[0m in \u001b[0;36m<cell line: 1>\u001b[1;34m()\u001b[0m\n\u001b[1;32m----> <a href='vscode-notebook-cell:/c%3A/big15/project-dev/trading/def.ipynb#X12sZmlsZQ%3D%3D?line=0'>1</a>\u001b[0m \u001b[39mfrom\u001b[39;00m \u001b[39mmodule\u001b[39;00m \u001b[39mimport\u001b[39;00m def_mg\n",
      "File \u001b[1;32mc:\\big15\\project-dev\\trading\\module\\def_mg.py:1\u001b[0m, in \u001b[0;36m<module>\u001b[1;34m\u001b[0m\n\u001b[1;32m----> 1\u001b[0m \u001b[39mfrom\u001b[39;00m \u001b[39mmodule\u001b[39;00m\u001b[39m.\u001b[39;00m\u001b[39mdir\u001b[39;00m \u001b[39mimport\u001b[39;00m dir_min_open, dir_day_open, dir_min_update_open\n\u001b[0;32m      2\u001b[0m \u001b[39mfrom\u001b[39;00m \u001b[39mmodule\u001b[39;00m\u001b[39m.\u001b[39;00m\u001b[39mdir\u001b[39;00m \u001b[39mimport\u001b[39;00m dir_day_update_open, dir_concat_open\n\u001b[0;32m      3\u001b[0m \u001b[39mfrom\u001b[39;00m \u001b[39mmodule\u001b[39;00m\u001b[39m.\u001b[39;00m\u001b[39mdir\u001b[39;00m \u001b[39mimport\u001b[39;00m dir_min_update_save, dir_day_update_save\n",
      "File \u001b[1;32mc:\\big15\\project-dev\\trading\\module\\dir.py:1\u001b[0m, in \u001b[0;36m<module>\u001b[1;34m\u001b[0m\n\u001b[1;32m----> 1\u001b[0m \u001b[39mfrom\u001b[39;00m \u001b[39mmodule\u001b[39;00m \u001b[39mimport\u001b[39;00m def_mg\n\u001b[0;32m      3\u001b[0m dir_min_open        \u001b[39m=\u001b[39m \u001b[39m'\u001b[39m\u001b[39m../data_min/\u001b[39m\u001b[39m'\u001b[39m          \u001b[39m# 분봉 데이터 불러오기\u001b[39;00m\n\u001b[0;32m      4\u001b[0m dir_day_open        \u001b[39m=\u001b[39m \u001b[39m'\u001b[39m\u001b[39m../data_day/\u001b[39m\u001b[39m'\u001b[39m          \u001b[39m# 일봉 데이터 불러오기\u001b[39;00m\n",
      "\u001b[1;31mImportError\u001b[0m: cannot import name 'file_open' from partially initialized module 'module.def_mg' (most likely due to a circular import) (c:\\big15\\project-dev\\trading\\module\\def_mg.py)"
     ]
    }
   ],
   "source": [
    "from module import def_mg"
   ]
  },
  {
   "cell_type": "code",
   "execution_count": null,
   "metadata": {},
   "outputs": [],
   "source": []
  }
 ],
 "metadata": {
  "kernelspec": {
   "display_name": "Python 3.9.12 ('project32')",
   "language": "python",
   "name": "python3"
  },
  "language_info": {
   "codemirror_mode": {
    "name": "ipython",
    "version": 3
   },
   "file_extension": ".py",
   "mimetype": "text/x-python",
   "name": "python",
   "nbconvert_exporter": "python",
   "pygments_lexer": "ipython3",
   "version": "3.9.12"
  },
  "orig_nbformat": 4,
  "vscode": {
   "interpreter": {
    "hash": "8fc9eba87d07d7592fd0197af0ff7fa431a736d3024b76bd8d50b5adbe763a2e"
   }
  }
 },
 "nbformat": 4,
 "nbformat_minor": 2
}
