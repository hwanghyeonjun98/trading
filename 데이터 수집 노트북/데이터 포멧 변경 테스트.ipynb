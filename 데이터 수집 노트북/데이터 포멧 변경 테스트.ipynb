{
 "cells": [
  {
   "cell_type": "code",
   "execution_count": 1,
   "metadata": {
    "collapsed": true
   },
   "outputs": [],
   "source": [
    "from module.df_format_change import file_name_list, data_format_change\n",
    "from module.sql_save import *"
   ]
  },
  {
   "cell_type": "code",
   "execution_count": 2,
   "outputs": [],
   "source": [
    "file_list, file_names = file_name_list(\n",
    "\t'/Users/hwanghyeonjun/Documents/GitHub/data/selenium/세계지수'\n",
    "\t, 'csv'\n",
    ")\n",
    "df_list = data_format_change(file_list, file_names)"
   ],
   "metadata": {
    "collapsed": false
   }
  },
  {
   "cell_type": "code",
   "execution_count": 3,
   "outputs": [
    {
     "data": {
      "text/plain": "['터키BIST내역',\n 'DowJonesShanghai내역',\n '스위스SMI내역',\n '닛케이내역',\n 'DAX내역',\n '사우디아라비아Tadawul내역',\n 'RTSI지수내역',\n '다우존스내역',\n '영국FTSE내역',\n 'Nifty50내역',\n 'S&P500내역',\n '스페인IBEX내역',\n '대만가권내역',\n '상하이종합내역',\n '네덜란드AEX내역',\n '호주S&PASX내역',\n 'VN30내역',\n 'S&PBMVIPC내역',\n '캐나다S&PTSX내역',\n '벨기에BEL내역',\n 'FTSEChinaA50내역',\n '코스닥내역',\n 'BSE인도센섹스30내역',\n '코스피50내역',\n '헝가리BUX내역',\n '러셀2000지수내역',\n '항셍내역',\n '폴란드WIG20내역',\n '스웨덴OMXS내역',\n '코스피지수내역',\n '브라질보베스파내역',\n 'SZSEComponent내역',\n '나스닥종합지수내역',\n 'TA35내역',\n '유로스톡스50내역',\n 'SETIndex내역',\n 'ATX내역',\n '프랑스CAC내역',\n 'PSI내역',\n '러시아MOEXRussia내역',\n 'CBOEVolatilityIndex내역',\n '인도네시아IDX내역',\n '이탈리아FTSEMIB내역']"
     },
     "execution_count": 3,
     "metadata": {},
     "output_type": "execute_result"
    }
   ],
   "source": [
    "file_names"
   ],
   "metadata": {
    "collapsed": false
   }
  },
  {
   "cell_type": "code",
   "execution_count": null,
   "outputs": [],
   "source": [],
   "metadata": {
    "collapsed": false
   }
  }
 ],
 "metadata": {
  "kernelspec": {
   "name": "ml",
   "language": "python",
   "display_name": "ml"
  },
  "language_info": {
   "codemirror_mode": {
    "name": "ipython",
    "version": 2
   },
   "file_extension": ".py",
   "mimetype": "text/x-python",
   "name": "python",
   "nbconvert_exporter": "python",
   "pygments_lexer": "ipython2",
   "version": "2.7.6"
  }
 },
 "nbformat": 4,
 "nbformat_minor": 0
}
