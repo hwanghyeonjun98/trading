{
 "cells": [
  {
   "cell_type": "code",
   "execution_count": 6,
   "metadata": {
    "collapsed": true
   },
   "outputs": [],
   "source": [
    "from module.df_format_change import file_name_list, data_format_change, df_save"
   ]
  },
  {
   "cell_type": "code",
   "execution_count": 36,
   "outputs": [],
   "source": [
    "file_list, file_names = file_name_list(\n",
    "\t'/Users/hwanghyeonjun/Documents/GitHub/data/selenium/세계지수'\n",
    "\t, 'csv'\n",
    ")\n",
    "df_list = data_format_change(file_list)\n",
    "# df_save(\n",
    "# \tdf_list\n",
    "# \t, file_names\n",
    "# \t, '/Users/hwanghyeonjun/Documents/GitHub/data/selenium'\n",
    "# )"
   ],
   "metadata": {
    "collapsed": false
   }
  },
  {
   "cell_type": "code",
   "execution_count": 37,
   "outputs": [
    {
     "data": {
      "text/plain": "['상하이종합내역',\n 'BSE인도센섹스30내역',\n '폴란드WIG20내역',\n '호주S&PASX내역',\n '스위스SMI내역',\n '코스닥내역',\n 'S&P500내역',\n 'SZSEComponent내역',\n '스웨덴OMXS내역',\n '사우디아라비아Tadawul내역',\n 'Nifty50내역',\n '브라질보베스파내역',\n '네덜란드AEX내역',\n '닛케이내역',\n '이탈리아FTSEMIB내역',\n 'SETIndex내역',\n 'VN30내역',\n 'S&PBMVIPC내역',\n 'DowJonesShanghai내역',\n 'DAX내역',\n '다우존스내역',\n '벨기에BEL내역',\n 'ATX내역',\n '코스피50내역',\n '터키BIST내역',\n '헝가리BUX내역',\n '캐나다S&PTSX내역',\n 'FTSEChinaA50내역',\n 'RTSI지수내역',\n 'CBOEVolatilityIndex내역',\n 'PSI내역',\n '영국FTSE내역',\n '항셍내역',\n '유로스톡스50내역',\n 'TA35내역',\n '러셀2000지수내역',\n '스페인IBEX내역',\n '프랑스CAC내역',\n '러시아MOEXRussia내역',\n '나스닥종합지수내역',\n '인도네시아IDX내역',\n '코스피지수내역',\n '대만가권내역']"
     },
     "execution_count": 37,
     "metadata": {},
     "output_type": "execute_result"
    }
   ],
   "source": [
    "file_names"
   ],
   "metadata": {
    "collapsed": false
   }
  },
  {
   "cell_type": "code",
   "execution_count": 43,
   "outputs": [],
   "source": [
    "import chardet\n",
    "import glob"
   ],
   "metadata": {
    "collapsed": false
   }
  },
  {
   "cell_type": "code",
   "execution_count": 46,
   "outputs": [
    {
     "data": {
      "text/plain": "['/Users/hwanghyeonjun/Documents/GitHub/data/selenium/채권/프랑스_9년_채권_수익율_내역.csv',\n '/Users/hwanghyeonjun/Documents/GitHub/data/selenium/채권/한국_20년_채권_수익율_내역.csv',\n '/Users/hwanghyeonjun/Documents/GitHub/data/selenium/채권/독일_6년_채권_수익율_내역.csv',\n '/Users/hwanghyeonjun/Documents/GitHub/data/selenium/채권/중국_2년_채권_수익율_내역.csv',\n '/Users/hwanghyeonjun/Documents/GitHub/data/selenium/채권/러시아_2주_채권_수익율_내역.csv',\n '/Users/hwanghyeonjun/Documents/GitHub/data/selenium/채권/스위스_2개월_채권_수익율_내역.csv',\n '/Users/hwanghyeonjun/Documents/GitHub/data/selenium/채권/한국_4년_채권_수익율_내역.csv',\n '/Users/hwanghyeonjun/Documents/GitHub/data/selenium/채권/중국_20년_채권_수익율_내역.csv',\n '/Users/hwanghyeonjun/Documents/GitHub/data/selenium/채권/영국_5년_채권_수익율_내역.csv',\n '/Users/hwanghyeonjun/Documents/GitHub/data/selenium/채권/영국_3개월_채권_수익율_내역.csv',\n '/Users/hwanghyeonjun/Documents/GitHub/data/selenium/채권/러시아_6개월_채권_수익율_내역.csv',\n '/Users/hwanghyeonjun/Documents/GitHub/data/selenium/채권/스위스_8년_채권_수익율_내역.csv',\n '/Users/hwanghyeonjun/Documents/GitHub/data/selenium/채권/미국_3개월_채권_수익율_내역.csv',\n '/Users/hwanghyeonjun/Documents/GitHub/data/selenium/채권/한국_1년_채권_수익율_내역.csv',\n '/Users/hwanghyeonjun/Documents/GitHub/data/selenium/채권/중국_7년_채권_수익율_내역.csv',\n '/Users/hwanghyeonjun/Documents/GitHub/data/selenium/채권/일본_5년_채권_수익율_내역.csv',\n '/Users/hwanghyeonjun/Documents/GitHub/data/selenium/채권/독일_3년_채권_수익율_내역.csv',\n '/Users/hwanghyeonjun/Documents/GitHub/data/selenium/채권/스위스_7년_채권_수익율_내역.csv',\n '/Users/hwanghyeonjun/Documents/GitHub/data/selenium/채권/터키_3년_채권_수익율_내역.csv',\n '/Users/hwanghyeonjun/Documents/GitHub/data/selenium/채권/러시아_3년_채권_수익율_내역.csv',\n '/Users/hwanghyeonjun/Documents/GitHub/data/selenium/채권/터키_10년_채권_수익율_내역.csv',\n '/Users/hwanghyeonjun/Documents/GitHub/data/selenium/채권/중국_10년_채권_수익율_내역.csv',\n '/Users/hwanghyeonjun/Documents/GitHub/data/selenium/채권/프랑스_3년_채권_수익율_내역.csv',\n '/Users/hwanghyeonjun/Documents/GitHub/data/selenium/채권/미국_3년_채권_수익율_내역.csv',\n '/Users/hwanghyeonjun/Documents/GitHub/data/selenium/채권/한국_10년_채권_수익율_내역.csv',\n '/Users/hwanghyeonjun/Documents/GitHub/data/selenium/채권/중국_15년_채권_수익율_내역.csv',\n '/Users/hwanghyeonjun/Documents/GitHub/data/selenium/채권/독일_9년_채권_수익율_내역.csv',\n '/Users/hwanghyeonjun/Documents/GitHub/data/selenium/채권/영국_40년_채권_수익율_내역.csv',\n '/Users/hwanghyeonjun/Documents/GitHub/data/selenium/채권/스위스_2년_채권_수익율_내역.csv',\n '/Users/hwanghyeonjun/Documents/GitHub/data/selenium/채권/러시아_1개월_채권_수익율_내역.csv',\n '/Users/hwanghyeonjun/Documents/GitHub/data/selenium/채권/프랑스_6년_채권_수익율_내역.csv',\n '/Users/hwanghyeonjun/Documents/GitHub/data/selenium/채권/영국_4년_채권_수익율_내역.csv',\n '/Users/hwanghyeonjun/Documents/GitHub/data/selenium/채권/일본_3개월_채권_수익율_내역.csv',\n '/Users/hwanghyeonjun/Documents/GitHub/data/selenium/채권/프랑스_15년_채권_수익율_내역.csv',\n '/Users/hwanghyeonjun/Documents/GitHub/data/selenium/채권/스위스_20년_채권_수익율_내역.csv',\n '/Users/hwanghyeonjun/Documents/GitHub/data/selenium/채권/러시아_15년_채권_수익율_내역.csv',\n '/Users/hwanghyeonjun/Documents/GitHub/data/selenium/채권/스위스_9년_채권_수익율_내역.csv',\n '/Users/hwanghyeonjun/Documents/GitHub/data/selenium/채권/프랑스_3개월_채권_수익율_내역.csv',\n '/Users/hwanghyeonjun/Documents/GitHub/data/selenium/채권/영국_25년_채권_수익율_내역.csv',\n '/Users/hwanghyeonjun/Documents/GitHub/data/selenium/채권/독일_2년_채권_수익율_내역.csv',\n '/Users/hwanghyeonjun/Documents/GitHub/data/selenium/채권/일본_4년_채권_수익율_내역.csv',\n '/Users/hwanghyeonjun/Documents/GitHub/data/selenium/채권/스위스_3개월_채권_수익율_내역.csv',\n '/Users/hwanghyeonjun/Documents/GitHub/data/selenium/채권/미국_20년_채권_수익율_내역.csv',\n '/Users/hwanghyeonjun/Documents/GitHub/data/selenium/채권/프랑스_10년_채권_수익율_내역.csv',\n '/Users/hwanghyeonjun/Documents/GitHub/data/selenium/채권/프랑스_8년_채권_수익율_내역.csv',\n '/Users/hwanghyeonjun/Documents/GitHub/data/selenium/채권/영국_1년_채권_수익율_내역.csv',\n '/Users/hwanghyeonjun/Documents/GitHub/data/selenium/채권/일본_1년_채권_수익율_내역.csv',\n '/Users/hwanghyeonjun/Documents/GitHub/data/selenium/채권/독일_7년_채권_수익율_내역.csv',\n '/Users/hwanghyeonjun/Documents/GitHub/data/selenium/채권/중국_3년_채권_수익율_내역.csv',\n '/Users/hwanghyeonjun/Documents/GitHub/data/selenium/채권/영국_20년_채권_수익율_내역.csv',\n '/Users/hwanghyeonjun/Documents/GitHub/data/selenium/채권/한국_5년_채권_수익율_내역.csv',\n '/Users/hwanghyeonjun/Documents/GitHub/data/selenium/채권/러시아_10년_채권_수익율_내역.csv',\n '/Users/hwanghyeonjun/Documents/GitHub/data/selenium/채권/일본_30년_채권_수익율_내역.csv',\n '/Users/hwanghyeonjun/Documents/GitHub/data/selenium/채권/러시아_7년_채권_수익율_내역.csv',\n '/Users/hwanghyeonjun/Documents/GitHub/data/selenium/채권/독일_8년_채권_수익율_내역.csv',\n '/Users/hwanghyeonjun/Documents/GitHub/data/selenium/채권/러시아_오버나잇_채권_수익율_내역.csv',\n '/Users/hwanghyeonjun/Documents/GitHub/data/selenium/채권/프랑스_20년_채권_수익율_내역.csv',\n '/Users/hwanghyeonjun/Documents/GitHub/data/selenium/채권/스위스_오버나잇_채권_수익율_내역.csv',\n '/Users/hwanghyeonjun/Documents/GitHub/data/selenium/채권/스위스_3년_채권_수익율_내역.csv',\n '/Users/hwanghyeonjun/Documents/GitHub/data/selenium/채권/스위스_15년_채권_수익율_내역.csv',\n '/Users/hwanghyeonjun/Documents/GitHub/data/selenium/채권/터키_6개월_채권_수익율_내역.csv',\n '/Users/hwanghyeonjun/Documents/GitHub/data/selenium/채권/러시아_20년_채권_수익율_내역.csv',\n '/Users/hwanghyeonjun/Documents/GitHub/data/selenium/채권/영국_10년_채권_수익율_내역.csv',\n '/Users/hwanghyeonjun/Documents/GitHub/data/selenium/채권/미국_7년_채권_수익율_내역.csv',\n '/Users/hwanghyeonjun/Documents/GitHub/data/selenium/채권/독일_30년_채권_수익율_내역.csv',\n '/Users/hwanghyeonjun/Documents/GitHub/data/selenium/채권/프랑스_7년_채권_수익율_내역.csv',\n '/Users/hwanghyeonjun/Documents/GitHub/data/selenium/채권/독일_6개월_채권_수익율_내역.csv',\n '/Users/hwanghyeonjun/Documents/GitHub/data/selenium/채권/스위스_6년_채권_수익율_내역.csv',\n '/Users/hwanghyeonjun/Documents/GitHub/data/selenium/채권/터키_2년_채권_수익율_내역.csv',\n '/Users/hwanghyeonjun/Documents/GitHub/data/selenium/채권/스위스_10년_채권_수익율_내역.csv',\n '/Users/hwanghyeonjun/Documents/GitHub/data/selenium/채권/프랑스_25년_채권_수익율_내역.csv',\n '/Users/hwanghyeonjun/Documents/GitHub/data/selenium/채권/러시아_2년_채권_수익율_내역.csv',\n '/Users/hwanghyeonjun/Documents/GitHub/data/selenium/채권/프랑스_2년_채권_수익율_내역.csv',\n '/Users/hwanghyeonjun/Documents/GitHub/data/selenium/채권/미국_2년_채권_수익율_내역.csv',\n '/Users/hwanghyeonjun/Documents/GitHub/data/selenium/채권/독일_9개월_채권_수익율_내역.csv',\n '/Users/hwanghyeonjun/Documents/GitHub/data/selenium/채권/영국_15년_채권_수익율_내역.csv',\n '/Users/hwanghyeonjun/Documents/GitHub/data/selenium/채권/터키_9개월_채권_수익율_내역.csv',\n '/Users/hwanghyeonjun/Documents/GitHub/data/selenium/채권/터키_1년_채권_수익율_내역.csv',\n '/Users/hwanghyeonjun/Documents/GitHub/data/selenium/채권/스위스_5년_채권_수익율_내역.csv',\n '/Users/hwanghyeonjun/Documents/GitHub/data/selenium/채권/독일_20년_채권_수익율_내역.csv',\n '/Users/hwanghyeonjun/Documents/GitHub/data/selenium/채권/러시아_3개월_채권_수익율_내역.csv',\n '/Users/hwanghyeonjun/Documents/GitHub/data/selenium/채권/미국_6개월_채권_수익율_내역.csv',\n '/Users/hwanghyeonjun/Documents/GitHub/data/selenium/채권/한국_50년_채권_수익율_내역.csv',\n '/Users/hwanghyeonjun/Documents/GitHub/data/selenium/채권/일본_8년_채권_수익율_내역.csv',\n '/Users/hwanghyeonjun/Documents/GitHub/data/selenium/채권/러시아_1년_채권_수익율_내역.csv',\n '/Users/hwanghyeonjun/Documents/GitHub/data/selenium/채권/일본_10년_채권_수익율_내역.csv',\n '/Users/hwanghyeonjun/Documents/GitHub/data/selenium/채권/프랑스_30년_채권_수익율_내역.csv',\n '/Users/hwanghyeonjun/Documents/GitHub/data/selenium/채권/미국_1년_채권_수익율_내역.csv',\n '/Users/hwanghyeonjun/Documents/GitHub/data/selenium/채권/영국_8년_채권_수익율_내역.csv',\n '/Users/hwanghyeonjun/Documents/GitHub/data/selenium/채권/프랑스_1년_채권_수익율_내역.csv',\n '/Users/hwanghyeonjun/Documents/GitHub/data/selenium/채권/영국_6개월_채권_수익율_내역.csv',\n '/Users/hwanghyeonjun/Documents/GitHub/data/selenium/채권/일본_15년_채권_수익율_내역.csv',\n '/Users/hwanghyeonjun/Documents/GitHub/data/selenium/채권/독일_25년_채권_수익율_내역.csv',\n '/Users/hwanghyeonjun/Documents/GitHub/data/selenium/채권/프랑스_4년_채권_수익율_내역.csv',\n '/Users/hwanghyeonjun/Documents/GitHub/data/selenium/채권/미국_1개월_채권_수익율_내역.csv',\n '/Users/hwanghyeonjun/Documents/GitHub/data/selenium/채권/독일_15년_채권_수익율_내역.csv',\n '/Users/hwanghyeonjun/Documents/GitHub/data/selenium/채권/미국_10년물_국채_금리_채권_수익율_내역.csv',\n '/Users/hwanghyeonjun/Documents/GitHub/data/selenium/채권/영국_2년_채권_수익율_내역.csv',\n '/Users/hwanghyeonjun/Documents/GitHub/data/selenium/채권/러시아_1주_채권_수익율_내역.csv',\n '/Users/hwanghyeonjun/Documents/GitHub/data/selenium/채권/스위스_30년_채권_수익율_내역.csv',\n '/Users/hwanghyeonjun/Documents/GitHub/data/selenium/채권/일본_2년_채권_수익율_내역.csv',\n '/Users/hwanghyeonjun/Documents/GitHub/data/selenium/채권/영국_1개월_채권_수익율_내역.csv',\n '/Users/hwanghyeonjun/Documents/GitHub/data/selenium/채권/독일_4년_채권_수익율_내역.csv',\n '/Users/hwanghyeonjun/Documents/GitHub/data/selenium/채권/일본_20년_채권_수익율_내역.csv',\n '/Users/hwanghyeonjun/Documents/GitHub/data/selenium/채권/영국_7년_채권_수익율_내역.csv',\n '/Users/hwanghyeonjun/Documents/GitHub/data/selenium/채권/독일_10년_채권_수익율_내역.csv',\n '/Users/hwanghyeonjun/Documents/GitHub/data/selenium/채권/영국_30년_채권_수익율_내역.csv',\n '/Users/hwanghyeonjun/Documents/GitHub/data/selenium/채권/한국_3년_채권_수익율_내역.csv',\n '/Users/hwanghyeonjun/Documents/GitHub/data/selenium/채권/독일_1년_채권_수익율_내역.csv',\n '/Users/hwanghyeonjun/Documents/GitHub/data/selenium/채권/일본_7년_채권_수익율_내역.csv',\n '/Users/hwanghyeonjun/Documents/GitHub/data/selenium/채권/중국_5년_채권_수익율_내역.csv',\n '/Users/hwanghyeonjun/Documents/GitHub/data/selenium/채권/미국_30년_채권_수익율_내역.csv',\n '/Users/hwanghyeonjun/Documents/GitHub/data/selenium/채권/러시아_5년_채권_수익율_내역.csv',\n '/Users/hwanghyeonjun/Documents/GitHub/data/selenium/채권/프랑스_9개월_채권_수익율_내역.csv',\n '/Users/hwanghyeonjun/Documents/GitHub/data/selenium/채권/터키_5년_채권_수익율_내역.csv',\n '/Users/hwanghyeonjun/Documents/GitHub/data/selenium/채권/스위스_1년_채권_수익율_내역.csv',\n '/Users/hwanghyeonjun/Documents/GitHub/data/selenium/채권/스위스_6개월_채권_수익율_내역.csv',\n '/Users/hwanghyeonjun/Documents/GitHub/data/selenium/채권/일본_9개월_채권_수익율_내역.csv',\n '/Users/hwanghyeonjun/Documents/GitHub/data/selenium/채권/프랑스_5년_채권_수익율_내역.csv',\n '/Users/hwanghyeonjun/Documents/GitHub/data/selenium/채권/미국_5년_채권_수익율_내역.csv',\n '/Users/hwanghyeonjun/Documents/GitHub/data/selenium/채권/영국_12년_채권_수익율_내역.csv',\n '/Users/hwanghyeonjun/Documents/GitHub/data/selenium/채권/프랑스_6개월_채권_수익율_내역.csv',\n '/Users/hwanghyeonjun/Documents/GitHub/data/selenium/채권/스위스_4년_채권_수익율_내역.csv',\n '/Users/hwanghyeonjun/Documents/GitHub/data/selenium/채권/일본_9년_채권_수익율_내역.csv',\n '/Users/hwanghyeonjun/Documents/GitHub/data/selenium/채권/일본_6개월_채권_수익율_내역.csv',\n '/Users/hwanghyeonjun/Documents/GitHub/data/selenium/채권/영국_9년_채권_수익율_내역.csv',\n '/Users/hwanghyeonjun/Documents/GitHub/data/selenium/채권/러시아_2개월_채권_수익율_내역.csv',\n '/Users/hwanghyeonjun/Documents/GitHub/data/selenium/채권/영국_50년_채권_수익율_내역.csv',\n '/Users/hwanghyeonjun/Documents/GitHub/data/selenium/채권/스위스_1주_채권_수익율_내역.csv',\n '/Users/hwanghyeonjun/Documents/GitHub/data/selenium/채권/일본_40년_채권_수익율_내역.csv',\n '/Users/hwanghyeonjun/Documents/GitHub/data/selenium/채권/영국_6년_채권_수익율_내역.csv',\n '/Users/hwanghyeonjun/Documents/GitHub/data/selenium/채권/프랑스_50년_채권_수익율_내역.csv',\n '/Users/hwanghyeonjun/Documents/GitHub/data/selenium/채권/스위스_1개월_채권_수익율_내역.csv',\n '/Users/hwanghyeonjun/Documents/GitHub/data/selenium/채권/한국_2년_채권_수익율_내역.csv',\n '/Users/hwanghyeonjun/Documents/GitHub/data/selenium/채권/한국_30년_채권_수익율_내역.csv',\n '/Users/hwanghyeonjun/Documents/GitHub/data/selenium/채권/일본_6년_채권_수익율_내역.csv',\n '/Users/hwanghyeonjun/Documents/GitHub/data/selenium/채권/독일_3개월_채권_수익율_내역.csv',\n '/Users/hwanghyeonjun/Documents/GitHub/data/selenium/채권/영국_3년_채권_수익율_내역.csv',\n '/Users/hwanghyeonjun/Documents/GitHub/data/selenium/채권/프랑스_1개월_채권_수익율_내역.csv',\n '/Users/hwanghyeonjun/Documents/GitHub/data/selenium/채권/터키_3개월_채권_수익율_내역.csv',\n '/Users/hwanghyeonjun/Documents/GitHub/data/selenium/채권/중국_1년_채권_수익율_내역.csv',\n '/Users/hwanghyeonjun/Documents/GitHub/data/selenium/채권/독일_5년_채권_수익율_내역.csv',\n '/Users/hwanghyeonjun/Documents/GitHub/data/selenium/채권/일본_3년_채권_수익율_내역.csv',\n '/Users/hwanghyeonjun/Documents/GitHub/data/selenium/채권/일본_1개월_채권_수익율_내역.csv',\n '/Users/hwanghyeonjun/Documents/GitHub/data/selenium/채권/중국_30년_채권_수익율_내역.csv']"
     },
     "execution_count": 46,
     "metadata": {},
     "output_type": "execute_result"
    }
   ],
   "source": [
    "list = glob.glob('/Users/hwanghyeonjun/Documents/GitHub/data/selenium/채권/*.csv')\n",
    "list"
   ],
   "metadata": {
    "collapsed": false
   }
  },
  {
   "cell_type": "code",
   "execution_count": 47,
   "outputs": [
    {
     "name": "stdout",
     "output_type": "stream",
     "text": [
      "{'encoding': 'utf-8', 'confidence': 0.99, 'language': ''}\n",
      "{'encoding': 'utf-8', 'confidence': 0.99, 'language': ''}\n",
      "{'encoding': 'utf-8', 'confidence': 0.99, 'language': ''}\n",
      "{'encoding': 'utf-8', 'confidence': 0.99, 'language': ''}\n",
      "{'encoding': 'utf-8', 'confidence': 0.99, 'language': ''}\n",
      "{'encoding': 'utf-8', 'confidence': 0.99, 'language': ''}\n",
      "{'encoding': 'utf-8', 'confidence': 0.99, 'language': ''}\n",
      "{'encoding': 'utf-8', 'confidence': 0.99, 'language': ''}\n",
      "{'encoding': 'utf-8', 'confidence': 0.99, 'language': ''}\n",
      "{'encoding': 'utf-8', 'confidence': 0.99, 'language': ''}\n",
      "{'encoding': 'utf-8', 'confidence': 0.99, 'language': ''}\n",
      "{'encoding': 'utf-8', 'confidence': 0.99, 'language': ''}\n",
      "{'encoding': 'utf-8', 'confidence': 0.99, 'language': ''}\n",
      "{'encoding': 'utf-8', 'confidence': 0.99, 'language': ''}\n",
      "{'encoding': 'utf-8', 'confidence': 0.99, 'language': ''}\n",
      "{'encoding': 'utf-8', 'confidence': 0.99, 'language': ''}\n",
      "{'encoding': 'utf-8', 'confidence': 0.99, 'language': ''}\n",
      "{'encoding': 'utf-8', 'confidence': 0.99, 'language': ''}\n",
      "{'encoding': 'utf-8', 'confidence': 0.99, 'language': ''}\n",
      "{'encoding': 'utf-8', 'confidence': 0.99, 'language': ''}\n",
      "{'encoding': 'utf-8', 'confidence': 0.99, 'language': ''}\n",
      "{'encoding': 'utf-8', 'confidence': 0.99, 'language': ''}\n",
      "{'encoding': 'utf-8', 'confidence': 0.99, 'language': ''}\n",
      "{'encoding': 'utf-8', 'confidence': 0.99, 'language': ''}\n",
      "{'encoding': 'utf-8', 'confidence': 0.99, 'language': ''}\n",
      "{'encoding': 'utf-8', 'confidence': 0.99, 'language': ''}\n",
      "{'encoding': 'utf-8', 'confidence': 0.99, 'language': ''}\n",
      "{'encoding': 'utf-8', 'confidence': 0.99, 'language': ''}\n",
      "{'encoding': 'utf-8', 'confidence': 0.99, 'language': ''}\n",
      "{'encoding': 'utf-8', 'confidence': 0.99, 'language': ''}\n",
      "{'encoding': 'utf-8', 'confidence': 0.99, 'language': ''}\n",
      "{'encoding': 'utf-8', 'confidence': 0.99, 'language': ''}\n",
      "{'encoding': 'utf-8', 'confidence': 0.99, 'language': ''}\n",
      "{'encoding': 'utf-8', 'confidence': 0.99, 'language': ''}\n",
      "{'encoding': 'utf-8', 'confidence': 0.99, 'language': ''}\n",
      "{'encoding': 'utf-8', 'confidence': 0.99, 'language': ''}\n",
      "{'encoding': 'utf-8', 'confidence': 0.99, 'language': ''}\n",
      "{'encoding': 'utf-8', 'confidence': 0.99, 'language': ''}\n",
      "{'encoding': 'utf-8', 'confidence': 0.99, 'language': ''}\n",
      "{'encoding': 'utf-8', 'confidence': 0.99, 'language': ''}\n",
      "{'encoding': 'utf-8', 'confidence': 0.99, 'language': ''}\n",
      "{'encoding': 'utf-8', 'confidence': 0.99, 'language': ''}\n",
      "{'encoding': 'utf-8', 'confidence': 0.99, 'language': ''}\n",
      "{'encoding': 'utf-8', 'confidence': 0.99, 'language': ''}\n",
      "{'encoding': 'utf-8', 'confidence': 0.99, 'language': ''}\n",
      "{'encoding': 'utf-8', 'confidence': 0.99, 'language': ''}\n",
      "{'encoding': 'utf-8', 'confidence': 0.99, 'language': ''}\n",
      "{'encoding': 'utf-8', 'confidence': 0.99, 'language': ''}\n",
      "{'encoding': 'utf-8', 'confidence': 0.99, 'language': ''}\n",
      "{'encoding': 'utf-8', 'confidence': 0.99, 'language': ''}\n",
      "{'encoding': 'utf-8', 'confidence': 0.99, 'language': ''}\n",
      "{'encoding': 'utf-8', 'confidence': 0.99, 'language': ''}\n",
      "{'encoding': 'utf-8', 'confidence': 0.99, 'language': ''}\n",
      "{'encoding': 'utf-8', 'confidence': 0.99, 'language': ''}\n",
      "{'encoding': 'utf-8', 'confidence': 0.99, 'language': ''}\n",
      "{'encoding': 'utf-8', 'confidence': 0.99, 'language': ''}\n",
      "{'encoding': 'utf-8', 'confidence': 0.99, 'language': ''}\n",
      "{'encoding': 'utf-8', 'confidence': 0.99, 'language': ''}\n",
      "{'encoding': 'utf-8', 'confidence': 0.99, 'language': ''}\n",
      "{'encoding': 'utf-8', 'confidence': 0.99, 'language': ''}\n",
      "{'encoding': 'utf-8', 'confidence': 0.99, 'language': ''}\n",
      "{'encoding': 'utf-8', 'confidence': 0.99, 'language': ''}\n",
      "{'encoding': 'utf-8', 'confidence': 0.99, 'language': ''}\n",
      "{'encoding': 'utf-8', 'confidence': 0.99, 'language': ''}\n",
      "{'encoding': 'utf-8', 'confidence': 0.99, 'language': ''}\n",
      "{'encoding': 'utf-8', 'confidence': 0.99, 'language': ''}\n",
      "{'encoding': 'utf-8', 'confidence': 0.99, 'language': ''}\n",
      "{'encoding': 'utf-8', 'confidence': 0.99, 'language': ''}\n",
      "{'encoding': 'utf-8', 'confidence': 0.99, 'language': ''}\n",
      "{'encoding': 'utf-8', 'confidence': 0.99, 'language': ''}\n",
      "{'encoding': 'utf-8', 'confidence': 0.99, 'language': ''}\n",
      "{'encoding': 'utf-8', 'confidence': 0.99, 'language': ''}\n",
      "{'encoding': 'utf-8', 'confidence': 0.99, 'language': ''}\n",
      "{'encoding': 'utf-8', 'confidence': 0.99, 'language': ''}\n",
      "{'encoding': 'utf-8', 'confidence': 0.99, 'language': ''}\n",
      "{'encoding': 'utf-8', 'confidence': 0.99, 'language': ''}\n",
      "{'encoding': 'utf-8', 'confidence': 0.99, 'language': ''}\n",
      "{'encoding': 'utf-8', 'confidence': 0.99, 'language': ''}\n",
      "{'encoding': 'utf-8', 'confidence': 0.99, 'language': ''}\n",
      "{'encoding': 'utf-8', 'confidence': 0.99, 'language': ''}\n",
      "{'encoding': 'utf-8', 'confidence': 0.99, 'language': ''}\n",
      "{'encoding': 'utf-8', 'confidence': 0.99, 'language': ''}\n",
      "{'encoding': 'utf-8', 'confidence': 0.99, 'language': ''}\n",
      "{'encoding': 'utf-8', 'confidence': 0.99, 'language': ''}\n",
      "{'encoding': 'utf-8', 'confidence': 0.99, 'language': ''}\n",
      "{'encoding': 'utf-8', 'confidence': 0.99, 'language': ''}\n",
      "{'encoding': 'utf-8', 'confidence': 0.99, 'language': ''}\n",
      "{'encoding': 'utf-8', 'confidence': 0.99, 'language': ''}\n",
      "{'encoding': 'utf-8', 'confidence': 0.99, 'language': ''}\n",
      "{'encoding': 'utf-8', 'confidence': 0.99, 'language': ''}\n",
      "{'encoding': 'utf-8', 'confidence': 0.99, 'language': ''}\n",
      "{'encoding': 'utf-8', 'confidence': 0.99, 'language': ''}\n",
      "{'encoding': 'utf-8', 'confidence': 0.99, 'language': ''}\n",
      "{'encoding': 'utf-8', 'confidence': 0.99, 'language': ''}\n",
      "{'encoding': 'utf-8', 'confidence': 0.99, 'language': ''}\n",
      "{'encoding': 'utf-8', 'confidence': 0.99, 'language': ''}\n",
      "{'encoding': 'utf-8', 'confidence': 0.99, 'language': ''}\n",
      "{'encoding': 'utf-8', 'confidence': 0.99, 'language': ''}\n",
      "{'encoding': 'utf-8', 'confidence': 0.99, 'language': ''}\n",
      "{'encoding': 'utf-8', 'confidence': 0.99, 'language': ''}\n",
      "{'encoding': 'utf-8', 'confidence': 0.99, 'language': ''}\n",
      "{'encoding': 'utf-8', 'confidence': 0.99, 'language': ''}\n",
      "{'encoding': 'utf-8', 'confidence': 0.99, 'language': ''}\n",
      "{'encoding': 'utf-8', 'confidence': 0.99, 'language': ''}\n",
      "{'encoding': 'utf-8', 'confidence': 0.99, 'language': ''}\n",
      "{'encoding': 'utf-8', 'confidence': 0.99, 'language': ''}\n",
      "{'encoding': 'utf-8', 'confidence': 0.99, 'language': ''}\n",
      "{'encoding': 'utf-8', 'confidence': 0.99, 'language': ''}\n",
      "{'encoding': 'utf-8', 'confidence': 0.99, 'language': ''}\n",
      "{'encoding': 'utf-8', 'confidence': 0.99, 'language': ''}\n",
      "{'encoding': 'utf-8', 'confidence': 0.99, 'language': ''}\n",
      "{'encoding': 'utf-8', 'confidence': 0.99, 'language': ''}\n",
      "{'encoding': 'utf-8', 'confidence': 0.99, 'language': ''}\n",
      "{'encoding': 'utf-8', 'confidence': 0.99, 'language': ''}\n",
      "{'encoding': 'utf-8', 'confidence': 0.99, 'language': ''}\n",
      "{'encoding': 'utf-8', 'confidence': 0.99, 'language': ''}\n",
      "{'encoding': 'utf-8', 'confidence': 0.99, 'language': ''}\n",
      "{'encoding': 'utf-8', 'confidence': 0.99, 'language': ''}\n",
      "{'encoding': 'utf-8', 'confidence': 0.99, 'language': ''}\n",
      "{'encoding': 'utf-8', 'confidence': 0.99, 'language': ''}\n",
      "{'encoding': 'utf-8', 'confidence': 0.99, 'language': ''}\n",
      "{'encoding': 'utf-8', 'confidence': 0.99, 'language': ''}\n",
      "{'encoding': 'utf-8', 'confidence': 0.99, 'language': ''}\n",
      "{'encoding': 'utf-8', 'confidence': 0.99, 'language': ''}\n",
      "{'encoding': 'utf-8', 'confidence': 0.99, 'language': ''}\n",
      "{'encoding': 'utf-8', 'confidence': 0.99, 'language': ''}\n",
      "{'encoding': 'utf-8', 'confidence': 0.99, 'language': ''}\n",
      "{'encoding': 'utf-8', 'confidence': 0.99, 'language': ''}\n",
      "{'encoding': 'utf-8', 'confidence': 0.99, 'language': ''}\n",
      "{'encoding': 'utf-8', 'confidence': 0.99, 'language': ''}\n",
      "{'encoding': 'utf-8', 'confidence': 0.99, 'language': ''}\n",
      "{'encoding': 'utf-8', 'confidence': 0.99, 'language': ''}\n",
      "{'encoding': 'utf-8', 'confidence': 0.99, 'language': ''}\n",
      "{'encoding': 'utf-8', 'confidence': 0.99, 'language': ''}\n",
      "{'encoding': 'utf-8', 'confidence': 0.99, 'language': ''}\n",
      "{'encoding': 'utf-8', 'confidence': 0.99, 'language': ''}\n",
      "{'encoding': 'utf-8', 'confidence': 0.99, 'language': ''}\n",
      "{'encoding': 'utf-8', 'confidence': 0.99, 'language': ''}\n",
      "{'encoding': 'utf-8', 'confidence': 0.99, 'language': ''}\n",
      "{'encoding': 'utf-8', 'confidence': 0.99, 'language': ''}\n",
      "{'encoding': 'utf-8', 'confidence': 0.99, 'language': ''}\n",
      "{'encoding': 'utf-8', 'confidence': 0.99, 'language': ''}\n",
      "{'encoding': 'utf-8', 'confidence': 0.99, 'language': ''}\n",
      "{'encoding': 'utf-8', 'confidence': 0.99, 'language': ''}\n",
      "{'encoding': 'utf-8', 'confidence': 0.99, 'language': ''}\n"
     ]
    }
   ],
   "source": [
    "for path in list:\n",
    "\tprint(chardet.detect(path.encode()))"
   ],
   "metadata": {
    "collapsed": false
   }
  },
  {
   "cell_type": "code",
   "execution_count": null,
   "outputs": [],
   "source": [],
   "metadata": {
    "collapsed": false
   }
  }
 ],
 "metadata": {
  "kernelspec": {
   "display_name": "Python 3",
   "language": "python",
   "name": "python3"
  },
  "language_info": {
   "codemirror_mode": {
    "name": "ipython",
    "version": 2
   },
   "file_extension": ".py",
   "mimetype": "text/x-python",
   "name": "python",
   "nbconvert_exporter": "python",
   "pygments_lexer": "ipython2",
   "version": "2.7.6"
  }
 },
 "nbformat": 4,
 "nbformat_minor": 0
}
