{
 "cells": [
  {
   "cell_type": "code",
   "execution_count": 1,
   "metadata": {
    "collapsed": true
   },
   "outputs": [],
   "source": [
    "from module import file_name_list, data_format_change, dataframe_save"
   ]
  },
  {
   "cell_type": "code",
   "execution_count": 7,
   "outputs": [
    {
     "ename": "NameError",
     "evalue": "name 'df' is not defined",
     "output_type": "error",
     "traceback": [
      "\u001B[0;31m---------------------------------------------------------------------------\u001B[0m",
      "\u001B[0;31mNameError\u001B[0m                                 Traceback (most recent call last)",
      "Cell \u001B[0;32mIn [7], line 1\u001B[0m\n\u001B[0;32m----> 1\u001B[0m file_list, file_names \u001B[38;5;241m=\u001B[39m \u001B[43mdf\u001B[49m\u001B[38;5;241m.\u001B[39mfile_name_list(\n\u001B[1;32m      2\u001B[0m \t\u001B[38;5;124m'\u001B[39m\u001B[38;5;124m/Users/hwanghyeonjun/Documents/GitHub/data/selenium/암호화폐\u001B[39m\u001B[38;5;124m'\u001B[39m\n\u001B[1;32m      3\u001B[0m \t, \u001B[38;5;124m'\u001B[39m\u001B[38;5;124mcsv\u001B[39m\u001B[38;5;124m'\u001B[39m\n\u001B[1;32m      4\u001B[0m \t, \u001B[38;5;124m'\u001B[39m\u001B[38;5;124m_Bithumb_내역\u001B[39m\u001B[38;5;124m'\u001B[39m\n\u001B[1;32m      5\u001B[0m )\n\u001B[1;32m      6\u001B[0m df_list \u001B[38;5;241m=\u001B[39m df\u001B[38;5;241m.\u001B[39mdata_format_change(file_list)\n\u001B[1;32m      7\u001B[0m df\u001B[38;5;241m.\u001B[39mdataframe_save(\n\u001B[1;32m      8\u001B[0m \tdf_list\n\u001B[1;32m      9\u001B[0m \t, file_names\n\u001B[1;32m     10\u001B[0m \t, \u001B[38;5;124m'\u001B[39m\u001B[38;5;124m/Users/hwanghyeonjun/Documents/GitHub/data/selenium\u001B[39m\u001B[38;5;124m'\u001B[39m\n\u001B[1;32m     11\u001B[0m )\n",
      "\u001B[0;31mNameError\u001B[0m: name 'df' is not defined"
     ]
    }
   ],
   "source": [
    "file_list, file_names = file_name_list(\n",
    "\t'/Users/hwanghyeonjun/Documents/GitHub/data/selenium/암호화폐'\n",
    "\t, 'csv'\n",
    "\t, '_Bithumb_내역'\n",
    ")\n",
    "df_list = data_format_change(file_list)\n",
    "dataframe_save(\n",
    "\tdf_list\n",
    "\t, file_names\n",
    "\t, '/Users/hwanghyeonjun/Documents/GitHub/data/selenium'\n",
    ")"
   ],
   "metadata": {
    "collapsed": false
   }
  },
  {
   "cell_type": "code",
   "execution_count": null,
   "outputs": [],
   "source": [],
   "metadata": {
    "collapsed": false
   }
  }
 ],
 "metadata": {
  "kernelspec": {
   "display_name": "Python 3",
   "language": "python",
   "name": "python3"
  },
  "language_info": {
   "codemirror_mode": {
    "name": "ipython",
    "version": 2
   },
   "file_extension": ".py",
   "mimetype": "text/x-python",
   "name": "python",
   "nbconvert_exporter": "python",
   "pygments_lexer": "ipython2",
   "version": "2.7.6"
  }
 },
 "nbformat": 4,
 "nbformat_minor": 0
}
