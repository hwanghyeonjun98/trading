{
 "cells": [
  {
   "cell_type": "code",
   "execution_count": 6,
   "metadata": {
    "collapsed": true
   },
   "outputs": [],
   "source": [
    "from module.df_format_change import file_name_list, data_format_change"
   ]
  },
  {
   "cell_type": "code",
   "execution_count": 36,
   "outputs": [],
   "source": [
    "file_list, file_names = file_name_list(\n",
    "\t'/Users/hwanghyeonjun/Documents/GitHub/data/selenium/세계지수'\n",
    "\t, 'csv'\n",
    ")\n",
    "df_list = data_format_change(file_list)\n",
    "# df_save(\n",
    "# \tdf_list\n",
    "# \t, file_names\n",
    "# \t, '/Users/hwanghyeonjun/Documents/GitHub/data/selenium'\n",
    "# )"
   ],
   "metadata": {
    "collapsed": false
   }
  },
  {
   "cell_type": "code",
   "execution_count": null,
   "outputs": [],
   "source": [],
   "metadata": {
    "collapsed": false
   }
  }
 ],
 "metadata": {
  "kernelspec": {
   "display_name": "Python 3",
   "language": "python",
   "name": "python3"
  },
  "language_info": {
   "codemirror_mode": {
    "name": "ipython",
    "version": 2
   },
   "file_extension": ".py",
   "mimetype": "text/x-python",
   "name": "python",
   "nbconvert_exporter": "python",
   "pygments_lexer": "ipython2",
   "version": "2.7.6"
  }
 },
 "nbformat": 4,
 "nbformat_minor": 0
}
