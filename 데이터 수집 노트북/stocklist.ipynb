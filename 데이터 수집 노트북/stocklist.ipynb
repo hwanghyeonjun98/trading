{
 "cells": [
  {
   "cell_type": "code",
   "execution_count": 15,
   "metadata": {
    "collapsed": true
   },
   "outputs": [],
   "source": [
    "import sys\n",
    "\n",
    "sys.path.append('/Users/hwanghyeonjun/Documents/GitHub/trading')\n",
    "import pymysql\n",
    "import numpy as np\n",
    "import pandas as pd\n",
    "from module.data_sql_load import *"
   ]
  },
  {
   "cell_type": "code",
   "execution_count": 11,
   "outputs": [
    {
     "data": {
      "text/plain": "           표준코드    단축코드        한글 종목명  한글 종목약명  \\\n0  KR7098120009  098120  (주)마이크로컨텍솔루션  마이크로컨텍솔   \n\n                            영문 종목명         상장일    시장구분 증권구분    소속부 주식종류  액면가  \\\n0  Micro Contact Solution Co.,Ltd.  2008/09/23  KOSDAQ   주권  벤처기업부  보통주  500   \n\n     상장주식수  \n0  8312766  ",
      "text/html": "<div>\n<style scoped>\n    .dataframe tbody tr th:only-of-type {\n        vertical-align: middle;\n    }\n\n    .dataframe tbody tr th {\n        vertical-align: top;\n    }\n\n    .dataframe thead th {\n        text-align: right;\n    }\n</style>\n<table border=\"1\" class=\"dataframe\">\n  <thead>\n    <tr style=\"text-align: right;\">\n      <th></th>\n      <th>표준코드</th>\n      <th>단축코드</th>\n      <th>한글 종목명</th>\n      <th>한글 종목약명</th>\n      <th>영문 종목명</th>\n      <th>상장일</th>\n      <th>시장구분</th>\n      <th>증권구분</th>\n      <th>소속부</th>\n      <th>주식종류</th>\n      <th>액면가</th>\n      <th>상장주식수</th>\n    </tr>\n  </thead>\n  <tbody>\n    <tr>\n      <th>0</th>\n      <td>KR7098120009</td>\n      <td>098120</td>\n      <td>(주)마이크로컨텍솔루션</td>\n      <td>마이크로컨텍솔</td>\n      <td>Micro Contact Solution Co.,Ltd.</td>\n      <td>2008/09/23</td>\n      <td>KOSDAQ</td>\n      <td>주권</td>\n      <td>벤처기업부</td>\n      <td>보통주</td>\n      <td>500</td>\n      <td>8312766</td>\n    </tr>\n  </tbody>\n</table>\n</div>"
     },
     "execution_count": 11,
     "metadata": {},
     "output_type": "execute_result"
    }
   ],
   "source": [
    "stockList_df = pd.read_csv(\"/Users/hwanghyeonjun/Documents/GitHub/data/data_0304_20230110.csv\", encoding=\"euc-kr\")\n",
    "stockList_df.head(1)"
   ],
   "metadata": {
    "collapsed": false
   }
  },
  {
   "cell_type": "code",
   "execution_count": 12,
   "outputs": [
    {
     "data": {
      "text/plain": "     단축코드        한글 종목명  한글 종목약명                           영문 종목명    시장구분  \\\n0  098120  (주)마이크로컨텍솔루션  마이크로컨텍솔  Micro Contact Solution Co.,Ltd.  KOSDAQ   \n1  009520      (주)포스코엠텍    포스코엠텍            POSCO M-TECH CO.,LTD.  KOSDAQ   \n2  095570     AJ네트웍스보통주   AJ네트웍스             AJ Networks Co.,Ltd.   KOSPI   \n3  006840      AK홀딩스보통주    AK홀딩스                AK Holdings, Inc.   KOSPI   \n4  282330     BGF리테일보통주   BGF리테일                       BGF Retail   KOSPI   \n\n  증권구분 주식종류  \n0   주권  보통주  \n1   주권  보통주  \n2   주권  보통주  \n3   주권  보통주  \n4   주권  보통주  ",
      "text/html": "<div>\n<style scoped>\n    .dataframe tbody tr th:only-of-type {\n        vertical-align: middle;\n    }\n\n    .dataframe tbody tr th {\n        vertical-align: top;\n    }\n\n    .dataframe thead th {\n        text-align: right;\n    }\n</style>\n<table border=\"1\" class=\"dataframe\">\n  <thead>\n    <tr style=\"text-align: right;\">\n      <th></th>\n      <th>단축코드</th>\n      <th>한글 종목명</th>\n      <th>한글 종목약명</th>\n      <th>영문 종목명</th>\n      <th>시장구분</th>\n      <th>증권구분</th>\n      <th>주식종류</th>\n    </tr>\n  </thead>\n  <tbody>\n    <tr>\n      <th>0</th>\n      <td>098120</td>\n      <td>(주)마이크로컨텍솔루션</td>\n      <td>마이크로컨텍솔</td>\n      <td>Micro Contact Solution Co.,Ltd.</td>\n      <td>KOSDAQ</td>\n      <td>주권</td>\n      <td>보통주</td>\n    </tr>\n    <tr>\n      <th>1</th>\n      <td>009520</td>\n      <td>(주)포스코엠텍</td>\n      <td>포스코엠텍</td>\n      <td>POSCO M-TECH CO.,LTD.</td>\n      <td>KOSDAQ</td>\n      <td>주권</td>\n      <td>보통주</td>\n    </tr>\n    <tr>\n      <th>2</th>\n      <td>095570</td>\n      <td>AJ네트웍스보통주</td>\n      <td>AJ네트웍스</td>\n      <td>AJ Networks Co.,Ltd.</td>\n      <td>KOSPI</td>\n      <td>주권</td>\n      <td>보통주</td>\n    </tr>\n    <tr>\n      <th>3</th>\n      <td>006840</td>\n      <td>AK홀딩스보통주</td>\n      <td>AK홀딩스</td>\n      <td>AK Holdings, Inc.</td>\n      <td>KOSPI</td>\n      <td>주권</td>\n      <td>보통주</td>\n    </tr>\n    <tr>\n      <th>4</th>\n      <td>282330</td>\n      <td>BGF리테일보통주</td>\n      <td>BGF리테일</td>\n      <td>BGF Retail</td>\n      <td>KOSPI</td>\n      <td>주권</td>\n      <td>보통주</td>\n    </tr>\n  </tbody>\n</table>\n</div>"
     },
     "execution_count": 12,
     "metadata": {},
     "output_type": "execute_result"
    }
   ],
   "source": [
    "list_df = stockList_df[['단축코드', '한글 종목명', '한글 종목약명', '영문 종목명', '시장구분', '증권구분', '주식종류']]\n",
    "list_df.head()"
   ],
   "metadata": {
    "collapsed": false
   }
  },
  {
   "cell_type": "code",
   "execution_count": 13,
   "outputs": [
    {
     "name": "stderr",
     "output_type": "stream",
     "text": [
      "/var/folders/xz/4cx3hhnx0bsgz2sth0876md80000gn/T/ipykernel_27335/3130803026.py:1: SettingWithCopyWarning: \n",
      "A value is trying to be set on a copy of a slice from a DataFrame\n",
      "\n",
      "See the caveats in the documentation: https://pandas.pydata.org/pandas-docs/stable/user_guide/indexing.html#returning-a-view-versus-a-copy\n",
      "  list_df.rename(columns={\n"
     ]
    },
    {
     "data": {
      "text/plain": "  stockCode       korName korAbbrvName                          engName  \\\n0    098120  (주)마이크로컨텍솔루션      마이크로컨텍솔  Micro Contact Solution Co.,Ltd.   \n1    009520      (주)포스코엠텍        포스코엠텍            POSCO M-TECH CO.,LTD.   \n2    095570     AJ네트웍스보통주       AJ네트웍스             AJ Networks Co.,Ltd.   \n3    006840      AK홀딩스보통주        AK홀딩스                AK Holdings, Inc.   \n4    282330     BGF리테일보통주       BGF리테일                       BGF Retail   \n\n   mrkCls scrCls stockType  \n0  KOSDAQ     주권       보통주  \n1  KOSDAQ     주권       보통주  \n2   KOSPI     주권       보통주  \n3   KOSPI     주권       보통주  \n4   KOSPI     주권       보통주  ",
      "text/html": "<div>\n<style scoped>\n    .dataframe tbody tr th:only-of-type {\n        vertical-align: middle;\n    }\n\n    .dataframe tbody tr th {\n        vertical-align: top;\n    }\n\n    .dataframe thead th {\n        text-align: right;\n    }\n</style>\n<table border=\"1\" class=\"dataframe\">\n  <thead>\n    <tr style=\"text-align: right;\">\n      <th></th>\n      <th>stockCode</th>\n      <th>korName</th>\n      <th>korAbbrvName</th>\n      <th>engName</th>\n      <th>mrkCls</th>\n      <th>scrCls</th>\n      <th>stockType</th>\n    </tr>\n  </thead>\n  <tbody>\n    <tr>\n      <th>0</th>\n      <td>098120</td>\n      <td>(주)마이크로컨텍솔루션</td>\n      <td>마이크로컨텍솔</td>\n      <td>Micro Contact Solution Co.,Ltd.</td>\n      <td>KOSDAQ</td>\n      <td>주권</td>\n      <td>보통주</td>\n    </tr>\n    <tr>\n      <th>1</th>\n      <td>009520</td>\n      <td>(주)포스코엠텍</td>\n      <td>포스코엠텍</td>\n      <td>POSCO M-TECH CO.,LTD.</td>\n      <td>KOSDAQ</td>\n      <td>주권</td>\n      <td>보통주</td>\n    </tr>\n    <tr>\n      <th>2</th>\n      <td>095570</td>\n      <td>AJ네트웍스보통주</td>\n      <td>AJ네트웍스</td>\n      <td>AJ Networks Co.,Ltd.</td>\n      <td>KOSPI</td>\n      <td>주권</td>\n      <td>보통주</td>\n    </tr>\n    <tr>\n      <th>3</th>\n      <td>006840</td>\n      <td>AK홀딩스보통주</td>\n      <td>AK홀딩스</td>\n      <td>AK Holdings, Inc.</td>\n      <td>KOSPI</td>\n      <td>주권</td>\n      <td>보통주</td>\n    </tr>\n    <tr>\n      <th>4</th>\n      <td>282330</td>\n      <td>BGF리테일보통주</td>\n      <td>BGF리테일</td>\n      <td>BGF Retail</td>\n      <td>KOSPI</td>\n      <td>주권</td>\n      <td>보통주</td>\n    </tr>\n  </tbody>\n</table>\n</div>"
     },
     "execution_count": 13,
     "metadata": {},
     "output_type": "execute_result"
    }
   ],
   "source": [
    "list_df.rename(columns={\n",
    "\t'단축코드': \"stockCode\"\n",
    "\t, '한글 종목명': 'korName'\n",
    "\t, '한글 종목약명': 'korAbbrvName'\n",
    "\t, '영문 종목명': \"engName\"\n",
    "\t, '시장구분': 'mrkCls'\n",
    "\t, '증권구분': 'scrCls'\n",
    "\t, '주식종류': 'stockType'\n",
    "}, inplace=True)\n",
    "list_df.head()"
   ],
   "metadata": {
    "collapsed": false
   }
  },
  {
   "cell_type": "code",
   "execution_count": 16,
   "outputs": [
    {
     "name": "stderr",
     "output_type": "stream",
     "text": [
      "100%|██████████| 1/1 [00:04<00:00,  4.59s/it]\n"
     ]
    }
   ],
   "source": [
    "df_sql_save('admin', 'big15', '', '3306', 'web_data', [list_df], [\"stockList\"])"
   ],
   "metadata": {
    "collapsed": false
   }
  },
  {
   "cell_type": "markdown",
   "source": [],
   "metadata": {
    "collapsed": false
   }
  }
 ],
 "metadata": {
  "kernelspec": {
   "name": "ml",
   "language": "python",
   "display_name": "ml"
  },
  "language_info": {
   "codemirror_mode": {
    "name": "ipython",
    "version": 2
   },
   "file_extension": ".py",
   "mimetype": "text/x-python",
   "name": "python",
   "nbconvert_exporter": "python",
   "pygments_lexer": "ipython2",
   "version": "2.7.6"
  }
 },
 "nbformat": 4,
 "nbformat_minor": 0
}
