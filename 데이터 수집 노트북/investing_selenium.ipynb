{
 "cells": [
  {
   "cell_type": "code",
   "execution_count": 1,
   "metadata": {
    "collapsed": false
   },
   "outputs": [],
   "source": [
    "import time\n",
    "import pandas as pd\n",
    "import numpy as np\n",
    "from tqdm import tqdm"
   ]
  },
  {
   "cell_type": "code",
   "execution_count": 2,
   "metadata": {
    "collapsed": true
   },
   "outputs": [],
   "source": [
    "# 셀리움 import\n",
    "from selenium import webdriver\n",
    "from selenium.webdriver.common.by import By\n",
    "from selenium.webdriver.common.keys import Keys\n",
    "from selenium.webdriver.support.wait import WebDriverWait\n",
    "from selenium.webdriver.support import expected_conditions as EC"
   ]
  },
  {
   "cell_type": "code",
   "execution_count": 3,
   "metadata": {},
   "outputs": [
    {
     "name": "stdout",
     "output_type": "stream",
     "text": [
      "Requirement already satisfied: selenium in /Users/hwanghyeonjun/opt/miniconda3/envs/ml/lib/python3.9/site-packages (4.6.0)\r\n",
      "Requirement already satisfied: trio~=0.17 in /Users/hwanghyeonjun/opt/miniconda3/envs/ml/lib/python3.9/site-packages (from selenium) (0.22.0)\r\n",
      "Requirement already satisfied: trio-websocket~=0.9 in /Users/hwanghyeonjun/opt/miniconda3/envs/ml/lib/python3.9/site-packages (from selenium) (0.9.2)\r\n",
      "Requirement already satisfied: urllib3[socks]~=1.26 in /Users/hwanghyeonjun/opt/miniconda3/envs/ml/lib/python3.9/site-packages (from selenium) (1.26.12)\r\n",
      "Requirement already satisfied: certifi>=2021.10.8 in /Users/hwanghyeonjun/opt/miniconda3/envs/ml/lib/python3.9/site-packages (from selenium) (2022.9.24)\r\n",
      "Requirement already satisfied: exceptiongroup>=1.0.0rc9 in /Users/hwanghyeonjun/opt/miniconda3/envs/ml/lib/python3.9/site-packages (from trio~=0.17->selenium) (1.0.4)\r\n",
      "Requirement already satisfied: attrs>=19.2.0 in /Users/hwanghyeonjun/opt/miniconda3/envs/ml/lib/python3.9/site-packages (from trio~=0.17->selenium) (22.1.0)\r\n",
      "Requirement already satisfied: outcome in /Users/hwanghyeonjun/opt/miniconda3/envs/ml/lib/python3.9/site-packages (from trio~=0.17->selenium) (1.2.0)\r\n",
      "Requirement already satisfied: sortedcontainers in /Users/hwanghyeonjun/opt/miniconda3/envs/ml/lib/python3.9/site-packages (from trio~=0.17->selenium) (2.4.0)\r\n",
      "Requirement already satisfied: sniffio in /Users/hwanghyeonjun/opt/miniconda3/envs/ml/lib/python3.9/site-packages (from trio~=0.17->selenium) (1.3.0)\r\n",
      "Requirement already satisfied: idna in /Users/hwanghyeonjun/opt/miniconda3/envs/ml/lib/python3.9/site-packages (from trio~=0.17->selenium) (3.4)\r\n",
      "Requirement already satisfied: async-generator>=1.9 in /Users/hwanghyeonjun/opt/miniconda3/envs/ml/lib/python3.9/site-packages (from trio~=0.17->selenium) (1.10)\r\n",
      "Requirement already satisfied: wsproto>=0.14 in /Users/hwanghyeonjun/opt/miniconda3/envs/ml/lib/python3.9/site-packages (from trio-websocket~=0.9->selenium) (1.2.0)\r\n",
      "Requirement already satisfied: PySocks!=1.5.7,<2.0,>=1.5.6 in /Users/hwanghyeonjun/opt/miniconda3/envs/ml/lib/python3.9/site-packages (from urllib3[socks]~=1.26->selenium) (1.7.1)\r\n",
      "Requirement already satisfied: h11<1,>=0.9.0 in /Users/hwanghyeonjun/opt/miniconda3/envs/ml/lib/python3.9/site-packages (from wsproto>=0.14->trio-websocket~=0.9->selenium) (0.14.0)\r\n"
     ]
    }
   ],
   "source": [
    "!pip install selenium"
   ]
  },
  {
   "cell_type": "code",
   "execution_count": 4,
   "metadata": {
    "collapsed": false
   },
   "outputs": [],
   "source": [
    "# bs4 / 404 해결\n",
    "import urllib.request\n",
    "from bs4 import BeautifulSoup\n",
    "from urllib.request import urlopen\n",
    "from urllib.error import URLError, HTTPError\n",
    "import urllib.request"
   ]
  },
  {
   "cell_type": "code",
   "execution_count": 5,
   "metadata": {
    "collapsed": false
   },
   "outputs": [],
   "source": [
    "options = webdriver.ChromeOptions()\n",
    "\n",
    "# 크롬 파일 저장 시 경로 설정\n",
    "options.add_experimental_option(\n",
    "\t\"prefs\", {\n",
    "\t\t\"download.default_directory\": r\"//Users/hwanghyeonjun/Documents/GitHub/data/selenium\",\n",
    "\t\t\"download.prompt_for_download\": False,\n",
    "\t\t\"download.directory_upgrade\": True,\n",
    "\t\t\"safebrowsing.enabled\": True\n",
    "\t}\n",
    ")\n",
    "\n",
    "# 크롬 시크릿 모드로 실행\n",
    "options.add_argument('incognito')\n",
    "\n",
    "# user agent 설정\n",
    "user_agent = \"Chrome/71.0.3578.83\"\n",
    "options.add_argument('user-agent=' + user_agent)"
   ]
  },
  {
   "cell_type": "code",
   "execution_count": 6,
   "metadata": {
    "collapsed": false
   },
   "outputs": [
    {
     "name": "stderr",
     "output_type": "stream",
     "text": [
      "/var/folders/xz/4cx3hhnx0bsgz2sth0876md80000gn/T/ipykernel_28627/4141595889.py:2: DeprecationWarning: executable_path has been deprecated, please pass in a Service object\n",
      "  driver = webdriver.Chrome('./driver/chromedriver', options=options)\n"
     ]
    }
   ],
   "source": [
    "# MACOS 크롬 드라이버\n",
    "driver = webdriver.Chrome('./driver/chromedriver', options=options)\n",
    "driver.maximize_window()"
   ]
  },
  {
   "cell_type": "code",
   "execution_count": 7,
   "metadata": {
    "collapsed": false
   },
   "outputs": [],
   "source": [
    "'''\n",
    "\tstart_date : 시작 날짜\n",
    "\n",
    "  calender_btn : 과거 버전 캘린더 버튼\n",
    "  calender_new_btn : 최신 버전 페이지 캘린더 버튼\n",
    "\n",
    "  start_year_input : 과거 버전 캘린더 인풋\n",
    "  start_year_new_input : 최신 버전 캘린더 인풋\n",
    "\n",
    "  apply_btn : 과거 버전 적용 버튼\n",
    "  apply_new_btn : 최신 적용 버튼\n",
    "\n",
    "  csv_download_btn : 과거 버전 다운로드 버튼\n",
    "  csv_download_new_btn : 최신 버전 다운로드 버튼\n",
    "\n",
    "  =======================================================\n",
    "  임시로 주석 / 홈페이지 모바일로 되있다면 주석 풀고 실행(셀리움 코드 실행 셀에도 주식 풀기)\n",
    "  bottom_modal : 홍페이지버전이 모바일 시 하단 모달\n",
    "  bottom_mpdal_btn : 모달 닫기 버튼\n",
    "'''\n",
    "start_date = '2020-01-01'\n",
    "\n",
    "calender_btn = '.DatePickerWrapper_icon-wrap__cwTu_'\n",
    "calender_new_btn = '#flatDatePickerCanvasHol #datePickerIconWrap'\n",
    "\n",
    "start_year_input = '.NativeDateInput_root__wbgyP > input'\n",
    "start_year_new_input = '#startDate'\n",
    "\n",
    "apply_btn = 'HistoryDatePicker_apply-button__fPr_G'\n",
    "apply_new_btn = '#applyBtn'\n",
    "\n",
    "csv_download_btn = '.download-data_download-data__jxNYT > a'\n",
    "csv_download_new_btn = '#column-content > div.float_lang_base_2.downloadDataWrap > div > a'\n",
    "\n",
    "bottom_modal = '.download-app-view_download-app-view__4d6Eq'\n",
    "bottom_mpdal_btn = '.inv-button'"
   ]
  },
  {
   "cell_type": "code",
   "execution_count": 8,
   "metadata": {
    "collapsed": false
   },
   "outputs": [],
   "source": [
    "# 주요 환율 리스트\n",
    "names = ['USD', 'JPY', 'EUR', 'CNY', 'HKD', 'GBP', 'CHF', 'CAD', 'AUD', 'NZD', 'SEK', 'DKK', 'NOK', 'SAR', 'KWD', 'BHD',\n",
    "         'AED', 'THB', 'SGD', 'IDR', 'INR', 'MYR', 'PKR', 'BDT', 'PHP', 'EGP', 'MXN', 'BND']"
   ]
  },
  {
   "cell_type": "code",
   "execution_count": 9,
   "metadata": {
    "collapsed": false
   },
   "outputs": [],
   "source": [
    "# 원자재 리스트\n",
    "list = ['gold', 'crude-oil', 'silver', 'natural-gas', 'copper', 'us-wheat']"
   ]
  },
  {
   "cell_type": "code",
   "execution_count": 10,
   "metadata": {
    "collapsed": false
   },
   "outputs": [],
   "source": [
    "# 테스트 코드들\n",
    "# url = f'https://kr.investing.com/currencies/jpy-krw-historical-data'\n",
    "# driver.get(url)\n",
    "# driver.implicitly_wait(30)\n",
    "# driver.find_element(By.CSS_SELECTOR, calender_btn).click()\n",
    "# driver.find_element(By.CSS_SELECTOR, start_year_input).clear()\n",
    "# driver.implicitly_wait(1)\n",
    "# driver.find_element(By.CSS_SELECTOR, start_year_input).send_keys(start_date)\n",
    "# driver.implicitly_wait(5)\n",
    "# driver.find_element(By.CLASS_NAME, apply_btn).click()\n",
    "# time.sleep(10)\n",
    "# driver.find_element(By.CSS_SELECTOR, csv_download_btn).click()\n",
    "# driver.implicitly_wait(30)"
   ]
  },
  {
   "cell_type": "code",
   "execution_count": 11,
   "metadata": {
    "collapsed": false
   },
   "outputs": [],
   "source": [
    "# 과거 데이터 크롤링 함수\n",
    "'''\n",
    "\t인베스팅 과거 버전 페이지 크롤링 함수\n",
    "'''\n",
    "\n",
    "\n",
    "def investing_crawling(middel_url, names, start_date, suffix=''):\n",
    "\tsuffix_ = suffix\n",
    "\tprint('전체 개수 {0}개'.format(len(names)))\n",
    "\n",
    "\tsucceed = []\n",
    "\tfailed = []\n",
    "\n",
    "\t# 셀리움 실행 코드\n",
    "\tfor name in tqdm(names):\n",
    "\t\tname_ = name.lower()\n",
    "\t\ttry:\n",
    "\t\t\turl = f'https://kr.investing.com/{middel_url}/{name_}{suffix_}-historical-data'\n",
    "\n",
    "\t\t\tdriver.get(url)\n",
    "\t\t\theaders = {'User-Agent': 'Chrome/107.0.5304.87'}\n",
    "\t\t\treq = urllib.request.Request(url, headers=headers)\n",
    "\t\t\turlopen(req)\n",
    "\t\t\ttime.sleep(5)\n",
    "\n",
    "\t\t\t# 모바일 화면시 주석 풀고 실행\n",
    "\t\t\t# is_displayed_modal = driver.find_element(By.CSS_SELECTOR, bottom_modal).is_displayed()\n",
    "\t\t\t# if is_displayed_modal:\n",
    "\t\t\t# \tdriver.find_element(By.CSS_SELECTOR, bottom_mpdal_btn).click()\n",
    "\t\t\t# \tdriver.implicitly_wait(10)\n",
    "\n",
    "\t\t\tdriver.find_element(By.CSS_SELECTOR, calender_btn).click()\n",
    "\t\t\tdriver.find_element(By.CSS_SELECTOR, start_year_input).clear()\n",
    "\t\t\tdriver.implicitly_wait(1)\n",
    "\t\t\tdriver.find_element(By.CSS_SELECTOR, start_year_input).send_keys(start_date)\n",
    "\t\t\tdriver.implicitly_wait(5)\n",
    "\t\t\tdriver.find_element(By.CLASS_NAME, apply_btn).click()\n",
    "\t\t\ttime.sleep(3)\n",
    "\t\t\tdriver.find_element(By.CSS_SELECTOR, csv_download_btn).click()\n",
    "\t\t\tdriver.implicitly_wait(30)\n",
    "\t\t\tsucceed.append(name_)\n",
    "\t\texcept HTTPError as e:\n",
    "\t\t\tfailed.append(name_)\n",
    "\n",
    "\tprint('=' * 150)\n",
    "\tprint('성공 :{0}\\nerror 개수: {1}개'.format(succeed, len(succeed)))\n",
    "\tprint('=' * 150)\n",
    "\tprint('실패 :{0}\\nerror 개수: {1}개'.format(failed, len(failed)))\n",
    "\tprint('=' * 150)"
   ]
  },
  {
   "cell_type": "code",
   "execution_count": 12,
   "metadata": {
    "collapsed": false
   },
   "outputs": [],
   "source": [
    "# 과거 데이터 크롤링 함수\n",
    "'''\n",
    "\t인베스팅 최신 버전 페이지 크롤링 함수\n",
    "'''\n",
    "\n",
    "\n",
    "def investing_crawling_new(middel_url, names, start_date, suffix=''):\n",
    "\tsuffix_ = suffix\n",
    "\tprint('전체 개수 {0}개'.format(len(names)))\n",
    "\n",
    "\tsucceed = []\n",
    "\tfailed = []\n",
    "\n",
    "\t# 셀리움 실행 코드\n",
    "\tfor name in tqdm(names):\n",
    "\t\tname_ = name.lower()\n",
    "\t\ttry:\n",
    "\t\t\turl = f'https://kr.investing.com/{middel_url}/{name_}{suffix_}-historical-data'\n",
    "\n",
    "\t\t\tdriver.get(url)\n",
    "\t\t\theaders = {'User-Agent': 'Chrome/107.0.5304.87'}\n",
    "\t\t\treq = urllib.request.Request(url, headers=headers)\n",
    "\t\t\turlopen(req)\n",
    "\t\t\ttime.sleep(5)\n",
    "\n",
    "\t\t\t# 모바일 화면시 주석 풀고 실행\n",
    "\t\t\t# is_displayed_modal = driver.find_element(By.CSS_SELECTOR, bottom_modal).is_displayed()\n",
    "\t\t\t# if is_displayed_modal:\n",
    "\t\t\t# \tdriver.find_element(By.CSS_SELECTOR, bottom_mpdal_btn).click()\n",
    "\t\t\t# \tdriver.implicitly_wait(10)\n",
    "\n",
    "\t\t\tdriver.find_element(By.CSS_SELECTOR, calender_new_btn).click()\n",
    "\t\t\tdriver.find_element(By.CSS_SELECTOR, start_year_new_input).clear()\n",
    "\t\t\tdriver.implicitly_wait(1)\n",
    "\t\t\tdriver.find_element(By.CSS_SELECTOR, start_year_new_input).send_keys(start_date)\n",
    "\t\t\tdriver.implicitly_wait(5)\n",
    "\t\t\tdriver.find_element(By.CSS_SELECTOR, apply_new_btn).click()\n",
    "\t\t\ttime.sleep(3)\n",
    "\t\t\tdriver.find_element(By.CSS_SELECTOR, csv_download_new_btn).click()\n",
    "\t\t\tdriver.implicitly_wait(30)\n",
    "\t\t\tsucceed.append(name_)\n",
    "\t\texcept HTTPError as e:\n",
    "\t\t\tfailed.append(name_)\n",
    "\n",
    "\tprint('=' * 150)\n",
    "\tprint('성공 :{0}\\n성공 개수: {1}개'.format(succeed, len(succeed)))\n",
    "\tprint('=' * 150)\n",
    "\tprint('실패 :{0}\\nerror 개수: {1}개'.format(failed, len(failed)))\n",
    "\tprint('=' * 150)"
   ]
  },
  {
   "cell_type": "code",
   "execution_count": 13,
   "metadata": {
    "collapsed": false
   },
   "outputs": [
    {
     "name": "stdout",
     "output_type": "stream",
     "text": [
      "전체 개수 28개\n"
     ]
    },
    {
     "name": "stderr",
     "output_type": "stream",
     "text": [
      " 25%|██▌       | 7/28 [01:58<05:55, 16.92s/it]\n"
     ]
    },
    {
     "ename": "KeyboardInterrupt",
     "evalue": "",
     "output_type": "error",
     "traceback": [
      "\u001B[0;31m---------------------------------------------------------------------------\u001B[0m",
      "\u001B[0;31mKeyboardInterrupt\u001B[0m                         Traceback (most recent call last)",
      "Cell \u001B[0;32mIn [13], line 1\u001B[0m\n\u001B[0;32m----> 1\u001B[0m \u001B[43minvesting_crawling\u001B[49m\u001B[43m(\u001B[49m\u001B[38;5;124;43m'\u001B[39;49m\u001B[38;5;124;43mcurrencies\u001B[39;49m\u001B[38;5;124;43m'\u001B[39;49m\u001B[43m,\u001B[49m\u001B[43m \u001B[49m\u001B[43mnames\u001B[49m\u001B[43m,\u001B[49m\u001B[43m \u001B[49m\u001B[38;5;124;43m'\u001B[39;49m\u001B[38;5;124;43m2020-01-01\u001B[39;49m\u001B[38;5;124;43m'\u001B[39;49m\u001B[43m,\u001B[49m\u001B[43m \u001B[49m\u001B[38;5;124;43m'\u001B[39;49m\u001B[38;5;124;43m-krw\u001B[39;49m\u001B[38;5;124;43m'\u001B[39;49m\u001B[43m)\u001B[49m\n",
      "Cell \u001B[0;32mIn [11], line 24\u001B[0m, in \u001B[0;36minvesting_crawling\u001B[0;34m(middel_url, names, start_date, suffix)\u001B[0m\n\u001B[1;32m     22\u001B[0m req \u001B[38;5;241m=\u001B[39m urllib\u001B[38;5;241m.\u001B[39mrequest\u001B[38;5;241m.\u001B[39mRequest(url, headers\u001B[38;5;241m=\u001B[39mheaders)\n\u001B[1;32m     23\u001B[0m urlopen(req)\n\u001B[0;32m---> 24\u001B[0m \u001B[43mtime\u001B[49m\u001B[38;5;241;43m.\u001B[39;49m\u001B[43msleep\u001B[49m\u001B[43m(\u001B[49m\u001B[38;5;241;43m5\u001B[39;49m\u001B[43m)\u001B[49m\n\u001B[1;32m     26\u001B[0m \u001B[38;5;66;03m# 모바일 화면시 주석 풀고 실행\u001B[39;00m\n\u001B[1;32m     27\u001B[0m \u001B[38;5;66;03m# is_displayed_modal = driver.find_element(By.CSS_SELECTOR, bottom_modal).is_displayed()\u001B[39;00m\n\u001B[1;32m     28\u001B[0m \u001B[38;5;66;03m# if is_displayed_modal:\u001B[39;00m\n\u001B[1;32m     29\u001B[0m \u001B[38;5;66;03m# \tdriver.find_element(By.CSS_SELECTOR, bottom_mpdal_btn).click()\u001B[39;00m\n\u001B[1;32m     30\u001B[0m \u001B[38;5;66;03m# \tdriver.implicitly_wait(10)\u001B[39;00m\n\u001B[1;32m     32\u001B[0m driver\u001B[38;5;241m.\u001B[39mfind_element(By\u001B[38;5;241m.\u001B[39mCSS_SELECTOR, calender_btn)\u001B[38;5;241m.\u001B[39mclick()\n",
      "\u001B[0;31mKeyboardInterrupt\u001B[0m: "
     ]
    }
   ],
   "source": [
    "investing_crawling('currencies', names, '2020-01-01', '-krw')"
   ]
  },
  {
   "cell_type": "code",
   "execution_count": 24,
   "metadata": {
    "collapsed": false
   },
   "outputs": [
    {
     "name": "stdout",
     "output_type": "stream",
     "text": [
      "전체 개수 6개\n"
     ]
    },
    {
     "name": "stderr",
     "output_type": "stream",
     "text": [
      "  0%|          | 0/6 [00:09<?, ?it/s]\n"
     ]
    },
    {
     "ename": "ElementNotInteractableException",
     "evalue": "Message: element not interactable: element has zero size\n  (Session info: chrome=107.0.5304.107)\nStacktrace:\nBacktrace:\n\tOrdinal0 [0x00C8ACD3+2075859]\n\tOrdinal0 [0x00C1EE61+1633889]\n\tOrdinal0 [0x00B1B7BD+571325]\n\tOrdinal0 [0x00B4C059+770137]\n\tOrdinal0 [0x00B41C76+728182]\n\tOrdinal0 [0x00B6731C+881436]\n\tOrdinal0 [0x00B415BF+726463]\n\tOrdinal0 [0x00B67534+881972]\n\tOrdinal0 [0x00B7B56A+963946]\n\tOrdinal0 [0x00B67136+880950]\n\tOrdinal0 [0x00B3FEFD+720637]\n\tOrdinal0 [0x00B40F3F+724799]\n\tGetHandleVerifier [0x00F3EED2+2769538]\n\tGetHandleVerifier [0x00F30D95+2711877]\n\tGetHandleVerifier [0x00D1A03A+521194]\n\tGetHandleVerifier [0x00D18DA0+516432]\n\tOrdinal0 [0x00C2682C+1665068]\n\tOrdinal0 [0x00C2B128+1683752]\n\tOrdinal0 [0x00C2B215+1683989]\n\tOrdinal0 [0x00C36484+1729668]\n\tBaseThreadInitThunk [0x7570FA29+25]\n\tRtlGetAppContainerNamedObjectPath [0x774A7BBE+286]\n\tRtlGetAppContainerNamedObjectPath [0x774A7B8E+238]\n",
     "output_type": "error",
     "traceback": [
      "\u001B[1;31m---------------------------------------------------------------------------\u001B[0m",
      "\u001B[1;31mElementNotInteractableException\u001B[0m           Traceback (most recent call last)",
      "\u001B[1;32md:\\big15\\project-dev\\trading\\데이터 수집 노트북\\investing_selenium.ipynb 셀 14\u001B[0m in \u001B[0;36m<cell line: 1>\u001B[1;34m()\u001B[0m\n\u001B[1;32m----> <a href='vscode-notebook-cell:/d%3A/big15/project-dev/trading/%EB%8D%B0%EC%9D%B4%ED%84%B0%20%EC%88%98%EC%A7%91%20%EB%85%B8%ED%8A%B8%EB%B6%81/investing_selenium.ipynb#X15sZmlsZQ%3D%3D?line=0'>1</a>\u001B[0m investing_crawling(\u001B[39m'\u001B[39;49m\u001B[39mcommodities\u001B[39;49m\u001B[39m'\u001B[39;49m, \u001B[39mlist\u001B[39;49m, start_date)\n",
      "\u001B[1;32md:\\big15\\project-dev\\trading\\데이터 수집 노트북\\investing_selenium.ipynb 셀 14\u001B[0m in \u001B[0;36minvesting_crawling\u001B[1;34m(middel_url, names, start_date, suffix)\u001B[0m\n\u001B[0;32m     <a href='vscode-notebook-cell:/d%3A/big15/project-dev/trading/%EB%8D%B0%EC%9D%B4%ED%84%B0%20%EC%88%98%EC%A7%91%20%EB%85%B8%ED%8A%B8%EB%B6%81/investing_selenium.ipynb#X15sZmlsZQ%3D%3D?line=36'>37</a>\u001B[0m driver\u001B[39m.\u001B[39mfind_element(By\u001B[39m.\u001B[39mCLASS_NAME, apply_btn)\u001B[39m.\u001B[39mclick()\n\u001B[0;32m     <a href='vscode-notebook-cell:/d%3A/big15/project-dev/trading/%EB%8D%B0%EC%9D%B4%ED%84%B0%20%EC%88%98%EC%A7%91%20%EB%85%B8%ED%8A%B8%EB%B6%81/investing_selenium.ipynb#X15sZmlsZQ%3D%3D?line=37'>38</a>\u001B[0m time\u001B[39m.\u001B[39msleep(\u001B[39m3\u001B[39m)\n\u001B[1;32m---> <a href='vscode-notebook-cell:/d%3A/big15/project-dev/trading/%EB%8D%B0%EC%9D%B4%ED%84%B0%20%EC%88%98%EC%A7%91%20%EB%85%B8%ED%8A%B8%EB%B6%81/investing_selenium.ipynb#X15sZmlsZQ%3D%3D?line=38'>39</a>\u001B[0m driver\u001B[39m.\u001B[39;49mfind_element(By\u001B[39m.\u001B[39;49mCSS_SELECTOR, csv_download_btn)\u001B[39m.\u001B[39;49mclick()\n\u001B[0;32m     <a href='vscode-notebook-cell:/d%3A/big15/project-dev/trading/%EB%8D%B0%EC%9D%B4%ED%84%B0%20%EC%88%98%EC%A7%91%20%EB%85%B8%ED%8A%B8%EB%B6%81/investing_selenium.ipynb#X15sZmlsZQ%3D%3D?line=39'>40</a>\u001B[0m driver\u001B[39m.\u001B[39mimplicitly_wait(\u001B[39m30\u001B[39m)\n\u001B[0;32m     <a href='vscode-notebook-cell:/d%3A/big15/project-dev/trading/%EB%8D%B0%EC%9D%B4%ED%84%B0%20%EC%88%98%EC%A7%91%20%EB%85%B8%ED%8A%B8%EB%B6%81/investing_selenium.ipynb#X15sZmlsZQ%3D%3D?line=40'>41</a>\u001B[0m succeed\u001B[39m.\u001B[39mappend(name_)\n",
      "File \u001B[1;32md:\\Anaconda3\\envs\\dsin\\lib\\site-packages\\selenium\\webdriver\\remote\\webelement.py:93\u001B[0m, in \u001B[0;36mWebElement.click\u001B[1;34m(self)\u001B[0m\n\u001B[0;32m     91\u001B[0m \u001B[39mdef\u001B[39;00m \u001B[39mclick\u001B[39m(\u001B[39mself\u001B[39m) \u001B[39m-\u001B[39m\u001B[39m>\u001B[39m \u001B[39mNone\u001B[39;00m:\n\u001B[0;32m     92\u001B[0m     \u001B[39m\"\"\"Clicks the element.\"\"\"\u001B[39;00m\n\u001B[1;32m---> 93\u001B[0m     \u001B[39mself\u001B[39;49m\u001B[39m.\u001B[39;49m_execute(Command\u001B[39m.\u001B[39;49mCLICK_ELEMENT)\n",
      "File \u001B[1;32md:\\Anaconda3\\envs\\dsin\\lib\\site-packages\\selenium\\webdriver\\remote\\webelement.py:410\u001B[0m, in \u001B[0;36mWebElement._execute\u001B[1;34m(self, command, params)\u001B[0m\n\u001B[0;32m    408\u001B[0m     params \u001B[39m=\u001B[39m {}\n\u001B[0;32m    409\u001B[0m params[\u001B[39m\"\u001B[39m\u001B[39mid\u001B[39m\u001B[39m\"\u001B[39m] \u001B[39m=\u001B[39m \u001B[39mself\u001B[39m\u001B[39m.\u001B[39m_id\n\u001B[1;32m--> 410\u001B[0m \u001B[39mreturn\u001B[39;00m \u001B[39mself\u001B[39;49m\u001B[39m.\u001B[39;49m_parent\u001B[39m.\u001B[39;49mexecute(command, params)\n",
      "File \u001B[1;32md:\\Anaconda3\\envs\\dsin\\lib\\site-packages\\selenium\\webdriver\\remote\\webdriver.py:444\u001B[0m, in \u001B[0;36mWebDriver.execute\u001B[1;34m(self, driver_command, params)\u001B[0m\n\u001B[0;32m    442\u001B[0m response \u001B[39m=\u001B[39m \u001B[39mself\u001B[39m\u001B[39m.\u001B[39mcommand_executor\u001B[39m.\u001B[39mexecute(driver_command, params)\n\u001B[0;32m    443\u001B[0m \u001B[39mif\u001B[39;00m response:\n\u001B[1;32m--> 444\u001B[0m     \u001B[39mself\u001B[39;49m\u001B[39m.\u001B[39;49merror_handler\u001B[39m.\u001B[39;49mcheck_response(response)\n\u001B[0;32m    445\u001B[0m     response[\u001B[39m\"\u001B[39m\u001B[39mvalue\u001B[39m\u001B[39m\"\u001B[39m] \u001B[39m=\u001B[39m \u001B[39mself\u001B[39m\u001B[39m.\u001B[39m_unwrap_value(response\u001B[39m.\u001B[39mget(\u001B[39m\"\u001B[39m\u001B[39mvalue\u001B[39m\u001B[39m\"\u001B[39m, \u001B[39mNone\u001B[39;00m))\n\u001B[0;32m    446\u001B[0m     \u001B[39mreturn\u001B[39;00m response\n",
      "File \u001B[1;32md:\\Anaconda3\\envs\\dsin\\lib\\site-packages\\selenium\\webdriver\\remote\\errorhandler.py:249\u001B[0m, in \u001B[0;36mErrorHandler.check_response\u001B[1;34m(self, response)\u001B[0m\n\u001B[0;32m    247\u001B[0m         alert_text \u001B[39m=\u001B[39m value[\u001B[39m\"\u001B[39m\u001B[39malert\u001B[39m\u001B[39m\"\u001B[39m]\u001B[39m.\u001B[39mget(\u001B[39m\"\u001B[39m\u001B[39mtext\u001B[39m\u001B[39m\"\u001B[39m)\n\u001B[0;32m    248\u001B[0m     \u001B[39mraise\u001B[39;00m exception_class(message, screen, stacktrace, alert_text)  \u001B[39m# type: ignore[call-arg]  # mypy is not smart enough here\u001B[39;00m\n\u001B[1;32m--> 249\u001B[0m \u001B[39mraise\u001B[39;00m exception_class(message, screen, stacktrace)\n",
      "\u001B[1;31mElementNotInteractableException\u001B[0m: Message: element not interactable: element has zero size\n  (Session info: chrome=107.0.5304.107)\nStacktrace:\nBacktrace:\n\tOrdinal0 [0x00C8ACD3+2075859]\n\tOrdinal0 [0x00C1EE61+1633889]\n\tOrdinal0 [0x00B1B7BD+571325]\n\tOrdinal0 [0x00B4C059+770137]\n\tOrdinal0 [0x00B41C76+728182]\n\tOrdinal0 [0x00B6731C+881436]\n\tOrdinal0 [0x00B415BF+726463]\n\tOrdinal0 [0x00B67534+881972]\n\tOrdinal0 [0x00B7B56A+963946]\n\tOrdinal0 [0x00B67136+880950]\n\tOrdinal0 [0x00B3FEFD+720637]\n\tOrdinal0 [0x00B40F3F+724799]\n\tGetHandleVerifier [0x00F3EED2+2769538]\n\tGetHandleVerifier [0x00F30D95+2711877]\n\tGetHandleVerifier [0x00D1A03A+521194]\n\tGetHandleVerifier [0x00D18DA0+516432]\n\tOrdinal0 [0x00C2682C+1665068]\n\tOrdinal0 [0x00C2B128+1683752]\n\tOrdinal0 [0x00C2B215+1683989]\n\tOrdinal0 [0x00C36484+1729668]\n\tBaseThreadInitThunk [0x7570FA29+25]\n\tRtlGetAppContainerNamedObjectPath [0x774A7BBE+286]\n\tRtlGetAppContainerNamedObjectPath [0x774A7B8E+238]\n"
     ]
    }
   ],
   "source": [
    "investing_crawling('commodities', list, start_date)"
   ]
  },
  {
   "cell_type": "code",
   "execution_count": 28,
   "metadata": {
    "collapsed": false
   },
   "outputs": [],
   "source": [
    "# 드라이버 종료\n",
    "driver.close()"
   ]
  },
  {
   "cell_type": "code",
   "execution_count": null,
   "metadata": {
    "collapsed": false
   },
   "outputs": [],
   "source": [
    "# 세계지수 리스트 크롤링\n",
    "url = 'https://kr.investing.com/indices/major-indices'"
   ]
  },
  {
   "cell_type": "code",
   "execution_count": null,
   "metadata": {
    "collapsed": false
   },
   "outputs": [],
   "source": [
    "try:\n",
    "\theaders = {'User-Agent': 'Chrome/107.0.5304.87'}\n",
    "\treq = urllib.request.Request(url, headers=headers)\n",
    "\thtml = urlopen(req)\n",
    "except HTTPError as e:\n",
    "\terr = e.read()\n",
    "\tcode = e.getcode()\n",
    "\tprint(err, code)"
   ]
  },
  {
   "cell_type": "code",
   "execution_count": null,
   "metadata": {
    "collapsed": false
   },
   "outputs": [],
   "source": [
    "soup = BeautifulSoup(html, 'html.parser')"
   ]
  },
  {
   "cell_type": "code",
   "execution_count": null,
   "metadata": {
    "collapsed": false
   },
   "outputs": [
    {
     "data": {
      "text/plain": [
       "[<a class=\"inv-link bold datatable_cell--name__link__tmnQz\" href=\"/indices/kospi\" title=\"코스피지수\">코스피지수</a>,\n",
       " <a class=\"inv-link bold datatable_cell--name__link__tmnQz\" href=\"/indices/kospi-50\" title=\"코스피 50\">코스피 50</a>,\n",
       " <a class=\"inv-link bold datatable_cell--name__link__tmnQz\" href=\"/indices/kosdaq\" title=\"코스닥\">코스닥</a>,\n",
       " <a class=\"inv-link bold datatable_cell--name__link__tmnQz\" href=\"/indices/us-30\" title=\"다우존스\">다우존스</a>,\n",
       " <a class=\"inv-link bold datatable_cell--name__link__tmnQz\" href=\"/indices/us-spx-500\" title=\"S&amp;P 500 - (CFD)\">S&amp;P 500</a>,\n",
       " <a class=\"inv-link bold datatable_cell--name__link__tmnQz\" href=\"/indices/nasdaq-composite\" title=\"나스닥종합지수\">나스닥종합지수</a>,\n",
       " <a class=\"inv-link bold datatable_cell--name__link__tmnQz\" href=\"/indices/smallcap-2000\" title=\"러셀 2000 지수 - (CFD)\">러셀 2000</a>,\n",
       " <a class=\"inv-link bold datatable_cell--name__link__tmnQz\" href=\"/indices/volatility-s-p-500\" title=\"CBOE Volatility Index - (CFD)\">CBOE VIX</a>,\n",
       " <a class=\"inv-link bold datatable_cell--name__link__tmnQz\" href=\"/indices/s-p-tsx-composite\" title=\" 캐나다 S&amp;P/TSX\"> 캐나다 S&amp;P/TSX</a>,\n",
       " <a class=\"inv-link bold datatable_cell--name__link__tmnQz\" href=\"/indices/bovespa\" title=\"브라질 보베스파\">브라질 보베스파</a>,\n",
       " <a class=\"inv-link bold datatable_cell--name__link__tmnQz\" href=\"/indices/ipc\" title=\"S&amp;P/BMV IPC\">S&amp;P/BMV IPC</a>,\n",
       " <a class=\"inv-link bold datatable_cell--name__link__tmnQz\" href=\"/indices/germany-30\" title=\"DAX - (CFD)\">DAX</a>,\n",
       " <a class=\"inv-link bold datatable_cell--name__link__tmnQz\" href=\"/indices/uk-100\" title=\"영국 FTSE - (CFD)\">영국 FTSE</a>,\n",
       " <a class=\"inv-link bold datatable_cell--name__link__tmnQz\" href=\"/indices/france-40\" title=\"프랑스 CAC\">프랑스 CAC</a>,\n",
       " <a class=\"inv-link bold datatable_cell--name__link__tmnQz\" href=\"/indices/eu-stoxx50\" title=\"유로 스톡스 50 - (CFD)\">유로 스톡스 50</a>,\n",
       " <a class=\"inv-link bold datatable_cell--name__link__tmnQz\" href=\"/indices/netherlands-25\" title=\"네덜란드 AEX\">네덜란드 AEX</a>,\n",
       " <a class=\"inv-link bold datatable_cell--name__link__tmnQz\" href=\"/indices/spain-35\" title=\"스페인 IBEX - (CFD)\">스페인 IBEX</a>,\n",
       " <a class=\"inv-link bold datatable_cell--name__link__tmnQz\" href=\"/indices/it-mib-40\" title=\"이탈리아 FTSE MIB - (CFD)\">이탈리아 FTSE MIB</a>,\n",
       " <a class=\"inv-link bold datatable_cell--name__link__tmnQz\" href=\"/indices/switzerland-20\" title=\"스위스 SMI - (CFD)\">스위스 SMI</a>,\n",
       " <a class=\"inv-link bold datatable_cell--name__link__tmnQz\" href=\"/indices/psi-20\" title=\"PSI\">PSI</a>,\n",
       " <a class=\"inv-link bold datatable_cell--name__link__tmnQz\" href=\"/indices/bel-20\" title=\"벨기에 BEL - (CFD)\">벨기에 BEL</a>,\n",
       " <a class=\"inv-link bold datatable_cell--name__link__tmnQz\" href=\"/indices/atx\" title=\"ATX\">ATX</a>,\n",
       " <a class=\"inv-link bold datatable_cell--name__link__tmnQz\" href=\"/indices/omx-stockholm-30\" title=\"스웨덴 OMXS\">스웨덴 OMXS</a>,\n",
       " <a class=\"inv-link bold datatable_cell--name__link__tmnQz\" href=\"/indices/mcx\" title=\"러시아 MOEX Russia\">러시아 MOEX</a>,\n",
       " <a class=\"inv-link bold datatable_cell--name__link__tmnQz\" href=\"/indices/rtsi\" title=\"RTSI 지수\">RTSI 지수</a>,\n",
       " <a class=\"inv-link bold datatable_cell--name__link__tmnQz\" href=\"/indices/wig-20\" title=\"폴란드 WIG 20\">폴란드 WIG 20</a>,\n",
       " <a class=\"inv-link bold datatable_cell--name__link__tmnQz\" href=\"/indices/hungary-stock-market\" title=\"헝가리 BUX\">헝가리 BUX</a>,\n",
       " <a class=\"inv-link bold datatable_cell--name__link__tmnQz\" href=\"/indices/ise-100\" title=\"터키 BIST\">터키 BIST</a>,\n",
       " <a class=\"inv-link bold datatable_cell--name__link__tmnQz\" href=\"/indices/ta25\" title=\"TA 35\">TA 35</a>,\n",
       " <a class=\"inv-link bold datatable_cell--name__link__tmnQz\" href=\"/indices/tasi\" title=\"사우디아라비아 Tadawul\">사우디아라비아 Tadawul</a>,\n",
       " <a class=\"inv-link bold datatable_cell--name__link__tmnQz\" href=\"/indices/japan-ni225\" title=\"닛케이 - (CFD)\">닛케이</a>,\n",
       " <a class=\"inv-link bold datatable_cell--name__link__tmnQz\" href=\"/indices/aus-200\" title=\"호주 S&amp;P/ASX\">호주 S&amp;P/ASX</a>,\n",
       " <a class=\"inv-link bold datatable_cell--name__link__tmnQz\" href=\"/indices/shanghai-composite\" title=\"상하이종합\">상하이종합</a>,\n",
       " <a class=\"inv-link bold datatable_cell--name__link__tmnQz\" href=\"/indices/szse-component\" title=\"SZSE Component\">SZSE Component</a>,\n",
       " <a class=\"inv-link bold datatable_cell--name__link__tmnQz\" href=\"/indices/ftse-china-a50\" title=\"FTSE China A50\">China A50</a>,\n",
       " <a class=\"inv-link bold datatable_cell--name__link__tmnQz\" href=\"/indices/dj-shanghai\" title=\"Dow Jones Shanghai\">DJ Shanghai</a>,\n",
       " <a class=\"inv-link bold datatable_cell--name__link__tmnQz\" href=\"/indices/hang-sen-40\" title=\"항셍 - (CFD)\">항셍</a>,\n",
       " <a class=\"inv-link bold datatable_cell--name__link__tmnQz\" href=\"/indices/taiwan-weighted\" title=\"대만 가권\">대만 가권</a>,\n",
       " <a class=\"inv-link bold datatable_cell--name__link__tmnQz\" href=\"/indices/thailand-set\" title=\"SET Index\">SET</a>,\n",
       " <a class=\"inv-link bold datatable_cell--name__link__tmnQz\" href=\"/indices/idx-composite\" title=\"인도네시아 IDX\">인도네시아 IDX</a>,\n",
       " <a class=\"inv-link bold datatable_cell--name__link__tmnQz\" href=\"/indices/s-p-cnx-nifty\" title=\"Nifty 50\">Nifty 50</a>,\n",
       " <a class=\"inv-link bold datatable_cell--name__link__tmnQz\" href=\"/indices/sensex\" title=\"BSE 인도 센섹스 30\">인도 센섹스</a>,\n",
       " <a class=\"inv-link bold datatable_cell--name__link__tmnQz\" href=\"/indices/vn-30\" title=\"VN 30\">VN 30</a>]"
      ]
     },
     "execution_count": 53,
     "metadata": {},
     "output_type": "execute_result"
    }
   ],
   "source": [
    "stock_link = soup.select('td.datatable_cell__0y0eu.datatable_cell--name__5g25Q.table-browser_col-name__qzN_9 > div > a')\n",
    "stock_link"
   ]
  },
  {
   "cell_type": "code",
   "execution_count": null,
   "metadata": {
    "collapsed": false
   },
   "outputs": [],
   "source": [
    "indices = []\n",
    "for each in stock_link:\n",
    "\thref = each['href']\n",
    "\tindice = href.split('/')[-1]\n",
    "\tindices.append(indice)"
   ]
  },
  {
   "cell_type": "code",
   "execution_count": null,
   "metadata": {
    "collapsed": false
   },
   "outputs": [
    {
     "name": "stdout",
     "output_type": "stream",
     "text": [
      "['kospi', 'kospi-50', 'kosdaq', 'us-30', 'us-spx-500', 'nasdaq-composite', 'smallcap-2000', 'volatility-s-p-500', 's-p-tsx-composite', 'bovespa', 'ipc', 'germany-30', 'uk-100', 'france-40', 'eu-stoxx50', 'netherlands-25', 'spain-35', 'it-mib-40', 'switzerland-20', 'psi-20', 'bel-20', 'atx', 'omx-stockholm-30', 'mcx', 'rtsi', 'wig-20', 'hungary-stock-market', 'ise-100', 'ta25', 'tasi', 'japan-ni225', 'aus-200', 'shanghai-composite', 'szse-component', 'ftse-china-a50', 'dj-shanghai', 'hang-sen-40', 'taiwan-weighted', 'thailand-set', 'idx-composite', 's-p-cnx-nifty', 'sensex', 'vn-30']\n"
     ]
    }
   ],
   "source": [
    "print(indices)"
   ]
  },
  {
   "cell_type": "code",
   "execution_count": null,
   "metadata": {
    "collapsed": false
   },
   "outputs": [],
   "source": [
    "investing_crawling('indices', indices, '2020-01-01')"
   ]
  },
  {
   "cell_type": "code",
   "execution_count": null,
   "metadata": {
    "collapsed": false
   },
   "outputs": [],
   "source": [
    "# 암호화폐 크롤링\n",
    "coins = [['bitcoin', 'btc-krw'], ['ethereum', 'eth-krw'], ['xrp', 'xrp-krw']]"
   ]
  },
  {
   "cell_type": "code",
   "execution_count": null,
   "metadata": {
    "collapsed": false
   },
   "outputs": [
    {
     "name": "stderr",
     "output_type": "stream",
     "text": [
      "100%|██████████| 3/3 [00:34<00:00, 11.61s/it]\n"
     ]
    }
   ],
   "source": [
    "for coin in tqdm(coins):\n",
    "\ttry:\n",
    "\t\turl = f'https://kr.investing.com/crypto/{coin[0]}/{coin[1]}-historical-data'\n",
    "\n",
    "\t\tdriver.get(url)\n",
    "\t\theaders = {'User-Agent': 'Chrome/107.0.5304.87'}\n",
    "\t\treq = urllib.request.Request(url, headers=headers)\n",
    "\t\turlopen(req)\n",
    "\t\ttime.sleep(5)\n",
    "\t\tdriver.find_element(By.CSS_SELECTOR, calender_btn).click()\n",
    "\t\tdriver.find_element(By.CSS_SELECTOR, start_year_input).clear()\n",
    "\t\tdriver.implicitly_wait(1)\n",
    "\t\tdriver.find_element(By.CSS_SELECTOR, start_year_input).send_keys(start_date)\n",
    "\t\tdriver.implicitly_wait(5)\n",
    "\t\tdriver.find_element(By.CLASS_NAME, apply_btn).click()\n",
    "\t\ttime.sleep(3)\n",
    "\t\tdriver.find_element(By.CSS_SELECTOR, csv_download_btn).click()\n",
    "\t\tdriver.implicitly_wait(30)\n",
    "\texcept HTTPError as e:\n",
    "\t\tpass"
   ]
  },
  {
   "cell_type": "code",
   "execution_count": null,
   "metadata": {
    "collapsed": false
   },
   "outputs": [],
   "source": [
    "driver.close()"
   ]
  },
  {
   "cell_type": "code",
   "execution_count": 10,
   "metadata": {
    "collapsed": false
   },
   "outputs": [],
   "source": [
    "# 채권\n",
    "url = 'https://kr.investing.com/rates-bonds/world-government-bonds'"
   ]
  },
  {
   "cell_type": "code",
   "execution_count": 11,
   "metadata": {
    "collapsed": false
   },
   "outputs": [],
   "source": [
    "driver.get(url)"
   ]
  },
  {
   "cell_type": "code",
   "execution_count": 12,
   "metadata": {
    "collapsed": false
   },
   "outputs": [],
   "source": [
    "try:\n",
    "\theaders = {'User-Agent': 'Chrome/107.0.5304.87'}\n",
    "\treq = urllib.request.Request(url, headers=headers)\n",
    "\thtml = urlopen(req)\n",
    "except HTTPError as e:\n",
    "\terr = e.read()\n",
    "\tcode = e.getcode()\n",
    "\tprint(err, code)\n",
    "\n",
    "soup = BeautifulSoup(html, 'html.parser')"
   ]
  },
  {
   "cell_type": "code",
   "execution_count": 23,
   "metadata": {
    "collapsed": false
   },
   "outputs": [],
   "source": [
    "# 한, 미, 일, 중 채권\n",
    "# rate_bonds_id = ['60', '1', '20', '54']\n",
    "\n",
    "# 유럽 채권\n",
    "rate_bonds_id = ['60', '1', '20', '54', '4', '40', '5', '3', '49', '9']\n",
    "rate_bonds_link = []"
   ]
  },
  {
   "cell_type": "code",
   "execution_count": 24,
   "metadata": {
    "collapsed": false
   },
   "outputs": [],
   "source": [
    "for id_ in rate_bonds_id:\n",
    "\trate_bond = soup.select(f'#rates_bonds_table_{id_} td.bold.left.noWrap.elp.plusIconTd > a')\n",
    "\ttime.sleep(0.5)\n",
    "\trate_bonds_link.extend(rate_bond)\n"
   ]
  },
  {
   "cell_type": "code",
   "execution_count": 25,
   "metadata": {
    "collapsed": false
   },
   "outputs": [
    {
     "data": {
      "text/plain": "[<a href=\"/rates-bonds/south-korea-1-year-bond-yield\" title=\"한국 1년\">한국 1년</a>,\n <a href=\"/rates-bonds/south-korea-2-year-bond-yield\" title=\"한국 2년\">한국 2년</a>,\n <a href=\"/rates-bonds/south-korea-3-year-bond-yield\" title=\"한국 3년\">한국 3년</a>,\n <a href=\"/rates-bonds/south-korea-4-year-bond-yield\" title=\"한국 4년\">한국 4년</a>,\n <a href=\"/rates-bonds/south-korea-5-year-bond-yield\" title=\"한국 5년\">한국 5년</a>,\n <a href=\"/rates-bonds/south-korea-10-year-bond-yield\" title=\"한국 10년\">한국 10년</a>,\n <a href=\"/rates-bonds/south-korea-20-year-bond-yield\" title=\"한국 20년\">한국 20년</a>,\n <a href=\"/rates-bonds/south-korea-30-year\" title=\"한국 30년\">한국 30년</a>,\n <a href=\"/rates-bonds/south-korea-50-year\" title=\"한국 50년\">한국 50년</a>,\n <a href=\"/rates-bonds/u.s.-1-month-bond-yield\" title=\"미국 1개월\">미국 1개월</a>,\n <a href=\"/rates-bonds/u.s.-3-month-bond-yield\" title=\"미국 3개월\">미국 3개월</a>,\n <a href=\"/rates-bonds/u.s.-6-month-bond-yield\" title=\"미국 6개월\">미국 6개월</a>,\n <a href=\"/rates-bonds/u.s.-1-year-bond-yield\" title=\"미국 1년\">미국 1년</a>,\n <a href=\"/rates-bonds/u.s.-2-year-bond-yield\" title=\"미국 2년\">미국 2년</a>,\n <a href=\"/rates-bonds/u.s.-3-year-bond-yield\" title=\"미국 3년\">미국 3년</a>,\n <a href=\"/rates-bonds/u.s.-5-year-bond-yield\" title=\"미국 5년\">미국 5년</a>,\n <a href=\"/rates-bonds/u.s.-7-year-bond-yield\" title=\"미국 7년\">미국 7년</a>,\n <a href=\"/rates-bonds/u.s.-10-year-bond-yield\" title=\"미국 10년물 국채 금리 \">미국 10년물 국채 금리</a>,\n <a href=\"/rates-bonds/us-20-year-bond-yield\" title=\"미국 20년\">미국 20년</a>,\n <a href=\"/rates-bonds/u.s.-30-year-bond-yield\" title=\"미국 30년\">미국 30년</a>,\n <a href=\"/rates-bonds/japan-1-month\" title=\"일본 1개월\">일본 1개월</a>,\n <a href=\"/rates-bonds/japan-3-month-bond-yield\" title=\"일본 3개월\">일본 3개월</a>,\n <a href=\"/rates-bonds/japan-6-month-bond-yield\" title=\"일본 6개월\">일본 6개월</a>,\n <a href=\"/rates-bonds/japan-9-month\" title=\"일본 9개월\">일본 9개월</a>,\n <a href=\"/rates-bonds/japan-1-year-bond-yield\" title=\"일본 1년\">일본 1년</a>,\n <a href=\"/rates-bonds/japan-2-year-bond-yield\" title=\"일본 2년\">일본 2년</a>,\n <a href=\"/rates-bonds/japan-3-year-bond-yield\" title=\"일본 3년\">일본 3년</a>,\n <a href=\"/rates-bonds/japan-4-year-bond-yield\" title=\"일본 4년\">일본 4년</a>,\n <a href=\"/rates-bonds/japan-5-year-bond-yield\" title=\"일본 5년\">일본 5년</a>,\n <a href=\"/rates-bonds/japan-6-year-bond-yield\" title=\"일본 6년\">일본 6년</a>,\n <a href=\"/rates-bonds/japan-7-year-bond-yield\" title=\"일본 7년\">일본 7년</a>,\n <a href=\"/rates-bonds/japan-8-year-bond-yield\" title=\"일본 8년\">일본 8년</a>,\n <a href=\"/rates-bonds/japan-9-year-bond-yield\" title=\"일본 9년\">일본 9년</a>,\n <a href=\"/rates-bonds/japan-10-year-bond-yield\" title=\"일본 10년\">일본 10년</a>,\n <a href=\"/rates-bonds/japan-15-year-bond-yield\" title=\"일본 15년\">일본 15년</a>,\n <a href=\"/rates-bonds/japan-20-year-bond-yield\" title=\"일본 20년\">일본 20년</a>,\n <a href=\"/rates-bonds/japan-30-year-bond-yield\" title=\"일본 30년\">일본 30년</a>,\n <a href=\"/rates-bonds/japan-40-year-bond-yield\" title=\"일본 40년\">일본 40년</a>,\n <a href=\"/rates-bonds/china-1-year-bond-yield\" title=\"중국 1년\">중국 1년</a>,\n <a href=\"/rates-bonds/china-2-year-bond-yield\" title=\"중국 2년\">중국 2년</a>,\n <a href=\"/rates-bonds/china-3-year-bond-yield\" title=\"중국 3년\">중국 3년</a>,\n <a href=\"/rates-bonds/china-5-year-bond-yield\" title=\"중국 5년\">중국 5년</a>,\n <a href=\"/rates-bonds/china-7-year-bond-yield\" title=\"중국 7년\">중국 7년</a>,\n <a href=\"/rates-bonds/china-10-year-bond-yield\" title=\"중국 10년\">중국 10년</a>,\n <a href=\"/rates-bonds/china-15-year-bond-yield\" title=\"중국 15년\">중국 15년</a>,\n <a href=\"/rates-bonds/china-20-year-bond-yield\" title=\"중국 20년\">중국 20년</a>,\n <a href=\"/rates-bonds/china-30-year-bond-yield\" title=\"중국 30년\">중국 30년</a>,\n <a href=\"/rates-bonds/germany-3-month-bond-yield\" title=\"Germany 3 Month\">Germany 3M</a>,\n <a href=\"/rates-bonds/germany-6-month-bond-yield\" title=\"독일 6개월\">독일 6개월</a>,\n <a href=\"/rates-bonds/germany-9-month-bond-yield\" title=\"독일 9개월\">독일 9개월</a>,\n <a href=\"/rates-bonds/germany-1-year-bond-yield\" title=\"독일 1년\">독일 1년</a>,\n <a href=\"/rates-bonds/germany-2-year-bond-yield\" title=\"독일 2년\">독일 2년</a>,\n <a href=\"/rates-bonds/germany-3-year-bond-yield\" title=\"독일 3년\">독일 3년</a>,\n <a href=\"/rates-bonds/germany-4-year-bond-yield\" title=\"독일 4년\">독일 4년</a>,\n <a href=\"/rates-bonds/germany-5-year-bond-yield\" title=\"독일 5년\">독일 5년</a>,\n <a href=\"/rates-bonds/germany-6-year-bond-yield\" title=\"독일 6년\">독일 6년</a>,\n <a href=\"/rates-bonds/germany-7-year-bond-yield\" title=\"독일 7년\">독일 7년</a>,\n <a href=\"/rates-bonds/germany-8-year-bond-yield\" title=\"독일 8년\">독일 8년</a>,\n <a href=\"/rates-bonds/germany-9-year-bond-yield\" title=\"독일 9년\">독일 9년</a>,\n <a href=\"/rates-bonds/germany-10-year-bond-yield\" title=\"독일 10년\">독일 10년</a>,\n <a href=\"/rates-bonds/germany-15-year-bond-yield\" title=\"독일 15년\">독일 15년</a>,\n <a href=\"/rates-bonds/germany-20-year-bond-yield\" title=\"독일 20년\">독일 20년</a>,\n <a href=\"/rates-bonds/germany-25-year\" title=\"독일 25년\">독일 25년</a>,\n <a href=\"/rates-bonds/germany-30-year-bond-yield\" title=\"독일 30년\">독일 30년</a>,\n <a href=\"/rates-bonds/russia-overnight-rate\" title=\"러시아 오버나잇\">러시아 오버나잇</a>,\n <a href=\"/rates-bonds/russia-1-week-bond-yield\" title=\"러시아 1주\">러시아 1주</a>,\n <a href=\"/rates-bonds/russia-2-week-bond-yield\" title=\"러시아 2주\">러시아 2주</a>,\n <a href=\"/rates-bonds/russia-1-month-bond-yield\" title=\"러시아 1개월\">러시아 1개월</a>,\n <a href=\"/rates-bonds/russia-2-month-bond-yield\" title=\"러시아 2개월\">러시아 2개월</a>,\n <a href=\"/rates-bonds/russia-3-month-bond-yield\" title=\"러시아 3개월\">러시아 3개월</a>,\n <a href=\"/rates-bonds/russia-6-month-bond-yield\" title=\"러시아 6개월\">러시아 6개월</a>,\n <a href=\"/rates-bonds/russia-1-year-bond-yield\" title=\"러시아 1년\">러시아 1년</a>,\n <a href=\"/rates-bonds/russia-2-year-bond-yield\" title=\"러시아 2년\">러시아 2년</a>,\n <a href=\"/rates-bonds/russia-3-year-bond-yield\" title=\"러시아 3년\">러시아 3년</a>,\n <a href=\"/rates-bonds/russia-5-year-bond-yield\" title=\"러시아 5년\">러시아 5년</a>,\n <a href=\"/rates-bonds/russia-7-year\" title=\"러시아 7년\">러시아 7년</a>,\n <a href=\"/rates-bonds/russia-10-year-bond-yield\" title=\"러시아 10년\">러시아 10년</a>,\n <a href=\"/rates-bonds/russia-15-year-bond-yield\" title=\"러시아 15년\">러시아 15년</a>,\n <a href=\"/rates-bonds/russia-25-year-bond-yield\" title=\"러시아 20년\">러시아 20년</a>,\n <a href=\"/rates-bonds/switzerland-overnight-rate\" title=\"스위스 오버나잇\">스위스 오버나잇</a>,\n <a href=\"/rates-bonds/switzerland-1-week-bond-yield\" title=\"스위스 1주\">스위스 1주</a>,\n <a href=\"/rates-bonds/switzerland-1-month-bond-yield\" title=\"스위스 1개월\">스위스 1개월</a>,\n <a href=\"/rates-bonds/switzerland-2-month-bond-yield\" title=\"스위스 2개월\">스위스 2개월</a>,\n <a href=\"/rates-bonds/switzerland-3-month-bond-yield\" title=\"스위스 3개월\">스위스 3개월</a>,\n <a href=\"/rates-bonds/switzerland-6-month-bond-yield\" title=\"스위스 6개월\">스위스 6개월</a>,\n <a href=\"/rates-bonds/switzerland-1-year-bond-yield\" title=\"스위스 1년\">스위스 1년</a>,\n <a href=\"/rates-bonds/switzerland-2-year-bond-yield\" title=\"스위스 2년\">스위스 2년</a>,\n <a href=\"/rates-bonds/switzerland-3-year-bond-yield\" title=\"스위스 3년\">스위스 3년</a>,\n <a href=\"/rates-bonds/switzerland-4-year-bond-yield\" title=\"스위스 4년\">스위스 4년</a>,\n <a href=\"/rates-bonds/switzerland-5-year-bond-yield\" title=\"스위스 5년\">스위스 5년</a>,\n <a href=\"/rates-bonds/switzerland-6-year-bond-yield\" title=\"스위스 6년\">스위스 6년</a>,\n <a href=\"/rates-bonds/switzerland-7-year-bond-yield\" title=\"스위스 7년\">스위스 7년</a>,\n <a href=\"/rates-bonds/switzerland-8-year-bond-yield\" title=\"스위스 8년\">스위스 8년</a>,\n <a href=\"/rates-bonds/switzerland-9-year-bond-yield\" title=\"스위스 9년\">스위스 9년</a>,\n <a href=\"/rates-bonds/switzerland-10-year-bond-yield\" title=\"스위스 10년\">스위스 10년</a>,\n <a href=\"/rates-bonds/switzerland-15-year-bond-yield\" title=\"스위스 15년\">스위스 15년</a>,\n <a href=\"/rates-bonds/switzerland-20-year-bond-yield\" title=\"스위스 20년\">스위스 20년</a>,\n <a href=\"/rates-bonds/switzerland-30-year-bond-yield\" title=\"스위스 30년\">스위스 30년</a>,\n <a href=\"/rates-bonds/uk-1-month-bond-yield\" title=\"영국 1개월\">영국 1개월</a>,\n <a href=\"/rates-bonds/uk-3-month-bond-yield\" title=\"영국 3개월\">영국 3개월</a>,\n <a href=\"/rates-bonds/uk-6-month-bond-yield\" title=\"영국 6개월\">영국 6개월</a>,\n <a href=\"/rates-bonds/uk-1-year-bond-yield\" title=\"영국 1년\">영국 1년</a>,\n <a href=\"/rates-bonds/uk-2-year-bond-yield\" title=\"영국 2년\">영국 2년</a>,\n <a href=\"/rates-bonds/uk-3-year-bond-yield\" title=\"영국 3년\">영국 3년</a>,\n <a href=\"/rates-bonds/uk-4-year-bond-yield\" title=\"영국 4년\">영국 4년</a>,\n <a href=\"/rates-bonds/uk-5-year-bond-yield\" title=\"영국 5년\">영국 5년</a>,\n <a href=\"/rates-bonds/uk-6-year-bond-yield\" title=\"영국 6년\">영국 6년</a>,\n <a href=\"/rates-bonds/uk-7-year-bond-yield\" title=\"영국 7년\">영국 7년</a>,\n <a href=\"/rates-bonds/uk-8-year-bond-yield\" title=\"영국 8년\">영국 8년</a>,\n <a href=\"/rates-bonds/uk-9-year-bond-yield\" title=\"영국 9년\">영국 9년</a>,\n <a href=\"/rates-bonds/uk-10-year-bond-yield\" title=\"영국 10년\">영국 10년</a>,\n <a href=\"/rates-bonds/uk-12-year\" title=\"영국 12년\">영국 12년</a>,\n <a href=\"/rates-bonds/uk-15-year-bond-yield\" title=\"영국 15년\">영국 15년</a>,\n <a href=\"/rates-bonds/uk-20-year-bond-yield\" title=\"영국 20년\">영국 20년</a>,\n <a href=\"/rates-bonds/uk-25-year-bond-yield\" title=\"영국 25년\">영국 25년</a>,\n <a href=\"/rates-bonds/uk-30-year-bond-yield\" title=\"영국 30년\">영국 30년</a>,\n <a href=\"/rates-bonds/uk-40-year-bond-yield\" title=\"영국 40년\">영국 40년</a>,\n <a href=\"/rates-bonds/uk-50-year-bond-yield\" title=\"영국 50년\">영국 50년</a>,\n <a href=\"/rates-bonds/turkey-3-month-bond-yield\" title=\"터키 3개월\">터키 3개월</a>,\n <a href=\"/rates-bonds/turkey-6-month-bond-yield\" title=\"터키 6개월\">터키 6개월</a>,\n <a href=\"/rates-bonds/turkey-9-month-bond-yield\" title=\"터키 9개월\">터키 9개월</a>,\n <a href=\"/rates-bonds/turkey-1-year-bond-yield\" title=\"터키 1년\">터키 1년</a>,\n <a href=\"/rates-bonds/turkey-2-year-bond-yield\" title=\"터키 2년\">터키 2년</a>,\n <a href=\"/rates-bonds/turkey-3-year-bond-yield\" title=\"터키 3년\">터키 3년</a>,\n <a href=\"/rates-bonds/turkey-5-year-bond-yield\" title=\"터키 5년\">터키 5년</a>,\n <a href=\"/rates-bonds/turkey-10-year-bond-yield\" title=\"터키 10년\">터키 10년</a>,\n <a href=\"/rates-bonds/france-1-month-bond-yield\" title=\"프랑스 1개월\">프랑스 1개월</a>,\n <a href=\"/rates-bonds/france-3-month-bond-yield\" title=\"프랑스 3개월\">프랑스 3개월</a>,\n <a href=\"/rates-bonds/france-6-month-bond-yield\" title=\"프랑스 6개월\">프랑스 6개월</a>,\n <a href=\"/rates-bonds/france-9-month-bond-yield\" title=\"프랑스 9개월\">프랑스 9개월</a>,\n <a href=\"/rates-bonds/france-1-year-bond-yield\" title=\"프랑스 1년\">프랑스 1년</a>,\n <a href=\"/rates-bonds/france-2-year-bond-yield\" title=\"프랑스 2년\">프랑스 2년</a>,\n <a href=\"/rates-bonds/france-3-year-bond-yield\" title=\"프랑스 3년\">프랑스 3년</a>,\n <a href=\"/rates-bonds/france-4-year-bond-yield\" title=\"프랑스 4년\">프랑스 4년</a>,\n <a href=\"/rates-bonds/france-5-year-bond-yield\" title=\"프랑스 5년\">프랑스 5년</a>,\n <a href=\"/rates-bonds/france-6-year-bond-yield\" title=\"프랑스 6년\">프랑스 6년</a>,\n <a href=\"/rates-bonds/france-7-year-bond-yield\" title=\"프랑스 7년\">프랑스 7년</a>,\n <a href=\"/rates-bonds/france-8-year-bond-yield\" title=\"프랑스 8년\">프랑스 8년</a>,\n <a href=\"/rates-bonds/france-9-year-bond-yield\" title=\"프랑스 9년\">프랑스 9년</a>,\n <a href=\"/rates-bonds/france-10-year-bond-yield\" title=\"프랑스 10년\">프랑스 10년</a>,\n <a href=\"/rates-bonds/france-15-year-bond-yield\" title=\"프랑스 15년\">프랑스 15년</a>,\n <a href=\"/rates-bonds/france-20-year-bond-yield\" title=\"프랑스 20년\">프랑스 20년</a>,\n <a href=\"/rates-bonds/france-25-year\" title=\"프랑스 25년\">프랑스 25년</a>,\n <a href=\"/rates-bonds/france-30-year-bond-yield\" title=\"프랑스 30년\">프랑스 30년</a>,\n <a href=\"/rates-bonds/france-50-year-bond-yield\" title=\"프랑스 50년\">프랑스 50년</a>]"
     },
     "execution_count": 25,
     "metadata": {},
     "output_type": "execute_result"
    }
   ],
   "source": [
    "rate_bonds_link"
   ]
  },
  {
   "cell_type": "code",
   "execution_count": 26,
   "metadata": {
    "collapsed": false
   },
   "outputs": [],
   "source": [
    "rate_bonds = []\n",
    "for each in rate_bonds_link:\n",
    "\thref = each['href']\n",
    "\trate_bond = href.split('/')[-1]\n",
    "\n",
    "\trate_bonds.append(rate_bond)\n",
    "\n",
    "\tmiddel_url = href.split('/')[-2]\n"
   ]
  },
  {
   "cell_type": "code",
   "execution_count": 27,
   "metadata": {
    "collapsed": false
   },
   "outputs": [
    {
     "name": "stdout",
     "output_type": "stream",
     "text": [
      "전체 개수 145개\n"
     ]
    },
    {
     "name": "stderr",
     "output_type": "stream",
     "text": [
      "100%|██████████| 145/145 [49:43<00:00, 20.57s/it] "
     ]
    },
    {
     "name": "stdout",
     "output_type": "stream",
     "text": [
      "======================================================================================================================================================\n",
      "성공 :['south-korea-1-year-bond-yield', 'south-korea-2-year-bond-yield', 'south-korea-3-year-bond-yield', 'south-korea-4-year-bond-yield', 'south-korea-5-year-bond-yield', 'south-korea-10-year-bond-yield', 'south-korea-20-year-bond-yield', 'south-korea-30-year', 'south-korea-50-year', 'u.s.-1-month-bond-yield', 'u.s.-3-month-bond-yield', 'u.s.-6-month-bond-yield', 'u.s.-1-year-bond-yield', 'u.s.-2-year-bond-yield', 'u.s.-3-year-bond-yield', 'u.s.-5-year-bond-yield', 'u.s.-7-year-bond-yield', 'u.s.-10-year-bond-yield', 'us-20-year-bond-yield', 'u.s.-30-year-bond-yield', 'japan-1-month', 'japan-3-month-bond-yield', 'japan-6-month-bond-yield', 'japan-9-month', 'japan-1-year-bond-yield', 'japan-2-year-bond-yield', 'japan-3-year-bond-yield', 'japan-4-year-bond-yield', 'japan-5-year-bond-yield', 'japan-6-year-bond-yield', 'japan-7-year-bond-yield', 'japan-8-year-bond-yield', 'japan-9-year-bond-yield', 'japan-10-year-bond-yield', 'japan-15-year-bond-yield', 'japan-20-year-bond-yield', 'japan-30-year-bond-yield', 'japan-40-year-bond-yield', 'china-1-year-bond-yield', 'china-2-year-bond-yield', 'china-3-year-bond-yield', 'china-5-year-bond-yield', 'china-7-year-bond-yield', 'china-10-year-bond-yield', 'china-15-year-bond-yield', 'china-20-year-bond-yield', 'china-30-year-bond-yield', 'germany-3-month-bond-yield', 'germany-6-month-bond-yield', 'germany-9-month-bond-yield', 'germany-1-year-bond-yield', 'germany-2-year-bond-yield', 'germany-3-year-bond-yield', 'germany-4-year-bond-yield', 'germany-5-year-bond-yield', 'germany-6-year-bond-yield', 'germany-7-year-bond-yield', 'germany-8-year-bond-yield', 'germany-9-year-bond-yield', 'germany-10-year-bond-yield', 'germany-15-year-bond-yield', 'germany-20-year-bond-yield', 'germany-25-year', 'germany-30-year-bond-yield', 'russia-overnight-rate', 'russia-1-week-bond-yield', 'russia-2-week-bond-yield', 'russia-1-month-bond-yield', 'russia-2-month-bond-yield', 'russia-3-month-bond-yield', 'russia-6-month-bond-yield', 'russia-1-year-bond-yield', 'russia-2-year-bond-yield', 'russia-3-year-bond-yield', 'russia-5-year-bond-yield', 'russia-7-year', 'russia-10-year-bond-yield', 'russia-15-year-bond-yield', 'russia-25-year-bond-yield', 'switzerland-overnight-rate', 'switzerland-1-week-bond-yield', 'switzerland-1-month-bond-yield', 'switzerland-2-month-bond-yield', 'switzerland-3-month-bond-yield', 'switzerland-6-month-bond-yield', 'switzerland-1-year-bond-yield', 'switzerland-2-year-bond-yield', 'switzerland-3-year-bond-yield', 'switzerland-4-year-bond-yield', 'switzerland-5-year-bond-yield', 'switzerland-6-year-bond-yield', 'switzerland-7-year-bond-yield', 'switzerland-8-year-bond-yield', 'switzerland-9-year-bond-yield', 'switzerland-10-year-bond-yield', 'switzerland-15-year-bond-yield', 'switzerland-20-year-bond-yield', 'switzerland-30-year-bond-yield', 'uk-1-month-bond-yield', 'uk-3-month-bond-yield', 'uk-6-month-bond-yield', 'uk-1-year-bond-yield', 'uk-2-year-bond-yield', 'uk-3-year-bond-yield', 'uk-4-year-bond-yield', 'uk-5-year-bond-yield', 'uk-6-year-bond-yield', 'uk-7-year-bond-yield', 'uk-8-year-bond-yield', 'uk-9-year-bond-yield', 'uk-10-year-bond-yield', 'uk-12-year', 'uk-15-year-bond-yield', 'uk-20-year-bond-yield', 'uk-25-year-bond-yield', 'uk-30-year-bond-yield', 'uk-40-year-bond-yield', 'uk-50-year-bond-yield', 'turkey-3-month-bond-yield', 'turkey-6-month-bond-yield', 'turkey-9-month-bond-yield', 'turkey-1-year-bond-yield', 'turkey-2-year-bond-yield', 'turkey-3-year-bond-yield', 'turkey-5-year-bond-yield', 'turkey-10-year-bond-yield', 'france-1-month-bond-yield', 'france-3-month-bond-yield', 'france-6-month-bond-yield', 'france-9-month-bond-yield', 'france-1-year-bond-yield', 'france-2-year-bond-yield', 'france-3-year-bond-yield', 'france-4-year-bond-yield', 'france-5-year-bond-yield', 'france-6-year-bond-yield', 'france-7-year-bond-yield', 'france-8-year-bond-yield', 'france-9-year-bond-yield', 'france-10-year-bond-yield', 'france-15-year-bond-yield', 'france-20-year-bond-yield', 'france-25-year', 'france-30-year-bond-yield', 'france-50-year-bond-yield']\n",
      "성공 개수: 145개\n",
      "======================================================================================================================================================\n",
      "실패 :[]\n",
      "error 개수: 0개\n",
      "======================================================================================================================================================\n"
     ]
    },
    {
     "name": "stderr",
     "output_type": "stream",
     "text": [
      "\n"
     ]
    }
   ],
   "source": [
    "investing_crawling_new(middel_url, rate_bonds, start_date)"
   ]
  },
  {
   "cell_type": "code",
   "execution_count": 21,
   "metadata": {
    "collapsed": false
   },
   "outputs": [],
   "source": [
    "# 유럽 채권\n",
    "url = 'https://kr.investing.com/rates-bonds/european-government-bonds?maturity_from=10&maturity_to=310'\n",
    "try:\n",
    "\theaders = {'User-Agent': 'Chrome/107.0.5304.87'}\n",
    "\treq = urllib.request.Request(url, headers=headers)\n",
    "\thtml = urlopen(req)\n",
    "except HTTPError as e:\n",
    "\terr = e.read()\n",
    "\tcode = e.getcode()\n",
    "\tprint(err, code)\n",
    "\n",
    "soup = BeautifulSoup(html, 'html.parser')"
   ]
  },
  {
   "cell_type": "code",
   "execution_count": 22,
   "metadata": {
    "collapsed": false
   },
   "outputs": [],
   "source": [
    "rate_bonds_link = soup.select(f'td.bold.left.noWrap.elp.plusIconTd > a')"
   ]
  },
  {
   "cell_type": "code",
   "execution_count": 23,
   "metadata": {
    "collapsed": false
   },
   "outputs": [],
   "source": [
    "rate_bonds = []\n",
    "for each in rate_bonds_link:\n",
    "\thref = each['href']\n",
    "\trate_bond = href.split('/')[-1]\n",
    "\n",
    "\trate_bonds.append(rate_bond)\n",
    "\n",
    "\tmiddel_url = href.split('/')[-2]"
   ]
  },
  {
   "cell_type": "code",
   "execution_count": 24,
   "metadata": {
    "collapsed": false
   },
   "outputs": [
    {
     "data": {
      "text/plain": "['greece-7-year-bond-yield',\n 'greece-3-month-bond-yield',\n 'greece-6-month-bond-yield',\n 'greece-5-year-bond-yield',\n 'greece-10-year-bond-yield',\n 'greece-15-year-bond-yield',\n 'greece-3-year-bond-yield',\n 'netherlands-1-month',\n 'netherlands-3-month-bond-yield',\n 'netherlands-6-month-bond-yield',\n 'netherlands-2-year-bond-yield',\n 'netherlands-3-year-bond-yield',\n 'netherlands-4-year-bond-yield',\n 'netherlands-5-year-bond-yield',\n 'netherlands-6-year-bond-yield',\n 'netherlands-7-year-bond-yield',\n 'netherlands-8-year-bond-yield',\n 'netherlands-9-year-bond-yield',\n 'netherlands-10-year-bond-yield',\n 'netherlands-15-year',\n 'netherlands-20-year-bond-yield',\n 'netherlands-25-year',\n 'netherlands-30-year-bond-yield',\n 'norway-3-month-bond-yield',\n 'norway-6-month-bond-yield',\n 'norway-9-month-bond-yield',\n 'norway-1-year-bond-yield',\n 'norway-3-year-bond-yield',\n 'norway-5-year-bond-yield',\n 'norway-10-year-bond-yield',\n 'germany-3-month-bond-yield',\n 'germany-6-month-bond-yield',\n 'germany-9-month-bond-yield',\n 'germany-1-year-bond-yield',\n 'germany-2-year-bond-yield',\n 'germany-3-year-bond-yield',\n 'germany-4-year-bond-yield',\n 'germany-5-year-bond-yield',\n 'germany-6-year-bond-yield',\n 'germany-7-year-bond-yield',\n 'germany-8-year-bond-yield',\n 'germany-9-year-bond-yield',\n 'germany-10-year-bond-yield',\n 'germany-15-year-bond-yield',\n 'germany-20-year-bond-yield',\n 'germany-25-year',\n 'germany-30-year-bond-yield',\n 'russia-overnight-rate',\n 'russia-1-week-bond-yield',\n 'russia-2-week-bond-yield',\n 'russia-1-month-bond-yield',\n 'russia-2-month-bond-yield',\n 'russia-3-month-bond-yield',\n 'russia-6-month-bond-yield',\n 'russia-1-year-bond-yield',\n 'russia-2-year-bond-yield',\n 'russia-3-year-bond-yield',\n 'russia-5-year-bond-yield',\n 'russia-7-year',\n 'russia-10-year-bond-yield',\n 'russia-15-year-bond-yield',\n 'russia-25-year-bond-yield',\n 'romania-6-month-bond-yield',\n 'romania-1-year-bond-yield',\n 'romania-2-year',\n 'romania-3-year-bond-yield',\n 'romania-4-year',\n 'romania-5-year-bond-yield',\n 'romania-7-year',\n 'romania-10-year-bond-yield',\n 'malta-1-month',\n 'malta-3-month',\n 'malta-6-month',\n 'malta-1-year',\n 'malta-3-year',\n 'malta-5-year',\n 'malta-10-year',\n 'malta-20-year',\n 'malta-25-year',\n 'belgium-1-month',\n 'belguim-3-month-bond-yield',\n 'belguim-6-month-bond-yield',\n 'belgium-9-month',\n 'belguim-1-year-bond-yield',\n 'belguim-2-year-bond-yield',\n 'belguim-3-year-bond-yield',\n 'belguim-4-year-bond-yield',\n 'belguim-5-year-bond-yield',\n 'belguim-6-year-bond-yield',\n 'belguim-7-year-bond-yield',\n 'belguim-8-year-bond-yield',\n 'belguim-9-year-bond-yield',\n 'belguim-10-year-bond-yield',\n 'belguim-15-year-bond-yield',\n 'belguim-20-year-bond-yield',\n 'bulgaria-1-month-bond-yield',\n 'bulgaria-1-year-bond-yield',\n 'bulgaria-2-year-bond-yield',\n 'bulgaria-3-year-bond-yield',\n 'bulgaria-4-year-bond-yield',\n 'bulgaria-5-year-bond-yield',\n 'bulgaria-10-year-bond-yield',\n 'serbia-1-year',\n 'serbia-2-year',\n 'serbia-3-year',\n 'serbia-7-year',\n 'serbia-10-year',\n 'sweden-1-month-bond-yield',\n 'sweden-2-month-bond-yield',\n 'sweden-3-month-bond-yield',\n 'sweden-6-month-bond-yield',\n 'sweden-2-year-bond-yield',\n 'sweden-5-year-bond-yield',\n 'sweden-7-year',\n 'sweden-10-year-bond-yield',\n 'sweden-6-year-bond-yield',\n 'switzerland-overnight-rate',\n 'switzerland-1-week-bond-yield',\n 'switzerland-1-month-bond-yield',\n 'switzerland-2-month-bond-yield',\n 'switzerland-3-month-bond-yield',\n 'switzerland-6-month-bond-yield',\n 'switzerland-1-year-bond-yield',\n 'switzerland-2-year-bond-yield',\n 'switzerland-3-year-bond-yield',\n 'switzerland-4-year-bond-yield',\n 'switzerland-5-year-bond-yield',\n 'switzerland-6-year-bond-yield',\n 'switzerland-7-year-bond-yield',\n 'switzerland-8-year-bond-yield',\n 'switzerland-9-year-bond-yield',\n 'switzerland-10-year-bond-yield',\n 'switzerland-15-year-bond-yield',\n 'switzerland-20-year-bond-yield',\n 'switzerland-30-year-bond-yield',\n 'spain-1-month',\n 'spain-3-month-bond-yield',\n 'spain-6-month-bond-yield',\n 'spain-9-month',\n 'spain-1-year-bond-yield',\n 'spain-2-year-bond-yield',\n 'spain-3-year-bond-yield',\n 'spain-4-year-bond-yield',\n 'spain-5-year-bond-yield',\n 'spain-6-year-bond-yield',\n 'spain-7-year-bond-yield',\n 'spain-8-year-bond-yield',\n 'spain-9-year-bond-yield',\n 'spain-10-year-bond-yield',\n 'spain-15-year-bond-yield',\n 'spain-20-year-bond-yield',\n 'spain-25-year',\n 'spain-30-year-bond-yield',\n 'slovakia-2-year-bond-yield',\n 'slovakia-5-year-bond-yield',\n 'slovakia-6-year',\n 'slovakia-8-year-bond-yield',\n 'slovakia-9-year',\n 'slovakia-10-year',\n 'slovakia-13-year',\n 'slovakia-18-year',\n 'slovakia-30-year',\n 'slovakia-50-year',\n 'slovenia-1-year',\n 'slovenia-3-year',\n 'slovenia-5-year-bond-yield',\n 'slovenia-7-year',\n 'slovenia-8-year',\n 'slovenia-10-year-bond-yield',\n 'slovenia-15-year',\n 'slovenia-20-year',\n 'slovenia-25-year',\n 'iceland-2-year-bond-yield',\n 'iceland-5-year-bond-yield',\n 'iceland-10-year-bond-yield',\n 'ireland-3-month',\n 'ireland-6-month',\n 'ireland-1-year-bond-yield',\n 'ireland-3-year-bond-yield',\n 'ireland-4-year',\n 'ireland-5-year-bond-yield',\n 'ireland-6-year',\n 'ireland-7-year-bond-yield',\n 'ireland-8-year-bond-yield',\n 'ireland-10-year-bond-yield',\n 'ireland-15-year-bond-yield',\n 'ireland-20-year-bond-yield',\n 'ireland-30-year',\n 'uk-1-month-bond-yield',\n 'uk-3-month-bond-yield',\n 'uk-6-month-bond-yield',\n 'uk-1-year-bond-yield',\n 'uk-2-year-bond-yield',\n 'uk-3-year-bond-yield',\n 'uk-4-year-bond-yield',\n 'uk-5-year-bond-yield',\n 'uk-6-year-bond-yield',\n 'uk-7-year-bond-yield',\n 'uk-8-year-bond-yield',\n 'uk-9-year-bond-yield',\n 'uk-10-year-bond-yield',\n 'uk-12-year',\n 'uk-15-year-bond-yield',\n 'uk-20-year-bond-yield',\n 'uk-25-year-bond-yield',\n 'uk-30-year-bond-yield',\n 'uk-40-year-bond-yield',\n 'uk-50-year-bond-yield',\n 'austria-1-year-bond-yield',\n 'austria-2-year-bond-yield',\n 'austria-3-year-bond-yield',\n 'austria-4-year-bond-yield',\n 'austria-5-year-bond-yield',\n 'austria-6-year-bond-yield',\n 'austria-7-year-bond-yield',\n 'austria-8-year-bond-yield',\n 'austria-9-year',\n 'austria-10-year-bond-yield',\n 'austria-15-year-bond-yield',\n 'austria-9-year-bond-yield',\n 'austria-25-year-bond-yield',\n 'austria-30-year',\n 'austria-40-year',\n 'ukraine-1-year-bond-yield',\n 'ukraine-2-year-bond-yield',\n 'ukraine-3-year-bond-yield',\n 'italy-1-month',\n 'italy-3-month-bond-yield',\n 'italy-6-month-bond-yield',\n 'italy-9-month-bond-yield',\n 'italy-1-year-bond-yield',\n 'italy-2-year-bond-yield',\n 'italy-3-year-bond-yield',\n 'italy-4-year-bond-yield',\n 'italy-5-year-bond-yield',\n 'italy-6-year-bond-yield',\n 'italy-7-year-bond-yield',\n 'italy-8-year-bond-yield',\n 'italy-9-year-bond-yield',\n 'italy-10-year-bond-yield',\n 'italy-15-year-bond-yield',\n 'italy-20-year',\n 'italy-30-year',\n 'italy-50-year',\n 'czech-republic-1-year-bond-yield',\n 'czech-republic-2-year-bond-yield',\n 'czech-republic-3-year-bond-yield',\n 'czech-republic-4-year-bond-yield',\n 'czech-republic-5-year-bond-yield',\n 'czech-republic-6-year-bond-yield',\n 'czech-republic-7-year-bond-yield',\n 'czech-republic-8-year',\n 'czech-republic-9-year-bond-yield',\n 'czech-republic-10-year-bond-yield',\n 'czech-republic-15-year-bond-yield',\n 'czech-republic-20-year',\n 'czech-republic-50-year-bond-yield',\n 'croatia-1-year-bond-yield',\n 'croatia-3-year-bond-yield',\n 'croatia-5-year-bond-yield',\n 'croatia-10-year-bond-yield',\n 'cyprus-2-year-bond-yield',\n 'cyprus-3-year-bond-yield',\n 'cyprus-5-year-bond-yield',\n 'cyprus-7-year-bond-yield',\n 'cyprus-10-year',\n 'turkey-3-month-bond-yield',\n 'turkey-6-month-bond-yield',\n 'turkey-9-month-bond-yield',\n 'turkey-1-year-bond-yield',\n 'turkey-2-year-bond-yield',\n 'turkey-3-year-bond-yield',\n 'turkey-5-year-bond-yield',\n 'turkey-10-year-bond-yield',\n 'portugal-3-month',\n 'portugal-6-months-bond-yield',\n 'portugal-1-year',\n 'portugal-2-year-bond-yield',\n 'portugal-3-year-bond-yield',\n 'portugal-4-year-bond-yield',\n 'portugal-5-year-bond-yield',\n 'portugal-6-year-bond-yield',\n 'portugal-7-year-bond-yield',\n 'portugal-8-year-bond-yield',\n 'portugal-9-year-bond-yield',\n 'portugal-10-year-bond-yield',\n 'portugal-15-year-bond-yield',\n 'portugal-30-year-bond-yield',\n 'portugal-30-year',\n 'poland-overnight-rate',\n 'poland-1-month-bond-yield',\n 'poland-2-month-bond-yield',\n 'poland-1-year-bond-yield',\n 'poland-2-year-bond-yield',\n 'poland-3-year-bond-yield',\n 'poland-4-year-bond-yield',\n 'poland-5-year-bond-yield',\n 'poland-6-year-bond-yield',\n 'poland-7-year-bond-yield',\n 'poland-9-year-bond-yield',\n 'poland-10-year-bond-yield',\n 'france-1-month-bond-yield',\n 'france-3-month-bond-yield',\n 'france-6-month-bond-yield',\n 'france-9-month-bond-yield',\n 'france-1-year-bond-yield',\n 'france-2-year-bond-yield',\n 'france-3-year-bond-yield',\n 'france-4-year-bond-yield',\n 'france-5-year-bond-yield',\n 'france-6-year-bond-yield',\n 'france-7-year-bond-yield',\n 'france-8-year-bond-yield',\n 'france-9-year-bond-yield',\n 'france-10-year-bond-yield',\n 'france-15-year-bond-yield',\n 'france-20-year-bond-yield',\n 'france-25-year',\n 'france-30-year-bond-yield',\n 'france-50-year-bond-yield',\n 'finland-2-year-bond-yield',\n 'finland-3-year-bond-yield',\n 'finland-4-year-bond-yield',\n 'finland-5-year-bond-yield',\n 'finland-6-year-bond-yield',\n 'finland-8-year-bond-yield',\n 'finland-10-year-bond-yield',\n 'finland-15-year-bond-yield',\n 'finland-30-year',\n 'hungary-3-month-bond-yield',\n 'hungary-6-month-bond-yield',\n 'hungary-1-year-bond-yield',\n 'hungary-3-year-bond-yield',\n 'hungary-5-year-bond-yield',\n 'hungary-10-year-bond-yield',\n 'hungary-15-year-bond-yield']"
     },
     "execution_count": 24,
     "metadata": {},
     "output_type": "execute_result"
    }
   ],
   "source": [
    "rate_bonds"
   ]
  },
  {
   "cell_type": "code",
   "execution_count": null,
   "metadata": {
    "collapsed": false
   },
   "outputs": [
    {
     "name": "stdout",
     "output_type": "stream",
     "text": [
      "전체 개수 327개\n"
     ]
    },
    {
     "name": "stderr",
     "output_type": "stream",
     "text": [
      " 54%|█████▎    | 175/327 [44:44<38:51, 15.34s/it]  \n"
     ]
    },
    {
     "ename": "URLError",
     "evalue": "<urlopen error [Errno 8] nodename nor servname provided, or not known>",
     "output_type": "error",
     "traceback": [
      "\u001B[0;31m---------------------------------------------------------------------------\u001B[0m",
      "\u001B[0;31mgaierror\u001B[0m                                  Traceback (most recent call last)",
      "File \u001B[0;32m~/miniforge3/envs/ml-dev/lib/python3.9/urllib/request.py:1346\u001B[0m, in \u001B[0;36mAbstractHTTPHandler.do_open\u001B[0;34m(self, http_class, req, **http_conn_args)\u001B[0m\n\u001B[1;32m   1345\u001B[0m \u001B[38;5;28;01mtry\u001B[39;00m:\n\u001B[0;32m-> 1346\u001B[0m     \u001B[43mh\u001B[49m\u001B[38;5;241;43m.\u001B[39;49m\u001B[43mrequest\u001B[49m\u001B[43m(\u001B[49m\u001B[43mreq\u001B[49m\u001B[38;5;241;43m.\u001B[39;49m\u001B[43mget_method\u001B[49m\u001B[43m(\u001B[49m\u001B[43m)\u001B[49m\u001B[43m,\u001B[49m\u001B[43m \u001B[49m\u001B[43mreq\u001B[49m\u001B[38;5;241;43m.\u001B[39;49m\u001B[43mselector\u001B[49m\u001B[43m,\u001B[49m\u001B[43m \u001B[49m\u001B[43mreq\u001B[49m\u001B[38;5;241;43m.\u001B[39;49m\u001B[43mdata\u001B[49m\u001B[43m,\u001B[49m\u001B[43m \u001B[49m\u001B[43mheaders\u001B[49m\u001B[43m,\u001B[49m\n\u001B[1;32m   1347\u001B[0m \u001B[43m              \u001B[49m\u001B[43mencode_chunked\u001B[49m\u001B[38;5;241;43m=\u001B[39;49m\u001B[43mreq\u001B[49m\u001B[38;5;241;43m.\u001B[39;49m\u001B[43mhas_header\u001B[49m\u001B[43m(\u001B[49m\u001B[38;5;124;43m'\u001B[39;49m\u001B[38;5;124;43mTransfer-encoding\u001B[39;49m\u001B[38;5;124;43m'\u001B[39;49m\u001B[43m)\u001B[49m\u001B[43m)\u001B[49m\n\u001B[1;32m   1348\u001B[0m \u001B[38;5;28;01mexcept\u001B[39;00m \u001B[38;5;167;01mOSError\u001B[39;00m \u001B[38;5;28;01mas\u001B[39;00m err: \u001B[38;5;66;03m# timeout error\u001B[39;00m\n",
      "File \u001B[0;32m~/miniforge3/envs/ml-dev/lib/python3.9/http/client.py:1285\u001B[0m, in \u001B[0;36mHTTPConnection.request\u001B[0;34m(self, method, url, body, headers, encode_chunked)\u001B[0m\n\u001B[1;32m   1284\u001B[0m \u001B[38;5;124;03m\"\"\"Send a complete request to the server.\"\"\"\u001B[39;00m\n\u001B[0;32m-> 1285\u001B[0m \u001B[38;5;28;43mself\u001B[39;49m\u001B[38;5;241;43m.\u001B[39;49m\u001B[43m_send_request\u001B[49m\u001B[43m(\u001B[49m\u001B[43mmethod\u001B[49m\u001B[43m,\u001B[49m\u001B[43m \u001B[49m\u001B[43murl\u001B[49m\u001B[43m,\u001B[49m\u001B[43m \u001B[49m\u001B[43mbody\u001B[49m\u001B[43m,\u001B[49m\u001B[43m \u001B[49m\u001B[43mheaders\u001B[49m\u001B[43m,\u001B[49m\u001B[43m \u001B[49m\u001B[43mencode_chunked\u001B[49m\u001B[43m)\u001B[49m\n",
      "File \u001B[0;32m~/miniforge3/envs/ml-dev/lib/python3.9/http/client.py:1331\u001B[0m, in \u001B[0;36mHTTPConnection._send_request\u001B[0;34m(self, method, url, body, headers, encode_chunked)\u001B[0m\n\u001B[1;32m   1330\u001B[0m     body \u001B[38;5;241m=\u001B[39m _encode(body, \u001B[38;5;124m'\u001B[39m\u001B[38;5;124mbody\u001B[39m\u001B[38;5;124m'\u001B[39m)\n\u001B[0;32m-> 1331\u001B[0m \u001B[38;5;28;43mself\u001B[39;49m\u001B[38;5;241;43m.\u001B[39;49m\u001B[43mendheaders\u001B[49m\u001B[43m(\u001B[49m\u001B[43mbody\u001B[49m\u001B[43m,\u001B[49m\u001B[43m \u001B[49m\u001B[43mencode_chunked\u001B[49m\u001B[38;5;241;43m=\u001B[39;49m\u001B[43mencode_chunked\u001B[49m\u001B[43m)\u001B[49m\n",
      "File \u001B[0;32m~/miniforge3/envs/ml-dev/lib/python3.9/http/client.py:1280\u001B[0m, in \u001B[0;36mHTTPConnection.endheaders\u001B[0;34m(self, message_body, encode_chunked)\u001B[0m\n\u001B[1;32m   1279\u001B[0m     \u001B[38;5;28;01mraise\u001B[39;00m CannotSendHeader()\n\u001B[0;32m-> 1280\u001B[0m \u001B[38;5;28;43mself\u001B[39;49m\u001B[38;5;241;43m.\u001B[39;49m\u001B[43m_send_output\u001B[49m\u001B[43m(\u001B[49m\u001B[43mmessage_body\u001B[49m\u001B[43m,\u001B[49m\u001B[43m \u001B[49m\u001B[43mencode_chunked\u001B[49m\u001B[38;5;241;43m=\u001B[39;49m\u001B[43mencode_chunked\u001B[49m\u001B[43m)\u001B[49m\n",
      "File \u001B[0;32m~/miniforge3/envs/ml-dev/lib/python3.9/http/client.py:1040\u001B[0m, in \u001B[0;36mHTTPConnection._send_output\u001B[0;34m(self, message_body, encode_chunked)\u001B[0m\n\u001B[1;32m   1039\u001B[0m \u001B[38;5;28;01mdel\u001B[39;00m \u001B[38;5;28mself\u001B[39m\u001B[38;5;241m.\u001B[39m_buffer[:]\n\u001B[0;32m-> 1040\u001B[0m \u001B[38;5;28;43mself\u001B[39;49m\u001B[38;5;241;43m.\u001B[39;49m\u001B[43msend\u001B[49m\u001B[43m(\u001B[49m\u001B[43mmsg\u001B[49m\u001B[43m)\u001B[49m\n\u001B[1;32m   1042\u001B[0m \u001B[38;5;28;01mif\u001B[39;00m message_body \u001B[38;5;129;01mis\u001B[39;00m \u001B[38;5;129;01mnot\u001B[39;00m \u001B[38;5;28;01mNone\u001B[39;00m:\n\u001B[1;32m   1043\u001B[0m \n\u001B[1;32m   1044\u001B[0m     \u001B[38;5;66;03m# create a consistent interface to message_body\u001B[39;00m\n",
      "File \u001B[0;32m~/miniforge3/envs/ml-dev/lib/python3.9/http/client.py:980\u001B[0m, in \u001B[0;36mHTTPConnection.send\u001B[0;34m(self, data)\u001B[0m\n\u001B[1;32m    979\u001B[0m \u001B[38;5;28;01mif\u001B[39;00m \u001B[38;5;28mself\u001B[39m\u001B[38;5;241m.\u001B[39mauto_open:\n\u001B[0;32m--> 980\u001B[0m     \u001B[38;5;28;43mself\u001B[39;49m\u001B[38;5;241;43m.\u001B[39;49m\u001B[43mconnect\u001B[49m\u001B[43m(\u001B[49m\u001B[43m)\u001B[49m\n\u001B[1;32m    981\u001B[0m \u001B[38;5;28;01melse\u001B[39;00m:\n",
      "File \u001B[0;32m~/miniforge3/envs/ml-dev/lib/python3.9/http/client.py:1447\u001B[0m, in \u001B[0;36mHTTPSConnection.connect\u001B[0;34m(self)\u001B[0m\n\u001B[1;32m   1445\u001B[0m \u001B[38;5;124m\"\u001B[39m\u001B[38;5;124mConnect to a host on a given (SSL) port.\u001B[39m\u001B[38;5;124m\"\u001B[39m\n\u001B[0;32m-> 1447\u001B[0m \u001B[38;5;28;43msuper\u001B[39;49m\u001B[43m(\u001B[49m\u001B[43m)\u001B[49m\u001B[38;5;241;43m.\u001B[39;49m\u001B[43mconnect\u001B[49m\u001B[43m(\u001B[49m\u001B[43m)\u001B[49m\n\u001B[1;32m   1449\u001B[0m \u001B[38;5;28;01mif\u001B[39;00m \u001B[38;5;28mself\u001B[39m\u001B[38;5;241m.\u001B[39m_tunnel_host:\n",
      "File \u001B[0;32m~/miniforge3/envs/ml-dev/lib/python3.9/http/client.py:946\u001B[0m, in \u001B[0;36mHTTPConnection.connect\u001B[0;34m(self)\u001B[0m\n\u001B[1;32m    945\u001B[0m \u001B[38;5;124;03m\"\"\"Connect to the host and port specified in __init__.\"\"\"\u001B[39;00m\n\u001B[0;32m--> 946\u001B[0m \u001B[38;5;28mself\u001B[39m\u001B[38;5;241m.\u001B[39msock \u001B[38;5;241m=\u001B[39m \u001B[38;5;28;43mself\u001B[39;49m\u001B[38;5;241;43m.\u001B[39;49m\u001B[43m_create_connection\u001B[49m\u001B[43m(\u001B[49m\n\u001B[1;32m    947\u001B[0m \u001B[43m    \u001B[49m\u001B[43m(\u001B[49m\u001B[38;5;28;43mself\u001B[39;49m\u001B[38;5;241;43m.\u001B[39;49m\u001B[43mhost\u001B[49m\u001B[43m,\u001B[49m\u001B[38;5;28;43mself\u001B[39;49m\u001B[38;5;241;43m.\u001B[39;49m\u001B[43mport\u001B[49m\u001B[43m)\u001B[49m\u001B[43m,\u001B[49m\u001B[43m \u001B[49m\u001B[38;5;28;43mself\u001B[39;49m\u001B[38;5;241;43m.\u001B[39;49m\u001B[43mtimeout\u001B[49m\u001B[43m,\u001B[49m\u001B[43m \u001B[49m\u001B[38;5;28;43mself\u001B[39;49m\u001B[38;5;241;43m.\u001B[39;49m\u001B[43msource_address\u001B[49m\u001B[43m)\u001B[49m\n\u001B[1;32m    948\u001B[0m \u001B[38;5;66;03m# Might fail in OSs that don't implement TCP_NODELAY\u001B[39;00m\n",
      "File \u001B[0;32m~/miniforge3/envs/ml-dev/lib/python3.9/socket.py:823\u001B[0m, in \u001B[0;36mcreate_connection\u001B[0;34m(address, timeout, source_address)\u001B[0m\n\u001B[1;32m    822\u001B[0m err \u001B[38;5;241m=\u001B[39m \u001B[38;5;28;01mNone\u001B[39;00m\n\u001B[0;32m--> 823\u001B[0m \u001B[38;5;28;01mfor\u001B[39;00m res \u001B[38;5;129;01min\u001B[39;00m \u001B[43mgetaddrinfo\u001B[49m\u001B[43m(\u001B[49m\u001B[43mhost\u001B[49m\u001B[43m,\u001B[49m\u001B[43m \u001B[49m\u001B[43mport\u001B[49m\u001B[43m,\u001B[49m\u001B[43m \u001B[49m\u001B[38;5;241;43m0\u001B[39;49m\u001B[43m,\u001B[49m\u001B[43m \u001B[49m\u001B[43mSOCK_STREAM\u001B[49m\u001B[43m)\u001B[49m:\n\u001B[1;32m    824\u001B[0m     af, socktype, proto, canonname, sa \u001B[38;5;241m=\u001B[39m res\n",
      "File \u001B[0;32m~/miniforge3/envs/ml-dev/lib/python3.9/socket.py:954\u001B[0m, in \u001B[0;36mgetaddrinfo\u001B[0;34m(host, port, family, type, proto, flags)\u001B[0m\n\u001B[1;32m    953\u001B[0m addrlist \u001B[38;5;241m=\u001B[39m []\n\u001B[0;32m--> 954\u001B[0m \u001B[38;5;28;01mfor\u001B[39;00m res \u001B[38;5;129;01min\u001B[39;00m \u001B[43m_socket\u001B[49m\u001B[38;5;241;43m.\u001B[39;49m\u001B[43mgetaddrinfo\u001B[49m\u001B[43m(\u001B[49m\u001B[43mhost\u001B[49m\u001B[43m,\u001B[49m\u001B[43m \u001B[49m\u001B[43mport\u001B[49m\u001B[43m,\u001B[49m\u001B[43m \u001B[49m\u001B[43mfamily\u001B[49m\u001B[43m,\u001B[49m\u001B[43m \u001B[49m\u001B[38;5;28;43mtype\u001B[39;49m\u001B[43m,\u001B[49m\u001B[43m \u001B[49m\u001B[43mproto\u001B[49m\u001B[43m,\u001B[49m\u001B[43m \u001B[49m\u001B[43mflags\u001B[49m\u001B[43m)\u001B[49m:\n\u001B[1;32m    955\u001B[0m     af, socktype, proto, canonname, sa \u001B[38;5;241m=\u001B[39m res\n",
      "\u001B[0;31mgaierror\u001B[0m: [Errno 8] nodename nor servname provided, or not known",
      "\nDuring handling of the above exception, another exception occurred:\n",
      "\u001B[0;31mURLError\u001B[0m                                  Traceback (most recent call last)",
      "Cell \u001B[0;32mIn [61], line 1\u001B[0m\n\u001B[0;32m----> 1\u001B[0m \u001B[43minvesting_crawling_new\u001B[49m\u001B[43m(\u001B[49m\u001B[43mmiddel_url\u001B[49m\u001B[43m,\u001B[49m\u001B[43m \u001B[49m\u001B[43mrate_bonds\u001B[49m\u001B[43m,\u001B[49m\u001B[43m \u001B[49m\u001B[43mstart_date\u001B[49m\u001B[43m)\u001B[49m\n",
      "Cell \u001B[0;32mIn [49], line 22\u001B[0m, in \u001B[0;36minvesting_crawling_new\u001B[0;34m(middel_url, names, start_date, suffix)\u001B[0m\n\u001B[1;32m     20\u001B[0m headers \u001B[38;5;241m=\u001B[39m {\u001B[38;5;124m'\u001B[39m\u001B[38;5;124mUser-Agent\u001B[39m\u001B[38;5;124m'\u001B[39m: \u001B[38;5;124m'\u001B[39m\u001B[38;5;124mChrome/107.0.5304.87\u001B[39m\u001B[38;5;124m'\u001B[39m}\n\u001B[1;32m     21\u001B[0m req \u001B[38;5;241m=\u001B[39m urllib\u001B[38;5;241m.\u001B[39mrequest\u001B[38;5;241m.\u001B[39mRequest(url, headers\u001B[38;5;241m=\u001B[39mheaders)\n\u001B[0;32m---> 22\u001B[0m \u001B[43murlopen\u001B[49m\u001B[43m(\u001B[49m\u001B[43mreq\u001B[49m\u001B[43m)\u001B[49m\n\u001B[1;32m     23\u001B[0m time\u001B[38;5;241m.\u001B[39msleep(\u001B[38;5;241m5\u001B[39m)\n\u001B[1;32m     25\u001B[0m \u001B[38;5;66;03m# 모바일 화면시 주석 풀고 실행\u001B[39;00m\n\u001B[1;32m     26\u001B[0m \u001B[38;5;66;03m# is_displayed_modal = driver.find_element(By.CSS_SELECTOR, bottom_modal).is_displayed()\u001B[39;00m\n\u001B[1;32m     27\u001B[0m \u001B[38;5;66;03m# if is_displayed_modal:\u001B[39;00m\n\u001B[1;32m     28\u001B[0m \u001B[38;5;66;03m# \tdriver.find_element(By.CSS_SELECTOR, bottom_mpdal_btn).click()\u001B[39;00m\n\u001B[1;32m     29\u001B[0m \u001B[38;5;66;03m# \tdriver.implicitly_wait(10)\u001B[39;00m\n",
      "File \u001B[0;32m~/miniforge3/envs/ml-dev/lib/python3.9/urllib/request.py:214\u001B[0m, in \u001B[0;36murlopen\u001B[0;34m(url, data, timeout, cafile, capath, cadefault, context)\u001B[0m\n\u001B[1;32m    212\u001B[0m \u001B[38;5;28;01melse\u001B[39;00m:\n\u001B[1;32m    213\u001B[0m     opener \u001B[38;5;241m=\u001B[39m _opener\n\u001B[0;32m--> 214\u001B[0m \u001B[38;5;28;01mreturn\u001B[39;00m \u001B[43mopener\u001B[49m\u001B[38;5;241;43m.\u001B[39;49m\u001B[43mopen\u001B[49m\u001B[43m(\u001B[49m\u001B[43murl\u001B[49m\u001B[43m,\u001B[49m\u001B[43m \u001B[49m\u001B[43mdata\u001B[49m\u001B[43m,\u001B[49m\u001B[43m \u001B[49m\u001B[43mtimeout\u001B[49m\u001B[43m)\u001B[49m\n",
      "File \u001B[0;32m~/miniforge3/envs/ml-dev/lib/python3.9/urllib/request.py:517\u001B[0m, in \u001B[0;36mOpenerDirector.open\u001B[0;34m(self, fullurl, data, timeout)\u001B[0m\n\u001B[1;32m    514\u001B[0m     req \u001B[38;5;241m=\u001B[39m meth(req)\n\u001B[1;32m    516\u001B[0m sys\u001B[38;5;241m.\u001B[39maudit(\u001B[38;5;124m'\u001B[39m\u001B[38;5;124murllib.Request\u001B[39m\u001B[38;5;124m'\u001B[39m, req\u001B[38;5;241m.\u001B[39mfull_url, req\u001B[38;5;241m.\u001B[39mdata, req\u001B[38;5;241m.\u001B[39mheaders, req\u001B[38;5;241m.\u001B[39mget_method())\n\u001B[0;32m--> 517\u001B[0m response \u001B[38;5;241m=\u001B[39m \u001B[38;5;28;43mself\u001B[39;49m\u001B[38;5;241;43m.\u001B[39;49m\u001B[43m_open\u001B[49m\u001B[43m(\u001B[49m\u001B[43mreq\u001B[49m\u001B[43m,\u001B[49m\u001B[43m \u001B[49m\u001B[43mdata\u001B[49m\u001B[43m)\u001B[49m\n\u001B[1;32m    519\u001B[0m \u001B[38;5;66;03m# post-process response\u001B[39;00m\n\u001B[1;32m    520\u001B[0m meth_name \u001B[38;5;241m=\u001B[39m protocol\u001B[38;5;241m+\u001B[39m\u001B[38;5;124m\"\u001B[39m\u001B[38;5;124m_response\u001B[39m\u001B[38;5;124m\"\u001B[39m\n",
      "File \u001B[0;32m~/miniforge3/envs/ml-dev/lib/python3.9/urllib/request.py:534\u001B[0m, in \u001B[0;36mOpenerDirector._open\u001B[0;34m(self, req, data)\u001B[0m\n\u001B[1;32m    531\u001B[0m     \u001B[38;5;28;01mreturn\u001B[39;00m result\n\u001B[1;32m    533\u001B[0m protocol \u001B[38;5;241m=\u001B[39m req\u001B[38;5;241m.\u001B[39mtype\n\u001B[0;32m--> 534\u001B[0m result \u001B[38;5;241m=\u001B[39m \u001B[38;5;28;43mself\u001B[39;49m\u001B[38;5;241;43m.\u001B[39;49m\u001B[43m_call_chain\u001B[49m\u001B[43m(\u001B[49m\u001B[38;5;28;43mself\u001B[39;49m\u001B[38;5;241;43m.\u001B[39;49m\u001B[43mhandle_open\u001B[49m\u001B[43m,\u001B[49m\u001B[43m \u001B[49m\u001B[43mprotocol\u001B[49m\u001B[43m,\u001B[49m\u001B[43m \u001B[49m\u001B[43mprotocol\u001B[49m\u001B[43m \u001B[49m\u001B[38;5;241;43m+\u001B[39;49m\n\u001B[1;32m    535\u001B[0m \u001B[43m                          \u001B[49m\u001B[38;5;124;43m'\u001B[39;49m\u001B[38;5;124;43m_open\u001B[39;49m\u001B[38;5;124;43m'\u001B[39;49m\u001B[43m,\u001B[49m\u001B[43m \u001B[49m\u001B[43mreq\u001B[49m\u001B[43m)\u001B[49m\n\u001B[1;32m    536\u001B[0m \u001B[38;5;28;01mif\u001B[39;00m result:\n\u001B[1;32m    537\u001B[0m     \u001B[38;5;28;01mreturn\u001B[39;00m result\n",
      "File \u001B[0;32m~/miniforge3/envs/ml-dev/lib/python3.9/urllib/request.py:494\u001B[0m, in \u001B[0;36mOpenerDirector._call_chain\u001B[0;34m(self, chain, kind, meth_name, *args)\u001B[0m\n\u001B[1;32m    492\u001B[0m \u001B[38;5;28;01mfor\u001B[39;00m handler \u001B[38;5;129;01min\u001B[39;00m handlers:\n\u001B[1;32m    493\u001B[0m     func \u001B[38;5;241m=\u001B[39m \u001B[38;5;28mgetattr\u001B[39m(handler, meth_name)\n\u001B[0;32m--> 494\u001B[0m     result \u001B[38;5;241m=\u001B[39m \u001B[43mfunc\u001B[49m\u001B[43m(\u001B[49m\u001B[38;5;241;43m*\u001B[39;49m\u001B[43margs\u001B[49m\u001B[43m)\u001B[49m\n\u001B[1;32m    495\u001B[0m     \u001B[38;5;28;01mif\u001B[39;00m result \u001B[38;5;129;01mis\u001B[39;00m \u001B[38;5;129;01mnot\u001B[39;00m \u001B[38;5;28;01mNone\u001B[39;00m:\n\u001B[1;32m    496\u001B[0m         \u001B[38;5;28;01mreturn\u001B[39;00m result\n",
      "File \u001B[0;32m~/miniforge3/envs/ml-dev/lib/python3.9/urllib/request.py:1389\u001B[0m, in \u001B[0;36mHTTPSHandler.https_open\u001B[0;34m(self, req)\u001B[0m\n\u001B[1;32m   1388\u001B[0m \u001B[38;5;28;01mdef\u001B[39;00m \u001B[38;5;21mhttps_open\u001B[39m(\u001B[38;5;28mself\u001B[39m, req):\n\u001B[0;32m-> 1389\u001B[0m     \u001B[38;5;28;01mreturn\u001B[39;00m \u001B[38;5;28;43mself\u001B[39;49m\u001B[38;5;241;43m.\u001B[39;49m\u001B[43mdo_open\u001B[49m\u001B[43m(\u001B[49m\u001B[43mhttp\u001B[49m\u001B[38;5;241;43m.\u001B[39;49m\u001B[43mclient\u001B[49m\u001B[38;5;241;43m.\u001B[39;49m\u001B[43mHTTPSConnection\u001B[49m\u001B[43m,\u001B[49m\u001B[43m \u001B[49m\u001B[43mreq\u001B[49m\u001B[43m,\u001B[49m\n\u001B[1;32m   1390\u001B[0m \u001B[43m        \u001B[49m\u001B[43mcontext\u001B[49m\u001B[38;5;241;43m=\u001B[39;49m\u001B[38;5;28;43mself\u001B[39;49m\u001B[38;5;241;43m.\u001B[39;49m\u001B[43m_context\u001B[49m\u001B[43m,\u001B[49m\u001B[43m \u001B[49m\u001B[43mcheck_hostname\u001B[49m\u001B[38;5;241;43m=\u001B[39;49m\u001B[38;5;28;43mself\u001B[39;49m\u001B[38;5;241;43m.\u001B[39;49m\u001B[43m_check_hostname\u001B[49m\u001B[43m)\u001B[49m\n",
      "File \u001B[0;32m~/miniforge3/envs/ml-dev/lib/python3.9/urllib/request.py:1349\u001B[0m, in \u001B[0;36mAbstractHTTPHandler.do_open\u001B[0;34m(self, http_class, req, **http_conn_args)\u001B[0m\n\u001B[1;32m   1346\u001B[0m         h\u001B[38;5;241m.\u001B[39mrequest(req\u001B[38;5;241m.\u001B[39mget_method(), req\u001B[38;5;241m.\u001B[39mselector, req\u001B[38;5;241m.\u001B[39mdata, headers,\n\u001B[1;32m   1347\u001B[0m                   encode_chunked\u001B[38;5;241m=\u001B[39mreq\u001B[38;5;241m.\u001B[39mhas_header(\u001B[38;5;124m'\u001B[39m\u001B[38;5;124mTransfer-encoding\u001B[39m\u001B[38;5;124m'\u001B[39m))\n\u001B[1;32m   1348\u001B[0m     \u001B[38;5;28;01mexcept\u001B[39;00m \u001B[38;5;167;01mOSError\u001B[39;00m \u001B[38;5;28;01mas\u001B[39;00m err: \u001B[38;5;66;03m# timeout error\u001B[39;00m\n\u001B[0;32m-> 1349\u001B[0m         \u001B[38;5;28;01mraise\u001B[39;00m URLError(err)\n\u001B[1;32m   1350\u001B[0m     r \u001B[38;5;241m=\u001B[39m h\u001B[38;5;241m.\u001B[39mgetresponse()\n\u001B[1;32m   1351\u001B[0m \u001B[38;5;28;01mexcept\u001B[39;00m:\n",
      "\u001B[0;31mURLError\u001B[0m: <urlopen error [Errno 8] nodename nor servname provided, or not known>"
     ]
    }
   ],
   "source": [
    "investing_crawling_new(middel_url, rate_bonds, start_date)"
   ]
  },
  {
   "cell_type": "code",
   "execution_count": null,
   "metadata": {
    "collapsed": false
   },
   "outputs": [],
   "source": [
    "url = 'https://kr.investing.com/central-banks/'\n",
    "\n",
    "try:\n",
    "\theaders = {'User-Agent': 'Chrome/107.0.5304.87'}\n",
    "\treq = urllib.request.Request(url, headers=headers)\n",
    "\thtml = urlopen(req)\n",
    "except HTTPError as e:\n",
    "\terr = e.read()\n",
    "\tcode = e.getcode()\n",
    "\tprint(err, code)\n",
    "\n",
    "soup = BeautifulSoup(html, 'html.parser')"
   ]
  },
  {
   "cell_type": "code",
   "execution_count": null,
   "metadata": {
    "collapsed": false
   },
   "outputs": [],
   "source": [
    "names = []\n",
    "rates = []\n",
    "\n",
    "interest_rate_name = soup.select('#curr_table > tbody > tr > td:nth-child(2) > a')\n",
    "interest_rates = soup.select('#curr_table > tbody > tr > td:nth-child(3)')\n",
    "\n",
    "for name in interest_rate_name:\n",
    "\tname_ = name.get_text()\n",
    "\tnames.append(name_)\n",
    "\n",
    "for rate in interest_rates:\n",
    "\trate_ = rate.get_text()\n",
    "\trates.append(rate_)"
   ]
  },
  {
   "cell_type": "code",
   "execution_count": null,
   "metadata": {
    "collapsed": false
   },
   "outputs": [
    {
     "data": {
      "text/plain": [
       "(['한국 은행',\n",
       "  '연방준비은행',\n",
       "  '유럽중앙은행',\n",
       "  '영국은행',\n",
       "  '스위스 국제은행',\n",
       "  '호주 연방준비은행',\n",
       "  '캐나다 은행',\n",
       "  '일본 은행',\n",
       "  '러시아 연방중앙은행',\n",
       "  '인도 연방준비은행',\n",
       "  '중국인민은행',\n",
       "  '브라질 중앙은행'],\n",
       " ['3.00%',\n",
       "  '4.00%',\n",
       "  '2.00%',\n",
       "  '3.00%',\n",
       "  '0.50%',\n",
       "  '2.85%',\n",
       "  '3.75%',\n",
       "  '-0.10%',\n",
       "  '7.50%',\n",
       "  '5.90%',\n",
       "  '3.65%',\n",
       "  '13.75%'])"
      ]
     },
     "execution_count": 8,
     "metadata": {},
     "output_type": "execute_result"
    }
   ],
   "source": [
    "names, rates"
   ]
  },
  {
   "cell_type": "code",
   "execution_count": null,
   "metadata": {
    "collapsed": false
   },
   "outputs": [
    {
     "data": {
      "text/html": [
       "<div>\n",
       "<style scoped>\n",
       "    .dataframe tbody tr th:only-of-type {\n",
       "        vertical-align: middle;\n",
       "    }\n",
       "\n",
       "    .dataframe tbody tr th {\n",
       "        vertical-align: top;\n",
       "    }\n",
       "\n",
       "    .dataframe thead th {\n",
       "        text-align: right;\n",
       "    }\n",
       "</style>\n",
       "<table border=\"1\" class=\"dataframe\">\n",
       "  <thead>\n",
       "    <tr style=\"text-align: right;\">\n",
       "      <th></th>\n",
       "      <th>name</th>\n",
       "      <th>rate</th>\n",
       "    </tr>\n",
       "  </thead>\n",
       "  <tbody>\n",
       "    <tr>\n",
       "      <th>0</th>\n",
       "      <td>한국 은행</td>\n",
       "      <td>3.00%</td>\n",
       "    </tr>\n",
       "    <tr>\n",
       "      <th>1</th>\n",
       "      <td>연방준비은행</td>\n",
       "      <td>4.00%</td>\n",
       "    </tr>\n",
       "    <tr>\n",
       "      <th>2</th>\n",
       "      <td>유럽중앙은행</td>\n",
       "      <td>2.00%</td>\n",
       "    </tr>\n",
       "    <tr>\n",
       "      <th>3</th>\n",
       "      <td>영국은행</td>\n",
       "      <td>3.00%</td>\n",
       "    </tr>\n",
       "    <tr>\n",
       "      <th>4</th>\n",
       "      <td>스위스 국제은행</td>\n",
       "      <td>0.50%</td>\n",
       "    </tr>\n",
       "    <tr>\n",
       "      <th>5</th>\n",
       "      <td>호주 연방준비은행</td>\n",
       "      <td>2.85%</td>\n",
       "    </tr>\n",
       "    <tr>\n",
       "      <th>6</th>\n",
       "      <td>캐나다 은행</td>\n",
       "      <td>3.75%</td>\n",
       "    </tr>\n",
       "    <tr>\n",
       "      <th>7</th>\n",
       "      <td>일본 은행</td>\n",
       "      <td>-0.10%</td>\n",
       "    </tr>\n",
       "    <tr>\n",
       "      <th>8</th>\n",
       "      <td>러시아 연방중앙은행</td>\n",
       "      <td>7.50%</td>\n",
       "    </tr>\n",
       "    <tr>\n",
       "      <th>9</th>\n",
       "      <td>인도 연방준비은행</td>\n",
       "      <td>5.90%</td>\n",
       "    </tr>\n",
       "    <tr>\n",
       "      <th>10</th>\n",
       "      <td>중국인민은행</td>\n",
       "      <td>3.65%</td>\n",
       "    </tr>\n",
       "    <tr>\n",
       "      <th>11</th>\n",
       "      <td>브라질 중앙은행</td>\n",
       "      <td>13.75%</td>\n",
       "    </tr>\n",
       "  </tbody>\n",
       "</table>\n",
       "</div>"
      ],
      "text/plain": [
       "          name    rate\n",
       "0        한국 은행   3.00%\n",
       "1       연방준비은행   4.00%\n",
       "2       유럽중앙은행   2.00%\n",
       "3         영국은행   3.00%\n",
       "4     스위스 국제은행   0.50%\n",
       "5    호주 연방준비은행   2.85%\n",
       "6       캐나다 은행   3.75%\n",
       "7        일본 은행  -0.10%\n",
       "8   러시아 연방중앙은행   7.50%\n",
       "9    인도 연방준비은행   5.90%\n",
       "10      중국인민은행   3.65%\n",
       "11    브라질 중앙은행  13.75%"
      ]
     },
     "execution_count": 11,
     "metadata": {},
     "output_type": "execute_result"
    }
   ],
   "source": [
    "interest_rate_dict = {\n",
    "\t'name' : names\n",
    "\t, 'rate' : rates\n",
    "}\n",
    "\n",
    "interest_rate_df = pd.DataFrame(interest_rate_dict)\n",
    "interest_rate_df"
   ]
  },
  {
   "cell_type": "code",
   "execution_count": null,
   "metadata": {
    "collapsed": false
   },
   "outputs": [],
   "source": [
    "url = 'https://www.nanumtrading.com/%EC%9E%90%EB%A3%8C%EC%8B%A4/%EC%A3%BC%EC%9A%94%EA%B5%AD%EA%B0%80-%EA%B8%B0%EC%A4%80-%EA%B8%88%EB%A6%AC/'"
   ]
  },
  {
   "cell_type": "code",
   "execution_count": null,
   "metadata": {
    "collapsed": false
   },
   "outputs": [],
   "source": [
    "try:\n",
    "\theaders = {'User-Agent': 'Chrome/107.0.5304.87'}\n",
    "\treq = urllib.request.Request(url, headers=headers)\n",
    "\thtml = urlopen(req)\n",
    "except HTTPError as e:\n",
    "\terr = e.read()\n",
    "\tcode = e.getcode()\n",
    "\tprint(err, code)\n",
    "\n",
    "soup = BeautifulSoup(html, 'html.parser')"
   ]
  },
  {
   "cell_type": "code",
   "execution_count": null,
   "metadata": {
    "collapsed": false
   },
   "outputs": [
    {
     "data": {
      "text/plain": [
       "[<tr><td> </td><td style=\"text-align: center;\"><span style=\"color: #8cc63f;\"><strong>미국</strong></span></td><td style=\"text-align: center;\"><span style=\"color: #8cc63f;\"><strong>유로존</strong></span></td><td style=\"text-align: center;\"><span style=\"color: #8cc63f;\"><strong>일본</strong></span></td><td style=\"text-align: center;\"><span style=\"color: #8cc63f;\"><strong>영국</strong></span></td><td style=\"text-align: center;\"><span style=\"color: #8cc63f;\"><strong>스위스</strong></span></td><td style=\"text-align: center;\"><span style=\"color: #8cc63f;\"><strong>캐나다</strong></span></td><td style=\"text-align: center;\"><span style=\"color: #8cc63f;\"><strong>호주</strong></span></td><td style=\"text-align: center;\"><span style=\"color: #8cc63f;\"><strong>뉴질랜드</strong></span></td></tr>,\n",
       " <tr><td style=\"text-align: center;\"><span style=\"color: #8cc63f;\"><strong>12월</strong></span></td><td style=\"text-align: center;\"><span style=\"color: #ff6600;\"><strong>0.00~0.25%</strong></span></td><td style=\"text-align: center;\"><span style=\"color: #ff6600;\"><strong>2.50%</strong></span></td><td style=\"text-align: center;\"><span style=\"color: #ff6600;\"><strong>0.10%</strong></span></td><td style=\"text-align: center;\"><span style=\"color: #ff6600;\"><strong>2.00%</strong></span></td><td style=\"text-align: center;\"><span style=\"color: #ff6600;\"><strong>0.50%</strong></span></td><td style=\"text-align: center;\"><span style=\"color: #ff6600;\"><strong>1.50%</strong></span></td><td style=\"text-align: center;\"><span style=\"color: #ff6600;\"><strong>4.25%</strong></span></td><td style=\"text-align: center;\"><span style=\"color: #ff6600;\"><strong>5.00%</strong></span></td></tr>,\n",
       " <tr><td style=\"text-align: center;\"><span style=\"color: #8cc63f;\"><strong>11월</strong></span></td><td style=\"text-align: center;\">-</td><td style=\"text-align: center;\"><span style=\"color: #ff6600;\"><strong>3.25%</strong></span></td><td style=\"text-align: center;\">0.30%</td><td style=\"text-align: center;\"><span style=\"color: #ff6600;\"><strong>3.00%</strong></span></td><td style=\"text-align: center;\"><span style=\"color: #ff6600;\"><strong>1.00%</strong></span></td><td style=\"text-align: center;\">-</td><td style=\"text-align: center;\"><span style=\"color: #ff6600;\"><strong>5.25%</strong></span></td><td style=\"text-align: center;\">-</td></tr>,\n",
       " <tr><td style=\"text-align: center;\"><span style=\"color: #8cc63f;\"><strong>10월</strong></span></td><td style=\"text-align: center;\"><span style=\"color: #ff6600;\"><strong>1.00%</strong></span></td><td style=\"text-align: center;\"><span style=\"color: #ff6600;\"><strong>3.75%</strong></span></td><td style=\"text-align: center;\"><span style=\"color: #ff6600;\"><strong>0.30%</strong></span></td><td style=\"text-align: center;\"><span style=\"color: #ff6600;\"><strong>4.50%</strong></span></td><td style=\"text-align: center;\"><span style=\"color: #ff6600;\"><strong>2.50%</strong></span></td><td style=\"text-align: center;\"><span style=\"color: #ff6600;\"><strong>2.25%</strong></span></td><td style=\"text-align: center;\"><span style=\"color: #ff6600;\"><strong>6.00%</strong></span></td><td style=\"text-align: center;\"><span style=\"color: #ff6600;\"><strong>6.50%</strong></span></td></tr>,\n",
       " <tr><td style=\"text-align: center;\"><span style=\"color: #8cc63f;\"><strong>9월</strong></span></td><td style=\"text-align: center;\">2.00%</td><td style=\"text-align: center;\">4.25%</td><td style=\"text-align: center;\">0.50%</td><td style=\"text-align: center;\">5.00%</td><td style=\"text-align: center;\">2.75%</td><td style=\"text-align: center;\">3.00%</td><td style=\"text-align: center;\"><span style=\"color: #ff6600;\"><strong>7.00%</strong></span></td><td style=\"text-align: center;\"><span style=\"color: #ff6600;\"><strong>7.50%</strong></span></td></tr>,\n",
       " <tr><td style=\"text-align: center;\"><span style=\"color: #8cc63f;\"><strong>8월</strong></span></td><td style=\"text-align: center;\">2.00%</td><td style=\"text-align: center;\">4.25%</td><td style=\"text-align: center;\">0.50%</td><td style=\"text-align: center;\">5.00%</td><td style=\"text-align: center;\">-</td><td style=\"text-align: center;\">-</td><td style=\"text-align: center;\">7.25%</td><td style=\"text-align: center;\">-</td></tr>,\n",
       " <tr><td style=\"text-align: center;\"><span style=\"color: #8cc63f;\"><strong>7월</strong></span></td><td style=\"text-align: center;\">-</td><td style=\"text-align: center;\"><span style=\"color: #ff6600;\"><strong>4.25%</strong></span></td><td style=\"text-align: center;\">0.50%</td><td style=\"text-align: center;\">5.00%</td><td style=\"text-align: center;\">-</td><td style=\"text-align: center;\">3.00%</td><td style=\"text-align: center;\">7.25%</td><td style=\"text-align: center;\"><span style=\"color: #ff6600;\"><strong>8.00%</strong></span></td></tr>,\n",
       " <tr><td style=\"text-align: center;\"><span style=\"color: #8cc63f;\"><strong>6월</strong></span></td><td style=\"text-align: center;\">2.00%</td><td style=\"text-align: center;\">4.00%</td><td style=\"text-align: center;\">0.50%</td><td style=\"text-align: center;\">5.00%</td><td style=\"text-align: center;\">2.75%</td><td style=\"text-align: center;\">3.00%</td><td style=\"text-align: center;\">7.25%</td><td style=\"text-align: center;\">8.25%</td></tr>,\n",
       " <tr><td style=\"text-align: center;\"><span style=\"color: #8cc63f;\"><strong>5월</strong></span></td><td style=\"text-align: center;\">-</td><td style=\"text-align: center;\">4.00%</td><td style=\"text-align: center;\">0.50%</td><td style=\"text-align: center;\">5.00%</td><td style=\"text-align: center;\">-</td><td style=\"text-align: center;\">-</td><td style=\"text-align: center;\">7.25%</td><td style=\"text-align: center;\">-</td></tr>,\n",
       " <tr><td style=\"text-align: center;\"><span style=\"color: #8cc63f;\"><strong>4월</strong></span></td><td style=\"text-align: center;\"><span style=\"color: #ff6600;\"><strong>2.00%</strong></span></td><td style=\"text-align: center;\">4.00%</td><td style=\"text-align: center;\">0.50%</td><td style=\"text-align: center;\"><span style=\"color: #ff6600;\"><strong>5.00%</strong></span></td><td style=\"text-align: center;\">-</td><td style=\"text-align: center;\"><span style=\"color: #ff6600;\"><strong>3.00%</strong></span></td><td style=\"text-align: center;\">-</td><td style=\"text-align: center;\">8.25%</td></tr>,\n",
       " <tr><td style=\"text-align: center;\"><span style=\"color: #8cc63f;\"><strong>3월</strong></span></td><td style=\"text-align: center;\"><span style=\"color: #ff6600;\"><strong>2.25%</strong></span></td><td style=\"text-align: center;\">4.00%</td><td style=\"text-align: center;\">0.50%</td><td style=\"text-align: center;\">5.25%</td><td style=\"text-align: center;\">2.75%</td><td style=\"text-align: center;\"><span style=\"color: #ff6600;\"><strong>3.50%</strong></span></td><td style=\"text-align: center;\"><span style=\"color: #ff6600;\"><strong>7.25%</strong></span></td><td style=\"text-align: center;\">8.25%</td></tr>,\n",
       " <tr><td style=\"text-align: center;\"><span style=\"color: #8cc63f;\"><strong>2월</strong></span></td><td style=\"text-align: center;\">-</td><td style=\"text-align: center;\">4.00%</td><td style=\"text-align: center;\">0.50%</td><td style=\"text-align: center;\"><span style=\"color: #ff6600;\"><strong>5.25%</strong></span></td><td style=\"text-align: center;\">-</td><td style=\"text-align: center;\">-</td><td style=\"text-align: center;\"><span style=\"color: #ff6600;\"><strong>7.00%</strong></span></td><td style=\"text-align: center;\">-</td></tr>,\n",
       " <tr><td style=\"text-align: center;\"><span style=\"color: #8cc63f;\"><strong>1월</strong></span></td><td style=\"text-align: center;\"><span style=\"color: #ff6600;\"><strong>3.00%</strong></span></td><td style=\"text-align: center;\">4.00%</td><td style=\"text-align: center;\">0.50%</td><td style=\"text-align: center;\">5.50%</td><td style=\"text-align: center;\">-</td><td style=\"text-align: center;\">4.00%</td><td style=\"text-align: center;\">-</td><td style=\"text-align: center;\">8.25%</td></tr>,\n",
       " <tr><td> </td><td style=\"text-align: center;\"><span style=\"color: #8cc63f;\"><strong>미국</strong></span></td><td style=\"text-align: center;\"><span style=\"color: #8cc63f;\"><strong>유로존</strong></span></td><td style=\"text-align: center;\"><span style=\"color: #8cc63f;\"><strong>일본</strong></span></td><td style=\"text-align: center;\"><span style=\"color: #8cc63f;\"><strong>영국</strong></span></td><td style=\"text-align: center;\"><span style=\"color: #8cc63f;\"><strong>스위스</strong></span></td><td style=\"text-align: center;\"><span style=\"color: #8cc63f;\"><strong>캐나다</strong></span></td><td style=\"text-align: center;\"><span style=\"color: #8cc63f;\"><strong>호주</strong></span></td><td style=\"text-align: center;\"><span style=\"color: #8cc63f;\"><strong>뉴질랜드</strong></span></td></tr>,\n",
       " <tr><td style=\"text-align: center;\"><span style=\"color: #8cc63f;\"><strong>12월</strong></span></td><td style=\"text-align: center;\">0.00~0.25%</td><td style=\"text-align: center;\">1.00%</td><td style=\"text-align: center;\">0.10%</td><td style=\"text-align: center;\">0.50%</td><td style=\"text-align: center;\">0.25%</td><td style=\"text-align: center;\">0.25%</td><td style=\"text-align: center;\">-</td><td style=\"text-align: center;\">2.50%</td></tr>,\n",
       " <tr><td style=\"text-align: center;\"><span style=\"color: #8cc63f;\"><strong>11월</strong></span></td><td style=\"text-align: center;\">0.00~0.25%</td><td style=\"text-align: center;\">1.00%</td><td style=\"text-align: center;\">0.10%</td><td style=\"text-align: center;\">0.50%</td><td style=\"text-align: center;\">-</td><td style=\"text-align: center;\">-</td><td style=\"text-align: center;\"><span style=\"color: #ff6600;\"><strong>3.50%</strong></span></td><td style=\"text-align: center;\">-</td></tr>,\n",
       " <tr><td style=\"text-align: center;\"><span style=\"color: #8cc63f;\"><strong>10월</strong></span></td><td style=\"text-align: center;\">-</td><td style=\"text-align: center;\">1.00%</td><td style=\"text-align: center;\">0.10%</td><td style=\"text-align: center;\">0.50%</td><td style=\"text-align: center;\">-</td><td style=\"text-align: center;\">0.25%</td><td style=\"text-align: center;\"><span style=\"color: #ff6600;\"><strong>3.25%</strong></span></td><td style=\"text-align: center;\">2.50%</td></tr>,\n",
       " <tr><td style=\"text-align: center;\"><span style=\"color: #8cc63f;\"><strong>9월</strong></span></td><td style=\"text-align: center;\">0.00~0.25%</td><td style=\"text-align: center;\">1.00%</td><td style=\"text-align: center;\">0.10%</td><td style=\"text-align: center;\">0.50%</td><td style=\"text-align: center;\">0.25%</td><td style=\"text-align: center;\">0.25%</td><td style=\"text-align: center;\">3.00%</td><td style=\"text-align: center;\">2.50%</td></tr>,\n",
       " <tr><td style=\"text-align: center;\"><span style=\"color: #8cc63f;\"><strong>8월</strong></span></td><td style=\"text-align: center;\">0.00~0.25%</td><td style=\"text-align: center;\">1.00%</td><td style=\"text-align: center;\">0.10%</td><td style=\"text-align: center;\">0.50%</td><td style=\"text-align: center;\">-</td><td style=\"text-align: center;\">-</td><td style=\"text-align: center;\">3.00%</td><td style=\"text-align: center;\">-</td></tr>,\n",
       " <tr><td style=\"text-align: center;\"><span style=\"color: #8cc63f;\"><strong>7월</strong></span></td><td style=\"text-align: center;\">-</td><td style=\"text-align: center;\">1.00%</td><td style=\"text-align: center;\">0.10%</td><td style=\"text-align: center;\">0.50%</td><td style=\"text-align: center;\">-</td><td style=\"text-align: center;\">0.25%</td><td style=\"text-align: center;\">3.00%</td><td style=\"text-align: center;\">2.50%</td></tr>,\n",
       " <tr><td style=\"text-align: center;\"><span style=\"color: #8cc63f;\"><strong>6월</strong></span></td><td style=\"text-align: center;\">0.00~0.25%</td><td style=\"text-align: center;\">1.00%</td><td style=\"text-align: center;\">0.10%</td><td style=\"text-align: center;\">0.50%</td><td style=\"text-align: center;\">0.25%</td><td style=\"text-align: center;\">0.25%</td><td style=\"text-align: center;\">3.00%</td><td style=\"text-align: center;\">2.50%</td></tr>,\n",
       " <tr><td style=\"text-align: center;\"><span style=\"color: #8cc63f;\"><strong>5월</strong></span></td><td style=\"text-align: center;\">-</td><td style=\"text-align: center;\"><span style=\"color: #ff6600;\"><strong>1.00%</strong></span></td><td style=\"text-align: center;\">0.10%</td><td style=\"text-align: center;\">0.50%</td><td style=\"text-align: center;\">-</td><td style=\"text-align: center;\">-</td><td style=\"text-align: center;\">3.00%</td><td style=\"text-align: center;\">-</td></tr>,\n",
       " <tr><td style=\"text-align: center;\"><span style=\"color: #8cc63f;\"><strong>4월</strong></span></td><td style=\"text-align: center;\">0.00~0.25%</td><td style=\"text-align: center;\"><strong><span style=\"color: #ff6600;\">1.25%</span></strong></td><td style=\"text-align: center;\">0.10%</td><td style=\"text-align: center;\">0.50%</td><td style=\"text-align: center;\">-</td><td style=\"text-align: center;\"><span style=\"color: #ff6600;\"><strong>0.25%</strong></span></td><td style=\"text-align: center;\"><span style=\"color: #ff6600;\"><strong>3.00%</strong></span></td><td style=\"text-align: center;\"><span style=\"color: #ff6600;\"><strong>2.50%</strong></span></td></tr>,\n",
       " <tr><td style=\"text-align: center;\"><span style=\"color: #8cc63f;\"><strong>3월</strong></span></td><td style=\"text-align: center;\">0.00~0.25%</td><td style=\"text-align: center;\"><span style=\"color: #ff6600;\"><strong>1.50%</strong></span></td><td style=\"text-align: center;\">0.10%</td><td style=\"text-align: center;\"><span style=\"color: #ff6600;\"><strong>0.50%</strong></span></td><td style=\"text-align: center;\"><span style=\"color: #ff6600;\"><strong>0.25%</strong></span></td><td style=\"text-align: center;\"><span style=\"color: #ff6600;\"><strong>0.50%</strong></span></td><td style=\"text-align: center;\">3.25%</td><td style=\"text-align: center;\"><span style=\"color: #ff6600;\"><strong>3.00%</strong></span></td></tr>,\n",
       " <tr><td style=\"text-align: center;\"><span style=\"color: #8cc63f;\"><strong>2월</strong></span></td><td style=\"text-align: center;\">-</td><td style=\"text-align: center;\">2.00%</td><td style=\"text-align: center;\">0.10%</td><td style=\"text-align: center;\"><span style=\"color: #ff6600;\"><strong>1.00%</strong></span></td><td style=\"text-align: center;\">-</td><td style=\"text-align: center;\">-</td><td style=\"text-align: center;\"><span style=\"color: #ff6600;\"><strong>3.25%</strong></span></td><td style=\"text-align: center;\">-</td></tr>,\n",
       " <tr><td style=\"text-align: center;\"><span style=\"color: #8cc63f;\"><strong>1월</strong></span></td><td style=\"text-align: center;\">0.00~0.25%</td><td style=\"text-align: center;\"><span style=\"color: #ff6600;\"><strong>2.00%</strong></span></td><td style=\"text-align: center;\">0.10%</td><td style=\"text-align: center;\"><span style=\"color: #ff6600;\"><strong>1.50%</strong></span></td><td style=\"text-align: center;\">-</td><td style=\"text-align: center;\"><span style=\"color: #ff6600;\"><strong>1.00%</strong></span></td><td style=\"text-align: center;\">-</td><td style=\"text-align: center;\"><span style=\"color: #ff6600;\"><strong>3.50%</strong></span></td></tr>,\n",
       " <tr><td> </td><td style=\"text-align: center;\"><span style=\"color: #8cc63f;\"><strong>미국</strong></span></td><td style=\"text-align: center;\"><span style=\"color: #8cc63f;\"><strong>유로존</strong></span></td><td style=\"text-align: center;\"><span style=\"color: #8cc63f;\"><strong>일본</strong></span></td><td style=\"text-align: center;\"><span style=\"color: #8cc63f;\"><strong>영국</strong></span></td><td style=\"text-align: center;\"><span style=\"color: #8cc63f;\"><strong>스위스</strong></span></td><td style=\"text-align: center;\"><span style=\"color: #8cc63f;\"><strong>캐나다</strong></span></td><td style=\"text-align: center;\"><span style=\"color: #8cc63f;\"><strong>호주</strong></span></td><td style=\"text-align: center;\"><span style=\"color: #8cc63f;\"><strong>뉴질랜드</strong></span></td></tr>,\n",
       " <tr><td style=\"text-align: center;\"><span style=\"color: #8cc63f;\"><strong>12월</strong></span></td><td style=\"text-align: center;\">0.00~0.25%</td><td style=\"text-align: center;\">1.00%</td><td style=\"text-align: center;\">0.10%</td><td style=\"text-align: center;\">0.50%</td><td style=\"text-align: center;\">0.25%</td><td style=\"text-align: center;\">1.00%</td><td style=\"text-align: center;\">4.75%</td><td style=\"text-align: center;\">3.00%</td></tr>,\n",
       " <tr><td style=\"text-align: center;\"><span style=\"color: #8cc63f;\"><strong>11월</strong></span></td><td style=\"text-align: center;\">0.00~0.25%</td><td style=\"text-align: center;\">1.00%</td><td style=\"text-align: center;\">0.10%</td><td style=\"text-align: center;\">0.50%</td><td style=\"text-align: center;\">-</td><td style=\"text-align: center;\">-</td><td style=\"text-align: center;\"><span style=\"color: #ff6600;\"><strong>4.75%</strong></span></td><td style=\"text-align: center;\">-</td></tr>,\n",
       " <tr><td style=\"text-align: center;\"><span style=\"color: #8cc63f;\"><strong>10월</strong></span></td><td style=\"text-align: center;\">-</td><td style=\"text-align: center;\">1.00%</td><td style=\"text-align: center;\"><span style=\"color: #333333;\">0.10%</span></td><td style=\"text-align: center;\">0.50%</td><td style=\"text-align: center;\">-</td><td style=\"text-align: center;\">1.00%</td><td style=\"text-align: center;\">4.50%</td><td style=\"text-align: center;\">3.00%</td></tr>,\n",
       " <tr><td style=\"text-align: center;\"><span style=\"color: #8cc63f;\"><strong>9월</strong></span></td><td style=\"text-align: center;\">0.00~0.25%</td><td style=\"text-align: center;\">1.00%</td><td style=\"text-align: center;\">0.10%</td><td style=\"text-align: center;\">0.50%</td><td style=\"text-align: center;\">0.25%</td><td style=\"text-align: center;\"><span style=\"color: #ff6600;\"><strong>1.00%</strong></span></td><td style=\"text-align: center;\">4.50%</td><td style=\"text-align: center;\">3.00%</td></tr>,\n",
       " <tr><td style=\"text-align: center;\"><span style=\"color: #8cc63f;\"><strong>8월</strong></span></td><td style=\"text-align: center;\">0.00~0.25%</td><td style=\"text-align: center;\">1.00%</td><td style=\"text-align: center;\">0.10%</td><td style=\"text-align: center;\">0.50%</td><td style=\"text-align: center;\">-</td><td style=\"text-align: center;\">-</td><td style=\"text-align: center;\">4.50%</td><td style=\"text-align: center;\">-</td></tr>,\n",
       " <tr><td style=\"text-align: center;\"><span style=\"color: #8cc63f;\"><strong>7월</strong></span></td><td style=\"text-align: center;\">-</td><td style=\"text-align: center;\">1.00%</td><td style=\"text-align: center;\">0.10%</td><td style=\"text-align: center;\">0.50%</td><td style=\"text-align: center;\">-</td><td style=\"text-align: center;\"><span style=\"color: #ff6600;\"><strong>0.75%</strong></span></td><td style=\"text-align: center;\">4.50%</td><td style=\"text-align: center;\"><span style=\"color: #ff6600;\"><strong>3.00%</strong></span></td></tr>,\n",
       " <tr><td style=\"text-align: center;\"><span style=\"color: #8cc63f;\"><strong>6월</strong></span></td><td style=\"text-align: center;\">0.00~0.25%</td><td style=\"text-align: center;\">1.00%</td><td style=\"text-align: center;\">0.10%</td><td style=\"text-align: center;\">0.50%</td><td style=\"text-align: center;\">0.25%</td><td style=\"text-align: center;\"><span style=\"color: #ff6600;\"><strong>0.50%</strong></span></td><td style=\"text-align: center;\">4.50%</td><td style=\"text-align: center;\"><span style=\"color: #ff6600;\"><strong>2.75%</strong></span></td></tr>,\n",
       " <tr><td style=\"text-align: center;\"><span style=\"color: #8cc63f;\"><strong>5월</strong></span></td><td style=\"text-align: center;\">-</td><td style=\"text-align: center;\">1.00%</td><td style=\"text-align: center;\">0.10%</td><td style=\"text-align: center;\">0.50%</td><td style=\"text-align: center;\">-</td><td style=\"text-align: center;\">-</td><td style=\"text-align: center;\"><span style=\"color: #ff6600;\"><strong>4.50%</strong></span></td><td style=\"text-align: center;\">-</td></tr>,\n",
       " <tr><td style=\"text-align: center;\"><span style=\"color: #8cc63f;\"><strong>4월</strong></span></td><td style=\"text-align: center;\">0.00~0.25%</td><td style=\"text-align: center;\">1.00%</td><td style=\"text-align: center;\">0.10%</td><td style=\"text-align: center;\">0.50%</td><td style=\"text-align: center;\">-</td><td style=\"text-align: center;\">0.25%</td><td style=\"text-align: center;\"><span style=\"color: #ff6600;\"><strong>4.25%</strong></span></td><td style=\"text-align: center;\">2.50%</td></tr>,\n",
       " <tr><td style=\"text-align: center;\"><span style=\"color: #8cc63f;\"><strong>3월</strong></span></td><td style=\"text-align: center;\">0.00~0.25%</td><td style=\"text-align: center;\">1.00%</td><td style=\"text-align: center;\">0.10%</td><td style=\"text-align: center;\">0.50%</td><td style=\"text-align: center;\">0.25%</td><td style=\"text-align: center;\">0.25%</td><td style=\"text-align: center;\"><span style=\"color: #ff6600;\"><strong>4.00%</strong></span></td><td style=\"text-align: center;\">2.50%</td></tr>,\n",
       " <tr><td style=\"text-align: center;\"><span style=\"color: #8cc63f;\"><strong>2월</strong></span></td><td style=\"text-align: center;\">-</td><td style=\"text-align: center;\">1.00%</td><td style=\"text-align: center;\">0.10%</td><td style=\"text-align: center;\">0.50%</td><td style=\"text-align: center;\">-</td><td style=\"text-align: center;\">-</td><td style=\"text-align: center;\">3.75%</td><td style=\"text-align: center;\">-</td></tr>,\n",
       " <tr><td style=\"text-align: center;\"><span style=\"color: #8cc63f;\"><strong>1월</strong></span></td><td style=\"text-align: center;\">0.00~0.25%</td><td style=\"text-align: center;\">1.00%</td><td style=\"text-align: center;\">0.10%</td><td style=\"text-align: center;\">0.50%</td><td style=\"text-align: center;\">-</td><td style=\"text-align: center;\">0.25%</td><td style=\"text-align: center;\">-</td><td style=\"text-align: center;\">2.50%</td></tr>,\n",
       " <tr><td> </td><td style=\"text-align: center;\"><span style=\"color: #8cc63f;\"><strong>미국</strong></span></td><td style=\"text-align: center;\"><span style=\"color: #8cc63f;\"><strong>유로존</strong></span></td><td style=\"text-align: center;\"><span style=\"color: #8cc63f;\"><strong>일본</strong></span></td><td style=\"text-align: center;\"><span style=\"color: #8cc63f;\"><strong>영국</strong></span></td><td style=\"text-align: center;\"><span style=\"color: #8cc63f;\"><strong>스위스</strong></span></td><td style=\"text-align: center;\"><span style=\"color: #8cc63f;\"><strong>캐나다</strong></span></td><td style=\"text-align: center;\"><span style=\"color: #8cc63f;\"><strong>호주</strong></span></td><td style=\"text-align: center;\"><span style=\"color: #8cc63f;\"><strong>뉴질랜드</strong></span></td></tr>,\n",
       " <tr><td style=\"text-align: center;\"><span style=\"color: #8cc63f;\"><strong>12월</strong></span></td><td style=\"text-align: center;\">0.00~0.25%</td><td style=\"text-align: center;\"><span style=\"color: #ff6600;\"><strong>1.00%</strong></span></td><td style=\"text-align: center;\">0.10%</td><td style=\"text-align: center;\">0.50%</td><td style=\"text-align: center;\">0.00%</td><td style=\"text-align: center;\">1.00%</td><td style=\"text-align: center;\"><span style=\"color: #ff6600;\"><strong>4.25%</strong></span></td><td style=\"text-align: center;\">2.50%</td></tr>,\n",
       " <tr><td style=\"text-align: center;\"><span style=\"color: #8cc63f;\"><strong>11월</strong></span></td><td style=\"text-align: center;\">0.00~0.25%</td><td style=\"text-align: center;\"><span style=\"color: #ff6600;\"><strong>1.25%</strong></span></td><td style=\"text-align: center;\">0.10%</td><td style=\"text-align: center;\">0.50%</td><td style=\"text-align: center;\">-</td><td style=\"text-align: center;\">-</td><td style=\"text-align: center;\">-</td><td style=\"text-align: center;\">-</td></tr>,\n",
       " <tr><td style=\"text-align: center;\"><span style=\"color: #8cc63f;\"><strong>10월</strong></span></td><td style=\"text-align: center;\">-</td><td style=\"text-align: center;\">1.50%</td><td style=\"text-align: center;\">0.10%</td><td style=\"text-align: center;\">0.50%</td><td style=\"text-align: center;\">-</td><td style=\"text-align: center;\">1.00%</td><td style=\"text-align: center;\"><span style=\"color: #ff6600;\"><strong>4.50%</strong></span></td><td style=\"text-align: center;\">2.50%</td></tr>,\n",
       " <tr><td style=\"text-align: center;\"><span style=\"color: #8cc63f;\"><strong>9월</strong></span></td><td style=\"text-align: center;\">0.00~0.25%</td><td style=\"text-align: center;\">1.50%</td><td style=\"text-align: center;\">0.10%</td><td style=\"text-align: center;\">0.50%</td><td style=\"text-align: center;\">0.00%</td><td style=\"text-align: center;\">1.00%</td><td style=\"text-align: center;\">4.75%</td><td style=\"text-align: center;\">2.50%</td></tr>,\n",
       " <tr><td style=\"text-align: center;\"><span style=\"color: #8cc63f;\"><strong>8월</strong></span></td><td style=\"text-align: center;\">0.00~0.25%</td><td style=\"text-align: center;\">1.50%</td><td style=\"text-align: center;\">0.10%</td><td style=\"text-align: center;\">0.50%</td><td style=\"text-align: center;\"><span style=\"color: #ff6600;\"><strong>0.00%</strong></span></td><td style=\"text-align: center;\">-</td><td style=\"text-align: center;\">4.75%</td><td style=\"text-align: center;\">-</td></tr>,\n",
       " <tr><td style=\"text-align: center;\"><span style=\"color: #8cc63f;\"><strong>7월</strong></span></td><td style=\"text-align: center;\">-</td><td style=\"text-align: center;\"><span style=\"color: #ff6600;\"><strong>1.50%</strong></span></td><td style=\"text-align: center;\">0.10%</td><td style=\"text-align: center;\">0.50%</td><td style=\"text-align: center;\">-</td><td style=\"text-align: center;\">1.00%</td><td style=\"text-align: center;\">4.75%</td><td style=\"text-align: center;\">2.50%</td></tr>,\n",
       " <tr><td style=\"text-align: center;\"><span style=\"color: #8cc63f;\"><strong>6월</strong></span></td><td style=\"text-align: center;\">0.00~0.25%</td><td style=\"text-align: center;\">1.25%</td><td style=\"text-align: center;\">0.10%</td><td style=\"text-align: center;\">0.50%</td><td style=\"text-align: center;\">0.25%</td><td style=\"text-align: center;\">-</td><td style=\"text-align: center;\">4.75%</td><td style=\"text-align: center;\">2.50%</td></tr>,\n",
       " <tr><td style=\"text-align: center;\"><span style=\"color: #8cc63f;\"><strong>5월</strong></span></td><td style=\"text-align: center;\">-</td><td style=\"text-align: center;\">1.25%</td><td style=\"text-align: center;\">0.10%</td><td style=\"text-align: center;\">0.50%</td><td style=\"text-align: center;\">-</td><td style=\"text-align: center;\">1.00%</td><td style=\"text-align: center;\">4.75%</td><td style=\"text-align: center;\">-</td></tr>,\n",
       " <tr><td style=\"text-align: center;\"><span style=\"color: #8cc63f;\"><strong>4월</strong></span></td><td style=\"text-align: center;\">0.00~0.25%</td><td style=\"text-align: center;\"><span style=\"color: #ff6600;\"><strong>1.25%</strong></span></td><td style=\"text-align: center;\">0.10%</td><td style=\"text-align: center;\">0.50%</td><td style=\"text-align: center;\">-</td><td style=\"text-align: center;\">1.00%</td><td style=\"text-align: center;\">4.75%</td><td style=\"text-align: center;\">2.50%</td></tr>,\n",
       " <tr><td style=\"text-align: center;\"><span style=\"color: #8cc63f;\"><strong>3월</strong></span></td><td style=\"text-align: center;\">0.00~0.25%</td><td style=\"text-align: center;\">1.00%</td><td style=\"text-align: center;\">0.10%</td><td style=\"text-align: center;\">0.50%</td><td style=\"text-align: center;\">0.25%</td><td style=\"text-align: center;\">1.00%</td><td style=\"text-align: center;\">-</td><td style=\"text-align: center;\"><span style=\"color: #ff6600;\"><strong>2.50%</strong></span></td></tr>,\n",
       " <tr><td style=\"text-align: center;\"><span style=\"color: #8cc63f;\"><strong>2월</strong></span></td><td style=\"text-align: center;\">-</td><td style=\"text-align: center;\">1.00%</td><td style=\"text-align: center;\">0.10%</td><td style=\"text-align: center;\">0.50%</td><td style=\"text-align: center;\">-</td><td style=\"text-align: center;\">-</td><td style=\"text-align: center;\">4.75%</td><td style=\"text-align: center;\">-</td></tr>,\n",
       " <tr><td style=\"text-align: center;\"><span style=\"color: #8cc63f;\"><strong>1월</strong></span></td><td style=\"text-align: center;\">0.00~0.25%</td><td style=\"text-align: center;\">1.00%</td><td style=\"text-align: center;\">0.10%</td><td style=\"text-align: center;\">0.50%</td><td style=\"text-align: center;\">-</td><td style=\"text-align: center;\">1.00%</td><td style=\"text-align: center;\">4.75%</td><td style=\"text-align: center;\">3.00%</td></tr>,\n",
       " <tr><td> </td><td style=\"text-align: center;\"><span style=\"color: #8cc63f;\"><strong>미국</strong></span></td><td style=\"text-align: center;\"><span style=\"color: #8cc63f;\"><strong>유로존</strong></span></td><td style=\"text-align: center;\"><span style=\"color: #8cc63f;\"><strong>일본</strong></span></td><td style=\"text-align: center;\"><span style=\"color: #8cc63f;\"><strong>영국</strong></span></td><td style=\"text-align: center;\"><span style=\"color: #8cc63f;\"><strong>스위스</strong></span></td><td style=\"text-align: center;\"><span style=\"color: #8cc63f;\"><strong>캐나다</strong></span></td><td style=\"text-align: center;\"><span style=\"color: #8cc63f;\"><strong>호주</strong></span></td><td style=\"text-align: center;\"><span style=\"color: #8cc63f;\"><strong>뉴질랜드</strong></span></td></tr>,\n",
       " <tr><td style=\"text-align: center;\"><span style=\"color: #8cc63f;\"><strong>12월</strong></span></td><td style=\"text-align: center;\">0.00~0.25%</td><td style=\"text-align: center;\">0.75%</td><td style=\"text-align: center;\">0.10%</td><td style=\"text-align: center;\">0.50%</td><td style=\"text-align: center;\">0.00%</td><td style=\"text-align: center;\">1.00%</td><td style=\"text-align: center;\"><span style=\"color: #ff6600;\"><strong>3.00%</strong></span></td><td style=\"text-align: center;\">2.50%</td></tr>,\n",
       " <tr><td style=\"text-align: center;\"><span style=\"color: #8cc63f;\"><strong>11월</strong></span></td><td style=\"text-align: center;\">-</td><td style=\"text-align: center;\">0.75%</td><td style=\"text-align: center;\">0.10%</td><td style=\"text-align: center;\">0.50%</td><td style=\"text-align: center;\">-</td><td style=\"text-align: center;\">-</td><td style=\"text-align: center;\">3.25%</td><td style=\"text-align: center;\">-</td></tr>,\n",
       " <tr><td style=\"text-align: center;\"><span style=\"color: #8cc63f;\"><strong>10월</strong></span></td><td style=\"text-align: center;\">0.00~0.25%</td><td style=\"text-align: center;\">0.75%</td><td style=\"text-align: center;\">0.10%</td><td style=\"text-align: center;\">0.50%</td><td style=\"text-align: center;\">-</td><td style=\"text-align: center;\">1.00%</td><td style=\"text-align: center;\"><span style=\"color: #ff6600;\"><strong>3.25%</strong></span></td><td style=\"text-align: center;\">2.50%</td></tr>,\n",
       " <tr><td style=\"text-align: center;\"><span style=\"color: #8cc63f;\"><strong>9월</strong></span></td><td style=\"text-align: center;\">0.00~0.25%</td><td style=\"text-align: center;\">0.75%</td><td style=\"text-align: center;\">0.10%</td><td style=\"text-align: center;\">0.50%</td><td style=\"text-align: center;\">0.00%</td><td style=\"text-align: center;\">1.00%</td><td style=\"text-align: center;\">3.50%</td><td style=\"text-align: center;\">2.50%</td></tr>,\n",
       " <tr><td style=\"text-align: center;\"><span style=\"color: #8cc63f;\"><strong>8월</strong></span></td><td style=\"text-align: center;\">0.00~0.25%</td><td style=\"text-align: center;\">0.75%</td><td style=\"text-align: center;\">0.10%</td><td style=\"text-align: center;\">0.50%</td><td style=\"text-align: center;\">-</td><td style=\"text-align: center;\">-</td><td style=\"text-align: center;\">3.50%</td><td style=\"text-align: center;\">-</td></tr>,\n",
       " <tr><td style=\"text-align: center;\"><span style=\"color: #8cc63f;\"><strong>7월</strong></span></td><td style=\"text-align: center;\">-</td><td style=\"text-align: center;\"><span style=\"color: #ff6600;\"><strong>0.75%</strong></span></td><td style=\"text-align: center;\">0.10%</td><td style=\"text-align: center;\">0.50%</td><td style=\"text-align: center;\">-</td><td style=\"text-align: center;\">1.00%</td><td style=\"text-align: center;\">3.50%</td><td style=\"text-align: center;\">2.50%</td></tr>,\n",
       " <tr><td style=\"text-align: center;\"><span style=\"color: #8cc63f;\"><strong>6월</strong></span></td><td style=\"text-align: center;\">0.00~0.25%</td><td style=\"text-align: center;\">1.00%</td><td style=\"text-align: center;\">0.10%</td><td style=\"text-align: center;\">0.50%</td><td style=\"text-align: center;\">0.00%</td><td style=\"text-align: center;\">1.00%</td><td style=\"text-align: center;\"><span style=\"color: #ff6600;\"><strong>3.50%</strong></span></td><td style=\"text-align: center;\">2.50%</td></tr>,\n",
       " <tr><td style=\"text-align: center;\"><span style=\"color: #8cc63f;\"><strong>5월</strong></span></td><td style=\"text-align: center;\">-</td><td style=\"text-align: center;\">1.00%</td><td style=\"text-align: center;\">0.10%</td><td style=\"text-align: center;\">0.50%</td><td style=\"text-align: center;\">-</td><td style=\"text-align: center;\">-</td><td style=\"text-align: center;\"><span style=\"color: #ff6600;\"><strong>3.75%</strong></span></td><td style=\"text-align: center;\">-</td></tr>,\n",
       " <tr><td style=\"text-align: center;\"><span style=\"color: #8cc63f;\"><strong>4월</strong></span></td><td style=\"text-align: center;\">0.00~0.25%</td><td style=\"text-align: center;\">1.00%</td><td style=\"text-align: center;\">0.10%</td><td style=\"text-align: center;\">0.50%</td><td style=\"text-align: center;\">-</td><td style=\"text-align: center;\">1.00%</td><td style=\"text-align: center;\">4.25%</td><td style=\"text-align: center;\">2.50%</td></tr>,\n",
       " <tr><td style=\"text-align: center;\"><span style=\"color: #8cc63f;\"><strong>3월</strong></span></td><td style=\"text-align: center;\">0.00~0.25%</td><td style=\"text-align: center;\">1.00%</td><td style=\"text-align: center;\">0.10%</td><td style=\"text-align: center;\">0.50%</td><td style=\"text-align: center;\">0.00%</td><td style=\"text-align: center;\">1.00%</td><td style=\"text-align: center;\">4.25%</td><td style=\"text-align: center;\">2.50%</td></tr>,\n",
       " <tr><td style=\"text-align: center;\"><span style=\"color: #8cc63f;\"><strong>2월</strong></span></td><td style=\"text-align: center;\">-</td><td style=\"text-align: center;\">1.00%</td><td style=\"text-align: center;\">0.10%</td><td style=\"text-align: center;\">0.50%</td><td style=\"text-align: center;\">-</td><td style=\"text-align: center;\">-</td><td style=\"text-align: center;\">4.25%</td><td style=\"text-align: center;\">-</td></tr>,\n",
       " <tr><td style=\"text-align: center;\"><span style=\"color: #8cc63f;\"><strong>1월</strong></span></td><td style=\"text-align: center;\">0.00~0.25%</td><td style=\"text-align: center;\">1.00%</td><td style=\"text-align: center;\">0.10%</td><td style=\"text-align: center;\">0.50%</td><td style=\"text-align: center;\">-</td><td style=\"text-align: center;\">1.00%</td><td style=\"text-align: center;\">-</td><td style=\"text-align: center;\">2.50%</td></tr>,\n",
       " <tr><td> </td><td style=\"text-align: center;\"><span style=\"color: #8cc63f;\"><strong>미국</strong></span></td><td style=\"text-align: center;\"><span style=\"color: #8cc63f;\"><strong>유로존</strong></span></td><td style=\"text-align: center;\"><span style=\"color: #8cc63f;\"><strong>일본</strong></span></td><td style=\"text-align: center;\"><span style=\"color: #8cc63f;\"><strong>영국</strong></span></td><td style=\"text-align: center;\"><span style=\"color: #8cc63f;\"><strong>스위스</strong></span></td><td style=\"text-align: center;\"><span style=\"color: #8cc63f;\"><strong>캐나다</strong></span></td><td style=\"text-align: center;\"><span style=\"color: #8cc63f;\"><strong>호주</strong></span></td><td style=\"text-align: center;\"><span style=\"color: #8cc63f;\"><strong>뉴질랜드</strong></span></td></tr>,\n",
       " <tr><td style=\"text-align: center;\"><span style=\"color: #8cc63f;\"><strong>12월</strong></span></td><td style=\"text-align: center;\">0.00~0.25%</td><td style=\"text-align: center;\">0.25%</td><td style=\"text-align: center;\">0.10%</td><td style=\"text-align: center;\">0.50%</td><td style=\"text-align: center;\">0.00%</td><td style=\"text-align: center;\">1.00%</td><td style=\"text-align: center;\">2.50%</td><td style=\"text-align: center;\">2.50%</td></tr>,\n",
       " <tr><td style=\"text-align: center;\"><span style=\"color: #8cc63f;\"><strong>11월</strong></span></td><td style=\"text-align: center;\">-</td><td style=\"text-align: center;\"><span style=\"color: #ff6600;\"><strong>0.25%</strong></span></td><td style=\"text-align: center;\">0.10%</td><td style=\"text-align: center;\">0.50%</td><td style=\"text-align: center;\">-</td><td style=\"text-align: center;\">-</td><td style=\"text-align: center;\">2.50%</td><td style=\"text-align: center;\">-</td></tr>,\n",
       " <tr><td style=\"text-align: center;\"><span style=\"color: #8cc63f;\"><strong>10월</strong></span></td><td style=\"text-align: center;\">0.00~0.25%</td><td style=\"text-align: center;\">0.50%</td><td style=\"text-align: center;\">0.10%</td><td style=\"text-align: center;\">0.50%</td><td style=\"text-align: center;\">-</td><td style=\"text-align: center;\">1.00%</td><td style=\"text-align: center;\">2.50%</td><td style=\"text-align: center;\">2.50%</td></tr>,\n",
       " <tr><td style=\"text-align: center;\"><span style=\"color: #8cc63f;\"><strong>9월</strong></span></td><td style=\"text-align: center;\">0.00~0.25%</td><td style=\"text-align: center;\">0.50%</td><td style=\"text-align: center;\">0.10%</td><td style=\"text-align: center;\">0.50%</td><td style=\"text-align: center;\">0.00%</td><td style=\"text-align: center;\">1.00%</td><td style=\"text-align: center;\">2.50%</td><td style=\"text-align: center;\">2.50%</td></tr>,\n",
       " <tr><td style=\"text-align: center;\"><span style=\"color: #8cc63f;\"><strong>8월</strong></span></td><td style=\"text-align: center;\">-</td><td style=\"text-align: center;\">0.50%</td><td style=\"text-align: center;\">0.10%</td><td style=\"text-align: center;\">0.50%</td><td style=\"text-align: center;\">-</td><td style=\"text-align: center;\">-</td><td style=\"text-align: center;\"><span style=\"color: #ff6600;\"><strong>2.50%</strong></span></td><td style=\"text-align: center;\">-</td></tr>,\n",
       " <tr><td style=\"text-align: center;\"><span style=\"color: #8cc63f;\"><strong>7월</strong></span></td><td style=\"text-align: center;\">0.00~0.25%</td><td style=\"text-align: center;\">0.50%</td><td style=\"text-align: center;\">0.10%</td><td style=\"text-align: center;\">0.50%</td><td style=\"text-align: center;\">-</td><td style=\"text-align: center;\">1.00%</td><td style=\"text-align: center;\">2.75%</td><td style=\"text-align: center;\">2.50%</td></tr>,\n",
       " <tr><td style=\"text-align: center;\"><span style=\"color: #8cc63f;\"><strong>6월</strong></span></td><td style=\"text-align: center;\">0.00~0.25%</td><td style=\"text-align: center;\">0.50%</td><td style=\"text-align: center;\">0.10%</td><td style=\"text-align: center;\">0.50%</td><td style=\"text-align: center;\">0.00%</td><td style=\"text-align: center;\">-</td><td style=\"text-align: center;\">2.75%</td><td style=\"text-align: center;\">2.50%</td></tr>,\n",
       " <tr><td style=\"text-align: center;\"><span style=\"color: #8cc63f;\"><strong>5월</strong></span></td><td style=\"text-align: center;\">0.00~0.25%</td><td style=\"text-align: center;\">0.50%</td><td style=\"text-align: center;\">0.10%</td><td style=\"text-align: center;\">0.50%</td><td style=\"text-align: center;\">-</td><td style=\"text-align: center;\">1.00%</td><td style=\"text-align: center;\"><strong><span style=\"color: #ff6600;\">2.75%</span></strong></td><td style=\"text-align: center;\">-</td></tr>,\n",
       " <tr><td style=\"text-align: center;\"><span style=\"color: #8cc63f;\"><strong>4월</strong></span></td><td style=\"text-align: center;\">-</td><td style=\"text-align: center;\">0.75%</td><td style=\"text-align: center;\">0.10%</td><td style=\"text-align: center;\">0.50%</td><td style=\"text-align: center;\">-</td><td style=\"text-align: center;\">1.00%</td><td style=\"text-align: center;\">3.00%</td><td style=\"text-align: center;\">2.50%</td></tr>,\n",
       " <tr><td style=\"text-align: center;\"><span style=\"color: #8cc63f;\"><strong>3월</strong></span></td><td style=\"text-align: center;\">0.00~0.25%</td><td style=\"text-align: center;\">0.75%</td><td style=\"text-align: center;\">0.10%</td><td style=\"text-align: center;\">0.50%</td><td style=\"text-align: center;\">0.00%</td><td style=\"text-align: center;\">1.00%</td><td style=\"text-align: center;\">3.00%</td><td style=\"text-align: center;\">2.50%</td></tr>,\n",
       " <tr><td style=\"text-align: center;\"><span style=\"color: #8cc63f;\"><strong>2월</strong></span></td><td style=\"text-align: center;\">-</td><td style=\"text-align: center;\">0.75%</td><td style=\"text-align: center;\">0.10%</td><td style=\"text-align: center;\">0.50%</td><td style=\"text-align: center;\">-</td><td style=\"text-align: center;\">-</td><td style=\"text-align: center;\">3.00%</td><td style=\"text-align: center;\">-</td></tr>,\n",
       " <tr><td style=\"text-align: center;\"><span style=\"color: #8cc63f;\"><strong>1월</strong></span></td><td style=\"text-align: center;\">0.00~0.25%</td><td style=\"text-align: center;\">0.75%</td><td style=\"text-align: center;\">0.10%</td><td style=\"text-align: center;\">0.50%</td><td style=\"text-align: center;\">-</td><td style=\"text-align: center;\">1.00%</td><td style=\"text-align: center;\">-</td><td style=\"text-align: center;\">2.50%</td></tr>,\n",
       " <tr><td> </td><td style=\"text-align: center;\"><span style=\"color: #8cc63f;\"><strong>미국</strong></span></td><td style=\"text-align: center;\"><span style=\"color: #8cc63f;\"><strong>유로존</strong></span></td><td style=\"text-align: center;\"><span style=\"color: #8cc63f;\"><strong>일본</strong></span></td><td style=\"text-align: center;\"><span style=\"color: #8cc63f;\"><strong>영국</strong></span></td><td style=\"text-align: center;\"><span style=\"color: #8cc63f;\"><strong>스위스</strong></span></td><td style=\"text-align: center;\"><span style=\"color: #8cc63f;\"><strong>캐나다</strong></span></td><td style=\"text-align: center;\"><span style=\"color: #8cc63f;\"><strong>호주</strong></span></td><td style=\"text-align: center;\"><span style=\"color: #8cc63f;\"><strong>뉴질랜드</strong></span></td></tr>,\n",
       " <tr><td style=\"text-align: center;\"><span style=\"color: #8cc63f;\"><strong>12월</strong></span></td><td style=\"text-align: center;\">0.00~0.25%</td><td style=\"text-align: center;\">0.05%</td><td style=\"text-align: center;\">0.10%</td><td style=\"text-align: center;\">0.50%</td><td style=\"text-align: center;\"><strong><span style=\"color: #ff6600;\">-0.25%</span></strong></td><td style=\"text-align: center;\">1.00%</td><td style=\"text-align: center;\">2.50%</td><td style=\"text-align: center;\">3.50%</td></tr>,\n",
       " <tr><td style=\"text-align: center;\"><span style=\"color: #8cc63f;\"><strong>11월</strong></span></td><td style=\"text-align: center;\">-</td><td style=\"text-align: center;\">0.05%</td><td style=\"text-align: center;\">0.10%</td><td style=\"text-align: center;\">0.50%</td><td style=\"text-align: center;\">-</td><td style=\"text-align: center;\">-</td><td style=\"text-align: center;\">2.50%</td><td style=\"text-align: center;\">-</td></tr>,\n",
       " <tr><td style=\"text-align: center;\"><span style=\"color: #8cc63f;\"><strong>10월</strong></span></td><td style=\"text-align: center;\">0.00~0.25%</td><td style=\"text-align: center;\">0.05%</td><td style=\"text-align: center;\">0.10%</td><td style=\"text-align: center;\">0.50%</td><td style=\"text-align: center;\">-</td><td style=\"text-align: center;\">1.00%</td><td style=\"text-align: center;\">2.50%</td><td style=\"text-align: center;\">3.50%</td></tr>,\n",
       " <tr><td style=\"text-align: center;\"><span style=\"color: #8cc63f;\"><strong>9월</strong></span></td><td style=\"text-align: center;\">0.00~0.25%</td><td style=\"text-align: center;\"><strong><span style=\"color: #ff6600;\">0.05%</span></strong></td><td style=\"text-align: center;\">0.10%</td><td style=\"text-align: center;\">0.50%</td><td style=\"text-align: center;\">0.00%</td><td style=\"text-align: center;\">1.00%</td><td style=\"text-align: center;\">2.50%</td><td style=\"text-align: center;\">3.50%</td></tr>,\n",
       " <tr><td style=\"text-align: center;\"><span style=\"color: #8cc63f;\"><strong>8월</strong></span></td><td style=\"text-align: center;\">-</td><td style=\"text-align: center;\">0.15%</td><td style=\"text-align: center;\">0.10%</td><td style=\"text-align: center;\">0.50%</td><td style=\"text-align: center;\">-</td><td style=\"text-align: center;\">-</td><td style=\"text-align: center;\">2.50%</td><td style=\"text-align: center;\">-</td></tr>,\n",
       " <tr><td style=\"text-align: center;\"><span style=\"color: #8cc63f;\"><strong>7월</strong></span></td><td style=\"text-align: center;\">0.00~0.25%</td><td style=\"text-align: center;\">0.15%</td><td style=\"text-align: center;\">0.10%</td><td style=\"text-align: center;\">0.50%</td><td style=\"text-align: center;\">-</td><td style=\"text-align: center;\">1.00%</td><td style=\"text-align: center;\">2.50%</td><td style=\"text-align: center;\"><span style=\"color: #ff6600;\"><strong>3.50%</strong></span></td></tr>,\n",
       " <tr><td style=\"text-align: center;\"><span style=\"color: #8cc63f;\"><strong>6월</strong></span></td><td style=\"text-align: center;\">0.00~0.25%</td><td style=\"text-align: center;\"><span style=\"color: #ff6600;\"><strong>0.15%</strong></span></td><td style=\"text-align: center;\">0.10%</td><td style=\"text-align: center;\">0.50%</td><td style=\"text-align: center;\">0.00%</td><td style=\"text-align: center;\">1.00%</td><td style=\"text-align: center;\">2.50%</td><td style=\"text-align: center;\"><strong><span style=\"color: #ff6600;\">3.25%</span></strong></td></tr>,\n",
       " <tr><td style=\"text-align: center;\"><span style=\"color: #8cc63f;\"><strong>5월</strong></span></td><td style=\"text-align: center;\">-</td><td style=\"text-align: center;\">0.25%</td><td style=\"text-align: center;\">0.10%</td><td style=\"text-align: center;\">0.50%</td><td style=\"text-align: center;\">-</td><td style=\"text-align: center;\">-</td><td style=\"text-align: center;\">2.50%</td><td style=\"text-align: center;\">-</td></tr>,\n",
       " <tr><td style=\"text-align: center;\"><span style=\"color: #8cc63f;\"><strong>4월</strong></span></td><td style=\"text-align: center;\">0.00~0.25%</td><td style=\"text-align: center;\">0.25%</td><td style=\"text-align: center;\">0.10%</td><td style=\"text-align: center;\">0.50%</td><td style=\"text-align: center;\">-</td><td style=\"text-align: center;\">1.00%</td><td style=\"text-align: center;\">-</td><td style=\"text-align: center;\"><span style=\"color: #ff6600;\"><strong>3.00%</strong></span></td></tr>,\n",
       " <tr><td style=\"text-align: center;\"><span style=\"color: #8cc63f;\"><strong>3월</strong></span></td><td style=\"text-align: center;\">0.00~0.25%</td><td style=\"text-align: center;\">0.25%</td><td style=\"text-align: center;\">0.10%</td><td style=\"text-align: center;\">0.50%</td><td style=\"text-align: center;\">0.00%</td><td style=\"text-align: center;\">1.00%</td><td style=\"text-align: center;\">2.50%</td><td style=\"text-align: center;\"><strong><span style=\"color: #ff6600;\">2.75%</span></strong></td></tr>,\n",
       " <tr><td style=\"text-align: center;\"><span style=\"color: #8cc63f;\"><strong>2월</strong></span></td><td style=\"text-align: center;\">-</td><td style=\"text-align: center;\">0.25%</td><td style=\"text-align: center;\">0.10%</td><td style=\"text-align: center;\">0.50%</td><td style=\"text-align: center;\">-</td><td style=\"text-align: center;\">-</td><td style=\"text-align: center;\">2.50%</td><td style=\"text-align: center;\">-</td></tr>,\n",
       " <tr><td style=\"text-align: center;\"><span style=\"color: #8cc63f;\"><strong>1월</strong></span></td><td style=\"text-align: center;\">0.00~0.25%</td><td style=\"text-align: center;\">0.25%</td><td style=\"text-align: center;\">0.10%</td><td style=\"text-align: center;\">0.50%</td><td style=\"text-align: center;\">-</td><td style=\"text-align: center;\">1.00%</td><td style=\"text-align: center;\">-</td><td style=\"text-align: center;\">2.50%</td></tr>,\n",
       " <tr><td width=\"8%\"> </td><td style=\"text-align: center;\" width=\"11.5%\"><span style=\"color: #8cc63f;\"><strong>미국</strong></span></td><td style=\"text-align: center;\" width=\"11.5%\"><span style=\"color: #8cc63f;\"><strong>유로존</strong></span></td><td style=\"text-align: center;\" width=\"11.5%\"><span style=\"color: #8cc63f;\"><strong>일본</strong></span></td><td style=\"text-align: center;\" width=\"11.5%\"><span style=\"color: #8cc63f;\"><strong>영국</strong></span></td><td style=\"text-align: center;\" width=\"11.5%\"><span style=\"color: #8cc63f;\"><strong>스위스</strong></span></td><td style=\"text-align: center;\" width=\"11.5%\"><span style=\"color: #8cc63f;\"><strong>캐나다</strong></span></td><td style=\"text-align: center;\" width=\"11.5%\"><span style=\"color: #8cc63f;\"><strong>호주</strong></span></td><td style=\"text-align: center;\" width=\"11.5%\"><span style=\"color: #8cc63f;\"><strong>뉴질랜드</strong></span></td></tr>,\n",
       " <tr><td style=\"text-align: center;\"><span style=\"color: #8cc63f;\"><strong>12월</strong></span></td><td style=\"text-align: center;\"><span style=\"color: #ff6600;\"><strong>0.25~0.50%</strong></span></td><td style=\"text-align: center;\">0.50%</td><td style=\"text-align: center;\">-</td><td style=\"text-align: center;\">0.50%</td><td style=\"text-align: center;\">-0.75%</td><td style=\"text-align: center;\">0.50%</td><td style=\"text-align: center;\">2.00%</td><td style=\"text-align: center;\"><strong><span style=\"color: #ff6600;\">2.50%</span></strong></td></tr>,\n",
       " <tr><td style=\"text-align: center;\"><span style=\"color: #8cc63f;\"><strong>11월</strong></span></td><td style=\"text-align: center;\">-</td><td style=\"text-align: center;\">-</td><td style=\"text-align: center;\">0.10%</td><td style=\"text-align: center;\">0.50%</td><td style=\"text-align: center;\">-</td><td style=\"text-align: center;\">-</td><td style=\"text-align: center;\">2.00%</td><td style=\"text-align: center;\">-</td></tr>,\n",
       " <tr><td style=\"text-align: center;\"><span style=\"color: #8cc63f;\"><strong>10월</strong></span></td><td style=\"text-align: center;\">0.00~0.25%</td><td style=\"text-align: center;\">0.05%</td><td style=\"text-align: center;\">0.10%</td><td style=\"text-align: center;\">0.50%</td><td style=\"text-align: center;\">-</td><td style=\"text-align: center;\">0.50%</td><td style=\"text-align: center;\">2.00%</td><td style=\"text-align: center;\">2.75%</td></tr>,\n",
       " <tr><td style=\"text-align: center;\"><span style=\"color: #8cc63f;\"><strong>9월</strong></span></td><td style=\"text-align: center;\">0.00~0.25%</td><td style=\"text-align: center;\">0.05%</td><td style=\"text-align: center;\">0.10%</td><td style=\"text-align: center;\">0.50%</td><td style=\"text-align: center;\">-0.75%</td><td style=\"text-align: center;\">0.50%</td><td style=\"text-align: center;\">2.00%</td><td style=\"text-align: center;\"><strong><span style=\"color: #ff6600;\">2.75%</span></strong></td></tr>,\n",
       " <tr><td style=\"text-align: center;\"><span style=\"color: #8cc63f;\"><strong>8월</strong></span></td><td style=\"text-align: center;\">-</td><td style=\"text-align: center;\">-</td><td style=\"text-align: center;\">0.10%</td><td style=\"text-align: center;\">0.50%</td><td style=\"text-align: center;\">-</td><td style=\"text-align: center;\">-</td><td style=\"text-align: center;\">2.00%</td><td style=\"text-align: center;\">-</td></tr>,\n",
       " <tr><td style=\"text-align: center;\"><span style=\"color: #8cc63f;\"><strong>7월</strong></span></td><td style=\"text-align: center;\">0.00~0.25%</td><td style=\"text-align: center;\">0.05%</td><td style=\"text-align: center;\">0.10%</td><td style=\"text-align: center;\">0.50%</td><td style=\"text-align: center;\">-</td><td style=\"text-align: center;\"><span style=\"color: #ff6600;\"><strong>0.50%</strong></span></td><td style=\"text-align: center;\">2.00%</td><td style=\"text-align: center;\"><span style=\"color: #ff6600;\"><strong>3.00%</strong></span></td></tr>,\n",
       " <tr><td style=\"text-align: center;\"><span style=\"color: #8cc63f;\"><strong>6월</strong></span></td><td style=\"text-align: center;\">0.00~0.25%</td><td style=\"text-align: center;\">0.05%</td><td style=\"text-align: center;\">0.10%</td><td style=\"text-align: center;\">0.50%</td><td style=\"text-align: center;\">-0.75%</td><td style=\"text-align: center;\">-</td><td style=\"text-align: center;\">2.00%</td><td style=\"text-align: center;\"><strong><span style=\"color: #ff6600;\">3.25%</span></strong></td></tr>,\n",
       " <tr><td style=\"text-align: center;\"><span style=\"color: #8cc63f;\"><strong>5월</strong></span></td><td style=\"text-align: center;\">-</td><td style=\"text-align: center;\">-</td><td style=\"text-align: center;\">0.10%</td><td style=\"text-align: center;\">0.50%</td><td style=\"text-align: center;\">-</td><td style=\"text-align: center;\">0.75%</td><td style=\"text-align: center;\"><strong><span style=\"color: #ff6600;\">2.00%</span> </strong></td><td style=\"text-align: center;\">-</td></tr>,\n",
       " <tr><td style=\"text-align: center;\"><span style=\"color: #8cc63f;\"><strong>4월</strong></span></td><td style=\"text-align: center;\">0.00~0.25%</td><td style=\"text-align: center;\">0.05%</td><td style=\"text-align: center;\">0.10%</td><td style=\"text-align: center;\">0.50%</td><td style=\"text-align: center;\">-</td><td style=\"text-align: center;\">0.75%</td><td style=\"text-align: center;\">2.25%</td><td style=\"text-align: center;\">3.50%</td></tr>,\n",
       " <tr><td style=\"text-align: center;\"><span style=\"color: #8cc63f;\"><strong>3월</strong></span></td><td style=\"text-align: center;\">0.00~0.25%</td><td style=\"text-align: center;\">0.05%</td><td style=\"text-align: center;\">0.10%</td><td style=\"text-align: center;\">0.50%</td><td style=\"text-align: center;\">-0.75%</td><td style=\"text-align: center;\">0.75%</td><td style=\"text-align: center;\">2.25%</td><td style=\"text-align: center;\">3.50%</td></tr>,\n",
       " <tr><td style=\"text-align: center;\"><span style=\"color: #8cc63f;\"><strong>2월</strong></span></td><td style=\"text-align: center;\">-</td><td style=\"text-align: center;\">-</td><td style=\"text-align: center;\">0.10%</td><td style=\"text-align: center;\">0.50%</td><td style=\"text-align: center;\">-</td><td style=\"text-align: center;\">-</td><td style=\"text-align: center;\"><span style=\"color: #ff6600;\"><strong>2.25%</strong></span></td><td style=\"text-align: center;\">-</td></tr>,\n",
       " <tr><td style=\"text-align: center;\"><span style=\"color: #8cc63f;\"><strong>1월</strong></span></td><td style=\"text-align: center;\">0.00~0.25%</td><td style=\"text-align: center;\">0.05%</td><td style=\"text-align: center;\">0.10%</td><td style=\"text-align: center;\">0.50%</td><td style=\"text-align: center;\"><span style=\"color: #ff6600;\"><strong>-0.75%</strong></span></td><td style=\"text-align: center;\"><span style=\"color: #ff6600;\"><strong>0.75%</strong></span></td><td style=\"text-align: center;\">-</td><td style=\"text-align: center;\">3.50%</td></tr>,\n",
       " <tr><td width=\"8%\"> </td><td style=\"text-align: center;\" width=\"11.5%\"><span style=\"color: #8cc63f;\"><strong>미국</strong></span></td><td style=\"text-align: center;\" width=\"11.5%\"><span style=\"color: #8cc63f;\"><strong>유로존</strong></span></td><td style=\"text-align: center;\" width=\"11.5%\"><span style=\"color: #8cc63f;\"><strong>일본</strong></span></td><td style=\"text-align: center;\" width=\"11.5%\"><span style=\"color: #8cc63f;\"><strong>영국</strong></span></td><td style=\"text-align: center;\" width=\"11.5%\"><span style=\"color: #8cc63f;\"><strong>스위스</strong></span></td><td style=\"text-align: center;\" width=\"11.5%\"><span style=\"color: #8cc63f;\"><strong>캐나다</strong></span></td><td style=\"text-align: center;\" width=\"11.5%\"><span style=\"color: #8cc63f;\"><strong>호주</strong></span></td><td style=\"text-align: center;\" width=\"11.5%\"><span style=\"color: #8cc63f;\"><strong>뉴질랜드</strong></span></td></tr>,\n",
       " <tr><td style=\"text-align: center;\"><span style=\"color: #8cc63f;\"><strong>12월</strong></span></td><td style=\"text-align: center;\"><strong><span style=\"color: #ff6600;\">0.50~0.25%</span></strong></td><td style=\"text-align: center;\">0.00%</td><td style=\"text-align: center;\">-0.10%</td><td style=\"text-align: center;\">0.25%</td><td style=\"text-align: center;\">-0.75%</td><td style=\"text-align: center;\">0.50%</td><td style=\"text-align: center;\">1.50%</td><td style=\"text-align: center;\"><span style=\"color: #000000;\">-</span></td></tr>,\n",
       " <tr><td style=\"text-align: center;\"><span style=\"color: #8cc63f;\"><strong>11월</strong></span></td><td style=\"text-align: center;\">0.25~0.50%</td><td style=\"text-align: center;\">-</td><td style=\"text-align: center;\">-0.10%</td><td style=\"text-align: center;\">0.25%</td><td style=\"text-align: center;\">-</td><td style=\"text-align: center;\">-</td><td style=\"text-align: center;\">1.50%</td><td style=\"text-align: center;\"><span style=\"color: #ff6600;\"><strong>1.75%</strong></span></td></tr>,\n",
       " <tr><td style=\"text-align: center;\"><span style=\"color: #8cc63f;\"><strong>10월</strong></span></td><td style=\"text-align: center;\">-</td><td style=\"text-align: center;\">0.00%</td><td style=\"text-align: center;\">-</td><td style=\"text-align: center;\">-</td><td style=\"text-align: center;\">-</td><td style=\"text-align: center;\">0.50%</td><td style=\"text-align: center;\">1.50%</td><td style=\"text-align: center;\">-</td></tr>,\n",
       " <tr><td style=\"text-align: center;\"><span style=\"color: #8cc63f;\"><strong>9월</strong></span></td><td style=\"text-align: center;\">0.25~0.50%</td><td style=\"text-align: center;\">0.00%</td><td style=\"text-align: center;\">-0.10%</td><td style=\"text-align: center;\">0.25%</td><td style=\"text-align: center;\">-0.75%</td><td style=\"text-align: center;\">0.50%</td><td style=\"text-align: center;\">1.50%</td><td style=\"text-align: center;\"><span style=\"color: #000000;\">2.00%</span></td></tr>,\n",
       " <tr><td style=\"text-align: center;\"><span style=\"color: #8cc63f;\"><strong>8월</strong></span></td><td style=\"text-align: center;\">-</td><td style=\"text-align: center;\">-</td><td style=\"text-align: center;\">-</td><td style=\"text-align: center;\"><span style=\"color: #ff6600;\"><strong>0.25%</strong></span></td><td style=\"text-align: center;\">-</td><td style=\"text-align: center;\">-</td><td style=\"text-align: center;\"><span style=\"color: #ff6600;\"><strong>1.50%</strong></span></td><td style=\"text-align: center;\"><strong><span style=\"color: #ff6600;\">2.00%</span></strong></td></tr>,\n",
       " <tr><td style=\"text-align: center;\"><span style=\"color: #8cc63f;\"><strong>7월</strong></span></td><td style=\"text-align: center;\">0.25~0.50%</td><td style=\"text-align: center;\">0.00%</td><td style=\"text-align: center;\">-0.10%</td><td style=\"text-align: center;\">0.50%</td><td style=\"text-align: center;\">-</td><td style=\"text-align: center;\"><span style=\"color: #000000;\">0.50%</span></td><td style=\"text-align: center;\">1.75%</td><td style=\"text-align: center;\"><span style=\"color: #000000;\">-</span></td></tr>,\n",
       " <tr><td style=\"text-align: center;\"><span style=\"color: #8cc63f;\"><strong>6월</strong></span></td><td style=\"text-align: center;\">-</td><td style=\"text-align: center;\">0.00%</td><td style=\"text-align: center;\">-</td><td style=\"text-align: center;\">0.50%</td><td style=\"text-align: center;\">-0.75%</td><td style=\"text-align: center;\">-</td><td style=\"text-align: center;\">1.75%</td><td style=\"text-align: center;\"><span style=\"color: #000000;\">2.25%</span></td></tr>,\n",
       " <tr><td style=\"text-align: center;\"><span style=\"color: #8cc63f;\"><strong>5월</strong></span></td><td style=\"text-align: center;\">0.25~0.50%</td><td style=\"text-align: center;\">-</td><td style=\"text-align: center;\">-0.10%</td><td style=\"text-align: center;\">0.50%</td><td style=\"text-align: center;\">-</td><td style=\"text-align: center;\">0.50%</td><td style=\"text-align: center;\"><strong><span style=\"color: #ff6600;\">1.75%</span> </strong></td><td style=\"text-align: center;\">-</td></tr>,\n",
       " <tr><td style=\"text-align: center;\"><span style=\"color: #8cc63f;\"><strong>4월</strong></span></td><td style=\"text-align: center;\">0.25~0.50%</td><td style=\"text-align: center;\">0.00%</td><td style=\"text-align: center;\">-0.10%</td><td style=\"text-align: center;\">0.50%</td><td style=\"text-align: center;\">-</td><td style=\"text-align: center;\">0.50%</td><td style=\"text-align: center;\">2.00%</td><td style=\"text-align: center;\">2.25%</td></tr>,\n",
       " <tr><td style=\"text-align: center;\"><span style=\"color: #8cc63f;\"><strong>3월</strong></span></td><td style=\"text-align: center;\"><span style=\"color: #000000;\">0.25~0.50%</span></td><td style=\"text-align: center;\"><strong><span style=\"color: #ff6600;\">0.00%</span></strong></td><td style=\"text-align: center;\">-0.10%</td><td style=\"text-align: center;\">0.50%</td><td style=\"text-align: center;\">-0.75%</td><td style=\"text-align: center;\">0.50%</td><td style=\"text-align: center;\">2.00%</td><td style=\"text-align: center;\"><span style=\"color: #ff6600;\"><strong>2.25%</strong></span></td></tr>,\n",
       " <tr><td style=\"text-align: center;\"><span style=\"color: #8cc63f;\"><strong>2월</strong></span></td><td style=\"text-align: center;\">-</td><td style=\"text-align: center;\">-</td><td style=\"text-align: center;\">-</td><td style=\"text-align: center;\">0.50%</td><td style=\"text-align: center;\">-</td><td style=\"text-align: center;\">-</td><td style=\"text-align: center;\"><span style=\"color: #000000;\">2.00%</span></td><td style=\"text-align: center;\">-</td></tr>,\n",
       " <tr><td style=\"text-align: center;\"><span style=\"color: #8cc63f;\"><strong>1월</strong></span></td><td style=\"text-align: center;\"><span style=\"color: #000000;\">0.25~0.50%</span></td><td style=\"text-align: center;\">0.05%</td><td style=\"text-align: center;\"><span style=\"color: #ff6600;\"><strong>-0.10%</strong></span></td><td style=\"text-align: center;\">0.50%</td><td style=\"text-align: center;\"><span style=\"color: #000000;\">-</span></td><td style=\"text-align: center;\"><span style=\"color: #000000;\">0.50%</span></td><td style=\"text-align: center;\">-</td><td style=\"text-align: center;\">2.50%</td></tr>,\n",
       " <tr><td width=\"8%\"> </td><td style=\"text-align: center;\" width=\"11.5%\"><span style=\"color: #8cc63f;\"><strong>미국</strong></span></td><td style=\"text-align: center;\" width=\"11.5%\"><span style=\"color: #8cc63f;\"><strong>유로존</strong></span></td><td style=\"text-align: center;\" width=\"11.5%\"><span style=\"color: #8cc63f;\"><strong>일본</strong></span></td><td style=\"text-align: center;\" width=\"11.5%\"><span style=\"color: #8cc63f;\"><strong>영국</strong></span></td><td style=\"text-align: center;\" width=\"11.5%\"><span style=\"color: #8cc63f;\"><strong>스위스</strong></span></td><td style=\"text-align: center;\" width=\"11.5%\"><span style=\"color: #8cc63f;\"><strong>캐나다</strong></span></td><td style=\"text-align: center;\" width=\"11.5%\"><span style=\"color: #8cc63f;\"><strong>호주</strong></span></td><td style=\"text-align: center;\" width=\"11.5%\"><span style=\"color: #8cc63f;\"><strong>뉴질랜드</strong></span></td></tr>,\n",
       " <tr><td style=\"text-align: center;\"><span style=\"color: #8cc63f;\"><strong>12월</strong></span></td><td style=\"text-align: center;\"><strong><span style=\"color: #ff6600;\"> 1.25~1.50%</span></strong></td><td style=\"text-align: center;\">0.00%</td><td style=\"text-align: center;\"> </td><td style=\"text-align: center;\">0.50%</td><td style=\"text-align: center;\">-0.75%</td><td style=\"text-align: center;\">1.00%</td><td style=\"text-align: center;\">1.50%</td><td style=\"text-align: center;\"> </td></tr>,\n",
       " <tr><td style=\"text-align: center;\"><span style=\"color: #8cc63f;\"><strong>11월</strong></span></td><td style=\"text-align: center;\">1.00~1.25%</td><td style=\"text-align: center;\">-</td><td style=\"text-align: center;\">-0.10%</td><td style=\"text-align: center;\"><strong><span style=\"color: #ff6600;\">0.50%</span></strong></td><td style=\"text-align: center;\">-</td><td style=\"text-align: center;\">-</td><td style=\"text-align: center;\">1.50%</td><td style=\"text-align: center;\">1.75%</td></tr>,\n",
       " <tr><td style=\"text-align: center;\"><span style=\"color: #8cc63f;\"><strong>10월</strong></span></td><td style=\"text-align: center;\">-</td><td style=\"text-align: center;\">0.00%</td><td style=\"text-align: center;\">-0.10%</td><td style=\"text-align: center;\">-</td><td style=\"text-align: center;\">-</td><td style=\"text-align: center;\">1.00%</td><td style=\"text-align: center;\">1.50%</td><td style=\"text-align: center;\">-</td></tr>,\n",
       " <tr><td style=\"text-align: center;\"><span style=\"color: #8cc63f;\"><strong>9월</strong></span></td><td style=\"text-align: center;\">1.00~1.25%</td><td style=\"text-align: center;\">0.00%</td><td style=\"text-align: center;\">-0.10%</td><td style=\"text-align: center;\">0.25%</td><td style=\"text-align: center;\">-0.75%</td><td style=\"text-align: center;\"><span style=\"color: #ff6600;\"><strong>1.00%</strong></span></td><td style=\"text-align: center;\">1.50%</td><td style=\"text-align: center;\">1.75%</td></tr>,\n",
       " <tr><td style=\"text-align: center;\"><span style=\"color: #8cc63f;\"><strong>8월</strong></span></td><td style=\"text-align: center;\">-</td><td style=\"text-align: center;\">-</td><td style=\"text-align: center;\">-</td><td style=\"text-align: center;\">0.25%</td><td style=\"text-align: center;\">-</td><td style=\"text-align: center;\">-</td><td style=\"text-align: center;\">1.50%</td><td style=\"text-align: center;\">1.75%</td></tr>,\n",
       " <tr><td style=\"text-align: center;\"><span style=\"color: #8cc63f;\"><strong>7월</strong></span></td><td style=\"text-align: center;\">1.00~1.25%</td><td style=\"text-align: center;\">0.00%</td><td style=\"text-align: center;\">-0.10%</td><td style=\"text-align: center;\">-</td><td style=\"text-align: center;\">-</td><td style=\"text-align: center;\"><span style=\"color: #ff6600;\"><strong>0.75%</strong></span></td><td style=\"text-align: center;\">1.50%</td><td style=\"text-align: center;\">-</td></tr>,\n",
       " <tr><td style=\"text-align: center;\"><span style=\"color: #8cc63f;\"><strong>6월</strong></span></td><td style=\"text-align: center;\"><span style=\"color: #ff6600;\"><strong>1.00%~1.25%</strong></span></td><td style=\"text-align: center;\">0.00%</td><td style=\"text-align: center;\">-0.10%</td><td style=\"text-align: center;\">0.25%</td><td style=\"text-align: center;\">-0.75%</td><td style=\"text-align: center;\">-</td><td style=\"text-align: center;\">1.50%</td><td style=\"text-align: center;\">1.75%</td></tr>,\n",
       " <tr><td style=\"text-align: center;\"><span style=\"color: #8cc63f;\"><strong>5월</strong></span></td><td style=\"text-align: center;\">0.75~1.00%</td><td style=\"text-align: center;\">-</td><td style=\"text-align: center;\">-</td><td style=\"text-align: center;\">0.25%</td><td style=\"text-align: center;\">-</td><td style=\"text-align: center;\">0.50%</td><td style=\"text-align: center;\">1.50%</td><td style=\"text-align: center;\">1.75%</td></tr>,\n",
       " <tr><td style=\"text-align: center;\"><span style=\"color: #8cc63f;\"><strong>4월</strong></span></td><td style=\"text-align: center;\">-</td><td style=\"text-align: center;\">0.00%</td><td style=\"text-align: center;\">-0.10%</td><td style=\"text-align: center;\">-</td><td style=\"text-align: center;\">-</td><td style=\"text-align: center;\">0.50%</td><td style=\"text-align: center;\">1.50%</td><td style=\"text-align: center;\">-</td></tr>,\n",
       " <tr><td style=\"text-align: center;\"><span style=\"color: #8cc63f;\"><strong>3월</strong></span></td><td style=\"text-align: center;\"><span style=\"color: #ff6600;\"><strong>0.75~1.00%</strong></span></td><td style=\"text-align: center;\"><span style=\"color: #000000;\">-</span></td><td style=\"text-align: center;\">-0.10%</td><td style=\"text-align: center;\">0.25%</td><td style=\"text-align: center;\">-0.75%</td><td style=\"text-align: center;\">0.50%</td><td style=\"text-align: center;\">1.50%</td><td style=\"text-align: center;\"><span style=\"color: #000000;\">1.75%</span></td></tr>,\n",
       " <tr><td style=\"text-align: center;\"><span style=\"color: #8cc63f;\"><strong>2월</strong></span></td><td style=\"text-align: center;\">0.50~0.75%</td><td style=\"text-align: center;\">-</td><td style=\"text-align: center;\">-</td><td style=\"text-align: center;\">0.25%</td><td style=\"text-align: center;\">-</td><td style=\"text-align: center;\">-</td><td style=\"text-align: center;\"><span style=\"color: #000000;\">1.50%</span></td><td style=\"text-align: center;\">1.75%</td></tr>,\n",
       " <tr><td style=\"text-align: center;\"><span style=\"color: #8cc63f;\"><strong>1월</strong></span></td><td style=\"text-align: center;\"><span style=\"color: #000000;\">-</span></td><td style=\"text-align: center;\">0.00%</td><td style=\"text-align: center;\"><span style=\"color: #000000;\">-0.10%</span></td><td style=\"text-align: center;\">-</td><td style=\"text-align: center;\"><span style=\"color: #000000;\">-</span></td><td style=\"text-align: center;\"><span style=\"color: #000000;\">0.50%</span></td><td style=\"text-align: center;\">-</td><td style=\"text-align: center;\">-</td></tr>,\n",
       " <tr><td width=\"8%\"> </td><td style=\"text-align: center;\" width=\"11.5%\"><span style=\"color: #8cc63f;\"><strong>미국</strong></span></td><td style=\"text-align: center;\" width=\"11.5%\"><span style=\"color: #8cc63f;\"><strong>유로존</strong></span></td><td style=\"text-align: center;\" width=\"11.5%\"><span style=\"color: #8cc63f;\"><strong>일본</strong></span></td><td style=\"text-align: center;\" width=\"11.5%\"><span style=\"color: #8cc63f;\"><strong>영국</strong></span></td><td style=\"text-align: center;\" width=\"11.5%\"><span style=\"color: #8cc63f;\"><strong>스위스</strong></span></td><td style=\"text-align: center;\" width=\"11.5%\"><span style=\"color: #8cc63f;\"><strong>캐나다</strong></span></td><td style=\"text-align: center;\" width=\"11.5%\"><span style=\"color: #8cc63f;\"><strong>호주</strong></span></td><td style=\"text-align: center;\" width=\"11.5%\"><span style=\"color: #8cc63f;\"><strong>뉴질랜드</strong></span></td></tr>,\n",
       " <tr><td style=\"text-align: center;\"><span style=\"color: #8cc63f;\"><strong>12월</strong></span></td><td style=\"text-align: center;\"><strong><span style=\"color: #ff6600;\">2.25~2.50%</span></strong></td><td style=\"text-align: center;\">0.00%</td><td style=\"text-align: center;\">-0.10%</td><td style=\"text-align: center;\">0.75%</td><td style=\"text-align: center;\">-0.75%</td><td style=\"text-align: center;\">1.75%</td><td style=\"text-align: center;\">1.50%</td><td style=\"text-align: center;\">-</td></tr>,\n",
       " <tr><td style=\"text-align: center;\"><span style=\"color: #8cc63f;\"><strong>11월</strong></span></td><td style=\"text-align: center;\">2.00~2.25%</td><td style=\"text-align: center;\">-</td><td style=\"text-align: center;\">-</td><td style=\"text-align: center;\">0.75%</td><td style=\"text-align: center;\">-</td><td style=\"text-align: center;\">-</td><td style=\"text-align: center;\">1.50%</td><td style=\"text-align: center;\">1.75%</td></tr>,\n",
       " <tr><td style=\"text-align: center;\"><span style=\"color: #8cc63f;\"><strong>10월</strong></span></td><td style=\"text-align: center;\">-</td><td style=\"text-align: center;\">0.00%</td><td style=\"text-align: center;\">-0.10%</td><td style=\"text-align: center;\">-</td><td style=\"text-align: center;\">-</td><td style=\"text-align: center;\"><strong><span style=\"color: #ff6600;\">1.75%</span></strong></td><td style=\"text-align: center;\">1.50%</td><td style=\"text-align: center;\">-</td></tr>,\n",
       " <tr><td style=\"text-align: center;\"><span style=\"color: #8cc63f;\"><strong>9월</strong></span></td><td style=\"text-align: center;\"><strong><span style=\"color: #ff6600;\">2.00~2.25%</span></strong></td><td style=\"text-align: center;\">0.00%</td><td style=\"text-align: center;\">-0.10%</td><td style=\"text-align: center;\">0.75%</td><td style=\"text-align: center;\">-0.75%</td><td style=\"text-align: center;\">1.50%</td><td style=\"text-align: center;\">1.50%</td><td style=\"text-align: center;\">1.75%</td></tr>,\n",
       " <tr><td style=\"text-align: center;\"><span style=\"color: #8cc63f;\"><strong>8월</strong></span></td><td style=\"text-align: center;\">1.75~2.00%</td><td style=\"text-align: center;\">-</td><td style=\"text-align: center;\">-</td><td style=\"text-align: center;\"><strong><span style=\"color: #ff6600;\">0.75%</span></strong></td><td style=\"text-align: center;\">-</td><td style=\"text-align: center;\">-</td><td style=\"text-align: center;\">1.50%</td><td style=\"text-align: center;\">1.75%</td></tr>,\n",
       " <tr><td style=\"text-align: center;\"><span style=\"color: #8cc63f;\"><strong>7월</strong></span></td><td style=\"text-align: center;\">-</td><td style=\"text-align: center;\">0.00%</td><td style=\"text-align: center;\">-0.10%</td><td style=\"text-align: center;\">-</td><td style=\"text-align: center;\">-</td><td style=\"text-align: center;\"><strong><span style=\"color: #ff6600;\">1.50%</span></strong></td><td style=\"text-align: center;\">1.50%</td><td style=\"text-align: center;\">-</td></tr>,\n",
       " <tr><td style=\"text-align: center;\"><span style=\"color: #8cc63f;\"><strong>6월</strong></span></td><td style=\"text-align: center;\"><strong><span style=\"color: #ff6600;\">1.75~2.00%</span></strong></td><td style=\"text-align: center;\">0.00%</td><td style=\"text-align: center;\">-</td><td style=\"text-align: center;\">0.50%</td><td style=\"text-align: center;\">-0.75%</td><td style=\"text-align: center;\">-</td><td style=\"text-align: center;\">1.50%</td><td style=\"text-align: center;\">1.75%</td></tr>,\n",
       " <tr><td style=\"text-align: center;\"><span style=\"color: #8cc63f;\"><strong>5월</strong></span></td><td style=\"text-align: center;\">1.50~1.75%</td><td style=\"text-align: center;\"><span style=\"display: inline !important; float: none; background-color: transparent; color: #333333; cursor: text; font-family: Georgia,'Times New Roman','Bitstream Charter',Times,serif; font-size: 16px; font-style: normal; font-variant: normal; font-weight: 400; letter-spacing: normal; orphans: 2; text-align: left; text-decoration: none; text-indent: 0px; text-transform: none; -webkit-text-stroke-width: 0px; white-space: normal; word-spacing: 0px;\">-</span></td><td style=\"text-align: center;\"><span style=\"display: inline !important; float: none; background-color: transparent; color: #333333; cursor: text; font-family: Georgia,'Times New Roman','Bitstream Charter',Times,serif; font-size: 16px; font-style: normal; font-variant: normal; font-weight: 400; letter-spacing: normal; orphans: 2; text-align: left; text-decoration: none; text-indent: 0px; text-transform: none; -webkit-text-stroke-width: 0px; white-space: normal; word-spacing: 0px;\">-</span></td><td style=\"text-align: center;\">0.50%</td><td style=\"text-align: center;\"><span style=\"display: inline !important; float: none; background-color: transparent; color: #333333; cursor: text; font-family: Georgia,'Times New Roman','Bitstream Charter',Times,serif; font-size: 16px; font-style: normal; font-variant: normal; font-weight: 400; letter-spacing: normal; orphans: 2; text-align: left; text-decoration: none; text-indent: 0px; text-transform: none; -webkit-text-stroke-width: 0px; white-space: normal; word-spacing: 0px;\">-</span></td><td style=\"text-align: center;\">1.25%</td><td style=\"text-align: center;\">1.50%</td><td style=\"text-align: center;\">1.75%</td></tr>,\n",
       " <tr><td style=\"text-align: center;\"><span style=\"color: #8cc63f;\"><strong>4월</strong></span></td><td style=\"text-align: center;\">-</td><td style=\"text-align: center;\">0.00%</td><td style=\"text-align: center;\"><span style=\"color: #000000;\">-0.10%</span></td><td style=\"text-align: center;\">-</td><td style=\"text-align: center;\">-</td><td style=\"text-align: center;\">1.25%</td><td style=\"text-align: center;\">1.50%</td><td style=\"text-align: center;\">-</td></tr>,\n",
       " <tr><td style=\"text-align: center;\"><span style=\"color: #8cc63f;\"><strong>3월</strong></span></td><td style=\"text-align: center;\"><strong><span style=\"color: #ff6600;\">1.50~1.75%</span></strong></td><td style=\"text-align: center;\">0.00%</td><td style=\"text-align: center;\">-0.10%</td><td style=\"text-align: center;\">0.50%</td><td style=\"text-align: center;\">-0.75%</td><td style=\"text-align: center;\">1.25%</td><td style=\"text-align: center;\">1.50%</td><td style=\"text-align: center;\">1.75%</td></tr>,\n",
       " <tr><td style=\"text-align: center;\"><span style=\"color: #8cc63f;\"><strong>2월</strong></span></td><td style=\"text-align: center;\">-</td><td style=\"text-align: center;\">-</td><td style=\"text-align: center;\">-</td><td style=\"text-align: center;\">0.50%</td><td style=\"text-align: center;\">-</td><td style=\"text-align: center;\">-</td><td style=\"text-align: center;\"><span style=\"color: #000000;\">1.50%</span></td><td style=\"text-align: center;\">1.75%</td></tr>,\n",
       " <tr><td style=\"text-align: center;\"><span style=\"color: #8cc63f;\"><strong>1월</strong></span></td><td style=\"text-align: center;\"><span style=\"color: #000000;\">1.25~1.50%</span></td><td style=\"text-align: center;\">0.00%</td><td style=\"text-align: center;\"><span style=\"color: #000000;\">-0.10%</span></td><td style=\"text-align: center;\">-</td><td style=\"text-align: center;\"><span style=\"color: #000000;\">-</span></td><td style=\"text-align: center;\"><strong><span style=\"color: #ff6600;\">1.25%</span></strong></td><td style=\"text-align: center;\">-</td><td style=\"text-align: center;\">-</td></tr>,\n",
       " <tr><td width=\"8%\"> </td><td style=\"text-align: center;\" width=\"11.5%\"><span style=\"color: #8cc63f;\"><strong>미국</strong></span></td><td style=\"text-align: center;\" width=\"11.5%\"><span style=\"color: #8cc63f;\"><strong>유로존</strong></span></td><td style=\"text-align: center;\" width=\"11.5%\"><span style=\"color: #8cc63f;\"><strong>일본</strong></span></td><td style=\"text-align: center;\" width=\"11.5%\"><span style=\"color: #8cc63f;\"><strong>영국</strong></span></td><td style=\"text-align: center;\" width=\"11.5%\"><span style=\"color: #8cc63f;\"><strong>스위스</strong></span></td><td style=\"text-align: center;\" width=\"11.5%\"><span style=\"color: #8cc63f;\"><strong>캐나다</strong></span></td><td style=\"text-align: center;\" width=\"11.5%\"><span style=\"color: #8cc63f;\"><strong>호주</strong></span></td><td style=\"text-align: center;\" width=\"11.5%\"><span style=\"color: #8cc63f;\"><strong>뉴질랜드</strong></span></td></tr>,\n",
       " <tr><td style=\"text-align: center;\"><span style=\"color: #8cc63f;\"><strong>12월</strong></span></td><td style=\"text-align: center;\">1.50~1.75%</td><td style=\"text-align: center;\">0.00%</td><td style=\"text-align: center;\">-0.00%</td><td style=\"text-align: center;\">0.75%</td><td style=\"text-align: center;\">-0.75%</td><td style=\"text-align: center;\">1.75%</td><td style=\"text-align: center;\">0.75%</td><td style=\"text-align: center;\">-</td></tr>,\n",
       " <tr><td style=\"text-align: center;\"><span style=\"color: #8cc63f;\"><strong>11월</strong></span></td><td style=\"text-align: center;\">-</td><td style=\"text-align: center;\">-</td><td style=\"text-align: center;\">-</td><td style=\"text-align: center;\">0.75%</td><td style=\"text-align: center;\">-</td><td style=\"text-align: center;\">-</td><td style=\"text-align: center;\">0.75%</td><td style=\"text-align: center;\">1.00%</td></tr>,\n",
       " <tr><td style=\"text-align: center;\"><span style=\"color: #8cc63f;\"><strong>10월</strong></span></td><td style=\"text-align: center;\"><span style=\"color: #ff6600;\">1.50~1.75%</span></td><td style=\"text-align: center;\">0.00%</td><td style=\"text-align: center;\">-0.00%</td><td style=\"text-align: center;\">-</td><td style=\"text-align: center;\">-</td><td style=\"text-align: center;\">1.75%</td><td style=\"text-align: center;\"><span style=\"color: #ff6600;\">0.75%</span></td><td style=\"text-align: center;\">-</td></tr>,\n",
       " <tr><td style=\"text-align: center;\"><span style=\"color: #8cc63f;\"><strong>9월</strong></span></td><td style=\"text-align: center;\"><span style=\"color: #ff6600;\">1.75~2.00%</span></td><td style=\"text-align: center;\">0.00%</td><td style=\"text-align: center;\">-0.00%</td><td style=\"text-align: center;\">0.75%</td><td style=\"text-align: center;\">-0.75%</td><td style=\"text-align: center;\">1.75%</td><td style=\"text-align: center;\">1.00%</td><td style=\"text-align: center;\">1.00%</td></tr>,\n",
       " <tr><td style=\"text-align: center;\"><span style=\"color: #8cc63f;\"><strong>8월</strong></span></td><td style=\"text-align: center;\">-</td><td style=\"text-align: center;\">-</td><td style=\"text-align: center;\">-</td><td style=\"text-align: center;\">0.75%</td><td style=\"text-align: center;\">-</td><td style=\"text-align: center;\">-</td><td style=\"text-align: center;\"><span style=\"color: #ff6600;\">1.00%</span></td><td style=\"text-align: center;\"><span style=\"color: #ff6600;\">1.00%</span></td></tr>,\n",
       " <tr><td style=\"text-align: center;\"><span style=\"color: #8cc63f;\"><strong>7월</strong></span></td><td style=\"text-align: center;\"><span style=\"color: #ff6600;\">2.00~2.25%</span></td><td style=\"text-align: center;\">0.00%</td><td style=\"text-align: center;\">-0.00%</td><td style=\"text-align: center;\">-</td><td style=\"text-align: center;\">-</td><td style=\"text-align: center;\">1.75%</td><td style=\"text-align: center;\">1.25%</td><td style=\"text-align: center;\">-</td></tr>,\n",
       " <tr><td style=\"text-align: center;\"><span style=\"color: #8cc63f;\"><strong>6월</strong></span></td><td style=\"text-align: center;\">2.25~2.50%</td><td style=\"text-align: center;\">-</td><td style=\"text-align: center;\">-0.00%</td><td style=\"text-align: center;\">0.75%</td><td style=\"text-align: center;\">-0.75%</td><td style=\"text-align: center;\">-</td><td style=\"text-align: center;\"><span style=\"color: #ff6600;\">1.25%</span></td><td style=\"text-align: center;\">1.50%</td></tr>,\n",
       " <tr><td style=\"text-align: center;\"><span style=\"color: #8cc63f;\"><strong>5월</strong></span></td><td style=\"text-align: center;\">2.25~2.50%</td><td style=\"text-align: center;\">-</td><td style=\"text-align: center;\">-</td><td style=\"text-align: center;\">0.75%</td><td style=\"text-align: center;\">-</td><td style=\"text-align: center;\">1.75%</td><td style=\"text-align: center;\">1.50%</td><td style=\"text-align: center;\"><span style=\"color: #ff6600;\">1.50%</span></td></tr>,\n",
       " <tr><td style=\"text-align: center;\"><span style=\"color: #8cc63f;\"><strong>4월</strong></span></td><td style=\"text-align: center;\">-</td><td style=\"text-align: center;\">0.00%</td><td style=\"text-align: center;\">-0.10%</td><td style=\"text-align: center;\">-</td><td style=\"text-align: center;\">-</td><td style=\"text-align: center;\">1.75%</td><td style=\"text-align: center;\">1.50%</td><td style=\"text-align: center;\">-</td></tr>,\n",
       " <tr><td style=\"text-align: center;\"><span style=\"color: #8cc63f;\"><strong>3월</strong></span></td><td style=\"text-align: center;\">2.25~2.50%</td><td style=\"text-align: center;\">0.00%</td><td style=\"text-align: center;\">-0.10%</td><td style=\"text-align: center;\">0.75%</td><td style=\"text-align: center;\">-0.75%</td><td style=\"text-align: center;\">1.75%</td><td style=\"text-align: center;\">1.50%</td><td style=\"text-align: center;\">1.75%</td></tr>,\n",
       " <tr><td style=\"text-align: center;\"><span style=\"color: #8cc63f;\"><strong>2월</strong></span></td><td style=\"text-align: center;\">-</td><td style=\"text-align: center;\">-</td><td style=\"text-align: center;\">-</td><td style=\"text-align: center;\">0.75%</td><td style=\"text-align: center;\">-</td><td style=\"text-align: center;\">-</td><td style=\"text-align: center;\">1.50%</td><td style=\"text-align: center;\">1.75%</td></tr>,\n",
       " <tr><td style=\"text-align: center;\"><span style=\"color: #8cc63f;\"><strong>1월</strong></span></td><td style=\"text-align: center;\">2.25~2.50%</td><td style=\"text-align: center;\">0.00%</td><td style=\"text-align: center;\">-0.10%</td><td style=\"text-align: center;\">-</td><td style=\"text-align: center;\">-</td><td style=\"text-align: center;\">1.75%</td><td style=\"text-align: center;\">-</td><td style=\"text-align: center;\">-</td></tr>,\n",
       " <tr><td width=\"8%\"> </td><td style=\"text-align: center;\" width=\"11.5%\"><span style=\"color: #8cc63f;\"><strong>미국</strong></span></td><td style=\"text-align: center;\" width=\"11.5%\"><span style=\"color: #8cc63f;\"><strong>유로존</strong></span></td><td style=\"text-align: center;\" width=\"11.5%\"><span style=\"color: #8cc63f;\"><strong>일본</strong></span></td><td style=\"text-align: center;\" width=\"11.5%\"><span style=\"color: #8cc63f;\"><strong>영국</strong></span></td><td style=\"text-align: center;\" width=\"11.5%\"><span style=\"color: #8cc63f;\"><strong>스위스</strong></span></td><td style=\"text-align: center;\" width=\"11.5%\"><span style=\"color: #8cc63f;\"><strong>캐나다</strong></span></td><td style=\"text-align: center;\" width=\"11.5%\"><span style=\"color: #8cc63f;\"><strong>호주</strong></span></td><td style=\"text-align: center;\" width=\"11.5%\"><span style=\"color: #8cc63f;\"><strong>뉴질랜드</strong></span></td></tr>,\n",
       " <tr><td style=\"text-align: center;\"><span style=\"color: #8cc63f;\"><strong>12월</strong></span></td><td style=\"text-align: center;\">0.00~0.25%</td><td style=\"text-align: center;\">0.00%</td><td style=\"text-align: center;\">-0.10%</td><td style=\"text-align: center;\">0.10%</td><td style=\"text-align: center;\">-0.75%</td><td style=\"text-align: center;\">0.25%</td><td style=\"text-align: center;\">0.10%</td><td style=\"text-align: center;\">-</td></tr>,\n",
       " <tr><td style=\"text-align: center;\"><span style=\"color: #8cc63f;\"><strong>11월</strong></span></td><td style=\"text-align: center;\">0.00~0.25%</td><td style=\"text-align: center;\">-</td><td style=\"text-align: center;\">-</td><td style=\"text-align: center;\">0.10%</td><td style=\"text-align: center;\">-</td><td style=\"text-align: center;\">-</td><td style=\"text-align: center;\"><span style=\"color: #ff6600;\">0.10%</span></td><td style=\"text-align: center;\">0.25%</td></tr>,\n",
       " <tr><td style=\"text-align: center;\"><span style=\"color: #8cc63f;\"><strong>10월</strong></span></td><td style=\"text-align: center;\">-</td><td style=\"text-align: center;\">0.00%</td><td style=\"text-align: center;\">-0.10%</td><td style=\"text-align: center;\">-</td><td style=\"text-align: center;\">-</td><td style=\"text-align: center;\">0.25%</td><td style=\"text-align: center;\">0.25%</td><td style=\"text-align: center;\">-</td></tr>,\n",
       " <tr><td style=\"text-align: center;\"><span style=\"color: #8cc63f;\"><strong>9월</strong></span></td><td style=\"text-align: center;\">0.00~0.25%</td><td style=\"text-align: center;\">0.00%</td><td style=\"text-align: center;\">-0.10%</td><td style=\"text-align: center;\">0.10%</td><td style=\"text-align: center;\">-0.75%</td><td style=\"text-align: center;\">0.25%</td><td style=\"text-align: center;\">0.25%</td><td style=\"text-align: center;\">0.25%</td></tr>,\n",
       " <tr><td style=\"text-align: center;\"><span style=\"color: #8cc63f;\"><strong>8월</strong></span></td><td style=\"text-align: center;\">-</td><td style=\"text-align: center;\">-</td><td style=\"text-align: center;\">-</td><td style=\"text-align: center;\">0.10%</td><td style=\"text-align: center;\">-</td><td style=\"text-align: center;\">-</td><td style=\"text-align: center;\">0.25%</td><td style=\"text-align: center;\">0.25%</td></tr>,\n",
       " <tr><td style=\"text-align: center;\"><span style=\"color: #8cc63f;\"><strong>7월</strong></span></td><td style=\"text-align: center;\">0.00~0.25%</td><td style=\"text-align: center;\">0.00%</td><td style=\"text-align: center;\">-0.10%</td><td style=\"text-align: center;\">-</td><td style=\"text-align: center;\">-</td><td style=\"text-align: center;\">0.25%</td><td style=\"text-align: center;\">0.25%</td><td style=\"text-align: center;\">-</td></tr>,\n",
       " <tr><td style=\"text-align: center;\"><span style=\"color: #8cc63f;\"><strong>6월</strong></span></td><td style=\"text-align: center;\">0.00~0.25%</td><td style=\"text-align: center;\">0.00%</td><td style=\"text-align: center;\">-0.10%</td><td style=\"text-align: center;\">0.10%</td><td style=\"text-align: center;\">-0.75%</td><td style=\"text-align: center;\">0.25%</td><td style=\"text-align: center;\">0.25%</td><td style=\"text-align: center;\">0.25%</td></tr>,\n",
       " <tr><td style=\"text-align: center;\"><span style=\"color: #8cc63f;\"><strong>5월</strong></span></td><td style=\"text-align: center;\">-</td><td style=\"text-align: center;\">-</td><td style=\"text-align: center;\">-0.10%</td><td style=\"text-align: center;\">0.10%</td><td style=\"text-align: center;\">-</td><td style=\"text-align: center;\">-</td><td style=\"text-align: center;\">0.25%</td><td style=\"text-align: center;\">0.25%</td></tr>,\n",
       " <tr><td style=\"text-align: center;\"><span style=\"color: #8cc63f;\"><strong>4월</strong></span></td><td style=\"text-align: center;\">0.00~0.25%</td><td style=\"text-align: center;\">0.00%</td><td style=\"text-align: center;\">-0.10%</td><td style=\"text-align: center;\">-</td><td style=\"text-align: center;\">-</td><td style=\"text-align: center;\">0.25%</td><td style=\"text-align: center;\">0.25%</td><td style=\"text-align: center;\">-</td></tr>,\n",
       " <tr><td style=\"text-align: center;\"><span style=\"color: #ff6600;\"><strong>긴급</strong></span></td><td style=\"text-align: center;\"><span style=\"color: #ff6600;\">0.00~0.25%</span></td><td style=\"text-align: center;\">0.00%</td><td style=\"text-align: center;\">-</td><td style=\"text-align: center;\"><span style=\"color: #ff6600;\">0.10%</span></td><td style=\"text-align: center;\">-</td><td style=\"text-align: center;\"><span style=\"color: #ff6600;\">0.25%</span></td><td style=\"text-align: center;\"><span style=\"color: #ff6600;\">0.25%</span></td><td style=\"text-align: center;\"><span style=\"color: #ff6600;\">0.25%</span></td></tr>,\n",
       " <tr><td style=\"text-align: center;\"><span style=\"color: #8cc63f;\"><strong>3월</strong></span></td><td style=\"text-align: center;\"><span style=\"color: #ff6600;\">1.00~1.25%</span></td><td style=\"text-align: center;\">0.00%</td><td style=\"text-align: center;\">-0.10%</td><td style=\"text-align: center;\"><span style=\"color: #ff6600;\">0.25%</span></td><td style=\"text-align: center;\">-0.75%</td><td style=\"text-align: center;\"><span style=\"color: #ff6600;\">1.25%</span></td><td style=\"text-align: center;\"><span style=\"color: #ff6600;\">0.50%</span></td><td style=\"text-align: center;\">-</td></tr>,\n",
       " <tr><td style=\"text-align: center;\"><span style=\"color: #8cc63f;\"><strong>2월</strong></span></td><td style=\"text-align: center;\">-</td><td style=\"text-align: center;\">-</td><td style=\"text-align: center;\">-</td><td style=\"text-align: center;\">-</td><td style=\"text-align: center;\">-</td><td style=\"text-align: center;\">-</td><td style=\"text-align: center;\">0.75%</td><td style=\"text-align: center;\">1.00%</td></tr>,\n",
       " <tr><td style=\"text-align: center;\"><span style=\"color: #8cc63f;\"><strong>1월</strong></span></td><td style=\"text-align: center;\">1.50~1.75%</td><td style=\"text-align: center;\">0.00%</td><td style=\"text-align: center;\">-0.10%</td><td style=\"text-align: center;\">0.75%</td><td style=\"text-align: center;\">-</td><td style=\"text-align: center;\">1.75%</td><td style=\"text-align: center;\">-</td><td style=\"text-align: center;\">-</td></tr>,\n",
       " <tr><td width=\"8%\"> </td><td style=\"text-align: center;\" width=\"11.5%\"><span style=\"color: #8cc63f;\"><strong>미국</strong></span></td><td style=\"text-align: center;\" width=\"11.5%\"><span style=\"color: #8cc63f;\"><strong>유로존</strong></span></td><td style=\"text-align: center;\" width=\"11.5%\"><span style=\"color: #8cc63f;\"><strong>일본</strong></span></td><td style=\"text-align: center;\" width=\"11.5%\"><span style=\"color: #8cc63f;\"><strong>영국</strong></span></td><td style=\"text-align: center;\" width=\"11.5%\"><span style=\"color: #8cc63f;\"><strong>스위스</strong></span></td><td style=\"text-align: center;\" width=\"11.5%\"><span style=\"color: #8cc63f;\"><strong>캐나다</strong></span></td><td style=\"text-align: center;\" width=\"11.5%\"><span style=\"color: #8cc63f;\"><strong>호주</strong></span></td><td style=\"text-align: center;\" width=\"11.5%\"><span style=\"color: #8cc63f;\"><strong>뉴질랜드</strong></span></td></tr>,\n",
       " <tr><td style=\"text-align: center;\"><span style=\"color: #8cc63f;\"><strong>12월</strong></span></td><td style=\"text-align: center;\">0.00~0.25%</td><td style=\"text-align: center;\">0.00%</td><td style=\"text-align: center;\">-0.10%</td><td style=\"text-align: center;\"><span style=\"color: #ff6600;\">0.25%</span></td><td style=\"text-align: center;\">-0.75%</td><td style=\"text-align: center;\">-</td><td style=\"text-align: center;\">0.10%</td><td style=\"text-align: center;\">-</td></tr>,\n",
       " <tr><td style=\"text-align: center;\"><span style=\"color: #8cc63f;\"><strong>11월</strong></span></td><td style=\"text-align: center;\">0.00~0.25%</td><td style=\"text-align: center;\">-</td><td style=\"text-align: center;\">-</td><td style=\"text-align: center;\">0.10%</td><td style=\"text-align: center;\">-</td><td style=\"text-align: center;\">-</td><td style=\"text-align: center;\">0.10%</td><td style=\"text-align: center;\"><span style=\"color: #ff6600;\">0.75%</span></td></tr>,\n",
       " <tr><td style=\"text-align: center;\"><span style=\"color: #8cc63f;\"><strong>10월</strong></span></td><td style=\"text-align: center;\">-</td><td style=\"text-align: center;\">0.00%</td><td style=\"text-align: center;\">-0.10%</td><td style=\"text-align: center;\">-</td><td style=\"text-align: center;\">-</td><td style=\"text-align: center;\">0.25%</td><td style=\"text-align: center;\">0.10%</td><td style=\"text-align: center;\"><span style=\"color: #ff6600;\">0.50%</span></td></tr>,\n",
       " <tr><td style=\"text-align: center;\"><span style=\"color: #8cc63f;\"><strong>9월</strong></span></td><td style=\"text-align: center;\">0.00~0.25%</td><td style=\"text-align: center;\">0.00%</td><td style=\"text-align: center;\">-0.10%</td><td style=\"text-align: center;\">0.10%</td><td style=\"text-align: center;\">-</td><td style=\"text-align: center;\">0.25%</td><td style=\"text-align: center;\">0.10%</td><td style=\"text-align: center;\">-</td></tr>,\n",
       " <tr><td style=\"text-align: center;\"><span style=\"color: #8cc63f;\"><strong>8월</strong></span></td><td style=\"text-align: center;\">-</td><td style=\"text-align: center;\">-</td><td style=\"text-align: center;\">-</td><td style=\"text-align: center;\">0.10%</td><td style=\"text-align: center;\">-</td><td style=\"text-align: center;\">-</td><td style=\"text-align: center;\">0.10%</td><td style=\"text-align: center;\">0.25%</td></tr>,\n",
       " <tr><td style=\"text-align: center;\"><span style=\"color: #8cc63f;\"><strong>7월</strong></span></td><td style=\"text-align: center;\">0.00~0.25%</td><td style=\"text-align: center;\">0.00%</td><td style=\"text-align: center;\">-0.10%</td><td style=\"text-align: center;\">-</td><td style=\"text-align: center;\">-</td><td style=\"text-align: center;\">0.25%</td><td style=\"text-align: center;\">0.10%</td><td style=\"text-align: center;\">0.25%</td></tr>,\n",
       " <tr><td style=\"text-align: center;\"><span style=\"color: #8cc63f;\"><strong>6월</strong></span></td><td style=\"text-align: center;\">0.00~0.25%</td><td style=\"text-align: center;\">0.00%</td><td style=\"text-align: center;\">-0.10%</td><td style=\"text-align: center;\">0.10%</td><td style=\"text-align: center;\">-0.75%</td><td style=\"text-align: center;\">0.25%</td><td style=\"text-align: center;\">0.10%</td><td style=\"text-align: center;\">-</td></tr>,\n",
       " <tr><td style=\"text-align: center;\"><span style=\"color: #8cc63f;\"><strong>5월</strong></span></td><td style=\"text-align: center;\">-</td><td style=\"text-align: center;\">-</td><td style=\"text-align: center;\">-</td><td style=\"text-align: center;\">0.10%</td><td style=\"text-align: center;\">-</td><td style=\"text-align: center;\">-</td><td style=\"text-align: center;\">0.10%</td><td style=\"text-align: center;\">0.25%</td></tr>,\n",
       " <tr><td style=\"text-align: center;\"><span style=\"color: #8cc63f;\"><strong>4월</strong></span></td><td style=\"text-align: center;\">0.00~0.25%</td><td style=\"text-align: center;\">0.00%</td><td style=\"text-align: center;\">-0.10%</td><td style=\"text-align: center;\">-</td><td style=\"text-align: center;\">-</td><td style=\"text-align: center;\">0.25%</td><td style=\"text-align: center;\">0.10%</td><td style=\"text-align: center;\">0.25%</td></tr>,\n",
       " <tr><td style=\"text-align: center;\"><span style=\"color: #8cc63f;\"><strong>3월</strong></span></td><td style=\"text-align: center;\">0.00~0.25%</td><td style=\"text-align: center;\">0.00%</td><td style=\"text-align: center;\">-0.10%</td><td style=\"text-align: center;\">0.10%</td><td style=\"text-align: center;\">-0.75%</td><td style=\"text-align: center;\">0.25%</td><td style=\"text-align: center;\">0.10%</td><td style=\"text-align: center;\">-</td></tr>,\n",
       " <tr><td style=\"text-align: center;\"><span style=\"color: #8cc63f;\"><strong>2월</strong></span></td><td style=\"text-align: center;\">-</td><td style=\"text-align: center;\">-</td><td style=\"text-align: center;\">-</td><td style=\"text-align: center;\">0.10%</td><td style=\"text-align: center;\">-</td><td style=\"text-align: center;\">-</td><td style=\"text-align: center;\">0.10%</td><td style=\"text-align: center;\">0.25%</td></tr>,\n",
       " <tr><td style=\"text-align: center;\"><span style=\"color: #8cc63f;\"><strong>1월</strong></span></td><td style=\"text-align: center;\">0.00~0.25%</td><td style=\"text-align: center;\">0.00%</td><td style=\"text-align: center;\">-0.10%</td><td style=\"text-align: center;\">0.10%</td><td style=\"text-align: center;\">-</td><td style=\"text-align: center;\">0.25%</td><td style=\"text-align: center;\">0.10%</td><td style=\"text-align: center;\">-</td></tr>,\n",
       " <tr><td width=\"8%\"> </td><td style=\"text-align: center;\" width=\"11.5%\"><span style=\"color: #8cc63f;\"><strong>미국</strong></span></td><td style=\"text-align: center;\" width=\"11.5%\"><span style=\"color: #8cc63f;\"><strong>유로존</strong></span></td><td style=\"text-align: center;\" width=\"11.5%\"><span style=\"color: #8cc63f;\"><strong>일본</strong></span></td><td style=\"text-align: center;\" width=\"11.5%\"><span style=\"color: #8cc63f;\"><strong>영국</strong></span></td><td style=\"text-align: center;\" width=\"11.5%\"><span style=\"color: #8cc63f;\"><strong>스위스</strong></span></td><td style=\"text-align: center;\" width=\"11.5%\"><span style=\"color: #8cc63f;\"><strong>캐나다</strong></span></td><td style=\"text-align: center;\" width=\"11.5%\"><span style=\"color: #8cc63f;\"><strong>호주</strong></span></td><td style=\"text-align: center;\" width=\"11.5%\"><span style=\"color: #8cc63f;\"><strong>뉴질랜드</strong></span></td></tr>,\n",
       " <tr><td style=\"text-align: center;\"><span style=\"color: #8cc63f;\"><strong>12월</strong></span></td><td style=\"text-align: center;\"> </td><td style=\"text-align: center;\"> </td><td style=\"text-align: center;\"> </td><td style=\"text-align: center;\"> </td><td style=\"text-align: center;\"> </td><td style=\"text-align: center;\"> </td><td style=\"text-align: center;\"> </td><td style=\"text-align: center;\"> </td></tr>,\n",
       " <tr><td style=\"text-align: center;\"><span style=\"color: #8cc63f;\"><strong>11월</strong></span></td><td style=\"text-align: center;\"><span style=\"color: #ff6600;\">3.75~4.00%</span></td><td style=\"text-align: center;\"> </td><td style=\"text-align: center;\"> </td><td style=\"text-align: center;\"><span style=\"color: #ff6600;\">3.00%</span></td><td style=\"text-align: center;\"> </td><td style=\"text-align: center;\"> </td><td style=\"text-align: center;\"><span style=\"color: #ff6600;\">2.85%</span></td><td style=\"text-align: center;\"> </td></tr>,\n",
       " <tr><td style=\"text-align: center;\"><span style=\"color: #8cc63f;\"><strong>10월</strong></span></td><td style=\"text-align: center;\">-</td><td style=\"text-align: center;\"><span style=\"color: #ff6600;\">2.00%</span></td><td style=\"text-align: center;\">-0.10%</td><td style=\"text-align: center;\">-</td><td style=\"text-align: center;\">-</td><td style=\"text-align: center;\"><span style=\"color: #ff6600;\">3.75%</span></td><td style=\"text-align: center;\"><span style=\"color: #ff6600;\">2.60%</span></td><td style=\"text-align: center;\"><span style=\"color: #ff6600;\">3.50%</span></td></tr>,\n",
       " <tr><td style=\"text-align: center;\"><span style=\"color: #8cc63f;\"><strong>9월</strong></span></td><td style=\"text-align: center;\"><span style=\"color: #ff6600;\">3.00~3.25%</span></td><td style=\"text-align: center;\"><span style=\"color: #ff6600;\">1.25%</span></td><td style=\"text-align: center;\">-0.10%</td><td style=\"text-align: center;\"><span style=\"color: #ff6600;\">2.25%</span></td><td style=\"text-align: center;\"><span style=\"color: #ff6600;\">0.50%</span></td><td style=\"text-align: center;\"><span style=\"color: #ff6600;\">3.25%</span></td><td style=\"text-align: center;\"><span style=\"color: #ff6600;\">2.35%</span></td><td style=\"text-align: center;\">-</td></tr>,\n",
       " <tr><td style=\"text-align: center;\"><span style=\"color: #8cc63f;\"><strong>8월</strong></span></td><td style=\"text-align: center;\">-</td><td style=\"text-align: center;\">-</td><td style=\"text-align: center;\">-</td><td style=\"text-align: center;\"><span style=\"color: #ff6600;\">1.75%</span></td><td style=\"text-align: center;\">-</td><td style=\"text-align: center;\">-</td><td style=\"text-align: center;\"><span style=\"color: #ff6600;\">1.85%</span></td><td style=\"text-align: center;\"><span style=\"color: #ff6600;\">3.00%</span></td></tr>,\n",
       " <tr><td style=\"text-align: center;\"><span style=\"color: #8cc63f;\"><strong>7월</strong></span></td><td style=\"text-align: center;\"><span style=\"color: #ff6600;\">2.25~2.50%</span></td><td style=\"text-align: center;\"><span style=\"color: #ff6600;\">0.50%</span></td><td style=\"text-align: center;\">-0.10%</td><td style=\"text-align: center;\">-</td><td style=\"text-align: center;\">-</td><td style=\"text-align: center;\"><span style=\"color: #ff6600;\">2.50%</span></td><td style=\"text-align: center;\"><span style=\"color: #ff6600;\">1.35%</span></td><td style=\"text-align: center;\"><span style=\"color: #ff6600;\">2.50%</span></td></tr>,\n",
       " <tr><td style=\"text-align: center;\"><span style=\"color: #8cc63f;\"><strong>6월</strong></span></td><td style=\"text-align: center;\"><span style=\"color: #ff6600;\">1.50~1.75%</span></td><td style=\"text-align: center;\">0.00%</td><td style=\"text-align: center;\">-0.10%</td><td style=\"text-align: center;\"><span style=\"color: #ff6600;\">1.25%</span></td><td style=\"text-align: center;\"><span style=\"color: #ff6600;\">-0.25%</span></td><td style=\"text-align: center;\"><span style=\"color: #ff6600;\">1.50%</span></td><td style=\"text-align: center;\"><span style=\"color: #ff6600;\">0.85%</span></td><td style=\"text-align: center;\">-</td></tr>,\n",
       " <tr><td style=\"text-align: center;\"><span style=\"color: #8cc63f;\"><strong>5월</strong></span></td><td style=\"text-align: center;\"><span style=\"color: #ff6600;\">0.75~1.00%</span></td><td style=\"text-align: center;\">-</td><td style=\"text-align: center;\">-</td><td style=\"text-align: center;\"><span style=\"color: #ff6600;\">1.00%</span></td><td style=\"text-align: center;\">-</td><td style=\"text-align: center;\">-</td><td style=\"text-align: center;\"><span style=\"color: #ff6600;\">0.35%</span></td><td style=\"text-align: center;\"><span style=\"color: #ff6600;\">2.00%</span></td></tr>,\n",
       " <tr><td style=\"text-align: center;\"><span style=\"color: #8cc63f;\"><strong>4월</strong></span></td><td style=\"text-align: center;\">-</td><td style=\"text-align: center;\">0.00%</td><td style=\"text-align: center;\">-</td><td style=\"text-align: center;\">-</td><td style=\"text-align: center;\">-</td><td style=\"text-align: center;\"><span style=\"color: #ff6600;\">1.00%</span></td><td style=\"text-align: center;\">0.10%</td><td style=\"text-align: center;\"><span style=\"color: #ff6600;\">1.50%</span></td></tr>,\n",
       " <tr><td style=\"text-align: center;\"><span style=\"color: #8cc63f;\"><strong>3월</strong></span></td><td style=\"text-align: center;\"><span style=\"color: #ff6600;\">0.25~0.50%</span></td><td style=\"text-align: center;\">0.00%</td><td style=\"text-align: center;\">-0.10%</td><td style=\"text-align: center;\"><span style=\"color: #ff6600;\">0.75%</span></td><td style=\"text-align: center;\">-</td><td style=\"text-align: center;\"><span style=\"color: #ff6600;\">0.50%</span></td><td style=\"text-align: center;\">0.10%</td><td style=\"text-align: center;\">-</td></tr>,\n",
       " <tr><td style=\"text-align: center;\"><span style=\"color: #8cc63f;\"><strong>2월</strong></span></td><td style=\"text-align: center;\">-</td><td style=\"text-align: center;\">0.00%</td><td style=\"text-align: center;\">-</td><td style=\"text-align: center;\"><span style=\"color: #ff6600;\">0.50%</span></td><td style=\"text-align: center;\">-</td><td style=\"text-align: center;\">-</td><td style=\"text-align: center;\">-</td><td style=\"text-align: center;\"><span style=\"color: #ff6600;\">1.00%</span></td></tr>,\n",
       " <tr><td style=\"text-align: center;\"><span style=\"color: #8cc63f;\"><strong>1월</strong></span></td><td style=\"text-align: center;\">0.00~0.25%</td><td style=\"text-align: center;\">-</td><td style=\"text-align: center;\">-0.10%</td><td style=\"text-align: center;\">-</td><td style=\"text-align: center;\">-</td><td style=\"text-align: center;\">0.25%</td><td style=\"text-align: center;\">-</td><td style=\"text-align: center;\">-</td></tr>]"
      ]
     },
     "execution_count": 19,
     "metadata": {},
     "output_type": "execute_result"
    }
   ],
   "source": [
    "interest_rate_table = soup.select('table tr')\n",
    "interest_rate_table"
   ]
  },
  {
   "cell_type": "code",
   "execution_count": null,
   "metadata": {
    "collapsed": false
   },
   "outputs": [
    {
     "data": {
      "text/plain": [
       "['\\xa0미국유로존일본영국스위스캐나다호주뉴질랜드',\n",
       " '12월0.00~0.25%2.50%0.10%2.00%0.50%1.50%4.25%5.00%',\n",
       " '11월-3.25%0.30%3.00%1.00%-5.25%-',\n",
       " '10월1.00%3.75%0.30%4.50%2.50%2.25%6.00%6.50%',\n",
       " '9월2.00%4.25%0.50%5.00%2.75%3.00%7.00%7.50%',\n",
       " '8월2.00%4.25%0.50%5.00%--7.25%-',\n",
       " '7월-4.25%0.50%5.00%-3.00%7.25%8.00%',\n",
       " '6월2.00%4.00%0.50%5.00%2.75%3.00%7.25%8.25%',\n",
       " '5월-4.00%0.50%5.00%--7.25%-',\n",
       " '4월2.00%4.00%0.50%5.00%-3.00%-8.25%',\n",
       " '3월2.25%4.00%0.50%5.25%2.75%3.50%7.25%8.25%',\n",
       " '2월-4.00%0.50%5.25%--7.00%-',\n",
       " '1월3.00%4.00%0.50%5.50%-4.00%-8.25%',\n",
       " '\\xa0미국유로존일본영국스위스캐나다호주뉴질랜드',\n",
       " '12월0.00~0.25%1.00%0.10%0.50%0.25%0.25%-2.50%',\n",
       " '11월0.00~0.25%1.00%0.10%0.50%--3.50%-',\n",
       " '10월-1.00%0.10%0.50%-0.25%3.25%2.50%',\n",
       " '9월0.00~0.25%1.00%0.10%0.50%0.25%0.25%3.00%2.50%',\n",
       " '8월0.00~0.25%1.00%0.10%0.50%--3.00%-',\n",
       " '7월-1.00%0.10%0.50%-0.25%3.00%2.50%',\n",
       " '6월0.00~0.25%1.00%0.10%0.50%0.25%0.25%3.00%2.50%',\n",
       " '5월-1.00%0.10%0.50%--3.00%-',\n",
       " '4월0.00~0.25%1.25%0.10%0.50%-0.25%3.00%2.50%',\n",
       " '3월0.00~0.25%1.50%0.10%0.50%0.25%0.50%3.25%3.00%',\n",
       " '2월-2.00%0.10%1.00%--3.25%-',\n",
       " '1월0.00~0.25%2.00%0.10%1.50%-1.00%-3.50%',\n",
       " '\\xa0미국유로존일본영국스위스캐나다호주뉴질랜드',\n",
       " '12월0.00~0.25%1.00%0.10%0.50%0.25%1.00%4.75%3.00%',\n",
       " '11월0.00~0.25%1.00%0.10%0.50%--4.75%-',\n",
       " '10월-1.00%0.10%0.50%-1.00%4.50%3.00%',\n",
       " '9월0.00~0.25%1.00%0.10%0.50%0.25%1.00%4.50%3.00%',\n",
       " '8월0.00~0.25%1.00%0.10%0.50%--4.50%-',\n",
       " '7월-1.00%0.10%0.50%-0.75%4.50%3.00%',\n",
       " '6월0.00~0.25%1.00%0.10%0.50%0.25%0.50%4.50%2.75%',\n",
       " '5월-1.00%0.10%0.50%--4.50%-',\n",
       " '4월0.00~0.25%1.00%0.10%0.50%-0.25%4.25%2.50%',\n",
       " '3월0.00~0.25%1.00%0.10%0.50%0.25%0.25%4.00%2.50%',\n",
       " '2월-1.00%0.10%0.50%--3.75%-',\n",
       " '1월0.00~0.25%1.00%0.10%0.50%-0.25%-2.50%',\n",
       " '\\xa0미국유로존일본영국스위스캐나다호주뉴질랜드',\n",
       " '12월0.00~0.25%1.00%0.10%0.50%0.00%1.00%4.25%2.50%',\n",
       " '11월0.00~0.25%1.25%0.10%0.50%----',\n",
       " '10월-1.50%0.10%0.50%-1.00%4.50%2.50%',\n",
       " '9월0.00~0.25%1.50%0.10%0.50%0.00%1.00%4.75%2.50%',\n",
       " '8월0.00~0.25%1.50%0.10%0.50%0.00%-4.75%-',\n",
       " '7월-1.50%0.10%0.50%-1.00%4.75%2.50%',\n",
       " '6월0.00~0.25%1.25%0.10%0.50%0.25%-4.75%2.50%',\n",
       " '5월-1.25%0.10%0.50%-1.00%4.75%-',\n",
       " '4월0.00~0.25%1.25%0.10%0.50%-1.00%4.75%2.50%',\n",
       " '3월0.00~0.25%1.00%0.10%0.50%0.25%1.00%-2.50%',\n",
       " '2월-1.00%0.10%0.50%--4.75%-',\n",
       " '1월0.00~0.25%1.00%0.10%0.50%-1.00%4.75%3.00%',\n",
       " '\\xa0미국유로존일본영국스위스캐나다호주뉴질랜드',\n",
       " '12월0.00~0.25%0.75%0.10%0.50%0.00%1.00%3.00%2.50%',\n",
       " '11월-0.75%0.10%0.50%--3.25%-',\n",
       " '10월0.00~0.25%0.75%0.10%0.50%-1.00%3.25%2.50%',\n",
       " '9월0.00~0.25%0.75%0.10%0.50%0.00%1.00%3.50%2.50%',\n",
       " '8월0.00~0.25%0.75%0.10%0.50%--3.50%-',\n",
       " '7월-0.75%0.10%0.50%-1.00%3.50%2.50%',\n",
       " '6월0.00~0.25%1.00%0.10%0.50%0.00%1.00%3.50%2.50%',\n",
       " '5월-1.00%0.10%0.50%--3.75%-',\n",
       " '4월0.00~0.25%1.00%0.10%0.50%-1.00%4.25%2.50%',\n",
       " '3월0.00~0.25%1.00%0.10%0.50%0.00%1.00%4.25%2.50%',\n",
       " '2월-1.00%0.10%0.50%--4.25%-',\n",
       " '1월0.00~0.25%1.00%0.10%0.50%-1.00%-2.50%',\n",
       " '\\xa0미국유로존일본영국스위스캐나다호주뉴질랜드',\n",
       " '12월0.00~0.25%0.25%0.10%0.50%0.00%1.00%2.50%2.50%',\n",
       " '11월-0.25%0.10%0.50%--2.50%-',\n",
       " '10월0.00~0.25%0.50%0.10%0.50%-1.00%2.50%2.50%',\n",
       " '9월0.00~0.25%0.50%0.10%0.50%0.00%1.00%2.50%2.50%',\n",
       " '8월-0.50%0.10%0.50%--2.50%-',\n",
       " '7월0.00~0.25%0.50%0.10%0.50%-1.00%2.75%2.50%',\n",
       " '6월0.00~0.25%0.50%0.10%0.50%0.00%-2.75%2.50%',\n",
       " '5월0.00~0.25%0.50%0.10%0.50%-1.00%2.75%-',\n",
       " '4월-0.75%0.10%0.50%-1.00%3.00%2.50%',\n",
       " '3월0.00~0.25%0.75%0.10%0.50%0.00%1.00%3.00%2.50%',\n",
       " '2월-0.75%0.10%0.50%--3.00%-',\n",
       " '1월0.00~0.25%0.75%0.10%0.50%-1.00%-2.50%',\n",
       " '\\xa0미국유로존일본영국스위스캐나다호주뉴질랜드',\n",
       " '12월0.00~0.25%0.05%0.10%0.50%-0.25%1.00%2.50%3.50%',\n",
       " '11월-0.05%0.10%0.50%--2.50%-',\n",
       " '10월0.00~0.25%0.05%0.10%0.50%-1.00%2.50%3.50%',\n",
       " '9월0.00~0.25%0.05%0.10%0.50%0.00%1.00%2.50%3.50%',\n",
       " '8월-0.15%0.10%0.50%--2.50%-',\n",
       " '7월0.00~0.25%0.15%0.10%0.50%-1.00%2.50%3.50%',\n",
       " '6월0.00~0.25%0.15%0.10%0.50%0.00%1.00%2.50%3.25%',\n",
       " '5월-0.25%0.10%0.50%--2.50%-',\n",
       " '4월0.00~0.25%0.25%0.10%0.50%-1.00%-3.00%',\n",
       " '3월0.00~0.25%0.25%0.10%0.50%0.00%1.00%2.50%2.75%',\n",
       " '2월-0.25%0.10%0.50%--2.50%-',\n",
       " '1월0.00~0.25%0.25%0.10%0.50%-1.00%-2.50%',\n",
       " '\\xa0미국유로존일본영국스위스캐나다호주뉴질랜드',\n",
       " '12월0.25~0.50%0.50%-0.50%-0.75%0.50%2.00%2.50%',\n",
       " '11월--0.10%0.50%--2.00%-',\n",
       " '10월0.00~0.25%0.05%0.10%0.50%-0.50%2.00%2.75%',\n",
       " '9월0.00~0.25%0.05%0.10%0.50%-0.75%0.50%2.00%2.75%',\n",
       " '8월--0.10%0.50%--2.00%-',\n",
       " '7월0.00~0.25%0.05%0.10%0.50%-0.50%2.00%3.00%',\n",
       " '6월0.00~0.25%0.05%0.10%0.50%-0.75%-2.00%3.25%',\n",
       " '5월--0.10%0.50%-0.75%2.00% -',\n",
       " '4월0.00~0.25%0.05%0.10%0.50%-0.75%2.25%3.50%',\n",
       " '3월0.00~0.25%0.05%0.10%0.50%-0.75%0.75%2.25%3.50%',\n",
       " '2월--0.10%0.50%--2.25%-',\n",
       " '1월0.00~0.25%0.05%0.10%0.50%-0.75%0.75%-3.50%',\n",
       " '\\xa0미국유로존일본영국스위스캐나다호주뉴질랜드',\n",
       " '12월0.50~0.25%0.00%-0.10%0.25%-0.75%0.50%1.50%-',\n",
       " '11월0.25~0.50%--0.10%0.25%--1.50%1.75%',\n",
       " '10월-0.00%---0.50%1.50%-',\n",
       " '9월0.25~0.50%0.00%-0.10%0.25%-0.75%0.50%1.50%2.00%',\n",
       " '8월---0.25%--1.50%2.00%',\n",
       " '7월0.25~0.50%0.00%-0.10%0.50%-0.50%1.75%-',\n",
       " '6월-0.00%-0.50%-0.75%-1.75%2.25%',\n",
       " '5월0.25~0.50%--0.10%0.50%-0.50%1.75% -',\n",
       " '4월0.25~0.50%0.00%-0.10%0.50%-0.50%2.00%2.25%',\n",
       " '3월0.25~0.50%0.00%-0.10%0.50%-0.75%0.50%2.00%2.25%',\n",
       " '2월---0.50%--2.00%-',\n",
       " '1월0.25~0.50%0.05%-0.10%0.50%-0.50%-2.50%',\n",
       " '\\xa0미국유로존일본영국스위스캐나다호주뉴질랜드',\n",
       " '12월 1.25~1.50%0.00%\\xa00.50%-0.75%1.00%1.50%\\xa0',\n",
       " '11월1.00~1.25%--0.10%0.50%--1.50%1.75%',\n",
       " '10월-0.00%-0.10%--1.00%1.50%-',\n",
       " '9월1.00~1.25%0.00%-0.10%0.25%-0.75%1.00%1.50%1.75%',\n",
       " '8월---0.25%--1.50%1.75%',\n",
       " '7월1.00~1.25%0.00%-0.10%--0.75%1.50%-',\n",
       " '6월1.00%~1.25%0.00%-0.10%0.25%-0.75%-1.50%1.75%',\n",
       " '5월0.75~1.00%--0.25%-0.50%1.50%1.75%',\n",
       " '4월-0.00%-0.10%--0.50%1.50%-',\n",
       " '3월0.75~1.00%--0.10%0.25%-0.75%0.50%1.50%1.75%',\n",
       " '2월0.50~0.75%--0.25%--1.50%1.75%',\n",
       " '1월-0.00%-0.10%--0.50%--',\n",
       " '\\xa0미국유로존일본영국스위스캐나다호주뉴질랜드',\n",
       " '12월2.25~2.50%0.00%-0.10%0.75%-0.75%1.75%1.50%-',\n",
       " '11월2.00~2.25%--0.75%--1.50%1.75%',\n",
       " '10월-0.00%-0.10%--1.75%1.50%-',\n",
       " '9월2.00~2.25%0.00%-0.10%0.75%-0.75%1.50%1.50%1.75%',\n",
       " '8월1.75~2.00%--0.75%--1.50%1.75%',\n",
       " '7월-0.00%-0.10%--1.50%1.50%-',\n",
       " '6월1.75~2.00%0.00%-0.50%-0.75%-1.50%1.75%',\n",
       " '5월1.50~1.75%--0.50%-1.25%1.50%1.75%',\n",
       " '4월-0.00%-0.10%--1.25%1.50%-',\n",
       " '3월1.50~1.75%0.00%-0.10%0.50%-0.75%1.25%1.50%1.75%',\n",
       " '2월---0.50%--1.50%1.75%',\n",
       " '1월1.25~1.50%0.00%-0.10%--1.25%--',\n",
       " '\\xa0미국유로존일본영국스위스캐나다호주뉴질랜드',\n",
       " '12월1.50~1.75%0.00%-0.00%0.75%-0.75%1.75%0.75%-',\n",
       " '11월---0.75%--0.75%1.00%',\n",
       " '10월1.50~1.75%0.00%-0.00%--1.75%0.75%-',\n",
       " '9월1.75~2.00%0.00%-0.00%0.75%-0.75%1.75%1.00%1.00%',\n",
       " '8월---0.75%--1.00%1.00%',\n",
       " '7월2.00~2.25%0.00%-0.00%--1.75%1.25%-',\n",
       " '6월2.25~2.50%--0.00%0.75%-0.75%-1.25%1.50%',\n",
       " '5월2.25~2.50%--0.75%-1.75%1.50%1.50%',\n",
       " '4월-0.00%-0.10%--1.75%1.50%-',\n",
       " '3월2.25~2.50%0.00%-0.10%0.75%-0.75%1.75%1.50%1.75%',\n",
       " '2월---0.75%--1.50%1.75%',\n",
       " '1월2.25~2.50%0.00%-0.10%--1.75%--',\n",
       " '\\xa0미국유로존일본영국스위스캐나다호주뉴질랜드',\n",
       " '12월0.00~0.25%0.00%-0.10%0.10%-0.75%0.25%0.10%-',\n",
       " '11월0.00~0.25%--0.10%--0.10%0.25%',\n",
       " '10월-0.00%-0.10%--0.25%0.25%-',\n",
       " '9월0.00~0.25%0.00%-0.10%0.10%-0.75%0.25%0.25%0.25%',\n",
       " '8월---0.10%--0.25%0.25%',\n",
       " '7월0.00~0.25%0.00%-0.10%--0.25%0.25%-',\n",
       " '6월0.00~0.25%0.00%-0.10%0.10%-0.75%0.25%0.25%0.25%',\n",
       " '5월---0.10%0.10%--0.25%0.25%',\n",
       " '4월0.00~0.25%0.00%-0.10%--0.25%0.25%-',\n",
       " '긴급0.00~0.25%0.00%-0.10%-0.25%0.25%0.25%',\n",
       " '3월1.00~1.25%0.00%-0.10%0.25%-0.75%1.25%0.50%-',\n",
       " '2월------0.75%1.00%',\n",
       " '1월1.50~1.75%0.00%-0.10%0.75%-1.75%--',\n",
       " '\\xa0미국유로존일본영국스위스캐나다호주뉴질랜드',\n",
       " '12월0.00~0.25%0.00%-0.10%0.25%-0.75%-0.10%-',\n",
       " '11월0.00~0.25%--0.10%--0.10%0.75%',\n",
       " '10월-0.00%-0.10%--0.25%0.10%0.50%',\n",
       " '9월0.00~0.25%0.00%-0.10%0.10%-0.25%0.10%-',\n",
       " '8월---0.10%--0.10%0.25%',\n",
       " '7월0.00~0.25%0.00%-0.10%--0.25%0.10%0.25%',\n",
       " '6월0.00~0.25%0.00%-0.10%0.10%-0.75%0.25%0.10%-',\n",
       " '5월---0.10%--0.10%0.25%',\n",
       " '4월0.00~0.25%0.00%-0.10%--0.25%0.10%0.25%',\n",
       " '3월0.00~0.25%0.00%-0.10%0.10%-0.75%0.25%0.10%-',\n",
       " '2월---0.10%--0.10%0.25%',\n",
       " '1월0.00~0.25%0.00%-0.10%0.10%-0.25%0.10%-',\n",
       " '\\xa0미국유로존일본영국스위스캐나다호주뉴질랜드',\n",
       " '12월\\xa0\\xa0\\xa0\\xa0\\xa0\\xa0\\xa0\\xa0',\n",
       " '11월3.75~4.00%\\xa0\\xa03.00%\\xa0\\xa02.85%\\xa0',\n",
       " '10월-2.00%-0.10%--3.75%2.60%3.50%',\n",
       " '9월3.00~3.25%1.25%-0.10%2.25%0.50%3.25%2.35%-',\n",
       " '8월---1.75%--1.85%3.00%',\n",
       " '7월2.25~2.50%0.50%-0.10%--2.50%1.35%2.50%',\n",
       " '6월1.50~1.75%0.00%-0.10%1.25%-0.25%1.50%0.85%-',\n",
       " '5월0.75~1.00%--1.00%--0.35%2.00%',\n",
       " '4월-0.00%---1.00%0.10%1.50%',\n",
       " '3월0.25~0.50%0.00%-0.10%0.75%-0.50%0.10%-',\n",
       " '2월-0.00%-0.50%---1.00%',\n",
       " '1월0.00~0.25%--0.10%--0.25%--']"
      ]
     },
     "execution_count": 20,
     "metadata": {},
     "output_type": "execute_result"
    }
   ],
   "source": [
    "list_ = []\n",
    "for row in interest_rate_table:\n",
    "\trow_ = row.get_text()\n",
    "\tlist_.append(row_)\n",
    "\n",
    "list_"
   ]
  },
  {
   "cell_type": "code",
   "execution_count": null,
   "metadata": {},
   "outputs": [],
   "source": [
    "start_date = '2020-01-01'\n",
    "\n",
    "calender_btn = '.DatePickerWrapper_icon-wrap__cwTu_'\n",
    "calender_new_btn = '#flatDatePickerCanvasHol #datePickerIconWrap'\n",
    "\n",
    "start_year_input = '.NativeDateInput_root__wbgyP > input'\n",
    "start_year_new_input = '#startDate'\n",
    "\n",
    "apply_btn = 'HistoryDatePicker_apply-button__fPr_G'\n",
    "apply_new_btn = '#applyBtn'\n",
    "\n",
    "csv_download_btn = '.download-data_download-data__jxNYT > a'\n",
    "csv_download_new_btn = '#column-content > div.float_lang_base_2.downloadDataWrap > div > a'\n",
    "\n",
    "bottom_modal = '.download-app-view_download-app-view__4d6Eq'\n",
    "bottom_mpdal_btn = '.inv-button'"
   ]
  },
  {
   "cell_type": "code",
   "execution_count": null,
   "metadata": {},
   "outputs": [],
   "source": [
    "all_button = [start_date,\n",
    "              calender_btn,calender_new_btn,\n",
    "              start_year_input,start_year_new_input,\n",
    "              apply_btn,apply_new_btn,\n",
    "              csv_download_btn,csv_download_new_btn,\n",
    "              bottom_modal,bottom_mpdal_btn\n",
    "              ]"
   ]
  },
  {
   "cell_type": "code",
   "execution_count": null,
   "metadata": {},
   "outputs": [
    {
     "data": {
      "text/plain": [
       "['2020-01-01',\n",
       " '.DatePickerWrapper_icon-wrap__cwTu_',\n",
       " '#flatDatePickerCanvasHol #datePickerIconWrap',\n",
       " '.NativeDateInput_root__wbgyP > input',\n",
       " '#startDate',\n",
       " 'HistoryDatePicker_apply-button__fPr_G',\n",
       " '#applyBtn',\n",
       " '.download-data_download-data__jxNYT > a',\n",
       " '#column-content > div.float_lang_base_2.downloadDataWrap > div > a',\n",
       " '.download-app-view_download-app-view__4d6Eq',\n",
       " '.inv-button']"
      ]
     },
     "execution_count": 4,
     "metadata": {},
     "output_type": "execute_result"
    }
   ],
   "source": [
    "all_button"
   ]
  },
  {
   "cell_type": "code",
   "execution_count": null,
   "metadata": {},
   "outputs": [
    {
     "name": "stderr",
     "output_type": "stream",
     "text": [
      "C:\\Users\\TJ\\AppData\\Local\\Temp\\ipykernel_6576\\4234165250.py:4: DeprecationWarning: executable_path has been deprecated, please pass in a Service object\n",
      "  driver = webdriver.Chrome(\"C:\\chromedriver.exe\")\n"
     ]
    }
   ],
   "source": [
    "from selenium import webdriver\n",
    "from selenium.webdriver.support.ui import WebDriverWait\n",
    " \n",
    "driver = webdriver.Chrome(\"C:\\chromedriver.exe\")\n",
    "u = 'invasting site'\n",
    "driver.get('https://kr.investing.com/')\n",
    " \n"
   ]
  },
  {
   "cell_type": "code",
   "execution_count": null,
   "metadata": {},
   "outputs": [],
   "source": []
  }
 ],
 "metadata": {
  "kernelspec": {
   "display_name": "Python 3.9.12 ('dsin')",
   "language": "python",
   "name": "python3"
  },
  "language_info": {
   "codemirror_mode": {
    "name": "ipython",
    "version": 3
   },
   "file_extension": ".py",
   "mimetype": "text/x-python",
   "name": "python",
   "nbconvert_exporter": "python",
   "pygments_lexer": "ipython3",
   "version": "3.9.12"
  },
  "vscode": {
   "interpreter": {
    "hash": "1ed0fe1766c1ec2528adabb1439f5220e0c90eaa3368471e245df3fca9b5294d"
   }
  }
 },
 "nbformat": 4,
 "nbformat_minor": 0
}
