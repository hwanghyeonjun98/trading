{
 "cells": [
  {
   "cell_type": "code",
   "execution_count": 21,
   "metadata": {
    "collapsed": true
   },
   "outputs": [],
   "source": [
    "import numpy as np\n",
    "import pandas as pd\n",
    "\n",
    "import time\n",
    "from tqdm import tqdm\n",
    "\n",
    "import glob\n",
    "import re"
   ]
  },
  {
   "cell_type": "code",
   "execution_count": 11,
   "outputs": [],
   "source": [
    "file_list = glob.glob('/Users/hwanghyeonjun/Documents/GitHub/data/selenium/채권/*.csv')"
   ],
   "metadata": {
    "collapsed": false
   }
  },
  {
   "cell_type": "code",
   "execution_count": 12,
   "outputs": [
    {
     "data": {
      "text/plain": "['/Users/hwanghyeonjun/Documents/GitHub/data/selenium/채권/한국 30년 채권 수익율 내역.csv',\n '/Users/hwanghyeonjun/Documents/GitHub/data/selenium/채권/중국 1년 채권 수익율 내역.csv',\n '/Users/hwanghyeonjun/Documents/GitHub/data/selenium/채권/일본 3년 채권 수익율 내역.csv',\n '/Users/hwanghyeonjun/Documents/GitHub/data/selenium/채권/미국 3개월 채권 수익율 내역.csv',\n '/Users/hwanghyeonjun/Documents/GitHub/data/selenium/채권/일본 6년 채권 수익율 내역.csv',\n '/Users/hwanghyeonjun/Documents/GitHub/data/selenium/채권/중국 30년 채권 수익율 내역.csv',\n '/Users/hwanghyeonjun/Documents/GitHub/data/selenium/채권/한국 2년 채권 수익율 내역.csv',\n '/Users/hwanghyeonjun/Documents/GitHub/data/selenium/채권/일본 9년 채권 수익율 내역.csv',\n '/Users/hwanghyeonjun/Documents/GitHub/data/selenium/채권/미국 5년 채권 수익율 내역.csv',\n '/Users/hwanghyeonjun/Documents/GitHub/data/selenium/채권/일본 40년 채권 수익율 내역.csv',\n '/Users/hwanghyeonjun/Documents/GitHub/data/selenium/채권/일본 7년 채권 수익율 내역.csv',\n '/Users/hwanghyeonjun/Documents/GitHub/data/selenium/채권/중국 5년 채권 수익율 내역.csv',\n '/Users/hwanghyeonjun/Documents/GitHub/data/selenium/채권/일본 3개월 채권 수익율 내역.csv',\n '/Users/hwanghyeonjun/Documents/GitHub/data/selenium/채권/한국 3년 채권 수익율 내역.csv',\n '/Users/hwanghyeonjun/Documents/GitHub/data/selenium/채권/미국 10년물 국채 금리 채권 수익율 내역.csv',\n '/Users/hwanghyeonjun/Documents/GitHub/data/selenium/채권/일본 20년 채권 수익율 내역.csv',\n '/Users/hwanghyeonjun/Documents/GitHub/data/selenium/채권/미국 30년 채권 수익율 내역.csv',\n '/Users/hwanghyeonjun/Documents/GitHub/data/selenium/채권/일본 2년 채권 수익율 내역.csv',\n '/Users/hwanghyeonjun/Documents/GitHub/data/selenium/채권/일본 10년 채권 수익율 내역.csv',\n '/Users/hwanghyeonjun/Documents/GitHub/data/selenium/채권/한국 50년 채권 수익율 내역.csv',\n '/Users/hwanghyeonjun/Documents/GitHub/data/selenium/채권/일본 8년 채권 수익율 내역.csv',\n '/Users/hwanghyeonjun/Documents/GitHub/data/selenium/채권/일본 15년 채권 수익율 내역.csv',\n '/Users/hwanghyeonjun/Documents/GitHub/data/selenium/채권/미국 1년 채권 수익율 내역.csv',\n '/Users/hwanghyeonjun/Documents/GitHub/data/selenium/채권/미국 6개월 채권 수익율 내역.csv',\n '/Users/hwanghyeonjun/Documents/GitHub/data/selenium/채권/미국 2년 채권 수익율 내역.csv',\n '/Users/hwanghyeonjun/Documents/GitHub/data/selenium/채권/미국 7년 채권 수익율 내역.csv',\n '/Users/hwanghyeonjun/Documents/GitHub/data/selenium/채권/한국 5년 채권 수익율 내역.csv',\n '/Users/hwanghyeonjun/Documents/GitHub/data/selenium/채권/미국 1개월 채권 수익율 내역.csv',\n '/Users/hwanghyeonjun/Documents/GitHub/data/selenium/채권/일본 1년 채권 수익율 내역.csv',\n '/Users/hwanghyeonjun/Documents/GitHub/data/selenium/채권/중국 3년 채권 수익율 내역.csv',\n '/Users/hwanghyeonjun/Documents/GitHub/data/selenium/채권/미국 20년 채권 수익율 내역.csv',\n '/Users/hwanghyeonjun/Documents/GitHub/data/selenium/채권/일본 30년 채권 수익율 내역.csv',\n '/Users/hwanghyeonjun/Documents/GitHub/data/selenium/채권/일본 4년 채권 수익율 내역.csv',\n '/Users/hwanghyeonjun/Documents/GitHub/data/selenium/채권/중국 10년 채권 수익율 내역.csv',\n '/Users/hwanghyeonjun/Documents/GitHub/data/selenium/채권/일본 9개월 채권 수익율 내역.csv',\n '/Users/hwanghyeonjun/Documents/GitHub/data/selenium/채권/중국 15년 채권 수익율 내역.csv',\n '/Users/hwanghyeonjun/Documents/GitHub/data/selenium/채권/일본 6개월 채권 수익율 내역.csv',\n '/Users/hwanghyeonjun/Documents/GitHub/data/selenium/채권/한국 10년 채권 수익율 내역.csv',\n '/Users/hwanghyeonjun/Documents/GitHub/data/selenium/채권/미국 3년 채권 수익율 내역.csv',\n '/Users/hwanghyeonjun/Documents/GitHub/data/selenium/채권/한국 20년 채권 수익율 내역.csv',\n '/Users/hwanghyeonjun/Documents/GitHub/data/selenium/채권/중국 7년 채권 수익율 내역.csv',\n '/Users/hwanghyeonjun/Documents/GitHub/data/selenium/채권/일본 5년 채권 수익율 내역.csv',\n '/Users/hwanghyeonjun/Documents/GitHub/data/selenium/채권/한국 1년 채권 수익율 내역.csv',\n '/Users/hwanghyeonjun/Documents/GitHub/data/selenium/채권/일본 1개월 채권 수익율 내역.csv',\n '/Users/hwanghyeonjun/Documents/GitHub/data/selenium/채권/중국 20년 채권 수익율 내역.csv',\n '/Users/hwanghyeonjun/Documents/GitHub/data/selenium/채권/한국 4년 채권 수익율 내역.csv',\n '/Users/hwanghyeonjun/Documents/GitHub/data/selenium/채권/중국 2년 채권 수익율 내역.csv']"
     },
     "execution_count": 12,
     "metadata": {},
     "output_type": "execute_result"
    }
   ],
   "source": [
    "file_list"
   ],
   "metadata": {
    "collapsed": false
   }
  },
  {
   "cell_type": "code",
   "execution_count": 13,
   "outputs": [
    {
     "name": "stderr",
     "output_type": "stream",
     "text": [
      "100%|██████████| 47/47 [00:00<00:00, 162516.31it/s]\n"
     ]
    }
   ],
   "source": [
    "file_names = []\n",
    "for path in tqdm(file_list):\n",
    "\tfile_name = path.split('/')[-1]\n",
    "\tfile_names.append(file_name)"
   ],
   "metadata": {
    "collapsed": false
   }
  },
  {
   "cell_type": "code",
   "execution_count": 14,
   "outputs": [
    {
     "data": {
      "text/plain": "['한국 30년 채권 수익율 내역.csv',\n '중국 1년 채권 수익율 내역.csv',\n '일본 3년 채권 수익율 내역.csv',\n '미국 3개월 채권 수익율 내역.csv',\n '일본 6년 채권 수익율 내역.csv',\n '중국 30년 채권 수익율 내역.csv',\n '한국 2년 채권 수익율 내역.csv',\n '일본 9년 채권 수익율 내역.csv',\n '미국 5년 채권 수익율 내역.csv',\n '일본 40년 채권 수익율 내역.csv',\n '일본 7년 채권 수익율 내역.csv',\n '중국 5년 채권 수익율 내역.csv',\n '일본 3개월 채권 수익율 내역.csv',\n '한국 3년 채권 수익율 내역.csv',\n '미국 10년물 국채 금리 채권 수익율 내역.csv',\n '일본 20년 채권 수익율 내역.csv',\n '미국 30년 채권 수익율 내역.csv',\n '일본 2년 채권 수익율 내역.csv',\n '일본 10년 채권 수익율 내역.csv',\n '한국 50년 채권 수익율 내역.csv',\n '일본 8년 채권 수익율 내역.csv',\n '일본 15년 채권 수익율 내역.csv',\n '미국 1년 채권 수익율 내역.csv',\n '미국 6개월 채권 수익율 내역.csv',\n '미국 2년 채권 수익율 내역.csv',\n '미국 7년 채권 수익율 내역.csv',\n '한국 5년 채권 수익율 내역.csv',\n '미국 1개월 채권 수익율 내역.csv',\n '일본 1년 채권 수익율 내역.csv',\n '중국 3년 채권 수익율 내역.csv',\n '미국 20년 채권 수익율 내역.csv',\n '일본 30년 채권 수익율 내역.csv',\n '일본 4년 채권 수익율 내역.csv',\n '중국 10년 채권 수익율 내역.csv',\n '일본 9개월 채권 수익율 내역.csv',\n '중국 15년 채권 수익율 내역.csv',\n '일본 6개월 채권 수익율 내역.csv',\n '한국 10년 채권 수익율 내역.csv',\n '미국 3년 채권 수익율 내역.csv',\n '한국 20년 채권 수익율 내역.csv',\n '중국 7년 채권 수익율 내역.csv',\n '일본 5년 채권 수익율 내역.csv',\n '한국 1년 채권 수익율 내역.csv',\n '일본 1개월 채권 수익율 내역.csv',\n '중국 20년 채권 수익율 내역.csv',\n '한국 4년 채권 수익율 내역.csv',\n '중국 2년 채권 수익율 내역.csv']"
     },
     "execution_count": 14,
     "metadata": {},
     "output_type": "execute_result"
    }
   ],
   "source": [
    "file_names"
   ],
   "metadata": {
    "collapsed": false
   }
  },
  {
   "cell_type": "code",
   "execution_count": 26,
   "outputs": [
    {
     "name": "stderr",
     "output_type": "stream",
     "text": [
      "47it [00:48,  1.03s/it]\n"
     ]
    }
   ],
   "source": [
    "regx = '[가-힣]'\n",
    "\n",
    "for idx, file in enumerate(file_list):\n",
    "\tdf = pd.read_csv(file)\n",
    "\tdf['날짜'] = df['날짜'].apply(lambda x: re.sub(regx, '', x))\n",
    "\tdf['날짜'] = df['날짜'].apply(lambda x: x.replace(' ', '-'))\n",
    "\tdf.sort_values(['날짜'], inplace=True)\n",
    "\tdf.to_csv('/Users/hwanghyeonjun/Documents/GitHub/data/selenium/' + file_names[idx], index=False)\n"
   ],
   "metadata": {
    "collapsed": false
   }
  },
  {
   "cell_type": "code",
   "execution_count": 24,
   "outputs": [
    {
     "data": {
      "text/plain": "                 날짜     종가     오픈     고가     저가    변동 %\n1025  2020년 01월 01일  1.690  1.690  1.690  1.690   0.00%\n1024  2020년 01월 02일  1.654  1.713  1.713  1.633  -2.13%\n1023  2020년 01월 03일  1.583  1.657  1.665  1.583  -4.29%\n1022  2020년 01월 04일  1.595  1.595  1.595  1.595   0.76%\n1021  2020년 01월 05일  1.595  1.595  1.595  1.595   0.00%\n...             ...    ...    ...    ...    ...     ...\n4     2022년 11월 06일  4.100  4.100  4.100  4.100   0.00%\n3     2022년 11월 07일  4.176  4.133  4.181  4.127   1.85%\n2     2022년 11월 08일  4.155  4.162  4.168  4.120  -0.50%\n1     2022년 11월 09일  4.110  4.119  4.138  4.088  -1.08%\n0     2022년 11월 10일  4.032  4.071  4.075  4.030  -1.90%\n\n[1026 rows x 6 columns]",
      "text/html": "<div>\n<style scoped>\n    .dataframe tbody tr th:only-of-type {\n        vertical-align: middle;\n    }\n\n    .dataframe tbody tr th {\n        vertical-align: top;\n    }\n\n    .dataframe thead th {\n        text-align: right;\n    }\n</style>\n<table border=\"1\" class=\"dataframe\">\n  <thead>\n    <tr style=\"text-align: right;\">\n      <th></th>\n      <th>날짜</th>\n      <th>종가</th>\n      <th>오픈</th>\n      <th>고가</th>\n      <th>저가</th>\n      <th>변동 %</th>\n    </tr>\n  </thead>\n  <tbody>\n    <tr>\n      <th>1025</th>\n      <td>2020년 01월 01일</td>\n      <td>1.690</td>\n      <td>1.690</td>\n      <td>1.690</td>\n      <td>1.690</td>\n      <td>0.00%</td>\n    </tr>\n    <tr>\n      <th>1024</th>\n      <td>2020년 01월 02일</td>\n      <td>1.654</td>\n      <td>1.713</td>\n      <td>1.713</td>\n      <td>1.633</td>\n      <td>-2.13%</td>\n    </tr>\n    <tr>\n      <th>1023</th>\n      <td>2020년 01월 03일</td>\n      <td>1.583</td>\n      <td>1.657</td>\n      <td>1.665</td>\n      <td>1.583</td>\n      <td>-4.29%</td>\n    </tr>\n    <tr>\n      <th>1022</th>\n      <td>2020년 01월 04일</td>\n      <td>1.595</td>\n      <td>1.595</td>\n      <td>1.595</td>\n      <td>1.595</td>\n      <td>0.76%</td>\n    </tr>\n    <tr>\n      <th>1021</th>\n      <td>2020년 01월 05일</td>\n      <td>1.595</td>\n      <td>1.595</td>\n      <td>1.595</td>\n      <td>1.595</td>\n      <td>0.00%</td>\n    </tr>\n    <tr>\n      <th>...</th>\n      <td>...</td>\n      <td>...</td>\n      <td>...</td>\n      <td>...</td>\n      <td>...</td>\n      <td>...</td>\n    </tr>\n    <tr>\n      <th>4</th>\n      <td>2022년 11월 06일</td>\n      <td>4.100</td>\n      <td>4.100</td>\n      <td>4.100</td>\n      <td>4.100</td>\n      <td>0.00%</td>\n    </tr>\n    <tr>\n      <th>3</th>\n      <td>2022년 11월 07일</td>\n      <td>4.176</td>\n      <td>4.133</td>\n      <td>4.181</td>\n      <td>4.127</td>\n      <td>1.85%</td>\n    </tr>\n    <tr>\n      <th>2</th>\n      <td>2022년 11월 08일</td>\n      <td>4.155</td>\n      <td>4.162</td>\n      <td>4.168</td>\n      <td>4.120</td>\n      <td>-0.50%</td>\n    </tr>\n    <tr>\n      <th>1</th>\n      <td>2022년 11월 09일</td>\n      <td>4.110</td>\n      <td>4.119</td>\n      <td>4.138</td>\n      <td>4.088</td>\n      <td>-1.08%</td>\n    </tr>\n    <tr>\n      <th>0</th>\n      <td>2022년 11월 10일</td>\n      <td>4.032</td>\n      <td>4.071</td>\n      <td>4.075</td>\n      <td>4.030</td>\n      <td>-1.90%</td>\n    </tr>\n  </tbody>\n</table>\n<p>1026 rows × 6 columns</p>\n</div>"
     },
     "execution_count": 24,
     "metadata": {},
     "output_type": "execute_result"
    }
   ],
   "source": [
    "df = pd.read_csv(file_list[0])\n",
    "df.sort_values(['날짜'])"
   ],
   "metadata": {
    "collapsed": false
   }
  },
  {
   "cell_type": "code",
   "execution_count": null,
   "outputs": [],
   "source": [],
   "metadata": {
    "collapsed": false
   }
  }
 ],
 "metadata": {
  "kernelspec": {
   "display_name": "Python 3",
   "language": "python",
   "name": "python3"
  },
  "language_info": {
   "codemirror_mode": {
    "name": "ipython",
    "version": 2
   },
   "file_extension": ".py",
   "mimetype": "text/x-python",
   "name": "python",
   "nbconvert_exporter": "python",
   "pygments_lexer": "ipython2",
   "version": "2.7.6"
  }
 },
 "nbformat": 4,
 "nbformat_minor": 0
}
