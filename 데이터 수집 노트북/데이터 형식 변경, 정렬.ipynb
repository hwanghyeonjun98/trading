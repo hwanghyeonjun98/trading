{
 "cells": [
  {
   "cell_type": "code",
   "execution_count": 2,
   "metadata": {
    "collapsed": true
   },
   "outputs": [],
   "source": [
    "import numpy as np\n",
    "import pandas as pd\n",
    "\n",
    "import time\n",
    "from tqdm import tqdm\n",
    "\n",
    "import glob\n",
    "import re"
   ]
  },
  {
   "cell_type": "code",
   "execution_count": 3,
   "outputs": [],
   "source": [
    "file_list = glob.glob('/Users/hwanghyeonjun/Documents/GitHub/data/selenium/*.csv')"
   ],
   "metadata": {
    "collapsed": false
   }
  },
  {
   "cell_type": "code",
   "execution_count": 4,
   "outputs": [
    {
     "data": {
      "text/plain": "['/Users/hwanghyeonjun/Documents/GitHub/data/selenium/영국 3년 채권 수익율 내역.csv',\n '/Users/hwanghyeonjun/Documents/GitHub/data/selenium/스위스 2개월 채권 수익율 내역.csv',\n '/Users/hwanghyeonjun/Documents/GitHub/data/selenium/프랑스 50년 채권 수익율 내역.csv',\n '/Users/hwanghyeonjun/Documents/GitHub/data/selenium/독일 5년 채권 수익율 내역.csv',\n '/Users/hwanghyeonjun/Documents/GitHub/data/selenium/러시아 6개월 채권 수익율 내역.csv',\n '/Users/hwanghyeonjun/Documents/GitHub/data/selenium/영국 6년 채권 수익율 내역.csv',\n '/Users/hwanghyeonjun/Documents/GitHub/data/selenium/러시아 1주 채권 수익율 내역.csv',\n '/Users/hwanghyeonjun/Documents/GitHub/data/selenium/영국 3개월 채권 수익율 내역.csv',\n '/Users/hwanghyeonjun/Documents/GitHub/data/selenium/스위스 4년 채권 수익율 내역.csv',\n '/Users/hwanghyeonjun/Documents/GitHub/data/selenium/영국 12년 채권 수익율 내역.csv',\n '/Users/hwanghyeonjun/Documents/GitHub/data/selenium/영국 9년 채권 수익율 내역.csv',\n '/Users/hwanghyeonjun/Documents/GitHub/data/selenium/스위스 1년 채권 수익율 내역.csv',\n '/Users/hwanghyeonjun/Documents/GitHub/data/selenium/터키 5년 채권 수익율 내역.csv',\n '/Users/hwanghyeonjun/Documents/GitHub/data/selenium/러시아 1개월 채권 수익율 내역.csv',\n '/Users/hwanghyeonjun/Documents/GitHub/data/selenium/러시아 5년 채권 수익율 내역.csv',\n '/Users/hwanghyeonjun/Documents/GitHub/data/selenium/프랑스 5년 채권 수익율 내역.csv',\n '/Users/hwanghyeonjun/Documents/GitHub/data/selenium/영국 50년 채권 수익율 내역.csv',\n '/Users/hwanghyeonjun/Documents/GitHub/data/selenium/프랑스 3개월 채권 수익율 내역.csv',\n '/Users/hwanghyeonjun/Documents/GitHub/data/selenium/독일 15년 채권 수익율 내역.csv',\n '/Users/hwanghyeonjun/Documents/GitHub/data/selenium/영국 7년 채권 수익율 내역.csv',\n '/Users/hwanghyeonjun/Documents/GitHub/data/selenium/독일 1년 채권 수익율 내역.csv',\n '/Users/hwanghyeonjun/Documents/GitHub/data/selenium/스위스 30년 채권 수익율 내역.csv',\n '/Users/hwanghyeonjun/Documents/GitHub/data/selenium/영국 2년 채권 수익율 내역.csv',\n '/Users/hwanghyeonjun/Documents/GitHub/data/selenium/영국 30년 채권 수익율 내역.csv',\n '/Users/hwanghyeonjun/Documents/GitHub/data/selenium/독일 10년 채권 수익율 내역.csv',\n '/Users/hwanghyeonjun/Documents/GitHub/data/selenium/스위스 3개월 채권 수익율 내역.csv',\n '/Users/hwanghyeonjun/Documents/GitHub/data/selenium/독일 4년 채권 수익율 내역.csv',\n '/Users/hwanghyeonjun/Documents/GitHub/data/selenium/독일 6개월 채권 수익율 내역.csv',\n '/Users/hwanghyeonjun/Documents/GitHub/data/selenium/독일 20년 채권 수익율 내역.csv',\n '/Users/hwanghyeonjun/Documents/GitHub/data/selenium/터키 6개월 채권 수익율 내역.csv',\n '/Users/hwanghyeonjun/Documents/GitHub/data/selenium/스위스 1주 채권 수익율 내역.csv',\n '/Users/hwanghyeonjun/Documents/GitHub/data/selenium/프랑스 4년 채권 수익율 내역.csv',\n '/Users/hwanghyeonjun/Documents/GitHub/data/selenium/프랑스 30년 채권 수익율 내역.csv',\n '/Users/hwanghyeonjun/Documents/GitHub/data/selenium/독일 25년 채권 수익율 내역.csv',\n '/Users/hwanghyeonjun/Documents/GitHub/data/selenium/러시아 1년 채권 수익율 내역.csv',\n '/Users/hwanghyeonjun/Documents/GitHub/data/selenium/터키 9개월 채권 수익율 내역.csv',\n '/Users/hwanghyeonjun/Documents/GitHub/data/selenium/독일 9개월 채권 수익율 내역.csv',\n '/Users/hwanghyeonjun/Documents/GitHub/data/selenium/스위스 5년 채권 수익율 내역.csv',\n '/Users/hwanghyeonjun/Documents/GitHub/data/selenium/터키 1년 채권 수익율 내역.csv',\n '/Users/hwanghyeonjun/Documents/GitHub/data/selenium/영국 8년 채권 수익율 내역.csv',\n '/Users/hwanghyeonjun/Documents/GitHub/data/selenium/프랑스 1년 채권 수익율 내역.csv',\n '/Users/hwanghyeonjun/Documents/GitHub/data/selenium/스위스 15년 채권 수익율 내역.csv',\n '/Users/hwanghyeonjun/Documents/GitHub/data/selenium/러시아 2년 채권 수익율 내역.csv',\n '/Users/hwanghyeonjun/Documents/GitHub/data/selenium/영국 6개월 채권 수익율 내역.csv',\n '/Users/hwanghyeonjun/Documents/GitHub/data/selenium/프랑스 20년 채권 수익율 내역.csv',\n '/Users/hwanghyeonjun/Documents/GitHub/data/selenium/터키 2년 채권 수익율 내역.csv',\n '/Users/hwanghyeonjun/Documents/GitHub/data/selenium/스위스 6년 채권 수익율 내역.csv',\n '/Users/hwanghyeonjun/Documents/GitHub/data/selenium/독일 30년 채권 수익율 내역.csv',\n '/Users/hwanghyeonjun/Documents/GitHub/data/selenium/영국 10년 채권 수익율 내역.csv',\n '/Users/hwanghyeonjun/Documents/GitHub/data/selenium/러시아 3개월 채권 수익율 내역.csv',\n '/Users/hwanghyeonjun/Documents/GitHub/data/selenium/프랑스 2년 채권 수익율 내역.csv',\n '/Users/hwanghyeonjun/Documents/GitHub/data/selenium/러시아 20년 채권 수익율 내역.csv',\n '/Users/hwanghyeonjun/Documents/GitHub/data/selenium/스위스 3년 채권 수익율 내역.csv',\n '/Users/hwanghyeonjun/Documents/GitHub/data/selenium/러시아 오버나잇 채권 수익율 내역.csv',\n '/Users/hwanghyeonjun/Documents/GitHub/data/selenium/프랑스 25년 채권 수익율 내역.csv',\n '/Users/hwanghyeonjun/Documents/GitHub/data/selenium/스위스 오버나잇 채권 수익율 내역.csv',\n '/Users/hwanghyeonjun/Documents/GitHub/data/selenium/러시아 7년 채권 수익율 내역.csv',\n '/Users/hwanghyeonjun/Documents/GitHub/data/selenium/스위스 10년 채권 수익율 내역.csv',\n '/Users/hwanghyeonjun/Documents/GitHub/data/selenium/독일 8년 채권 수익율 내역.csv',\n '/Users/hwanghyeonjun/Documents/GitHub/data/selenium/프랑스 7년 채권 수익율 내역.csv',\n '/Users/hwanghyeonjun/Documents/GitHub/data/selenium/영국 15년 채권 수익율 내역.csv',\n '/Users/hwanghyeonjun/Documents/GitHub/data/selenium/스위스 20년 채권 수익율 내역.csv',\n '/Users/hwanghyeonjun/Documents/GitHub/data/selenium/프랑스 8년 채권 수익율 내역.csv',\n '/Users/hwanghyeonjun/Documents/GitHub/data/selenium/프랑스 15년 채권 수익율 내역.csv',\n '/Users/hwanghyeonjun/Documents/GitHub/data/selenium/영국 1년 채권 수익율 내역.csv',\n '/Users/hwanghyeonjun/Documents/GitHub/data/selenium/영국 1개월 채권 수익율 내역.csv',\n '/Users/hwanghyeonjun/Documents/GitHub/data/selenium/영국 25년 채권 수익율 내역.csv',\n '/Users/hwanghyeonjun/Documents/GitHub/data/selenium/러시아 15년 채권 수익율 내역.csv',\n '/Users/hwanghyeonjun/Documents/GitHub/data/selenium/독일 7년 채권 수익율 내역.csv',\n '/Users/hwanghyeonjun/Documents/GitHub/data/selenium/러시아 2주 채권 수익율 내역.csv',\n '/Users/hwanghyeonjun/Documents/GitHub/data/selenium/영국 4년 채권 수익율 내역.csv',\n '/Users/hwanghyeonjun/Documents/GitHub/data/selenium/프랑스 10년 채권 수익율 내역.csv',\n '/Users/hwanghyeonjun/Documents/GitHub/data/selenium/독일 2년 채권 수익율 내역.csv',\n '/Users/hwanghyeonjun/Documents/GitHub/data/selenium/러시아 10년 채권 수익율 내역.csv',\n '/Users/hwanghyeonjun/Documents/GitHub/data/selenium/영국 20년 채권 수익율 내역.csv',\n '/Users/hwanghyeonjun/Documents/GitHub/data/selenium/스위스 9년 채권 수익율 내역.csv',\n '/Users/hwanghyeonjun/Documents/GitHub/data/selenium/스위스 6개월 채권 수익율 내역.csv',\n '/Users/hwanghyeonjun/Documents/GitHub/data/selenium/터키 10년 채권 수익율 내역.csv',\n '/Users/hwanghyeonjun/Documents/GitHub/data/selenium/스위스 2년 채권 수익율 내역.csv',\n '/Users/hwanghyeonjun/Documents/GitHub/data/selenium/독일 9년 채권 수익율 내역.csv',\n '/Users/hwanghyeonjun/Documents/GitHub/data/selenium/프랑스 9개월 채권 수익율 내역.csv',\n '/Users/hwanghyeonjun/Documents/GitHub/data/selenium/프랑스 6년 채권 수익율 내역.csv',\n '/Users/hwanghyeonjun/Documents/GitHub/data/selenium/러시아 3년 채권 수익율 내역.csv',\n '/Users/hwanghyeonjun/Documents/GitHub/data/selenium/영국 40년 채권 수익율 내역.csv',\n '/Users/hwanghyeonjun/Documents/GitHub/data/selenium/터키 3년 채권 수익율 내역.csv',\n '/Users/hwanghyeonjun/Documents/GitHub/data/selenium/스위스 7년 채권 수익율 내역.csv',\n '/Users/hwanghyeonjun/Documents/GitHub/data/selenium/러시아 2개월 채권 수익율 내역.csv',\n '/Users/hwanghyeonjun/Documents/GitHub/data/selenium/프랑스 3년 채권 수익율 내역.csv',\n '/Users/hwanghyeonjun/Documents/GitHub/data/selenium/프랑스 6개월 채권 수익율 내역.csv',\n '/Users/hwanghyeonjun/Documents/GitHub/data/selenium/영국 5년 채권 수익율 내역.csv',\n '/Users/hwanghyeonjun/Documents/GitHub/data/selenium/스위스 1개월 채권 수익율 내역.csv',\n '/Users/hwanghyeonjun/Documents/GitHub/data/selenium/독일 3년 채권 수익율 내역.csv',\n '/Users/hwanghyeonjun/Documents/GitHub/data/selenium/스위스 8년 채권 수익율 내역.csv',\n '/Users/hwanghyeonjun/Documents/GitHub/data/selenium/프랑스 9년 채권 수익율 내역.csv',\n '/Users/hwanghyeonjun/Documents/GitHub/data/selenium/터키 3개월 채권 수익율 내역.csv',\n '/Users/hwanghyeonjun/Documents/GitHub/data/selenium/프랑스 1개월 채권 수익율 내역.csv',\n '/Users/hwanghyeonjun/Documents/GitHub/data/selenium/독일 6년 채권 수익율 내역.csv',\n '/Users/hwanghyeonjun/Documents/GitHub/data/selenium/독일 3개월 채권 수익율 내역.csv']"
     },
     "execution_count": 4,
     "metadata": {},
     "output_type": "execute_result"
    }
   ],
   "source": [
    "file_list"
   ],
   "metadata": {
    "collapsed": false
   }
  },
  {
   "cell_type": "code",
   "execution_count": 5,
   "outputs": [
    {
     "name": "stderr",
     "output_type": "stream",
     "text": [
      "100%|██████████| 98/98 [00:00<00:00, 872700.20it/s]\n"
     ]
    }
   ],
   "source": [
    "file_names = []\n",
    "for path in tqdm(file_list):\n",
    "\tfile_name = path.split('/')[-1]\n",
    "\tfile_names.append(file_name)"
   ],
   "metadata": {
    "collapsed": false
   }
  },
  {
   "cell_type": "code",
   "execution_count": 6,
   "outputs": [
    {
     "data": {
      "text/plain": "['영국 3년 채권 수익율 내역.csv',\n '스위스 2개월 채권 수익율 내역.csv',\n '프랑스 50년 채권 수익율 내역.csv',\n '독일 5년 채권 수익율 내역.csv',\n '러시아 6개월 채권 수익율 내역.csv',\n '영국 6년 채권 수익율 내역.csv',\n '러시아 1주 채권 수익율 내역.csv',\n '영국 3개월 채권 수익율 내역.csv',\n '스위스 4년 채권 수익율 내역.csv',\n '영국 12년 채권 수익율 내역.csv',\n '영국 9년 채권 수익율 내역.csv',\n '스위스 1년 채권 수익율 내역.csv',\n '터키 5년 채권 수익율 내역.csv',\n '러시아 1개월 채권 수익율 내역.csv',\n '러시아 5년 채권 수익율 내역.csv',\n '프랑스 5년 채권 수익율 내역.csv',\n '영국 50년 채권 수익율 내역.csv',\n '프랑스 3개월 채권 수익율 내역.csv',\n '독일 15년 채권 수익율 내역.csv',\n '영국 7년 채권 수익율 내역.csv',\n '독일 1년 채권 수익율 내역.csv',\n '스위스 30년 채권 수익율 내역.csv',\n '영국 2년 채권 수익율 내역.csv',\n '영국 30년 채권 수익율 내역.csv',\n '독일 10년 채권 수익율 내역.csv',\n '스위스 3개월 채권 수익율 내역.csv',\n '독일 4년 채권 수익율 내역.csv',\n '독일 6개월 채권 수익율 내역.csv',\n '독일 20년 채권 수익율 내역.csv',\n '터키 6개월 채권 수익율 내역.csv',\n '스위스 1주 채권 수익율 내역.csv',\n '프랑스 4년 채권 수익율 내역.csv',\n '프랑스 30년 채권 수익율 내역.csv',\n '독일 25년 채권 수익율 내역.csv',\n '러시아 1년 채권 수익율 내역.csv',\n '터키 9개월 채권 수익율 내역.csv',\n '독일 9개월 채권 수익율 내역.csv',\n '스위스 5년 채권 수익율 내역.csv',\n '터키 1년 채권 수익율 내역.csv',\n '영국 8년 채권 수익율 내역.csv',\n '프랑스 1년 채권 수익율 내역.csv',\n '스위스 15년 채권 수익율 내역.csv',\n '러시아 2년 채권 수익율 내역.csv',\n '영국 6개월 채권 수익율 내역.csv',\n '프랑스 20년 채권 수익율 내역.csv',\n '터키 2년 채권 수익율 내역.csv',\n '스위스 6년 채권 수익율 내역.csv',\n '독일 30년 채권 수익율 내역.csv',\n '영국 10년 채권 수익율 내역.csv',\n '러시아 3개월 채권 수익율 내역.csv',\n '프랑스 2년 채권 수익율 내역.csv',\n '러시아 20년 채권 수익율 내역.csv',\n '스위스 3년 채권 수익율 내역.csv',\n '러시아 오버나잇 채권 수익율 내역.csv',\n '프랑스 25년 채권 수익율 내역.csv',\n '스위스 오버나잇 채권 수익율 내역.csv',\n '러시아 7년 채권 수익율 내역.csv',\n '스위스 10년 채권 수익율 내역.csv',\n '독일 8년 채권 수익율 내역.csv',\n '프랑스 7년 채권 수익율 내역.csv',\n '영국 15년 채권 수익율 내역.csv',\n '스위스 20년 채권 수익율 내역.csv',\n '프랑스 8년 채권 수익율 내역.csv',\n '프랑스 15년 채권 수익율 내역.csv',\n '영국 1년 채권 수익율 내역.csv',\n '영국 1개월 채권 수익율 내역.csv',\n '영국 25년 채권 수익율 내역.csv',\n '러시아 15년 채권 수익율 내역.csv',\n '독일 7년 채권 수익율 내역.csv',\n '러시아 2주 채권 수익율 내역.csv',\n '영국 4년 채권 수익율 내역.csv',\n '프랑스 10년 채권 수익율 내역.csv',\n '독일 2년 채권 수익율 내역.csv',\n '러시아 10년 채권 수익율 내역.csv',\n '영국 20년 채권 수익율 내역.csv',\n '스위스 9년 채권 수익율 내역.csv',\n '스위스 6개월 채권 수익율 내역.csv',\n '터키 10년 채권 수익율 내역.csv',\n '스위스 2년 채권 수익율 내역.csv',\n '독일 9년 채권 수익율 내역.csv',\n '프랑스 9개월 채권 수익율 내역.csv',\n '프랑스 6년 채권 수익율 내역.csv',\n '러시아 3년 채권 수익율 내역.csv',\n '영국 40년 채권 수익율 내역.csv',\n '터키 3년 채권 수익율 내역.csv',\n '스위스 7년 채권 수익율 내역.csv',\n '러시아 2개월 채권 수익율 내역.csv',\n '프랑스 3년 채권 수익율 내역.csv',\n '프랑스 6개월 채권 수익율 내역.csv',\n '영국 5년 채권 수익율 내역.csv',\n '스위스 1개월 채권 수익율 내역.csv',\n '독일 3년 채권 수익율 내역.csv',\n '스위스 8년 채권 수익율 내역.csv',\n '프랑스 9년 채권 수익율 내역.csv',\n '터키 3개월 채권 수익율 내역.csv',\n '프랑스 1개월 채권 수익율 내역.csv',\n '독일 6년 채권 수익율 내역.csv',\n '독일 3개월 채권 수익율 내역.csv']"
     },
     "execution_count": 6,
     "metadata": {},
     "output_type": "execute_result"
    }
   ],
   "source": [
    "file_names"
   ],
   "metadata": {
    "collapsed": false
   }
  },
  {
   "cell_type": "code",
   "execution_count": 7,
   "outputs": [],
   "source": [
    "# 날짜 형식 바꾸기\n",
    "def date_format_change(file_list):\n",
    "\tregx = '[가-힣]'\n",
    "\n",
    "\tfor idx, file in enumerate(file_list):\n",
    "\t\tdf = pd.read_csv(file)\n",
    "\t\tdf['날짜'] = df['날짜'].apply(lambda x: re.sub(regx, '', x))\n",
    "\t\tdf['날짜'] = df['날짜'].apply(lambda x: x.replace(' ', '-'))\n",
    "\t\tdf['날짜'] = df['날짜'].apply(lambda x: x.replace(' ', ''))\n",
    "\t\tdf.sort_values(['날짜'], inplace=True)\n",
    "\t\tdf.to_csv('/Users/hwanghyeonjun/Documents/GitHub/data/selenium/' + file_names[idx], index=False)\n"
   ],
   "metadata": {
    "collapsed": false
   }
  },
  {
   "cell_type": "code",
   "execution_count": 8,
   "outputs": [],
   "source": [
    "date_format_change(file_list)"
   ],
   "metadata": {
    "collapsed": false
   }
  },
  {
   "cell_type": "code",
   "execution_count": 39,
   "outputs": [],
   "source": [
    "rate_file_list = glob.glob('/Users/hwanghyeonjun/Documents/GitHub/data/selenium/환율/*.csv')\n",
    "bonds_file_list = glob.glob('/Users/hwanghyeonjun/Documents/GitHub/data/selenium/세계지수/*.csv')\n",
    "commodities_file_list = glob.glob('/Users/hwanghyeonjun/Documents/GitHub/data/selenium/원자재/*.csv')\n",
    "coins_file_list = glob.glob('/Users/hwanghyeonjun/Documents/GitHub/data/selenium/암호화폐/*.csv')"
   ],
   "metadata": {
    "collapsed": false
   }
  },
  {
   "cell_type": "code",
   "execution_count": 43,
   "outputs": [],
   "source": [
    "# 날짜 순서로 오름차순정렬\n",
    "\n",
    "def dataframe_srot(file_list):\n",
    "\tfile_names = []\n",
    "\n",
    "\tfor path in tqdm(file_list):\n",
    "\t\tfile_name = path.split('/')[-1]\n",
    "\t\tfile_names.append(file_name)\n",
    "\n",
    "\tfor idx, file in tqdm(enumerate(file_list)):\n",
    "\t\tdf = pd.read_csv(file)\n",
    "\t\tdf.sort_values(['날짜'], inplace=True)\n",
    "\t\tdf['날짜'] = df['날짜'].apply(lambda x: x.replace(' ', ''))\n",
    "\t\tdf.to_csv('/Users/hwanghyeonjun/Documents/GitHub/data/selenium/' + file_names[idx], index=False)"
   ],
   "metadata": {
    "collapsed": false
   }
  },
  {
   "cell_type": "code",
   "execution_count": 47,
   "outputs": [
    {
     "name": "stderr",
     "output_type": "stream",
     "text": [
      "100%|██████████| 23/23 [00:00<00:00, 450789.68it/s]\n",
      "23it [00:00, 270.72it/s]\n"
     ]
    }
   ],
   "source": [
    "dataframe_srot(rate_file_list)"
   ],
   "metadata": {
    "collapsed": false
   }
  },
  {
   "cell_type": "code",
   "execution_count": null,
   "outputs": [],
   "source": [],
   "metadata": {
    "collapsed": false
   }
  }
 ],
 "metadata": {
  "kernelspec": {
   "display_name": "Python 3",
   "language": "python",
   "name": "python3"
  },
  "language_info": {
   "codemirror_mode": {
    "name": "ipython",
    "version": 2
   },
   "file_extension": ".py",
   "mimetype": "text/x-python",
   "name": "python",
   "nbconvert_exporter": "python",
   "pygments_lexer": "ipython2",
   "version": "2.7.6"
  }
 },
 "nbformat": 4,
 "nbformat_minor": 0
}
