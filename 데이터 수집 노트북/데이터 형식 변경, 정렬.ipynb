{
 "cells": [
  {
   "cell_type": "code",
   "execution_count": 21,
   "metadata": {
    "collapsed": true
   },
   "outputs": [],
   "source": [
    "import numpy as np\n",
    "import pandas as pd\n",
    "\n",
    "import time\n",
    "from tqdm import tqdm\n",
    "\n",
    "import glob\n",
    "import re"
   ]
  },
  {
   "cell_type": "code",
   "execution_count": 11,
   "outputs": [],
   "source": [
    "file_list = glob.glob('/Users/hwanghyeonjun/Documents/GitHub/data/selenium/채권/*.csv')"
   ],
   "metadata": {
    "collapsed": false
   }
  },
  {
   "cell_type": "code",
   "execution_count": 12,
   "outputs": [
    {
     "data": {
      "text/plain": "['/Users/hwanghyeonjun/Documents/GitHub/data/selenium/채권/한국 30년 채권 수익율 내역.csv',\n '/Users/hwanghyeonjun/Documents/GitHub/data/selenium/채권/중국 1년 채권 수익율 내역.csv',\n '/Users/hwanghyeonjun/Documents/GitHub/data/selenium/채권/일본 3년 채권 수익율 내역.csv',\n '/Users/hwanghyeonjun/Documents/GitHub/data/selenium/채권/미국 3개월 채권 수익율 내역.csv',\n '/Users/hwanghyeonjun/Documents/GitHub/data/selenium/채권/일본 6년 채권 수익율 내역.csv',\n '/Users/hwanghyeonjun/Documents/GitHub/data/selenium/채권/중국 30년 채권 수익율 내역.csv',\n '/Users/hwanghyeonjun/Documents/GitHub/data/selenium/채권/한국 2년 채권 수익율 내역.csv',\n '/Users/hwanghyeonjun/Documents/GitHub/data/selenium/채권/일본 9년 채권 수익율 내역.csv',\n '/Users/hwanghyeonjun/Documents/GitHub/data/selenium/채권/미국 5년 채권 수익율 내역.csv',\n '/Users/hwanghyeonjun/Documents/GitHub/data/selenium/채권/일본 40년 채권 수익율 내역.csv',\n '/Users/hwanghyeonjun/Documents/GitHub/data/selenium/채권/일본 7년 채권 수익율 내역.csv',\n '/Users/hwanghyeonjun/Documents/GitHub/data/selenium/채권/중국 5년 채권 수익율 내역.csv',\n '/Users/hwanghyeonjun/Documents/GitHub/data/selenium/채권/일본 3개월 채권 수익율 내역.csv',\n '/Users/hwanghyeonjun/Documents/GitHub/data/selenium/채권/한국 3년 채권 수익율 내역.csv',\n '/Users/hwanghyeonjun/Documents/GitHub/data/selenium/채권/미국 10년물 국채 금리 채권 수익율 내역.csv',\n '/Users/hwanghyeonjun/Documents/GitHub/data/selenium/채권/일본 20년 채권 수익율 내역.csv',\n '/Users/hwanghyeonjun/Documents/GitHub/data/selenium/채권/미국 30년 채권 수익율 내역.csv',\n '/Users/hwanghyeonjun/Documents/GitHub/data/selenium/채권/일본 2년 채권 수익율 내역.csv',\n '/Users/hwanghyeonjun/Documents/GitHub/data/selenium/채권/일본 10년 채권 수익율 내역.csv',\n '/Users/hwanghyeonjun/Documents/GitHub/data/selenium/채권/한국 50년 채권 수익율 내역.csv',\n '/Users/hwanghyeonjun/Documents/GitHub/data/selenium/채권/일본 8년 채권 수익율 내역.csv',\n '/Users/hwanghyeonjun/Documents/GitHub/data/selenium/채권/일본 15년 채권 수익율 내역.csv',\n '/Users/hwanghyeonjun/Documents/GitHub/data/selenium/채권/미국 1년 채권 수익율 내역.csv',\n '/Users/hwanghyeonjun/Documents/GitHub/data/selenium/채권/미국 6개월 채권 수익율 내역.csv',\n '/Users/hwanghyeonjun/Documents/GitHub/data/selenium/채권/미국 2년 채권 수익율 내역.csv',\n '/Users/hwanghyeonjun/Documents/GitHub/data/selenium/채권/미국 7년 채권 수익율 내역.csv',\n '/Users/hwanghyeonjun/Documents/GitHub/data/selenium/채권/한국 5년 채권 수익율 내역.csv',\n '/Users/hwanghyeonjun/Documents/GitHub/data/selenium/채권/미국 1개월 채권 수익율 내역.csv',\n '/Users/hwanghyeonjun/Documents/GitHub/data/selenium/채권/일본 1년 채권 수익율 내역.csv',\n '/Users/hwanghyeonjun/Documents/GitHub/data/selenium/채권/중국 3년 채권 수익율 내역.csv',\n '/Users/hwanghyeonjun/Documents/GitHub/data/selenium/채권/미국 20년 채권 수익율 내역.csv',\n '/Users/hwanghyeonjun/Documents/GitHub/data/selenium/채권/일본 30년 채권 수익율 내역.csv',\n '/Users/hwanghyeonjun/Documents/GitHub/data/selenium/채권/일본 4년 채권 수익율 내역.csv',\n '/Users/hwanghyeonjun/Documents/GitHub/data/selenium/채권/중국 10년 채권 수익율 내역.csv',\n '/Users/hwanghyeonjun/Documents/GitHub/data/selenium/채권/일본 9개월 채권 수익율 내역.csv',\n '/Users/hwanghyeonjun/Documents/GitHub/data/selenium/채권/중국 15년 채권 수익율 내역.csv',\n '/Users/hwanghyeonjun/Documents/GitHub/data/selenium/채권/일본 6개월 채권 수익율 내역.csv',\n '/Users/hwanghyeonjun/Documents/GitHub/data/selenium/채권/한국 10년 채권 수익율 내역.csv',\n '/Users/hwanghyeonjun/Documents/GitHub/data/selenium/채권/미국 3년 채권 수익율 내역.csv',\n '/Users/hwanghyeonjun/Documents/GitHub/data/selenium/채권/한국 20년 채권 수익율 내역.csv',\n '/Users/hwanghyeonjun/Documents/GitHub/data/selenium/채권/중국 7년 채권 수익율 내역.csv',\n '/Users/hwanghyeonjun/Documents/GitHub/data/selenium/채권/일본 5년 채권 수익율 내역.csv',\n '/Users/hwanghyeonjun/Documents/GitHub/data/selenium/채권/한국 1년 채권 수익율 내역.csv',\n '/Users/hwanghyeonjun/Documents/GitHub/data/selenium/채권/일본 1개월 채권 수익율 내역.csv',\n '/Users/hwanghyeonjun/Documents/GitHub/data/selenium/채권/중국 20년 채권 수익율 내역.csv',\n '/Users/hwanghyeonjun/Documents/GitHub/data/selenium/채권/한국 4년 채권 수익율 내역.csv',\n '/Users/hwanghyeonjun/Documents/GitHub/data/selenium/채권/중국 2년 채권 수익율 내역.csv']"
     },
     "execution_count": 12,
     "metadata": {},
     "output_type": "execute_result"
    }
   ],
   "source": [
    "file_list"
   ],
   "metadata": {
    "collapsed": false
   }
  },
  {
   "cell_type": "code",
   "execution_count": 13,
   "outputs": [
    {
     "name": "stderr",
     "output_type": "stream",
     "text": [
      "100%|██████████| 47/47 [00:00<00:00, 162516.31it/s]\n"
     ]
    }
   ],
   "source": [
    "file_names = []\n",
    "for path in tqdm(file_list):\n",
    "\tfile_name = path.split('/')[-1]\n",
    "\tfile_names.append(file_name)"
   ],
   "metadata": {
    "collapsed": false
   }
  },
  {
   "cell_type": "code",
   "execution_count": 14,
   "outputs": [
    {
     "data": {
      "text/plain": "['한국 30년 채권 수익율 내역.csv',\n '중국 1년 채권 수익율 내역.csv',\n '일본 3년 채권 수익율 내역.csv',\n '미국 3개월 채권 수익율 내역.csv',\n '일본 6년 채권 수익율 내역.csv',\n '중국 30년 채권 수익율 내역.csv',\n '한국 2년 채권 수익율 내역.csv',\n '일본 9년 채권 수익율 내역.csv',\n '미국 5년 채권 수익율 내역.csv',\n '일본 40년 채권 수익율 내역.csv',\n '일본 7년 채권 수익율 내역.csv',\n '중국 5년 채권 수익율 내역.csv',\n '일본 3개월 채권 수익율 내역.csv',\n '한국 3년 채권 수익율 내역.csv',\n '미국 10년물 국채 금리 채권 수익율 내역.csv',\n '일본 20년 채권 수익율 내역.csv',\n '미국 30년 채권 수익율 내역.csv',\n '일본 2년 채권 수익율 내역.csv',\n '일본 10년 채권 수익율 내역.csv',\n '한국 50년 채권 수익율 내역.csv',\n '일본 8년 채권 수익율 내역.csv',\n '일본 15년 채권 수익율 내역.csv',\n '미국 1년 채권 수익율 내역.csv',\n '미국 6개월 채권 수익율 내역.csv',\n '미국 2년 채권 수익율 내역.csv',\n '미국 7년 채권 수익율 내역.csv',\n '한국 5년 채권 수익율 내역.csv',\n '미국 1개월 채권 수익율 내역.csv',\n '일본 1년 채권 수익율 내역.csv',\n '중국 3년 채권 수익율 내역.csv',\n '미국 20년 채권 수익율 내역.csv',\n '일본 30년 채권 수익율 내역.csv',\n '일본 4년 채권 수익율 내역.csv',\n '중국 10년 채권 수익율 내역.csv',\n '일본 9개월 채권 수익율 내역.csv',\n '중국 15년 채권 수익율 내역.csv',\n '일본 6개월 채권 수익율 내역.csv',\n '한국 10년 채권 수익율 내역.csv',\n '미국 3년 채권 수익율 내역.csv',\n '한국 20년 채권 수익율 내역.csv',\n '중국 7년 채권 수익율 내역.csv',\n '일본 5년 채권 수익율 내역.csv',\n '한국 1년 채권 수익율 내역.csv',\n '일본 1개월 채권 수익율 내역.csv',\n '중국 20년 채권 수익율 내역.csv',\n '한국 4년 채권 수익율 내역.csv',\n '중국 2년 채권 수익율 내역.csv']"
     },
     "execution_count": 14,
     "metadata": {},
     "output_type": "execute_result"
    }
   ],
   "source": [
    "file_names"
   ],
   "metadata": {
    "collapsed": false
   }
  },
  {
   "cell_type": "code",
   "execution_count": 26,
   "outputs": [
    {
     "name": "stderr",
     "output_type": "stream",
     "text": [
      "47it [00:48,  1.03s/it]\n"
     ]
    }
   ],
   "source": [
    "# 날짜 형식 바꾸기\n",
    "def date_format_change(file_list):\n",
    "\tregx = '[가-힣]'\n",
    "\n",
    "\tfor idx, file in enumerate(file_list):\n",
    "\t\tdf = pd.read_csv(file)\n",
    "\t\tdf['날짜'] = df['날짜'].apply(lambda x: re.sub(regx, '', x))\n",
    "\t\tdf['날짜'] = df['날짜'].apply(lambda x: x.replace(' ', '-'))\n",
    "\t\tdf['날짜'] = df['날짜'].apply(lambda x: x.replace(' ', ''))\n",
    "\t\tdf.sort_values(['날짜'], inplace=True)\n",
    "\t\tdf.to_csv('/Users/hwanghyeonjun/Documents/GitHub/data/selenium/' + file_names[idx], index=False)\n"
   ],
   "metadata": {
    "collapsed": false
   }
  },
  {
   "cell_type": "code",
   "execution_count": 39,
   "outputs": [],
   "source": [
    "rate_file_list = glob.glob('/Users/hwanghyeonjun/Documents/GitHub/data/selenium/환율/*.csv')\n",
    "bonds_file_list = glob.glob('/Users/hwanghyeonjun/Documents/GitHub/data/selenium/세계지수/*.csv')\n",
    "commodities_file_list = glob.glob('/Users/hwanghyeonjun/Documents/GitHub/data/selenium/원자재/*.csv')\n",
    "coins_file_list = glob.glob('/Users/hwanghyeonjun/Documents/GitHub/data/selenium/암호화폐/*.csv')"
   ],
   "metadata": {
    "collapsed": false
   }
  },
  {
   "cell_type": "code",
   "execution_count": 43,
   "outputs": [],
   "source": [
    "# 날짜 순서로 오름차순정렬\n",
    "\n",
    "def dataframe_srot(file_list):\n",
    "\tfile_names = []\n",
    "\n",
    "\tfor path in tqdm(file_list):\n",
    "\t\tfile_name = path.split('/')[-1]\n",
    "\t\tfile_names.append(file_name)\n",
    "\n",
    "\tfor idx, file in tqdm(enumerate(file_list)):\n",
    "\t\tdf = pd.read_csv(file)\n",
    "\t\tdf.sort_values(['날짜'], inplace=True)\n",
    "\t\tdf['날짜'] = df['날짜'].apply(lambda x: x.replace(' ', ''))\n",
    "\t\tdf.to_csv('/Users/hwanghyeonjun/Documents/GitHub/data/selenium/' + file_names[idx], index=False)"
   ],
   "metadata": {
    "collapsed": false
   }
  },
  {
   "cell_type": "code",
   "execution_count": 47,
   "outputs": [
    {
     "name": "stderr",
     "output_type": "stream",
     "text": [
      "100%|██████████| 23/23 [00:00<00:00, 450789.68it/s]\n",
      "23it [00:00, 270.72it/s]\n"
     ]
    }
   ],
   "source": [
    "dataframe_srot(rate_file_list)"
   ],
   "metadata": {
    "collapsed": false
   }
  },
  {
   "cell_type": "code",
   "execution_count": null,
   "outputs": [],
   "source": [],
   "metadata": {
    "collapsed": false
   }
  }
 ],
 "metadata": {
  "kernelspec": {
   "display_name": "Python 3",
   "language": "python",
   "name": "python3"
  },
  "language_info": {
   "codemirror_mode": {
    "name": "ipython",
    "version": 2
   },
   "file_extension": ".py",
   "mimetype": "text/x-python",
   "name": "python",
   "nbconvert_exporter": "python",
   "pygments_lexer": "ipython2",
   "version": "2.7.6"
  }
 },
 "nbformat": 4,
 "nbformat_minor": 0
}
