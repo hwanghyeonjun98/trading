{
 "cells": [
  {
   "cell_type": "code",
   "execution_count": 1,
   "outputs": [],
   "source": [
    "import numpy as np\n",
    "import pandas as pd\n",
    "\n",
    "import time\n",
    "from tqdm import tqdm\n",
    "\n",
    "import glob\n",
    "import re"
   ],
   "metadata": {
    "collapsed": false
   }
  },
  {
   "cell_type": "code",
   "execution_count": 29,
   "outputs": [],
   "source": [
    "file_list = glob.glob('/Users/hwanghyeonjun/Documents/GitHub/data/selenium/*.csv')"
   ],
   "metadata": {
    "collapsed": false
   }
  },
  {
   "cell_type": "code",
   "execution_count": 30,
   "outputs": [
    {
     "data": {
      "text/plain": "['/Users/hwanghyeonjun/Documents/GitHub/data/selenium/터키 BIST 내역.csv',\n '/Users/hwanghyeonjun/Documents/GitHub/data/selenium/영국 3년 채권 수익율 내역.csv',\n '/Users/hwanghyeonjun/Documents/GitHub/data/selenium/스위스 2개월 채권 수익율 내역.csv',\n '/Users/hwanghyeonjun/Documents/GitHub/data/selenium/프랑스 50년 채권 수익율 내역.csv',\n '/Users/hwanghyeonjun/Documents/GitHub/data/selenium/구리 선물 내역.csv',\n '/Users/hwanghyeonjun/Documents/GitHub/data/selenium/Dow Jones Shanghai 내역.csv',\n '/Users/hwanghyeonjun/Documents/GitHub/data/selenium/스위스 SMI 내역.csv',\n '/Users/hwanghyeonjun/Documents/GitHub/data/selenium/한국 30년 채권 수익율 내역.csv',\n '/Users/hwanghyeonjun/Documents/GitHub/data/selenium/중국 1년 채권 수익율 내역.csv',\n '/Users/hwanghyeonjun/Documents/GitHub/data/selenium/독일 5년 채권 수익율 내역.csv',\n '/Users/hwanghyeonjun/Documents/GitHub/data/selenium/일본 3년 채권 수익율 내역.csv',\n '/Users/hwanghyeonjun/Documents/GitHub/data/selenium/BTC_KRW Bithumb 내역.csv',\n '/Users/hwanghyeonjun/Documents/GitHub/data/selenium/미국 3개월 채권 수익율 내역.csv',\n '/Users/hwanghyeonjun/Documents/GitHub/data/selenium/러시아 6개월 채권 수익율 내역.csv',\n '/Users/hwanghyeonjun/Documents/GitHub/data/selenium/영국 6년 채권 수익율 내역.csv',\n '/Users/hwanghyeonjun/Documents/GitHub/data/selenium/닛케이 내역.csv',\n '/Users/hwanghyeonjun/Documents/GitHub/data/selenium/일본 6년 채권 수익율 내역.csv',\n '/Users/hwanghyeonjun/Documents/GitHub/data/selenium/IDR_KRW 내역.csv',\n '/Users/hwanghyeonjun/Documents/GitHub/data/selenium/CNY_KRW 내역.csv',\n '/Users/hwanghyeonjun/Documents/GitHub/data/selenium/호주 S&P_ASX 내역.csv',\n '/Users/hwanghyeonjun/Documents/GitHub/data/selenium/중국 30년 채권 수익율 내역.csv',\n '/Users/hwanghyeonjun/Documents/GitHub/data/selenium/러시아 1주 채권 수익율 내역.csv',\n '/Users/hwanghyeonjun/Documents/GitHub/data/selenium/한국 2년 채권 수익율 내역.csv',\n '/Users/hwanghyeonjun/Documents/GitHub/data/selenium/영국 3개월 채권 수익율 내역.csv',\n '/Users/hwanghyeonjun/Documents/GitHub/data/selenium/일본 9년 채권 수익율 내역.csv',\n '/Users/hwanghyeonjun/Documents/GitHub/data/selenium/MXN_KRW 내역.csv',\n '/Users/hwanghyeonjun/Documents/GitHub/data/selenium/스위스 4년 채권 수익율 내역.csv',\n '/Users/hwanghyeonjun/Documents/GitHub/data/selenium/DAX 내역.csv',\n '/Users/hwanghyeonjun/Documents/GitHub/data/selenium/사우디아라비아 Tadawul 내역.csv',\n '/Users/hwanghyeonjun/Documents/GitHub/data/selenium/RTSI 지수 내역.csv',\n '/Users/hwanghyeonjun/Documents/GitHub/data/selenium/다우존스 내역.csv',\n '/Users/hwanghyeonjun/Documents/GitHub/data/selenium/영국 12년 채권 수익율 내역.csv',\n '/Users/hwanghyeonjun/Documents/GitHub/data/selenium/영국 9년 채권 수익율 내역.csv',\n '/Users/hwanghyeonjun/Documents/GitHub/data/selenium/PHP_KRW 내역.csv',\n '/Users/hwanghyeonjun/Documents/GitHub/data/selenium/AED_KRW 내역.csv',\n '/Users/hwanghyeonjun/Documents/GitHub/data/selenium/영국 FTSE 내역.csv',\n '/Users/hwanghyeonjun/Documents/GitHub/data/selenium/Nifty 50 내역.csv',\n '/Users/hwanghyeonjun/Documents/GitHub/data/selenium/스위스 1년 채권 수익율 내역.csv',\n '/Users/hwanghyeonjun/Documents/GitHub/data/selenium/터키 5년 채권 수익율 내역.csv',\n '/Users/hwanghyeonjun/Documents/GitHub/data/selenium/S&P 500 내역.csv',\n '/Users/hwanghyeonjun/Documents/GitHub/data/selenium/러시아 1개월 채권 수익율 내역.csv',\n '/Users/hwanghyeonjun/Documents/GitHub/data/selenium/러시아 5년 채권 수익율 내역.csv',\n '/Users/hwanghyeonjun/Documents/GitHub/data/selenium/프랑스 5년 채권 수익율 내역.csv',\n '/Users/hwanghyeonjun/Documents/GitHub/data/selenium/미국 5년 채권 수익율 내역.csv',\n '/Users/hwanghyeonjun/Documents/GitHub/data/selenium/EUR_KRW 내역.csv',\n '/Users/hwanghyeonjun/Documents/GitHub/data/selenium/일본 40년 채권 수익율 내역.csv',\n '/Users/hwanghyeonjun/Documents/GitHub/data/selenium/영국 50년 채권 수익율 내역.csv',\n '/Users/hwanghyeonjun/Documents/GitHub/data/selenium/프랑스 3개월 채권 수익율 내역.csv',\n '/Users/hwanghyeonjun/Documents/GitHub/data/selenium/독일 15년 채권 수익율 내역.csv',\n '/Users/hwanghyeonjun/Documents/GitHub/data/selenium/스페인 IBEX 내역.csv',\n '/Users/hwanghyeonjun/Documents/GitHub/data/selenium/영국 7년 채권 수익율 내역.csv',\n '/Users/hwanghyeonjun/Documents/GitHub/data/selenium/독일 1년 채권 수익율 내역.csv',\n '/Users/hwanghyeonjun/Documents/GitHub/data/selenium/일본 7년 채권 수익율 내역.csv',\n '/Users/hwanghyeonjun/Documents/GitHub/data/selenium/HKD_KRW 내역.csv',\n '/Users/hwanghyeonjun/Documents/GitHub/data/selenium/중국 5년 채권 수익율 내역.csv',\n '/Users/hwanghyeonjun/Documents/GitHub/data/selenium/일본 3개월 채권 수익율 내역.csv',\n '/Users/hwanghyeonjun/Documents/GitHub/data/selenium/한국 3년 채권 수익율 내역.csv',\n '/Users/hwanghyeonjun/Documents/GitHub/data/selenium/스위스 30년 채권 수익율 내역.csv',\n '/Users/hwanghyeonjun/Documents/GitHub/data/selenium/대만 가권 내역.csv',\n '/Users/hwanghyeonjun/Documents/GitHub/data/selenium/MYR_KRW 내역.csv',\n '/Users/hwanghyeonjun/Documents/GitHub/data/selenium/영국 2년 채권 수익율 내역.csv',\n '/Users/hwanghyeonjun/Documents/GitHub/data/selenium/영국 30년 채권 수익율 내역.csv',\n '/Users/hwanghyeonjun/Documents/GitHub/data/selenium/독일 10년 채권 수익율 내역.csv',\n '/Users/hwanghyeonjun/Documents/GitHub/data/selenium/CHF_KRW 내역.csv',\n '/Users/hwanghyeonjun/Documents/GitHub/data/selenium/상하이종합 내역.csv',\n '/Users/hwanghyeonjun/Documents/GitHub/data/selenium/미국 10년물 국채 금리 채권 수익율 내역.csv',\n '/Users/hwanghyeonjun/Documents/GitHub/data/selenium/일본 20년 채권 수익율 내역.csv',\n '/Users/hwanghyeonjun/Documents/GitHub/data/selenium/미국 30년 채권 수익율 내역.csv',\n '/Users/hwanghyeonjun/Documents/GitHub/data/selenium/네덜란드 AEX 내역.csv',\n '/Users/hwanghyeonjun/Documents/GitHub/data/selenium/스위스 3개월 채권 수익율 내역.csv',\n '/Users/hwanghyeonjun/Documents/GitHub/data/selenium/일본 2년 채권 수익율 내역.csv',\n '/Users/hwanghyeonjun/Documents/GitHub/data/selenium/독일 4년 채권 수익율 내역.csv',\n '/Users/hwanghyeonjun/Documents/GitHub/data/selenium/일본 10년 채권 수익율 내역.csv',\n '/Users/hwanghyeonjun/Documents/GitHub/data/selenium/INR_KRW 내역.csv',\n '/Users/hwanghyeonjun/Documents/GitHub/data/selenium/독일 6개월 채권 수익율 내역.csv',\n '/Users/hwanghyeonjun/Documents/GitHub/data/selenium/한국 50년 채권 수익율 내역.csv',\n '/Users/hwanghyeonjun/Documents/GitHub/data/selenium/VN 30 내역.csv',\n '/Users/hwanghyeonjun/Documents/GitHub/data/selenium/DKK_KRW 내역.csv',\n '/Users/hwanghyeonjun/Documents/GitHub/data/selenium/S&P_BMV IPC 내역.csv',\n '/Users/hwanghyeonjun/Documents/GitHub/data/selenium/WTI유 선물 내역.csv',\n '/Users/hwanghyeonjun/Documents/GitHub/data/selenium/독일 20년 채권 수익율 내역.csv',\n '/Users/hwanghyeonjun/Documents/GitHub/data/selenium/터키 6개월 채권 수익율 내역.csv',\n '/Users/hwanghyeonjun/Documents/GitHub/data/selenium/스위스 1주 채권 수익율 내역.csv',\n '/Users/hwanghyeonjun/Documents/GitHub/data/selenium/프랑스 4년 채권 수익율 내역.csv',\n '/Users/hwanghyeonjun/Documents/GitHub/data/selenium/SAR_KRW 내역.csv',\n '/Users/hwanghyeonjun/Documents/GitHub/data/selenium/SGD_KRW 내역.csv',\n '/Users/hwanghyeonjun/Documents/GitHub/data/selenium/벨기에 BEL 내역.csv',\n '/Users/hwanghyeonjun/Documents/GitHub/data/selenium/XRP_KRW Bithumb 내역.csv',\n '/Users/hwanghyeonjun/Documents/GitHub/data/selenium/프랑스 30년 채권 수익율 내역.csv',\n '/Users/hwanghyeonjun/Documents/GitHub/data/selenium/독일 25년 채권 수익율 내역.csv',\n '/Users/hwanghyeonjun/Documents/GitHub/data/selenium/러시아 1년 채권 수익율 내역.csv',\n '/Users/hwanghyeonjun/Documents/GitHub/data/selenium/일본 8년 채권 수익율 내역.csv',\n '/Users/hwanghyeonjun/Documents/GitHub/data/selenium/FTSE China A50 내역.csv',\n '/Users/hwanghyeonjun/Documents/GitHub/data/selenium/터키 9개월 채권 수익율 내역.csv',\n '/Users/hwanghyeonjun/Documents/GitHub/data/selenium/독일 9개월 채권 수익율 내역.csv',\n '/Users/hwanghyeonjun/Documents/GitHub/data/selenium/코스닥 내역.csv',\n '/Users/hwanghyeonjun/Documents/GitHub/data/selenium/은 선물 내역.csv',\n '/Users/hwanghyeonjun/Documents/GitHub/data/selenium/일본 15년 채권 수익율 내역.csv',\n '/Users/hwanghyeonjun/Documents/GitHub/data/selenium/스위스 5년 채권 수익율 내역.csv',\n '/Users/hwanghyeonjun/Documents/GitHub/data/selenium/터키 1년 채권 수익율 내역.csv',\n '/Users/hwanghyeonjun/Documents/GitHub/data/selenium/BSE 인도 센섹스 30 내역.csv',\n '/Users/hwanghyeonjun/Documents/GitHub/data/selenium/미국 1년 채권 수익율 내역.csv',\n '/Users/hwanghyeonjun/Documents/GitHub/data/selenium/영국 8년 채권 수익율 내역.csv',\n '/Users/hwanghyeonjun/Documents/GitHub/data/selenium/프랑스 1년 채권 수익율 내역.csv',\n '/Users/hwanghyeonjun/Documents/GitHub/data/selenium/스위스 15년 채권 수익율 내역.csv',\n '/Users/hwanghyeonjun/Documents/GitHub/data/selenium/러시아 2년 채권 수익율 내역.csv',\n '/Users/hwanghyeonjun/Documents/GitHub/data/selenium/영국 6개월 채권 수익율 내역.csv',\n '/Users/hwanghyeonjun/Documents/GitHub/data/selenium/프랑스 20년 채권 수익율 내역.csv',\n '/Users/hwanghyeonjun/Documents/GitHub/data/selenium/SEK_KRW 내역.csv',\n '/Users/hwanghyeonjun/Documents/GitHub/data/selenium/AUD_KRW 내역.csv',\n '/Users/hwanghyeonjun/Documents/GitHub/data/selenium/NZD_KRW 내역.csv',\n '/Users/hwanghyeonjun/Documents/GitHub/data/selenium/터키 2년 채권 수익율 내역.csv',\n '/Users/hwanghyeonjun/Documents/GitHub/data/selenium/스위스 6년 채권 수익율 내역.csv',\n '/Users/hwanghyeonjun/Documents/GitHub/data/selenium/코스피 50 내역.csv',\n '/Users/hwanghyeonjun/Documents/GitHub/data/selenium/헝가리 BUX 내역.csv',\n '/Users/hwanghyeonjun/Documents/GitHub/data/selenium/러셀 2000 지수 내역.csv',\n '/Users/hwanghyeonjun/Documents/GitHub/data/selenium/미국 6개월 채권 수익율 내역.csv',\n '/Users/hwanghyeonjun/Documents/GitHub/data/selenium/독일 30년 채권 수익율 내역.csv',\n '/Users/hwanghyeonjun/Documents/GitHub/data/selenium/영국 10년 채권 수익율 내역.csv',\n '/Users/hwanghyeonjun/Documents/GitHub/data/selenium/러시아 3개월 채권 수익율 내역.csv',\n '/Users/hwanghyeonjun/Documents/GitHub/data/selenium/프랑스 2년 채권 수익율 내역.csv',\n '/Users/hwanghyeonjun/Documents/GitHub/data/selenium/러시아 20년 채권 수익율 내역.csv',\n '/Users/hwanghyeonjun/Documents/GitHub/data/selenium/미국 2년 채권 수익율 내역.csv',\n '/Users/hwanghyeonjun/Documents/GitHub/data/selenium/스위스 3년 채권 수익율 내역.csv',\n '/Users/hwanghyeonjun/Documents/GitHub/data/selenium/GBP_KRW 내역.csv',\n '/Users/hwanghyeonjun/Documents/GitHub/data/selenium/러시아 오버나잇 채권 수익율 내역.csv',\n '/Users/hwanghyeonjun/Documents/GitHub/data/selenium/프랑스 25년 채권 수익율 내역.csv',\n '/Users/hwanghyeonjun/Documents/GitHub/data/selenium/항셍 내역.csv',\n '/Users/hwanghyeonjun/Documents/GitHub/data/selenium/스위스 오버나잇 채권 수익율 내역.csv',\n '/Users/hwanghyeonjun/Documents/GitHub/data/selenium/러시아 7년 채권 수익율 내역.csv',\n '/Users/hwanghyeonjun/Documents/GitHub/data/selenium/스위스 10년 채권 수익율 내역.csv',\n '/Users/hwanghyeonjun/Documents/GitHub/data/selenium/독일 8년 채권 수익율 내역.csv',\n '/Users/hwanghyeonjun/Documents/GitHub/data/selenium/미국 7년 채권 수익율 내역.csv',\n '/Users/hwanghyeonjun/Documents/GitHub/data/selenium/프랑스 7년 채권 수익율 내역.csv',\n '/Users/hwanghyeonjun/Documents/GitHub/data/selenium/폴란드 WIG 20 내역.csv',\n '/Users/hwanghyeonjun/Documents/GitHub/data/selenium/영국 15년 채권 수익율 내역.csv',\n '/Users/hwanghyeonjun/Documents/GitHub/data/selenium/THB_KRW 내역.csv',\n '/Users/hwanghyeonjun/Documents/GitHub/data/selenium/스위스 20년 채권 수익율 내역.csv',\n '/Users/hwanghyeonjun/Documents/GitHub/data/selenium/프랑스 8년 채권 수익율 내역.csv',\n '/Users/hwanghyeonjun/Documents/GitHub/data/selenium/스웨덴 OMXS 내역.csv',\n '/Users/hwanghyeonjun/Documents/GitHub/data/selenium/프랑스 15년 채권 수익율 내역.csv',\n '/Users/hwanghyeonjun/Documents/GitHub/data/selenium/영국 1년 채권 수익율 내역.csv',\n '/Users/hwanghyeonjun/Documents/GitHub/data/selenium/코스피지수 내역.csv',\n '/Users/hwanghyeonjun/Documents/GitHub/data/selenium/영국 1개월 채권 수익율 내역.csv',\n '/Users/hwanghyeonjun/Documents/GitHub/data/selenium/한국 5년 채권 수익율 내역.csv',\n '/Users/hwanghyeonjun/Documents/GitHub/data/selenium/영국 25년 채권 수익율 내역.csv',\n '/Users/hwanghyeonjun/Documents/GitHub/data/selenium/브라질 보베스파 내역.csv',\n '/Users/hwanghyeonjun/Documents/GitHub/data/selenium/미국 1개월 채권 수익율 내역.csv',\n '/Users/hwanghyeonjun/Documents/GitHub/data/selenium/일본 1년 채권 수익율 내역.csv',\n '/Users/hwanghyeonjun/Documents/GitHub/data/selenium/러시아 15년 채권 수익율 내역.csv',\n '/Users/hwanghyeonjun/Documents/GitHub/data/selenium/독일 7년 채권 수익율 내역.csv',\n '/Users/hwanghyeonjun/Documents/GitHub/data/selenium/중국 3년 채권 수익율 내역.csv',\n '/Users/hwanghyeonjun/Documents/GitHub/data/selenium/러시아 2주 채권 수익율 내역.csv',\n '/Users/hwanghyeonjun/Documents/GitHub/data/selenium/SZSE Component 내역.csv',\n '/Users/hwanghyeonjun/Documents/GitHub/data/selenium/_캐나다 S&P_TSX 내역.csv',\n '/Users/hwanghyeonjun/Documents/GitHub/data/selenium/영국 4년 채권 수익율 내역.csv',\n '/Users/hwanghyeonjun/Documents/GitHub/data/selenium/프랑스 10년 채권 수익율 내역.csv',\n '/Users/hwanghyeonjun/Documents/GitHub/data/selenium/나스닥종합지수 내역.csv',\n '/Users/hwanghyeonjun/Documents/GitHub/data/selenium/미국 20년 채권 수익율 내역.csv',\n '/Users/hwanghyeonjun/Documents/GitHub/data/selenium/독일 2년 채권 수익율 내역.csv',\n '/Users/hwanghyeonjun/Documents/GitHub/data/selenium/러시아 10년 채권 수익율 내역.csv',\n '/Users/hwanghyeonjun/Documents/GitHub/data/selenium/일본 30년 채권 수익율 내역.csv',\n '/Users/hwanghyeonjun/Documents/GitHub/data/selenium/일본 4년 채권 수익율 내역.csv',\n '/Users/hwanghyeonjun/Documents/GitHub/data/selenium/CAD_KRW 내역.csv',\n '/Users/hwanghyeonjun/Documents/GitHub/data/selenium/Germany 3 Month 채권 수익율 내역.csv',\n '/Users/hwanghyeonjun/Documents/GitHub/data/selenium/영국 20년 채권 수익율 내역.csv',\n '/Users/hwanghyeonjun/Documents/GitHub/data/selenium/PKR_KRW 내역.csv',\n '/Users/hwanghyeonjun/Documents/GitHub/data/selenium/천연가스 선물 내역.csv',\n '/Users/hwanghyeonjun/Documents/GitHub/data/selenium/스위스 9년 채권 수익율 내역.csv',\n '/Users/hwanghyeonjun/Documents/GitHub/data/selenium/중국 10년 채권 수익율 내역.csv',\n '/Users/hwanghyeonjun/Documents/GitHub/data/selenium/USD_KRW 내역.csv',\n '/Users/hwanghyeonjun/Documents/GitHub/data/selenium/스위스 6개월 채권 수익율 내역.csv',\n '/Users/hwanghyeonjun/Documents/GitHub/data/selenium/일본 9개월 채권 수익율 내역.csv',\n '/Users/hwanghyeonjun/Documents/GitHub/data/selenium/터키 10년 채권 수익율 내역.csv',\n '/Users/hwanghyeonjun/Documents/GitHub/data/selenium/스위스 2년 채권 수익율 내역.csv',\n '/Users/hwanghyeonjun/Documents/GitHub/data/selenium/금 선물 내역.csv',\n '/Users/hwanghyeonjun/Documents/GitHub/data/selenium/TA 35 내역.csv',\n '/Users/hwanghyeonjun/Documents/GitHub/data/selenium/독일 9년 채권 수익율 내역.csv',\n '/Users/hwanghyeonjun/Documents/GitHub/data/selenium/프랑스 9개월 채권 수익율 내역.csv',\n '/Users/hwanghyeonjun/Documents/GitHub/data/selenium/프랑스 6년 채권 수익율 내역.csv',\n '/Users/hwanghyeonjun/Documents/GitHub/data/selenium/NOK_KRW 내역.csv',\n '/Users/hwanghyeonjun/Documents/GitHub/data/selenium/러시아 3년 채권 수익율 내역.csv',\n '/Users/hwanghyeonjun/Documents/GitHub/data/selenium/JPY_KRW 내역.csv',\n '/Users/hwanghyeonjun/Documents/GitHub/data/selenium/영국 40년 채권 수익율 내역.csv',\n '/Users/hwanghyeonjun/Documents/GitHub/data/selenium/미국 소맥 선물 내역.csv',\n '/Users/hwanghyeonjun/Documents/GitHub/data/selenium/유로 스톡스 50 내역.csv',\n '/Users/hwanghyeonjun/Documents/GitHub/data/selenium/터키 3년 채권 수익율 내역.csv',\n '/Users/hwanghyeonjun/Documents/GitHub/data/selenium/스위스 7년 채권 수익율 내역.csv',\n '/Users/hwanghyeonjun/Documents/GitHub/data/selenium/중국 15년 채권 수익율 내역.csv',\n '/Users/hwanghyeonjun/Documents/GitHub/data/selenium/일본 6개월 채권 수익율 내역.csv',\n '/Users/hwanghyeonjun/Documents/GitHub/data/selenium/러시아 2개월 채권 수익율 내역.csv',\n '/Users/hwanghyeonjun/Documents/GitHub/data/selenium/한국 10년 채권 수익율 내역.csv',\n '/Users/hwanghyeonjun/Documents/GitHub/data/selenium/SET Index 내역.csv',\n '/Users/hwanghyeonjun/Documents/GitHub/data/selenium/ATX 내역.csv',\n '/Users/hwanghyeonjun/Documents/GitHub/data/selenium/프랑스 3년 채권 수익율 내역.csv',\n '/Users/hwanghyeonjun/Documents/GitHub/data/selenium/프랑스 CAC 내역.csv',\n '/Users/hwanghyeonjun/Documents/GitHub/data/selenium/미국 3년 채권 수익율 내역.csv',\n '/Users/hwanghyeonjun/Documents/GitHub/data/selenium/프랑스 6개월 채권 수익율 내역.csv',\n '/Users/hwanghyeonjun/Documents/GitHub/data/selenium/한국 20년 채권 수익율 내역.csv',\n '/Users/hwanghyeonjun/Documents/GitHub/data/selenium/PSI 내역.csv',\n '/Users/hwanghyeonjun/Documents/GitHub/data/selenium/영국 5년 채권 수익율 내역.csv',\n '/Users/hwanghyeonjun/Documents/GitHub/data/selenium/스위스 1개월 채권 수익율 내역.csv',\n '/Users/hwanghyeonjun/Documents/GitHub/data/selenium/ETH_KRW Bithumb 내역.csv',\n '/Users/hwanghyeonjun/Documents/GitHub/data/selenium/중국 7년 채권 수익율 내역.csv',\n '/Users/hwanghyeonjun/Documents/GitHub/data/selenium/일본 5년 채권 수익율 내역.csv',\n '/Users/hwanghyeonjun/Documents/GitHub/data/selenium/독일 3년 채권 수익율 내역.csv',\n '/Users/hwanghyeonjun/Documents/GitHub/data/selenium/러시아 MOEX Russia 내역.csv',\n '/Users/hwanghyeonjun/Documents/GitHub/data/selenium/스위스 8년 채권 수익율 내역.csv',\n '/Users/hwanghyeonjun/Documents/GitHub/data/selenium/한국 1년 채권 수익율 내역.csv',\n '/Users/hwanghyeonjun/Documents/GitHub/data/selenium/프랑스 9년 채권 수익율 내역.csv',\n '/Users/hwanghyeonjun/Documents/GitHub/data/selenium/CBOE Volatility Index 내역.csv',\n '/Users/hwanghyeonjun/Documents/GitHub/data/selenium/일본 1개월 채권 수익율 내역.csv',\n '/Users/hwanghyeonjun/Documents/GitHub/data/selenium/인도네시아 IDX 내역.csv',\n '/Users/hwanghyeonjun/Documents/GitHub/data/selenium/중국 20년 채권 수익율 내역.csv',\n '/Users/hwanghyeonjun/Documents/GitHub/data/selenium/한국 4년 채권 수익율 내역.csv',\n '/Users/hwanghyeonjun/Documents/GitHub/data/selenium/터키 3개월 채권 수익율 내역.csv',\n '/Users/hwanghyeonjun/Documents/GitHub/data/selenium/프랑스 1개월 채권 수익율 내역.csv',\n '/Users/hwanghyeonjun/Documents/GitHub/data/selenium/독일 6년 채권 수익율 내역.csv',\n '/Users/hwanghyeonjun/Documents/GitHub/data/selenium/이탈리아 FTSE MIB 내역.csv',\n '/Users/hwanghyeonjun/Documents/GitHub/data/selenium/중국 2년 채권 수익율 내역.csv']"
     },
     "execution_count": 30,
     "metadata": {},
     "output_type": "execute_result"
    }
   ],
   "source": [
    "file_list"
   ],
   "metadata": {
    "collapsed": false
   }
  },
  {
   "cell_type": "code",
   "execution_count": 31,
   "outputs": [
    {
     "name": "stderr",
     "output_type": "stream",
     "text": [
      "100%|██████████| 220/220 [00:00<00:00, 455452.56it/s]\n"
     ]
    }
   ],
   "source": [
    "file_names = []\n",
    "for path in tqdm(file_list):\n",
    "\tfile_name = path.split('/')[-1]\n",
    "\tfile_names.append(file_name)"
   ],
   "metadata": {
    "collapsed": false
   }
  },
  {
   "cell_type": "code",
   "execution_count": 32,
   "outputs": [
    {
     "data": {
      "text/plain": "(220, 220)"
     },
     "execution_count": 32,
     "metadata": {},
     "output_type": "execute_result"
    }
   ],
   "source": [
    "len(file_list), len(file_names)"
   ],
   "metadata": {
    "collapsed": false
   }
  },
  {
   "cell_type": "code",
   "execution_count": 308,
   "outputs": [],
   "source": [
    "# # 데이터 형식 바꾸기\n",
    "# def data_format_change(file_list: list, file_names: list):\n",
    "# \tfor idx, file in enumerate(tqdm(file_list)):\n",
    "# \t\tdate_regx = '\\D?\\s?'\n",
    "# \t\tpersent_regx = '\\d+[%]$'\n",
    "#\n",
    "# \t\tprices = ['종가', '오픈', '고가', '저가']\n",
    "#\n",
    "# \t\tvolumes = []\n",
    "#\n",
    "# \t\tload_df = pd.read_csv(file)\n",
    "# \t\tdf = load_df.astype(str)\n",
    "#\n",
    "# \t\tdf.rename(columns={'변동 %': '변동'}, inplace=True)\n",
    "#\n",
    "# \t\tdf['날짜'] = df['날짜'].apply(lambda x: re.sub(date_regx, '', x))\n",
    "#\n",
    "# \t\tfor price in prices:\n",
    "# \t\t\tdf[price] = df[price].apply(lambda x: x.replace(',', '')).astype('float')\n",
    "#\n",
    "# \t\tdf['거래량'] = df['거래량'].apply(lambda x: x.replace(',', ''))\n",
    "#\n",
    "# \t\tfor volume in df['거래량'].values:\n",
    "# \t\t\tcash_unit = list(volume)[-1]\n",
    "#\n",
    "# \t\t\tif str(volume) == 'nan':\n",
    "# \t\t\t\tn = str(volume).replace('nan', '0')\n",
    "# \t\t\t\tvolumes.append(n)\n",
    "# \t\t\telif cash_unit == 'K':\n",
    "# \t\t\t\tk = volume.replace(cash_unit, '')\n",
    "# \t\t\t\tk_result = float(k) * 1000\n",
    "# \t\t\t\tvolumes.append(k_result)\n",
    "# \t\t\telif cash_unit == 'M':\n",
    "# \t\t\t\tm = volume.replace(cash_unit, '')\n",
    "# \t\t\t\tm_result = round(float(m) * 1000000)\n",
    "# \t\t\t\tvolumes.append(m_result)\n",
    "# \t\t\telif cash_unit == 'B':\n",
    "# \t\t\t\tb = volume.replace(cash_unit, '')\n",
    "# \t\t\t\tb_result = round(float(b) * 1000000000)\n",
    "# \t\t\t\tvolumes.append(b_result)\n",
    "#\n",
    "# \t\tdf['거래량'] = volumes\n",
    "#\n",
    "# \t\tif not bool(re.match(persent_regx, list(df['변동'])[0])):\n",
    "# \t\t\tdf['변동'] = df['변동'].apply(lambda x: x.replace('%', '')).astype('float')\n",
    "#\n",
    "# \t\tdf.sort_values(['날짜'], inplace=True)"
   ],
   "metadata": {
    "collapsed": false
   }
  },
  {
   "cell_type": "code",
   "execution_count": 309,
   "outputs": [
    {
     "name": "stderr",
     "output_type": "stream",
     "text": [
      "100%|██████████| 43/43 [00:00<00:00, 124.78it/s]\n"
     ]
    }
   ],
   "source": [
    "data_format_change(file_list)"
   ],
   "metadata": {
    "collapsed": false
   }
  },
  {
   "cell_type": "code",
   "execution_count": 33,
   "outputs": [
    {
     "name": "stdout",
     "output_type": "stream",
     "text": [
      "결과를 찾을 수 없습니다\n",
      "러시아 6개월 채권 수익율 내역.csv\n",
      "====================================================================================================\n",
      "결과를 찾을 수 없습니다\n",
      "러시아 1주 채권 수익율 내역.csv\n",
      "====================================================================================================\n",
      "결과를 찾을 수 없습니다\n",
      "러시아 1개월 채권 수익율 내역.csv\n",
      "====================================================================================================\n",
      "결과를 찾을 수 없습니다\n",
      "터키 1년 채권 수익율 내역.csv\n",
      "====================================================================================================\n",
      "결과를 찾을 수 없습니다\n",
      "러시아 3개월 채권 수익율 내역.csv\n",
      "====================================================================================================\n",
      "결과를 찾을 수 없습니다\n",
      "러시아 오버나잇 채권 수익율 내역.csv\n",
      "====================================================================================================\n",
      "결과를 찾을 수 없습니다\n",
      "러시아 2주 채권 수익율 내역.csv\n",
      "====================================================================================================\n",
      "결과를 찾을 수 없습니다\n",
      "러시아 2개월 채권 수익율 내역.csv\n",
      "====================================================================================================\n"
     ]
    }
   ],
   "source": [
    "\n",
    "df_list = []\n",
    "b = []\n",
    "\n",
    "for idx, file in enumerate(file_list):\n",
    "\tdate_regx = '\\D?\\s?'\n",
    "\tpersent_regx = '\\d+[%]$'\n",
    "\n",
    "\tprices = ['종가', '오픈', '고가', '저가']\n",
    "\n",
    "\tvolumes = []\n",
    "\n",
    "\tload_df = pd.read_csv(file)\n",
    "\tdf = load_df.astype(str)\n",
    "\n",
    "\tif str(list(load_df['날짜'].values)[0]) == '결과를 찾을 수 없습니다':\n",
    "\t\tprint('결과를 찾을 수 없습니다')\n",
    "\t\tprint(file_names[idx])\n",
    "\t\tprint('='*100)\n",
    "\t\tfile_list.pop(idx)\n",
    "\t\tfile_names.pop(idx)\n",
    "\telse:\n",
    "\t\tpass\n",
    "\n",
    "\tdf.rename(columns={'변동 %': '변동'}, inplace=True)\n",
    "\n",
    "\tdf['날짜'] = df['날짜'].apply(lambda x: re.sub(date_regx, '', x))\n",
    "\n",
    "\tfor price in prices:\n",
    "\t\tdf[price] = df[price].apply(lambda x: x.replace(',', '')).astype('float')\n",
    "\n",
    "\tif '거래량' in list(df.columns):\n",
    "\t\tdf['거래량'] = df['거래량'].apply(lambda x: x.replace(',', ''))\n",
    "\n",
    "\t\tfor volume in df['거래량'].values:\n",
    "\t\t\tcash_unit = list(volume)[-1]\n",
    "\n",
    "\t\t\tif str(volume) == 'nan':\n",
    "\t\t\t\tn = str(volume).replace('nan', '0')\n",
    "\t\t\t\tvolumes.append(n)\n",
    "\t\t\telif cash_unit == 'K':\n",
    "\t\t\t\tk = volume.replace(cash_unit, '')\n",
    "\t\t\t\tk_result = round(float(k) * 1000)\n",
    "\t\t\t\tvolumes.append(k_result)\n",
    "\t\t\telif cash_unit == 'M':\n",
    "\t\t\t\tm = volume.replace(cash_unit, '')\n",
    "\t\t\t\tm_result = round(float(m) * 1000000)\n",
    "\t\t\t\tvolumes.append(m_result)\n",
    "\t\t\telif cash_unit == 'B':\n",
    "\t\t\t\tb = volume.replace(cash_unit, '')\n",
    "\t\t\t\tb_result = round(float(b) * 1000000000)\n",
    "\t\t\t\tvolumes.append(b_result)\n",
    "\n",
    "\t\tdf['거래량'] = volumes\n",
    "\telse:\n",
    "\t\tdf.insert(5, '거래량', '0', allow_duplicates=False)\n",
    "\n",
    "\tdf['변동'] = df['변동'].apply(lambda x: x.replace(',', ''))\n",
    "\n",
    "\tif not bool(re.match(persent_regx, list(df['변동'])[0])):\n",
    "\t\tdf['변동'] = df['변동'].apply(lambda x: x.replace('%', '')).astype('float')\n",
    "\n",
    "\tdf.sort_values(['날짜'], inplace=True)\n",
    "\n",
    "\tcol_name = df.columns[1:]\n",
    "\n",
    "\tfor col in col_name:\n",
    "\t\tdf.rename(columns={col: file_names[idx] + '_' + col}, inplace=True)\n",
    "\n",
    "\tdf_list.append(df)\n"
   ],
   "metadata": {
    "collapsed": false
   }
  },
  {
   "cell_type": "code",
   "execution_count": 34,
   "outputs": [
    {
     "data": {
      "text/plain": "(212, 212)"
     },
     "execution_count": 34,
     "metadata": {},
     "output_type": "execute_result"
    }
   ],
   "source": [
    "len(file_list), len(file_names)"
   ],
   "metadata": {
    "collapsed": false
   }
  },
  {
   "cell_type": "code",
   "execution_count": 35,
   "outputs": [
    {
     "data": {
      "text/plain": "['터키 BIST 내역.csv',\n '영국 3년 채권 수익율 내역.csv',\n '스위스 2개월 채권 수익율 내역.csv',\n '프랑스 50년 채권 수익율 내역.csv',\n '구리 선물 내역.csv',\n 'Dow Jones Shanghai 내역.csv',\n '스위스 SMI 내역.csv',\n '한국 30년 채권 수익율 내역.csv',\n '중국 1년 채권 수익율 내역.csv',\n '독일 5년 채권 수익율 내역.csv',\n '일본 3년 채권 수익율 내역.csv',\n 'BTC_KRW Bithumb 내역.csv',\n '미국 3개월 채권 수익율 내역.csv',\n '영국 6년 채권 수익율 내역.csv',\n '닛케이 내역.csv',\n '일본 6년 채권 수익율 내역.csv',\n 'IDR_KRW 내역.csv',\n 'CNY_KRW 내역.csv',\n '호주 S&P_ASX 내역.csv',\n '중국 30년 채권 수익율 내역.csv',\n '한국 2년 채권 수익율 내역.csv',\n '영국 3개월 채권 수익율 내역.csv',\n '일본 9년 채권 수익율 내역.csv',\n 'MXN_KRW 내역.csv',\n '스위스 4년 채권 수익율 내역.csv',\n 'DAX 내역.csv',\n '사우디아라비아 Tadawul 내역.csv',\n 'RTSI 지수 내역.csv',\n '다우존스 내역.csv',\n '영국 12년 채권 수익율 내역.csv',\n '영국 9년 채권 수익율 내역.csv',\n 'PHP_KRW 내역.csv',\n 'AED_KRW 내역.csv',\n '영국 FTSE 내역.csv',\n 'Nifty 50 내역.csv',\n '스위스 1년 채권 수익율 내역.csv',\n '터키 5년 채권 수익율 내역.csv',\n 'S&P 500 내역.csv',\n '러시아 5년 채권 수익율 내역.csv',\n '프랑스 5년 채권 수익율 내역.csv',\n '미국 5년 채권 수익율 내역.csv',\n 'EUR_KRW 내역.csv',\n '일본 40년 채권 수익율 내역.csv',\n '영국 50년 채권 수익율 내역.csv',\n '프랑스 3개월 채권 수익율 내역.csv',\n '독일 15년 채권 수익율 내역.csv',\n '스페인 IBEX 내역.csv',\n '영국 7년 채권 수익율 내역.csv',\n '독일 1년 채권 수익율 내역.csv',\n '일본 7년 채권 수익율 내역.csv',\n 'HKD_KRW 내역.csv',\n '중국 5년 채권 수익율 내역.csv',\n '일본 3개월 채권 수익율 내역.csv',\n '한국 3년 채권 수익율 내역.csv',\n '스위스 30년 채권 수익율 내역.csv',\n '대만 가권 내역.csv',\n 'MYR_KRW 내역.csv',\n '영국 2년 채권 수익율 내역.csv',\n '영국 30년 채권 수익율 내역.csv',\n '독일 10년 채권 수익율 내역.csv',\n 'CHF_KRW 내역.csv',\n '상하이종합 내역.csv',\n '미국 10년물 국채 금리 채권 수익율 내역.csv',\n '일본 20년 채권 수익율 내역.csv',\n '미국 30년 채권 수익율 내역.csv',\n '네덜란드 AEX 내역.csv',\n '스위스 3개월 채권 수익율 내역.csv',\n '일본 2년 채권 수익율 내역.csv',\n '독일 4년 채권 수익율 내역.csv',\n '일본 10년 채권 수익율 내역.csv',\n 'INR_KRW 내역.csv',\n '독일 6개월 채권 수익율 내역.csv',\n '한국 50년 채권 수익율 내역.csv',\n 'VN 30 내역.csv',\n 'DKK_KRW 내역.csv',\n 'S&P_BMV IPC 내역.csv',\n 'WTI유 선물 내역.csv',\n '독일 20년 채권 수익율 내역.csv',\n '터키 6개월 채권 수익율 내역.csv',\n '스위스 1주 채권 수익율 내역.csv',\n '프랑스 4년 채권 수익율 내역.csv',\n 'SAR_KRW 내역.csv',\n 'SGD_KRW 내역.csv',\n '벨기에 BEL 내역.csv',\n 'XRP_KRW Bithumb 내역.csv',\n '프랑스 30년 채권 수익율 내역.csv',\n '독일 25년 채권 수익율 내역.csv',\n '러시아 1년 채권 수익율 내역.csv',\n '일본 8년 채권 수익율 내역.csv',\n 'FTSE China A50 내역.csv',\n '터키 9개월 채권 수익율 내역.csv',\n '독일 9개월 채권 수익율 내역.csv',\n '코스닥 내역.csv',\n '은 선물 내역.csv',\n '일본 15년 채권 수익율 내역.csv',\n '스위스 5년 채권 수익율 내역.csv',\n 'BSE 인도 센섹스 30 내역.csv',\n '미국 1년 채권 수익율 내역.csv',\n '영국 8년 채권 수익율 내역.csv',\n '프랑스 1년 채권 수익율 내역.csv',\n '스위스 15년 채권 수익율 내역.csv',\n '러시아 2년 채권 수익율 내역.csv',\n '영국 6개월 채권 수익율 내역.csv',\n '프랑스 20년 채권 수익율 내역.csv',\n 'SEK_KRW 내역.csv',\n 'AUD_KRW 내역.csv',\n 'NZD_KRW 내역.csv',\n '터키 2년 채권 수익율 내역.csv',\n '스위스 6년 채권 수익율 내역.csv',\n '코스피 50 내역.csv',\n '헝가리 BUX 내역.csv',\n '러셀 2000 지수 내역.csv',\n '미국 6개월 채권 수익율 내역.csv',\n '독일 30년 채권 수익율 내역.csv',\n '영국 10년 채권 수익율 내역.csv',\n '프랑스 2년 채권 수익율 내역.csv',\n '러시아 20년 채권 수익율 내역.csv',\n '미국 2년 채권 수익율 내역.csv',\n '스위스 3년 채권 수익율 내역.csv',\n 'GBP_KRW 내역.csv',\n '프랑스 25년 채권 수익율 내역.csv',\n '항셍 내역.csv',\n '스위스 오버나잇 채권 수익율 내역.csv',\n '러시아 7년 채권 수익율 내역.csv',\n '스위스 10년 채권 수익율 내역.csv',\n '독일 8년 채권 수익율 내역.csv',\n '미국 7년 채권 수익율 내역.csv',\n '프랑스 7년 채권 수익율 내역.csv',\n '폴란드 WIG 20 내역.csv',\n '영국 15년 채권 수익율 내역.csv',\n 'THB_KRW 내역.csv',\n '스위스 20년 채권 수익율 내역.csv',\n '프랑스 8년 채권 수익율 내역.csv',\n '스웨덴 OMXS 내역.csv',\n '프랑스 15년 채권 수익율 내역.csv',\n '영국 1년 채권 수익율 내역.csv',\n '코스피지수 내역.csv',\n '영국 1개월 채권 수익율 내역.csv',\n '한국 5년 채권 수익율 내역.csv',\n '영국 25년 채권 수익율 내역.csv',\n '브라질 보베스파 내역.csv',\n '미국 1개월 채권 수익율 내역.csv',\n '일본 1년 채권 수익율 내역.csv',\n '러시아 15년 채권 수익율 내역.csv',\n '독일 7년 채권 수익율 내역.csv',\n '중국 3년 채권 수익율 내역.csv',\n 'SZSE Component 내역.csv',\n '_캐나다 S&P_TSX 내역.csv',\n '영국 4년 채권 수익율 내역.csv',\n '프랑스 10년 채권 수익율 내역.csv',\n '나스닥종합지수 내역.csv',\n '미국 20년 채권 수익율 내역.csv',\n '독일 2년 채권 수익율 내역.csv',\n '러시아 10년 채권 수익율 내역.csv',\n '일본 30년 채권 수익율 내역.csv',\n '일본 4년 채권 수익율 내역.csv',\n 'CAD_KRW 내역.csv',\n 'Germany 3 Month 채권 수익율 내역.csv',\n '영국 20년 채권 수익율 내역.csv',\n 'PKR_KRW 내역.csv',\n '천연가스 선물 내역.csv',\n '스위스 9년 채권 수익율 내역.csv',\n '중국 10년 채권 수익율 내역.csv',\n 'USD_KRW 내역.csv',\n '스위스 6개월 채권 수익율 내역.csv',\n '일본 9개월 채권 수익율 내역.csv',\n '터키 10년 채권 수익율 내역.csv',\n '스위스 2년 채권 수익율 내역.csv',\n '금 선물 내역.csv',\n 'TA 35 내역.csv',\n '독일 9년 채권 수익율 내역.csv',\n '프랑스 9개월 채권 수익율 내역.csv',\n '프랑스 6년 채권 수익율 내역.csv',\n 'NOK_KRW 내역.csv',\n '러시아 3년 채권 수익율 내역.csv',\n 'JPY_KRW 내역.csv',\n '영국 40년 채권 수익율 내역.csv',\n '미국 소맥 선물 내역.csv',\n '유로 스톡스 50 내역.csv',\n '터키 3년 채권 수익율 내역.csv',\n '스위스 7년 채권 수익율 내역.csv',\n '중국 15년 채권 수익율 내역.csv',\n '일본 6개월 채권 수익율 내역.csv',\n '한국 10년 채권 수익율 내역.csv',\n 'SET Index 내역.csv',\n 'ATX 내역.csv',\n '프랑스 3년 채권 수익율 내역.csv',\n '프랑스 CAC 내역.csv',\n '미국 3년 채권 수익율 내역.csv',\n '프랑스 6개월 채권 수익율 내역.csv',\n '한국 20년 채권 수익율 내역.csv',\n 'PSI 내역.csv',\n '영국 5년 채권 수익율 내역.csv',\n '스위스 1개월 채권 수익율 내역.csv',\n 'ETH_KRW Bithumb 내역.csv',\n '중국 7년 채권 수익율 내역.csv',\n '일본 5년 채권 수익율 내역.csv',\n '독일 3년 채권 수익율 내역.csv',\n '러시아 MOEX Russia 내역.csv',\n '스위스 8년 채권 수익율 내역.csv',\n '한국 1년 채권 수익율 내역.csv',\n '프랑스 9년 채권 수익율 내역.csv',\n 'CBOE Volatility Index 내역.csv',\n '일본 1개월 채권 수익율 내역.csv',\n '인도네시아 IDX 내역.csv',\n '중국 20년 채권 수익율 내역.csv',\n '한국 4년 채권 수익율 내역.csv',\n '터키 3개월 채권 수익율 내역.csv',\n '프랑스 1개월 채권 수익율 내역.csv',\n '독일 6년 채권 수익율 내역.csv',\n '이탈리아 FTSE MIB 내역.csv',\n '중국 2년 채권 수익율 내역.csv']"
     },
     "execution_count": 35,
     "metadata": {},
     "output_type": "execute_result"
    }
   ],
   "source": [
    "file_names"
   ],
   "metadata": {
    "collapsed": false
   }
  },
  {
   "cell_type": "code",
   "execution_count": 10,
   "outputs": [],
   "source": [
    "# # 날짜 순서로 오름차순정렬\n",
    "#\n",
    "# def dataframe_srot(file_list):\n",
    "# \tfile_names = []\n",
    "#\n",
    "# \tfor path in tqdm(file_list):\n",
    "# \t\tfile_name = path.split('/')[-1]\n",
    "# \t\tfile_names.append(file_name)\n",
    "#\n",
    "# \tfor idx, file in tqdm(enumerate(file_list)):\n",
    "# \t\tdf = pd.read_csv(file)\n",
    "# \t\tdf.sort_values(['날짜'], inplace=True)\n",
    "# \t\tdf['날짜'] = df['날짜'].apply(lambda x: x.replace(' ', ''))\n",
    "# \t\tdf.to_csv('/Users/hwanghyeonjun/Documents/GitHub/data/selenium/' + file_names[idx], index=False)"
   ],
   "metadata": {
    "collapsed": false
   }
  },
  {
   "cell_type": "code",
   "execution_count": 47,
   "outputs": [
    {
     "name": "stderr",
     "output_type": "stream",
     "text": [
      "100%|██████████| 23/23 [00:00<00:00, 450789.68it/s]\n",
      "23it [00:00, 270.72it/s]\n"
     ]
    }
   ],
   "source": [
    "# dataframe_srot(rate_file_list)"
   ],
   "metadata": {
    "collapsed": false
   }
  },
  {
   "cell_type": "code",
   "execution_count": 3,
   "outputs": [],
   "source": [
    "data = pd.read_csv('/Users/hwanghyeonjun/Documents/GitHub/data/selenium/러시아 6개월 채권 수익율 내역.csv')"
   ],
   "metadata": {
    "collapsed": false
   }
  },
  {
   "cell_type": "code",
   "execution_count": 4,
   "outputs": [
    {
     "data": {
      "text/plain": "              날짜  종가  오픈  고가  저가  변동 %\n0  결과를 찾을 수 없습니다 NaN NaN NaN NaN   NaN",
      "text/html": "<div>\n<style scoped>\n    .dataframe tbody tr th:only-of-type {\n        vertical-align: middle;\n    }\n\n    .dataframe tbody tr th {\n        vertical-align: top;\n    }\n\n    .dataframe thead th {\n        text-align: right;\n    }\n</style>\n<table border=\"1\" class=\"dataframe\">\n  <thead>\n    <tr style=\"text-align: right;\">\n      <th></th>\n      <th>날짜</th>\n      <th>종가</th>\n      <th>오픈</th>\n      <th>고가</th>\n      <th>저가</th>\n      <th>변동 %</th>\n    </tr>\n  </thead>\n  <tbody>\n    <tr>\n      <th>0</th>\n      <td>결과를 찾을 수 없습니다</td>\n      <td>NaN</td>\n      <td>NaN</td>\n      <td>NaN</td>\n      <td>NaN</td>\n      <td>NaN</td>\n    </tr>\n  </tbody>\n</table>\n</div>"
     },
     "execution_count": 4,
     "metadata": {},
     "output_type": "execute_result"
    }
   ],
   "source": [
    "data"
   ],
   "metadata": {
    "collapsed": false
   }
  },
  {
   "cell_type": "code",
   "execution_count": 13,
   "outputs": [],
   "source": [
    "data.insert(5, '거래량', '0', allow_duplicates=False)"
   ],
   "metadata": {
    "collapsed": false
   }
  },
  {
   "cell_type": "code",
   "execution_count": 25,
   "outputs": [],
   "source": [
    "data.drop('거래량', axis=1, inplace=True)"
   ],
   "metadata": {
    "collapsed": false
   }
  },
  {
   "cell_type": "code",
   "execution_count": 26,
   "outputs": [
    {
     "name": "stdout",
     "output_type": "stream",
     "text": [
      "없음\n"
     ]
    }
   ],
   "source": [
    "if '거래량' in list(data.columns):\n",
    "\tprint('있음')\n",
    "else:\n",
    "\tprint('없음')"
   ],
   "metadata": {
    "collapsed": false
   }
  },
  {
   "cell_type": "code",
   "execution_count": 7,
   "outputs": [],
   "source": [
    "last_df = data.iloc[-1:, :]"
   ],
   "metadata": {
    "collapsed": false
   }
  },
  {
   "cell_type": "code",
   "execution_count": 8,
   "outputs": [
    {
     "data": {
      "text/plain": "             날짜     종가    오픈     고가     저가   변동 %\n745  2022-11-11  2.286  2.24  2.328  2.228  2.24%",
      "text/html": "<div>\n<style scoped>\n    .dataframe tbody tr th:only-of-type {\n        vertical-align: middle;\n    }\n\n    .dataframe tbody tr th {\n        vertical-align: top;\n    }\n\n    .dataframe thead th {\n        text-align: right;\n    }\n</style>\n<table border=\"1\" class=\"dataframe\">\n  <thead>\n    <tr style=\"text-align: right;\">\n      <th></th>\n      <th>날짜</th>\n      <th>종가</th>\n      <th>오픈</th>\n      <th>고가</th>\n      <th>저가</th>\n      <th>변동 %</th>\n    </tr>\n  </thead>\n  <tbody>\n    <tr>\n      <th>745</th>\n      <td>2022-11-11</td>\n      <td>2.286</td>\n      <td>2.24</td>\n      <td>2.328</td>\n      <td>2.228</td>\n      <td>2.24%</td>\n    </tr>\n  </tbody>\n</table>\n</div>"
     },
     "execution_count": 8,
     "metadata": {},
     "output_type": "execute_result"
    }
   ],
   "source": [
    "last_df"
   ],
   "metadata": {
    "collapsed": false
   }
  },
  {
   "cell_type": "code",
   "execution_count": 111,
   "outputs": [
    {
     "data": {
      "text/plain": "'결과를 찾을 수 없습니다'"
     },
     "execution_count": 111,
     "metadata": {},
     "output_type": "execute_result"
    }
   ],
   "source": [
    "str(list(data['날짜'].values)[0])"
   ],
   "metadata": {
    "collapsed": false
   }
  },
  {
   "cell_type": "code",
   "execution_count": 120,
   "outputs": [],
   "source": [
    "test_data = pd.read_csv('/Users/hwanghyeonjun/Documents/GitHub/data/selenium/러시아 오버나잇 채권 수익율 내역.csv')"
   ],
   "metadata": {
    "collapsed": false
   }
  },
  {
   "cell_type": "code",
   "execution_count": 121,
   "outputs": [
    {
     "data": {
      "text/plain": "              날짜  종가  오픈  고가  저가  변동 %\n0  결과를 찾을 수 없습니다 NaN NaN NaN NaN   NaN",
      "text/html": "<div>\n<style scoped>\n    .dataframe tbody tr th:only-of-type {\n        vertical-align: middle;\n    }\n\n    .dataframe tbody tr th {\n        vertical-align: top;\n    }\n\n    .dataframe thead th {\n        text-align: right;\n    }\n</style>\n<table border=\"1\" class=\"dataframe\">\n  <thead>\n    <tr style=\"text-align: right;\">\n      <th></th>\n      <th>날짜</th>\n      <th>종가</th>\n      <th>오픈</th>\n      <th>고가</th>\n      <th>저가</th>\n      <th>변동 %</th>\n    </tr>\n  </thead>\n  <tbody>\n    <tr>\n      <th>0</th>\n      <td>결과를 찾을 수 없습니다</td>\n      <td>NaN</td>\n      <td>NaN</td>\n      <td>NaN</td>\n      <td>NaN</td>\n      <td>NaN</td>\n    </tr>\n  </tbody>\n</table>\n</div>"
     },
     "execution_count": 121,
     "metadata": {},
     "output_type": "execute_result"
    }
   ],
   "source": [
    "test_data"
   ],
   "metadata": {
    "collapsed": false
   }
  },
  {
   "cell_type": "code",
   "execution_count": 122,
   "outputs": [
    {
     "name": "stdout",
     "output_type": "stream",
     "text": [
      "결과 없음\n"
     ]
    }
   ],
   "source": [
    "if not str(list(test_data['날짜'].values)[0]) == '결과를 찾을 수 없습니다':\n",
    "\tprint('결과 있음')\n",
    "else:\n",
    "\tprint('결과 없음')"
   ],
   "metadata": {
    "collapsed": false
   }
  },
  {
   "cell_type": "code",
   "execution_count": null,
   "outputs": [],
   "source": [],
   "metadata": {
    "collapsed": false
   }
  }
 ],
 "metadata": {
  "kernelspec": {
   "display_name": "Python 3",
   "language": "python",
   "name": "python3"
  },
  "language_info": {
   "codemirror_mode": {
    "name": "ipython",
    "version": 2
   },
   "file_extension": ".py",
   "mimetype": "text/x-python",
   "name": "python",
   "nbconvert_exporter": "python",
   "pygments_lexer": "ipython2",
   "version": "2.7.6"
  }
 },
 "nbformat": 4,
 "nbformat_minor": 0
}
