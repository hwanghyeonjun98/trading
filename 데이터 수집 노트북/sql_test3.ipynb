{
 "cells": [
  {
   "cell_type": "code",
   "execution_count": 1,
   "outputs": [],
   "source": [
    "from module.selenium_crawling import *\n",
    "from module.df_format_change import *\n"
   ],
   "metadata": {
    "collapsed": false
   }
  },
  {
   "cell_type": "code",
   "execution_count": 2,
   "outputs": [],
   "source": [
    "driver = selenium_driver_load(\n",
    "\t'/Users/hwanghyeonjun/Documents/GitHub/trading/driver/chromedriver'\n",
    "\t, 'https://kr.investing.com/'\n",
    "\t, '/Users/hwanghyeonjun/Documents/GitHub/data/selenium'\n",
    ")\n",
    "login('widrn1010@naver.com', '', driver)\n",
    "currencies_names = ['USD']"
   ],
   "metadata": {
    "collapsed": false
   }
  },
  {
   "cell_type": "code",
   "execution_count": 13,
   "outputs": [],
   "source": [
    "investing_crawling('currencies', currencies_names, '2022-11-27', driver, '-krw')"
   ],
   "metadata": {
    "collapsed": false
   }
  },
  {
   "cell_type": "code",
   "execution_count": 14,
   "outputs": [],
   "source": [
    "file_list, file_names = file_name_list(\n",
    "\t'/Users/hwanghyeonjun/Documents/GitHub/data/selenium'\n",
    "\t, 'csv'\n",
    ")\n",
    "df_list = data_format_change(file_list, file_names)"
   ],
   "metadata": {
    "collapsed": false
   }
  },
  {
   "cell_type": "code",
   "execution_count": 15,
   "outputs": [
    {
     "data": {
      "text/plain": "[         날짜  USDKRW내역_종가  USDKRW내역_오픈  USDKRW내역_고가  USDKRW내역_저가 USDKRW내역_거래량  \\\n 1  20221127      1335.56      1335.56      1335.56      1335.56            0   \n 0  20221128      1338.22      1335.56      1339.04      1334.35            0   \n \n    USDKRW내역_변동  \n 1         0.02  \n 0         0.20  ]"
     },
     "execution_count": 15,
     "metadata": {},
     "output_type": "execute_result"
    }
   ],
   "source": [
    "df_list"
   ],
   "metadata": {
    "collapsed": false
   }
  },
  {
   "cell_type": "code",
   "execution_count": 16,
   "outputs": [],
   "source": [
    "new_data_sql_save('hong', '1234', '34.64.102.157', '3306', 'data_anal', df_list, file_names)"
   ],
   "metadata": {
    "collapsed": false
   }
  },
  {
   "cell_type": "code",
   "execution_count": 6,
   "outputs": [
    {
     "data": {
      "text/plain": "['USDKRW내역']"
     },
     "execution_count": 6,
     "metadata": {},
     "output_type": "execute_result"
    }
   ],
   "source": [
    "file_names"
   ],
   "metadata": {
    "collapsed": false
   }
  },
  {
   "cell_type": "code",
   "execution_count": 17,
   "outputs": [],
   "source": [
    "driver.close()"
   ],
   "metadata": {
    "collapsed": false
   }
  },
  {
   "cell_type": "code",
   "execution_count": null,
   "outputs": [],
   "source": [],
   "metadata": {
    "collapsed": false
   }
  },
  {
   "cell_type": "code",
   "execution_count": null,
   "outputs": [],
   "source": [],
   "metadata": {
    "collapsed": false
   }
  }
 ],
 "metadata": {
  "kernelspec": {
   "name": "ml",
   "language": "python",
   "display_name": "ml"
  },
  "language_info": {
   "codemirror_mode": {
    "name": "ipython",
    "version": 2
   },
   "file_extension": ".py",
   "mimetype": "text/x-python",
   "name": "python",
   "nbconvert_exporter": "python",
   "pygments_lexer": "ipython2",
   "version": "2.7.6"
  }
 },
 "nbformat": 4,
 "nbformat_minor": 0
}
