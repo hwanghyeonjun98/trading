{
 "cells": [
  {
   "cell_type": "code",
   "execution_count": 4,
   "metadata": {
    "collapsed": true
   },
   "outputs": [],
   "source": [
    "import numpy as np\n",
    "import pandas as pd\n",
    "\n",
    "# 시간 관련\n",
    "import time\n",
    "from tqdm import tqdm\n",
    "\n",
    "# 파일, 텍스트 관련\n",
    "import re\n",
    "import os\n",
    "import glob"
   ]
  },
  {
   "cell_type": "code",
   "execution_count": 5,
   "outputs": [],
   "source": [
    "def file_list_make(path: str, file_extension: str, delete_str: str):\n",
    "\tfile_names = []\n",
    "\ttemp_path = glob.glob(path + '/*.' + file_extension)\n",
    "\n",
    "\t# 파일 이름 공백 제거\n",
    "\tfor file_path in temp_path:\n",
    "\t\tif file_path.find(' '):\n",
    "\t\t\tpath = file_path.replace(' ', '_')\n",
    "\t\t\tos.rename(file_path, path)\n",
    "\t\telse:\n",
    "\t\t\tpass\n",
    "\n",
    "\tfile_list = temp_path\n",
    "\n",
    "\tfor file in file_list:\n",
    "\t\tfile_name = file.split('/')[-1].split('.')[0]\n",
    "\t\tif delete_str.find('_'):\n",
    "\t\t\tname = file_name.replace('_' + delete_str, '')\n",
    "\t\telse:\n",
    "\t\t\tname = name = file_name.replace(delete_str, '')\n",
    "\t\tfile_names.append(name)\n",
    "\n",
    "\tprint(file_list)\n",
    "\tprint(file_names)\n",
    "\n",
    "\treturn file_list, file_names\n"
   ],
   "metadata": {
    "collapsed": false
   }
  },
  {
   "cell_type": "code",
   "execution_count": 6,
   "outputs": [],
   "source": [
    "def dataframe_conact(file_list: list, file_names: list, concat_df_name):\n",
    "\ttemp_list = []\n",
    "\n",
    "\tfor idx, file in enumerate(file_list):\n",
    "\t\ttemp = pd.read_csv(file, index_col='날짜', encoding='utf-8')\n",
    "\n",
    "\t\t# 컬럼 이름 변경\n",
    "\t\tname = file_names[idx] + '_'\n",
    "\t\ttemp.rename(columns=lambda x: name + x, inplace=True)\n",
    "\n",
    "\t\t# 데이터 프레임 합치기\n",
    "\t\ttemp_list.append(temp)\n",
    "\t\tconcat_df_name = pd.concat(temp_list, axis=1, join='inner').reset_index()\n",
    "\n",
    "\tprint('concat complet!!!!')\n",
    "\n",
    "\treturn concat_df_name"
   ],
   "metadata": {
    "collapsed": false
   }
  },
  {
   "cell_type": "code",
   "execution_count": 7,
   "outputs": [
    {
     "name": "stdout",
     "output_type": "stream",
     "text": [
      "['/Users/hwanghyeonjun/Documents/GitHub/data/selenium/암호화폐/BTC_KRW_Bithumb_내역.csv', '/Users/hwanghyeonjun/Documents/GitHub/data/selenium/암호화폐/XRP_KRW_Bithumb_내역.csv', '/Users/hwanghyeonjun/Documents/GitHub/data/selenium/암호화폐/ETH_KRW_Bithumb_내역.csv']\n",
      "['BTC_KRW', 'XRP_KRW', 'ETH_KRW']\n"
     ]
    }
   ],
   "source": [
    "file_list, file_names = file_list_make(\n",
    "\t'/Users/hwanghyeonjun/Documents/GitHub/data/selenium/암호화폐', 'csv', '_Bithumb_내역'\n",
    ")"
   ],
   "metadata": {
    "collapsed": false
   }
  }
 ],
 "metadata": {
  "kernelspec": {
   "display_name": "Python 3",
   "language": "python",
   "name": "python3"
  },
  "language_info": {
   "codemirror_mode": {
    "name": "ipython",
    "version": 2
   },
   "file_extension": ".py",
   "mimetype": "text/x-python",
   "name": "python",
   "nbconvert_exporter": "python",
   "pygments_lexer": "ipython2",
   "version": "2.7.6"
  }
 },
 "nbformat": 4,
 "nbformat_minor": 0
}
