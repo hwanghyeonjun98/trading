{
 "cells": [
  {
   "cell_type": "code",
   "execution_count": 1,
   "metadata": {
    "collapsed": true
   },
   "outputs": [],
   "source": [
    "import numpy as np\n",
    "import pandas as pd\n",
    "\n",
    "# 시간 관련\n",
    "import time\n",
    "from tqdm import tqdm\n",
    "\n",
    "# 파일, 텍스트 관련\n",
    "import re\n",
    "import os\n",
    "import glob"
   ]
  },
  {
   "cell_type": "code",
   "execution_count": 2,
   "outputs": [],
   "source": [
    "def file_list_make(path: str, file_extension: str, delete_str: str):\n",
    "\tfile_names = []\n",
    "\ttemp_path = glob.glob(path + '/*.' + file_extension)\n",
    "\n",
    "\t# 파일 이름 공백 제거\n",
    "\tfor file_path in temp_path:\n",
    "\t\tif file_path.find(' '):\n",
    "\t\t\tpath = file_path.replace(' ', '_')\n",
    "\t\t\tos.rename(file_path, path)\n",
    "\t\telse:\n",
    "\t\t\tpass\n",
    "\n",
    "\tfile_list = temp_path\n",
    "\n",
    "\tfor file in file_list:\n",
    "\t\tfile_name = file.split('/')[-1].split('.')[0]\n",
    "\t\tif delete_str.find('_'):\n",
    "\t\t\tname = file_name.replace('_' + delete_str, '')\n",
    "\t\telse:\n",
    "\t\t\tname = name = file_name.replace(delete_str, '')\n",
    "\t\tfile_names.append(name)\n",
    "\n",
    "\tprint(file_list)\n",
    "\tprint(file_names)\n",
    "\n",
    "\treturn file_list, file_names\n"
   ],
   "metadata": {
    "collapsed": false
   }
  },
  {
   "cell_type": "code",
   "execution_count": 288,
   "outputs": [],
   "source": [
    "def dataframe_conact(file_list: list, file_names: list, concat_df_name):\n",
    "\ttemp_list = []\n",
    "\n",
    "\tfor idx, file in enumerate(file_list):\n",
    "\t\ttemp = pd.read_csv(file, index_col='날짜', encoding='utf-8')\n",
    "\n",
    "\t\t# 컬럼 이름 변경\n",
    "\t\tname = file_names[idx] + '_'\n",
    "\t\ttemp.rename(columns=lambda x: name + x, inplace=True)\n",
    "\n",
    "\t\t# 데이터 프레임 합치기\n",
    "\t\ttemp_list.append(temp)\n",
    "\t\tconcat_df_name = pd.concat(temp_list, axis=1, join='inner').reset_index()\n",
    "\n",
    "\tprint('concat complet!!!!')\n",
    "\n",
    "\treturn concat_df_name"
   ],
   "metadata": {
    "collapsed": false
   }
  },
  {
   "cell_type": "code",
   "execution_count": 289,
   "outputs": [
    {
     "name": "stdout",
     "output_type": "stream",
     "text": [
      "['/Users/hwanghyeonjun/Documents/GitHub/data/selenium/암호화폐/BTC_KRW_Bithumb_내역.csv', '/Users/hwanghyeonjun/Documents/GitHub/data/selenium/암호화폐/XRP_KRW_Bithumb_내역.csv', '/Users/hwanghyeonjun/Documents/GitHub/data/selenium/암호화폐/ETH_KRW_Bithumb_내역.csv']\n",
      "['BTC_KRW', 'XRP_KRW', 'ETH_KRW']\n"
     ]
    }
   ],
   "source": [
    "file_list, file_names = file_list_make(\n",
    "\t'/Users/hwanghyeonjun/Documents/GitHub/data/selenium/암호화폐', 'csv', '_Bithumb_내역'\n",
    ")"
   ],
   "metadata": {
    "collapsed": false
   }
  },
  {
   "cell_type": "code",
   "execution_count": 290,
   "outputs": [
    {
     "name": "stdout",
     "output_type": "stream",
     "text": [
      "concat complet!!!!\n"
     ]
    }
   ],
   "source": [
    "df = dataframe_conact(file_list, file_names, 'coin_dataframe')"
   ],
   "metadata": {
    "collapsed": false
   }
  },
  {
   "cell_type": "code",
   "execution_count": 291,
   "outputs": [
    {
     "data": {
      "text/plain": "           날짜 BTC_KRW_종가 BTC_KRW_오픈 BTC_KRW_고가 BTC_KRW_저가 BTC_KRW_거래량  \\\n0  2020-01-01  8,305,000  8,309,000  8,362,000  8,289,000       0.32K   \n1  2020-01-02  8,046,000  8,304,000  8,308,000  8,033,000       0.96K   \n2  2020-01-03  8,472,000  8,046,000  8,524,000  7,909,000       0.90K   \n3  2020-01-04  8,479,000  8,475,000  8,510,000  8,388,000       0.48K   \n4  2020-01-05  8,460,000  8,477,000  8,633,000  8,430,000       0.69K   \n\n  BTC_KRW_변동 % XRP_KRW_종가 XRP_KRW_오픈 XRP_KRW_고가 XRP_KRW_저가 XRP_KRW_거래량  \\\n0       -0.04%     222.60     222.50     224.70     221.80       3.49M   \n1       -3.12%     216.10     222.60     222.70     216.00       8.66M   \n2        5.29%     223.00     216.50     224.20     212.10       9.05M   \n3        0.08%     222.50     223.00     223.40     220.00       2.70M   \n4       -0.22%     223.50     222.60     226.40     222.30       9.33M   \n\n  XRP_KRW_변동 % ETH_KRW_종가 ETH_KRW_오픈 ETH_KRW_고가 ETH_KRW_저가 ETH_KRW_거래량  \\\n0        0.04%    150,700    148,900    153,200    148,600       4.92K   \n1       -2.92%    146,800    150,600    150,700    146,700       8.49K   \n2        3.19%    154,800    146,800    155,600    145,000      13.08K   \n3       -0.22%    154,600    154,700    156,300    152,600      10.44K   \n4        0.45%    155,700    154,500    158,700    154,000      14.25K   \n\n  ETH_KRW_변동 %  \n0        1.01%  \n1       -2.59%  \n2        5.45%  \n3       -0.13%  \n4        0.71%  ",
      "text/html": "<div>\n<style scoped>\n    .dataframe tbody tr th:only-of-type {\n        vertical-align: middle;\n    }\n\n    .dataframe tbody tr th {\n        vertical-align: top;\n    }\n\n    .dataframe thead th {\n        text-align: right;\n    }\n</style>\n<table border=\"1\" class=\"dataframe\">\n  <thead>\n    <tr style=\"text-align: right;\">\n      <th></th>\n      <th>날짜</th>\n      <th>BTC_KRW_종가</th>\n      <th>BTC_KRW_오픈</th>\n      <th>BTC_KRW_고가</th>\n      <th>BTC_KRW_저가</th>\n      <th>BTC_KRW_거래량</th>\n      <th>BTC_KRW_변동 %</th>\n      <th>XRP_KRW_종가</th>\n      <th>XRP_KRW_오픈</th>\n      <th>XRP_KRW_고가</th>\n      <th>XRP_KRW_저가</th>\n      <th>XRP_KRW_거래량</th>\n      <th>XRP_KRW_변동 %</th>\n      <th>ETH_KRW_종가</th>\n      <th>ETH_KRW_오픈</th>\n      <th>ETH_KRW_고가</th>\n      <th>ETH_KRW_저가</th>\n      <th>ETH_KRW_거래량</th>\n      <th>ETH_KRW_변동 %</th>\n    </tr>\n  </thead>\n  <tbody>\n    <tr>\n      <th>0</th>\n      <td>2020-01-01</td>\n      <td>8,305,000</td>\n      <td>8,309,000</td>\n      <td>8,362,000</td>\n      <td>8,289,000</td>\n      <td>0.32K</td>\n      <td>-0.04%</td>\n      <td>222.60</td>\n      <td>222.50</td>\n      <td>224.70</td>\n      <td>221.80</td>\n      <td>3.49M</td>\n      <td>0.04%</td>\n      <td>150,700</td>\n      <td>148,900</td>\n      <td>153,200</td>\n      <td>148,600</td>\n      <td>4.92K</td>\n      <td>1.01%</td>\n    </tr>\n    <tr>\n      <th>1</th>\n      <td>2020-01-02</td>\n      <td>8,046,000</td>\n      <td>8,304,000</td>\n      <td>8,308,000</td>\n      <td>8,033,000</td>\n      <td>0.96K</td>\n      <td>-3.12%</td>\n      <td>216.10</td>\n      <td>222.60</td>\n      <td>222.70</td>\n      <td>216.00</td>\n      <td>8.66M</td>\n      <td>-2.92%</td>\n      <td>146,800</td>\n      <td>150,600</td>\n      <td>150,700</td>\n      <td>146,700</td>\n      <td>8.49K</td>\n      <td>-2.59%</td>\n    </tr>\n    <tr>\n      <th>2</th>\n      <td>2020-01-03</td>\n      <td>8,472,000</td>\n      <td>8,046,000</td>\n      <td>8,524,000</td>\n      <td>7,909,000</td>\n      <td>0.90K</td>\n      <td>5.29%</td>\n      <td>223.00</td>\n      <td>216.50</td>\n      <td>224.20</td>\n      <td>212.10</td>\n      <td>9.05M</td>\n      <td>3.19%</td>\n      <td>154,800</td>\n      <td>146,800</td>\n      <td>155,600</td>\n      <td>145,000</td>\n      <td>13.08K</td>\n      <td>5.45%</td>\n    </tr>\n    <tr>\n      <th>3</th>\n      <td>2020-01-04</td>\n      <td>8,479,000</td>\n      <td>8,475,000</td>\n      <td>8,510,000</td>\n      <td>8,388,000</td>\n      <td>0.48K</td>\n      <td>0.08%</td>\n      <td>222.50</td>\n      <td>223.00</td>\n      <td>223.40</td>\n      <td>220.00</td>\n      <td>2.70M</td>\n      <td>-0.22%</td>\n      <td>154,600</td>\n      <td>154,700</td>\n      <td>156,300</td>\n      <td>152,600</td>\n      <td>10.44K</td>\n      <td>-0.13%</td>\n    </tr>\n    <tr>\n      <th>4</th>\n      <td>2020-01-05</td>\n      <td>8,460,000</td>\n      <td>8,477,000</td>\n      <td>8,633,000</td>\n      <td>8,430,000</td>\n      <td>0.69K</td>\n      <td>-0.22%</td>\n      <td>223.50</td>\n      <td>222.60</td>\n      <td>226.40</td>\n      <td>222.30</td>\n      <td>9.33M</td>\n      <td>0.45%</td>\n      <td>155,700</td>\n      <td>154,500</td>\n      <td>158,700</td>\n      <td>154,000</td>\n      <td>14.25K</td>\n      <td>0.71%</td>\n    </tr>\n  </tbody>\n</table>\n</div>"
     },
     "execution_count": 291,
     "metadata": {},
     "output_type": "execute_result"
    }
   ],
   "source": [
    "df.head()"
   ],
   "metadata": {
    "collapsed": false
   }
  },
  {
   "cell_type": "code",
   "execution_count": null,
   "outputs": [],
   "source": [],
   "metadata": {
    "collapsed": false
   }
  }
 ],
 "metadata": {
  "kernelspec": {
   "display_name": "Python 3",
   "language": "python",
   "name": "python3"
  },
  "language_info": {
   "codemirror_mode": {
    "name": "ipython",
    "version": 2
   },
   "file_extension": ".py",
   "mimetype": "text/x-python",
   "name": "python",
   "nbconvert_exporter": "python",
   "pygments_lexer": "ipython2",
   "version": "2.7.6"
  }
 },
 "nbformat": 4,
 "nbformat_minor": 0
}
