{
 "cells": [
  {
   "cell_type": "code",
   "execution_count": 1,
   "metadata": {
    "collapsed": true
   },
   "outputs": [],
   "source": [
    "from module.selenium_crawling import *\n",
    "from datetime import datetime"
   ]
  },
  {
   "cell_type": "code",
   "execution_count": 2,
   "outputs": [
    {
     "ename": "KeyboardInterrupt",
     "evalue": "",
     "output_type": "error",
     "traceback": [
      "\u001B[0;31m---------------------------------------------------------------------------\u001B[0m",
      "\u001B[0;31mKeyboardInterrupt\u001B[0m                         Traceback (most recent call last)",
      "Cell \u001B[0;32mIn [2], line 19\u001B[0m\n\u001B[1;32m     17\u001B[0m indices \u001B[38;5;241m=\u001B[39m world_indices()\n\u001B[1;32m     18\u001B[0m rate_bonds \u001B[38;5;241m=\u001B[39m world_rate_bonds_list(rate_bonds_id)\n\u001B[0;32m---> 19\u001B[0m \u001B[43minvesting_crawling\u001B[49m\u001B[43m(\u001B[49m\u001B[38;5;124;43m'\u001B[39;49m\u001B[38;5;124;43mcurrencies\u001B[39;49m\u001B[38;5;124;43m'\u001B[39;49m\u001B[43m,\u001B[49m\u001B[43m \u001B[49m\u001B[43mcurrencies_names\u001B[49m\u001B[43m,\u001B[49m\u001B[43m \u001B[49m\u001B[43mstart_date\u001B[49m\u001B[43m,\u001B[49m\u001B[43m \u001B[49m\u001B[43mdriver\u001B[49m\u001B[43m,\u001B[49m\u001B[43m \u001B[49m\u001B[38;5;124;43m'\u001B[39;49m\u001B[38;5;124;43m-krw\u001B[39;49m\u001B[38;5;124;43m'\u001B[39;49m\u001B[43m)\u001B[49m\n\u001B[1;32m     20\u001B[0m investing_crawling(\u001B[38;5;124m'\u001B[39m\u001B[38;5;124mindices\u001B[39m\u001B[38;5;124m'\u001B[39m, indices, start_date, driver)\n\u001B[1;32m     21\u001B[0m investing_crawling(\u001B[38;5;124m'\u001B[39m\u001B[38;5;124mcommodities\u001B[39m\u001B[38;5;124m'\u001B[39m, commodities, start_date, driver)\n",
      "File \u001B[0;32m~/Documents/GitHub/trading/module/selenium_crawling.py:107\u001B[0m, in \u001B[0;36minvesting_crawling\u001B[0;34m(middel_url, names, start_date, driver, suffix)\u001B[0m\n\u001B[1;32m    105\u001B[0m req \u001B[38;5;241m=\u001B[39m urllib\u001B[38;5;241m.\u001B[39mrequest\u001B[38;5;241m.\u001B[39mRequest(url, headers\u001B[38;5;241m=\u001B[39mheaders)\n\u001B[1;32m    106\u001B[0m urlopen(req)\n\u001B[0;32m--> 107\u001B[0m \u001B[43mtime\u001B[49m\u001B[38;5;241;43m.\u001B[39;49m\u001B[43msleep\u001B[49m\u001B[43m(\u001B[49m\u001B[38;5;241;43m5\u001B[39;49m\u001B[43m)\u001B[49m\n\u001B[1;32m    109\u001B[0m driver\u001B[38;5;241m.\u001B[39mfind_element(By\u001B[38;5;241m.\u001B[39mCSS_SELECTOR, calender_btn)\u001B[38;5;241m.\u001B[39mclick()\n\u001B[1;32m    110\u001B[0m driver\u001B[38;5;241m.\u001B[39mfind_element(By\u001B[38;5;241m.\u001B[39mCSS_SELECTOR, start_year_input)\u001B[38;5;241m.\u001B[39mclear()\n",
      "\u001B[0;31mKeyboardInterrupt\u001B[0m: "
     ]
    }
   ],
   "source": [
    "driver = selenium_driver_load(\n",
    "\t'./driver/chromedriver'\n",
    "\t, 'https://kr.investing.com/?ref=www'\n",
    "\t, '/Users/hwanghyeonjun/Documents/GitHub/data/selenium'\n",
    ")\n",
    "start_date = now_date()\n",
    "login('widrn1010@naver.com', '', driver)\n",
    "# 주요 환율 리스트\n",
    "currencies_names = ['USD', 'JPY', 'EUR', 'CNY', 'HKD', 'GBP', 'CHF', 'CAD', 'AUD', 'NZD', 'SEK', 'DKK', 'NOK', 'SAR',\n",
    "                    'KWD', 'BHD',\n",
    "                    'AED', 'THB', 'SGD', 'IDR', 'INR', 'MYR', 'PKR', 'BDT', 'PHP', 'EGP', 'MXN', 'BND']\n",
    "# 암호화폐\n",
    "coins = [['bitcoin', 'btc-krw'], ['ethereum', 'eth-krw'], ['xrp', 'xrp-krw']]\n",
    "commodities = ['gold', 'crude-oil', 'silver', 'natural-gas', 'copper', 'us-wheat']\n",
    "# 채권\n",
    "rate_bonds_id = ['60', '1', '20', '54', '4', '40', '5', '3', '49', '9']\n",
    "indices = world_indices()\n",
    "rate_bonds = world_rate_bonds_list(rate_bonds_id)\n",
    "investing_crawling('currencies', currencies_names, start_date, driver, '-krw')\n",
    "investing_crawling('indices', indices, start_date, driver)\n",
    "investing_crawling('commodities', commodities, start_date, driver)\n",
    "investing_coins(coins, start_date, driver)\n",
    "investing_crawling_new('rate_bonds', rate_bonds, start_date, driver)"
   ],
   "metadata": {
    "collapsed": false
   }
  },
  {
   "cell_type": "code",
   "execution_count": 13,
   "outputs": [],
   "source": [
    "driver.close()"
   ],
   "metadata": {
    "collapsed": false
   }
  },
  {
   "cell_type": "code",
   "execution_count": 13,
   "outputs": [],
   "source": [],
   "metadata": {
    "collapsed": false
   }
  }
 ],
 "metadata": {
  "kernelspec": {
   "display_name": "Python 3",
   "language": "python",
   "name": "python3"
  },
  "language_info": {
   "codemirror_mode": {
    "name": "ipython",
    "version": 2
   },
   "file_extension": ".py",
   "mimetype": "text/x-python",
   "name": "python",
   "nbconvert_exporter": "python",
   "pygments_lexer": "ipython2",
   "version": "2.7.6"
  }
 },
 "nbformat": 4,
 "nbformat_minor": 0
}
