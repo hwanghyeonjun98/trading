{
 "cells": [
  {
   "cell_type": "code",
   "execution_count": 1,
   "outputs": [],
   "source": [
    "import time\n",
    "from tqdm import tqdm"
   ],
   "metadata": {
    "collapsed": false
   }
  },
  {
   "cell_type": "code",
   "execution_count": 2,
   "metadata": {
    "collapsed": true
   },
   "outputs": [],
   "source": [
    "# 셀리움 import\n",
    "from selenium import webdriver\n",
    "from selenium.webdriver.common.by import By\n",
    "from selenium.webdriver.support.wait import WebDriverWait\n",
    "from selenium.webdriver.support import expected_conditions as EC"
   ]
  },
  {
   "cell_type": "code",
   "execution_count": 3,
   "outputs": [],
   "source": [
    "# bs4 / 404 해결\n",
    "import urllib.request\n",
    "from bs4 import BeautifulSoup\n",
    "from urllib.request import urlopen\n",
    "from urllib.error import URLError, HTTPError\n",
    "import urllib.request"
   ],
   "metadata": {
    "collapsed": false
   }
  },
  {
   "cell_type": "code",
   "execution_count": 4,
   "outputs": [],
   "source": [
    "options = webdriver.ChromeOptions()\n",
    "\n",
    "# 크롬 파일 저장 시 경로 설정\n",
    "options.add_experimental_option(\n",
    "\t\"prefs\", {\n",
    "\t\t\"download.default_directory\": r\"//Users/hwanghyeonjun/Documents/GitHub/data/selenium\",\n",
    "\t\t\"download.prompt_for_download\": False,\n",
    "\t\t\"download.directory_upgrade\": True,\n",
    "\t\t\"safebrowsing.enabled\": True\n",
    "\t}\n",
    ")\n",
    "\n",
    "# 크롬 시크릿 모드로 실행\n",
    "options.add_argument('incognito')\n",
    "\n",
    "# user agent 설정\n",
    "user_agent = \"Mozilla/5.0 (Linux; Android 9; SM-G975F) AppleWebKit/537.36 (KHTML, like Gecko) Chrome/71.0.3578.83 Mobile Safari/537.36\"\n",
    "options.add_argument('user-agent=' + user_agent)"
   ],
   "metadata": {
    "collapsed": false
   }
  },
  {
   "cell_type": "code",
   "execution_count": 6,
   "outputs": [
    {
     "name": "stderr",
     "output_type": "stream",
     "text": [
      "/var/folders/xz/4cx3hhnx0bsgz2sth0876md80000gn/T/ipykernel_84966/2197993641.py:2: DeprecationWarning: executable_path has been deprecated, please pass in a Service object\n",
      "  driver = webdriver.Chrome('./driver/chromedriver', options=options)\n"
     ]
    }
   ],
   "source": [
    "# MACOS 크롬 드라이버\n",
    "driver = webdriver.Chrome('./driver/chromedriver', options=options)"
   ],
   "metadata": {
    "collapsed": false
   }
  },
  {
   "cell_type": "code",
   "execution_count": 7,
   "outputs": [],
   "source": [
    "'''\n",
    "\tstart_date : 시작 날짜\n",
    "    calender_btn : 캘린더 버튼\n",
    "    start_year_input : 캘린더 인풋\n",
    "    apply_btn_className :  적용 버튼\n",
    "    csv_download_btn : 다운로드 버튼\n",
    "\n",
    "    =======================================================\n",
    "    임시로 주석 / 홈페이지 모바일로 되있다면 주석 풀고 실행(셀리움 코드 실행 셀에도 주식 풀기)\n",
    "    bottom_modal : 홍페이지버전이 모바일 시 하단 모달\n",
    "    bottom_mpdal_btn : 모달 닫기 버튼\n",
    "'''\n",
    "start_date = '2020-01-01'\n",
    "calender_btn = '.DatePickerWrapper_icon-wrap__cwTu_'\n",
    "start_year_input = '.NativeDateInput_root__wbgyP > input'\n",
    "apply_btn = 'HistoryDatePicker_apply-button__fPr_G'\n",
    "csv_download_btn = '.download-data_download-data__jxNYT > a'\n",
    "\n",
    "bottom_modal = '.download-app-view_download-app-view__4d6Eq'\n",
    "bottom_mpdal_btn = '.inv-button'"
   ],
   "metadata": {
    "collapsed": false
   }
  },
  {
   "cell_type": "code",
   "execution_count": 8,
   "outputs": [],
   "source": [
    "# 주요 환율 리스트\n",
    "names = ['USD', 'JPY', 'EUR', 'CNY', 'HKD', 'GBP', 'CHF', 'CAD', 'AUD', 'NZD', 'SEK', 'DKK', 'NOK', 'SAR', 'KWD', 'BHD',\n",
    "         'AED', 'THB', 'SGD', 'IDR', 'INR', 'MYR', 'PKR', 'BDT', 'PHP', 'EGP', 'MXN', 'BND']"
   ],
   "metadata": {
    "collapsed": false
   }
  },
  {
   "cell_type": "code",
   "execution_count": 9,
   "outputs": [],
   "source": [
    "# 원자재 리스트\n",
    "list = ['gold', 'crude-oil', 'silver', 'natural-gas', 'copper', 'us-wheat']"
   ],
   "metadata": {
    "collapsed": false
   }
  },
  {
   "cell_type": "code",
   "execution_count": 10,
   "outputs": [],
   "source": [
    "# 테스트 코드들\n",
    "# url = f'https://kr.investing.com/currencies/jpy-krw-historical-data'\n",
    "# driver.get(url)\n",
    "# driver.implicitly_wait(30)\n",
    "# driver.find_element(By.CSS_SELECTOR, calender_btn).click()\n",
    "# driver.find_element(By.CSS_SELECTOR, start_year_input).clear()\n",
    "# driver.implicitly_wait(1)\n",
    "# driver.find_element(By.CSS_SELECTOR, start_year_input).send_keys(start_date)\n",
    "# driver.implicitly_wait(5)\n",
    "# driver.find_element(By.CLASS_NAME, apply_btn).click()\n",
    "# time.sleep(10)\n",
    "# driver.find_element(By.CSS_SELECTOR, csv_download_btn).click()\n",
    "# driver.implicitly_wait(30)"
   ],
   "metadata": {
    "collapsed": false
   }
  },
  {
   "cell_type": "code",
   "execution_count": 11,
   "outputs": [],
   "source": [
    "# 과거 데이터 크롤링 함수\n",
    "'''\n",
    "\t인베스팅 크롤링 함수\n",
    "\n",
    "'''\n",
    "def investing_crawling(middel_url, names, start_date, suffix=''):\n",
    "\tsuffix_ = suffix\n",
    "\tprint('전체 개수 {0}개'.format(len(names)))\n",
    "\n",
    "\tsucceed = []\n",
    "\tfailed = []\n",
    "\n",
    "\t# 셀리움 실행 코드\n",
    "\tfor name in tqdm(names):\n",
    "\t\tname_ = name.lower()\n",
    "\t\ttry:\n",
    "\t\t\turl = f'https://kr.investing.com/{middel_url}/{name_}{suffix_}-historical-data'\n",
    "\n",
    "\t\t\tdriver.get(url)\n",
    "\t\t\theaders = {'User-Agent': 'Chrome/107.0.5304.87'}\n",
    "\t\t\treq = urllib.request.Request(url, headers=headers)\n",
    "\t\t\turlopen(req)\n",
    "\t\t\ttime.sleep(5)\n",
    "\n",
    "\t\t\t# 모바일 화면시 주석 풀고 실행\n",
    "\t\t\t# is_displayed_modal = driver.find_element(By.CSS_SELECTOR, bottom_modal).is_displayed()\n",
    "\t\t\t# if is_displayed_modal:\n",
    "\t\t\t# \tdriver.find_element(By.CSS_SELECTOR, bottom_mpdal_btn).click()\n",
    "\t\t\t# \tdriver.implicitly_wait(10)\n",
    "\n",
    "\t\t\tdriver.find_element(By.CSS_SELECTOR, calender_btn).click()\n",
    "\t\t\tdriver.find_element(By.CSS_SELECTOR, start_year_input).clear()\n",
    "\t\t\tdriver.implicitly_wait(1)\n",
    "\t\t\tdriver.find_element(By.CSS_SELECTOR, start_year_input).send_keys(start_date)\n",
    "\t\t\tdriver.implicitly_wait(5)\n",
    "\t\t\tdriver.find_element(By.CLASS_NAME, apply_btn).click()\n",
    "\t\t\ttime.sleep(3)\n",
    "\t\t\tdriver.find_element(By.CSS_SELECTOR, csv_download_btn).click()\n",
    "\t\t\tdriver.implicitly_wait(30)\n",
    "\t\t\tsucceed.append(name_)\n",
    "\t\texcept HTTPError as e:\n",
    "\t\t\tfailed.append(name_)\n",
    "\n",
    "\tprint('=' * 150)\n",
    "\tprint('성공 :{0}\\nerror 개수: {1}개'.format(succeed, len(succeed)))\n",
    "\tprint('=' * 150)\n",
    "\tprint('실패 :{0}\\nerror 개수: {1}개'.format(failed, len(failed)))\n",
    "\tprint('=' * 150)"
   ],
   "metadata": {
    "collapsed": false
   }
  },
  {
   "cell_type": "code",
   "execution_count": 13,
   "outputs": [
    {
     "name": "stdout",
     "output_type": "stream",
     "text": [
      "전체 개수 28개\n"
     ]
    },
    {
     "name": "stderr",
     "output_type": "stream",
     "text": [
      "100%|██████████| 28/28 [04:02<00:00,  8.66s/it]"
     ]
    },
    {
     "name": "stdout",
     "output_type": "stream",
     "text": [
      "======================================================================================================================================================\n",
      "성공 :['usd', 'jpy', 'eur', 'cny', 'hkd', 'gbp', 'chf', 'cad', 'aud', 'nzd', 'sek', 'dkk', 'nok', 'sar', 'aed', 'thb', 'sgd', 'idr', 'inr', 'myr', 'pkr', 'php', 'mxn']\n",
      "error 개수: 23개\n",
      "======================================================================================================================================================\n",
      "실패 :['kwd', 'bhd', 'bdt', 'egp', 'bnd']\n",
      "error 개수: 5개\n",
      "======================================================================================================================================================\n"
     ]
    },
    {
     "name": "stderr",
     "output_type": "stream",
     "text": [
      "\n"
     ]
    }
   ],
   "source": [
    "investing_crawling('currencies', names, '2020-01-01', '-krw')"
   ],
   "metadata": {
    "collapsed": false
   }
  },
  {
   "cell_type": "code",
   "execution_count": 14,
   "outputs": [
    {
     "name": "stdout",
     "output_type": "stream",
     "text": [
      "전체 개수 6개\n"
     ]
    },
    {
     "name": "stderr",
     "output_type": "stream",
     "text": [
      "100%|██████████| 6/6 [00:55<00:00,  9.22s/it]"
     ]
    },
    {
     "name": "stdout",
     "output_type": "stream",
     "text": [
      "======================================================================================================================================================\n",
      "성공 :['gold', 'crude-oil', 'silver', 'natural-gas', 'copper', 'us-wheat']\n",
      "error 개수: 6개\n",
      "======================================================================================================================================================\n",
      "실패 :[]\n",
      "error 개수: 0개\n",
      "======================================================================================================================================================\n"
     ]
    },
    {
     "name": "stderr",
     "output_type": "stream",
     "text": [
      "\n"
     ]
    }
   ],
   "source": [
    "investing_crawling('commodities', list, start_date)"
   ],
   "metadata": {
    "collapsed": false
   }
  },
  {
   "cell_type": "code",
   "execution_count": 15,
   "outputs": [
    {
     "ename": "WebDriverException",
     "evalue": "Message: disconnected: Unable to receive message from renderer\n  (failed to check if window was closed: disconnected: unable to connect to renderer)\n  (Session info: chrome=107.0.5304.87)\nStacktrace:\n0   chromedriver                        0x000000010333af44 chromedriver + 3813188\n1   chromedriver                        0x00000001032ccae0 chromedriver + 3361504\n2   chromedriver                        0x0000000102fd0c5c chromedriver + 232540\n3   chromedriver                        0x0000000102fbf0b0 chromedriver + 159920\n4   chromedriver                        0x0000000102fbee8c chromedriver + 159372\n5   chromedriver                        0x0000000102fbdfec chromedriver + 155628\n6   chromedriver                        0x0000000102fbe338 chromedriver + 156472\n7   chromedriver                        0x0000000102fca604 chromedriver + 206340\n8   chromedriver                        0x0000000102fbd974 chromedriver + 153972\n9   chromedriver                        0x0000000102fbeb34 chromedriver + 158516\n10  chromedriver                        0x0000000102fbdfec chromedriver + 155628\n11  chromedriver                        0x0000000102fbe338 chromedriver + 156472\n12  chromedriver                        0x0000000102fc7cd0 chromedriver + 195792\n13  chromedriver                        0x0000000102fbd974 chromedriver + 153972\n14  chromedriver                        0x0000000102fbeb34 chromedriver + 158516\n15  chromedriver                        0x0000000102fbdfec chromedriver + 155628\n16  chromedriver                        0x0000000102fbe338 chromedriver + 156472\n17  chromedriver                        0x0000000102fc3c44 chromedriver + 179268\n18  chromedriver                        0x0000000102fbd974 chromedriver + 153972\n19  chromedriver                        0x0000000102fbeb34 chromedriver + 158516\n20  chromedriver                        0x0000000102fbdfec chromedriver + 155628\n21  chromedriver                        0x0000000102fbe338 chromedriver + 156472\n22  chromedriver                        0x0000000102fb8604 chromedriver + 132612\n23  chromedriver                        0x0000000102fbd974 chromedriver + 153972\n24  chromedriver                        0x0000000102fbeb34 chromedriver + 158516\n25  chromedriver                        0x0000000102fbdfec chromedriver + 155628\n26  chromedriver                        0x0000000102fbe338 chromedriver + 156472\n27  chromedriver                        0x0000000102fca604 chromedriver + 206340\n28  chromedriver                        0x0000000102fbd974 chromedriver + 153972\n29  chromedriver                        0x0000000102fbeb34 chromedriver + 158516\n30  chromedriver                        0x0000000102fbdfec chromedriver + 155628\n31  chromedriver                        0x0000000102fbe338 chromedriver + 156472\n32  chromedriver                        0x0000000102fc7cd0 chromedriver + 195792\n33  chromedriver                        0x0000000102fbd974 chromedriver + 153972\n34  chromedriver                        0x0000000102fbeb34 chromedriver + 158516\n35  chromedriver                        0x0000000102fbdfec chromedriver + 155628\n36  chromedriver                        0x0000000102fbe338 chromedriver + 156472\n37  chromedriver                        0x0000000102fc3c44 chromedriver + 179268\n38  chromedriver                        0x0000000102fbd974 chromedriver + 153972\n39  chromedriver                        0x0000000102fbd0ac chromedriver + 151724\n40  chromedriver                        0x0000000102fbd208 chromedriver + 152072\n41  chromedriver                        0x0000000102fbd4a4 chromedriver + 152740\n42  chromedriver                        0x0000000102fb1f08 chromedriver + 106248\n43  chromedriver                        0x0000000102fb2d78 chromedriver + 109944\n44  chromedriver                        0x0000000103024668 chromedriver + 575080\n45  chromedriver                        0x0000000102ff7358 chromedriver + 389976\n46  chromedriver                        0x0000000102ff8284 chromedriver + 393860\n47  chromedriver                        0x000000010330ee18 chromedriver + 3632664\n48  chromedriver                        0x000000010331297c chromedriver + 3647868\n49  chromedriver                        0x0000000103318b58 chromedriver + 3672920\n50  chromedriver                        0x0000000103313350 chromedriver + 3650384\n51  chromedriver                        0x00000001032f08dc chromedriver + 3508444\n52  chromedriver                        0x000000010332d914 chromedriver + 3758356\n53  chromedriver                        0x000000010332da78 chromedriver + 3758712\n54  chromedriver                        0x00000001033416cc chromedriver + 3839692\n55  libsystem_pthread.dylib             0x00000001856d606c _pthread_start + 148\n56  libsystem_pthread.dylib             0x00000001856d0e2c thread_start + 8\n",
     "output_type": "error",
     "traceback": [
      "\u001B[0;31m---------------------------------------------------------------------------\u001B[0m",
      "\u001B[0;31mWebDriverException\u001B[0m                        Traceback (most recent call last)",
      "Cell \u001B[0;32mIn [15], line 2\u001B[0m\n\u001B[1;32m      1\u001B[0m \u001B[38;5;66;03m# 드라이버 종료\u001B[39;00m\n\u001B[0;32m----> 2\u001B[0m \u001B[43mdriver\u001B[49m\u001B[38;5;241;43m.\u001B[39;49m\u001B[43mclose\u001B[49m\u001B[43m(\u001B[49m\u001B[43m)\u001B[49m\n",
      "File \u001B[0;32m~/miniforge3/envs/ml-dev/lib/python3.9/site-packages/selenium/webdriver/remote/webdriver.py:561\u001B[0m, in \u001B[0;36mWebDriver.close\u001B[0;34m(self)\u001B[0m\n\u001B[1;32m    552\u001B[0m \u001B[38;5;28;01mdef\u001B[39;00m \u001B[38;5;21mclose\u001B[39m(\u001B[38;5;28mself\u001B[39m) \u001B[38;5;241m-\u001B[39m\u001B[38;5;241m>\u001B[39m \u001B[38;5;28;01mNone\u001B[39;00m:\n\u001B[1;32m    553\u001B[0m     \u001B[38;5;124;03m\"\"\"\u001B[39;00m\n\u001B[1;32m    554\u001B[0m \u001B[38;5;124;03m    Closes the current window.\u001B[39;00m\n\u001B[1;32m    555\u001B[0m \n\u001B[0;32m   (...)\u001B[0m\n\u001B[1;32m    559\u001B[0m \u001B[38;5;124;03m            driver.close()\u001B[39;00m\n\u001B[1;32m    560\u001B[0m \u001B[38;5;124;03m    \"\"\"\u001B[39;00m\n\u001B[0;32m--> 561\u001B[0m     \u001B[38;5;28;43mself\u001B[39;49m\u001B[38;5;241;43m.\u001B[39;49m\u001B[43mexecute\u001B[49m\u001B[43m(\u001B[49m\u001B[43mCommand\u001B[49m\u001B[38;5;241;43m.\u001B[39;49m\u001B[43mCLOSE\u001B[49m\u001B[43m)\u001B[49m\n",
      "File \u001B[0;32m~/miniforge3/envs/ml-dev/lib/python3.9/site-packages/selenium/webdriver/remote/webdriver.py:444\u001B[0m, in \u001B[0;36mWebDriver.execute\u001B[0;34m(self, driver_command, params)\u001B[0m\n\u001B[1;32m    442\u001B[0m response \u001B[38;5;241m=\u001B[39m \u001B[38;5;28mself\u001B[39m\u001B[38;5;241m.\u001B[39mcommand_executor\u001B[38;5;241m.\u001B[39mexecute(driver_command, params)\n\u001B[1;32m    443\u001B[0m \u001B[38;5;28;01mif\u001B[39;00m response:\n\u001B[0;32m--> 444\u001B[0m     \u001B[38;5;28;43mself\u001B[39;49m\u001B[38;5;241;43m.\u001B[39;49m\u001B[43merror_handler\u001B[49m\u001B[38;5;241;43m.\u001B[39;49m\u001B[43mcheck_response\u001B[49m\u001B[43m(\u001B[49m\u001B[43mresponse\u001B[49m\u001B[43m)\u001B[49m\n\u001B[1;32m    445\u001B[0m     response[\u001B[38;5;124m\"\u001B[39m\u001B[38;5;124mvalue\u001B[39m\u001B[38;5;124m\"\u001B[39m] \u001B[38;5;241m=\u001B[39m \u001B[38;5;28mself\u001B[39m\u001B[38;5;241m.\u001B[39m_unwrap_value(response\u001B[38;5;241m.\u001B[39mget(\u001B[38;5;124m\"\u001B[39m\u001B[38;5;124mvalue\u001B[39m\u001B[38;5;124m\"\u001B[39m, \u001B[38;5;28;01mNone\u001B[39;00m))\n\u001B[1;32m    446\u001B[0m     \u001B[38;5;28;01mreturn\u001B[39;00m response\n",
      "File \u001B[0;32m~/miniforge3/envs/ml-dev/lib/python3.9/site-packages/selenium/webdriver/remote/errorhandler.py:249\u001B[0m, in \u001B[0;36mErrorHandler.check_response\u001B[0;34m(self, response)\u001B[0m\n\u001B[1;32m    247\u001B[0m         alert_text \u001B[38;5;241m=\u001B[39m value[\u001B[38;5;124m\"\u001B[39m\u001B[38;5;124malert\u001B[39m\u001B[38;5;124m\"\u001B[39m]\u001B[38;5;241m.\u001B[39mget(\u001B[38;5;124m\"\u001B[39m\u001B[38;5;124mtext\u001B[39m\u001B[38;5;124m\"\u001B[39m)\n\u001B[1;32m    248\u001B[0m     \u001B[38;5;28;01mraise\u001B[39;00m exception_class(message, screen, stacktrace, alert_text)  \u001B[38;5;66;03m# type: ignore[call-arg]  # mypy is not smart enough here\u001B[39;00m\n\u001B[0;32m--> 249\u001B[0m \u001B[38;5;28;01mraise\u001B[39;00m exception_class(message, screen, stacktrace)\n",
      "\u001B[0;31mWebDriverException\u001B[0m: Message: disconnected: Unable to receive message from renderer\n  (failed to check if window was closed: disconnected: unable to connect to renderer)\n  (Session info: chrome=107.0.5304.87)\nStacktrace:\n0   chromedriver                        0x000000010333af44 chromedriver + 3813188\n1   chromedriver                        0x00000001032ccae0 chromedriver + 3361504\n2   chromedriver                        0x0000000102fd0c5c chromedriver + 232540\n3   chromedriver                        0x0000000102fbf0b0 chromedriver + 159920\n4   chromedriver                        0x0000000102fbee8c chromedriver + 159372\n5   chromedriver                        0x0000000102fbdfec chromedriver + 155628\n6   chromedriver                        0x0000000102fbe338 chromedriver + 156472\n7   chromedriver                        0x0000000102fca604 chromedriver + 206340\n8   chromedriver                        0x0000000102fbd974 chromedriver + 153972\n9   chromedriver                        0x0000000102fbeb34 chromedriver + 158516\n10  chromedriver                        0x0000000102fbdfec chromedriver + 155628\n11  chromedriver                        0x0000000102fbe338 chromedriver + 156472\n12  chromedriver                        0x0000000102fc7cd0 chromedriver + 195792\n13  chromedriver                        0x0000000102fbd974 chromedriver + 153972\n14  chromedriver                        0x0000000102fbeb34 chromedriver + 158516\n15  chromedriver                        0x0000000102fbdfec chromedriver + 155628\n16  chromedriver                        0x0000000102fbe338 chromedriver + 156472\n17  chromedriver                        0x0000000102fc3c44 chromedriver + 179268\n18  chromedriver                        0x0000000102fbd974 chromedriver + 153972\n19  chromedriver                        0x0000000102fbeb34 chromedriver + 158516\n20  chromedriver                        0x0000000102fbdfec chromedriver + 155628\n21  chromedriver                        0x0000000102fbe338 chromedriver + 156472\n22  chromedriver                        0x0000000102fb8604 chromedriver + 132612\n23  chromedriver                        0x0000000102fbd974 chromedriver + 153972\n24  chromedriver                        0x0000000102fbeb34 chromedriver + 158516\n25  chromedriver                        0x0000000102fbdfec chromedriver + 155628\n26  chromedriver                        0x0000000102fbe338 chromedriver + 156472\n27  chromedriver                        0x0000000102fca604 chromedriver + 206340\n28  chromedriver                        0x0000000102fbd974 chromedriver + 153972\n29  chromedriver                        0x0000000102fbeb34 chromedriver + 158516\n30  chromedriver                        0x0000000102fbdfec chromedriver + 155628\n31  chromedriver                        0x0000000102fbe338 chromedriver + 156472\n32  chromedriver                        0x0000000102fc7cd0 chromedriver + 195792\n33  chromedriver                        0x0000000102fbd974 chromedriver + 153972\n34  chromedriver                        0x0000000102fbeb34 chromedriver + 158516\n35  chromedriver                        0x0000000102fbdfec chromedriver + 155628\n36  chromedriver                        0x0000000102fbe338 chromedriver + 156472\n37  chromedriver                        0x0000000102fc3c44 chromedriver + 179268\n38  chromedriver                        0x0000000102fbd974 chromedriver + 153972\n39  chromedriver                        0x0000000102fbd0ac chromedriver + 151724\n40  chromedriver                        0x0000000102fbd208 chromedriver + 152072\n41  chromedriver                        0x0000000102fbd4a4 chromedriver + 152740\n42  chromedriver                        0x0000000102fb1f08 chromedriver + 106248\n43  chromedriver                        0x0000000102fb2d78 chromedriver + 109944\n44  chromedriver                        0x0000000103024668 chromedriver + 575080\n45  chromedriver                        0x0000000102ff7358 chromedriver + 389976\n46  chromedriver                        0x0000000102ff8284 chromedriver + 393860\n47  chromedriver                        0x000000010330ee18 chromedriver + 3632664\n48  chromedriver                        0x000000010331297c chromedriver + 3647868\n49  chromedriver                        0x0000000103318b58 chromedriver + 3672920\n50  chromedriver                        0x0000000103313350 chromedriver + 3650384\n51  chromedriver                        0x00000001032f08dc chromedriver + 3508444\n52  chromedriver                        0x000000010332d914 chromedriver + 3758356\n53  chromedriver                        0x000000010332da78 chromedriver + 3758712\n54  chromedriver                        0x00000001033416cc chromedriver + 3839692\n55  libsystem_pthread.dylib             0x00000001856d606c _pthread_start + 148\n56  libsystem_pthread.dylib             0x00000001856d0e2c thread_start + 8\n"
     ]
    }
   ],
   "source": [
    "# 드라이버 종료\n",
    "driver.close()"
   ],
   "metadata": {
    "collapsed": false
   }
  },
  {
   "cell_type": "code",
   "execution_count": 8,
   "outputs": [],
   "source": [
    "# 세계지수 리스트 크롤링\n",
    "url = 'https://kr.investing.com/indices/major-indices'"
   ],
   "metadata": {
    "collapsed": false
   }
  },
  {
   "cell_type": "code",
   "execution_count": 9,
   "outputs": [],
   "source": [
    "try:\n",
    "\theaders = {'User-Agent': 'Chrome/107.0.5304.87'}\n",
    "\treq = urllib.request.Request(url, headers=headers)\n",
    "\thtml = urlopen(req)\n",
    "except HTTPError as e:\n",
    "\terr = e.read()\n",
    "\tcode = e.getcode()\n",
    "\tprint(err, code)"
   ],
   "metadata": {
    "collapsed": false
   }
  },
  {
   "cell_type": "code",
   "execution_count": 10,
   "outputs": [],
   "source": [
    "soup = BeautifulSoup(html, 'html.parser')"
   ],
   "metadata": {
    "collapsed": false
   }
  },
  {
   "cell_type": "code",
   "execution_count": 11,
   "outputs": [
    {
     "data": {
      "text/plain": "[<a class=\"inv-link bold datatable_cell--name__link__tmnQz\" href=\"/indices/kospi\" title=\"코스피지수\">코스피지수</a>,\n <a class=\"inv-link bold datatable_cell--name__link__tmnQz\" href=\"/indices/kospi-50\" title=\"코스피 50\">코스피 50</a>,\n <a class=\"inv-link bold datatable_cell--name__link__tmnQz\" href=\"/indices/kosdaq\" title=\"코스닥\">코스닥</a>,\n <a class=\"inv-link bold datatable_cell--name__link__tmnQz\" href=\"/indices/us-30\" title=\"다우존스\">다우존스</a>,\n <a class=\"inv-link bold datatable_cell--name__link__tmnQz\" href=\"/indices/us-spx-500\" title=\"S&amp;P 500 - (CFD)\">S&amp;P 500</a>,\n <a class=\"inv-link bold datatable_cell--name__link__tmnQz\" href=\"/indices/nasdaq-composite\" title=\"나스닥종합지수\">나스닥종합지수</a>,\n <a class=\"inv-link bold datatable_cell--name__link__tmnQz\" href=\"/indices/smallcap-2000\" title=\"러셀 2000 지수 - (CFD)\">러셀 2000</a>,\n <a class=\"inv-link bold datatable_cell--name__link__tmnQz\" href=\"/indices/volatility-s-p-500\" title=\"CBOE Volatility Index - (CFD)\">CBOE VIX</a>,\n <a class=\"inv-link bold datatable_cell--name__link__tmnQz\" href=\"/indices/s-p-tsx-composite\" title=\" 캐나다 S&amp;P/TSX\"> 캐나다 S&amp;P/TSX</a>,\n <a class=\"inv-link bold datatable_cell--name__link__tmnQz\" href=\"/indices/bovespa\" title=\"브라질 보베스파\">브라질 보베스파</a>,\n <a class=\"inv-link bold datatable_cell--name__link__tmnQz\" href=\"/indices/ipc\" title=\"S&amp;P/BMV IPC\">S&amp;P/BMV IPC</a>,\n <a class=\"inv-link bold datatable_cell--name__link__tmnQz\" href=\"/indices/germany-30\" title=\"DAX - (CFD)\">DAX</a>,\n <a class=\"inv-link bold datatable_cell--name__link__tmnQz\" href=\"/indices/uk-100\" title=\"영국 FTSE - (CFD)\">영국 FTSE</a>,\n <a class=\"inv-link bold datatable_cell--name__link__tmnQz\" href=\"/indices/france-40\" title=\"프랑스 CAC\">프랑스 CAC</a>,\n <a class=\"inv-link bold datatable_cell--name__link__tmnQz\" href=\"/indices/eu-stoxx50\" title=\"유로 스톡스 50 - (CFD)\">유로 스톡스 50</a>,\n <a class=\"inv-link bold datatable_cell--name__link__tmnQz\" href=\"/indices/netherlands-25\" title=\"네덜란드 AEX\">네덜란드 AEX</a>,\n <a class=\"inv-link bold datatable_cell--name__link__tmnQz\" href=\"/indices/spain-35\" title=\"스페인 IBEX - (CFD)\">스페인 IBEX</a>,\n <a class=\"inv-link bold datatable_cell--name__link__tmnQz\" href=\"/indices/it-mib-40\" title=\"이탈리아 FTSE MIB - (CFD)\">이탈리아 FTSE MIB</a>,\n <a class=\"inv-link bold datatable_cell--name__link__tmnQz\" href=\"/indices/switzerland-20\" title=\"스위스 SMI - (CFD)\">스위스 SMI</a>,\n <a class=\"inv-link bold datatable_cell--name__link__tmnQz\" href=\"/indices/psi-20\" title=\"PSI\">PSI</a>,\n <a class=\"inv-link bold datatable_cell--name__link__tmnQz\" href=\"/indices/bel-20\" title=\"벨기에 BEL - (CFD)\">벨기에 BEL</a>,\n <a class=\"inv-link bold datatable_cell--name__link__tmnQz\" href=\"/indices/atx\" title=\"ATX\">ATX</a>,\n <a class=\"inv-link bold datatable_cell--name__link__tmnQz\" href=\"/indices/omx-stockholm-30\" title=\"스웨덴 OMXS\">스웨덴 OMXS</a>,\n <a class=\"inv-link bold datatable_cell--name__link__tmnQz\" href=\"/indices/mcx\" title=\"러시아 MOEX Russia\">러시아 MOEX</a>,\n <a class=\"inv-link bold datatable_cell--name__link__tmnQz\" href=\"/indices/rtsi\" title=\"RTSI 지수\">RTSI 지수</a>,\n <a class=\"inv-link bold datatable_cell--name__link__tmnQz\" href=\"/indices/wig-20\" title=\"폴란드 WIG 20\">폴란드 WIG 20</a>,\n <a class=\"inv-link bold datatable_cell--name__link__tmnQz\" href=\"/indices/hungary-stock-market\" title=\"헝가리 BUX\">헝가리 BUX</a>,\n <a class=\"inv-link bold datatable_cell--name__link__tmnQz\" href=\"/indices/ise-100\" title=\"터키 BIST\">터키 BIST</a>,\n <a class=\"inv-link bold datatable_cell--name__link__tmnQz\" href=\"/indices/ta25\" title=\"TA 35\">TA 35</a>,\n <a class=\"inv-link bold datatable_cell--name__link__tmnQz\" href=\"/indices/tasi\" title=\"사우디아라비아 Tadawul\">사우디아라비아 Tadawul</a>,\n <a class=\"inv-link bold datatable_cell--name__link__tmnQz\" href=\"/indices/japan-ni225\" title=\"닛케이 - (CFD)\">닛케이</a>,\n <a class=\"inv-link bold datatable_cell--name__link__tmnQz\" href=\"/indices/aus-200\" title=\"호주 S&amp;P/ASX\">호주 S&amp;P/ASX</a>,\n <a class=\"inv-link bold datatable_cell--name__link__tmnQz\" href=\"/indices/shanghai-composite\" title=\"상하이종합\">상하이종합</a>,\n <a class=\"inv-link bold datatable_cell--name__link__tmnQz\" href=\"/indices/szse-component\" title=\"SZSE Component\">SZSE Component</a>,\n <a class=\"inv-link bold datatable_cell--name__link__tmnQz\" href=\"/indices/ftse-china-a50\" title=\"FTSE China A50\">China A50</a>,\n <a class=\"inv-link bold datatable_cell--name__link__tmnQz\" href=\"/indices/dj-shanghai\" title=\"Dow Jones Shanghai\">DJ Shanghai</a>,\n <a class=\"inv-link bold datatable_cell--name__link__tmnQz\" href=\"/indices/hang-sen-40\" title=\"항셍 - (CFD)\">항셍</a>,\n <a class=\"inv-link bold datatable_cell--name__link__tmnQz\" href=\"/indices/taiwan-weighted\" title=\"대만 가권\">대만 가권</a>,\n <a class=\"inv-link bold datatable_cell--name__link__tmnQz\" href=\"/indices/thailand-set\" title=\"SET Index\">SET</a>,\n <a class=\"inv-link bold datatable_cell--name__link__tmnQz\" href=\"/indices/idx-composite\" title=\"인도네시아 IDX\">인도네시아 IDX</a>,\n <a class=\"inv-link bold datatable_cell--name__link__tmnQz\" href=\"/indices/s-p-cnx-nifty\" title=\"Nifty 50\">Nifty 50</a>,\n <a class=\"inv-link bold datatable_cell--name__link__tmnQz\" href=\"/indices/sensex\" title=\"BSE 인도 센섹스 30\">인도 센섹스</a>,\n <a class=\"inv-link bold datatable_cell--name__link__tmnQz\" href=\"/indices/vn-30\" title=\"VN 30\">VN 30</a>]"
     },
     "execution_count": 11,
     "metadata": {},
     "output_type": "execute_result"
    }
   ],
   "source": [
    "stock_link = soup.select('td.datatable_cell__0y0eu.datatable_cell--name__5g25Q.table-browser_col-name__qzN_9 > div > a')\n",
    "stock_link"
   ],
   "metadata": {
    "collapsed": false
   }
  },
  {
   "cell_type": "code",
   "execution_count": 12,
   "outputs": [],
   "source": [
    "indices = []\n",
    "for each in stock_link:\n",
    "\thref = each['href']\n",
    "\tindice = href.split('/')[-1]\n",
    "\tindices.append(indice)"
   ],
   "metadata": {
    "collapsed": false
   }
  },
  {
   "cell_type": "code",
   "execution_count": 13,
   "outputs": [
    {
     "name": "stdout",
     "output_type": "stream",
     "text": [
      "['kospi', 'kospi-50', 'kosdaq', 'us-30', 'us-spx-500', 'nasdaq-composite', 'smallcap-2000', 'volatility-s-p-500', 's-p-tsx-composite', 'bovespa', 'ipc', 'germany-30', 'uk-100', 'france-40', 'eu-stoxx50', 'netherlands-25', 'spain-35', 'it-mib-40', 'switzerland-20', 'psi-20', 'bel-20', 'atx', 'omx-stockholm-30', 'mcx', 'rtsi', 'wig-20', 'hungary-stock-market', 'ise-100', 'ta25', 'tasi', 'japan-ni225', 'aus-200', 'shanghai-composite', 'szse-component', 'ftse-china-a50', 'dj-shanghai', 'hang-sen-40', 'taiwan-weighted', 'thailand-set', 'idx-composite', 's-p-cnx-nifty', 'sensex', 'vn-30']\n"
     ]
    }
   ],
   "source": [
    "print(indices)"
   ],
   "metadata": {
    "collapsed": false
   }
  },
  {
   "cell_type": "code",
   "execution_count": 21,
   "outputs": [
    {
     "name": "stdout",
     "output_type": "stream",
     "text": [
      "전체 개수 43개\n"
     ]
    },
    {
     "name": "stderr",
     "output_type": "stream",
     "text": [
      "100%|██████████| 43/43 [06:23<00:00,  8.92s/it]"
     ]
    },
    {
     "name": "stdout",
     "output_type": "stream",
     "text": [
      "['kospi', 'kospi-50', 'kosdaq', 'us-30', 'us-spx-500', 'nasdaq-composite', 'smallcap-2000', 'volatility-s-p-500', 's-p-tsx-composite', 'bovespa', 'ipc', 'germany-30', 'uk-100', 'france-40', 'eu-stoxx50', 'netherlands-25', 'spain-35', 'it-mib-40', 'switzerland-20', 'psi-20', 'bel-20', 'atx', 'omx-stockholm-30', 'mcx', 'rtsi', 'wig-20', 'hungary-stock-market', 'ise-100', 'ta25', 'tasi', 'japan-ni225', 'aus-200', 'shanghai-composite', 'szse-component', 'ftse-china-a50', 'dj-shanghai', 'hang-sen-40', 'taiwan-weighted', 'thailand-set', 'idx-composite', 's-p-cnx-nifty', 'sensex', 'vn-30']\n",
      "성공 :None,\n",
      " error 개수: 43개\n",
      "========================================================================================================================================================================================================\n",
      "[]\n",
      "실패 :None,\n",
      " error 개수: 0개\n"
     ]
    },
    {
     "name": "stderr",
     "output_type": "stream",
     "text": [
      "\n"
     ]
    }
   ],
   "source": [
    "investing_crawling('indices', indices, '2020-01-01')"
   ],
   "metadata": {
    "collapsed": false
   }
  },
  {
   "cell_type": "code",
   "execution_count": null,
   "outputs": [],
   "source": [],
   "metadata": {
    "collapsed": false
   }
  }
 ],
 "metadata": {
  "kernelspec": {
   "display_name": "Python 3",
   "language": "python",
   "name": "python3"
  },
  "language_info": {
   "codemirror_mode": {
    "name": "ipython",
    "version": 2
   },
   "file_extension": ".py",
   "mimetype": "text/x-python",
   "name": "python",
   "nbconvert_exporter": "python",
   "pygments_lexer": "ipython2",
   "version": "2.7.6"
  }
 },
 "nbformat": 4,
 "nbformat_minor": 0
}
