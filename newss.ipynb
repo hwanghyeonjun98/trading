{
 "cells": [
  {
   "cell_type": "code",
   "execution_count": 13,
   "metadata": {},
   "outputs": [],
   "source": [
    "import pandas as pd\n",
    "import numpy as numpy\n",
    "import requests\n",
    "from bs4 import BeautifulSoup\n",
    "from urllib.request import urlopen"
   ]
  },
  {
   "cell_type": "code",
   "execution_count": 14,
   "metadata": {},
   "outputs": [
    {
     "name": "stdout",
     "output_type": "stream",
     "text": [
      "[<a href=\"/news/news_read.naver?article_id=0005398528&amp;office_id=018&amp;mode=mainnews&amp;type=&amp;date=2023-01-02&amp;page=1\">새해 첫날 환율, 저가 매수에 1272.6원…5거래일 만에 상승[외환마감]</a>, <a href=\"/news/news_read.naver?article_id=0011623049&amp;office_id=003&amp;mode=mainnews&amp;type=&amp;date=2023-01-02&amp;page=1\">[마감시황]코스피, 새해 첫날 기관 매물에 0.5%↓</a>, <a href=\"/news/news_read.naver?article_id=0005398513&amp;office_id=018&amp;mode=mainnews&amp;type=&amp;date=2023-01-02&amp;page=1\">[코스닥 마감] 결국 1% 하락…2차전지주 6% 강세</a>, <a href=\"/news/news_read.naver?article_id=0005199620&amp;office_id=277&amp;mode=mainnews&amp;type=&amp;date=2023-01-02&amp;page=1\">[굿모닝 증시]연초 코스피 불확실성 확대…기업실적·금리인상 경계</a>, <a href=\"/news/news_read.naver?article_id=0005397921&amp;office_id=018&amp;mode=mainnews&amp;type=&amp;date=2023-01-02&amp;page=1\">새해 첫날 환율, 7개월 만에 장중 1250원대로 진입하나[외환브리핑]</a>]\n"
     ]
    }
   ],
   "source": [
    "import requests\n",
    "from bs4 import BeautifulSoup\n",
    "\n",
    "main_url = 'https://finance.naver.com'\n",
    "sub_url = '/news/mainnews.naver?date='\n",
    "url = main_url + sub_url\n",
    "\n",
    "response = requests.get(url)\n",
    "\n",
    "if response.status_code == 200:\n",
    "    html = response.text\n",
    "    soup = BeautifulSoup(html, 'html.parser')\n",
    "    title = soup.select('#contentarea_left > div.mainNewsList > ul > li > dl > dd > a')\n",
    "    print(title)\n",
    "else : \n",
    "    print(response.status_code)"
   ]
  },
  {
   "cell_type": "code",
   "execution_count": 15,
   "metadata": {},
   "outputs": [
    {
     "data": {
      "text/plain": [
       "[' 새해 첫날 환율, 저가 매수에 1272.6원…5거래일 만에 상승[외환마감]',\n",
       " ' [마감시황]코스피, 새해 첫날 기관 매물에 0.5%↓',\n",
       " ' [코스닥 마감] 결국 1% 하락…2차전지주 6% 강세',\n",
       " ' [굿모닝 증시]연초 코스피 불확실성 확대…기업실적·금리인상 경계',\n",
       " ' 새해 첫날 환율, 7개월 만에 장중 1250원대로 진입하나[외환브리핑]']"
      ]
     },
     "execution_count": 15,
     "metadata": {},
     "output_type": "execute_result"
    }
   ],
   "source": [
    "newsname = []\n",
    "titles = soup.select('dd.articleSubject')\n",
    "\n",
    "for i in titles:\n",
    "    titlele = i.get_text().replace('\\n','')\n",
    "    newsname.append(titlele)\n",
    "        \n",
    "newsname    "
   ]
  },
  {
   "cell_type": "code",
   "execution_count": 16,
   "metadata": {},
   "outputs": [],
   "source": [
    "soup = BeautifulSoup(html, 'html.parser')\n",
    "list_ = []\n",
    "for each in title:\n",
    "    href = main_url + each['href']\n",
    "    list_.append(href)\n",
    "    "
   ]
  },
  {
   "cell_type": "code",
   "execution_count": 17,
   "metadata": {},
   "outputs": [
    {
     "data": {
      "text/plain": [
       "['https://finance.naver.com/news/news_read.naver?article_id=0005398528&office_id=018&mode=mainnews&type=&date=2023-01-02&page=1',\n",
       " 'https://finance.naver.com/news/news_read.naver?article_id=0011623049&office_id=003&mode=mainnews&type=&date=2023-01-02&page=1',\n",
       " 'https://finance.naver.com/news/news_read.naver?article_id=0005398513&office_id=018&mode=mainnews&type=&date=2023-01-02&page=1',\n",
       " 'https://finance.naver.com/news/news_read.naver?article_id=0005199620&office_id=277&mode=mainnews&type=&date=2023-01-02&page=1',\n",
       " 'https://finance.naver.com/news/news_read.naver?article_id=0005397921&office_id=018&mode=mainnews&type=&date=2023-01-02&page=1']"
      ]
     },
     "execution_count": 17,
     "metadata": {},
     "output_type": "execute_result"
    }
   ],
   "source": [
    "list_\n"
   ]
  },
  {
   "cell_type": "code",
   "execution_count": 18,
   "metadata": {},
   "outputs": [],
   "source": [
    "from datetime import datetime\n",
    "def newsdate() -> str:\n",
    "\tnow = datetime.now()\n",
    "\tdatetime_ = now.strftime('%Y-%m-%d')\n",
    "\tdays = datetime_\n",
    "\n",
    "\treturn days "
   ]
  },
  {
   "cell_type": "code",
   "execution_count": 19,
   "metadata": {},
   "outputs": [
    {
     "data": {
      "text/plain": [
       "'2023-01-02'"
      ]
     },
     "execution_count": 19,
     "metadata": {},
     "output_type": "execute_result"
    }
   ],
   "source": [
    "date = newsdate()\n",
    "date"
   ]
  },
  {
   "cell_type": "code",
   "execution_count": 20,
   "metadata": {},
   "outputs": [
    {
     "data": {
      "text/plain": [
       "['환율, 사흘 만에 1270원대 진입엔화·위안화 횡보 속에 상단 누르는 압력 사라져외국인, 코스닥 시장서 사흘 째 순매도(사진=AFP)[이데일리 최정희 기자] 새해 첫 날, 원·달러 환율이 저가 매수에 힘입어 사흘 만에 1270원대로 진입했다. 5거래일 만에 상승 전환이다. 환율이 지난 주 수출업체 네고물량(달러 매도)으로 급락하면서 달러 저가 매수가 출회됐다. 개장 전 강세를 이끌었던 엔화, 위안화는 휴장한 가운데 역외에서 보합권 등락하는 흐름을 연출했다. 2일 환율 흐름(출처: 서울외국환중개)2일 서울외국환중개에 따르면 이날 환율은 전 거래일 종가(1264.5원)보다 8.1원 오른 1272.6원에 마감했다. 종가 기준으로 지난 달 27일(1271.4원) 이후 사흘 만이다. 닷새 만에 상승 전환이기도 하다. 이날 환율은 4원 가량 떨어진 역외환율을 반영해 1261.0원에 개장했으나 얼마 지나지 않아 하락폭을 줄여 상승세로 전환했다. 장중 내내 상승폭을 키우다 마감 10분 전 1273',\n",
       " '기사내용 요약코스닥, 외인·기관 동반 매도에 약세 기록[서울=뉴시스] 정병혁 기자 = 코스피가 전 거래일(2236.40)보다 13.55포인트(0.61%) 상승한 2249.95에 장을 열었다. 코스닥지수는 전 거래일(679.29)보다 4.55포인트(0.67%) 오른 683.84에, 서울 외환시장에서 원·달러 환율은 전 거래일(1264.5원)보다 3.5원 떨어진 1261원에 개장했다. 2일 오전 서울 중구 하나은행 딜링룸에서 직원들이 업무를 보고 있다. 2023.01.02. jhope@newsis.com[서울=뉴시스]신항섭 기자 = 새해 첫날, 상승 출발했던 코스피가 증권사의 매물 출회로 반락하며 약보합으로 장을 마쳤다. 코스닥은 외국인과 기관의 동반 매도로 1%대의 약세를 기록했다.2일 코스피는 전 거래일(2236.40)보다 10.73포인트(0.48%) 하락한 2225.67에 장을 닫았다. 개장식으로 인해 1시간 늦게 열린 코스피는 0.61% 오른 2249.95로 출발하며 순조로운 모',\n",
       " '전거래일보다 1.15% 내린 671.51 마감외인·기관 3거래일째 팔자…개인만 사자IRA 상업용車 보조금 혜택에 2차전지 ↑中 게임서비스 허가 소실에 밸로프 上[이데일리 김보겸 기자] 새해 첫 거래일인 2일 1% 넘게 올랐던 코스닥 지수가 외국인과 기관의 매도 공세에 다시 1% 넘게 하락 마감했다. 2일 코스닥 지수는 전거래일보다 7.78포인트(1.15%) 내린 671.51에 거래를 마쳤다. 개장과 동시에 680선을 넘겼던 지수는 외국인의 팔자세에 하락 전환했다. 외국인은 588억원을 팔아치우며 3거래일 연속 ‘팔자’에 나섰다. 오후 들어 기관까지 매도로 돌아서며 낙폭을 키웠다. 기관도 3거래일 연속 ‘팔자’에 나서며 290억원을 순매도했다. 금융투자가 542억원, 보험이 35억원어치 주식을 내놓았다. 개인만 725억원을 사들이며 3거래일 순매수했지만 지수 하락을 막지 못했다. 프로그램 매매에서는 차익과 비차익을 합쳐 403억원 팔자 우위였다. 김석환 미래에셋증권 연구원은 “개인 순',\n",
       " '기업실적·금리 불확실성에 연초효과 기대 어려워1월 中리오프닝 수혜주 중심으로 수요 회복 나타날 것[이미지출처=연합뉴스]지난해 코스피가 하락 마감한 가운데 당분간 부진한 흐름이 이어질 것으로 전망된다. 경기 부진 우려와 연방준비제도(Fed)의 금리 인상 불확실성으로 1분기 증시 저점을 확인할 것으로 예상되기 때문이다. 올해 첫 거래일인 2일 개장 시간은 오전 10시다. 폐장시간은 오후 3시 30 분으로 평소와 같다.문남중 대신증권 연구원 “증시 추위 지속될 것”올해 계묘년 새해를 맞이했지만 지난해 말 찾아온 증시 추위는 지속될 것으로 예상된다. 지난해 말 산타랠리가 찾아오지 않아 연초 산타랠리를 기대하는 심리가 부각될 수 있지만 Fed의 통화정책 불확실성이 파생시킨 경기와 이익에 대한 불확실성이 위험 회피 심리를 강화할 것으로 예상된다.올해 증시 위험 요인을 꼽아본다면 인플레이션 고착화, 우크라이나 전황 악화, 중국 경제 둔화, 신흥국 위기, 코로나19 재유행 등으로 공통 분모에는 글',\n",
       " '달러인덱스 103선까지 하락달러·엔 환율 130엔까지 밀려엔화·위안화 강세에 원화까지 강세 압력외국인 투자자, 국내 증시 순매수 여부 주목(사진=AFP)[이데일리 최정희 기자] 새해 첫 날, 원·달러 환율은 1250원대 진입 시도에 나설 전망이다. 환율 1250원대는 작년 6월 이후 한 번도 보지 못했던 숫자다. 연말 거래가 뜸한 가운데 일본은행(BOJ)의 완화적 통화정책이 변화할 것이란 기대감에 달러·엔 환율이 130엔까지 밀렸다. 엔화 가치 상승과 함께 리오프닝 기대감에 중국 위안화도 같이 오르고 있다. 이웃 나라 두 통화가 상승 압력을 받고 있는 만큼 원화도 덩달아 상승세가 강해질지 주목된다. 2일 서울외국환중개에 따르면 간밤 뉴욕차액결제선물환(NDF)에서 거래된 원·달러 1개월물은 1259.4원에 최종 호가됐다. 최근 1개월물 스와프 포인트(-0.85원)를 고려하면 이날 환율은 전 거래일 종가(1264.5원)보다 4.25원 가량 하락 출발할 것으로 전망된다. 환율은 엔화, 위']"
      ]
     },
     "execution_count": 20,
     "metadata": {},
     "output_type": "execute_result"
    }
   ],
   "source": [
    "newsct= []\n",
    "for newslist in list_:\n",
    "    response = requests.get(newslist)\n",
    "    \n",
    "\n",
    "    if response.status_code == 200:\n",
    "        html = response.text\n",
    "        soup = BeautifulSoup(html, 'html.parser')\n",
    "        contents = soup.select_one('.articleCont')\n",
    "        cnt = contents.get_text().replace('\\n','')[:500]\n",
    "        \n",
    "    else : \n",
    "        print(response.status_code)\n",
    "    newsct.append(cnt)    \n",
    "    \n",
    "\n",
    "newsct\n",
    "\n",
    "\n"
   ]
  },
  {
   "cell_type": "code",
   "execution_count": 21,
   "metadata": {},
   "outputs": [
    {
     "data": {
      "text/html": [
       "<div>\n",
       "<style scoped>\n",
       "    .dataframe tbody tr th:only-of-type {\n",
       "        vertical-align: middle;\n",
       "    }\n",
       "\n",
       "    .dataframe tbody tr th {\n",
       "        vertical-align: top;\n",
       "    }\n",
       "\n",
       "    .dataframe thead th {\n",
       "        text-align: right;\n",
       "    }\n",
       "</style>\n",
       "<table border=\"1\" class=\"dataframe\">\n",
       "  <thead>\n",
       "    <tr style=\"text-align: right;\">\n",
       "      <th></th>\n",
       "      <th>Newsname</th>\n",
       "      <th>Newslink</th>\n",
       "      <th>News</th>\n",
       "      <th>Newsdate</th>\n",
       "    </tr>\n",
       "  </thead>\n",
       "  <tbody>\n",
       "    <tr>\n",
       "      <th>0</th>\n",
       "      <td>새해 첫날 환율, 저가 매수에 1272.6원…5거래일 만에 상승[외환마감]</td>\n",
       "      <td>https://finance.naver.com/news/news_read.naver...</td>\n",
       "      <td>환율, 사흘 만에 1270원대 진입엔화·위안화 횡보 속에 상단 누르는 압력 사라져외...</td>\n",
       "      <td>2023-01-02</td>\n",
       "    </tr>\n",
       "    <tr>\n",
       "      <th>1</th>\n",
       "      <td>[마감시황]코스피, 새해 첫날 기관 매물에 0.5%↓</td>\n",
       "      <td>https://finance.naver.com/news/news_read.naver...</td>\n",
       "      <td>기사내용 요약코스닥, 외인·기관 동반 매도에 약세 기록[서울=뉴시스] 정병혁 기자 ...</td>\n",
       "      <td>2023-01-02</td>\n",
       "    </tr>\n",
       "    <tr>\n",
       "      <th>2</th>\n",
       "      <td>[코스닥 마감] 결국 1% 하락…2차전지주 6% 강세</td>\n",
       "      <td>https://finance.naver.com/news/news_read.naver...</td>\n",
       "      <td>전거래일보다 1.15% 내린 671.51 마감외인·기관 3거래일째 팔자…개인만 사자...</td>\n",
       "      <td>2023-01-02</td>\n",
       "    </tr>\n",
       "    <tr>\n",
       "      <th>3</th>\n",
       "      <td>[굿모닝 증시]연초 코스피 불확실성 확대…기업실적·금리인상 경계</td>\n",
       "      <td>https://finance.naver.com/news/news_read.naver...</td>\n",
       "      <td>기업실적·금리 불확실성에 연초효과 기대 어려워1월 中리오프닝 수혜주 중심으로 수요 ...</td>\n",
       "      <td>2023-01-02</td>\n",
       "    </tr>\n",
       "    <tr>\n",
       "      <th>4</th>\n",
       "      <td>새해 첫날 환율, 7개월 만에 장중 1250원대로 진입하나[외환브리핑]</td>\n",
       "      <td>https://finance.naver.com/news/news_read.naver...</td>\n",
       "      <td>달러인덱스 103선까지 하락달러·엔 환율 130엔까지 밀려엔화·위안화 강세에 원화까...</td>\n",
       "      <td>2023-01-02</td>\n",
       "    </tr>\n",
       "  </tbody>\n",
       "</table>\n",
       "</div>"
      ],
      "text/plain": [
       "                                     Newsname  \\\n",
       "0   새해 첫날 환율, 저가 매수에 1272.6원…5거래일 만에 상승[외환마감]   \n",
       "1               [마감시황]코스피, 새해 첫날 기관 매물에 0.5%↓   \n",
       "2               [코스닥 마감] 결국 1% 하락…2차전지주 6% 강세   \n",
       "3         [굿모닝 증시]연초 코스피 불확실성 확대…기업실적·금리인상 경계   \n",
       "4     새해 첫날 환율, 7개월 만에 장중 1250원대로 진입하나[외환브리핑]   \n",
       "\n",
       "                                            Newslink  \\\n",
       "0  https://finance.naver.com/news/news_read.naver...   \n",
       "1  https://finance.naver.com/news/news_read.naver...   \n",
       "2  https://finance.naver.com/news/news_read.naver...   \n",
       "3  https://finance.naver.com/news/news_read.naver...   \n",
       "4  https://finance.naver.com/news/news_read.naver...   \n",
       "\n",
       "                                                News    Newsdate  \n",
       "0  환율, 사흘 만에 1270원대 진입엔화·위안화 횡보 속에 상단 누르는 압력 사라져외...  2023-01-02  \n",
       "1  기사내용 요약코스닥, 외인·기관 동반 매도에 약세 기록[서울=뉴시스] 정병혁 기자 ...  2023-01-02  \n",
       "2  전거래일보다 1.15% 내린 671.51 마감외인·기관 3거래일째 팔자…개인만 사자...  2023-01-02  \n",
       "3  기업실적·금리 불확실성에 연초효과 기대 어려워1월 中리오프닝 수혜주 중심으로 수요 ...  2023-01-02  \n",
       "4  달러인덱스 103선까지 하락달러·엔 환율 130엔까지 밀려엔화·위안화 강세에 원화까...  2023-01-02  "
      ]
     },
     "execution_count": 21,
     "metadata": {},
     "output_type": "execute_result"
    }
   ],
   "source": [
    "data = {'Newsname':newsname,'Newslink':list_,'News':newsct,'Newsdate':date}\n",
    "df = pd.DataFrame(data)\n",
    "df.head()"
   ]
  },
  {
   "cell_type": "code",
   "execution_count": 22,
   "metadata": {},
   "outputs": [],
   "source": [
    "#df.to_csv('../workspace/naver_news.csv', sep=',',\n",
    "#encoding='UTF-8')"
   ]
  },
  {
   "cell_type": "code",
   "execution_count": 23,
   "metadata": {},
   "outputs": [],
   "source": [
    "import pymysql"
   ]
  },
  {
   "cell_type": "code",
   "execution_count": 24,
   "metadata": {},
   "outputs": [],
   "source": [
    "pymysql.install_as_MySQLdb()\n",
    "conn= pymysql.connect(\n",
    "    host=\"192.168.50.123\"\n",
    "    ,user=\"admin\"\n",
    "    ,password=\"big15\"\n",
    "    ,db= \"web_data\"\n",
    "    ,charset='utf8'\n",
    ")\n",
    "\n",
    "cursor = conn.cursor()\n",
    "args = df.values.tolist()\n",
    "\n",
    "sql_update= f\"\"\"\n",
    "INSERT INTO news_data\n",
    "VALUES (%s,%s,%s,%s)\n",
    "ON DUPLICATE KEY UPDATE\n",
    "    newsname= VALUES(newsname)\n",
    "    ,newslink= VALUES(newslink)\n",
    "    ,news = VALUES(news)\n",
    "    , newsdate = VALUES(newsdate)\n",
    "\"\"\"\n",
    "\n",
    "cursor.executemany(sql_update, args)\n",
    "\n",
    "conn.commit()\n",
    "conn.close()"
   ]
  },
  {
   "cell_type": "code",
   "execution_count": null,
   "metadata": {},
   "outputs": [],
   "source": []
  }
 ],
 "metadata": {
  "kernelspec": {
   "display_name": "Python 3.9.13 ('project-dev')",
   "language": "python",
   "name": "python3"
  },
  "language_info": {
   "codemirror_mode": {
    "name": "ipython",
    "version": 3
   },
   "file_extension": ".py",
   "mimetype": "text/x-python",
   "name": "python",
   "nbconvert_exporter": "python",
   "pygments_lexer": "ipython3",
   "version": "3.9.13"
  },
  "orig_nbformat": 4,
  "vscode": {
   "interpreter": {
    "hash": "79e10953b4218c489dec5ef004d67b9388bc88b53e23041a56abe687ee306189"
   }
  }
 },
 "nbformat": 4,
 "nbformat_minor": 2
}
