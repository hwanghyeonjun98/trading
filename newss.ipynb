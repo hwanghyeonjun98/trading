{
 "cells": [
  {
   "cell_type": "code",
   "execution_count": 1,
   "metadata": {},
   "outputs": [],
   "source": [
    "import pandas as pd\n",
    "import numpy as numpy\n",
    "import requests\n",
    "from bs4 import BeautifulSoup\n",
    "from urllib.request import urlopen"
   ]
  },
  {
   "cell_type": "code",
   "execution_count": 2,
   "metadata": {},
   "outputs": [
    {
     "name": "stdout",
     "output_type": "stream",
     "text": [
      "[<a href=\"/news/news_read.naver?article_id=0005394617&amp;office_id=018&amp;mode=mainnews&amp;type=&amp;date=2022-12-27&amp;page=1\">달러 약세, 위안 강세 연장…환율, 1270원대 이틀째 하락 예상[외환브리핑]</a>, <a href=\"/news/news_read.naver?article_id=0004792218&amp;office_id=015&amp;mode=mainnews&amp;type=&amp;date=2022-12-27&amp;page=1\">오늘 이명박·김경수 '특별사면' 전망…中, 코로나방역 완화 [모닝브리핑]</a>]\n"
     ]
    }
   ],
   "source": [
    "import requests\n",
    "from bs4 import BeautifulSoup\n",
    "\n",
    "main_url = 'https://finance.naver.com'\n",
    "sub_url = '/news/mainnews.naver?date='\n",
    "url = main_url + sub_url\n",
    "\n",
    "response = requests.get(url)\n",
    "\n",
    "if response.status_code == 200:\n",
    "    html = response.text\n",
    "    soup = BeautifulSoup(html, 'html.parser')\n",
    "    title = soup.select('#contentarea_left > div.mainNewsList > ul > li > dl > dd > a')\n",
    "    print(title)\n",
    "else : \n",
    "    print(response.status_code)"
   ]
  },
  {
   "cell_type": "code",
   "execution_count": 3,
   "metadata": {},
   "outputs": [
    {
     "data": {
      "text/plain": [
       "[' 달러 약세, 위안 강세 연장…환율, 1270원대 이틀째 하락 예상[외환브리핑]',\n",
       " \" 오늘 이명박·김경수 '특별사면' 전망…中, 코로나방역 완화 [모닝브리핑]\"]"
      ]
     },
     "execution_count": 3,
     "metadata": {},
     "output_type": "execute_result"
    }
   ],
   "source": [
    "newsname = []\n",
    "titles = soup.select('dd.articleSubject')\n",
    "\n",
    "for i in titles:\n",
    "    titlele = i.get_text().replace('\\n','')\n",
    "    newsname.append(titlele)\n",
    "        \n",
    "newsname    "
   ]
  },
  {
   "cell_type": "code",
   "execution_count": 4,
   "metadata": {},
   "outputs": [],
   "source": [
    "soup = BeautifulSoup(html, 'html.parser')\n",
    "list_ = []\n",
    "for each in title:\n",
    "    href = main_url + each['href']\n",
    "    list_.append(href)\n",
    "    "
   ]
  },
  {
   "cell_type": "code",
   "execution_count": 5,
   "metadata": {},
   "outputs": [
    {
     "data": {
      "text/plain": [
       "['https://finance.naver.com/news/news_read.naver?article_id=0005394617&office_id=018&mode=mainnews&type=&date=2022-12-27&page=1',\n",
       " 'https://finance.naver.com/news/news_read.naver?article_id=0004792218&office_id=015&mode=mainnews&type=&date=2022-12-27&page=1']"
      ]
     },
     "execution_count": 5,
     "metadata": {},
     "output_type": "execute_result"
    }
   ],
   "source": [
    "list_\n"
   ]
  },
  {
   "cell_type": "code",
   "execution_count": 6,
   "metadata": {},
   "outputs": [],
   "source": [
    "from datetime import datetime\n",
    "def newsdate() -> str:\n",
    "\tnow = datetime.now()\n",
    "\tdatetime_ = now.strftime('%Y-%m-%d')\n",
    "\tdays = datetime_\n",
    "\n",
    "\treturn days "
   ]
  },
  {
   "cell_type": "code",
   "execution_count": 7,
   "metadata": {},
   "outputs": [
    {
     "data": {
      "text/plain": [
       "'2022-12-27'"
      ]
     },
     "execution_count": 7,
     "metadata": {},
     "output_type": "execute_result"
    }
   ],
   "source": [
    "date = newsdate()\n",
    "date"
   ]
  },
  {
   "cell_type": "code",
   "execution_count": 8,
   "metadata": {},
   "outputs": [
    {
     "data": {
      "text/plain": [
       "['글로벌 달러인덱스 104선 하락 달러화 약세 연장중국 방역 완화 소식에 위안화는 강세 흐름 지속크리스마스 휴일 미국, 유럽 등 주요국 증시 휴장[이데일리 이윤화 기자] 원·달러 환율이 달러화 약세 흐름 연장에 1270원대에서 2거래일 연속 하락할 것으로 예상된다. 중국 위안화도 방역 완화 소식에 강세를 보이고 있다. 다만 미국 뉴욕증시가 크리스마스 공휴일로 휴장한 가운데 거래량이 적어 특별한 재료가 없다면 낙폭은 제한될 수 있다. 사진=AFP27일 서울외국환중개에 따르면 간밤 뉴욕차액결제선물환(NDF) 시장에서 거래된 원·달러 1개월물은 1273.9원에 최종 호가됐다. 최근 1개월물 스와프 포인트(-1.0원)를 고려하면 이날 환율은 전 거래일 종가(1274.8원)보다 0.1원 가량 상승 개장할 것으로 보인다. 이날 환율은 강보합 출발한 뒤 하락 압력 우위에 1270원대에서 하락 흐름으로 전환할 가능성이 커 보인다. 글로벌 달러인덱스는 104선에서 하락 흐름을 이어가고 있다. 현지시간',\n",
       " '◆ 정치인 대거 사면 \\'신년특사\\' 단행오늘(27일) 윤석열 정부 들어 두 번째 특별사면이 단행됩니다. 이명박 전 대통령은 사면·복권, 김경수 전 경남지사는 복권 없는 사면이 이뤄질 것으로 보입니다. 김 전 지사의 경우 사면되더라도 2028년 5월까지 피선거권이 제한돼 차기 대선을 포함해 당분간 공직선거에 출마할 수 없습니다. 아울러 여권의 김기춘 전 대통령 비서실장, 최경환 전 경제부총리, 남재준·이병기·이병호·원세훈 전 국정원장과 야권에선 전병헌 전 청와대 정무수석, 신계륜 전 의원 등이 신년 특사 명단에 포함될 것으로 전망됩니다.◆ 백악관 \"北무인기 침범, 한국과 긴밀 협의\"북한 무인기가 한국 영공을 침범한 것과 관련, 미국 백악관은 이를 인지하고 우리 정부와 긴밀히 협의하고 있다고 밝혔습니다. 연합뉴스 보도에 따르면 서면 질의에 대해 백악관 측은 현지시간 26일 “북한 무인기가 군사분계선을 넘어 비행했다는 보도를 알고 있다. 이번 침범의 성격에 대해 긴밀히 협의하고 있다”며 “']"
      ]
     },
     "execution_count": 8,
     "metadata": {},
     "output_type": "execute_result"
    }
   ],
   "source": [
    "newsct= []\n",
    "for newslist in list_:\n",
    "    response = requests.get(newslist)\n",
    "    \n",
    "\n",
    "    if response.status_code == 200:\n",
    "        html = response.text\n",
    "        soup = BeautifulSoup(html, 'html.parser')\n",
    "        contents = soup.select_one('.articleCont')\n",
    "        cnt = contents.get_text().replace('\\n','')[:500]\n",
    "        \n",
    "    else : \n",
    "        print(response.status_code)\n",
    "    newsct.append(cnt)    \n",
    "    \n",
    "\n",
    "newsct\n",
    "\n",
    "\n"
   ]
  },
  {
   "cell_type": "code",
   "execution_count": 9,
   "metadata": {},
   "outputs": [
    {
     "data": {
      "text/html": [
       "<div>\n",
       "<style scoped>\n",
       "    .dataframe tbody tr th:only-of-type {\n",
       "        vertical-align: middle;\n",
       "    }\n",
       "\n",
       "    .dataframe tbody tr th {\n",
       "        vertical-align: top;\n",
       "    }\n",
       "\n",
       "    .dataframe thead th {\n",
       "        text-align: right;\n",
       "    }\n",
       "</style>\n",
       "<table border=\"1\" class=\"dataframe\">\n",
       "  <thead>\n",
       "    <tr style=\"text-align: right;\">\n",
       "      <th></th>\n",
       "      <th>Newsname</th>\n",
       "      <th>Newslink</th>\n",
       "      <th>News</th>\n",
       "      <th>Newsdate</th>\n",
       "    </tr>\n",
       "  </thead>\n",
       "  <tbody>\n",
       "    <tr>\n",
       "      <th>0</th>\n",
       "      <td>달러 약세, 위안 강세 연장…환율, 1270원대 이틀째 하락 예상[외환브리핑]</td>\n",
       "      <td>https://finance.naver.com/news/news_read.naver...</td>\n",
       "      <td>글로벌 달러인덱스 104선 하락 달러화 약세 연장중국 방역 완화 소식에 위안화는 강...</td>\n",
       "      <td>2022-12-27</td>\n",
       "    </tr>\n",
       "    <tr>\n",
       "      <th>1</th>\n",
       "      <td>오늘 이명박·김경수 '특별사면' 전망…中, 코로나방역 완화 [모닝브리핑]</td>\n",
       "      <td>https://finance.naver.com/news/news_read.naver...</td>\n",
       "      <td>◆ 정치인 대거 사면 '신년특사' 단행오늘(27일) 윤석열 정부 들어 두 번째 특별...</td>\n",
       "      <td>2022-12-27</td>\n",
       "    </tr>\n",
       "  </tbody>\n",
       "</table>\n",
       "</div>"
      ],
      "text/plain": [
       "                                       Newsname  \\\n",
       "0   달러 약세, 위안 강세 연장…환율, 1270원대 이틀째 하락 예상[외환브리핑]   \n",
       "1      오늘 이명박·김경수 '특별사면' 전망…中, 코로나방역 완화 [모닝브리핑]   \n",
       "\n",
       "                                            Newslink  \\\n",
       "0  https://finance.naver.com/news/news_read.naver...   \n",
       "1  https://finance.naver.com/news/news_read.naver...   \n",
       "\n",
       "                                                News    Newsdate  \n",
       "0  글로벌 달러인덱스 104선 하락 달러화 약세 연장중국 방역 완화 소식에 위안화는 강...  2022-12-27  \n",
       "1  ◆ 정치인 대거 사면 '신년특사' 단행오늘(27일) 윤석열 정부 들어 두 번째 특별...  2022-12-27  "
      ]
     },
     "execution_count": 9,
     "metadata": {},
     "output_type": "execute_result"
    }
   ],
   "source": [
    "data = {'Newsname':newsname,'Newslink':list_,'News':newsct,'Newsdate':date}\n",
    "df = pd.DataFrame(data)\n",
    "df.head()"
   ]
  },
  {
   "cell_type": "code",
   "execution_count": 10,
   "metadata": {},
   "outputs": [],
   "source": [
    "#df.to_csv('../workspace/naver_news.csv', sep=',',\n",
    "#encoding='UTF-8')"
   ]
  },
  {
   "cell_type": "code",
   "execution_count": 11,
   "metadata": {},
   "outputs": [],
   "source": [
    "import pymysql"
   ]
  },
  {
   "cell_type": "code",
   "execution_count": 12,
   "metadata": {},
   "outputs": [],
   "source": [
    "pymysql.install_as_MySQLdb()\n",
    "conn= pymysql.connect(\n",
    "    host=\"192.168.50.123\"\n",
    "    ,user=\"admin\"\n",
    "    ,password=\"big15\"\n",
    "    ,db= \"web_data\"\n",
    "    ,charset='utf8'\n",
    ")\n",
    "\n",
    "cursor = conn.cursor()\n",
    "args = df.values.tolist()\n",
    "\n",
    "sql_update= f\"\"\"\n",
    "INSERT INTO news_data\n",
    "VALUES (%s,%s,%s,%s)\n",
    "ON DUPLICATE KEY UPDATE\n",
    "    newsname= VALUES(newsname)\n",
    "    ,newslink= VALUES(newslink)\n",
    "    ,news = VALUES(news)\n",
    "    , newsdate = VALUES(newsdate)\n",
    "\"\"\"\n",
    "\n",
    "cursor.executemany(sql_update, args)\n",
    "\n",
    "conn.commit()\n",
    "conn.close()"
   ]
  },
  {
   "cell_type": "code",
   "execution_count": null,
   "metadata": {},
   "outputs": [],
   "source": []
  }
 ],
 "metadata": {
  "kernelspec": {
   "display_name": "Python 3.9.13 ('project-dev')",
   "language": "python",
   "name": "python3"
  },
  "language_info": {
   "codemirror_mode": {
    "name": "ipython",
    "version": 3
   },
   "file_extension": ".py",
   "mimetype": "text/x-python",
   "name": "python",
   "nbconvert_exporter": "python",
   "pygments_lexer": "ipython3",
   "version": "3.9.13"
  },
  "orig_nbformat": 4,
  "vscode": {
   "interpreter": {
    "hash": "79e10953b4218c489dec5ef004d67b9388bc88b53e23041a56abe687ee306189"
   }
  }
 },
 "nbformat": 4,
 "nbformat_minor": 2
}
