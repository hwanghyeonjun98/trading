{
 "cells": [
  {
   "cell_type": "code",
   "execution_count": 53,
   "metadata": {},
   "outputs": [],
   "source": [
    "import pandas as pd\n",
    "import numpy as numpy\n",
    "import requests\n",
    "from bs4 import BeautifulSoup\n",
    "from urllib.request import urlopen"
   ]
  },
  {
   "cell_type": "code",
   "execution_count": 54,
   "metadata": {},
   "outputs": [
    {
     "name": "stdout",
     "output_type": "stream",
     "text": [
      "[<a href=\"/news/news_read.naver?article_id=0005391077&amp;office_id=018&amp;mode=mainnews&amp;type=&amp;date=2022-12-21&amp;page=1\">BOJ發 엔화 강세 지속…환율, 1280원대 추가 하락 시도[외환브리핑]</a>, <a href=\"/news/news_read.naver?article_id=0004831230&amp;office_id=008&amp;mode=mainnews&amp;type=&amp;date=2022-12-21&amp;page=1\">'과매도' 美증시 5일만에 상승, 테슬라 8%↓[뉴욕마감](종합)</a>, <a href=\"/news/news_read.naver?article_id=0004789762&amp;office_id=015&amp;mode=mainnews&amp;type=&amp;date=2022-12-21&amp;page=1\">뉴욕증시, 5거래일 만에 반등…수도권 대설주의보 [모닝브리핑]</a>, <a href=\"/news/news_read.naver?article_id=0004831218&amp;office_id=008&amp;mode=mainnews&amp;type=&amp;date=2022-12-21&amp;page=1\">\"긴축 막바지\" 美증시 상승마감...테슬라 140달러 붕괴[뉴욕마감]</a>, <a href=\"/news/news_read.naver?article_id=0004135800&amp;office_id=011&amp;mode=mainnews&amp;type=&amp;date=2022-12-21&amp;page=1\">BOJ 후폭풍 美 국채 3.7%에도 나스닥 0.5% 출발 [데일리 국제금융시장]</a>]\n"
     ]
    }
   ],
   "source": [
    "import requests\n",
    "from bs4 import BeautifulSoup\n",
    "\n",
    "main_url = 'https://finance.naver.com'\n",
    "sub_url = '/news/mainnews.naver?date='\n",
    "url = main_url + sub_url\n",
    "\n",
    "response = requests.get(url)\n",
    "\n",
    "if response.status_code == 200:\n",
    "    html = response.text\n",
    "    soup = BeautifulSoup(html, 'html.parser')\n",
    "    title = soup.select('#contentarea_left > div.mainNewsList > ul > li > dl > dd > a')\n",
    "    print(title)\n",
    "else : \n",
    "    print(response.status_code)"
   ]
  },
  {
   "cell_type": "code",
   "execution_count": 55,
   "metadata": {},
   "outputs": [
    {
     "data": {
      "text/plain": [
       "[' BOJ發 엔화 강세 지속…환율, 1280원대 추가 하락 시도[외환브리핑]',\n",
       " \" '과매도' 美증시 5일만에 상승, 테슬라 8%↓[뉴욕마감](종합)\",\n",
       " ' 뉴욕증시, 5거래일 만에 반등…수도권 대설주의보 [모닝브리핑]',\n",
       " ' \"긴축 막바지\" 美증시 상승마감...테슬라 140달러 붕괴[뉴욕마감]',\n",
       " ' BOJ 후폭풍 美 국채 3.7%에도 나스닥 0.5% 출발 [데일리 국제금융시장]']"
      ]
     },
     "execution_count": 55,
     "metadata": {},
     "output_type": "execute_result"
    }
   ],
   "source": [
    "newsname = []\n",
    "titles = soup.select('dd.articleSubject')\n",
    "\n",
    "for i in titles:\n",
    "    titlele = i.get_text().replace('\\n','')\n",
    "    newsname.append(titlele)\n",
    "        \n",
    "newsname    "
   ]
  },
  {
   "cell_type": "code",
   "execution_count": 56,
   "metadata": {},
   "outputs": [],
   "source": [
    "soup = BeautifulSoup(html, 'html.parser')\n",
    "list_ = []\n",
    "for each in title:\n",
    "    href = main_url + each['href']\n",
    "    list_.append(href)\n",
    "    "
   ]
  },
  {
   "cell_type": "code",
   "execution_count": 57,
   "metadata": {},
   "outputs": [
    {
     "data": {
      "text/plain": [
       "['https://finance.naver.com/news/news_read.naver?article_id=0005391077&office_id=018&mode=mainnews&type=&date=2022-12-21&page=1',\n",
       " 'https://finance.naver.com/news/news_read.naver?article_id=0004831230&office_id=008&mode=mainnews&type=&date=2022-12-21&page=1',\n",
       " 'https://finance.naver.com/news/news_read.naver?article_id=0004789762&office_id=015&mode=mainnews&type=&date=2022-12-21&page=1',\n",
       " 'https://finance.naver.com/news/news_read.naver?article_id=0004831218&office_id=008&mode=mainnews&type=&date=2022-12-21&page=1',\n",
       " 'https://finance.naver.com/news/news_read.naver?article_id=0004135800&office_id=011&mode=mainnews&type=&date=2022-12-21&page=1']"
      ]
     },
     "execution_count": 57,
     "metadata": {},
     "output_type": "execute_result"
    }
   ],
   "source": [
    "list_\n"
   ]
  },
  {
   "cell_type": "code",
   "execution_count": 68,
   "metadata": {},
   "outputs": [],
   "source": [
    "from datetime import datetime\n",
    "def newsdate() -> str:\n",
    "\tnow = datetime.now()\n",
    "\tdatetime_ = now.strftime('%Y-%m-%d')\n",
    "\tdays = datetime_\n",
    "\n",
    "\treturn days "
   ]
  },
  {
   "cell_type": "code",
   "execution_count": 70,
   "metadata": {},
   "outputs": [
    {
     "data": {
      "text/plain": [
       "'2022-12-21'"
      ]
     },
     "execution_count": 70,
     "metadata": {},
     "output_type": "execute_result"
    }
   ],
   "source": [
    "date = newsdate()\n",
    "date"
   ]
  },
  {
   "cell_type": "code",
   "execution_count": 59,
   "metadata": {},
   "outputs": [
    {
     "data": {
      "text/plain": [
       "['글로벌 달러인덱스 103선으로 낙폭 확대, 달러 약세日 엔화 달러당 131엔선으로 떨어지며 강세폭 키워뉴욕증시 3대지수 소폭 상승, 글로벌 위험선호 심리[이데일리 이윤화 기자] 원·달러 환율이 1280원대에서 추가 하락을 시도할 전망이다. 전날 일본 중앙은행(BOJ)의 깜짝 통화긴축 조치로 엔화가 급등하면서 달러화가 약세를 보인 영향이다. 달러인덱스는 전날 104선에서 103선으로 하락폭을 키웠다.  사진=로이터/연합21일 서울외국환중개에 따르면 간밤 뉴욕차액결제선물환(NDF) 시장에서 거래된 원·달러 1개월물은 1283.5원에 최종 호가됐다. 최근 1개월물 스와프포인트(-0.95원)를 고려하면 이날 환율은 전 거래일 종가(1289.6원)대비 5.15원 가량 하락 출발 할 것으로 예상된다. 이날도 환율이 하락 마감하게 된다면 3거래일 연속 내리는 것이다.글로벌 달러인덱스는 엔화 강세에 밀려 큰 폭 하락했다. 달러인덱스는 현지시간 20일 오후 6시께 전일 대비 0.051포인트 하락한 ',\n",
       " \"Raindrops hang on a sign for Wall Street outside the New York Stock Exchange in Manhattan in New York City, New York, U.S., October 26, 2020. REUTERS/Mike Segar/File Photo/사진=로이터=뉴스1일본은행의 기습적인 금리 인상 움직임에도 불구, 뉴욕증시가 5거래일 만에 상승 마감했다. 20일(현지시간) 다우지수는 전날보다 92.47포인트(0.28%) 오른 3만2850.01로 마감했다. S&P500지수는 3.97포인트(0.10%) 오른 3821.63으로 거래를 마쳤다. 나스닥지수는 1.08포인트(0.01%) 오른 1만547.11로 장을 마쳤다. 국채 금리는 상승했다. 이날 3.586%로 출발한 10년물 국채금리 수익률은 3.686%로 상승했다.━日중앙은행 '전격적 금리인상'에 장 초반 '불안'━이날 월스트리트는 일본은행의 전격적인 금리인상 행보에 주목했다. \",\n",
       " \"◆뉴욕증시, 日 긴축에도 저가매수 유입 '반등'20일(현지시간) 뉴욕 증시에서 3대 지수가 5거래일 만에 반등했습니다.  일본은행(BOJ)의 예상치 못한 긴축에도 저가 매수세가 유입되면서 소폭 상승했습니다. 뉴욕증권거래소(NYSE)에서 다우존스30산업평균지수는 전장보다 92.20포인트(0.28%) 오른 32,849.74를 기록했습니다. 스탠더드앤드푸어스(S&P)500지수는 전장보다 3.96포인트(0.10%) 상승한 3,821.62로, 나스닥지수는 1.08포인트(0.01%) 오른 10,547.11로 장을 마쳤습니다. 다우 지수는 5거래일 만에 반등했습니다.투자자들은 BOJ의 정책 변화에 따른 달러화 가치 하락, 국채금리 상승, 각국의 긴축 흐름 등에 주목했습니다. 미국 중앙은행(Fed)과 유럽중앙은행(ECB), 잉글랜드 은행(BOE)의 금리 인상에 이어 BOJ는 대규모 초완화적 통화정책을 축소하는 결정을 내렸습니다. BOJ의 정책 변화에 엔화 가치가 급등하고 달러화 가치는 급락했습니다\",\n",
       " 'A street sign on Wall Street outside the New York Stock Exchange September 18, 2007. REUTERS/Brendan McDermid/File Photo일본은행의 기습적인 금리 인상 움직임에도 불구, 뉴욕증시가 상승 마감했다. 20일(현지시간) 다우지수는 전날보다 92.47포인트(0.28%) 오른 3만2850.01로 마감했다. S&P500지수는 3.97포인트(0.10%) 오른 3821.63으로 거래를 마쳤다. 나스닥지수는 1.08포인트(0.01%) 오른 1만547.11로 장을 마쳤다. 국채 금리는 상승했다. 이날 3.586%로 출발한 10년물 국채금리 수익률은 3.686%로 상승했다.이날 월스트리트는 일본은행의 전격적인 금리인상 행보에 주목했다. 전날 일본은행은 장기금리 목표치를 0% 수준으로 유지했지만, 금리 변동폭을 종전 ±0.25%에서 ±0.5％로 변경한다고 발표했다. 시장은 이번 결정을 사실상 금리인상으로 받아들였',\n",
       " 'BOJ 10년 국채금리 변동폭 확대미 10년 국채 한때 연 3.7% 돌파\"머스크, 새 트위터 CEO 물색 중\"[서울경제] 일본은행(BOJ)이 예상치 않게 10년 국채금리 변동폭을 확대하면서 주요국 국채금리가 동반 상승한 가운데 뉴욕증시의 주요 지수가 상승 출발했다.20일(현지 시간) 미 경제 방송 CNBC에 따르면 이날 오전10시38분 현재 뉴욕증권거래소(NYSE)의 다우존스산업평균지수가 전날보다 162.16포인트(0.50%) 오른 3만2919.70에 거래되고 있다.스탠더드앤드푸어스(S&P)500이 18.56포인트(0.49%) 상승한 3836.22, 나스닥은 56.71포인트(0.54%) 뛴 1만602.74를 기록 중이다.전날 BOJ는 전격적으로 10년 국채금리 변동구간을 기존의 ± 0.25％에서 ± 0.5％로 확대했다. 해당 발표 전까지 0.23~0.24% 수준이었던 일본 10년 만기 국채금리는 이후 0.42%까치 치솟았다. 미 10년 물 국채금리도 이날 한때 3.7%를 돌파했다.다']"
      ]
     },
     "execution_count": 59,
     "metadata": {},
     "output_type": "execute_result"
    }
   ],
   "source": [
    "newsct= []\n",
    "for newslist in list_:\n",
    "    response = requests.get(newslist)\n",
    "    \n",
    "\n",
    "    if response.status_code == 200:\n",
    "        html = response.text\n",
    "        soup = BeautifulSoup(html, 'html.parser')\n",
    "        contents = soup.select_one('.articleCont')\n",
    "        cnt = contents.get_text().replace('\\n','')[:500]\n",
    "        \n",
    "    else : \n",
    "        print(response.status_code)\n",
    "    newsct.append(cnt)    \n",
    "    \n",
    "\n",
    "newsct\n",
    "\n",
    "\n"
   ]
  },
  {
   "cell_type": "code",
   "execution_count": 71,
   "metadata": {},
   "outputs": [
    {
     "data": {
      "text/html": [
       "<div>\n",
       "<style scoped>\n",
       "    .dataframe tbody tr th:only-of-type {\n",
       "        vertical-align: middle;\n",
       "    }\n",
       "\n",
       "    .dataframe tbody tr th {\n",
       "        vertical-align: top;\n",
       "    }\n",
       "\n",
       "    .dataframe thead th {\n",
       "        text-align: right;\n",
       "    }\n",
       "</style>\n",
       "<table border=\"1\" class=\"dataframe\">\n",
       "  <thead>\n",
       "    <tr style=\"text-align: right;\">\n",
       "      <th></th>\n",
       "      <th>Newsname</th>\n",
       "      <th>Newslink</th>\n",
       "      <th>News</th>\n",
       "      <th>Newsdate</th>\n",
       "    </tr>\n",
       "  </thead>\n",
       "  <tbody>\n",
       "    <tr>\n",
       "      <th>0</th>\n",
       "      <td>BOJ發 엔화 강세 지속…환율, 1280원대 추가 하락 시도[외환브리핑]</td>\n",
       "      <td>https://finance.naver.com/news/news_read.naver...</td>\n",
       "      <td>글로벌 달러인덱스 103선으로 낙폭 확대, 달러 약세日 엔화 달러당 131엔선으로 ...</td>\n",
       "      <td>2022-12-21</td>\n",
       "    </tr>\n",
       "    <tr>\n",
       "      <th>1</th>\n",
       "      <td>'과매도' 美증시 5일만에 상승, 테슬라 8%↓[뉴욕마감](종합)</td>\n",
       "      <td>https://finance.naver.com/news/news_read.naver...</td>\n",
       "      <td>Raindrops hang on a sign for Wall Street outsi...</td>\n",
       "      <td>2022-12-21</td>\n",
       "    </tr>\n",
       "    <tr>\n",
       "      <th>2</th>\n",
       "      <td>뉴욕증시, 5거래일 만에 반등…수도권 대설주의보 [모닝브리핑]</td>\n",
       "      <td>https://finance.naver.com/news/news_read.naver...</td>\n",
       "      <td>◆뉴욕증시, 日 긴축에도 저가매수 유입 '반등'20일(현지시간) 뉴욕 증시에서 3대...</td>\n",
       "      <td>2022-12-21</td>\n",
       "    </tr>\n",
       "    <tr>\n",
       "      <th>3</th>\n",
       "      <td>\"긴축 막바지\" 美증시 상승마감...테슬라 140달러 붕괴[뉴욕마감]</td>\n",
       "      <td>https://finance.naver.com/news/news_read.naver...</td>\n",
       "      <td>A street sign on Wall Street outside the New Y...</td>\n",
       "      <td>2022-12-21</td>\n",
       "    </tr>\n",
       "    <tr>\n",
       "      <th>4</th>\n",
       "      <td>BOJ 후폭풍 美 국채 3.7%에도 나스닥 0.5% 출발 [데일리 국제금융시장]</td>\n",
       "      <td>https://finance.naver.com/news/news_read.naver...</td>\n",
       "      <td>BOJ 10년 국채금리 변동폭 확대미 10년 국채 한때 연 3.7% 돌파\"머스크, ...</td>\n",
       "      <td>2022-12-21</td>\n",
       "    </tr>\n",
       "  </tbody>\n",
       "</table>\n",
       "</div>"
      ],
      "text/plain": [
       "                                        Newsname  \\\n",
       "0       BOJ發 엔화 강세 지속…환율, 1280원대 추가 하락 시도[외환브리핑]   \n",
       "1           '과매도' 美증시 5일만에 상승, 테슬라 8%↓[뉴욕마감](종합)   \n",
       "2             뉴욕증시, 5거래일 만에 반등…수도권 대설주의보 [모닝브리핑]   \n",
       "3         \"긴축 막바지\" 美증시 상승마감...테슬라 140달러 붕괴[뉴욕마감]   \n",
       "4   BOJ 후폭풍 美 국채 3.7%에도 나스닥 0.5% 출발 [데일리 국제금융시장]   \n",
       "\n",
       "                                            Newslink  \\\n",
       "0  https://finance.naver.com/news/news_read.naver...   \n",
       "1  https://finance.naver.com/news/news_read.naver...   \n",
       "2  https://finance.naver.com/news/news_read.naver...   \n",
       "3  https://finance.naver.com/news/news_read.naver...   \n",
       "4  https://finance.naver.com/news/news_read.naver...   \n",
       "\n",
       "                                                News    Newsdate  \n",
       "0  글로벌 달러인덱스 103선으로 낙폭 확대, 달러 약세日 엔화 달러당 131엔선으로 ...  2022-12-21  \n",
       "1  Raindrops hang on a sign for Wall Street outsi...  2022-12-21  \n",
       "2  ◆뉴욕증시, 日 긴축에도 저가매수 유입 '반등'20일(현지시간) 뉴욕 증시에서 3대...  2022-12-21  \n",
       "3  A street sign on Wall Street outside the New Y...  2022-12-21  \n",
       "4  BOJ 10년 국채금리 변동폭 확대미 10년 국채 한때 연 3.7% 돌파\"머스크, ...  2022-12-21  "
      ]
     },
     "execution_count": 71,
     "metadata": {},
     "output_type": "execute_result"
    }
   ],
   "source": [
    "data = {'Newsname':newsname,'Newslink':list_,'News':newsct,'Newsdate':date}\n",
    "df = pd.DataFrame(data)\n",
    "df.head()"
   ]
  },
  {
   "cell_type": "code",
   "execution_count": 61,
   "metadata": {},
   "outputs": [],
   "source": [
    "#df.to_csv('../workspace/naver_news.csv', sep=',',\n",
    "#encoding='UTF-8')"
   ]
  },
  {
   "cell_type": "code",
   "execution_count": 62,
   "metadata": {},
   "outputs": [],
   "source": [
    "import pymysql"
   ]
  },
  {
   "cell_type": "code",
   "execution_count": 73,
   "metadata": {},
   "outputs": [],
   "source": [
    "pymysql.install_as_MySQLdb()\n",
    "conn= pymysql.connect(\n",
    "    host=\"192.168.50.123\"\n",
    "    ,user=\"admin\"\n",
    "    ,password=\"big15\"\n",
    "    ,db= \"web_data\"\n",
    "    ,charset='utf8'\n",
    ")\n",
    "\n",
    "cursor = conn.cursor()\n",
    "args = df.values.tolist()\n",
    "\n",
    "sql_update= f\"\"\"\n",
    "INSERT INTO news_data\n",
    "VALUES (%s,%s,%s,%s)\n",
    "ON DUPLICATE KEY UPDATE\n",
    "    newsname= VALUES(newsname)\n",
    "    ,newslink= VALUES(newslink)\n",
    "    ,news = VALUES(news)\n",
    "    , newsdate = VALUES(newsdate)\n",
    "\"\"\"\n",
    "\n",
    "cursor.executemany(sql_update, args)\n",
    "\n",
    "conn.commit()\n",
    "conn.close()"
   ]
  },
  {
   "cell_type": "code",
   "execution_count": null,
   "metadata": {},
   "outputs": [],
   "source": []
  }
 ],
 "metadata": {
  "kernelspec": {
   "display_name": "Python 3.9.13 ('project-dev')",
   "language": "python",
   "name": "python3"
  },
  "language_info": {
   "codemirror_mode": {
    "name": "ipython",
    "version": 3
   },
   "file_extension": ".py",
   "mimetype": "text/x-python",
   "name": "python",
   "nbconvert_exporter": "python",
   "pygments_lexer": "ipython3",
   "version": "3.9.13"
  },
  "orig_nbformat": 4,
  "vscode": {
   "interpreter": {
    "hash": "79e10953b4218c489dec5ef004d67b9388bc88b53e23041a56abe687ee306189"
   }
  }
 },
 "nbformat": 4,
 "nbformat_minor": 2
}
