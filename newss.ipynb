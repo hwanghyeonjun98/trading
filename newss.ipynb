{
 "cells": [
  {
   "cell_type": "code",
   "execution_count": 1,
   "metadata": {},
   "outputs": [],
   "source": [
    "import pandas as pd\n",
    "import numpy as numpy\n",
    "import requests\n",
    "from bs4 import BeautifulSoup\n",
    "from urllib.request import urlopen"
   ]
  },
  {
   "cell_type": "code",
   "execution_count": 2,
   "metadata": {},
   "outputs": [
    {
     "name": "stdout",
     "output_type": "stream",
     "text": [
      "[<a href=\"/news/news_read.naver?article_id=0005391918&amp;office_id=018&amp;mode=mainnews&amp;type=&amp;date=2022-12-22&amp;page=1\">위험선호 심리+연말 네고…환율, 1280원 하향 이탈 시도[외환브리핑]</a>, <a href=\"/news/news_read.naver?article_id=0004831694&amp;office_id=008&amp;mode=mainnews&amp;type=&amp;date=2022-12-22&amp;page=1\">\"생각보다 실적좋네\" 나이키發 훈풍에 증시↑[뉴욕마감](종합)</a>, <a href=\"/news/news_read.naver?article_id=0004831676&amp;office_id=008&amp;mode=mainnews&amp;type=&amp;date=2022-12-22&amp;page=1\">\"실적 괜찮네\" 안도감에 증시 'UP', 나이키 12%↑[뉴욕마감]</a>, <a href=\"/news/news_read.naver?article_id=0004790238&amp;office_id=015&amp;mode=mainnews&amp;type=&amp;date=2022-12-22&amp;page=1\">美, 우크라에 추가 군사 지원…뉴욕증시, 실적·지표 개선에 ↑[모닝브리핑]</a>]\n"
     ]
    }
   ],
   "source": [
    "import requests\n",
    "from bs4 import BeautifulSoup\n",
    "\n",
    "main_url = 'https://finance.naver.com'\n",
    "sub_url = '/news/mainnews.naver?date='\n",
    "url = main_url + sub_url\n",
    "\n",
    "response = requests.get(url)\n",
    "\n",
    "if response.status_code == 200:\n",
    "    html = response.text\n",
    "    soup = BeautifulSoup(html, 'html.parser')\n",
    "    title = soup.select('#contentarea_left > div.mainNewsList > ul > li > dl > dd > a')\n",
    "    print(title)\n",
    "else : \n",
    "    print(response.status_code)"
   ]
  },
  {
   "cell_type": "code",
   "execution_count": 3,
   "metadata": {},
   "outputs": [
    {
     "data": {
      "text/plain": [
       "[' 위험선호 심리+연말 네고…환율, 1280원 하향 이탈 시도[외환브리핑]',\n",
       " ' \"생각보다 실적좋네\" 나이키發 훈풍에 증시↑[뉴욕마감](종합)',\n",
       " ' \"실적 괜찮네\" 안도감에 증시 \\'UP\\', 나이키 12%↑[뉴욕마감]',\n",
       " ' 美, 우크라에 추가 군사 지원…뉴욕증시, 실적·지표 개선에 ↑[모닝브리핑]']"
      ]
     },
     "execution_count": 3,
     "metadata": {},
     "output_type": "execute_result"
    }
   ],
   "source": [
    "newsname = []\n",
    "titles = soup.select('dd.articleSubject')\n",
    "\n",
    "for i in titles:\n",
    "    titlele = i.get_text().replace('\\n','')\n",
    "    newsname.append(titlele)\n",
    "        \n",
    "newsname    "
   ]
  },
  {
   "cell_type": "code",
   "execution_count": 4,
   "metadata": {},
   "outputs": [],
   "source": [
    "soup = BeautifulSoup(html, 'html.parser')\n",
    "list_ = []\n",
    "for each in title:\n",
    "    href = main_url + each['href']\n",
    "    list_.append(href)\n",
    "    "
   ]
  },
  {
   "cell_type": "code",
   "execution_count": 5,
   "metadata": {},
   "outputs": [
    {
     "data": {
      "text/plain": [
       "['https://finance.naver.com/news/news_read.naver?article_id=0005391918&office_id=018&mode=mainnews&type=&date=2022-12-22&page=1',\n",
       " 'https://finance.naver.com/news/news_read.naver?article_id=0004831694&office_id=008&mode=mainnews&type=&date=2022-12-22&page=1',\n",
       " 'https://finance.naver.com/news/news_read.naver?article_id=0004831676&office_id=008&mode=mainnews&type=&date=2022-12-22&page=1',\n",
       " 'https://finance.naver.com/news/news_read.naver?article_id=0004790238&office_id=015&mode=mainnews&type=&date=2022-12-22&page=1']"
      ]
     },
     "execution_count": 5,
     "metadata": {},
     "output_type": "execute_result"
    }
   ],
   "source": [
    "list_\n"
   ]
  },
  {
   "cell_type": "code",
   "execution_count": 6,
   "metadata": {},
   "outputs": [],
   "source": [
    "from datetime import datetime\n",
    "def newsdate() -> str:\n",
    "\tnow = datetime.now()\n",
    "\tdatetime_ = now.strftime('%Y-%m-%d')\n",
    "\tdays = datetime_\n",
    "\n",
    "\treturn days "
   ]
  },
  {
   "cell_type": "code",
   "execution_count": 7,
   "metadata": {},
   "outputs": [
    {
     "data": {
      "text/plain": [
       "'2022-12-22'"
      ]
     },
     "execution_count": 7,
     "metadata": {},
     "output_type": "execute_result"
    }
   ],
   "source": [
    "date = newsdate()\n",
    "date"
   ]
  },
  {
   "cell_type": "code",
   "execution_count": 8,
   "metadata": {},
   "outputs": [
    {
     "data": {
      "text/plain": [
       "['美달러화 강세에도 역외 환율은 4원 가까이 하락뉴욕증시 이틀 연속 반등, 글로벌 위험 선호 심리연말 수출업체 네고 등 달러 매도 흐름 우위 주목[이데일리 이윤화 기자] 원·달러 환율이 1280원대 하향 이탈을 시도할 전망이다. 연말을 앞둔 수출업체 네고 등 달러 매도 우위를 보이는 가운데 글로벌 위험선호 심리가 이어지면서 4거래일 연속 하락을 시도할 것으로 보인다. 일본 엔화, 중국 위안화 모두 약세 흐름으로 돌아서면서 원화 추가 반등폭은 크지 않을 수 있다. 또 환율이 1280원대 초반으로 하락한다면 하단의 저가 매수가 나올 가능성도 크다. (사진=AFP)22일 서울외국환중개에 따르면 간밤 뉴욕차액결제선물환(NDF) 시장에서 거래된 원·달러 1개월물은 1280.75원에 최종 호가됐다. 최근 1개월물 스와프포인트(-1.10원)를 고려하면 이날 환율은 전 거래일 종가(1285.7원)대비 3.85원 가량 하락 출발 할 전망이다. 이날 환율이 종가 기준 하락한다면 4거래일 연속 내리게 된',\n",
       " 'The New York Stock Exchange (NYSE) in New York City, where markets roiled after Russia continues to attack Ukraine, in New York, U.S., February 24, 2022. REUTERS/Caitlin Ochs/사진=로이터=뉴스1경기침체 가능성에도 불구, 기업들의 수익이 우려했던 것보다 양호할 수 있다는 희망 속에서 뉴욕증시가 상승했다. 호실적을 내놓은 나이키는 12% 이상 급등했고, 미국 주식은 3주 만에 가장 큰 일일 상승폭을 기록했다.21일(현지시간) 다우지수는 전날보다 526.74포인트(1.60%) 오른 3만3376.48로 마감했다. S&P500지수는 56.82포인트(1.49%) 오른 3878.44로 거래를 마쳤다. 나스닥지수는 162.26포인트(1.54%) 오른 1만709.37로 장을 마쳤다. 국채 금리는 하락했다. 이날 3.690%로 출발한 10년물 국채금리 수익률은 3.',\n",
       " 'A Wall Street sign is pictured outside the New York Stock Exchange in New York, October 28, 2013. REUTERS/Carlo Allegri/File Photo경기침체 가능성에도 불구, 기업들의 수익이 우려했던 것보다 양호할 수 있다는 희망 속에서 뉴욕증시가 상승했다. 호실적을 내놓은 나이키는 12% 이상 급등했다.21일(현지시간) 다우지수는 전날보다 526.74포인트(1.60%) 오른 3만3376.48로 마감했다. S&P500지수는 56.82포인트(1.49%) 오른 3878.44로 거래를 마쳤다. 나스닥지수는 162.26포인트(1.54%) 오른 1만709.37로 장을 마쳤다. 국채 금리는 하락했다. 이날 3.690%로 출발한 10년물 국채금리 수익률은 3.676%로 하락했다.이날 증시는 나이키와 페덱스의 실적에 주목했다. 나이키는 월가의 분기 실적 전망치를 상회하는 실적을 내놓으면서 주가가 12.17% 급등했',\n",
       " '◆ 美, 우크라에 2조3000억원 규모 추가 군사 지원미국 정부는 현지시간 21일 러시아의 침공을 받은 우크라이나에 18억5000만달러(약 2조3000억원) 규모의 군사적 지원을 추가로 제공한다고 발표했습니다. 토니 블링컨 국무장관은 성명에서 \"러시아가 우크라이나 핵심 기간 시설에 대한 침공을 이어가는 가운데 미국은 젤렌스키 대통령의 미국 방문을 환영한다\"며 이 같은 지원 계획을 밝혔습니다. 조 바이든 대통령은 러시아의 우크라이나 침공 300일이 되는 이날 오후 백악관에서 볼로디미르 젤렌스키 대통령과 정상 회담을 했습니다. 이로써 바이든 행정부 출범 이후 우크라이나에 대한 지원 규모는 모두 219억달러(약 28조2000억원)로 늘어나게 됐습니다. 특히 이번 지원에는 처음으로 패트리엇 방공 미사일이 포함됐습니다.◆ 뉴욕증시, 실적·지표 개선에 상승…다우 1.6%↑간밤 뉴욕증시에서 주요 지수는 기업들의 실적이 긍정적으로 나오고 소비자신뢰지수가 개선됐다는 소식에 상승했습니다. 현지시간 2']"
      ]
     },
     "execution_count": 8,
     "metadata": {},
     "output_type": "execute_result"
    }
   ],
   "source": [
    "newsct= []\n",
    "for newslist in list_:\n",
    "    response = requests.get(newslist)\n",
    "    \n",
    "\n",
    "    if response.status_code == 200:\n",
    "        html = response.text\n",
    "        soup = BeautifulSoup(html, 'html.parser')\n",
    "        contents = soup.select_one('.articleCont')\n",
    "        cnt = contents.get_text().replace('\\n','')[:500]\n",
    "        \n",
    "    else : \n",
    "        print(response.status_code)\n",
    "    newsct.append(cnt)    \n",
    "    \n",
    "\n",
    "newsct\n",
    "\n",
    "\n"
   ]
  },
  {
   "cell_type": "code",
   "execution_count": 9,
   "metadata": {},
   "outputs": [
    {
     "data": {
      "text/html": [
       "<div>\n",
       "<style scoped>\n",
       "    .dataframe tbody tr th:only-of-type {\n",
       "        vertical-align: middle;\n",
       "    }\n",
       "\n",
       "    .dataframe tbody tr th {\n",
       "        vertical-align: top;\n",
       "    }\n",
       "\n",
       "    .dataframe thead th {\n",
       "        text-align: right;\n",
       "    }\n",
       "</style>\n",
       "<table border=\"1\" class=\"dataframe\">\n",
       "  <thead>\n",
       "    <tr style=\"text-align: right;\">\n",
       "      <th></th>\n",
       "      <th>Newsname</th>\n",
       "      <th>Newslink</th>\n",
       "      <th>News</th>\n",
       "      <th>Newsdate</th>\n",
       "    </tr>\n",
       "  </thead>\n",
       "  <tbody>\n",
       "    <tr>\n",
       "      <th>0</th>\n",
       "      <td>위험선호 심리+연말 네고…환율, 1280원 하향 이탈 시도[외환브리핑]</td>\n",
       "      <td>https://finance.naver.com/news/news_read.naver...</td>\n",
       "      <td>美달러화 강세에도 역외 환율은 4원 가까이 하락뉴욕증시 이틀 연속 반등, 글로벌 위...</td>\n",
       "      <td>2022-12-22</td>\n",
       "    </tr>\n",
       "    <tr>\n",
       "      <th>1</th>\n",
       "      <td>\"생각보다 실적좋네\" 나이키發 훈풍에 증시↑[뉴욕마감](종합)</td>\n",
       "      <td>https://finance.naver.com/news/news_read.naver...</td>\n",
       "      <td>The New York Stock Exchange (NYSE) in New York...</td>\n",
       "      <td>2022-12-22</td>\n",
       "    </tr>\n",
       "    <tr>\n",
       "      <th>2</th>\n",
       "      <td>\"실적 괜찮네\" 안도감에 증시 'UP', 나이키 12%↑[뉴욕마감]</td>\n",
       "      <td>https://finance.naver.com/news/news_read.naver...</td>\n",
       "      <td>A Wall Street sign is pictured outside the New...</td>\n",
       "      <td>2022-12-22</td>\n",
       "    </tr>\n",
       "    <tr>\n",
       "      <th>3</th>\n",
       "      <td>美, 우크라에 추가 군사 지원…뉴욕증시, 실적·지표 개선에 ↑[모닝브리핑]</td>\n",
       "      <td>https://finance.naver.com/news/news_read.naver...</td>\n",
       "      <td>◆ 美, 우크라에 2조3000억원 규모 추가 군사 지원미국 정부는 현지시간 21일 ...</td>\n",
       "      <td>2022-12-22</td>\n",
       "    </tr>\n",
       "  </tbody>\n",
       "</table>\n",
       "</div>"
      ],
      "text/plain": [
       "                                     Newsname  \\\n",
       "0     위험선호 심리+연말 네고…환율, 1280원 하향 이탈 시도[외환브리핑]   \n",
       "1          \"생각보다 실적좋네\" 나이키發 훈풍에 증시↑[뉴욕마감](종합)   \n",
       "2       \"실적 괜찮네\" 안도감에 증시 'UP', 나이키 12%↑[뉴욕마감]   \n",
       "3   美, 우크라에 추가 군사 지원…뉴욕증시, 실적·지표 개선에 ↑[모닝브리핑]   \n",
       "\n",
       "                                            Newslink  \\\n",
       "0  https://finance.naver.com/news/news_read.naver...   \n",
       "1  https://finance.naver.com/news/news_read.naver...   \n",
       "2  https://finance.naver.com/news/news_read.naver...   \n",
       "3  https://finance.naver.com/news/news_read.naver...   \n",
       "\n",
       "                                                News    Newsdate  \n",
       "0  美달러화 강세에도 역외 환율은 4원 가까이 하락뉴욕증시 이틀 연속 반등, 글로벌 위...  2022-12-22  \n",
       "1  The New York Stock Exchange (NYSE) in New York...  2022-12-22  \n",
       "2  A Wall Street sign is pictured outside the New...  2022-12-22  \n",
       "3  ◆ 美, 우크라에 2조3000억원 규모 추가 군사 지원미국 정부는 현지시간 21일 ...  2022-12-22  "
      ]
     },
     "execution_count": 9,
     "metadata": {},
     "output_type": "execute_result"
    }
   ],
   "source": [
    "data = {'Newsname':newsname,'Newslink':list_,'News':newsct,'Newsdate':date}\n",
    "df = pd.DataFrame(data)\n",
    "df.head()"
   ]
  },
  {
   "cell_type": "code",
   "execution_count": 10,
   "metadata": {},
   "outputs": [],
   "source": [
    "#df.to_csv('../workspace/naver_news.csv', sep=',',\n",
    "#encoding='UTF-8')"
   ]
  },
  {
   "cell_type": "code",
   "execution_count": 11,
   "metadata": {},
   "outputs": [],
   "source": [
    "import pymysql"
   ]
  },
  {
   "cell_type": "code",
   "execution_count": 12,
   "metadata": {},
   "outputs": [],
   "source": [
    "pymysql.install_as_MySQLdb()\n",
    "conn= pymysql.connect(\n",
    "    host=\"192.168.50.123\"\n",
    "    ,user=\"admin\"\n",
    "    ,password=\"big15\"\n",
    "    ,db= \"web_data\"\n",
    "    ,charset='utf8'\n",
    ")\n",
    "\n",
    "cursor = conn.cursor()\n",
    "args = df.values.tolist()\n",
    "\n",
    "sql_update= f\"\"\"\n",
    "INSERT INTO news_data\n",
    "VALUES (%s,%s,%s,%s)\n",
    "ON DUPLICATE KEY UPDATE\n",
    "    newsname= VALUES(newsname)\n",
    "    ,newslink= VALUES(newslink)\n",
    "    ,news = VALUES(news)\n",
    "    , newsdate = VALUES(newsdate)\n",
    "\"\"\"\n",
    "\n",
    "cursor.executemany(sql_update, args)\n",
    "\n",
    "conn.commit()\n",
    "conn.close()"
   ]
  },
  {
   "cell_type": "code",
   "execution_count": null,
   "metadata": {},
   "outputs": [],
   "source": []
  }
 ],
 "metadata": {
  "kernelspec": {
   "display_name": "Python 3.9.13 ('project-dev')",
   "language": "python",
   "name": "python3"
  },
  "language_info": {
   "codemirror_mode": {
    "name": "ipython",
    "version": 3
   },
   "file_extension": ".py",
   "mimetype": "text/x-python",
   "name": "python",
   "nbconvert_exporter": "python",
   "pygments_lexer": "ipython3",
   "version": "3.9.13"
  },
  "orig_nbformat": 4,
  "vscode": {
   "interpreter": {
    "hash": "79e10953b4218c489dec5ef004d67b9388bc88b53e23041a56abe687ee306189"
   }
  }
 },
 "nbformat": 4,
 "nbformat_minor": 2
}
