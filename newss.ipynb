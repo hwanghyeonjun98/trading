{
 "cells": [
  {
   "cell_type": "code",
   "execution_count": 1,
   "metadata": {},
   "outputs": [],
   "source": [
    "import pandas as pd\n",
    "import numpy as numpy\n",
    "import requests\n",
    "from bs4 import BeautifulSoup\n",
    "from urllib.request import urlopen"
   ]
  },
  {
   "cell_type": "code",
   "execution_count": 2,
   "metadata": {},
   "outputs": [
    {
     "name": "stdout",
     "output_type": "stream",
     "text": [
      "[<a href=\"/news/news_read.naver?article_id=0005196663&amp;office_id=277&amp;mode=mainnews&amp;type=&amp;date=2022-12-26&amp;page=1\">[굿모닝 증시]韓 증시서 짐 싸는 외국인 vs 배당 노리는 기관투자자</a>, <a href=\"/news/news_read.naver?article_id=0005393903&amp;office_id=018&amp;mode=mainnews&amp;type=&amp;date=2022-12-26&amp;page=1\">환율, 1280원선 지지력 테스트…상하방 압력 혼재[외환브리핑]</a>]\n"
     ]
    }
   ],
   "source": [
    "import requests\n",
    "from bs4 import BeautifulSoup\n",
    "\n",
    "main_url = 'https://finance.naver.com'\n",
    "sub_url = '/news/mainnews.naver?date='\n",
    "url = main_url + sub_url\n",
    "\n",
    "response = requests.get(url)\n",
    "\n",
    "if response.status_code == 200:\n",
    "    html = response.text\n",
    "    soup = BeautifulSoup(html, 'html.parser')\n",
    "    title = soup.select('#contentarea_left > div.mainNewsList > ul > li > dl > dd > a')\n",
    "    print(title)\n",
    "else : \n",
    "    print(response.status_code)"
   ]
  },
  {
   "cell_type": "code",
   "execution_count": 3,
   "metadata": {},
   "outputs": [
    {
     "data": {
      "text/plain": [
       "[' [굿모닝 증시]韓 증시서 짐 싸는 외국인 vs 배당 노리는 기관투자자',\n",
       " ' 환율, 1280원선 지지력 테스트…상하방 압력 혼재[외환브리핑]']"
      ]
     },
     "execution_count": 3,
     "metadata": {},
     "output_type": "execute_result"
    }
   ],
   "source": [
    "newsname = []\n",
    "titles = soup.select('dd.articleSubject')\n",
    "\n",
    "for i in titles:\n",
    "    titlele = i.get_text().replace('\\n','')\n",
    "    newsname.append(titlele)\n",
    "        \n",
    "newsname    "
   ]
  },
  {
   "cell_type": "code",
   "execution_count": 4,
   "metadata": {},
   "outputs": [],
   "source": [
    "soup = BeautifulSoup(html, 'html.parser')\n",
    "list_ = []\n",
    "for each in title:\n",
    "    href = main_url + each['href']\n",
    "    list_.append(href)\n",
    "    "
   ]
  },
  {
   "cell_type": "code",
   "execution_count": 5,
   "metadata": {},
   "outputs": [
    {
     "data": {
      "text/plain": [
       "['https://finance.naver.com/news/news_read.naver?article_id=0005196663&office_id=277&mode=mainnews&type=&date=2022-12-26&page=1',\n",
       " 'https://finance.naver.com/news/news_read.naver?article_id=0005393903&office_id=018&mode=mainnews&type=&date=2022-12-26&page=1']"
      ]
     },
     "execution_count": 5,
     "metadata": {},
     "output_type": "execute_result"
    }
   ],
   "source": [
    "list_\n"
   ]
  },
  {
   "cell_type": "code",
   "execution_count": 6,
   "metadata": {},
   "outputs": [],
   "source": [
    "from datetime import datetime\n",
    "def newsdate() -> str:\n",
    "\tnow = datetime.now()\n",
    "\tdatetime_ = now.strftime('%Y-%m-%d')\n",
    "\tdays = datetime_\n",
    "\n",
    "\treturn days "
   ]
  },
  {
   "cell_type": "code",
   "execution_count": 7,
   "metadata": {},
   "outputs": [
    {
     "data": {
      "text/plain": [
       "'2022-12-26'"
      ]
     },
     "execution_count": 7,
     "metadata": {},
     "output_type": "execute_result"
    }
   ],
   "source": [
    "date = newsdate()\n",
    "date"
   ]
  },
  {
   "cell_type": "code",
   "execution_count": 8,
   "metadata": {},
   "outputs": [
    {
     "data": {
      "text/plain": [
       "[\"지난주 美증시, 경기침체 우려 속 움직임 제한적배당 노린 기관 투자자 수급 주목외국인 순매도세 더 강해질 듯[이미지출처=연합뉴스]올해 증시 마감일까지 4거래일이 남은 가운데 시장 분위기가 급반전하기는 어려울 것으로 보인다. 배당을 받기 위한 기관의 순매수세가 이어지고 있지만, 경기침체 우려에 외국인들의 순매도 규모가 커지고 있어 부담 요인으로 작용하고 있다.서상영 미래에셋증권 연구원 “경기 침체 우려 속 기관 투자자 수급 주목”지난주 금요일 미국 증시는 물가가 안정세를 보인다는 소식에도 경기침체 이슈를 반영하며 제한된 움직임을 나타냈다. '11월 개인소비지출(PCE)' 발표에서 개인소비가 전월 대비 0.1% 증가(전달 0.9% 증가)하는 데 그치면서 경기 우려를 더 키운 것이다. 저축률도 2.2%에서 2.4%로 증가하며 미국 개인들의 소비가 줄어들고 있다는 게 확인됐다.경기침체 우려는 국내 증시에 부정적이다. 미국의 소비지출이 감소하면서 한국의 대미 수출이 줄어들 가능성이 높기 때문\",\n",
       " '달러인덱스 104선 소폭 하락 흐름, 달러 약세亞 통화 혼조…中 위안화 강세, 日 엔화 약세수급 흐름에 따라 환율 변동성 커질 가능성도[이데일리 이윤화 기자] 원·달러 환율이 역외 환율을 따라 강보합 개장한 뒤 1280원대 지지선을 테스트 할 것으로 예상된다. 주요국 증시 휴장으로 인한 거래량 감소 속에 수급 측면에서 수출업체 네고 등 하방 압력과 결제 등 상방 압력 중 어느 한 쪽이 우위를 보이느냐에 따라 환율 방향성이 결정될 수 있다. 사진=로이터/연합26일 서울외국환중개에 따르면 간밤 뉴욕차액결제선물환(NDF) 시장에서 거래된 원·달러 1개월물은 1280.0원에 최종 호가됐다. 최근 1개월물 스와프 포인트(-0.9원)를 고려하면 이날 환율은 전 거래일 종가(1280.8원)보다 0.1원 가량 상승 개장할 것으로 보인다. 이날 환율은 역외 환율을 따라 소폭 상승 출발한 뒤 상하방 압력을 동시에 받을 수 있다. 달러인덱스는 104선에서 하락하고 있다. 지난주 공개된 미국 소비 지표가']"
      ]
     },
     "execution_count": 8,
     "metadata": {},
     "output_type": "execute_result"
    }
   ],
   "source": [
    "newsct= []\n",
    "for newslist in list_:\n",
    "    response = requests.get(newslist)\n",
    "    \n",
    "\n",
    "    if response.status_code == 200:\n",
    "        html = response.text\n",
    "        soup = BeautifulSoup(html, 'html.parser')\n",
    "        contents = soup.select_one('.articleCont')\n",
    "        cnt = contents.get_text().replace('\\n','')[:500]\n",
    "        \n",
    "    else : \n",
    "        print(response.status_code)\n",
    "    newsct.append(cnt)    \n",
    "    \n",
    "\n",
    "newsct\n",
    "\n",
    "\n"
   ]
  },
  {
   "cell_type": "code",
   "execution_count": 9,
   "metadata": {},
   "outputs": [
    {
     "data": {
      "text/html": [
       "<div>\n",
       "<style scoped>\n",
       "    .dataframe tbody tr th:only-of-type {\n",
       "        vertical-align: middle;\n",
       "    }\n",
       "\n",
       "    .dataframe tbody tr th {\n",
       "        vertical-align: top;\n",
       "    }\n",
       "\n",
       "    .dataframe thead th {\n",
       "        text-align: right;\n",
       "    }\n",
       "</style>\n",
       "<table border=\"1\" class=\"dataframe\">\n",
       "  <thead>\n",
       "    <tr style=\"text-align: right;\">\n",
       "      <th></th>\n",
       "      <th>Newsname</th>\n",
       "      <th>Newslink</th>\n",
       "      <th>News</th>\n",
       "      <th>Newsdate</th>\n",
       "    </tr>\n",
       "  </thead>\n",
       "  <tbody>\n",
       "    <tr>\n",
       "      <th>0</th>\n",
       "      <td>[굿모닝 증시]韓 증시서 짐 싸는 외국인 vs 배당 노리는 기관투자자</td>\n",
       "      <td>https://finance.naver.com/news/news_read.naver...</td>\n",
       "      <td>지난주 美증시, 경기침체 우려 속 움직임 제한적배당 노린 기관 투자자 수급 주목외국...</td>\n",
       "      <td>2022-12-26</td>\n",
       "    </tr>\n",
       "    <tr>\n",
       "      <th>1</th>\n",
       "      <td>환율, 1280원선 지지력 테스트…상하방 압력 혼재[외환브리핑]</td>\n",
       "      <td>https://finance.naver.com/news/news_read.naver...</td>\n",
       "      <td>달러인덱스 104선 소폭 하락 흐름, 달러 약세亞 통화 혼조…中 위안화 강세, 日 ...</td>\n",
       "      <td>2022-12-26</td>\n",
       "    </tr>\n",
       "  </tbody>\n",
       "</table>\n",
       "</div>"
      ],
      "text/plain": [
       "                                  Newsname  \\\n",
       "0   [굿모닝 증시]韓 증시서 짐 싸는 외국인 vs 배당 노리는 기관투자자   \n",
       "1      환율, 1280원선 지지력 테스트…상하방 압력 혼재[외환브리핑]   \n",
       "\n",
       "                                            Newslink  \\\n",
       "0  https://finance.naver.com/news/news_read.naver...   \n",
       "1  https://finance.naver.com/news/news_read.naver...   \n",
       "\n",
       "                                                News    Newsdate  \n",
       "0  지난주 美증시, 경기침체 우려 속 움직임 제한적배당 노린 기관 투자자 수급 주목외국...  2022-12-26  \n",
       "1  달러인덱스 104선 소폭 하락 흐름, 달러 약세亞 통화 혼조…中 위안화 강세, 日 ...  2022-12-26  "
      ]
     },
     "execution_count": 9,
     "metadata": {},
     "output_type": "execute_result"
    }
   ],
   "source": [
    "data = {'Newsname':newsname,'Newslink':list_,'News':newsct,'Newsdate':date}\n",
    "df = pd.DataFrame(data)\n",
    "df.head()"
   ]
  },
  {
   "cell_type": "code",
   "execution_count": 10,
   "metadata": {},
   "outputs": [],
   "source": [
    "#df.to_csv('../workspace/naver_news.csv', sep=',',\n",
    "#encoding='UTF-8')"
   ]
  },
  {
   "cell_type": "code",
   "execution_count": 11,
   "metadata": {},
   "outputs": [],
   "source": [
    "import pymysql"
   ]
  },
  {
   "cell_type": "code",
   "execution_count": 12,
   "metadata": {},
   "outputs": [],
   "source": [
    "pymysql.install_as_MySQLdb()\n",
    "conn= pymysql.connect(\n",
    "    host=\"192.168.50.123\"\n",
    "    ,user=\"admin\"\n",
    "    ,password=\"big15\"\n",
    "    ,db= \"web_data\"\n",
    "    ,charset='utf8'\n",
    ")\n",
    "\n",
    "cursor = conn.cursor()\n",
    "args = df.values.tolist()\n",
    "\n",
    "sql_update= f\"\"\"\n",
    "INSERT INTO news_data\n",
    "VALUES (%s,%s,%s,%s)\n",
    "ON DUPLICATE KEY UPDATE\n",
    "    newsname= VALUES(newsname)\n",
    "    ,newslink= VALUES(newslink)\n",
    "    ,news = VALUES(news)\n",
    "    , newsdate = VALUES(newsdate)\n",
    "\"\"\"\n",
    "\n",
    "cursor.executemany(sql_update, args)\n",
    "\n",
    "conn.commit()\n",
    "conn.close()"
   ]
  },
  {
   "cell_type": "code",
   "execution_count": null,
   "metadata": {},
   "outputs": [],
   "source": []
  }
 ],
 "metadata": {
  "kernelspec": {
   "display_name": "Python 3.9.13 ('project-dev')",
   "language": "python",
   "name": "python3"
  },
  "language_info": {
   "codemirror_mode": {
    "name": "ipython",
    "version": 3
   },
   "file_extension": ".py",
   "mimetype": "text/x-python",
   "name": "python",
   "nbconvert_exporter": "python",
   "pygments_lexer": "ipython3",
   "version": "3.9.13"
  },
  "orig_nbformat": 4,
  "vscode": {
   "interpreter": {
    "hash": "79e10953b4218c489dec5ef004d67b9388bc88b53e23041a56abe687ee306189"
   }
  }
 },
 "nbformat": 4,
 "nbformat_minor": 2
}
