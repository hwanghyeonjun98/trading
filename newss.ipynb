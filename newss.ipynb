{
 "cells": [
  {
   "cell_type": "code",
   "execution_count": 1,
   "metadata": {},
   "outputs": [],
   "source": [
    "import pandas as pd\n",
    "import numpy as numpy\n",
    "import requests\n",
    "from bs4 import BeautifulSoup\n",
    "from urllib.request import urlopen"
   ]
  },
  {
   "cell_type": "code",
   "execution_count": 2,
   "metadata": {},
   "outputs": [
    {
     "name": "stdout",
     "output_type": "stream",
     "text": [
      "[<a href=\"/news/news_read.naver?article_id=0005200831&amp;office_id=277&amp;mode=mainnews&amp;type=&amp;date=2023-01-04&amp;page=1\">[굿모닝 증시]테슬라·애플 급락 … 코스피 소폭 하락 출발 예상</a>, <a href=\"/news/news_read.naver?article_id=0005399606&amp;office_id=018&amp;mode=mainnews&amp;type=&amp;date=2023-01-04&amp;page=1\">침체 공포감에 달러 강세 전환…환율, 1280원 테스트 하나[외환브리핑]</a>, <a href=\"/news/news_read.naver?article_id=0004836312&amp;office_id=008&amp;mode=mainnews&amp;type=&amp;date=2023-01-04&amp;page=1\">새해 첫날 美증시 '상승불발'...테슬라 12%↓[뉴욕마감](종합)</a>, <a href=\"/news/news_read.naver?article_id=0004795586&amp;office_id=015&amp;mode=mainnews&amp;type=&amp;date=2023-01-04&amp;page=1\">찬바람 불며 강추위…애플 시총 2조달러 붕괴·테슬라 12%↓[모닝브리핑]</a>, <a href=\"/news/news_read.naver?article_id=0004836296&amp;office_id=008&amp;mode=mainnews&amp;type=&amp;date=2023-01-04&amp;page=1\">새해 첫거래일 美증시 하락...테슬라 12% 급락[뉴욕마감]</a>, <a href=\"/news/news_read.naver?article_id=0004141002&amp;office_id=011&amp;mode=mainnews&amp;type=&amp;date=2023-01-04&amp;page=1\">첫날부터 애플·테슬라 급락…나스닥 -0.82% 출발 [데일리 국제금융시장]</a>]\n"
     ]
    }
   ],
   "source": [
    "import requests\n",
    "from bs4 import BeautifulSoup\n",
    "\n",
    "main_url = 'https://finance.naver.com'\n",
    "sub_url = '/news/mainnews.naver?date='\n",
    "url = main_url + sub_url\n",
    "\n",
    "response = requests.get(url)\n",
    "\n",
    "if response.status_code == 200:\n",
    "    html = response.text\n",
    "    soup = BeautifulSoup(html, 'html.parser')\n",
    "    title = soup.select('#contentarea_left > div.mainNewsList > ul > li > dl > dd > a')\n",
    "    print(title)\n",
    "else : \n",
    "    print(response.status_code)"
   ]
  },
  {
   "cell_type": "code",
   "execution_count": 3,
   "metadata": {},
   "outputs": [
    {
     "data": {
      "text/plain": "[' [굿모닝 증시]테슬라·애플 급락 … 코스피 소폭 하락 출발 예상',\n ' 침체 공포감에 달러 강세 전환…환율, 1280원 테스트 하나[외환브리핑]',\n \" 새해 첫날 美증시 '상승불발'...테슬라 12%↓[뉴욕마감](종합)\",\n ' 찬바람 불며 강추위…애플 시총 2조달러 붕괴·테슬라 12%↓[모닝브리핑]',\n ' 새해 첫거래일 美증시 하락...테슬라 12% 급락[뉴욕마감]',\n ' 첫날부터 애플·테슬라 급락…나스닥 -0.82% 출발 [데일리 국제금융시장]']"
     },
     "execution_count": 3,
     "metadata": {},
     "output_type": "execute_result"
    }
   ],
   "source": [
    "newsname = []\n",
    "titles = soup.select('dd.articleSubject')\n",
    "\n",
    "for i in titles:\n",
    "    titlele = i.get_text().replace('\\n','')\n",
    "    newsname.append(titlele)\n",
    "        \n",
    "newsname    "
   ]
  },
  {
   "cell_type": "code",
   "execution_count": 4,
   "metadata": {},
   "outputs": [],
   "source": [
    "soup = BeautifulSoup(html, 'html.parser')\n",
    "list_ = []\n",
    "for each in title:\n",
    "    href = main_url + each['href']\n",
    "    list_.append(href)\n",
    "    "
   ]
  },
  {
   "cell_type": "code",
   "execution_count": 5,
   "metadata": {},
   "outputs": [
    {
     "data": {
      "text/plain": "['https://finance.naver.com/news/news_read.naver?article_id=0005200831&office_id=277&mode=mainnews&type=&date=2023-01-04&page=1',\n 'https://finance.naver.com/news/news_read.naver?article_id=0005399606&office_id=018&mode=mainnews&type=&date=2023-01-04&page=1',\n 'https://finance.naver.com/news/news_read.naver?article_id=0004836312&office_id=008&mode=mainnews&type=&date=2023-01-04&page=1',\n 'https://finance.naver.com/news/news_read.naver?article_id=0004795586&office_id=015&mode=mainnews&type=&date=2023-01-04&page=1',\n 'https://finance.naver.com/news/news_read.naver?article_id=0004836296&office_id=008&mode=mainnews&type=&date=2023-01-04&page=1',\n 'https://finance.naver.com/news/news_read.naver?article_id=0004141002&office_id=011&mode=mainnews&type=&date=2023-01-04&page=1']"
     },
     "execution_count": 5,
     "metadata": {},
     "output_type": "execute_result"
    }
   ],
   "source": [
    "list_\n"
   ]
  },
  {
   "cell_type": "code",
   "execution_count": 6,
   "metadata": {},
   "outputs": [],
   "source": [
    "from datetime import datetime\n",
    "def newsdate() -> str:\n",
    "\tnow = datetime.now()\n",
    "\tdatetime_ = now.strftime('%Y-%m-%d')\n",
    "\tdays = datetime_\n",
    "\n",
    "\treturn days "
   ]
  },
  {
   "cell_type": "code",
   "execution_count": 7,
   "metadata": {},
   "outputs": [
    {
     "data": {
      "text/plain": "'2023-01-04'"
     },
     "execution_count": 7,
     "metadata": {},
     "output_type": "execute_result"
    }
   ],
   "source": [
    "date = newsdate()\n",
    "date"
   ]
  },
  {
   "cell_type": "code",
   "execution_count": 8,
   "metadata": {},
   "outputs": [
    {
     "data": {
      "text/plain": "['[이미지출처=EPA연합뉴스]미 증시는 공매도가 집중된 테슬라가 실적 부진 우려로 급락했고, 애플(-3.74%)도 아이폰 출하량 둔화로 약세를 보이며 3대 지수가 모두 하락 마감했다. 다우존스30(-0.03%), 나스닥(-0.76%), 스탠더드앤드푸어스(S&P) 500(-0.40%) 등이다.테슬라(-12.24%)는 시장 예상을 밑돈 4분기 인도량 발표와 주요 투자회사들의 목표가 하향 조정 여파로 급락했다. 특히 수요 둔화 우려로 리비안(-5.91%), 루시드(-9.66%) 등 주요 전기차 업종은 물론 퀀텀스케이프(-4.76%), 리튬 아메리카(-5.91%), 리베트(-4.48%) 등 2차전지 관련주도 동반 하락했다.미 증시가 테슬라와 애플의 하락으로 약세를 보여 우리 증시에 부담으로 작용할 전망이다. 다만 이는 관련 종목에 대한 그동안의 하락 요인일 뿐 새로운 이슈가 아니라는 점을 감안하면 영향은 제한적일 것으로 보인다. 한편, 중국의 코로나19 피크 아웃 기대, 유럽 경기 침체 우려',\n \"3대 뉴욕증시 일제히 하락달러인덱스 104선까지 올라위험자산 회피 심리에 환율 상승 압력 커질 듯달러 매수 압력 vs 상단 '네고물량'(사진=AFP 제공)[이데일리 최정희 기자] 새해 첫 거래일부터 경기침체 공포감이 뉴욕증시를 덮치면서 증시가 하락하고 달러가 104선 후반대로 급등했다. 1260~1270원대에서 박스권 흐름을 보이던 원·달러 환율은 1280원 테스트에 나설 전망이다. 돌아온 달러 강세의 힘이 셀 것인지, 수출업체의 네고물량(달러 매도)이 상단을 누르는 힘이 셀 것인지에 따라 외환시장이 박스권에 갇힐 지 힘을 받고 위로 튀어오르게 될지 주목된다. 4일 서울외국환중개에 따르면 간밤 뉴욕차액결제선물환(NDF) 시장에서 거래된 원·달러 1개월물은 1278.1원에 최종 호가됐다. 최근 1개월물 스와프 포인트(-1.15원)를 고려하면 이날 환율은 전 거래일 종가(1271.0원)보다 8.25원 상승 출발할 것으로 보인다. 새해 첫 거래일부터 뉴욕증시는 일제히 하락세를 보였다. 작\",\n 'A street sign on Wall Street outside the New York Stock Exchange September 18, 2007. REUTERS/Brendan McDermid/File Photo/사진=로이터=뉴스1새해 첫 거래일, 뉴욕증시가 하락 마감했다. 지난해 시장을 짓눌렀던 금리 상승과 높은 인플레이션에 대한 우려가 상승을 노렸던 증시의 발목을 잡았다.3일(현지시간) 다우지수는 전날보다 10.88포인트(0.03%) 내린 3만3136.37로 마감했다. S&P500지수는 15.36포인트(0.40%) 내린 3824.14로 거래를 마쳤다. 나스닥지수는 79.50포인트(0.76%) 내린 1만386.98로 장을 마쳤다.국채 금리는 하락했다. 이날 3.880%로 출발한 10년물 국채금리 수익률은 3.772%로 하락했다.━ 새해 첫 거래, 시작은 좋았지만...테슬라 12% 급락, 애플 시총 2조 달러 깨져━2023년 첫 거래일을 맞아 뉴욕증시는 상승세로 출발했다. 3대 ',\n '◆뉴욕증시, 새해 첫 거래일 하락…애플 시총 2조달러 붕괴뉴욕증시가 올해 첫 거래일에 테슬라와 애플 등 주요 종목 약세와 함께 하락했습니다. 현지시간으로 3일 뉴욕증권거래소(NYSE)에서 다우존스30산업평균지수는 전장보다 0.03% 하락한 33,136.37로 거래를 마쳤습니다. 스탠더드앤드푸어스(S&P)500지수와 나스닥지수는 각각 0.4%, 0.76% 떨어졌습니다.테슬라와 애플 소식이 주가를 끌어내린 요인으로 작용했습니다. 테슬라의 지난해 차량 판매 실적이 목표치에 미달하면서 이날 주가는 12% 이상 하락해 108달러 수준에서 거래를 마쳤습니다. 애플의 주가도 이날 3.7% 하락하면서 시가총액이 2조 달러 아래로 밀려났습니다. 회사가 약한 수요로 인해 회사가 몇몇 납품업체들에 에어팟, 애플워치, 맥북의 부품 생산을 줄일 것을 통보했다는 소식이 나왔기 때문입니다. 경기침체 가능성 속 기업들의 실적 부진에 대한 우려가 더해지면서 투자심리가 급속히 얼어붙은 모습입니다.◆경기 불확실성에 ',\n 'A street sign for Wall Street is seen in the financial district in New York, U.S., November 8, 2021. REUTERS/Brendan McDermid/사진=로이터=뉴스1새해 첫 거래일, 뉴욕증시가 하락 마감했다. 지난해 시장을 짓눌렀던 금리 상승과 높은 인플레이션에 대한 우려가 상승을 노렸던 증시의 발목을 잡았다.3일(현지시간) 다우지수는 전날보다 10.88포인트(0.03%) 내린 3만3136.37로 마감했다. S&P500지수는 15.36포인트(0.40%) 내린 3824.14로 거래를 마쳤다. 나스닥지수는 79.50포인트(0.76%) 내린 1만386.98로 장을 마쳤다.국채 금리는 하락했다. 이날 3.880%로 출발한 10년물 국채금리 수익률은 3.772%로 하락했다.이날 월스트리트는 테슬라와 애플의 약세에 주목했다. 테슬라는 실망스러운 4분기 차량 인도량에 대한 충격으로 주가가 12.25% 급락하며 108.',\n '4분기 인도량 미달 테슬라 -10%애플, 일부 생산량 감소전망에 -3.6%뉴욕증권거래소(NYSE) 내부. AFP연합뉴스[서울경제] 새해 첫 거래일부터 애플과 테슬라 주가가 약세를 보이면서 뉴욕증시의 주요 지수가 하락 출발했다.3일(현지 시간) 미 경제 방송 CNBC에 따르면 이날 오전10시32분 현재 뉴욕증권거래소(NYSE)의 다우존스산업평균지수가 전 거래일보다 95.28포인트(-0.29%) 하락한 3만3051.97에 거래되고 있다.스탠더드앤드푸어스(S&P)500이 18.38포인트(-0.48%) 내린 3821.12, 나스닥은 85.90포인트(-0.82%) 빠진 1만380.58을 기록 중이다.전날 테슬라는 지난해 4분기 차량 인도량이 40만5278대로 예상을 밑돌았다. 시장에서는 약 41만7000대를 점쳤다. 지난 해 전체로도 131만3851대로 전년 대비 40% 증가, 50% 목표를 달성하지 못했다. 테슬라 주식은 이날 -10% 넘게 빠지고 있다. 애플은 수요 부진에 일부 품목의 생']"
     },
     "execution_count": 8,
     "metadata": {},
     "output_type": "execute_result"
    }
   ],
   "source": [
    "newsct= []\n",
    "for newslist in list_:\n",
    "    response = requests.get(newslist)\n",
    "    \n",
    "\n",
    "    if response.status_code == 200:\n",
    "        html = response.text\n",
    "        soup = BeautifulSoup(html, 'html.parser')\n",
    "        contents = soup.select_one('.articleCont')\n",
    "        cnt = contents.get_text().replace('\\n','')[:500]\n",
    "        \n",
    "    else : \n",
    "        print(response.status_code)\n",
    "    newsct.append(cnt)    \n",
    "    \n",
    "\n",
    "newsct\n",
    "\n",
    "\n"
   ]
  },
  {
   "cell_type": "code",
   "execution_count": 9,
   "metadata": {},
   "outputs": [
    {
     "data": {
      "text/plain": "                                    newsname  \\\n0        [굿모닝 증시]테슬라·애플 급락 … 코스피 소폭 하락 출발 예상   \n1   침체 공포감에 달러 강세 전환…환율, 1280원 테스트 하나[외환브리핑]   \n2      새해 첫날 美증시 '상승불발'...테슬라 12%↓[뉴욕마감](종합)   \n3   찬바람 불며 강추위…애플 시총 2조달러 붕괴·테슬라 12%↓[모닝브리핑]   \n4          새해 첫거래일 美증시 하락...테슬라 12% 급락[뉴욕마감]   \n\n                                            newslink  \\\n0  https://finance.naver.com/news/news_read.naver...   \n1  https://finance.naver.com/news/news_read.naver...   \n2  https://finance.naver.com/news/news_read.naver...   \n3  https://finance.naver.com/news/news_read.naver...   \n4  https://finance.naver.com/news/news_read.naver...   \n\n                                                news    newsDate  \n0  [이미지출처=EPA연합뉴스]미 증시는 공매도가 집중된 테슬라가 실적 부진 우려로 급...  2023-01-04  \n1  3대 뉴욕증시 일제히 하락달러인덱스 104선까지 올라위험자산 회피 심리에 환율 상승...  2023-01-04  \n2  A street sign on Wall Street outside the New Y...  2023-01-04  \n3  ◆뉴욕증시, 새해 첫 거래일 하락…애플 시총 2조달러 붕괴뉴욕증시가 올해 첫 거래일...  2023-01-04  \n4  A street sign for Wall Street is seen in the f...  2023-01-04  ",
      "text/html": "<div>\n<style scoped>\n    .dataframe tbody tr th:only-of-type {\n        vertical-align: middle;\n    }\n\n    .dataframe tbody tr th {\n        vertical-align: top;\n    }\n\n    .dataframe thead th {\n        text-align: right;\n    }\n</style>\n<table border=\"1\" class=\"dataframe\">\n  <thead>\n    <tr style=\"text-align: right;\">\n      <th></th>\n      <th>newsname</th>\n      <th>newslink</th>\n      <th>news</th>\n      <th>newsDate</th>\n    </tr>\n  </thead>\n  <tbody>\n    <tr>\n      <th>0</th>\n      <td>[굿모닝 증시]테슬라·애플 급락 … 코스피 소폭 하락 출발 예상</td>\n      <td>https://finance.naver.com/news/news_read.naver...</td>\n      <td>[이미지출처=EPA연합뉴스]미 증시는 공매도가 집중된 테슬라가 실적 부진 우려로 급...</td>\n      <td>2023-01-04</td>\n    </tr>\n    <tr>\n      <th>1</th>\n      <td>침체 공포감에 달러 강세 전환…환율, 1280원 테스트 하나[외환브리핑]</td>\n      <td>https://finance.naver.com/news/news_read.naver...</td>\n      <td>3대 뉴욕증시 일제히 하락달러인덱스 104선까지 올라위험자산 회피 심리에 환율 상승...</td>\n      <td>2023-01-04</td>\n    </tr>\n    <tr>\n      <th>2</th>\n      <td>새해 첫날 美증시 '상승불발'...테슬라 12%↓[뉴욕마감](종합)</td>\n      <td>https://finance.naver.com/news/news_read.naver...</td>\n      <td>A street sign on Wall Street outside the New Y...</td>\n      <td>2023-01-04</td>\n    </tr>\n    <tr>\n      <th>3</th>\n      <td>찬바람 불며 강추위…애플 시총 2조달러 붕괴·테슬라 12%↓[모닝브리핑]</td>\n      <td>https://finance.naver.com/news/news_read.naver...</td>\n      <td>◆뉴욕증시, 새해 첫 거래일 하락…애플 시총 2조달러 붕괴뉴욕증시가 올해 첫 거래일...</td>\n      <td>2023-01-04</td>\n    </tr>\n    <tr>\n      <th>4</th>\n      <td>새해 첫거래일 美증시 하락...테슬라 12% 급락[뉴욕마감]</td>\n      <td>https://finance.naver.com/news/news_read.naver...</td>\n      <td>A street sign for Wall Street is seen in the f...</td>\n      <td>2023-01-04</td>\n    </tr>\n  </tbody>\n</table>\n</div>"
     },
     "execution_count": 9,
     "metadata": {},
     "output_type": "execute_result"
    }
   ],
   "source": [
    "data = {'newsname':newsname,'newslink':list_,'news':newsct,'newsDate':date}\n",
    "df = pd.DataFrame(data)\n",
    "df.head()"
   ]
  },
  {
   "cell_type": "code",
   "execution_count": 10,
   "metadata": {},
   "outputs": [],
   "source": [
    "#df.to_csv('../workspace/naver_news.csv', sep=',',\n",
    "#encoding='UTF-8')"
   ]
  },
  {
   "cell_type": "code",
   "execution_count": 11,
   "metadata": {},
   "outputs": [],
   "source": [
    "import pymysql"
   ]
  },
  {
   "cell_type": "code",
   "execution_count": 12,
   "metadata": {},
   "outputs": [],
   "source": [
    "pymysql.install_as_MySQLdb()\n",
    "conn= pymysql.connect(\n",
    "    host=\"192.168.50.123\"\n",
    "    ,user=\"admin\"\n",
    "    ,password=\"big15\"\n",
    "    ,db= \"web_data\"\n",
    "    ,charset='utf8'\n",
    ")\n",
    "\n",
    "cursor = conn.cursor()\n",
    "args = df.values.tolist()\n",
    "\n",
    "sql_update= f\"\"\"\n",
    "INSERT INTO news_data\n",
    "VALUES (%s,%s,%s,%s)\n",
    "ON DUPLICATE KEY UPDATE\n",
    "    newsname= VALUES(newsname)\n",
    "    ,newslink= VALUES(newslink)\n",
    "    ,news = VALUES(news)\n",
    "    , newsdate = VALUES(newsdate)\n",
    "\"\"\"\n",
    "\n",
    "cursor.executemany(sql_update, args)\n",
    "\n",
    "conn.commit()\n",
    "conn.close()"
   ]
  },
  {
   "cell_type": "code",
   "execution_count": null,
   "metadata": {},
   "outputs": [],
   "source": []
  }
 ],
 "metadata": {
  "kernelspec": {
   "display_name": "Python 3.9.13 ('project-dev')",
   "language": "python",
   "name": "python3"
  },
  "language_info": {
   "codemirror_mode": {
    "name": "ipython",
    "version": 3
   },
   "file_extension": ".py",
   "mimetype": "text/x-python",
   "name": "python",
   "nbconvert_exporter": "python",
   "pygments_lexer": "ipython3",
   "version": "3.9.13"
  },
  "orig_nbformat": 4,
  "vscode": {
   "interpreter": {
    "hash": "79e10953b4218c489dec5ef004d67b9388bc88b53e23041a56abe687ee306189"
   }
  }
 },
 "nbformat": 4,
 "nbformat_minor": 2
}
