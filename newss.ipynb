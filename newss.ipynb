{
 "cells": [
  {
   "cell_type": "code",
   "execution_count": 12,
   "metadata": {},
   "outputs": [],
   "source": [
    "import pandas as pd\n",
    "import numpy as numpy\n",
    "import requests\n",
    "from bs4 import BeautifulSoup\n",
    "from urllib.request import urlopen"
   ]
  },
  {
   "cell_type": "code",
   "execution_count": 13,
   "metadata": {},
   "outputs": [
    {
     "name": "stdout",
     "output_type": "stream",
     "text": [
      "[<a href=\"/news/news_read.naver?article_id=0005390204&amp;office_id=018&amp;mode=mainnews&amp;type=&amp;date=2022-12-20&amp;page=1\">환율, 1300원 하향 돌파 시도…美 긴축 경계에도 달러화 약보합[외환브리핑]</a>, <a href=\"/news/news_read.naver?article_id=0004830743&amp;office_id=008&amp;mode=mainnews&amp;type=&amp;date=2022-12-20&amp;page=1\">\"침체 온다\" 불안 속 美증시하락...디즈니4%↓[뉴욕마감](종합)</a>, <a href=\"/news/news_read.naver?article_id=0004830731&amp;office_id=008&amp;mode=mainnews&amp;type=&amp;date=2022-12-20&amp;page=1\">경기침체 우려에 '산타랠리 실종'...아마존 3%↓[뉴욕마감]</a>, <a href=\"/news/news_read.naver?article_id=0004135345&amp;office_id=011&amp;mode=mainnews&amp;type=&amp;date=2022-12-20&amp;page=1\">계속되는 침체 우려…美증시 혼조세 출발 [데일리 국제금융시장]</a>]\n"
     ]
    }
   ],
   "source": [
    "import requests\n",
    "from bs4 import BeautifulSoup\n",
    "\n",
    "main_url = 'https://finance.naver.com'\n",
    "sub_url = '/news/mainnews.naver'\n",
    "url = main_url + sub_url\n",
    "\n",
    "response = requests.get(url)\n",
    "\n",
    "if response.status_code == 200:\n",
    "    html = response.text\n",
    "    soup = BeautifulSoup(html, 'html.parser')\n",
    "    title = soup.select('#contentarea_left > div.mainNewsList > ul > li > dl > dd > a')\n",
    "    print(title)\n",
    "else : \n",
    "    print(response.status_code)"
   ]
  },
  {
   "cell_type": "code",
   "execution_count": 14,
   "metadata": {},
   "outputs": [
    {
     "data": {
      "text/plain": [
       "[' 환율, 1300원 하향 돌파 시도…美 긴축 경계에도 달러화 약보합[외환브리핑]',\n",
       " ' \"침체 온다\" 불안 속 美증시하락...디즈니4%↓[뉴욕마감](종합)',\n",
       " \" 경기침체 우려에 '산타랠리 실종'...아마존 3%↓[뉴욕마감]\",\n",
       " ' 계속되는 침체 우려…美증시 혼조세 출발 [데일리 국제금융시장]']"
      ]
     },
     "execution_count": 14,
     "metadata": {},
     "output_type": "execute_result"
    }
   ],
   "source": [
    "newsname = []\n",
    "titles = soup.select('dd.articleSubject')\n",
    "\n",
    "for i in titles:\n",
    "    titlele = i.get_text().replace('\\n','')\n",
    "    newsname.append(titlele)\n",
    "        \n",
    "newsname    "
   ]
  },
  {
   "cell_type": "code",
   "execution_count": 15,
   "metadata": {},
   "outputs": [],
   "source": [
    "soup = BeautifulSoup(html, 'html.parser')\n",
    "list_ = []\n",
    "for each in title:\n",
    "    href = main_url + each['href']\n",
    "    list_.append(href)\n",
    "    "
   ]
  },
  {
   "cell_type": "code",
   "execution_count": 16,
   "metadata": {},
   "outputs": [
    {
     "data": {
      "text/plain": [
       "['https://finance.naver.com/news/news_read.naver?article_id=0005390204&office_id=018&mode=mainnews&type=&date=2022-12-20&page=1',\n",
       " 'https://finance.naver.com/news/news_read.naver?article_id=0004830743&office_id=008&mode=mainnews&type=&date=2022-12-20&page=1',\n",
       " 'https://finance.naver.com/news/news_read.naver?article_id=0004830731&office_id=008&mode=mainnews&type=&date=2022-12-20&page=1',\n",
       " 'https://finance.naver.com/news/news_read.naver?article_id=0004135345&office_id=011&mode=mainnews&type=&date=2022-12-20&page=1']"
      ]
     },
     "execution_count": 16,
     "metadata": {},
     "output_type": "execute_result"
    }
   ],
   "source": [
    "list_"
   ]
  },
  {
   "cell_type": "code",
   "execution_count": 17,
   "metadata": {},
   "outputs": [
    {
     "data": {
      "text/plain": [
       "['글로벌 달러인덱스 미국채 상승에도 104선 하락중국 위안화도 역외 시장서 달러 대비 강세 흐름글로벌 위험선호 부진 등은 낙폭 제한하는 요인[이데일리 이윤화 기자] 원·달러 환율이 1원 이상 하락 출발하면서 1300원대 하향 돌파를 시도할 전망이다. 글로벌 달러인덱스는 104선에서 하락해 달러화가 약세를 보이고 있고, 역외 시장에서 중국 위안화 역시 소폭 강세 흐름을 이어간 영향이다. 다만 미국의 긴축 경계감이 이어지며 뉴욕증시가 하락세를 이어가는등 위험선호 심리는 부진한 흐름이라 낙폭은 제한 될 수 있다. (사진=AFP)20일 서울외국환중개에 따르면 간밤 뉴욕차액결제선물환(NDF) 시장에서 거래된 원·달러 1개월물은 1301.0원에 최종 호가됐다. 최근 1개월물 스와프포인트(-0.9원)를 고려하면 이날 환율은 전 거래일 종가(1302.9원)대비 1.0원 가량 하락 출발 할 것으로 예상된다. 이날 환율이 1300원 아래서 마감하게 된다면 지난 14일(1296.3원) 이후 처음으로 12',\n",
       " 'A Wall Street sign is pictured outside the New York Stock Exchange in New York, October 28, 2013. REUTERS/Carlo Allegri/File Photo/사진=로이터=뉴스1연말을 맞아 기대했던 랠리는 오지 않고 있다. 경기침체 우려가 높아지면서 뉴욕증시는 하락 마감했다.19일(현지시간) 다우지수는 전날보다 162.92포인트(0.49%) 내린 3만2757.54로 마감했다. S&P500지수는 34.70포인트(0.90%) 내린 3817.66으로 거래를 마쳤다. 나스닥지수는 159.38포인트(1.49%) 내린 1만546.03으로 장을 마쳤다. 국채 금리는 상승했다. 이날 3.489%로 출발한 10년물 국채금리 수익률은 3.592%로 상승했다.━아마존 3.35% 하락, 금융주 강세━이날 아마존과 메타는 각각 3.35%, 4.15% 하락했다. 애플과 마이크로소프트는 각각 1.60%, 1.74% 하락했고, 알파벳은 ',\n",
       " 'A street sign for Wall Street is seen in the financial district in New York, U.S., November 8, 2021. REUTERS/Brendan McDermid/사진=로이터=뉴스1연말을 맞아 기대했던 랠리는 오지 않고 있다. 경기침체 우려가 높아지면서 뉴욕증시는 하락 마감했다.19일(현지시간) 다우지수는 전날보다 162.92포인트(0.49%) 내린 3만2757.54로 마감했다. S&P500지수는 34.70포인트(0.90%) 내린 3817.66으로 거래를 마쳤다. 나스닥지수는 159.38포인트(1.49%) 내린 1만546.03으로 장을 마쳤다. 국채 금리는 상승했다. 이날 3.489%로 출발한 10년물 국채금리 수익률은 3.592%로 상승했다.이날 아마존과 메타는 각각 3.35%, 4.15% 하락했다. 애플과 마이크로소프트는 각각 1.60%, 1.74% 하락했고, 알파벳은 2.02% 내렸다.  테슬라는 0.24% 하락 마',\n",
       " '12월 FOMC 이후 침체 공포지속뉴욕증권거래소(NYSE) 내부. AFP연합뉴스[서울경제] 지난 주부터 다시 시작된 경기침체 우려가 이어지면서 뉴욕증시의 주요 지수가 혼조세로 출발했다.19일(현지 시간) 미 경제 방송 CNBC에 따르면 이날 오전10시26분 현재 뉴욕증권거래소(NYSE)의 다우존스산업평균지수가 전 거래일보다 93.24포인트(0.38%) 오른 3만3013.70에 거래되고 있다.반면 스탠더드앤드푸어스(S&P)이 2.07포인트(-0.05%) 내린 3850.29, 나스닥은 59.60포인트(0.56%) 떨어진 1만645.81을 기록 중이다.시장에서는 12월 연방공개시장위원회(FOMC) 이후 올라간 내년 최종금리(5.1%)와 상황에 따라 이를 추가로 올릴 수 있다고 밝힌 존 윌리엄스 뉴욕 연방준비은행 총재의 발언에 침체 우려가 고조됐다. CNBC는 “투자자들이 경기침체 우려를 저울질하고 있다”며 “시장에서는 20일에 있을 페덱스와 나이키 실적에도 관심을 갖고 있다. 침체 우려가']"
      ]
     },
     "execution_count": 17,
     "metadata": {},
     "output_type": "execute_result"
    }
   ],
   "source": [
    "newsct= []\n",
    "for newslist in list_:\n",
    "    response = requests.get(newslist)\n",
    "    \n",
    "\n",
    "    if response.status_code == 200:\n",
    "        html = response.text\n",
    "        soup = BeautifulSoup(html, 'html.parser')\n",
    "        contents = soup.select_one('.articleCont')\n",
    "        cnt = contents.get_text().replace('\\n','')[:500]\n",
    "        \n",
    "    else : \n",
    "        print(response.status_code)\n",
    "    newsct.append(cnt)    \n",
    "    \n",
    "\n",
    "newsct\n",
    "\n",
    "\n"
   ]
  },
  {
   "cell_type": "code",
   "execution_count": 18,
   "metadata": {},
   "outputs": [],
   "source": [
    "data = {'Newsname':newsname,'Newslink':list_,'News':newsct}\n",
    "df = pd.DataFrame(data)\n",
    "df.head()"
   ]
  },
  {
   "cell_type": "code",
   "execution_count": 19,
   "metadata": {},
   "outputs": [],
   "source": [
    "#df.to_csv('../workspace/naver_news.csv', sep=',',\n",
    "#encoding='UTF-8')"
   ]
  },
  {
   "cell_type": "code",
   "execution_count": 20,
   "metadata": {},
   "outputs": [],
   "source": [
    "import pymysql"
   ]
  },
  {
   "cell_type": "code",
   "execution_count": 21,
   "metadata": {},
   "outputs": [],
   "source": [
    "pymysql.install_as_MySQLdb()\n",
    "conn= pymysql.connect(\n",
    "    host=\"192.168.50.123\"\n",
    "    ,user=\"admin\"\n",
    "    ,password=\"big15\"\n",
    "    ,db= \"web_data\"\n",
    "    ,charset='utf8'\n",
    ")\n",
    "\n",
    "cursor = conn.cursor()\n",
    "args = df.values.tolist()\n",
    "\n",
    "sql_update= f\"\"\"\n",
    "INSERT INTO news_data\n",
    "VALUES (%s,%s,%s)\n",
    "ON DUPLICATE KEY UPDATE\n",
    "    newsname= VALUES(newsname)\n",
    "    ,newslink= VALUES(newslink)\n",
    "    ,news = VALUES(news)\n",
    "\"\"\"\n",
    "\n",
    "cursor.executemany(sql_update, args)\n",
    "\n",
    "conn.commit()\n",
    "conn.close()"
   ]
  },
  {
   "cell_type": "code",
   "execution_count": null,
   "metadata": {},
   "outputs": [],
   "source": []
  }
 ],
 "metadata": {
  "kernelspec": {
   "display_name": "Python 3.9.13 ('project-dev')",
   "language": "python",
   "name": "python3"
  },
  "language_info": {
   "codemirror_mode": {
    "name": "ipython",
    "version": 3
   },
   "file_extension": ".py",
   "mimetype": "text/x-python",
   "name": "python",
   "nbconvert_exporter": "python",
   "pygments_lexer": "ipython3",
   "version": "3.9.13"
  },
  "orig_nbformat": 4,
  "vscode": {
   "interpreter": {
    "hash": "79e10953b4218c489dec5ef004d67b9388bc88b53e23041a56abe687ee306189"
   }
  }
 },
 "nbformat": 4,
 "nbformat_minor": 2
}
