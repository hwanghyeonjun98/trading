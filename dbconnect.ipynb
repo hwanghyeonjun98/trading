{
 "cells": [
  {
   "cell_type": "code",
   "execution_count": 1,
   "metadata": {},
   "outputs": [],
   "source": [
    "from sqlalchemy import create_engine\n",
    "import pymysql\n",
    "import pandas as pd\n"
   ]
  },
  {
   "cell_type": "code",
   "execution_count": 2,
   "metadata": {},
   "outputs": [],
   "source": [
    "# mysql connect하기 위한 아이디 비밀번호 포트 데이터베이스 등록 \n",
    "engine = create_engine(\"mysql+pymysql://root:\"\n",
    "            +\"1234\"\n",
    "            +\"@localhost:3306/sakila?charset=utf8\"\n",
    "            , encoding='utf8')"
   ]
  },
  {
   "cell_type": "code",
   "execution_count": 3,
   "metadata": {},
   "outputs": [],
   "source": [
    "# mysql connect 하기\n",
    "conn = engine.connect()"
   ]
  },
  {
   "cell_type": "code",
   "execution_count": 4,
   "metadata": {},
   "outputs": [],
   "source": [
    "# 필요한 csv파일 가져오기\n",
    "df = pd.read_csv('../trading-1/data/000660_SK하이닉스.csv')"
   ]
  },
  {
   "cell_type": "code",
   "execution_count": 5,
   "metadata": {},
   "outputs": [
    {
     "data": {
      "text/plain": [
       "117626"
      ]
     },
     "execution_count": 5,
     "metadata": {},
     "output_type": "execute_result"
    }
   ],
   "source": [
    "# csv파일을 mysql에 집어넣기\n",
    "# name= table명\n",
    "# con= connect할 때 들어가는 아이디 비밀번호 등등\n",
    "# if_exists= 'append' : 기존 테이블이 있는 경우 데이터를 추가\n",
    "     # 'fail' : 기존 테이블이 있는 경우 아무일도 없지만 없을 경우 valuesError뜸\n",
    "     # 'replace' : 기존 테이블이 있을 경우, 기존 테이블을 삭제하고 다시 테이블을\n",
    "     # 만들어서 데이터를 넣음\n",
    "df.to_sql(name='stock', con=engine, if_exists='append', index='False')"
   ]
  },
  {
   "cell_type": "code",
   "execution_count": 7,
   "metadata": {},
   "outputs": [],
   "source": [
    "\n",
    "conn.close()"
   ]
  },
  {
   "cell_type": "code",
   "execution_count": 10,
   "metadata": {},
   "outputs": [],
   "source": [
    "host_name = \"localhost\"\n",
    "username = 'root'\n",
    "password = '1234'\n",
    "database_name = 'sakila'"
   ]
  },
  {
   "cell_type": "code",
   "execution_count": 11,
   "metadata": {},
   "outputs": [],
   "source": [
    "db1 = pymysql.connect(\n",
    "    host= host_name\n",
    "    , port=3306\n",
    "    , user=username\n",
    "    , password=password\n",
    "    , db=database_name\n",
    "    , charset='utf8'\n",
    ")"
   ]
  },
  {
   "cell_type": "code",
   "execution_count": 16,
   "metadata": {},
   "outputs": [
    {
     "name": "stderr",
     "output_type": "stream",
     "text": [
      "d:\\Anaconda3\\envs\\trad\\lib\\site-packages\\pandas\\io\\sql.py:761: UserWarning: pandas only support SQLAlchemy connectable(engine/connection) ordatabase string URI or sqlite3 DBAPI2 connectionother DBAPI2 objects are not tested, please consider using SQLAlchemy\n",
      "  warnings.warn(\n"
     ]
    },
    {
     "name": "stdout",
     "output_type": "stream",
     "text": [
      "         False  Unnamed: 0    시간     시가     고가     저가     종가  전일대비     거래량  \\\n",
      "0            0    20221101  1530  83900  83900  83900  83900     0  209606   \n",
      "1            1    20221101  1520  83900  83900  83700  83800     0   19759   \n",
      "2            2    20221101  1519  83900  83900  83800  83900     0   13595   \n",
      "3            3    20221101  1518  83800  83900  83700  83900     0   11513   \n",
      "4            4    20221101  1517  83700  83800  83700  83800     0   21585   \n",
      "...        ...         ...   ...    ...    ...    ...    ...   ...     ...   \n",
      "352873  117621    20201023  1449  84400  84500  84400  84500     0    1823   \n",
      "352874  117622    20201023  1448  84500  84500  84400  84500     0    2240   \n",
      "352875  117623    20201023  1447  84500  84500  84400  84400     0    1302   \n",
      "352876  117624    20201023  1446  84500  84500  84400  84500     0    1538   \n",
      "352877  117625    20201023  1445  84400  84500  84400  84500     0    2685   \n",
      "\n",
      "               거래대금  ...  외국인현보유비율  수정주가일자  수정주가비율  기관순매수량  기관누적순매수량  등락주선  \\\n",
      "0       17585940000  ...       0.0       0     0.0       0         0     0   \n",
      "1        1656510000  ...       0.0       0     0.0       0         0     0   \n",
      "2        1140060000  ...       0.0       0     0.0       0         0     0   \n",
      "3         965320000  ...       0.0       0     0.0       0         0     0   \n",
      "4        1808650000  ...       0.0       0     0.0       0         0     0   \n",
      "...             ...  ...       ...     ...     ...     ...       ...   ...   \n",
      "352873    153950000  ...       0.0       0     0.0       0         0     0   \n",
      "352874    189190000  ...       0.0       0     0.0       0         0     0   \n",
      "352875    109940000  ...       0.0       0     0.0       0         0     0   \n",
      "352876    129890000  ...       0.0       0     0.0       0         0     0   \n",
      "352877    226650000  ...       0.0       0     0.0       0         0     0   \n",
      "\n",
      "        등락비율  예탁금  주식회전율  거래성립률  \n",
      "0        0.0    0    0.0    0.0  \n",
      "1        0.0    0    0.0    0.0  \n",
      "2        0.0    0    0.0    0.0  \n",
      "3        0.0    0    0.0    0.0  \n",
      "4        0.0    0    0.0    0.0  \n",
      "...      ...  ...    ...    ...  \n",
      "352873   0.0    0    0.0    0.0  \n",
      "352874   0.0    0    0.0    0.0  \n",
      "352875   0.0    0    0.0    0.0  \n",
      "352876   0.0    0    0.0    0.0  \n",
      "352877   0.0    0    0.0    0.0  \n",
      "\n",
      "[352878 rows x 26 columns]\n"
     ]
    }
   ],
   "source": [
    "sql = 'select * from stock'\n",
    "df = pd.read_sql(sql,con=db1)\n",
    "print(df)"
   ]
  },
  {
   "cell_type": "code",
   "execution_count": 17,
   "metadata": {},
   "outputs": [
    {
     "ename": "NameError",
     "evalue": "name 'sqf' is not defined",
     "output_type": "error",
     "traceback": [
      "\u001b[1;31m---------------------------------------------------------------------------\u001b[0m",
      "\u001b[1;31mNameError\u001b[0m                                 Traceback (most recent call last)",
      "\u001b[1;32md:\\big15\\trad-dev\\trading-1\\dbconnect.ipynb 셀 10\u001b[0m in \u001b[0;36m<cell line: 2>\u001b[1;34m()\u001b[0m\n\u001b[0;32m      <a href='vscode-notebook-cell:/d%3A/big15/trad-dev/trading-1/dbconnect.ipynb#X23sZmlsZQ%3D%3D?line=0'>1</a>\u001b[0m sql \u001b[39m=\u001b[39m \u001b[39m'\u001b[39m\u001b[39mSELECT COUNT(*) FROM STOCK\u001b[39m\u001b[39m'\u001b[39m\n\u001b[1;32m----> <a href='vscode-notebook-cell:/d%3A/big15/trad-dev/trading-1/dbconnect.ipynb#X23sZmlsZQ%3D%3D?line=1'>2</a>\u001b[0m df \u001b[39m=\u001b[39m pd\u001b[39m.\u001b[39mread_sql(sql\u001b[39m=\u001b[39msqf, con\u001b[39m=\u001b[39mdb1)\n\u001b[0;32m      <a href='vscode-notebook-cell:/d%3A/big15/trad-dev/trading-1/dbconnect.ipynb#X23sZmlsZQ%3D%3D?line=2'>3</a>\u001b[0m df\n",
      "\u001b[1;31mNameError\u001b[0m: name 'sqf' is not defined"
     ]
    }
   ],
   "source": [
    "sql = 'SELECT COUNT(*) FROM STOCK'\n",
    "df = pd.read_sql(sql=sqf, con=db1)\n",
    "df"
   ]
  },
  {
   "cell_type": "code",
   "execution_count": null,
   "metadata": {},
   "outputs": [],
   "source": [
    "# con = pymysql.connect(host='localhost', user='root', password='1234',\n",
    "#                       db='MySQL', charset='utf8', # 한글처리 (charset = 'utf8')\n",
    "#                       autocommit=True, # 결과 DB 반영 (Insert or update)\n",
    "#                       cursorclass=pymysql.cursors.DictCursor # DB조회시 컬럼명을 동시에 보여줌\n",
    "#                      )\n",
    "# cur = con.cursor()"
   ]
  },
  {
   "cell_type": "code",
   "execution_count": null,
   "metadata": {},
   "outputs": [],
   "source": []
  },
  {
   "cell_type": "code",
   "execution_count": null,
   "metadata": {},
   "outputs": [],
   "source": [
    "# cur = db2.cursor()"
   ]
  },
  {
   "cell_type": "code",
   "execution_count": null,
   "metadata": {},
   "outputs": [],
   "source": [
    "# indata = pd.read_sql_query('select * from stock_info', conn)\n",
    "# indata"
   ]
  },
  {
   "cell_type": "code",
   "execution_count": null,
   "metadata": {},
   "outputs": [],
   "source": [
    "# cur = conn.cursor()"
   ]
  },
  {
   "cell_type": "code",
   "execution_count": null,
   "metadata": {},
   "outputs": [],
   "source": [
    "# db.close()"
   ]
  },
  {
   "cell_type": "code",
   "execution_count": null,
   "metadata": {},
   "outputs": [],
   "source": [
    "# cur = con.cursor()\n",
    "# # sql = \"SELECT * FROM stock_info.stock\" # customers 테이블 전체를 불러옴\n",
    "# sql = \"SELECT * FROM stock_info.stock.columns\" # customers 테이블 전체를 불러옴\n",
    "# cur.execute(sql)\n",
    "# rows = cur.fetchone()\n",
    "# con.close() # DB 연결 종료\n",
    "# print(rows)"
   ]
  },
  {
   "cell_type": "code",
   "execution_count": null,
   "metadata": {},
   "outputs": [],
   "source": []
  }
 ],
 "metadata": {
  "kernelspec": {
   "display_name": "Python 3.9.12 ('trad')",
   "language": "python",
   "name": "python3"
  },
  "language_info": {
   "codemirror_mode": {
    "name": "ipython",
    "version": 3
   },
   "file_extension": ".py",
   "mimetype": "text/x-python",
   "name": "python",
   "nbconvert_exporter": "python",
   "pygments_lexer": "ipython3",
   "version": "3.9.12"
  },
  "orig_nbformat": 4,
  "vscode": {
   "interpreter": {
    "hash": "47e3ec5c98fa5c09c516c60bee1378a8c637e5318357e9c1dcffd393b015b2be"
   }
  }
 },
 "nbformat": 4,
 "nbformat_minor": 2
}
