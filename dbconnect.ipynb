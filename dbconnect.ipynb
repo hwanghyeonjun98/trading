{
 "cells": [
  {
   "cell_type": "code",
   "execution_count": 2,
   "metadata": {},
   "outputs": [],
   "source": [
    "from sqlalchemy import create_engine\n",
    "import pymysql\n",
    "import pandas as pd\n",
    "import csv\n",
    "import os\n",
    "import time\n"
   ]
  },
  {
   "cell_type": "code",
   "execution_count": 3,
   "metadata": {},
   "outputs": [],
   "source": [
    "# mysql connect하기 위한 아이디 비밀번호 포트 데이터베이스 등록 및 conn 리턴\n",
    "def sqlalchemy_connect():\n",
    "    engine = create_engine(\"mysql+pymysql://root:\"\n",
    "                +\"big15\"\n",
    "                +\"@localhost:3306/big15?charset=utf8\"\n",
    "                , encoding='utf8')\n",
    "    \n",
    "    return engine.connect()"
   ]
  },
  {
   "cell_type": "code",
   "execution_count": 4,
   "metadata": {},
   "outputs": [],
   "source": [
    "# mysql connect하기 위한 아이디 비밀번호 포트 데이터베이스 등록 및 conn 리턴\n",
    "def sqlalchemy_connect_ip(ip_address, db_name):\n",
    "    engine = create_engine(\"mysql+pymysql://admin:\"\n",
    "                +\"big15\" # user password\n",
    "                +\"@{0}:3306/{1}?charset=utf8\".format(ip_address, db_name)\n",
    "                , encoding='utf8')\n",
    "    \n",
    "    return engine.connect()"
   ]
  },
  {
   "cell_type": "code",
   "execution_count": 12,
   "metadata": {},
   "outputs": [],
   "source": [
    "# Data csv => SQL에 추가\n",
    "def sqlalchemy_data_insert(conn):\n",
    "    \n",
    "    # for문 돌려서 파일 리스트 받고 하나씩 읽는다\n",
    "    for file in os.listdir('../data/update/20221116/concat/'):\n",
    "        stock_code_name = file.split('_')[-2] + '_' + file.split('_')[-1].split('.')[0]\n",
    "\n",
    "        stock_info = pd.read_csv('../data/update/20221116/concat/{0}'.format(file))\n",
    "\n",
    "        stock_info['년'] = stock_info['날짜'].apply(str).str[:4]\n",
    "        stock_info['월'] = stock_info['날짜'].apply(str).str[4:6]\n",
    "        stock_info['일'] = stock_info['날짜'].apply(str).str[6:8]\n",
    "        stock_info.sort_index(ascending=False, inplace=True)\n",
    "        # name= table명\n",
    "        # con= connect할 때 들어가는 아이디 비밀번호 등등\n",
    "        # if_exists= 'append' : 기존 테이블이 있는 경우 데이터를 추가\n",
    "        # 'fail' : 기존 테이블이 있는 경우 아무일도 없지만 없을 경우 valuesError뜸\n",
    "        # 'replace' : 기존 테이블이 있을 경우, 기존 테이블을 삭제하고 다시 테이블을\n",
    "        count = stock_info.to_sql(name='{0}'.format(stock_code_name), con=conn, if_exists='replace', index=False)\n",
    "        stock_info = pd.DataFrame()\n",
    "\n",
    "        print(count)\n",
    "\n",
    "    # for문 완료 후 연결 해제\n",
    "    conn.close()\n"
   ]
  },
  {
   "cell_type": "code",
   "execution_count": null,
   "metadata": {},
   "outputs": [],
   "source": [
    "sqlalchemy_data_insert(sqlalchemy_connect_ip('192.168.50.123', 'stock_info'))"
   ]
  },
  {
   "cell_type": "code",
   "execution_count": null,
   "metadata": {},
   "outputs": [],
   "source": [
    "from module.setting import instCpCodeMgr, instStockChart, instCpCybos\n",
    "from pykrx import stock\n",
    "from datetime import datetime\n",
    "import pymysql\n",
    "import csv\n",
    "import os\n",
    "import time\n",
    "\n",
    "def get_pymysql_connection(ip_address, db_name):\n",
    "\n",
    "    conn = pymysql.connect(host=ip_address, user='admin', password='big15'\n",
    "                        , db=db_name, charset='utf8')\n",
    "\n",
    "    return conn\n",
    "\n",
    "conn = get_pymysql_connection('192.168.50.123', 'stock_info')\n",
    "\n",
    "# 현재 DB 내 존재하는 테이블(종목) 추출\n",
    "sql = \"SELECT TABLE_NAME FROM INFORMATION_SCHEMA.TABLES WHERE TABLE_SCHEMA = 'stock_info'\"\n",
    "\n",
    "with conn:\n",
    "    with conn.cursor() as cur:\n",
    "        cur.execute(sql)\n",
    "        result = [item[0] for item in cur.fetchall()]\n",
    "\n",
    "# stock code가 테이블이 존재하는 비교\n",
    "\n",
    "kospi = pd.read_csv('../data/kospi_20221122.csv', encoding='euc-kr')\n",
    "kosdaq = pd.read_csv('../data/kosdaq_20221122.csv', encoding='euc-kr')\n",
    "\n",
    "kospi = kospi[kospi['주식종류'] == '보통주'].iloc[:,[1,-3]].iloc[:,0]\n",
    "kosdaq = kosdaq[kosdaq['주식종류'] == '보통주'].iloc[:,[1,-3]].iloc[:,0]\n",
    "\n",
    "\n",
    "kospi_kosdaq_list = pd.concat([kospi,kosdaq]).to_list()\n",
    "\n",
    "exist_list = []\n",
    "empty_list = []\n",
    "\n",
    "for code in kospi_kosdaq_list:\n",
    "    if code in result:\n",
    "        exist_list.append(code)\n",
    "    elif code not in result:\n",
    "        empty_list.append(code)\n",
    " \n",
    "# 존재할 경우, 대신증권에서 해당 종목 일봉 분봉 업데이트문\n",
    "\n",
    "for code in exist_list:\n",
    "\n",
    "    sql = \"SELECT 날짜 FROM STOCK_INFO.{0}\".format('code')\n",
    "\n",
    "    with conn:\n",
    "        with conn.cursor() as cur:\n",
    "            cur.execute(sql)\n",
    "            result = [item[0] for item in cur.fetchall()]\n",
    "\n",
    "    # 경로 수정 필요\n",
    "    temp_df = pd.DataFrame()\n",
    "    start_day = str(temp_df.index[0])\n",
    "\n",
    "    today = str(datetime.today().year) + str(datetime.today().month) + str((datetime.today() - timedelta(1)).day)\n",
    "\n",
    "    instStockChart.SetInputValue(0, 'A'+stock_code) # 종목명\n",
    "    instStockChart.SetInputValue(1, ord('1')) # 1 : 기간으로 요청, 2: 개수로 요청\n",
    "    instStockChart.SetInputValue(3, start_day) # 요청 시작일\n",
    "    instStockChart.SetInputValue(2, today) # 요청 종료일\n",
    "    instStockChart.SetInputValue(5, [0, 1, 2, 3, 4, 5, 6, 8, 9, 10, 12, 13, 14, 15, 16, 17,18, 19,20,21,22,23,24,25,26])\n",
    "    instStockChart.SetInputValue(6, ord('D')) # 'D' : 일봉, 'm' : 분봉\n",
    "    instStockChart.SetInputValue(9, ord('1'))\n",
    "\n",
    "    instStockChart.BlockRequest() # 위 정보로 요청\n",
    "\n",
    "    numrow, numcolumn = instStockChart.GetHeaderValue(3), instStockChart.GetHeaderValue(2)\n",
    "\n",
    "    index = []\n",
    "    for i in range(numrow):\n",
    "        index_ = str(instStockChart.GetDataValue(0,i))\n",
    "        index.append(index_)\n",
    "\n",
    "    stock_info = pd.DataFrame(columns=numcolumn[1:], index=index)\n",
    "\n",
    "    for num in range(numrow):\n",
    "        for col in range(len(numcolumn)):\n",
    "            # 1,2,3,4,5,6,7,8,9, 10\n",
    "            stock_info.iloc[num, col-1] = str(instStockChart.GetDataValue(col,num))\n",
    "\n",
    "    temp_df = pd.concat([stock_info, temp_df])\n",
    "    \n",
    "    temp_df.to_csv(f'../data/update/20221116/일봉/{file_name}', encoding='utf-8 sig')\n",
    "\n",
    "    if instCpCybos.GetLimitRemainCount(1) < 3:\n",
    "            time.sleep(10)\n",
    "\n",
    "    time.sleep(uniform(0.15,0.3))\n",
    "\n",
    "\n",
    "# 존재하지 않는 경우, 새로운 테이블을 만들고 해당 종목 추가\n",
    "\n",
    "\n",
    "# curs = conn.cursor()\n",
    "# print(curs)\n",
    "# print(curs.execute(sql))\n",
    "# print(sql)\n",
    "# curs.close()\n",
    "\n",
    "# conn.commit()\n",
    "\n",
    "# sql = \"insert into user (id, name, region, insdt) values (%s, %s, %s, now())\"\n",
    "# f = open('test.csv', 'r', encoding='utf-8')\n",
    "# rd = csv.reader(f)\n",
    "\n",
    "# for line in rd:\n",
    "#     curs.execute(sql, (line[0], line[1], line[2]))\n",
    "\n",
    "# conn.commit()\n",
    "# conn.close()\n",
    "# f.close()\n",
    "\n",
    "\n",
    "\n",
    "\n",
    "\n"
   ]
  },
  {
   "cell_type": "code",
   "execution_count": 8,
   "metadata": {},
   "outputs": [
    {
     "name": "stdout",
     "output_type": "stream",
     "text": [
      "['daily_price']\n"
     ]
    }
   ],
   "source": [
    "print(result)"
   ]
  },
  {
   "cell_type": "code",
   "execution_count": 6,
   "metadata": {},
   "outputs": [
    {
     "name": "stderr",
     "output_type": "stream",
     "text": [
      "C:\\Users\\TJ\\AppData\\Local\\Temp\\ipykernel_7408\\2883045696.py:16: DeprecationWarning: executable_path has been deprecated, please pass in a Service object\n",
      "  driver = webdriver.Chrome(\"./chromedriver\")\n"
     ]
    }
   ],
   "source": [
    "from selenium import webdriver\n",
    "from selenium.webdriver.common.keys import Keys\n",
    "from selenium.webdriver.common.by import By\n",
    "from datetime import datetime\n",
    "import glob\n",
    "import shutil\n",
    "import time\n",
    "\n",
    "target = r\"D:/systrader-dev/data/kos*.csv\"\n",
    "csv_list = glob.glob(target)\n",
    "\n",
    "if len(csv_list) >= 1:\n",
    "    os.remove(csv_list[0])\n",
    "    os.remove(csv_list[1])\n",
    "\n",
    "driver = webdriver.Chrome(\"./chromedriver\")\n",
    "\n",
    "driver.get(\"http://data.krx.co.kr/contents/MDC/MDI/mdiLoader/index.cmd?menuId=MDC0201020201\")\n",
    "driver.implicitly_wait(20)\n",
    "time.sleep(4)\n",
    "driver.find_element(By.XPATH, '//*[@id=\"MDCSTAT019_FORM\"]/div[1]/div/table/tbody/tr/td/label[2]').click()\n",
    "time.sleep(1.5)\n",
    "driver.implicitly_wait(20)\n",
    "driver.find_element(By.XPATH, '//*[@id=\"MDCSTAT019_FORM\"]/div[2]/div[1]/p[2]/button[2]').click()\t\n",
    "time.sleep(1.5)\n",
    "driver.implicitly_wait(20)\n",
    "driver.find_element(By.XPATH, '//*[@id=\"ui-id-1\"]/div/div[2]').click()\n",
    "time.sleep(1.5)\n",
    "driver.implicitly_wait(20)\n",
    "driver.find_element(By.XPATH, '//*[@id=\"MDCSTAT019_FORM\"]/div[1]/div/table/tbody/tr/td/label[3]').click()\n",
    "time.sleep(1.5)\n",
    "driver.implicitly_wait(20)\n",
    "driver.find_element(By.XPATH, '//*[@id=\"MDCSTAT019_FORM\"]/div[2]/div[1]/p[2]/button[2]').click()\t\n",
    "time.sleep(1.5)\n",
    "driver.implicitly_wait(20)\n",
    "driver.find_element(By.XPATH, '//*[@id=\"ui-id-3\"]/div/div[2]').click()\n",
    "time.sleep(1.5)\n",
    "driver.close()\n",
    "\n",
    "target = r\"C:Users/TJ/Downloads/data*.csv\"\n",
    "new_csv_list = glob.glob(target)\n",
    "\n",
    "file_size_1 = os.path.getsize(new_csv_list[0])\n",
    "file_size_2 = os.path.getsize(new_csv_list[1])\n",
    "\n",
    "now = datetime.now()\n",
    "cur_time = now.strftime('%Y%m%d')\n",
    "\n",
    "if file_size_1 < file_size_2:\n",
    "    shutil.move(new_csv_list[0], \"../data/kospi_{0}.csv\".format(cur_time))\n",
    "    shutil.move(new_csv_list[1], \"../data/kosdaq_{0}.csv\".format(cur_time))\n",
    "else:\n",
    "    shutil.move(new_csv_list[1], \"../data/kospi_{0}.csv\".format(cur_time))\n",
    "    shutil.move(new_csv_list[0], \"../data/kosdaq_{0}.csv\".format(cur_time))\n",
    "\n"
   ]
  },
  {
   "cell_type": "code",
   "execution_count": null,
   "metadata": {},
   "outputs": [],
   "source": [
    "host_name = \"localhost\"\n",
    "username = 'root'\n",
    "password = 'big15'\n",
    "database_name = 'big15'"
   ]
  },
  {
   "cell_type": "code",
   "execution_count": null,
   "metadata": {},
   "outputs": [],
   "source": [
    "db1 = pymysql.connect(\n",
    "    host= host_name\n",
    "    , port=3306\n",
    "    , user=username\n",
    "    , password=password\n",
    "    , db=database_name\n",
    "    , charset='utf8'\n",
    ")"
   ]
  },
  {
   "cell_type": "code",
   "execution_count": null,
   "metadata": {},
   "outputs": [
    {
     "name": "stderr",
     "output_type": "stream",
     "text": [
      "c:\\Users\\TJ\\.conda\\envs\\tf2\\lib\\site-packages\\pandas\\io\\sql.py:762: UserWarning: pandas only support SQLAlchemy connectable(engine/connection) ordatabase string URI or sqlite3 DBAPI2 connectionother DBAPI2 objects are not tested, please consider using SQLAlchemy\n",
      "  warnings.warn(\n"
     ]
    },
    {
     "name": "stdout",
     "output_type": "stream",
     "text": [
      "        Unnamed: 0    시간     시가     고가     저가     종가  전일대비     거래량  \\\n",
      "0         20221103  1530  82700  82700  82700  82700     0  312503   \n",
      "1         20221103  1520  83100  83100  83000  83100     0   12246   \n",
      "2         20221103  1519  83000  83100  83000  83100     0   19656   \n",
      "3         20221103  1518  83200  83200  83000  83000     0   39559   \n",
      "4         20221103  1517  83100  83200  83100  83200     0    4789   \n",
      "...            ...   ...    ...    ...    ...    ...   ...     ...   \n",
      "190375    20201027   905  82000  82300  81800  82200     0   53979   \n",
      "190376    20201027   904  82200  82300  82000  82000     0   19926   \n",
      "190377    20201027   903  82200  82300  82100  82200     0   16356   \n",
      "190378    20201027   902  82500  82500  82200  82200     0   12931   \n",
      "190379    20201027   901  82300  82600  82200  82600     0   41258   \n",
      "\n",
      "               거래대금  누적체결매도수량  ...  외국인현보유비율  수정주가일자  수정주가비율  기관순매수량  \\\n",
      "0       25843990000   1314512  ...       0.0       0     0.0       0   \n",
      "1        1017260000   1314512  ...       0.0       0     0.0       0   \n",
      "2        1631760000   1310685  ...       0.0       0     0.0       0   \n",
      "3        3285320000   1294359  ...       0.0       0     0.0       0   \n",
      "4         398250000   1257506  ...       0.0       0     0.0       0   \n",
      "...             ...       ...  ...       ...     ...     ...     ...   \n",
      "190375   4426440000     75310  ...       0.0       0     0.0       0   \n",
      "190376   1636080000     43993  ...       0.0       0     0.0       0   \n",
      "190377   1344490000     27741  ...       0.0       0     0.0       0   \n",
      "190378   1065000000     14560  ...       0.0       0     0.0       0   \n",
      "190379   3397220000      7284  ...       0.0       0     0.0       0   \n",
      "\n",
      "        기관누적순매수량  등락주선  등락비율  예탁금  주식회전율  거래성립률  \n",
      "0              0     0   0.0    0    0.0    0.0  \n",
      "1              0     0   0.0    0    0.0    0.0  \n",
      "2              0     0   0.0    0    0.0    0.0  \n",
      "3              0     0   0.0    0    0.0    0.0  \n",
      "4              0     0   0.0    0    0.0    0.0  \n",
      "...          ...   ...   ...  ...    ...    ...  \n",
      "190375         0     0   0.0    0    0.0    0.0  \n",
      "190376         0     0   0.0    0    0.0    0.0  \n",
      "190377         0     0   0.0    0    0.0    0.0  \n",
      "190378         0     0   0.0    0    0.0    0.0  \n",
      "190379         0     0   0.0    0    0.0    0.0  \n",
      "\n",
      "[190380 rows x 25 columns]\n"
     ]
    }
   ],
   "source": [
    "sql = 'select * from stock'\n",
    "df2 = pd.read_sql(sql,con=db1)\n",
    "print(df2)"
   ]
  },
  {
   "cell_type": "code",
   "execution_count": null,
   "metadata": {},
   "outputs": [],
   "source": [
    "df2 = df2.astype({'Unnamed: 0':'int32'})\n",
    "df2 = df2.astype({'시간':'int16'})\n",
    "df2 = df2.astype({'시가':'int32'})\n",
    "df2 = df2.astype({'고가':'int32'})\n",
    "df2 = df2.astype({'저가':'int32'})\n",
    "df2 = df2.astype({'종가':'int32'})\n",
    "df2 = df2.astype({'전일대비':'int32'})\n",
    "df2 = df2.astype({'거래량':'int32'})\n",
    "df2 = df2.astype({'거래대금':'int64'})\n",
    "df2 = df2.astype({'누적체결매도수량':'int32'})\n",
    "df2 = df2.astype({'상장주식수':'int32'})\n",
    "df2 = df2.astype({'시가총액':'int64'})\n",
    "df2 = df2.astype({'외국인주문한도수량':'int32'})\n",
    "df2 = df2.astype({'외국인주문가능수량':'int32'})\n",
    "df2 = df2.astype({'외국인현보유수량':'int32'})\n",
    "df2 = df2.astype({'외국인현보유비율':'float32'})\n",
    "df2 = df2.astype({'수정주가일자':'int32'})\n",
    "df2 = df2.astype({'수정주가비율':'float32'})\n",
    "df2 = df2.astype({'기관순매수량':'int32'})\n",
    "df2 = df2.astype({'기관누적순매수량':'int32'})\n",
    "df2 = df2.astype({'등락주선':'int32'})\n",
    "df2 = df2.astype({'등락비율':'float32'})\n",
    "df2 = df2.astype({'예탁금':'int64'})\n",
    "df2 = df2.astype({'주식회전율':'float32'})\n",
    "df2 = df2.astype({'거래성립률':'float32'})\n"
   ]
  },
  {
   "cell_type": "code",
   "execution_count": null,
   "metadata": {},
   "outputs": [
    {
     "name": "stdout",
     "output_type": "stream",
     "text": [
      "   COUNT(*)\n",
      "0    190380\n"
     ]
    },
    {
     "name": "stderr",
     "output_type": "stream",
     "text": [
      "c:\\Users\\TJ\\.conda\\envs\\tf2\\lib\\site-packages\\pandas\\io\\sql.py:762: UserWarning: pandas only support SQLAlchemy connectable(engine/connection) ordatabase string URI or sqlite3 DBAPI2 connectionother DBAPI2 objects are not tested, please consider using SQLAlchemy\n",
      "  warnings.warn(\n"
     ]
    }
   ],
   "source": [
    "sql = 'SELECT COUNT(*) FROM STOCK'\n",
    "print(pd.read_sql(sql=sql, con=db1))"
   ]
  },
  {
   "cell_type": "code",
   "execution_count": null,
   "metadata": {},
   "outputs": [],
   "source": []
  }
 ],
 "metadata": {
  "kernelspec": {
   "display_name": "Python 3.8.13 ('tf2')",
   "language": "python",
   "name": "python3"
  },
  "language_info": {
   "codemirror_mode": {
    "name": "ipython",
    "version": 3
   },
   "file_extension": ".py",
   "mimetype": "text/x-python",
   "name": "python",
   "nbconvert_exporter": "python",
   "pygments_lexer": "ipython3",
   "version": "3.8.13"
  },
  "orig_nbformat": 4,
  "vscode": {
   "interpreter": {
    "hash": "05247f0879db25b58c9f4dbf50b6eaf626832b6fbf3893d9d370e5540f006961"
   }
  }
 },
 "nbformat": 4,
 "nbformat_minor": 2
}
