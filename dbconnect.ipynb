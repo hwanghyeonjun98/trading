{
 "cells": [
  {
   "cell_type": "code",
   "execution_count": 1,
   "metadata": {},
   "outputs": [],
   "source": [
    "from sqlalchemy import create_engine\n",
    "import pymysql\n",
    "import pandas as pd\n"
   ]
  },
  {
   "cell_type": "code",
   "execution_count": 2,
   "metadata": {},
   "outputs": [],
   "source": [
    "# mysql connect하기 위한 아이디 비밀번호 포트 데이터베이스 등록 \n",
    "engine = create_engine(\"mysql+pymysql://root:\"\n",
    "            +\"1234\"\n",
    "            +\"@localhost:3306/sakila?charset=utf8\"\n",
    "            , encoding='utf8')"
   ]
  },
  {
   "cell_type": "code",
   "execution_count": 3,
   "metadata": {},
   "outputs": [],
   "source": [
    "# mysql connect 하기\n",
    "conn = engine.connect()"
   ]
  },
  {
   "cell_type": "code",
   "execution_count": 4,
   "metadata": {},
   "outputs": [],
   "source": [
    "# 필요한 csv파일 가져오기\n",
    "df = pd.read_csv('../trading-1/data/000660_SK하이닉스.csv')"
   ]
  },
  {
   "cell_type": "code",
   "execution_count": 5,
   "metadata": {},
   "outputs": [],
   "source": [
    "df = df.astype({'Unnamed: 0':'int32'})\n",
    "df = df.astype({'시간':'int16'})\n",
    "df = df.astype({'시가':'int32'})\n",
    "df = df.astype({'고가':'int32'})\n",
    "df = df.astype({'저가':'int32'})\n",
    "df = df.astype({'종가':'int32'})\n",
    "df = df.astype({'전일대비':'int32'})\n",
    "df = df.astype({'거래량':'int32'})\n",
    "df = df.astype({'거래대금':'int64'})\n",
    "df = df.astype({'누적체결매도수량':'int32'})\n",
    "df = df.astype({'상장주식수':'int32'})\n",
    "df = df.astype({'시가총액':'int64'})\n",
    "df = df.astype({'외국인주문한도수량':'int32'})\n",
    "df = df.astype({'외국인주문가능수량':'int32'})\n",
    "df = df.astype({'외국인현보유수량':'int32'})\n",
    "df = df.astype({'외국인현보유비율':'float32'})\n",
    "df = df.astype({'수정주가일자':'int32'})\n",
    "df = df.astype({'수정주가비율':'float32'})\n",
    "df = df.astype({'기관순매수량':'int32'})\n",
    "df = df.astype({'기관누적순매수량':'int32'})\n",
    "df = df.astype({'등락주선':'int32'})\n",
    "df = df.astype({'등락비율':'float32'})\n",
    "df = df.astype({'예탁금':'int64'})\n",
    "df = df.astype({'주식회전율':'float32'})\n",
    "df = df.astype({'거래성립률':'float32'})"
   ]
  },
  {
   "cell_type": "code",
   "execution_count": 6,
   "metadata": {},
   "outputs": [
    {
     "name": "stdout",
     "output_type": "stream",
     "text": [
      "<class 'pandas.core.frame.DataFrame'>\n",
      "RangeIndex: 117626 entries, 0 to 117625\n",
      "Data columns (total 25 columns):\n",
      " #   Column      Non-Null Count   Dtype  \n",
      "---  ------      --------------   -----  \n",
      " 0   Unnamed: 0  117626 non-null  int32  \n",
      " 1   시간          117626 non-null  int16  \n",
      " 2   시가          117626 non-null  int32  \n",
      " 3   고가          117626 non-null  int32  \n",
      " 4   저가          117626 non-null  int32  \n",
      " 5   종가          117626 non-null  int32  \n",
      " 6   전일대비        117626 non-null  int32  \n",
      " 7   거래량         117626 non-null  int32  \n",
      " 8   거래대금        117626 non-null  int64  \n",
      " 9   누적체결매도수량    117626 non-null  int32  \n",
      " 10  상장주식수       117626 non-null  int32  \n",
      " 11  시가총액        117626 non-null  int64  \n",
      " 12  외국인주문한도수량   117626 non-null  int32  \n",
      " 13  외국인주문가능수량   117626 non-null  int32  \n",
      " 14  외국인현보유수량    117626 non-null  int32  \n",
      " 15  외국인현보유비율    117626 non-null  float32\n",
      " 16  수정주가일자      117626 non-null  int32  \n",
      " 17  수정주가비율      117626 non-null  float32\n",
      " 18  기관순매수량      117626 non-null  int32  \n",
      " 19  기관누적순매수량    117626 non-null  int32  \n",
      " 20  등락주선        117626 non-null  int32  \n",
      " 21  등락비율        117626 non-null  float32\n",
      " 22  예탁금         117626 non-null  int64  \n",
      " 23  주식회전율       117626 non-null  float32\n",
      " 24  거래성립률       117626 non-null  float32\n",
      "dtypes: float32(5), int16(1), int32(16), int64(3)\n",
      "memory usage: 12.3 MB\n"
     ]
    }
   ],
   "source": [
    "df.info()"
   ]
  },
  {
   "cell_type": "code",
   "execution_count": 7,
   "metadata": {},
   "outputs": [
    {
     "data": {
      "text/plain": [
       "117626"
      ]
     },
     "execution_count": 7,
     "metadata": {},
     "output_type": "execute_result"
    }
   ],
   "source": [
    "# csv파일을 mysql에 집어넣기\n",
    "# name= table명\n",
    "# con= connect할 때 들어가는 아이디 비밀번호 등등\n",
    "# if_exists= 'append' : 기존 테이블이 있는 경우 데이터를 추가\n",
    "     # 'fail' : 기존 테이블이 있는 경우 아무일도 없지만 없을 경우 valuesError뜸\n",
    "     # 'replace' : 기존 테이블이 있을 경우, 기존 테이블을 삭제하고 다시 테이블을\n",
    "     # 만들어서 데이터를 넣음\n",
    "df.to_sql(name='stock', con=engine, if_exists='append', index=False)"
   ]
  },
  {
   "cell_type": "code",
   "execution_count": 8,
   "metadata": {},
   "outputs": [],
   "source": [
    "\n",
    "conn.close()"
   ]
  },
  {
   "cell_type": "code",
   "execution_count": 9,
   "metadata": {},
   "outputs": [],
   "source": [
    "host_name = \"localhost\"\n",
    "username = 'root'\n",
    "password = '1234'\n",
    "database_name = 'sakila'"
   ]
  },
  {
   "cell_type": "code",
   "execution_count": 10,
   "metadata": {},
   "outputs": [],
   "source": [
    "db1 = pymysql.connect(\n",
    "    host= host_name\n",
    "    , port=3306\n",
    "    , user=username\n",
    "    , password=password\n",
    "    , db=database_name\n",
    "    , charset='utf8'\n",
    ")"
   ]
  },
  {
   "cell_type": "code",
   "execution_count": 11,
   "metadata": {},
   "outputs": [
    {
     "name": "stderr",
     "output_type": "stream",
     "text": [
      "d:\\Anaconda3\\envs\\trad\\lib\\site-packages\\pandas\\io\\sql.py:761: UserWarning: pandas only support SQLAlchemy connectable(engine/connection) ordatabase string URI or sqlite3 DBAPI2 connectionother DBAPI2 objects are not tested, please consider using SQLAlchemy\n",
      "  warnings.warn(\n"
     ]
    },
    {
     "name": "stdout",
     "output_type": "stream",
     "text": [
      "        Unnamed: 0    시간     시가     고가     저가     종가  전일대비     거래량  \\\n",
      "0         20221101  1530  83900  83900  83900  83900     0  209606   \n",
      "1         20221101  1520  83900  83900  83700  83800     0   19759   \n",
      "2         20221101  1519  83900  83900  83800  83900     0   13595   \n",
      "3         20221101  1518  83800  83900  83700  83900     0   11513   \n",
      "4         20221101  1517  83700  83800  83700  83800     0   21585   \n",
      "...            ...   ...    ...    ...    ...    ...   ...     ...   \n",
      "117621    20201023  1449  84400  84500  84400  84500     0    1823   \n",
      "117622    20201023  1448  84500  84500  84400  84500     0    2240   \n",
      "117623    20201023  1447  84500  84500  84400  84400     0    1302   \n",
      "117624    20201023  1446  84500  84500  84400  84500     0    1538   \n",
      "117625    20201023  1445  84400  84500  84400  84500     0    2685   \n",
      "\n",
      "               거래대금  누적체결매도수량  ...  외국인현보유비율  수정주가일자  수정주가비율  기관순매수량  \\\n",
      "0       17585940000   1613467  ...       0.0       0     0.0       0   \n",
      "1        1656510000   1613467  ...       0.0       0     0.0       0   \n",
      "2        1140060000   1602228  ...       0.0       0     0.0       0   \n",
      "3         965320000   1596588  ...       0.0       0     0.0       0   \n",
      "4        1808650000   1595340  ...       0.0       0     0.0       0   \n",
      "...             ...       ...  ...       ...     ...     ...     ...   \n",
      "117621    153950000   1117768  ...       0.0       0     0.0       0   \n",
      "117622    189190000   1116900  ...       0.0       0     0.0       0   \n",
      "117623    109940000   1115948  ...       0.0       0     0.0       0   \n",
      "117624    129890000   1115184  ...       0.0       0     0.0       0   \n",
      "117625    226650000   1114460  ...       0.0       0     0.0       0   \n",
      "\n",
      "        기관누적순매수량  등락주선  등락비율  예탁금  주식회전율  거래성립률  \n",
      "0              0     0   0.0    0    0.0    0.0  \n",
      "1              0     0   0.0    0    0.0    0.0  \n",
      "2              0     0   0.0    0    0.0    0.0  \n",
      "3              0     0   0.0    0    0.0    0.0  \n",
      "4              0     0   0.0    0    0.0    0.0  \n",
      "...          ...   ...   ...  ...    ...    ...  \n",
      "117621         0     0   0.0    0    0.0    0.0  \n",
      "117622         0     0   0.0    0    0.0    0.0  \n",
      "117623         0     0   0.0    0    0.0    0.0  \n",
      "117624         0     0   0.0    0    0.0    0.0  \n",
      "117625         0     0   0.0    0    0.0    0.0  \n",
      "\n",
      "[117626 rows x 25 columns]\n"
     ]
    }
   ],
   "source": [
    "sql = 'select * from stock'\n",
    "df2 = pd.read_sql(sql,con=db1)\n",
    "print(df)"
   ]
  },
  {
   "cell_type": "code",
   "execution_count": 12,
   "metadata": {},
   "outputs": [
    {
     "name": "stdout",
     "output_type": "stream",
     "text": [
      "<class 'pandas.core.frame.DataFrame'>\n",
      "RangeIndex: 117626 entries, 0 to 117625\n",
      "Data columns (total 25 columns):\n",
      " #   Column      Non-Null Count   Dtype  \n",
      "---  ------      --------------   -----  \n",
      " 0   Unnamed: 0  117626 non-null  int64  \n",
      " 1   시간          117626 non-null  int64  \n",
      " 2   시가          117626 non-null  int64  \n",
      " 3   고가          117626 non-null  int64  \n",
      " 4   저가          117626 non-null  int64  \n",
      " 5   종가          117626 non-null  int64  \n",
      " 6   전일대비        117626 non-null  int64  \n",
      " 7   거래량         117626 non-null  int64  \n",
      " 8   거래대금        117626 non-null  int64  \n",
      " 9   누적체결매도수량    117626 non-null  int64  \n",
      " 10  상장주식수       117626 non-null  int64  \n",
      " 11  시가총액        117626 non-null  int64  \n",
      " 12  외국인주문한도수량   117626 non-null  int64  \n",
      " 13  외국인주문가능수량   117626 non-null  int64  \n",
      " 14  외국인현보유수량    117626 non-null  int64  \n",
      " 15  외국인현보유비율    117626 non-null  float64\n",
      " 16  수정주가일자      117626 non-null  int64  \n",
      " 17  수정주가비율      117626 non-null  float64\n",
      " 18  기관순매수량      117626 non-null  int64  \n",
      " 19  기관누적순매수량    117626 non-null  int64  \n",
      " 20  등락주선        117626 non-null  int64  \n",
      " 21  등락비율        117626 non-null  float64\n",
      " 22  예탁금         117626 non-null  int64  \n",
      " 23  주식회전율       117626 non-null  float64\n",
      " 24  거래성립률       117626 non-null  float64\n",
      "dtypes: float64(5), int64(20)\n",
      "memory usage: 22.4 MB\n"
     ]
    }
   ],
   "source": [
    "df2.info()"
   ]
  },
  {
   "cell_type": "code",
   "execution_count": 13,
   "metadata": {},
   "outputs": [],
   "source": [
    "df2 = df.astype({'Unnamed: 0':'int32'})\n",
    "df = df.astype({'시간':'int16'})\n",
    "df = df.astype({'시가':'int32'})\n",
    "df = df.astype({'고가':'int32'})\n",
    "df = df.astype({'저가':'int32'})\n",
    "df = df.astype({'종가':'int32'})\n",
    "df = df.astype({'전일대비':'int32'})\n",
    "df = df.astype({'거래량':'int32'})\n",
    "df = df.astype({'거래대금':'int64'})\n",
    "df = df.astype({'누적체결매도수량':'int32'})\n",
    "df = df.astype({'상장주식수':'int32'})\n",
    "df = df.astype({'시가총액':'int64'})\n",
    "df = df.astype({'외국인주문한도수량':'int32'})\n",
    "df = df.astype({'외국인주문가능수량':'int32'})\n",
    "df = df.astype({'외국인현보유수량':'int32'})\n",
    "df = df.astype({'외국인현보유비율':'float32'})\n",
    "df = df.astype({'수정주가일자':'int32'})\n",
    "df = df.astype({'수정주가비율':'float32'})\n",
    "df = df.astype({'기관순매수량':'int32'})\n",
    "df = df.astype({'기관누적순매수량':'int32'})\n",
    "df = df.astype({'등락주선':'int32'})\n",
    "df = df.astype({'등락비율':'float32'})\n",
    "df = df.astype({'예탁금':'int64'})\n",
    "df = df.astype({'주식회전율':'float32'})\n",
    "df = df.astype({'거래성립률':'float32'})\n"
   ]
  },
  {
   "cell_type": "code",
   "execution_count": 22,
   "metadata": {},
   "outputs": [
    {
     "name": "stdout",
     "output_type": "stream",
     "text": [
      "<class 'pandas.core.frame.DataFrame'>\n",
      "RangeIndex: 117626 entries, 0 to 117625\n",
      "Data columns (total 25 columns):\n",
      " #   Column      Non-Null Count   Dtype  \n",
      "---  ------      --------------   -----  \n",
      " 0   Unnamed: 0  117626 non-null  int32  \n",
      " 1   시간          117626 non-null  int16  \n",
      " 2   시가          117626 non-null  int32  \n",
      " 3   고가          117626 non-null  int32  \n",
      " 4   저가          117626 non-null  int32  \n",
      " 5   종가          117626 non-null  int32  \n",
      " 6   전일대비        117626 non-null  int32  \n",
      " 7   거래량         117626 non-null  int32  \n",
      " 8   거래대금        117626 non-null  int64  \n",
      " 9   누적체결매도수량    117626 non-null  int32  \n",
      " 10  상장주식수       117626 non-null  int32  \n",
      " 11  시가총액        117626 non-null  int64  \n",
      " 12  외국인주문한도수량   117626 non-null  int32  \n",
      " 13  외국인주문가능수량   117626 non-null  int32  \n",
      " 14  외국인현보유수량    117626 non-null  int32  \n",
      " 15  외국인현보유비율    117626 non-null  float32\n",
      " 16  수정주가일자      117626 non-null  int32  \n",
      " 17  수정주가비율      117626 non-null  float32\n",
      " 18  기관순매수량      117626 non-null  int32  \n",
      " 19  기관누적순매수량    117626 non-null  int32  \n",
      " 20  등락주선        117626 non-null  int32  \n",
      " 21  등락비율        117626 non-null  float32\n",
      " 22  예탁금         117626 non-null  int64  \n",
      " 23  주식회전율       117626 non-null  float32\n",
      " 24  거래성립률       117626 non-null  float32\n",
      "dtypes: float32(5), int16(1), int32(16), int64(3)\n",
      "memory usage: 12.3 MB\n"
     ]
    }
   ],
   "source": [
    "df2.info()"
   ]
  },
  {
   "cell_type": "code",
   "execution_count": 14,
   "metadata": {},
   "outputs": [
    {
     "name": "stderr",
     "output_type": "stream",
     "text": [
      "d:\\Anaconda3\\envs\\trad\\lib\\site-packages\\pandas\\io\\sql.py:761: UserWarning: pandas only support SQLAlchemy connectable(engine/connection) ordatabase string URI or sqlite3 DBAPI2 connectionother DBAPI2 objects are not tested, please consider using SQLAlchemy\n",
      "  warnings.warn(\n"
     ]
    },
    {
     "data": {
      "text/html": [
       "<div>\n",
       "<style scoped>\n",
       "    .dataframe tbody tr th:only-of-type {\n",
       "        vertical-align: middle;\n",
       "    }\n",
       "\n",
       "    .dataframe tbody tr th {\n",
       "        vertical-align: top;\n",
       "    }\n",
       "\n",
       "    .dataframe thead th {\n",
       "        text-align: right;\n",
       "    }\n",
       "</style>\n",
       "<table border=\"1\" class=\"dataframe\">\n",
       "  <thead>\n",
       "    <tr style=\"text-align: right;\">\n",
       "      <th></th>\n",
       "      <th>COUNT(*)</th>\n",
       "    </tr>\n",
       "  </thead>\n",
       "  <tbody>\n",
       "    <tr>\n",
       "      <th>0</th>\n",
       "      <td>117626</td>\n",
       "    </tr>\n",
       "  </tbody>\n",
       "</table>\n",
       "</div>"
      ],
      "text/plain": [
       "   COUNT(*)\n",
       "0    117626"
      ]
     },
     "execution_count": 14,
     "metadata": {},
     "output_type": "execute_result"
    }
   ],
   "source": [
    "sql = 'SELECT COUNT(*) FROM STOCK'\n",
    "df = pd.read_sql(sql=sql, con=db1)\n",
    "df"
   ]
  },
  {
   "cell_type": "code",
   "execution_count": 15,
   "metadata": {},
   "outputs": [],
   "source": [
    "# con = pymysql.connect(host='localhost', user='root', password='1234',\n",
    "#                       db='MySQL', charset='utf8', # 한글처리 (charset = 'utf8')\n",
    "#                       autocommit=True, # 결과 DB 반영 (Insert or update)\n",
    "#                       cursorclass=pymysql.cursors.DictCursor # DB조회시 컬럼명을 동시에 보여줌\n",
    "#                      )\n",
    "# cur = con.cursor()"
   ]
  },
  {
   "cell_type": "code",
   "execution_count": null,
   "metadata": {},
   "outputs": [],
   "source": []
  },
  {
   "cell_type": "code",
   "execution_count": 16,
   "metadata": {},
   "outputs": [],
   "source": [
    "# cur = db2.cursor()"
   ]
  },
  {
   "cell_type": "code",
   "execution_count": 17,
   "metadata": {},
   "outputs": [],
   "source": [
    "# indata = pd.read_sql_query('select * from stock_info', conn)\n",
    "# indata"
   ]
  },
  {
   "cell_type": "code",
   "execution_count": 18,
   "metadata": {},
   "outputs": [],
   "source": [
    "# cur = conn.cursor()"
   ]
  },
  {
   "cell_type": "code",
   "execution_count": 19,
   "metadata": {},
   "outputs": [],
   "source": [
    "# db.close()"
   ]
  },
  {
   "cell_type": "code",
   "execution_count": 20,
   "metadata": {},
   "outputs": [],
   "source": [
    "# cur = con.cursor()\n",
    "# # sql = \"SELECT * FROM stock_info.stock\" # customers 테이블 전체를 불러옴\n",
    "# sql = \"SELECT * FROM stock_info.stock.columns\" # customers 테이블 전체를 불러옴\n",
    "# cur.execute(sql)\n",
    "# rows = cur.fetchone()\n",
    "# con.close() # DB 연결 종료\n",
    "# print(rows)"
   ]
  },
  {
   "cell_type": "code",
   "execution_count": null,
   "metadata": {},
   "outputs": [],
   "source": []
  }
 ],
 "metadata": {
  "kernelspec": {
   "display_name": "Python 3.9.12 ('trad')",
   "language": "python",
   "name": "python3"
  },
  "language_info": {
   "codemirror_mode": {
    "name": "ipython",
    "version": 3
   },
   "file_extension": ".py",
   "mimetype": "text/x-python",
   "name": "python",
   "nbconvert_exporter": "python",
   "pygments_lexer": "ipython3",
   "version": "3.9.12"
  },
  "orig_nbformat": 4,
  "vscode": {
   "interpreter": {
    "hash": "47e3ec5c98fa5c09c516c60bee1378a8c637e5318357e9c1dcffd393b015b2be"
   }
  }
 },
 "nbformat": 4,
 "nbformat_minor": 2
}
