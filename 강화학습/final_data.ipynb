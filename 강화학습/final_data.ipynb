{
 "cells": [
  {
   "cell_type": "code",
   "execution_count": 2,
   "metadata": {},
   "outputs": [],
   "source": [
    "from sqlalchemy import create_engine\n",
    "from tqdm import tqdm\n",
    "import pandas as pd\n",
    "import numpy as np\n",
    "import pymysql"
   ]
  },
  {
   "cell_type": "code",
   "execution_count": 5,
   "metadata": {},
   "outputs": [],
   "source": [
    "# mysql connect하기 위한 아이디 비밀번호 포트 데이터베이스 등록 및 conn 리턴\n",
    "def sqlalchemy_connect_ip(ip_address, db_name):\n",
    "    engine = create_engine(\"mysql+pymysql://admin:\"\n",
    "                +\"big15\" # user password\n",
    "                +\"@{0}:3306/{1}?charset=utf8\".format(ip_address, db_name)\n",
    "                , encoding='utf8')\n",
    "    \n",
    "    return engine.connect()\n",
    "\n",
    "# mysql connect하기 위한 아이디 비밀번호 포트 데이터베이스 등록 및 conn 리턴\n",
    "def get_pymysql_connection(ip_address, db_name):\n",
    "\n",
    "    conn = pymysql.connect(host=ip_address, user='admin', password='big15'\n",
    "                        , db=db_name, charset='utf8')\n",
    "\n",
    "    return conn\n",
    "\n",
    "#DB 내 존재하는 테이블(종목) 리스트 추출\n",
    "def get_pymysql_stock_list(conn, db_name):\n",
    "\n",
    "    # 원하는 폴더의 테이블(종목) 추출\n",
    "    sql = \"SELECT TABLE_NAME FROM INFORMATION_SCHEMA.TABLES WHERE TABLE_SCHEMA = '{0}'\".format(db_name)\n",
    "\n",
    "    with conn:\n",
    "        with conn.cursor() as cur:\n",
    "            cur.execute(sql)\n",
    "            result = [item[0] for item in cur.fetchall()]\n",
    "            cur.close()\n",
    "\n",
    "            return result\n",
    "               \n",
    "# 병합을 위해 날짜만을 가지고 있는 데이터 프레임 생성\n",
    "def get_empty_day_df(sqlalchemy_conn):\n",
    "     \n",
    "    sql = \"SELECT * FROM investing_data.aedkrw내역 where 날짜 > 20210101 and 날짜 < 20211231\"\n",
    "            \n",
    "    result = sqlalchemy_conn.execute(sql)\n",
    "    empty_day_df = pd.DataFrame(result.fetchall())\n",
    "    \n",
    "    empty_day_df = empty_day_df.set_index('날짜')\n",
    "    empty_day_df = empty_day_df.notnull().replace(True, np.NaN)\n",
    "\n",
    "    empty_day_df = empty_day_df.reset_index()\n",
    "    empty_day_df = empty_day_df.drop(columns=['AEDKRW내역_종가','AEDKRW내역_오픈','AEDKRW내역_고가'\n",
    "                                      ,'AEDKRW내역_저가','AEDKRW내역_거래량','AEDKRW내역_변동'])\n",
    "    \n",
    "    return empty_day_df\n",
    "\n",
    "\n",
    "# investing Data로 이루어진 데이터 프레임 추출\n",
    "def get_sqlalchemy_investing_df(empty_day_df, investing_table_list):\n",
    "    \n",
    "    investing_df = pd.DataFrame(empty_day_df)\n",
    "    investing_df['날짜'] = investing_df['날짜'].astype(str).astype(int) \n",
    "    for table in investing_table_list:\n",
    "        conn = sqlalchemy_connect_ip('192.168.50.123', 'investing_data')\n",
    "        \n",
    "        sql = \"SELECT * FROM investing_data.`{0}` where 날짜 > 20210101 and 날짜 < 20211231\".format(table)\n",
    "        result = conn.execute(sql)\n",
    "        table_df = pd.DataFrame(result.fetchall())\n",
    "        table_df['날짜'] = table_df['날짜'].astype(str).astype(int)\n",
    "        investing_df = pd.merge(investing_df, table_df,on='날짜', how='left')\n",
    "        \n",
    "    for c in list(investing_df.columns):\n",
    "        if c.split('_')[-1] == '거래량' or c.split('_')[-1] == '변동':\n",
    "            investing_df[c] = investing_df[c].fillna(0)\n",
    "        else:\n",
    "            investing_df[c] = investing_df[c].fillna(method='bfill')\n",
    "            \n",
    "    return investing_df  \n",
    "\n",
    "# stock df와 investing df를 병합\n",
    "def get_sqlalchemy_stock_investing_merge_df(conn, stock_table_list, investing_df):\n",
    "    \n",
    "    complete_df = pd.DataFrame()\n",
    "    investing_df['날짜'] = investing_df['날짜'].astype(str).astype(int) # 날짜 타입 int로 통일\n",
    "    for table in tqdm(stock_table_list):\n",
    "        sql = \"SELECT * FROM stock_info.`{0}` where 날짜 > 20210101 and 날짜 < 20211231\".format(table)\n",
    "        table_data = conn.execute(sql)\n",
    "        stock_df = pd.DataFrame(table_data.fetchall()) # DB내 테이블을 DF로 변환\n",
    "        \n",
    "        stock_df['날짜'] = stock_df['날짜'].astype(str).astype(int) # 날짜 타입 int로 통일\n",
    "        merge_df = pd.merge(stock_df, investing_df, on='날짜') # stock df 와 investing df 를 날짜 기준으로 merge\n",
    "\n",
    "        complete_df = pd.concat([complete_df, merge_df], axis=0) # merge_Df가 된 \n",
    "        \n",
    "    conn.close()\n",
    "    return complete_df     \n"
   ]
  },
  {
   "cell_type": "code",
   "execution_count": 6,
   "metadata": {},
   "outputs": [],
   "source": [
    "pymysql_conn = get_pymysql_connection('192.168.50.123', 'investing_data')\n",
    "sqlalchemy_conn = sqlalchemy_connect_ip('192.168.50.123', 'investing_data')\n",
    "investing_table_list = get_pymysql_stock_list(pymysql_conn, 'investing_data')\n",
    "empty_day_df = get_empty_day_df(sqlalchemy_conn)\n",
    "investing_df = get_sqlalchemy_investing_df(empty_day_df, investing_table_list)"
   ]
  },
  {
   "cell_type": "code",
   "execution_count": 7,
   "metadata": {},
   "outputs": [],
   "source": [
    "# investing_df.to_csv('../cor/investing_df_update.csv', encoding='utf-8-sig')"
   ]
  },
  {
   "cell_type": "code",
   "execution_count": 8,
   "metadata": {},
   "outputs": [
    {
     "name": "stderr",
     "output_type": "stream",
     "text": [
      "100%|██████████| 1/1 [00:06<00:00,  6.86s/it]\n"
     ]
    }
   ],
   "source": [
    "pymysql_conn = get_pymysql_connection('192.168.50.123', 'investing_data')\n",
    "sqlalchemy_conn = sqlalchemy_connect_ip('192.168.50.123', 'investing_data')\n",
    "stock_table_list = ['005930'] # ,'373220','207940','000660','051910','247540','091990','066970','293490','028300'\n",
    "complete_df = get_sqlalchemy_stock_investing_merge_df(sqlalchemy_conn, stock_table_list, investing_df)\n",
    "# for code in stock_table_list:\n",
    "#     pymysql_conn = get_pymysql_connection('192.168.50.123', 'investing_data')\n",
    "#     sqlalchemy_conn = sqlalchemy_connect_ip('192.168.50.123', 'investing_data')\n",
    "#     complete_df = get_sqlalchemy_stock_investing_merge_df(sqlalchemy_conn, code, investing_df)\n",
    "#     complete_df.to_pickle(f'../colume_pickle/6개월_choice_10개_대형주_update_{code}.pkl')\n",
    "    \n",
    "# ['003070','006220','014580','118990','027410','000060','008560','003520','067290','064350']\n",
    "# get_pymysql_stock_list(pymysql_conn, 'stock_info')"
   ]
  },
  {
   "cell_type": "code",
   "execution_count": 9,
   "metadata": {},
   "outputs": [],
   "source": [
    "complete_df.to_csv('./data/csv/005930.csv', encoding='utf-8-sig')"
   ]
  },
  {
   "cell_type": "code",
   "execution_count": null,
   "metadata": {},
   "outputs": [],
   "source": []
  }
 ],
 "metadata": {
  "kernelspec": {
   "display_name": "Python 3.8.15 ('rltrader')",
   "language": "python",
   "name": "python3"
  },
  "language_info": {
   "codemirror_mode": {
    "name": "ipython",
    "version": 3
   },
   "file_extension": ".py",
   "mimetype": "text/x-python",
   "name": "python",
   "nbconvert_exporter": "python",
   "pygments_lexer": "ipython3",
   "version": "3.8.15"
  },
  "orig_nbformat": 4,
  "vscode": {
   "interpreter": {
    "hash": "682537d40640a7e76b8d1ccbf6608235a2e3aeabb8ede4a9a7910e0ff3c8bca6"
   }
  }
 },
 "nbformat": 4,
 "nbformat_minor": 2
}
