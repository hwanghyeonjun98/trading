{
 "cells": [
  {
   "cell_type": "code",
   "execution_count": 16,
   "metadata": {},
   "outputs": [],
   "source": [
    "import os\n",
    "import pickle\n",
    "import numpy as np\n",
    "import pandas as pd\n",
    "import seaborn as sns\n",
    "import tensorflow as tf\n",
    "import matplotlib.pyplot as plt\n",
    "\n",
    "from tqdm import tqdm\n",
    "from keras.models import load_model\n",
    "from sklearn.metrics import accuracy_score\n",
    "from sklearn.preprocessing import OneHotEncoder\n",
    "from sklearn.model_selection import train_test_split\n",
    "from sklearn.preprocessing import MinMaxScaler, MaxAbsScaler\n",
    "\n",
    "from tensorflow.keras import optimizers\n",
    "from tensorflow.keras.models import Model\n",
    "from tensorflow.keras.optimizers import Adam\n",
    "from tensorflow.keras.layers import Dense, LSTM\n",
    "from tensorflow.keras.activations import softmax, sigmoid\n",
    "from tensorflow.keras.callbacks import EarlyStopping, ModelCheckpoint\n",
    "from tensorflow.keras.layers import Dropout, PReLU, LeakyReLU, Input, BatchNormalization, Activation\n"
   ]
  },
  {
   "cell_type": "code",
   "execution_count": 2,
   "metadata": {},
   "outputs": [],
   "source": [
    "# tf gpu 메모리 관련 코드 \n",
    "gpus = tf.config.list_physical_devices(device_type = 'GPU')\n",
    "tf.config.experimental.set_memory_growth(gpus[0], True)"
   ]
  },
  {
   "cell_type": "code",
   "execution_count": 3,
   "metadata": {},
   "outputs": [],
   "source": [
    "os.environ[\"CUDA_VISIBLE_DEVICES\"] = \"0\""
   ]
  },
  {
   "cell_type": "code",
   "execution_count": 9,
   "metadata": {},
   "outputs": [],
   "source": [
    "with open('./pickle/pickle_df/complete/20221206_1년_10개_대형주.pkl', 'rb') as f:\n",
    "    stock_df = pickle.load(f) # 10개 대형주 df\n",
    "with open('./pickle/pickle_corr/', 'rb') as f:\n",
    "    col_list = pickle.load(f) # 상관 계수에 따른 컬럼 리스트"
   ]
  },
  {
   "cell_type": "code",
   "execution_count": 10,
   "metadata": {},
   "outputs": [
    {
     "data": {
      "text/plain": [
       "0    274942\n",
       "1    197498\n",
       "Name: pct_label, dtype: int64"
      ]
     },
     "execution_count": 10,
     "metadata": {},
     "output_type": "execute_result"
    }
   ],
   "source": [
    "# 0.5까지 0, 0.6이상 부터 1 로 labeling\n",
    "stock_df['pct_label'] = np.where(stock_df['pct_label'].values > 0.5 , 1, 0)\n",
    "stock_df['pct_label'].value_counts()"
   ]
  },
  {
   "cell_type": "code",
   "execution_count": 11,
   "metadata": {},
   "outputs": [
    {
     "name": "stdout",
     "output_type": "stream",
     "text": [
      "[0, 0, 0, 0, 0, 0, 0, 0, 0, 0, 0, 0, 0, 0, 0, 0, 0, 0, 0, 0, 0, 0, 0, 0, 0, 0, 0, 0, 0, 0, 0, 0, 0, 0, 0, 0, 0, 0, 0, 0, 0, 0, 0, 0, 0, 0, 0, 0, 0, 0, 0, 0, 0, 0, 0, 0, 0, 0, 0, 0, 0, 0, 0, 0, 0, 0, 0, 0, 0]\n"
     ]
    }
   ],
   "source": [
    "# label 원 핫 인코딩\n",
    "ohe = OneHotEncoder(sparse=False)\n",
    "y_stock_df = ohe.fit_transform(stock_df[['pct_label']])\n",
    "\n",
    "# value 컬럼 설정\n",
    "col_list = list(col_list.index) # col_list의 인덱스를 리스트로 생성\n",
    "X_stock_df = stock_df.drop(['pct_label'],axis=1)\n",
    "X_stock_df = X_stock_df.set_index(['날짜'])\n",
    "X_stock_df = X_stock_df[col_list] # col_list에 있는 컬럼들만 사용\n",
    "\n",
    "# values에 nan값이 있나 확인\n",
    "print(list(X_stock_df.isnull().sum())) "
   ]
  },
  {
   "cell_type": "code",
   "execution_count": 12,
   "metadata": {},
   "outputs": [
    {
     "name": "stdout",
     "output_type": "stream",
     "text": [
      "훈련 데이터의 크기 : (330708, 69, 1) (330708, 2)\n",
      "테스트 데이터의 크기 : (141732, 69, 1) (141732, 2)\n"
     ]
    }
   ],
   "source": [
    "min_abs_scaler = MaxAbsScaler()\n",
    "X_stock_sc = min_abs_scaler.fit_transform(X_stock_df)\n",
    "\n",
    "X_train, X_test, y_train, y_test = train_test_split(X_stock_sc, y_stock_df\n",
    "                                                    , test_size=0.3, shuffle=True\n",
    "                                                    , random_state=42, stratify=y_stock_df)\n",
    "\n",
    "X_train = X_train.reshape(X_train.shape[0], X_stock_df.shape[1], 1)\n",
    "X_test = X_test.reshape(X_test.shape[0], X_stock_df.shape[1], 1)\n",
    "print('훈련 데이터의 크기 :', X_train.shape, y_train.shape)\n",
    "print('테스트 데이터의 크기 :', X_test.shape, y_test.shape)"
   ]
  },
  {
   "cell_type": "code",
   "execution_count": 13,
   "metadata": {},
   "outputs": [
    {
     "name": "stdout",
     "output_type": "stream",
     "text": [
      "4430/4430 [==============================] - 31s 6ms/step - loss: 0.6280 - accuracy: 0.6379\n",
      "\n",
      " Test Accuracy: 0.6379\n",
      "4430/4430 [==============================] - 22s 5ms/step\n"
     ]
    },
    {
     "data": {
      "text/plain": [
       "(array([0, 1], dtype=int64), array([62122, 79610], dtype=int64))"
      ]
     },
     "execution_count": 13,
     "metadata": {},
     "output_type": "execute_result"
    }
   ],
   "source": [
    "modelpath=\"./model/lstm_30_64_5_0.001_0.07_대형주_범위(0,1)_6개월.hdf5\"\n",
    "model_pred = load_model(modelpath)\n",
    "print(\"\\n Test Accuracy: %.4f\" % (model_pred.evaluate(X_test, y_test)[1]))\n",
    "# 예측 레이블 확인\n",
    "predict = model_pred.predict(X_test)\n",
    "pred_X = tf.argmax(predict,1).numpy()\n",
    "np.unique(pred_X,return_counts=True)"
   ]
  },
  {
   "cell_type": "code",
   "execution_count": 14,
   "metadata": {},
   "outputs": [],
   "source": [
    "with open('./pickle/pickle_df/update/20221207_10개_대형주_update.pkl', 'rb') as f:\n",
    "    pred_df = pickle.load(f)"
   ]
  },
  {
   "cell_type": "code",
   "execution_count": 15,
   "metadata": {},
   "outputs": [
    {
     "data": {
      "text/plain": [
       "0    298\n",
       "1     83\n",
       "Name: pct_label, dtype: int64"
      ]
     },
     "execution_count": 15,
     "metadata": {},
     "output_type": "execute_result"
    }
   ],
   "source": [
    "pred_df['pct_label'] = np.where(pred_df['pct_label'].values > 0.5 , 1, 0)\n",
    "# pred_df['pct_label'] = np.where(pred_df['pct_label'].values > 4 , 5, pred_df['pct_label'].values)\n",
    "pred_df['pct_label'].value_counts()"
   ]
  },
  {
   "cell_type": "code",
   "execution_count": null,
   "metadata": {},
   "outputs": [
    {
     "data": {
      "text/plain": [
       "(381, 2)"
      ]
     },
     "execution_count": 11,
     "metadata": {},
     "output_type": "execute_result"
    }
   ],
   "source": [
    "y_pred_df = ohe.transform(pred_df[['pct_label']])\n",
    "y_pred_df.shape"
   ]
  },
  {
   "cell_type": "code",
   "execution_count": null,
   "metadata": {},
   "outputs": [],
   "source": [
    "# col_list = list(col_list.index)\n",
    "X_pred_df = pred_df.drop(['pct_label'],axis=1)\n",
    "X_pred_df = X_pred_df.set_index(['날짜'])\n",
    "X_pred_df = X_pred_df[col_list]\n",
    "X_pred_sc = min_abs_scaler.fit_transform(X_pred_df)\n",
    "X_pred = X_pred_sc.reshape(X_pred_sc.shape[0], model_pred.input.shape[1], 1)"
   ]
  },
  {
   "cell_type": "code",
   "execution_count": null,
   "metadata": {},
   "outputs": [
    {
     "name": "stdout",
     "output_type": "stream",
     "text": [
      "12/12 [==============================] - 0s 7ms/step\n"
     ]
    }
   ],
   "source": [
    "predict_ = model_pred.predict(X_pred)"
   ]
  },
  {
   "cell_type": "code",
   "execution_count": null,
   "metadata": {},
   "outputs": [
    {
     "data": {
      "text/plain": [
       "((array([0], dtype=int64), array([381], dtype=int64)),\n",
       " (array([0, 1], dtype=int64), array([298,  83], dtype=int64)))"
      ]
     },
     "execution_count": 14,
     "metadata": {},
     "output_type": "execute_result"
    }
   ],
   "source": [
    "pred = tf.argmax(predict_,1).numpy()\n",
    "test = tf.argmax(y_pred_df,1).numpy()\n",
    "np.unique(pred,return_counts=True), np.unique(test,return_counts=True)"
   ]
  },
  {
   "cell_type": "code",
   "execution_count": null,
   "metadata": {},
   "outputs": [
    {
     "name": "stdout",
     "output_type": "stream",
     "text": [
      "accuracy_score :  0.7821522309711286\n"
     ]
    }
   ],
   "source": [
    "acc = accuracy_score(test, pred)\n",
    "print('accuracy_score : ',acc)"
   ]
  },
  {
   "cell_type": "code",
   "execution_count": null,
   "metadata": {},
   "outputs": [
    {
     "data": {
      "text/plain": [
       "TensorShape([None, 69, 1])"
      ]
     },
     "metadata": {},
     "output_type": "display_data"
    }
   ],
   "source": [
    "# from tensorflow import keras\n",
    "# # 전이 학습할 모델 불러오기\n",
    "# modelpath=\"./model/lstm_30_64_5_0.001_0.07_대형주_범위(0,1)_6개월.hdf5\"\n",
    "# transfer_model = tf.keras.models.load_model(\n",
    "#     modelpath, custom_objects=None, compile=True, options=None\n",
    "# )\n",
    "# # keras.models.load_model(modelpath)\n",
    "# transfer_model.trainable = False\n",
    "# transfer_model.input.shape"
   ]
  },
  {
   "cell_type": "code",
   "execution_count": null,
   "metadata": {},
   "outputs": [],
   "source": []
  }
 ],
 "metadata": {
  "colab": {
   "collapsed_sections": [],
   "name": "ch12-colab.ipynb",
   "provenance": [
    {
     "file_id": "https://github.com/taehojo/deeplearning/blob/master/colab/ch12-colab.ipynb",
     "timestamp": 1642728385932
    }
   ]
  },
  "kernelspec": {
   "display_name": "Python 3.8.15 ('tfgpu')",
   "language": "python",
   "name": "python3"
  },
  "language_info": {
   "codemirror_mode": {
    "name": "ipython",
    "version": 3
   },
   "file_extension": ".py",
   "mimetype": "text/x-python",
   "name": "python",
   "nbconvert_exporter": "python",
   "pygments_lexer": "ipython3",
   "version": "3.8.15"
  },
  "vscode": {
   "interpreter": {
    "hash": "5c0d917b331d00af62a730bf0430d82d3e7e85b82585d8406073ee97cc7ea825"
   }
  }
 },
 "nbformat": 4,
 "nbformat_minor": 1
}
