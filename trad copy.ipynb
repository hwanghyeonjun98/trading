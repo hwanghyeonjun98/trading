{
 "cells": [
  {
   "cell_type": "markdown",
   "metadata": {},
   "source": [
    "# 11장 데이터 다루기"
   ]
  },
  {
   "cell_type": "markdown",
   "metadata": {},
   "source": [
    "[<img src=\"https://raw.githubusercontent.com/taehojo/taehojo.github.io/master/assets/images/linktocolab.png\" align=\"left\"/> ](https://colab.research.google.com/github/taehojo/deeplearning/blob/master/colab/ch11-colab.ipynb)"
   ]
  },
  {
   "cell_type": "markdown",
   "metadata": {},
   "source": [
    "## 5. 피마 인디언 당뇨병 예측 실행"
   ]
  },
  {
   "cell_type": "code",
   "execution_count": 13,
   "metadata": {},
   "outputs": [],
   "source": [
    "import os\n",
    "os.environ['CUDA_VISIBLE_DEVICES'] = '0'"
   ]
  },
  {
   "cell_type": "code",
   "execution_count": 14,
   "metadata": {},
   "outputs": [],
   "source": [
    "import tensorflow as tf\n",
    "from tensorflow.keras.models import Sequential\n",
    "from tensorflow.keras.layers import Dense\n",
    "\n",
    "# pandas 라이브러리를 불러옵니다.\n",
    "import pandas as pd\n",
    "\n",
    "# df = pd.read_csv('./data/000660_SK하이닉스.csv')"
   ]
  },
  {
   "cell_type": "code",
   "execution_count": 15,
   "metadata": {},
   "outputs": [
    {
     "name": "stdout",
     "output_type": "stream",
     "text": [
      "[name: \"/device:CPU:0\"\n",
      "device_type: \"CPU\"\n",
      "memory_limit: 268435456\n",
      "locality {\n",
      "}\n",
      "incarnation: 9676525844814405431\n",
      "xla_global_id: -1\n",
      ", name: \"/device:GPU:0\"\n",
      "device_type: \"GPU\"\n",
      "memory_limit: 6267797504\n",
      "locality {\n",
      "  bus_id: 1\n",
      "  links {\n",
      "  }\n",
      "}\n",
      "incarnation: 9531625519647072573\n",
      "physical_device_desc: \"device: 0, name: NVIDIA GeForce RTX 2070 SUPER, pci bus id: 0000:26:00.0, compute capability: 7.5\"\n",
      "xla_global_id: 416903419\n",
      "]\n"
     ]
    }
   ],
   "source": [
    "from tensorflow.python.client import device_lib\n",
    "\n",
    "print(device_lib.list_local_devices())"
   ]
  },
  {
   "cell_type": "code",
   "execution_count": 16,
   "metadata": {},
   "outputs": [
    {
     "name": "stderr",
     "output_type": "stream",
     "text": [
      "100%|██████████| 100000/100000 [00:00<00:00, 169913.55it/s]\n"
     ]
    }
   ],
   "source": [
    "from tqdm import tqdm\n",
    "\n",
    "years = range(1,100001)\n",
    "days = range(1,51)\n",
    "data=[]\n",
    "\n",
    "import random\n",
    "for y in tqdm(years):\n",
    "    ydata=[]\n",
    "    ry = random.randrange(0,2)\n",
    "    for r in days:\n",
    "        ydata.append(ry)\n",
    "    data.append(ydata)\n",
    "#print(data[0][0:30]) #첫 번째 해의 30일 판매 데이터 출력\n",
    "\n",
    "df = pd.DataFrame(data,index=years,columns=days)"
   ]
  },
  {
   "cell_type": "code",
   "execution_count": 17,
   "metadata": {},
   "outputs": [],
   "source": [
    "# 세부 정보를 X로 지정합니다.\n",
    "X = df.iloc[:,0:-1]\n",
    "# 당뇨병 여부를 Y로 지정합니다.\n",
    "y = df.iloc[:,-1]"
   ]
  },
  {
   "cell_type": "code",
   "execution_count": 18,
   "metadata": {},
   "outputs": [
    {
     "name": "stdout",
     "output_type": "stream",
     "text": [
      "Model: \"sequential_1\"\n",
      "_________________________________________________________________\n",
      " Layer (type)                Output Shape              Param #   \n",
      "=================================================================\n",
      " Dense_1 (Dense)             (None, 12)                600       \n",
      "                                                                 \n",
      " Dense_2 (Dense)             (None, 8)                 104       \n",
      "                                                                 \n",
      " Dense_3 (Dense)             (None, 1)                 9         \n",
      "                                                                 \n",
      "=================================================================\n",
      "Total params: 713\n",
      "Trainable params: 713\n",
      "Non-trainable params: 0\n",
      "_________________________________________________________________\n"
     ]
    }
   ],
   "source": [
    "# 모델을 설정합니다.\n",
    "model = Sequential()\n",
    "model.add(Dense(12, input_dim=49, activation='relu', name='Dense_1'))\n",
    "model.add(Dense(8, activation='relu', name='Dense_2'))\n",
    "model.add(Dense(1, activation='sigmoid',name='Dense_3'))\n",
    "model.summary()"
   ]
  },
  {
   "cell_type": "code",
   "execution_count": 19,
   "metadata": {},
   "outputs": [
    {
     "name": "stdout",
     "output_type": "stream",
     "text": [
      "CPU를 사용한 학습\n",
      "Epoch 1/3\n",
      "3125/3125 [==============================] - 8s 2ms/step - loss: 0.0253 - accuracy: 0.9997\n",
      "Epoch 2/3\n",
      "3125/3125 [==============================] - 8s 2ms/step - loss: 3.6291e-05 - accuracy: 1.0000\n",
      "Epoch 3/3\n",
      "3125/3125 [==============================] - 8s 2ms/step - loss: 4.4951e-06 - accuracy: 1.0000\n",
      "GPU를 사용한 학습\n",
      "Epoch 1/3\n",
      "3125/3125 [==============================] - 15s 5ms/step - loss: 7.1478e-07 - accuracy: 1.0000\n",
      "Epoch 2/3\n",
      "3125/3125 [==============================] - 14s 5ms/step - loss: 1.3015e-07 - accuracy: 1.0000\n",
      "Epoch 3/3\n",
      "3125/3125 [==============================] - 14s 4ms/step - loss: 3.4898e-08 - accuracy: 1.0000\n"
     ]
    }
   ],
   "source": [
    "# 모델을 컴파일합니다.\n",
    "model.compile(loss='binary_crossentropy', optimizer='adam', metrics=['accuracy'])\n",
    "\n",
    "# 모델을 실행합니다.\n",
    "\n",
    "print(\"CPU를 사용한 학습\")\n",
    "with tf.device(\"/device:CPU:0\"):\n",
    "    model.fit(X, y, batch_size=32, epochs=3)\n",
    "\n",
    "print(\"GPU를 사용한 학습\")\n",
    "with tf.device(\"/device:GPU:0\"):\n",
    "    model.fit(X, y, batch_size=32, epochs=3)"
   ]
  },
  {
   "cell_type": "code",
   "execution_count": null,
   "metadata": {},
   "outputs": [],
   "source": []
  }
 ],
 "metadata": {
  "kernelspec": {
   "display_name": "Python 3.9.0 ('py39_64')",
   "language": "python",
   "name": "python3"
  },
  "language_info": {
   "codemirror_mode": {
    "name": "ipython",
    "version": 3
   },
   "file_extension": ".py",
   "mimetype": "text/x-python",
   "name": "python",
   "nbconvert_exporter": "python",
   "pygments_lexer": "ipython3",
   "version": "3.9.0"
  },
  "vscode": {
   "interpreter": {
    "hash": "ba0654096d73ad07ae4e242be8f4d3178b2641efa6d02e9a309a397e0156a460"
   }
  }
 },
 "nbformat": 4,
 "nbformat_minor": 2
}
