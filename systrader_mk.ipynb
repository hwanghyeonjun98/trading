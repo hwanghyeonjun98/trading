{
 "cells": [
  {
   "cell_type": "code",
   "execution_count": 2,
   "metadata": {},
   "outputs": [],
   "source": [
    "import win32com.client\n",
    "import pandas as pd\n",
    "import os, glob\n",
    "import os.path\n",
    "import time\n",
    "from datetime import datetime\n",
    "from datetime import timedelta\n",
    "\n",
    "instCpCybos = win32com.client.Dispatch('CpUtil.CpCybos')\n",
    "instCpStockCode = win32com.client.Dispatch('CpUtil.CpStockCode')\n",
    "instCpCodeMgr = win32com.client.Dispatch('CpUtil.CpCodeMgr')\n",
    "instStockChart = win32com.client.Dispatch('CpSysDib.StockChart')"
   ]
  },
  {
   "cell_type": "code",
   "execution_count": 3,
   "metadata": {},
   "outputs": [
    {
     "name": "stdout",
     "output_type": "stream",
     "text": [
      "정상적으로 연결\n"
     ]
    }
   ],
   "source": [
    "# 크레온 API 연결 확인\n",
    "# <리턴값 종류 확인 필요>\n",
    "def check_connection():\n",
    "    if instCpCybos.IsConnect == 1:\n",
    "        print('정상적으로 연결')\n",
    "    else:\n",
    "        print('연결 실패')\n",
    "        \n",
    "check_connection()"
   ]
  },
  {
   "cell_type": "code",
   "execution_count": 4,
   "metadata": {},
   "outputs": [
    {
     "data": {
      "text/plain": [
       "['A005930', '삼성전자']"
      ]
     },
     "execution_count": 4,
     "metadata": {},
     "output_type": "execute_result"
    }
   ],
   "source": [
    "# 종목 이름으로 찾기\n",
    "def search_by_name(stock_name):\n",
    "    count = instCpStockCode.GetCount()\n",
    "    for i in range(count):\n",
    "        if instCpStockCode.GetData(1,i) == stock_name:\n",
    "            # GetData(x,y)\n",
    "            # x : 0 => 종목 코드\n",
    "            # x : 1 => 종목명\n",
    "            # x : 2 => ISIN 코드(ISIN : 국제 증권 식별 번호)\n",
    "            return [instCpStockCode.GetData(0,i), instCpStockCode.GetData(1,i)]\n",
    "\n",
    "search_by_name('삼성전자')"
   ]
  },
  {
   "cell_type": "code",
   "execution_count": 5,
   "metadata": {},
   "outputs": [
    {
     "data": {
      "text/plain": [
       "['A005930', '삼성전자']"
      ]
     },
     "execution_count": 5,
     "metadata": {},
     "output_type": "execute_result"
    }
   ],
   "source": [
    "# 특정 코드의 종목 찾기\n",
    "def search_by_code(stock_code):\n",
    "    count = instCpStockCode.GetCount()\n",
    "    for i in range(count):\n",
    "        if instCpStockCode.GetData(0,i) == stock_code:\n",
    "            # GetData(x,y)\n",
    "            # x : 0 => 종목 코드\n",
    "            # x : 1 => 종목명\n",
    "            # x : 2 => ISIN 코드(ISIN : 국제 증권 식별 번호)\n",
    "            return [instCpStockCode.GetData(0,i), instCpStockCode.GetData(1,i)]\n",
    "\n",
    "search_by_code('A005930')"
   ]
  },
  {
   "cell_type": "code",
   "execution_count": 6,
   "metadata": {},
   "outputs": [],
   "source": [
    "# 종목명 전체 리스트 가져오기\n",
    "# <선물이랑 ETF 쪽은 구분 필요>\n",
    "def get_stock_list():\n",
    "    count = instCpStockCode.GetCount()\n",
    "    stock_list = []\n",
    "    \n",
    "    for i in range(count):\n",
    "        stock_list.append(instCpStockCode.GetData(1,i))\n",
    "    \n",
    "    return stock_list\n",
    "\n",
    "# get_stock_list()"
   ]
  },
  {
   "cell_type": "code",
   "execution_count": 7,
   "metadata": {},
   "outputs": [],
   "source": [
    "# print(instCpCodeMgr.GetStockListByMarket(1))"
   ]
  },
  {
   "cell_type": "code",
   "execution_count": 11,
   "metadata": {},
   "outputs": [],
   "source": [
    "# 전체 종목 가져오기\n",
    "codelist = instCpCodeMgr.GetStockListByMarket(1)\n",
    "kospi = {}\n",
    "for code in codelist:\n",
    "    name = instCpCodeMgr.CodeToName(code)\n",
    "    kospi[code] = name\n",
    "    \n",
    "# kospi"
   ]
  },
  {
   "cell_type": "code",
   "execution_count": 12,
   "metadata": {},
   "outputs": [],
   "source": [
    "# \n",
    "for i, code in enumerate(codelist):\n",
    "    secondCode = instCpCodeMgr.GetStockSectionKind(code)\n",
    "    name = instCpCodeMgr.CodeToName(code)\n",
    "    # print(i, code, secondCode, name)"
   ]
  },
  {
   "cell_type": "code",
   "execution_count": 13,
   "metadata": {},
   "outputs": [],
   "source": [
    "# \n",
    "code_list = []\n",
    "for i, code in enumerate(codelist):\n",
    "    secondCode = instCpCodeMgr.GetStockSectionKind(code)\n",
    "    name = instCpCodeMgr.CodeToName(code)\n",
    "    code_list.append(code)\n",
    "# print(code_list)\n"
   ]
  },
  {
   "cell_type": "code",
   "execution_count": null,
   "metadata": {},
   "outputs": [],
   "source": [
    "import time\n",
    "# 특정 범위 일자 종목 데이터 가져오기\n",
    "def get_stock_info(stock_code, start_day, end_day, type):\n",
    "    \n",
    "    instStockChart.SetInputValue(0, stock_code) # 종목명\n",
    "    instStockChart.SetInputValue(1, ord('1')) # 1 : 기간으로 요청, 2: 개수로 요청\n",
    "    instStockChart.SetInputValue(3, start_day) # 요청 시작일\n",
    "    instStockChart.SetInputValue(2, end_day) # 요청 종료일\n",
    "    # instStockChart.SetInputValue(4, request_num) # 요청 개수\n",
    "    '''\n",
    "    # 요청할 데이터 종류(리스트 형태로 요청 가능)\n",
    "    0 : 날짜, 1 : 시간 - hhmm, 2 : 시가, 3 : 고가, 4 : 저가, 5 : 종가\n",
    "    6 : 전일대비, 8 : 거래량, 9 : 거래대금, 13 : 시가총액\n",
    "    '''\n",
    "    instStockChart.SetInputValue(5, [0, 1, 2, 3, 4, 5, 6, 8, 9, 10, 12, 13, 14, 15, 16, 17,18, 19,20,21,22,23,24,25,26])\n",
    "    instStockChart.SetInputValue(6, ord(type)) # 'D' : 일봉, 'm' : 분봉\n",
    "    instStockChart.SetInputValue(9, ord('1'))\n",
    "\n",
    "    instStockChart.BlockRequest() # 위 정보로 요청\n",
    "\n",
    "    numrow, numcolumn = instStockChart.GetHeaderValue(3), instStockChart.GetHeaderValue(2)\n",
    "\n",
    "    index = []\n",
    "    for i in range(numrow):\n",
    "        index_ = str(instStockChart.GetDataValue(0,i))\n",
    "        index.append(index_)\n",
    "\n",
    "    stock_info = pd.DataFrame(columns=numcolumn[1:], index=index)\n",
    "\n",
    "    for num in range(numrow):\n",
    "        for col in range(len(numcolumn)):\n",
    "            # 1,2,3,4,5,6,7,8,9, 10\n",
    "            stock_info.iloc[num, col-1] = str(instStockChart.GetDataValue(col,num))\n",
    "    \n",
    "    return stock_info\n",
    "\n",
    "donghwa_m = get_stock_info('A005930', '20221029', '20221102', 'm')\n",
    "donghwa_m"
   ]
  },
  {
   "cell_type": "code",
   "execution_count": null,
   "metadata": {},
   "outputs": [],
   "source": [
    "pd.options.display.max_columns=10\n",
    "donghwa_d = get_stock_info('A005930', '20201023', '20221102', 'D')\n",
    "donghwa_d"
   ]
  },
  {
   "cell_type": "code",
   "execution_count": null,
   "metadata": {},
   "outputs": [],
   "source": [
    "donghwa_m.index"
   ]
  },
  {
   "cell_type": "code",
   "execution_count": null,
   "metadata": {},
   "outputs": [],
   "source": [
    "def code_concat(code_list):\n",
    "     for code in code_list:\n",
    "          for i in range(len(code_list)):\n",
    "               concat_df = pd.DataFrame()\n",
    "               day_df= pd.read_csv('../data/day_{0}_{1}.csv'.format(search_by_code(code)[0],search_by_code(code)[1]))\n",
    "               m_df= pd.read_csv('../data/{0}_{1}.csv'.format(search_by_code(code)[0],search_by_code(code)[1]))\n",
    "               for day in m_df.index:\n",
    "                    m_df.loc[day, value_list] = day_df.loc[day, value_list].values\n",
    "                    concat_df.to_csv('../data/concat_{0}_{1}'.format(search_by_code(code)[0], search_by_code(code)[1]), encoding='utf-8-sig')\n",
    "     \n",
    "     return concat_df\n",
    "          "
   ]
  },
  {
   "cell_type": "code",
   "execution_count": null,
   "metadata": {},
   "outputs": [],
   "source": [
    "value_list = ['전일대비','상장주식수','시가총액','외국인주문한도수량','외국인주문가능수량','외국인현보유수량','외국인현보유비율','수정주가일자','수정주가비율','기관순매수량','기관누적순매수량']\n",
    "def concat_column(code_df):\n",
    "    for day in code_df.index:\n",
    "        code_df.loc[day, value_list] = code_df.loc[day, value_list].values"
   ]
  },
  {
   "cell_type": "code",
   "execution_count": null,
   "metadata": {},
   "outputs": [],
   "source": [
    "# value_list = ['전일대비','상장주식수','시가총액','외국인주문한도수량','외국인주문가능수량','외국인현보유수량','외국인현보유비율','수정주가일자','수정주가비율','기관순매수량','기관누적순매수량']\n",
    "# for day in donghwa_m.index:\n",
    "#     donghwa_m.loc[day, value_list] = donghwa_d.loc[day, value_list].values\n",
    "# # donghwa_d.loc['20221102', ['전일대비']].values\n",
    "# donghwa_m"
   ]
  },
  {
   "cell_type": "code",
   "execution_count": 14,
   "metadata": {},
   "outputs": [],
   "source": [
    "import time\n",
    "# 전체 일자 분봉 종목 데이터 가져오기\n",
    "def get_stock_info_auto(stock_code, end_day, type):\n",
    "    \n",
    "    day_format = '%Y%m%d'\n",
    "    minus_day = timedelta(days=5)\n",
    "    \n",
    "    transfer_end_day = datetime.strptime(end_day, day_format) # end_day 변환\n",
    "    pre_day = datetime.strftime(transfer_end_day - minus_day, day_format) # pre_day 계산\n",
    "    \n",
    "    stock_df = get_stock_info(stock_code, pre_day, end_day, type) # 첫번째 DF 생성\n",
    "\n",
    "    for day in range(150): # range 범위 수정하지 말 것\n",
    "        time.sleep(0.25)\n",
    "        dayily_df = pd.DataFrame()\n",
    "        transfer_pre_day = datetime.strptime(pre_day, day_format)\n",
    "        next_pre_day = datetime.strftime(transfer_pre_day - minus_day, day_format)\n",
    "\n",
    "        info_second = get_stock_info(stock_code, next_pre_day, pre_day, type)\n",
    "        \n",
    "        pre_day = next_pre_day\n",
    "        \n",
    "        stock_df = pd.concat([stock_df, info_second], axis=0)\n",
    "    \n",
    "    stock_name = search_by_code(stock_code)\n",
    "    print(stock_name, '남은 요청 횟수 :{0}'.format(instCpCybos.GetLimitRemainCount(0)))\n",
    "    stock_df.to_csv('../data/{0}_{1}.csv'.format(stock_name[0][1:],stock_name[1]), encoding='utf-8-sig')\n",
    "\n",
    "    return stock_df\n",
    "\n",
    "# samsung = get_stock_info_auto('A005930', '20221101', 'm')\n",
    "# samsung"
   ]
  },
  {
   "cell_type": "code",
   "execution_count": null,
   "metadata": {},
   "outputs": [],
   "source": [
    "FOLDER_PATH = \"../data/*\"\n",
    "file_list = glob.glob(FOLDER_PATH)\n",
    "print(\"파일 개수 \", len(file_list))\n",
    "\n",
    "for code in code_list[len(file_list):]:\n",
    "    get_stock_info_auto(code, '20221101', 'D')\n",
    "# 수정"
   ]
  },
  {
   "cell_type": "code",
   "execution_count": 20,
   "metadata": {},
   "outputs": [],
   "source": [
    "import time\n",
    "# 특정 범위 일자 종목 데이터 가져오기\n",
    "def get_stock_info_save(stock_code, start_day, end_day, type):\n",
    "    \n",
    "    instStockChart.SetInputValue(0, stock_code) # 종목명\n",
    "    instStockChart.SetInputValue(1, ord('1')) # 1 : 기간으로 요청, 2: 개수로 요청\n",
    "    instStockChart.SetInputValue(3, start_day) # 요청 시작일\n",
    "    instStockChart.SetInputValue(2, end_day) # 요청 종료일\n",
    "    # instStockChart.SetInputValue(4, request_num) # 요청 개수\n",
    "    '''\n",
    "    # 요청할 데이터 종류(리스트 형태로 요청 가능)\n",
    "    0 : 날짜, 1 : 시간 - hhmm, 2 : 시가, 3 : 고가, 4 : 저가, 5 : 종가\n",
    "    6 : 전일대비, 8 : 거래량, 9 : 거래대금, 13 : 시가총액\n",
    "    '''\n",
    "    instStockChart.SetInputValue(5, [0, 1, 2, 3, 4, 5, 6, 8, 9, 10, 12, 13, 14, 15, 16, 17,18, 19,20,21,22,23,24,25,26])\n",
    "    instStockChart.SetInputValue(6, ord(type)) # 'D' : 일봉, 'm' : 분봉\n",
    "    instStockChart.SetInputValue(9, ord('1'))\n",
    "\n",
    "    instStockChart.BlockRequest() # 위 정보로 요청\n",
    "\n",
    "    numrow, numcolumn = instStockChart.GetHeaderValue(3), instStockChart.GetHeaderValue(2)\n",
    "\n",
    "    index = []\n",
    "    for i in range(numrow):\n",
    "        index_ = str(instStockChart.GetDataValue(0,i))\n",
    "        index.append(index_)\n",
    "\n",
    "    stock_info = pd.DataFrame(columns=numcolumn[1:], index=index)\n",
    "\n",
    "    for num in range(numrow):\n",
    "        for col in range(len(numcolumn)):\n",
    "            # 1,2,3,4,5,6,7,8,9, 10\n",
    "            stock_info.iloc[num, col-1] = str(instStockChart.GetDataValue(col,num))\n",
    "\n",
    "    stock_name = search_by_code(stock_code)\n",
    "    stock_info.to_csv('d:/big15/data/day_{0}_{1}.csv'.format(stock_name[0][1:],stock_name[1]), encoding='utf-8-sig')\n",
    "    \n",
    "    return stock_info"
   ]
  },
  {
   "cell_type": "code",
   "execution_count": 22,
   "metadata": {},
   "outputs": [
    {
     "name": "stdout",
     "output_type": "stream",
     "text": [
      "파일 개수  49\n"
     ]
    }
   ],
   "source": [
    "FOLDER_PATH = \"D:/big15/data/*\"\n",
    "file_list = glob.glob(FOLDER_PATH)\n",
    "print(\"파일 개수 \", len(file_list))\n",
    "\n",
    "for code in code_list[len(file_list):]:\n",
    "    get_stock_info_save(code, '20201023', '20221101', 'D')"
   ]
  },
  {
   "cell_type": "code",
   "execution_count": null,
   "metadata": {},
   "outputs": [],
   "source": []
  }
 ],
 "metadata": {
  "kernelspec": {
   "display_name": "Python 3.9.12 ('project32')",
   "language": "python",
   "name": "python3"
  },
  "language_info": {
   "codemirror_mode": {
    "name": "ipython",
    "version": 3
   },
   "file_extension": ".py",
   "mimetype": "text/x-python",
   "name": "python",
   "nbconvert_exporter": "python",
   "pygments_lexer": "ipython3",
   "version": "3.9.12"
  },
  "orig_nbformat": 4,
  "vscode": {
   "interpreter": {
    "hash": "8fc9eba87d07d7592fd0197af0ff7fa431a736d3024b76bd8d50b5adbe763a2e"
   }
  }
 },
 "nbformat": 4,
 "nbformat_minor": 2
}
