{
 "cells": [
  {
   "cell_type": "markdown",
   "metadata": {},
   "source": [
    "# 11장 데이터 다루기"
   ]
  },
  {
   "cell_type": "markdown",
   "metadata": {},
   "source": [
    "[<img src=\"https://raw.githubusercontent.com/taehojo/taehojo.github.io/master/assets/images/linktocolab.png\" align=\"left\"/> ](https://colab.research.google.com/github/taehojo/deeplearning/blob/master/colab/ch11-colab.ipynb)"
   ]
  },
  {
   "cell_type": "markdown",
   "metadata": {},
   "source": [
    "## 5. 피마 인디언 당뇨병 예측 실행"
   ]
  },
  {
   "cell_type": "code",
   "execution_count": 37,
   "metadata": {},
   "outputs": [],
   "source": [
    "import os\n",
    "os.environ['CUDA_VISIBLE_DEVICES'] = '0'"
   ]
  },
  {
   "cell_type": "code",
   "execution_count": 38,
   "metadata": {},
   "outputs": [],
   "source": [
    "import tensorflow as tf\n",
    "from tensorflow.keras.models import Sequential\n",
    "from tensorflow.keras.layers import Dense, Activation, Embedding, LSTM, Conv1D, MaxPool1D, Attention\n",
    "from tensorflow.keras.preprocessing import sequence\n",
    "\n",
    "# pandas 라이브러리를 불러옵니다.\n",
    "import pandas as pd\n",
    "\n",
    "# df = pd.read_csv('./data/000660_SK하이닉스.csv')"
   ]
  },
  {
   "cell_type": "code",
   "execution_count": 39,
   "metadata": {},
   "outputs": [
    {
     "name": "stdout",
     "output_type": "stream",
     "text": [
      "[name: \"/device:CPU:0\"\n",
      "device_type: \"CPU\"\n",
      "memory_limit: 268435456\n",
      "locality {\n",
      "}\n",
      "incarnation: 5375338781481642765\n",
      "xla_global_id: -1\n",
      ", name: \"/device:GPU:0\"\n",
      "device_type: \"GPU\"\n",
      "memory_limit: 6267797504\n",
      "locality {\n",
      "  bus_id: 1\n",
      "  links {\n",
      "  }\n",
      "}\n",
      "incarnation: 5877839681615675920\n",
      "physical_device_desc: \"device: 0, name: NVIDIA GeForce RTX 2070 SUPER, pci bus id: 0000:26:00.0, compute capability: 7.5\"\n",
      "xla_global_id: 416903419\n",
      "]\n"
     ]
    }
   ],
   "source": [
    "from tensorflow.python.client import device_lib\n",
    "\n",
    "print(device_lib.list_local_devices())"
   ]
  },
  {
   "cell_type": "code",
   "execution_count": 40,
   "metadata": {},
   "outputs": [
    {
     "name": "stderr",
     "output_type": "stream",
     "text": [
      "100%|██████████| 1000000/1000000 [00:06<00:00, 144478.74it/s]\n"
     ]
    }
   ],
   "source": [
    "from tqdm import tqdm\n",
    "\n",
    "years = range(1,1000001)\n",
    "days = range(1,51)\n",
    "data=[]\n",
    "\n",
    "import random\n",
    "for y in tqdm(years):\n",
    "    ydata=[]\n",
    "    ry = random.randrange(0,2)\n",
    "    for r in days:\n",
    "        ydata.append(ry)\n",
    "    data.append(ydata)\n",
    "#print(data[0][0:30]) #첫 번째 해의 30일 판매 데이터 출력\n",
    "\n",
    "df = pd.DataFrame(data,index=years,columns=days)"
   ]
  },
  {
   "cell_type": "code",
   "execution_count": 41,
   "metadata": {},
   "outputs": [],
   "source": [
    "# 세부 정보를 X로 지정합니다.\n",
    "X = df.iloc[:,0:-1]\n",
    "# 당뇨병 여부를 Y로 지정합니다.\n",
    "y = df.iloc[:,-1]"
   ]
  },
  {
   "cell_type": "code",
   "execution_count": 42,
   "metadata": {},
   "outputs": [
    {
     "name": "stdout",
     "output_type": "stream",
     "text": [
      "Model: \"sequential_11\"\n",
      "_________________________________________________________________\n",
      " Layer (type)                Output Shape              Param #   \n",
      "=================================================================\n",
      " Dense_1 (Dense)             (None, 1000)              50000     \n",
      "                                                                 \n",
      " Dense_2 (Dense)             (None, 1000)              1001000   \n",
      "                                                                 \n",
      " Dense_3 (Dense)             (None, 1)                 1001      \n",
      "                                                                 \n",
      "=================================================================\n",
      "Total params: 1,052,001\n",
      "Trainable params: 1,052,001\n",
      "Non-trainable params: 0\n",
      "_________________________________________________________________\n"
     ]
    }
   ],
   "source": [
    "# 모델을 설정합니다.\n",
    "model = Sequential()\n",
    "model.add(Dense(1000, input_dim=49, activation='relu', name='Dense_1'))\n",
    "model.add(Dense(1000, activation='relu', name='Dense_2'))\n",
    "model.add(Dense(1, activation='sigmoid',name='Dense_3'))\n",
    "model.summary()"
   ]
  },
  {
   "cell_type": "code",
   "execution_count": 43,
   "metadata": {},
   "outputs": [
    {
     "name": "stdout",
     "output_type": "stream",
     "text": [
      "CPU를 사용한 학습\n",
      "31250/31250 [==============================] - 193s 6ms/step - loss: 3.7773e-04 - accuracy: 0.9999\n",
      "GPU를 사용한 학습\n",
      "31250/31250 [==============================] - 136s 4ms/step - loss: 2.2169e-09 - accuracy: 1.0000\n"
     ]
    }
   ],
   "source": [
    "# 모델을 컴파일합니다.\n",
    "model.compile(loss='binary_crossentropy', optimizer='adam', metrics=['accuracy'])\n",
    "\n",
    "# 모델을 실행합니다.\n",
    "\n",
    "print(\"CPU를 사용한 학습\")\n",
    "with tf.device(\"/device:CPU:0\"):\n",
    "    model.fit(X, y, batch_size=32, epochs=1)\n",
    "\n",
    "print(\"GPU를 사용한 학습\")\n",
    "with tf.device(\"/device:GPU:0\"):\n",
    "    model.fit(X, y, batch_size=32, epochs=1)"
   ]
  },
  {
   "cell_type": "code",
   "execution_count": null,
   "metadata": {},
   "outputs": [],
   "source": []
  }
 ],
 "metadata": {
  "kernelspec": {
   "display_name": "Python 3.9.0 ('py39_64')",
   "language": "python",
   "name": "python3"
  },
  "language_info": {
   "codemirror_mode": {
    "name": "ipython",
    "version": 3
   },
   "file_extension": ".py",
   "mimetype": "text/x-python",
   "name": "python",
   "nbconvert_exporter": "python",
   "pygments_lexer": "ipython3",
   "version": "3.9.0"
  },
  "vscode": {
   "interpreter": {
    "hash": "ba0654096d73ad07ae4e242be8f4d3178b2641efa6d02e9a309a397e0156a460"
   }
  }
 },
 "nbformat": 4,
 "nbformat_minor": 2
}
